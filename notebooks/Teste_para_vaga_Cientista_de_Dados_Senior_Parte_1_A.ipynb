{
  "cells": [
    {
      "cell_type": "markdown",
      "metadata": {
        "id": "view-in-github",
        "colab_type": "text"
      },
      "source": [
        "<a href=\"https://colab.research.google.com/github/DeepFluxion/F1rst/blob/main/notebooks/Teste_para_vaga_Cientista_de_Dados_Senior_Parte_1_A.ipynb\" target=\"_parent\"><img src=\"https://colab.research.google.com/assets/colab-badge.svg\" alt=\"Open In Colab\"/></a>"
      ]
    },
    {
      "cell_type": "markdown",
      "id": "93608093",
      "metadata": {
        "id": "93608093"
      },
      "source": [
        "## Requisitos da Parte 1 do Teste\n",
        "---\n",
        "### Parte 1: Algoritmos aplicados à base de dados de Fraudes do Kaggle.\n",
        "\n",
        "Nesta Parte 1A Foi considerado o seguinte Exemplo de Competições de Referências:\n",
        "https://www.kaggle.com/c/ieee-fraud-detection\n",
        "\n",
        "Essa parte consiste na elaboração de um Jupyter Notebook (ou outra ferramenta que lhe for mais conveniente para apresentação) com pelo menos 2 técnicas à sua escolha para resolver uma ou mais competições de Fraude contidas no Kaggle. \n",
        "\n",
        "O candidato tem a liberdade para escolha da competição que lhe for mais conveniente, bem como de unir todas as bases de dados caso queira.\n",
        "**Pacotes obrigatórios para se utilizar:** Pandas, Scikit-learn, Tensorflow (ou PyTorch).\n",
        "\n",
        "### Comentários:\n",
        "- Optou-se por uyilizar o Jupyter Notebook\n",
        "- Nesta parte 1A o desenvolvimentou focou em técnicas de Aprendizado de Máquina para classificação, empregando o pacote [Scikit-learn](https://scikit-learn.org/stable/)\n",
        "- Também empregou-se o pacote [XGBoost](https://xgboost.readthedocs.io/en/stable/) para classificação\n",
        "- Para maniputação dos dados foi usado o pacote [Pandas](https://pandas.pydata.org/)\n",
        "- Dado o grande volume de atributo recorreu-se a [Redução de Dimensionalidade](https://en.wikipedia.org/wiki/Dimensionality_reduction), tarefa na qual foi usado pacote [UMAP: Uniform Manifold Approximation and Projection for Dimension Reduction](https://umap-learn.readthedocs.io/en/latest/)]\n",
        "- Outras bibliotecas mais comuns foram empregadas\n",
        "- Foi usado o Python 3.7"
      ]
    },
    {
      "cell_type": "markdown",
      "id": "7f77ab43",
      "metadata": {
        "id": "7f77ab43"
      },
      "source": [
        "## Entendimento do Negócio - FDS (Fraud Detection Systems)\n",
        "\n",
        "### Fonte\n",
        "Para o desenvolviemnto de um projeto de Data Science é necessário, iniciar pela entendimento do problema a se resolver, estabelecer seus requisitos e desenvolver uma criação que apoia as escolhas e desenvolvimentos do projeto. Deste modo, na falta de especialistas para consulta recorreu-se a seguinte fonte:\n",
        "\n",
        "> [Reproducible Machine Learning for Credit Card Fraud Detection - Practical Handbook (2022)](https://fraud-detection-handbook.github.io/fraud-detection-handbook/Foreword.html), dos autores:  \n",
        "> * Yann-Aël Le Borgne - Machine Learning Group - Université Libre de Bruxelles, Belgium.  \n",
        "> * Wissam Siblini - Machine Learning Research - Worldline Labs   \n",
        "> * Bertrand Lebichot - Interdisciplinary Centre for Security, Reliability and Trust - Université du Luxembourg, Luxembourg \n",
        "> * Gianluca Bontempi - Machine Learning Group - Université Libre de Bruxelles, Belgium\n",
        "\n",
        "### Estrutura de um FDS\n",
        "Um sistema de detecção de fraude de cartão de crédito (FDS) é tipicamente composto por um conjunto de cinco camadas de controle [DP15, DPBC+17], conforme ilustrado na Fig. 1.\n",
        "\n",
        "![](https://fraud-detection-handbook.github.io/fraud-detection-handbook/_images/FDS.jpg)\n",
        "##### Fig. 1. Diagrama ilustrando as camadas de controle em um FDS.\n",
        "\n",
        "> O foco deste desenvolvimento é principalmente o modelo orientado a dados, que ajuda os investigadores a emitir alertas sobre as transações mais suspeitas.\n",
        "\n",
        "### Modelo orientado a dados (DDM)\n",
        "\n",
        "Essa camada é puramente orientada a dados e adota um classificador ou outro modelo estatístico para estimar a probabilidade de cada vetor de característica ser uma fraude. Essa probabilidade é usada como a pontuação de fraude associada às transações autorizadas. \n",
        "\n",
        "Assim, o modelo orientado a dados é treinado a partir de um conjunto de transações rotuladas e não pode ser interpretado ou modificado manualmente pelos investigadores. \n",
        "\n",
        "Espera-se que um modelo orientado a dados eficaz detecte padrões fraudulentos analisando simultaneamente vários componentes do vetor de recursos, possivelmente por meio de expressões não lineares. \n",
        "\n",
        "Portanto, espera-se que o DDM encontre fraudes de acordo com regras que vão além da experiência do investigador, e que não necessariamente correspondem a regras interpretáveis.\n",
        "\n",
        "> Portanto para o desenvolvimento do projeto estabeleceu-se as seguinte premissa:   \n",
        "> * Ainda que se possa empregar Apredizado de Máquina (AM) em diversas tarefas ao longa da estrutura do FDS optou-se por desenvolver um modelo para detecção de fraudes em **Transações**, portanto esse será o objeto de modelagem, ainda que com os dados disponíveis seja possível trabalhar com os usuários.\n",
        "\n",
        "### AM para detecção de fraudes em cartões de crédito (CCFD)\n",
        "\n",
        "AM para CCFD tornou-se um campo de pesquisa ativo. Isso é ilustrado por um grande número de publicações sobre o tema e suas reivindicações promissoras. Ao mesmo tempo, deve-se ter cautela na interpretação dos resultados dessas publicações. Como foi apontado em Aprendizado de máquina para detecção de fraude de cartão de crédito, o campo de AM para CCFD é relativamente novo, e não existem benchmarks reconhecidos, nem metodologias, para comparar e avaliar as técnicas propostas. Porém os autores sugerem uma metodologia básica que é apresnetada na Fig.2.\n",
        "\n",
        "![](https://fraud-detection-handbook.github.io/fraud-detection-handbook/_images/baseline_ML_workflow.png)\n",
        "#### Fig. 2. ML para CCFD: Metodologia de linha de base seguida pela maioria das abordagens propostas nas pesquisas recentes sobre o tema.\n",
        "\n",
        "\n",
        "\n",
        "\n"
      ]
    },
    {
      "cell_type": "markdown",
      "metadata": {
        "id": "7qPNZDLsGhvz"
      },
      "source": [
        "## Organização do Projeto\n",
        "O projeto foi então organizado tendo em vista atendero framework anteriormente apresentado, seguindo as etapas listadas a seguir:\n",
        "> **Etapa 1 -Entendimento e Ingestão do dados da base Kaggle.**  \n",
        "\n",
        "> **Etapa 2 -Pré processamento dos Dados.**   \n",
        "> - Etapa 2A - Eliminação dos Missing Values.\n",
        "> - Etapa 2B - Padronização.\n",
        "> - Etapa 2C - Redução de Dimensões (PCA e UMAP)\n",
        "\n",
        "> **Etapa 3 -Pré Modelagem.**   \n",
        "> - Etapa 3A - Decision Trees.\n",
        "> - Etapa 3B - SVC Linear.\n",
        "> - Etapa 3C - SVC RBF.\n",
        "> - Etapa 3D - Gaussina Naives Bayes.\n",
        "> - Etapa 3E - MLP Classifier.\n",
        "> - Etapa 3F - Random Forrest.\n",
        "> - Etapa 3G - GradientBosting.\n",
        "> - Etapa 3H - KNearestNeighbors.\n",
        "> - Etapa 3I - XGBoost.\n",
        "> - Etapa 3J - Histogram Based Gradient Boost.\n",
        "\n",
        "> **Etapa 4 -Análise dos resultados da Pré Modelagem e Seleção dos Modelos.**   \n",
        "> - Etapa 4A - Matriz de Confusão.\n",
        "> - Etapa 4B - Curva ROC.\n",
        "> - Etapa 4C - Métricas de Desempenho.\n",
        "\n",
        "> **Etapa 5 -Modelagem com os Algoritmos Selecionados e Análise de Resultados.**   \n",
        "> - Etapa 5A - Random Forrest.\n",
        "> - Etapa 5B - XGBoost.\n",
        "\n",
        "> **Etapa 6 -Análises Adicionais.**   \n",
        "> - Etapa 6A - Calibração de Probabilidades.\n",
        "> - Etapa 6B - Matriz de Custos.\n",
        "\n",
        "> **Conclusões.**\n"
      ],
      "id": "7qPNZDLsGhvz"
    },
    {
      "cell_type": "markdown",
      "id": "c0bd710d",
      "metadata": {
        "id": "c0bd710d"
      },
      "source": [
        "## Etapa 1 - Entendimento e Ingestão dos dados da base Kaggle\n",
        "\n",
        "O consjunto de dados [IEEE-CIS Fraud Detection](https://www.kaggle.com/competitions/ieee-fraud-detection) consiste em uma base de transações com cartões de crédito com 584.540 registro, cada um com 394 columnas. A atributo alvo é a coluna `isFraud` que conta com 20.663 registro com valor 1 (é Fraude)  e 563.877 com valor 0 (não é Fraude). Além disso outros atributos importantes para análise são:\n",
        "- `TransactionDT` - Data da Transação\n",
        "- `TransactionAmt` - Montante da Transação\n",
        "- `TransactionID` - ID da Transação\n",
        "\n",
        "Atributos Categóricos - Transações\n",
        "* ProductCD\n",
        "* card1 - card6\n",
        "* addr1, addr2\n",
        "* P_emaildomain\n",
        "* R_emaildomain\n",
        "* M1 - M9 \n",
        "\n",
        "Estrutura do Diretórios\n",
        "* +--Teste_1A : Armazena Notebooks e Módulos   \n",
        "    * +-- data   \n",
        "        * +-- input : dados raw extraídos do kaggle   \n",
        "        * +-- pre_processed : dados resultantes da etapa de pre processamento   \n",
        "    * +-- imagens   \n",
        "    * +-- models : arquivos de modelos salvos (deploy)    \n",
        "    * +-- metrics : arquivos de metricas   "
      ]
    },
    {
      "cell_type": "code",
      "execution_count": 1,
      "id": "412d614a",
      "metadata": {
        "id": "412d614a",
        "outputId": "fefb3334-99f1-43f8-f68d-8f2cbd8d5e32",
        "colab": {
          "base_uri": "https://localhost:8080/"
        }
      },
      "outputs": [
        {
          "output_type": "stream",
          "name": "stdout",
          "text": [
            "CPU times: user 274 ms, sys: 21.7 ms, total: 296 ms\n",
            "Wall time: 300 ms\n"
          ]
        }
      ],
      "source": [
        "%%time\n",
        "\n",
        "# importação das bibliotecas\n",
        "import os # manipulação de diretórios e arquivos\n",
        "import pandas as pd\n",
        "import warnings # manipulação de warnings no jupyter notebook\n",
        "import gc # limpar o lixo da memoria\n",
        "\n",
        "gc.collect() # recolhe o lixo\n",
        "warnings.filterwarnings('ignore')# ignora warnings"
      ]
    },
    {
      "cell_type": "code",
      "source": [
        "# Criando os diretórios\n",
        "dirs = ['/content/data','/content/imagens','/content/models','/content/metrics','/content/data/input','/content/data/pre_processed']\n",
        "for dir in dirs:\n",
        "  if not os.path.isdir(dir):\n",
        "    os.mkdir(dir)\n",
        "# Se estiver no Colab, apór executar este passo não esqueça de atualizar a barra aletra de arquivos"
      ],
      "metadata": {
        "id": "_w1wNkbvif1_"
      },
      "id": "_w1wNkbvif1_",
      "execution_count": 5,
      "outputs": []
    },
    {
      "cell_type": "code",
      "execution_count": 6,
      "id": "52dbe55a",
      "metadata": {
        "id": "52dbe55a",
        "outputId": "6ef1458a-8893-47ba-812a-3045625d65f2",
        "colab": {
          "base_uri": "https://localhost:8080/"
        }
      },
      "outputs": [
        {
          "output_type": "stream",
          "name": "stdout",
          "text": [
            "CPU times: user 12.7 ms, sys: 1.34 ms, total: 14 ms\n",
            "Wall time: 387 ms\n"
          ]
        }
      ],
      "source": [
        "%%time\n",
        "\n",
        "# A planilha names mapea a colunas os nomes das colunas a serem utilizadas\n",
        "\n",
        "url = 'https://raw.githubusercontent.com/DeepFluxion/F1rst/main/data/pre_processed/names.csv'\n",
        "dn = pd.read_csv(url,sep=';')\n",
        "col_number = dn.loc[dn['use']==1,'col_number'].values.tolist() # mapea a posição das colunas a serem usadas\n",
        "col_names = dn.loc[dn['use']==1,'col_name'].values.tolist() # mapea o nome das colunas a serem usadas"
      ]
    },
    {
      "cell_type": "code",
      "execution_count": 7,
      "id": "bffb79d2",
      "metadata": {
        "id": "bffb79d2",
        "outputId": "61092c23-a369-454e-fe07-1569b1868774",
        "colab": {
          "base_uri": "https://localhost:8080/"
        }
      },
      "outputs": [
        {
          "output_type": "stream",
          "name": "stdout",
          "text": [
            "CPU times: user 17 s, sys: 1.3 s, total: 18.3 s\n",
            "Wall time: 1min 14s\n"
          ]
        }
      ],
      "source": [
        "%%time\n",
        "\n",
        "# para diminuir o uso de memóri trabalhou-se a ingestão dos dados em partes de 2o000 linhas, \n",
        "# reduzindo tempo de processamento e permitindo usar o Github\n",
        "# Os dataframes foram persistidos na lista ddf\n",
        "ddf=[]\n",
        "rows =0\n",
        "url = 'https://raw.githubusercontent.com/DeepFluxion/F1rst/main/data/pre_processed/transactions_part_'\n",
        "\n",
        "for u in range(30):\n",
        "    \n",
        "    df = pd.read_csv(url+str(u)+'.csv', index_col=0)\n",
        "    ddf.append(df)"
      ]
    },
    {
      "cell_type": "code",
      "execution_count": 8,
      "id": "9c46c945",
      "metadata": {
        "id": "9c46c945",
        "outputId": "24e513fb-466a-477f-b857-f1aa8968855d",
        "colab": {
          "base_uri": "https://localhost:8080/"
        }
      },
      "outputs": [
        {
          "output_type": "stream",
          "name": "stdout",
          "text": [
            "CPU times: user 1.17 s, sys: 48.1 ms, total: 1.21 s\n",
            "Wall time: 1.2 s\n"
          ]
        }
      ],
      "source": [
        "%%time\n",
        "\n",
        "ddf[0]=ddf[0].drop(labels=0, axis=0) # elimina a primeira linha do primeiro df, que repete o cabeçalho\n",
        "# definindo o dtype das colunas\n",
        "for df in ddf:\n",
        "    df.loc[:,'isFraud'].astype('int')\n",
        "    df.loc[:,'TransactionID'].astype('int')\n",
        "    df.loc[:,'TransactionDT'].astype('int')\n",
        "    df.iloc[:,3:].astype('float')"
      ]
    },
    {
      "cell_type": "code",
      "execution_count": 9,
      "id": "5906b86b",
      "metadata": {
        "id": "5906b86b",
        "outputId": "7d647400-97d3-4f25-9a20-533304f130b5",
        "colab": {
          "base_uri": "https://localhost:8080/"
        }
      },
      "outputs": [
        {
          "output_type": "stream",
          "name": "stdout",
          "text": [
            "0.02590129506475324\n",
            "0.02835\n",
            "0.02565\n",
            "0.02415\n",
            "0.0218\n",
            "0.01545\n",
            "0.0372\n",
            "0.0376\n",
            "0.03875\n",
            "0.04415\n",
            "0.03965\n",
            "0.04755\n",
            "0.0403\n",
            "0.04035\n",
            "0.0359\n",
            "0.03925\n",
            "0.03015\n",
            "0.03365\n",
            "0.041\n",
            "0.04615\n",
            "0.0441\n",
            "0.031\n",
            "0.04\n",
            "0.03535\n",
            "0.03045\n",
            "0.03005\n",
            "0.0318\n",
            "0.03565\n",
            "0.03915\n",
            "0.03880087278246846\n",
            "CPU times: user 21.1 ms, sys: 147 µs, total: 21.2 ms\n",
            "Wall time: 19 ms\n"
          ]
        }
      ],
      "source": [
        "%%time\n",
        "# Vamos checar a % de positivos para Fraudes em cada df\n",
        "for df in ddf:\n",
        "    print((df.loc[:,'isFraud']==1).sum()/df.shape[0])"
      ]
    },
    {
      "cell_type": "code",
      "execution_count": 10,
      "id": "fae13239",
      "metadata": {
        "id": "fae13239",
        "outputId": "dca16e64-b1e8-4a5a-c72a-1071e7ca9953",
        "colab": {
          "base_uri": "https://localhost:8080/"
        }
      },
      "outputs": [
        {
          "output_type": "stream",
          "name": "stdout",
          "text": [
            "CPU times: user 2.72 s, sys: 3.15 s, total: 5.86 s\n",
            "Wall time: 5.8 s\n"
          ]
        }
      ],
      "source": [
        "%%time\n",
        "# concatenar os dataframes para reduzir a ocupação da memória\n",
        "df = pd.concat(ddf,axis=0,ignore_index=True)\n",
        "df.head()\n",
        "# Deletar ddf e eliminar os dado para liberar RAM\n",
        "del ddf\n",
        "gc.collect()"
      ]
    },
    {
      "cell_type": "code",
      "source": [
        "df.shape"
      ],
      "metadata": {
        "colab": {
          "base_uri": "https://localhost:8080/"
        },
        "id": "YubWq618k5ue",
        "outputId": "1d17d244-59db-4ea8-cf55-710016e6218c"
      },
      "id": "YubWq618k5ue",
      "execution_count": 11,
      "outputs": [
        {
          "output_type": "execute_result",
          "data": {
            "text/plain": [
              "(590540, 372)"
            ]
          },
          "metadata": {},
          "execution_count": 11
        }
      ]
    },
    {
      "cell_type": "markdown",
      "metadata": {
        "id": "GOqkWLAmGhwA"
      },
      "source": [
        "### Resumo Etapa 1 - Entendimento e Ingestão dos dados da base Kaggle\n",
        "\n",
        "- Por limitação da memória e maio velocidade, e também pela limitação tamanho dos arquivos no Github a 25 MB, os dados foram carregados em partes e na sequência reagregados\n",
        "- Foram eliminadas as varáiveis categóricas\n",
        "    * ProductCD\n",
        "    * card1 - card6\n",
        "    * addr1, addr2\n",
        "    * P_emaildomain\n",
        "    * R_emaildomain\n",
        "    * M1 - M9 "
      ],
      "id": "GOqkWLAmGhwA"
    },
    {
      "cell_type": "markdown",
      "metadata": {
        "id": "zV2T5D3mGhwB"
      },
      "source": [
        "## Etapa 2 -Pré processamento dos Dados.\n",
        "\n",
        "Esta etapa consiste das seguintes sub etapas:   \n",
        "- **- Etapa 2A - Eliminação dos Missing Values**   \n",
        "    - Nesta subetapa sao quantificadas os tais de missing values de cada coluna, que são elimnadas a partir de um limiar de percentual (> 25%) a seguir as linhas com missing values são eliminadas   \n",
        "- **- Etapa 2B - Padronização**   \n",
        "    - nesta subetapa os dados são padronizados utilizando a classe `StandardScaler()` do `Scikit Learn`.     \n",
        "- **- Etapa 2C - Redução de Dimensões (PCA e UMAP)**     \n",
        "    - Nesta subetapa  a classe `PCA()` do `Scikit` e o pacote `UMAP` são usados para reduzir a dimiensionalidade do conjunto de dados afim de otimizar o tempo e uso de memória para fazer a pré-seleção dos modelos e também gerar uma segunda base com os atributos selecionados pela razão de variância explicada obtida pelo método `explained_variance_ratio_` da classe `PCA`. A quantidade de atributos que garantem mai de 90% de poder de explicação é usada na operação com UMAP.     \n",
        "- **- Resumo Etapa 2**\n"
      ],
      "id": "zV2T5D3mGhwB"
    },
    {
      "cell_type": "markdown",
      "metadata": {
        "id": "kMoLVNiKGhwC"
      },
      "source": [
        "### Etapa 2A - Eliminação dos Missing Values"
      ],
      "id": "kMoLVNiKGhwC"
    },
    {
      "cell_type": "code",
      "execution_count": 12,
      "id": "1760ddd2",
      "metadata": {
        "id": "1760ddd2",
        "outputId": "12cc0360-c65a-48fb-bb19-c7f9d790fc99",
        "colab": {
          "base_uri": "https://localhost:8080/"
        }
      },
      "outputs": [
        {
          "output_type": "stream",
          "name": "stdout",
          "text": [
            "CPU times: user 6.98 s, sys: 31.7 ms, total: 7.01 s\n",
            "Wall time: 6.9 s\n"
          ]
        }
      ],
      "source": [
        "%%time\n",
        "# Quantificando os missing values em cada coluna\n",
        "na_columns = df.isna().sum()/df.shape[0]"
      ]
    },
    {
      "cell_type": "code",
      "execution_count": 13,
      "metadata": {
        "id": "XqxYvcYcGhwE",
        "outputId": "cc462bee-66d6-4a71-8931-7933b526d69a",
        "colab": {
          "base_uri": "https://localhost:8080/"
        }
      },
      "outputs": [
        {
          "output_type": "stream",
          "name": "stdout",
          "text": [
            "CPU times: user 3.23 ms, sys: 29 µs, total: 3.26 ms\n",
            "Wall time: 3.37 ms\n"
          ]
        },
        {
          "output_type": "execute_result",
          "data": {
            "text/plain": [
              "count    372.000000\n",
              "mean       0.415653\n",
              "std        0.362087\n",
              "min        0.000000\n",
              "25%        0.001745\n",
              "50%        0.286126\n",
              "75%        0.779134\n",
              "max        0.934099\n",
              "dtype: float64"
            ]
          },
          "metadata": {},
          "execution_count": 13
        }
      ],
      "source": [
        "%%time\n",
        "# Sumarizando os missing values em cada coluna\n",
        "na_columns.describe()"
      ],
      "id": "XqxYvcYcGhwE"
    },
    {
      "cell_type": "code",
      "execution_count": 14,
      "metadata": {
        "id": "WKQImxTYGhwE",
        "outputId": "84158dfd-9348-4e4e-81c6-ad862c4f5ce6",
        "colab": {
          "base_uri": "https://localhost:8080/"
        }
      },
      "outputs": [
        {
          "output_type": "stream",
          "name": "stdout",
          "text": [
            "CPU times: user 5.95 s, sys: 1.66 s, total: 7.61 s\n",
            "Wall time: 7.37 s\n"
          ]
        }
      ],
      "source": [
        "%%time\n",
        "# Eliminando as colunas com mais de 25% de missing values\n",
        "df.drop(na_columns[na_columns>0.25].index.tolist(),axis=1, inplace=True)"
      ],
      "id": "WKQImxTYGhwE"
    },
    {
      "cell_type": "code",
      "execution_count": 15,
      "metadata": {
        "id": "EKvaYaIaGhwF",
        "outputId": "1a5cfeef-57a2-4622-dd95-bbb8f266e6bc",
        "colab": {
          "base_uri": "https://localhost:8080/"
        }
      },
      "outputs": [
        {
          "output_type": "stream",
          "name": "stdout",
          "text": [
            "CPU times: user 3.94 s, sys: 18.8 ms, total: 3.96 s\n",
            "Wall time: 3.91 s\n"
          ]
        }
      ],
      "source": [
        "%%time\n",
        "# Eliminado as linhas com missing values\n",
        "df.dropna(inplace=True)"
      ],
      "id": "EKvaYaIaGhwF"
    },
    {
      "cell_type": "code",
      "execution_count": 16,
      "metadata": {
        "id": "iwb4hHBdGhwG",
        "outputId": "5656069b-c8bd-4905-9b4f-19d92c78c4c2",
        "colab": {
          "base_uri": "https://localhost:8080/"
        }
      },
      "outputs": [
        {
          "output_type": "stream",
          "name": "stdout",
          "text": [
            "(490634, 172)\n",
            "0\n",
            "CPU times: user 2.64 s, sys: 22.2 ms, total: 2.66 s\n",
            "Wall time: 2.62 s\n"
          ]
        }
      ],
      "source": [
        "%%time\n",
        "# verificando o tamanho do dataframe resultante\n",
        "print(df.shape)\n",
        "print((df.isna().sum()).sum())"
      ],
      "id": "iwb4hHBdGhwG"
    },
    {
      "cell_type": "code",
      "execution_count": 17,
      "metadata": {
        "id": "rymXHd9-GhwH",
        "outputId": "ae919e65-c187-44c2-db48-6f072bdc5522",
        "colab": {
          "base_uri": "https://localhost:8080/"
        }
      },
      "outputs": [
        {
          "output_type": "stream",
          "name": "stdout",
          "text": [
            "CPU times: user 23.3 s, sys: 453 ms, total: 23.8 s\n",
            "Wall time: 23.7 s\n"
          ]
        }
      ],
      "source": [
        "%%time\n",
        "# exportando o resultado final para um arquivo csv\n",
        "df.to_csv('/content/data/pre_processed/transactions_red.csv')\n",
        "# deletando df e limpando a RAM\n",
        "del df\n",
        "gc.collect()"
      ],
      "id": "rymXHd9-GhwH"
    },
    {
      "cell_type": "markdown",
      "metadata": {
        "id": "2RSkoEkyGhwI"
      },
      "source": [
        "#### Resumo Etapa 2A - Entendimento e Ingestão dos dados da base Kaggle\n",
        "\n",
        "- Com a eliminação dos missing values será analisada uma base de 490634 registros com 172 atributos cada (~ 83% do total de registros), o que se considera-se aceitável\n",
        "- Do ponto de vista do modelo esta operação de redução pode resultar em diminuição da informação resultando numa precisão menor\n",
        "- O recomendável seria uma avaliação do significado de cada atributo eliminado junto a um especialista, o que não está disponível\n",
        "- Do ponto de vista operacional, caso não houvesse restrição de memória, o procedimento seria mantido resultando em mais registros para análise resultando num modelo mais completo"
      ],
      "id": "2RSkoEkyGhwI"
    },
    {
      "cell_type": "markdown",
      "metadata": {
        "id": "5Ouuq7zEGhwJ"
      },
      "source": [
        "### Etapa 2B - Padronização"
      ],
      "id": "5Ouuq7zEGhwJ"
    },
    {
      "cell_type": "code",
      "execution_count": 18,
      "metadata": {
        "id": "K43L9m1-GhwJ",
        "outputId": "c70cd0ba-fb23-4bcb-9502-38e3dd8c5f5f",
        "colab": {
          "base_uri": "https://localhost:8080/"
        }
      },
      "outputs": [
        {
          "output_type": "stream",
          "name": "stdout",
          "text": [
            "Collecting umap-learn\n",
            "  Downloading umap-learn-0.5.2.tar.gz (86 kB)\n",
            "\u001b[K     |████████████████████████████████| 86 kB 3.1 MB/s \n",
            "\u001b[?25hRequirement already satisfied: numpy>=1.17 in /usr/local/lib/python3.7/dist-packages (from umap-learn) (1.21.5)\n",
            "Requirement already satisfied: scikit-learn>=0.22 in /usr/local/lib/python3.7/dist-packages (from umap-learn) (1.0.2)\n",
            "Requirement already satisfied: scipy>=1.0 in /usr/local/lib/python3.7/dist-packages (from umap-learn) (1.4.1)\n",
            "Requirement already satisfied: numba>=0.49 in /usr/local/lib/python3.7/dist-packages (from umap-learn) (0.51.2)\n",
            "Collecting pynndescent>=0.5\n",
            "  Downloading pynndescent-0.5.6.tar.gz (1.1 MB)\n",
            "\u001b[K     |████████████████████████████████| 1.1 MB 13.5 MB/s \n",
            "\u001b[?25hRequirement already satisfied: tqdm in /usr/local/lib/python3.7/dist-packages (from umap-learn) (4.63.0)\n",
            "Requirement already satisfied: setuptools in /usr/local/lib/python3.7/dist-packages (from numba>=0.49->umap-learn) (57.4.0)\n",
            "Requirement already satisfied: llvmlite<0.35,>=0.34.0.dev0 in /usr/local/lib/python3.7/dist-packages (from numba>=0.49->umap-learn) (0.34.0)\n",
            "Requirement already satisfied: joblib>=0.11 in /usr/local/lib/python3.7/dist-packages (from pynndescent>=0.5->umap-learn) (1.1.0)\n",
            "Requirement already satisfied: threadpoolctl>=2.0.0 in /usr/local/lib/python3.7/dist-packages (from scikit-learn>=0.22->umap-learn) (3.1.0)\n",
            "Building wheels for collected packages: umap-learn, pynndescent\n",
            "  Building wheel for umap-learn (setup.py) ... \u001b[?25l\u001b[?25hdone\n",
            "  Created wheel for umap-learn: filename=umap_learn-0.5.2-py3-none-any.whl size=82708 sha256=911985b43363e6670b32721cec471852f18e8709909b8fa4229b67ba1220465d\n",
            "  Stored in directory: /root/.cache/pip/wheels/84/1b/c6/aaf68a748122632967cef4dffef68224eb16798b6793257d82\n",
            "  Building wheel for pynndescent (setup.py) ... \u001b[?25l\u001b[?25hdone\n",
            "  Created wheel for pynndescent: filename=pynndescent-0.5.6-py3-none-any.whl size=53943 sha256=dc76ddf2b43f4c77d23b6409c9073ac99d36109cba451cabe45d03bd5775350b\n",
            "  Stored in directory: /root/.cache/pip/wheels/03/f1/56/f80d72741e400345b5a5b50ec3d929aca581bf45e0225d5c50\n",
            "Successfully built umap-learn pynndescent\n",
            "Installing collected packages: pynndescent, umap-learn\n",
            "Successfully installed pynndescent-0.5.6 umap-learn-0.5.2\n"
          ]
        }
      ],
      "source": [
        "# caso o UMAP não esteja instalado execute a linha a seguir deletando o #\n",
        "\n",
        "! pip install umap-learn"
      ],
      "id": "K43L9m1-GhwJ"
    },
    {
      "cell_type": "code",
      "execution_count": 19,
      "metadata": {
        "id": "4FTlF_mYGhwJ",
        "outputId": "4da8c857-3c65-450c-c765-58a5044a532a",
        "colab": {
          "base_uri": "https://localhost:8080/"
        }
      },
      "outputs": [
        {
          "output_type": "stream",
          "name": "stdout",
          "text": [
            "CPU times: user 12.6 s, sys: 715 ms, total: 13.3 s\n",
            "Wall time: 13.7 s\n"
          ]
        }
      ],
      "source": [
        "%%time\n",
        "# importando as biblitecas\n",
        "import matplotlib.pyplot as plt\n",
        "import numpy as np\n",
        "import pandas as pd \n",
        "import seaborn as sns\n",
        "import os\n",
        "from sklearn.decomposition import PCA\n",
        "from sklearn.preprocessing import StandardScaler\n",
        "import umap"
      ],
      "id": "4FTlF_mYGhwJ"
    },
    {
      "cell_type": "code",
      "execution_count": 21,
      "metadata": {
        "id": "qH9u7NfTGhwK",
        "outputId": "b7e444fa-2d6f-4dfe-c458-53a38b858154",
        "colab": {
          "base_uri": "https://localhost:8080/"
        }
      },
      "outputs": [
        {
          "output_type": "stream",
          "name": "stdout",
          "text": [
            "CPU times: user 6.72 s, sys: 411 ms, total: 7.13 s\n",
            "Wall time: 7.11 s\n"
          ]
        }
      ],
      "source": [
        " %%time\n",
        " ## vamos carregar o dataset transactios_red e selecionar aleatoriamente 50000 registros\n",
        " df = pd.read_csv('/content/data/pre_processed/transactions_red.csv',index_col=0)\n",
        " df =df.sample(n=50000, replace=False, ignore_index=True)\n",
        " # df = df.reset_index(drop=True)"
      ],
      "id": "qH9u7NfTGhwK"
    },
    {
      "cell_type": "code",
      "execution_count": 22,
      "metadata": {
        "id": "1RmctDlGGhwK",
        "outputId": "03a5ffb5-6c56-4db0-e892-3ba788e33966",
        "colab": {
          "base_uri": "https://localhost:8080/",
          "height": 235
        }
      },
      "outputs": [
        {
          "output_type": "execute_result",
          "data": {
            "text/plain": [
              "   TransactionID  isFraud  TransactionDT  TransactionAmt   C1   C2   C3   C4  \\\n",
              "0        3456681        0       12103740          159.95  4.0  2.0  0.0  0.0   \n",
              "1        3551516        0       14949413           29.00  1.0  1.0  0.0  0.0   \n",
              "2        3269100        0        6891082          117.00  9.0  9.0  0.0  0.0   \n",
              "3        3358341        0        9236835          171.00  2.0  2.0  0.0  0.0   \n",
              "4        3083448        0        1970387          112.99  1.0  1.0  0.0  0.0   \n",
              "\n",
              "    C5   C6  ...  V312  V313   V314  V315  V316  V317  V318  V319    V320  \\\n",
              "0  2.0  1.0  ...   0.0   0.0    0.0   0.0   0.0   0.0   0.0   0.0     0.0   \n",
              "1  0.0  0.0  ...  29.0   0.0    0.0   0.0   0.0   0.0   0.0   0.0     0.0   \n",
              "2  6.0  5.0  ...   0.0   0.0    0.0   0.0   0.0   0.0   0.0   0.0     0.0   \n",
              "3  0.0  1.0  ...   0.0   0.0  432.0   0.0   0.0   0.0   0.0   0.0  2257.0   \n",
              "4  0.0  1.0  ...   0.0   0.0    0.0   0.0   0.0   0.0   0.0   0.0     0.0   \n",
              "\n",
              "   V321  \n",
              "0   0.0  \n",
              "1   0.0  \n",
              "2   0.0  \n",
              "3   0.0  \n",
              "4   0.0  \n",
              "\n",
              "[5 rows x 172 columns]"
            ],
            "text/html": [
              "\n",
              "  <div id=\"df-2d43078e-bd20-438d-ac13-5c383808d888\">\n",
              "    <div class=\"colab-df-container\">\n",
              "      <div>\n",
              "<style scoped>\n",
              "    .dataframe tbody tr th:only-of-type {\n",
              "        vertical-align: middle;\n",
              "    }\n",
              "\n",
              "    .dataframe tbody tr th {\n",
              "        vertical-align: top;\n",
              "    }\n",
              "\n",
              "    .dataframe thead th {\n",
              "        text-align: right;\n",
              "    }\n",
              "</style>\n",
              "<table border=\"1\" class=\"dataframe\">\n",
              "  <thead>\n",
              "    <tr style=\"text-align: right;\">\n",
              "      <th></th>\n",
              "      <th>TransactionID</th>\n",
              "      <th>isFraud</th>\n",
              "      <th>TransactionDT</th>\n",
              "      <th>TransactionAmt</th>\n",
              "      <th>C1</th>\n",
              "      <th>C2</th>\n",
              "      <th>C3</th>\n",
              "      <th>C4</th>\n",
              "      <th>C5</th>\n",
              "      <th>C6</th>\n",
              "      <th>...</th>\n",
              "      <th>V312</th>\n",
              "      <th>V313</th>\n",
              "      <th>V314</th>\n",
              "      <th>V315</th>\n",
              "      <th>V316</th>\n",
              "      <th>V317</th>\n",
              "      <th>V318</th>\n",
              "      <th>V319</th>\n",
              "      <th>V320</th>\n",
              "      <th>V321</th>\n",
              "    </tr>\n",
              "  </thead>\n",
              "  <tbody>\n",
              "    <tr>\n",
              "      <th>0</th>\n",
              "      <td>3456681</td>\n",
              "      <td>0</td>\n",
              "      <td>12103740</td>\n",
              "      <td>159.95</td>\n",
              "      <td>4.0</td>\n",
              "      <td>2.0</td>\n",
              "      <td>0.0</td>\n",
              "      <td>0.0</td>\n",
              "      <td>2.0</td>\n",
              "      <td>1.0</td>\n",
              "      <td>...</td>\n",
              "      <td>0.0</td>\n",
              "      <td>0.0</td>\n",
              "      <td>0.0</td>\n",
              "      <td>0.0</td>\n",
              "      <td>0.0</td>\n",
              "      <td>0.0</td>\n",
              "      <td>0.0</td>\n",
              "      <td>0.0</td>\n",
              "      <td>0.0</td>\n",
              "      <td>0.0</td>\n",
              "    </tr>\n",
              "    <tr>\n",
              "      <th>1</th>\n",
              "      <td>3551516</td>\n",
              "      <td>0</td>\n",
              "      <td>14949413</td>\n",
              "      <td>29.00</td>\n",
              "      <td>1.0</td>\n",
              "      <td>1.0</td>\n",
              "      <td>0.0</td>\n",
              "      <td>0.0</td>\n",
              "      <td>0.0</td>\n",
              "      <td>0.0</td>\n",
              "      <td>...</td>\n",
              "      <td>29.0</td>\n",
              "      <td>0.0</td>\n",
              "      <td>0.0</td>\n",
              "      <td>0.0</td>\n",
              "      <td>0.0</td>\n",
              "      <td>0.0</td>\n",
              "      <td>0.0</td>\n",
              "      <td>0.0</td>\n",
              "      <td>0.0</td>\n",
              "      <td>0.0</td>\n",
              "    </tr>\n",
              "    <tr>\n",
              "      <th>2</th>\n",
              "      <td>3269100</td>\n",
              "      <td>0</td>\n",
              "      <td>6891082</td>\n",
              "      <td>117.00</td>\n",
              "      <td>9.0</td>\n",
              "      <td>9.0</td>\n",
              "      <td>0.0</td>\n",
              "      <td>0.0</td>\n",
              "      <td>6.0</td>\n",
              "      <td>5.0</td>\n",
              "      <td>...</td>\n",
              "      <td>0.0</td>\n",
              "      <td>0.0</td>\n",
              "      <td>0.0</td>\n",
              "      <td>0.0</td>\n",
              "      <td>0.0</td>\n",
              "      <td>0.0</td>\n",
              "      <td>0.0</td>\n",
              "      <td>0.0</td>\n",
              "      <td>0.0</td>\n",
              "      <td>0.0</td>\n",
              "    </tr>\n",
              "    <tr>\n",
              "      <th>3</th>\n",
              "      <td>3358341</td>\n",
              "      <td>0</td>\n",
              "      <td>9236835</td>\n",
              "      <td>171.00</td>\n",
              "      <td>2.0</td>\n",
              "      <td>2.0</td>\n",
              "      <td>0.0</td>\n",
              "      <td>0.0</td>\n",
              "      <td>0.0</td>\n",
              "      <td>1.0</td>\n",
              "      <td>...</td>\n",
              "      <td>0.0</td>\n",
              "      <td>0.0</td>\n",
              "      <td>432.0</td>\n",
              "      <td>0.0</td>\n",
              "      <td>0.0</td>\n",
              "      <td>0.0</td>\n",
              "      <td>0.0</td>\n",
              "      <td>0.0</td>\n",
              "      <td>2257.0</td>\n",
              "      <td>0.0</td>\n",
              "    </tr>\n",
              "    <tr>\n",
              "      <th>4</th>\n",
              "      <td>3083448</td>\n",
              "      <td>0</td>\n",
              "      <td>1970387</td>\n",
              "      <td>112.99</td>\n",
              "      <td>1.0</td>\n",
              "      <td>1.0</td>\n",
              "      <td>0.0</td>\n",
              "      <td>0.0</td>\n",
              "      <td>0.0</td>\n",
              "      <td>1.0</td>\n",
              "      <td>...</td>\n",
              "      <td>0.0</td>\n",
              "      <td>0.0</td>\n",
              "      <td>0.0</td>\n",
              "      <td>0.0</td>\n",
              "      <td>0.0</td>\n",
              "      <td>0.0</td>\n",
              "      <td>0.0</td>\n",
              "      <td>0.0</td>\n",
              "      <td>0.0</td>\n",
              "      <td>0.0</td>\n",
              "    </tr>\n",
              "  </tbody>\n",
              "</table>\n",
              "<p>5 rows × 172 columns</p>\n",
              "</div>\n",
              "      <button class=\"colab-df-convert\" onclick=\"convertToInteractive('df-2d43078e-bd20-438d-ac13-5c383808d888')\"\n",
              "              title=\"Convert this dataframe to an interactive table.\"\n",
              "              style=\"display:none;\">\n",
              "        \n",
              "  <svg xmlns=\"http://www.w3.org/2000/svg\" height=\"24px\"viewBox=\"0 0 24 24\"\n",
              "       width=\"24px\">\n",
              "    <path d=\"M0 0h24v24H0V0z\" fill=\"none\"/>\n",
              "    <path d=\"M18.56 5.44l.94 2.06.94-2.06 2.06-.94-2.06-.94-.94-2.06-.94 2.06-2.06.94zm-11 1L8.5 8.5l.94-2.06 2.06-.94-2.06-.94L8.5 2.5l-.94 2.06-2.06.94zm10 10l.94 2.06.94-2.06 2.06-.94-2.06-.94-.94-2.06-.94 2.06-2.06.94z\"/><path d=\"M17.41 7.96l-1.37-1.37c-.4-.4-.92-.59-1.43-.59-.52 0-1.04.2-1.43.59L10.3 9.45l-7.72 7.72c-.78.78-.78 2.05 0 2.83L4 21.41c.39.39.9.59 1.41.59.51 0 1.02-.2 1.41-.59l7.78-7.78 2.81-2.81c.8-.78.8-2.07 0-2.86zM5.41 20L4 18.59l7.72-7.72 1.47 1.35L5.41 20z\"/>\n",
              "  </svg>\n",
              "      </button>\n",
              "      \n",
              "  <style>\n",
              "    .colab-df-container {\n",
              "      display:flex;\n",
              "      flex-wrap:wrap;\n",
              "      gap: 12px;\n",
              "    }\n",
              "\n",
              "    .colab-df-convert {\n",
              "      background-color: #E8F0FE;\n",
              "      border: none;\n",
              "      border-radius: 50%;\n",
              "      cursor: pointer;\n",
              "      display: none;\n",
              "      fill: #1967D2;\n",
              "      height: 32px;\n",
              "      padding: 0 0 0 0;\n",
              "      width: 32px;\n",
              "    }\n",
              "\n",
              "    .colab-df-convert:hover {\n",
              "      background-color: #E2EBFA;\n",
              "      box-shadow: 0px 1px 2px rgba(60, 64, 67, 0.3), 0px 1px 3px 1px rgba(60, 64, 67, 0.15);\n",
              "      fill: #174EA6;\n",
              "    }\n",
              "\n",
              "    [theme=dark] .colab-df-convert {\n",
              "      background-color: #3B4455;\n",
              "      fill: #D2E3FC;\n",
              "    }\n",
              "\n",
              "    [theme=dark] .colab-df-convert:hover {\n",
              "      background-color: #434B5C;\n",
              "      box-shadow: 0px 1px 3px 1px rgba(0, 0, 0, 0.15);\n",
              "      filter: drop-shadow(0px 1px 2px rgba(0, 0, 0, 0.3));\n",
              "      fill: #FFFFFF;\n",
              "    }\n",
              "  </style>\n",
              "\n",
              "      <script>\n",
              "        const buttonEl =\n",
              "          document.querySelector('#df-2d43078e-bd20-438d-ac13-5c383808d888 button.colab-df-convert');\n",
              "        buttonEl.style.display =\n",
              "          google.colab.kernel.accessAllowed ? 'block' : 'none';\n",
              "\n",
              "        async function convertToInteractive(key) {\n",
              "          const element = document.querySelector('#df-2d43078e-bd20-438d-ac13-5c383808d888');\n",
              "          const dataTable =\n",
              "            await google.colab.kernel.invokeFunction('convertToInteractive',\n",
              "                                                     [key], {});\n",
              "          if (!dataTable) return;\n",
              "\n",
              "          const docLinkHtml = 'Like what you see? Visit the ' +\n",
              "            '<a target=\"_blank\" href=https://colab.research.google.com/notebooks/data_table.ipynb>data table notebook</a>'\n",
              "            + ' to learn more about interactive tables.';\n",
              "          element.innerHTML = '';\n",
              "          dataTable['output_type'] = 'display_data';\n",
              "          await google.colab.output.renderOutput(dataTable, element);\n",
              "          const docLink = document.createElement('div');\n",
              "          docLink.innerHTML = docLinkHtml;\n",
              "          element.appendChild(docLink);\n",
              "        }\n",
              "      </script>\n",
              "    </div>\n",
              "  </div>\n",
              "  "
            ]
          },
          "metadata": {},
          "execution_count": 22
        }
      ],
      "source": [
        "df.head()"
      ],
      "id": "1RmctDlGGhwK"
    },
    {
      "cell_type": "code",
      "source": [
        "# Verificando o tamanho de df\n",
        "df.shape"
      ],
      "metadata": {
        "id": "mj-e-sw7wDik",
        "outputId": "9ce26b5c-3f92-4c7a-e9e1-913635c3df11",
        "colab": {
          "base_uri": "https://localhost:8080/"
        }
      },
      "id": "mj-e-sw7wDik",
      "execution_count": 23,
      "outputs": [
        {
          "output_type": "execute_result",
          "data": {
            "text/plain": [
              "(50000, 172)"
            ]
          },
          "metadata": {},
          "execution_count": 23
        }
      ]
    },
    {
      "cell_type": "code",
      "execution_count": 24,
      "metadata": {
        "id": "KuHqfeACGhwL",
        "outputId": "3b1f69f3-ac30-4377-dfb1-7afd16c0b21f",
        "colab": {
          "base_uri": "https://localhost:8080/"
        }
      },
      "outputs": [
        {
          "output_type": "execute_result",
          "data": {
            "text/plain": [
              "0.03122"
            ]
          },
          "metadata": {},
          "execution_count": 24
        }
      ],
      "source": [
        "# verificando o % de casos com isFraud==1\n",
        "(df['isFraud']==1).sum()/df.shape[0]"
      ],
      "id": "KuHqfeACGhwL"
    },
    {
      "cell_type": "markdown",
      "metadata": {
        "id": "rQNutBabGhwL"
      },
      "source": [
        "> Como o valor é aproximandamente igual ao percentual geral, não é necessário nos preocuparmos com eventuais viéses causados pela redução de registos"
      ],
      "id": "rQNutBabGhwL"
    },
    {
      "cell_type": "code",
      "execution_count": 25,
      "metadata": {
        "id": "n_nO534RGhwL"
      },
      "outputs": [],
      "source": [
        "# Vamos criar separar os atributos que não precisão ser normalizados e os atributos númericos que serão norammalizados\n",
        "# o atrbuto TransactionAmt fará parte dos dois consjutos\n",
        "# X1 é um dataframe pandas\n",
        "# X2 é uma array do Numpy\n",
        "X1 = df.iloc[:,1:4].reset_index(drop=True)\n",
        "X2 = StandardScaler().fit_transform(df.iloc[:,3:])"
      ],
      "id": "n_nO534RGhwL"
    },
    {
      "cell_type": "code",
      "execution_count": 26,
      "metadata": {
        "id": "M0z0uiM7GhwM",
        "outputId": "ebba01b3-ecea-4784-f8db-4745a9c2186a",
        "colab": {
          "base_uri": "https://localhost:8080/",
          "height": 206
        }
      },
      "outputs": [
        {
          "output_type": "execute_result",
          "data": {
            "text/plain": [
              "   isFraud  TransactionDT  TransactionAmt\n",
              "0        0       12103740          159.95\n",
              "1        0       14949413           29.00\n",
              "2        0        6891082          117.00\n",
              "3        0        9236835          171.00\n",
              "4        0        1970387          112.99"
            ],
            "text/html": [
              "\n",
              "  <div id=\"df-6bd7aa05-0bd1-4b12-b851-303b4576f34c\">\n",
              "    <div class=\"colab-df-container\">\n",
              "      <div>\n",
              "<style scoped>\n",
              "    .dataframe tbody tr th:only-of-type {\n",
              "        vertical-align: middle;\n",
              "    }\n",
              "\n",
              "    .dataframe tbody tr th {\n",
              "        vertical-align: top;\n",
              "    }\n",
              "\n",
              "    .dataframe thead th {\n",
              "        text-align: right;\n",
              "    }\n",
              "</style>\n",
              "<table border=\"1\" class=\"dataframe\">\n",
              "  <thead>\n",
              "    <tr style=\"text-align: right;\">\n",
              "      <th></th>\n",
              "      <th>isFraud</th>\n",
              "      <th>TransactionDT</th>\n",
              "      <th>TransactionAmt</th>\n",
              "    </tr>\n",
              "  </thead>\n",
              "  <tbody>\n",
              "    <tr>\n",
              "      <th>0</th>\n",
              "      <td>0</td>\n",
              "      <td>12103740</td>\n",
              "      <td>159.95</td>\n",
              "    </tr>\n",
              "    <tr>\n",
              "      <th>1</th>\n",
              "      <td>0</td>\n",
              "      <td>14949413</td>\n",
              "      <td>29.00</td>\n",
              "    </tr>\n",
              "    <tr>\n",
              "      <th>2</th>\n",
              "      <td>0</td>\n",
              "      <td>6891082</td>\n",
              "      <td>117.00</td>\n",
              "    </tr>\n",
              "    <tr>\n",
              "      <th>3</th>\n",
              "      <td>0</td>\n",
              "      <td>9236835</td>\n",
              "      <td>171.00</td>\n",
              "    </tr>\n",
              "    <tr>\n",
              "      <th>4</th>\n",
              "      <td>0</td>\n",
              "      <td>1970387</td>\n",
              "      <td>112.99</td>\n",
              "    </tr>\n",
              "  </tbody>\n",
              "</table>\n",
              "</div>\n",
              "      <button class=\"colab-df-convert\" onclick=\"convertToInteractive('df-6bd7aa05-0bd1-4b12-b851-303b4576f34c')\"\n",
              "              title=\"Convert this dataframe to an interactive table.\"\n",
              "              style=\"display:none;\">\n",
              "        \n",
              "  <svg xmlns=\"http://www.w3.org/2000/svg\" height=\"24px\"viewBox=\"0 0 24 24\"\n",
              "       width=\"24px\">\n",
              "    <path d=\"M0 0h24v24H0V0z\" fill=\"none\"/>\n",
              "    <path d=\"M18.56 5.44l.94 2.06.94-2.06 2.06-.94-2.06-.94-.94-2.06-.94 2.06-2.06.94zm-11 1L8.5 8.5l.94-2.06 2.06-.94-2.06-.94L8.5 2.5l-.94 2.06-2.06.94zm10 10l.94 2.06.94-2.06 2.06-.94-2.06-.94-.94-2.06-.94 2.06-2.06.94z\"/><path d=\"M17.41 7.96l-1.37-1.37c-.4-.4-.92-.59-1.43-.59-.52 0-1.04.2-1.43.59L10.3 9.45l-7.72 7.72c-.78.78-.78 2.05 0 2.83L4 21.41c.39.39.9.59 1.41.59.51 0 1.02-.2 1.41-.59l7.78-7.78 2.81-2.81c.8-.78.8-2.07 0-2.86zM5.41 20L4 18.59l7.72-7.72 1.47 1.35L5.41 20z\"/>\n",
              "  </svg>\n",
              "      </button>\n",
              "      \n",
              "  <style>\n",
              "    .colab-df-container {\n",
              "      display:flex;\n",
              "      flex-wrap:wrap;\n",
              "      gap: 12px;\n",
              "    }\n",
              "\n",
              "    .colab-df-convert {\n",
              "      background-color: #E8F0FE;\n",
              "      border: none;\n",
              "      border-radius: 50%;\n",
              "      cursor: pointer;\n",
              "      display: none;\n",
              "      fill: #1967D2;\n",
              "      height: 32px;\n",
              "      padding: 0 0 0 0;\n",
              "      width: 32px;\n",
              "    }\n",
              "\n",
              "    .colab-df-convert:hover {\n",
              "      background-color: #E2EBFA;\n",
              "      box-shadow: 0px 1px 2px rgba(60, 64, 67, 0.3), 0px 1px 3px 1px rgba(60, 64, 67, 0.15);\n",
              "      fill: #174EA6;\n",
              "    }\n",
              "\n",
              "    [theme=dark] .colab-df-convert {\n",
              "      background-color: #3B4455;\n",
              "      fill: #D2E3FC;\n",
              "    }\n",
              "\n",
              "    [theme=dark] .colab-df-convert:hover {\n",
              "      background-color: #434B5C;\n",
              "      box-shadow: 0px 1px 3px 1px rgba(0, 0, 0, 0.15);\n",
              "      filter: drop-shadow(0px 1px 2px rgba(0, 0, 0, 0.3));\n",
              "      fill: #FFFFFF;\n",
              "    }\n",
              "  </style>\n",
              "\n",
              "      <script>\n",
              "        const buttonEl =\n",
              "          document.querySelector('#df-6bd7aa05-0bd1-4b12-b851-303b4576f34c button.colab-df-convert');\n",
              "        buttonEl.style.display =\n",
              "          google.colab.kernel.accessAllowed ? 'block' : 'none';\n",
              "\n",
              "        async function convertToInteractive(key) {\n",
              "          const element = document.querySelector('#df-6bd7aa05-0bd1-4b12-b851-303b4576f34c');\n",
              "          const dataTable =\n",
              "            await google.colab.kernel.invokeFunction('convertToInteractive',\n",
              "                                                     [key], {});\n",
              "          if (!dataTable) return;\n",
              "\n",
              "          const docLinkHtml = 'Like what you see? Visit the ' +\n",
              "            '<a target=\"_blank\" href=https://colab.research.google.com/notebooks/data_table.ipynb>data table notebook</a>'\n",
              "            + ' to learn more about interactive tables.';\n",
              "          element.innerHTML = '';\n",
              "          dataTable['output_type'] = 'display_data';\n",
              "          await google.colab.output.renderOutput(dataTable, element);\n",
              "          const docLink = document.createElement('div');\n",
              "          docLink.innerHTML = docLinkHtml;\n",
              "          element.appendChild(docLink);\n",
              "        }\n",
              "      </script>\n",
              "    </div>\n",
              "  </div>\n",
              "  "
            ]
          },
          "metadata": {},
          "execution_count": 26
        }
      ],
      "source": [
        "# Visualizando X1\n",
        "X1.head()"
      ],
      "id": "M0z0uiM7GhwM"
    },
    {
      "cell_type": "code",
      "execution_count": 27,
      "metadata": {
        "id": "OLNCswnqGhwM",
        "outputId": "82355788-e43b-4bd3-a92f-480d28c7f9e1",
        "colab": {
          "base_uri": "https://localhost:8080/"
        }
      },
      "outputs": [
        {
          "output_type": "execute_result",
          "data": {
            "text/plain": [
              "array([[ 0.08529832, -0.14350877, -0.19832984, ..., -0.08764214,\n",
              "        -0.12511469, -0.10366551],\n",
              "       [-0.4571158 , -0.24263849, -0.23029656, ..., -0.08764214,\n",
              "        -0.12511469, -0.10366551],\n",
              "       [-0.09260688,  0.02170743,  0.0254372 , ..., -0.08764214,\n",
              "        -0.12511469, -0.10366551],\n",
              "       ...,\n",
              "       [-0.33720065,  1.04604787,  0.76067174, ..., -0.08764214,\n",
              "        -0.12511469, -0.10366551],\n",
              "       [-0.43640507, -0.07742229, -0.16636312, ..., -0.08764214,\n",
              "        -0.12511469, -0.10366551],\n",
              "       [-0.35356213, -0.20959525, -0.19832984, ..., -0.08764214,\n",
              "        -0.12511469, -0.10366551]])"
            ]
          },
          "metadata": {},
          "execution_count": 27
        }
      ],
      "source": [
        "# Visualizando X2\n",
        "X2"
      ],
      "id": "OLNCswnqGhwM"
    },
    {
      "cell_type": "code",
      "execution_count": 28,
      "metadata": {
        "id": "HWQ4oZXlGhwN",
        "outputId": "b79fd727-23dc-4ec5-b64f-4e2f4c877956",
        "colab": {
          "base_uri": "https://localhost:8080/",
          "height": 487
        }
      },
      "outputs": [
        {
          "output_type": "execute_result",
          "data": {
            "text/plain": [
              "       TransactionAmt        C1        C2        C3        C4        C5  \\\n",
              "0            0.085298 -0.143509 -0.198330 -0.023015 -0.042678 -0.160198   \n",
              "1           -0.457116 -0.242638 -0.230297 -0.023015 -0.042678 -0.233550   \n",
              "2           -0.092607  0.021707  0.025437 -0.023015 -0.042678 -0.013494   \n",
              "3            0.131069 -0.209595 -0.198330 -0.023015 -0.042678 -0.233550   \n",
              "4           -0.109217 -0.242638 -0.230297 -0.023015 -0.042678 -0.233550   \n",
              "...               ...       ...       ...       ...       ...       ...   \n",
              "49995       -0.130093 -0.176552 -0.134396 -0.023015 -0.042678 -0.160198   \n",
              "49996       -0.092607 -0.143509 -0.230297 -0.023015 -0.042678 -0.233550   \n",
              "49997       -0.337201  1.046048  0.760672 -0.023015 -0.042678  0.646674   \n",
              "49998       -0.436405 -0.077422 -0.166363 -0.023015 -0.042678 -0.233550   \n",
              "49999       -0.353562 -0.209595 -0.198330 -0.023015 -0.042678 -0.233550   \n",
              "\n",
              "             C6        C7        C8        C9  ...      V312      V313  \\\n",
              "0     -0.230681 -0.048264 -0.047181 -0.121156  ... -0.281016 -0.230750   \n",
              "1     -0.276549 -0.048264 -0.047181 -0.178257  ... -0.087264 -0.230750   \n",
              "2     -0.047207 -0.048264 -0.047181 -0.006955  ... -0.281016 -0.230750   \n",
              "3     -0.230681 -0.048264 -0.047181 -0.121156  ... -0.281016 -0.230750   \n",
              "4     -0.230681 -0.048264 -0.047181 -0.235357  ... -0.281016 -0.230750   \n",
              "...         ...       ...       ...       ...  ...       ...       ...   \n",
              "49995 -0.184812 -0.048264 -0.047181 -0.178257  ... -0.281016  1.789749   \n",
              "49996 -0.230681 -0.048264 -0.047181 -0.121156  ...  3.099621  0.096456   \n",
              "49997  1.007767 -0.048264 -0.047181  1.020856  ... -0.281016 -0.230750   \n",
              "49998 -0.138944 -0.048264 -0.047181 -0.178257  ... -0.020453  0.144575   \n",
              "49999 -0.230681 -0.048264 -0.047181 -0.235357  ... -0.281016 -0.230750   \n",
              "\n",
              "           V314      V315      V316      V317      V318      V319      V320  \\\n",
              "0     -0.257208 -0.239246 -0.070906 -0.116377 -0.095402 -0.087642 -0.125115   \n",
              "1     -0.257208 -0.239246 -0.070906 -0.116377 -0.095402 -0.087642 -0.125115   \n",
              "2     -0.257208 -0.239246 -0.070906 -0.116377 -0.095402 -0.087642 -0.125115   \n",
              "3      2.086135 -0.239246 -0.070906 -0.116377 -0.095402 -0.087642  9.946636   \n",
              "4     -0.257208 -0.239246 -0.070906 -0.116377 -0.095402 -0.087642 -0.125115   \n",
              "...         ...       ...       ...       ...       ...       ...       ...   \n",
              "49995  0.881646  1.419548 -0.070906 -0.116377 -0.095402 -0.087642 -0.125115   \n",
              "49996  2.671971  0.029384  1.564803  0.742661  1.143719 -0.087642 -0.125115   \n",
              "49997 -0.257208 -0.239246 -0.070906 -0.116377 -0.095402 -0.087642 -0.125115   \n",
              "49998 -0.045656  0.068889 -0.070906 -0.116377 -0.095402 -0.087642 -0.125115   \n",
              "49999 -0.257208 -0.239246 -0.070906 -0.116377 -0.095402 -0.087642 -0.125115   \n",
              "\n",
              "           V321  \n",
              "0     -0.103666  \n",
              "1     -0.103666  \n",
              "2     -0.103666  \n",
              "3     -0.103666  \n",
              "4     -0.103666  \n",
              "...         ...  \n",
              "49995 -0.103666  \n",
              "49996 -0.103666  \n",
              "49997 -0.103666  \n",
              "49998 -0.103666  \n",
              "49999 -0.103666  \n",
              "\n",
              "[50000 rows x 169 columns]"
            ],
            "text/html": [
              "\n",
              "  <div id=\"df-e2dbf7d9-ee73-4c1b-8376-5002bbde3047\">\n",
              "    <div class=\"colab-df-container\">\n",
              "      <div>\n",
              "<style scoped>\n",
              "    .dataframe tbody tr th:only-of-type {\n",
              "        vertical-align: middle;\n",
              "    }\n",
              "\n",
              "    .dataframe tbody tr th {\n",
              "        vertical-align: top;\n",
              "    }\n",
              "\n",
              "    .dataframe thead th {\n",
              "        text-align: right;\n",
              "    }\n",
              "</style>\n",
              "<table border=\"1\" class=\"dataframe\">\n",
              "  <thead>\n",
              "    <tr style=\"text-align: right;\">\n",
              "      <th></th>\n",
              "      <th>TransactionAmt</th>\n",
              "      <th>C1</th>\n",
              "      <th>C2</th>\n",
              "      <th>C3</th>\n",
              "      <th>C4</th>\n",
              "      <th>C5</th>\n",
              "      <th>C6</th>\n",
              "      <th>C7</th>\n",
              "      <th>C8</th>\n",
              "      <th>C9</th>\n",
              "      <th>...</th>\n",
              "      <th>V312</th>\n",
              "      <th>V313</th>\n",
              "      <th>V314</th>\n",
              "      <th>V315</th>\n",
              "      <th>V316</th>\n",
              "      <th>V317</th>\n",
              "      <th>V318</th>\n",
              "      <th>V319</th>\n",
              "      <th>V320</th>\n",
              "      <th>V321</th>\n",
              "    </tr>\n",
              "  </thead>\n",
              "  <tbody>\n",
              "    <tr>\n",
              "      <th>0</th>\n",
              "      <td>0.085298</td>\n",
              "      <td>-0.143509</td>\n",
              "      <td>-0.198330</td>\n",
              "      <td>-0.023015</td>\n",
              "      <td>-0.042678</td>\n",
              "      <td>-0.160198</td>\n",
              "      <td>-0.230681</td>\n",
              "      <td>-0.048264</td>\n",
              "      <td>-0.047181</td>\n",
              "      <td>-0.121156</td>\n",
              "      <td>...</td>\n",
              "      <td>-0.281016</td>\n",
              "      <td>-0.230750</td>\n",
              "      <td>-0.257208</td>\n",
              "      <td>-0.239246</td>\n",
              "      <td>-0.070906</td>\n",
              "      <td>-0.116377</td>\n",
              "      <td>-0.095402</td>\n",
              "      <td>-0.087642</td>\n",
              "      <td>-0.125115</td>\n",
              "      <td>-0.103666</td>\n",
              "    </tr>\n",
              "    <tr>\n",
              "      <th>1</th>\n",
              "      <td>-0.457116</td>\n",
              "      <td>-0.242638</td>\n",
              "      <td>-0.230297</td>\n",
              "      <td>-0.023015</td>\n",
              "      <td>-0.042678</td>\n",
              "      <td>-0.233550</td>\n",
              "      <td>-0.276549</td>\n",
              "      <td>-0.048264</td>\n",
              "      <td>-0.047181</td>\n",
              "      <td>-0.178257</td>\n",
              "      <td>...</td>\n",
              "      <td>-0.087264</td>\n",
              "      <td>-0.230750</td>\n",
              "      <td>-0.257208</td>\n",
              "      <td>-0.239246</td>\n",
              "      <td>-0.070906</td>\n",
              "      <td>-0.116377</td>\n",
              "      <td>-0.095402</td>\n",
              "      <td>-0.087642</td>\n",
              "      <td>-0.125115</td>\n",
              "      <td>-0.103666</td>\n",
              "    </tr>\n",
              "    <tr>\n",
              "      <th>2</th>\n",
              "      <td>-0.092607</td>\n",
              "      <td>0.021707</td>\n",
              "      <td>0.025437</td>\n",
              "      <td>-0.023015</td>\n",
              "      <td>-0.042678</td>\n",
              "      <td>-0.013494</td>\n",
              "      <td>-0.047207</td>\n",
              "      <td>-0.048264</td>\n",
              "      <td>-0.047181</td>\n",
              "      <td>-0.006955</td>\n",
              "      <td>...</td>\n",
              "      <td>-0.281016</td>\n",
              "      <td>-0.230750</td>\n",
              "      <td>-0.257208</td>\n",
              "      <td>-0.239246</td>\n",
              "      <td>-0.070906</td>\n",
              "      <td>-0.116377</td>\n",
              "      <td>-0.095402</td>\n",
              "      <td>-0.087642</td>\n",
              "      <td>-0.125115</td>\n",
              "      <td>-0.103666</td>\n",
              "    </tr>\n",
              "    <tr>\n",
              "      <th>3</th>\n",
              "      <td>0.131069</td>\n",
              "      <td>-0.209595</td>\n",
              "      <td>-0.198330</td>\n",
              "      <td>-0.023015</td>\n",
              "      <td>-0.042678</td>\n",
              "      <td>-0.233550</td>\n",
              "      <td>-0.230681</td>\n",
              "      <td>-0.048264</td>\n",
              "      <td>-0.047181</td>\n",
              "      <td>-0.121156</td>\n",
              "      <td>...</td>\n",
              "      <td>-0.281016</td>\n",
              "      <td>-0.230750</td>\n",
              "      <td>2.086135</td>\n",
              "      <td>-0.239246</td>\n",
              "      <td>-0.070906</td>\n",
              "      <td>-0.116377</td>\n",
              "      <td>-0.095402</td>\n",
              "      <td>-0.087642</td>\n",
              "      <td>9.946636</td>\n",
              "      <td>-0.103666</td>\n",
              "    </tr>\n",
              "    <tr>\n",
              "      <th>4</th>\n",
              "      <td>-0.109217</td>\n",
              "      <td>-0.242638</td>\n",
              "      <td>-0.230297</td>\n",
              "      <td>-0.023015</td>\n",
              "      <td>-0.042678</td>\n",
              "      <td>-0.233550</td>\n",
              "      <td>-0.230681</td>\n",
              "      <td>-0.048264</td>\n",
              "      <td>-0.047181</td>\n",
              "      <td>-0.235357</td>\n",
              "      <td>...</td>\n",
              "      <td>-0.281016</td>\n",
              "      <td>-0.230750</td>\n",
              "      <td>-0.257208</td>\n",
              "      <td>-0.239246</td>\n",
              "      <td>-0.070906</td>\n",
              "      <td>-0.116377</td>\n",
              "      <td>-0.095402</td>\n",
              "      <td>-0.087642</td>\n",
              "      <td>-0.125115</td>\n",
              "      <td>-0.103666</td>\n",
              "    </tr>\n",
              "    <tr>\n",
              "      <th>...</th>\n",
              "      <td>...</td>\n",
              "      <td>...</td>\n",
              "      <td>...</td>\n",
              "      <td>...</td>\n",
              "      <td>...</td>\n",
              "      <td>...</td>\n",
              "      <td>...</td>\n",
              "      <td>...</td>\n",
              "      <td>...</td>\n",
              "      <td>...</td>\n",
              "      <td>...</td>\n",
              "      <td>...</td>\n",
              "      <td>...</td>\n",
              "      <td>...</td>\n",
              "      <td>...</td>\n",
              "      <td>...</td>\n",
              "      <td>...</td>\n",
              "      <td>...</td>\n",
              "      <td>...</td>\n",
              "      <td>...</td>\n",
              "      <td>...</td>\n",
              "    </tr>\n",
              "    <tr>\n",
              "      <th>49995</th>\n",
              "      <td>-0.130093</td>\n",
              "      <td>-0.176552</td>\n",
              "      <td>-0.134396</td>\n",
              "      <td>-0.023015</td>\n",
              "      <td>-0.042678</td>\n",
              "      <td>-0.160198</td>\n",
              "      <td>-0.184812</td>\n",
              "      <td>-0.048264</td>\n",
              "      <td>-0.047181</td>\n",
              "      <td>-0.178257</td>\n",
              "      <td>...</td>\n",
              "      <td>-0.281016</td>\n",
              "      <td>1.789749</td>\n",
              "      <td>0.881646</td>\n",
              "      <td>1.419548</td>\n",
              "      <td>-0.070906</td>\n",
              "      <td>-0.116377</td>\n",
              "      <td>-0.095402</td>\n",
              "      <td>-0.087642</td>\n",
              "      <td>-0.125115</td>\n",
              "      <td>-0.103666</td>\n",
              "    </tr>\n",
              "    <tr>\n",
              "      <th>49996</th>\n",
              "      <td>-0.092607</td>\n",
              "      <td>-0.143509</td>\n",
              "      <td>-0.230297</td>\n",
              "      <td>-0.023015</td>\n",
              "      <td>-0.042678</td>\n",
              "      <td>-0.233550</td>\n",
              "      <td>-0.230681</td>\n",
              "      <td>-0.048264</td>\n",
              "      <td>-0.047181</td>\n",
              "      <td>-0.121156</td>\n",
              "      <td>...</td>\n",
              "      <td>3.099621</td>\n",
              "      <td>0.096456</td>\n",
              "      <td>2.671971</td>\n",
              "      <td>0.029384</td>\n",
              "      <td>1.564803</td>\n",
              "      <td>0.742661</td>\n",
              "      <td>1.143719</td>\n",
              "      <td>-0.087642</td>\n",
              "      <td>-0.125115</td>\n",
              "      <td>-0.103666</td>\n",
              "    </tr>\n",
              "    <tr>\n",
              "      <th>49997</th>\n",
              "      <td>-0.337201</td>\n",
              "      <td>1.046048</td>\n",
              "      <td>0.760672</td>\n",
              "      <td>-0.023015</td>\n",
              "      <td>-0.042678</td>\n",
              "      <td>0.646674</td>\n",
              "      <td>1.007767</td>\n",
              "      <td>-0.048264</td>\n",
              "      <td>-0.047181</td>\n",
              "      <td>1.020856</td>\n",
              "      <td>...</td>\n",
              "      <td>-0.281016</td>\n",
              "      <td>-0.230750</td>\n",
              "      <td>-0.257208</td>\n",
              "      <td>-0.239246</td>\n",
              "      <td>-0.070906</td>\n",
              "      <td>-0.116377</td>\n",
              "      <td>-0.095402</td>\n",
              "      <td>-0.087642</td>\n",
              "      <td>-0.125115</td>\n",
              "      <td>-0.103666</td>\n",
              "    </tr>\n",
              "    <tr>\n",
              "      <th>49998</th>\n",
              "      <td>-0.436405</td>\n",
              "      <td>-0.077422</td>\n",
              "      <td>-0.166363</td>\n",
              "      <td>-0.023015</td>\n",
              "      <td>-0.042678</td>\n",
              "      <td>-0.233550</td>\n",
              "      <td>-0.138944</td>\n",
              "      <td>-0.048264</td>\n",
              "      <td>-0.047181</td>\n",
              "      <td>-0.178257</td>\n",
              "      <td>...</td>\n",
              "      <td>-0.020453</td>\n",
              "      <td>0.144575</td>\n",
              "      <td>-0.045656</td>\n",
              "      <td>0.068889</td>\n",
              "      <td>-0.070906</td>\n",
              "      <td>-0.116377</td>\n",
              "      <td>-0.095402</td>\n",
              "      <td>-0.087642</td>\n",
              "      <td>-0.125115</td>\n",
              "      <td>-0.103666</td>\n",
              "    </tr>\n",
              "    <tr>\n",
              "      <th>49999</th>\n",
              "      <td>-0.353562</td>\n",
              "      <td>-0.209595</td>\n",
              "      <td>-0.198330</td>\n",
              "      <td>-0.023015</td>\n",
              "      <td>-0.042678</td>\n",
              "      <td>-0.233550</td>\n",
              "      <td>-0.230681</td>\n",
              "      <td>-0.048264</td>\n",
              "      <td>-0.047181</td>\n",
              "      <td>-0.235357</td>\n",
              "      <td>...</td>\n",
              "      <td>-0.281016</td>\n",
              "      <td>-0.230750</td>\n",
              "      <td>-0.257208</td>\n",
              "      <td>-0.239246</td>\n",
              "      <td>-0.070906</td>\n",
              "      <td>-0.116377</td>\n",
              "      <td>-0.095402</td>\n",
              "      <td>-0.087642</td>\n",
              "      <td>-0.125115</td>\n",
              "      <td>-0.103666</td>\n",
              "    </tr>\n",
              "  </tbody>\n",
              "</table>\n",
              "<p>50000 rows × 169 columns</p>\n",
              "</div>\n",
              "      <button class=\"colab-df-convert\" onclick=\"convertToInteractive('df-e2dbf7d9-ee73-4c1b-8376-5002bbde3047')\"\n",
              "              title=\"Convert this dataframe to an interactive table.\"\n",
              "              style=\"display:none;\">\n",
              "        \n",
              "  <svg xmlns=\"http://www.w3.org/2000/svg\" height=\"24px\"viewBox=\"0 0 24 24\"\n",
              "       width=\"24px\">\n",
              "    <path d=\"M0 0h24v24H0V0z\" fill=\"none\"/>\n",
              "    <path d=\"M18.56 5.44l.94 2.06.94-2.06 2.06-.94-2.06-.94-.94-2.06-.94 2.06-2.06.94zm-11 1L8.5 8.5l.94-2.06 2.06-.94-2.06-.94L8.5 2.5l-.94 2.06-2.06.94zm10 10l.94 2.06.94-2.06 2.06-.94-2.06-.94-.94-2.06-.94 2.06-2.06.94z\"/><path d=\"M17.41 7.96l-1.37-1.37c-.4-.4-.92-.59-1.43-.59-.52 0-1.04.2-1.43.59L10.3 9.45l-7.72 7.72c-.78.78-.78 2.05 0 2.83L4 21.41c.39.39.9.59 1.41.59.51 0 1.02-.2 1.41-.59l7.78-7.78 2.81-2.81c.8-.78.8-2.07 0-2.86zM5.41 20L4 18.59l7.72-7.72 1.47 1.35L5.41 20z\"/>\n",
              "  </svg>\n",
              "      </button>\n",
              "      \n",
              "  <style>\n",
              "    .colab-df-container {\n",
              "      display:flex;\n",
              "      flex-wrap:wrap;\n",
              "      gap: 12px;\n",
              "    }\n",
              "\n",
              "    .colab-df-convert {\n",
              "      background-color: #E8F0FE;\n",
              "      border: none;\n",
              "      border-radius: 50%;\n",
              "      cursor: pointer;\n",
              "      display: none;\n",
              "      fill: #1967D2;\n",
              "      height: 32px;\n",
              "      padding: 0 0 0 0;\n",
              "      width: 32px;\n",
              "    }\n",
              "\n",
              "    .colab-df-convert:hover {\n",
              "      background-color: #E2EBFA;\n",
              "      box-shadow: 0px 1px 2px rgba(60, 64, 67, 0.3), 0px 1px 3px 1px rgba(60, 64, 67, 0.15);\n",
              "      fill: #174EA6;\n",
              "    }\n",
              "\n",
              "    [theme=dark] .colab-df-convert {\n",
              "      background-color: #3B4455;\n",
              "      fill: #D2E3FC;\n",
              "    }\n",
              "\n",
              "    [theme=dark] .colab-df-convert:hover {\n",
              "      background-color: #434B5C;\n",
              "      box-shadow: 0px 1px 3px 1px rgba(0, 0, 0, 0.15);\n",
              "      filter: drop-shadow(0px 1px 2px rgba(0, 0, 0, 0.3));\n",
              "      fill: #FFFFFF;\n",
              "    }\n",
              "  </style>\n",
              "\n",
              "      <script>\n",
              "        const buttonEl =\n",
              "          document.querySelector('#df-e2dbf7d9-ee73-4c1b-8376-5002bbde3047 button.colab-df-convert');\n",
              "        buttonEl.style.display =\n",
              "          google.colab.kernel.accessAllowed ? 'block' : 'none';\n",
              "\n",
              "        async function convertToInteractive(key) {\n",
              "          const element = document.querySelector('#df-e2dbf7d9-ee73-4c1b-8376-5002bbde3047');\n",
              "          const dataTable =\n",
              "            await google.colab.kernel.invokeFunction('convertToInteractive',\n",
              "                                                     [key], {});\n",
              "          if (!dataTable) return;\n",
              "\n",
              "          const docLinkHtml = 'Like what you see? Visit the ' +\n",
              "            '<a target=\"_blank\" href=https://colab.research.google.com/notebooks/data_table.ipynb>data table notebook</a>'\n",
              "            + ' to learn more about interactive tables.';\n",
              "          element.innerHTML = '';\n",
              "          dataTable['output_type'] = 'display_data';\n",
              "          await google.colab.output.renderOutput(dataTable, element);\n",
              "          const docLink = document.createElement('div');\n",
              "          docLink.innerHTML = docLinkHtml;\n",
              "          element.appendChild(docLink);\n",
              "        }\n",
              "      </script>\n",
              "    </div>\n",
              "  </div>\n",
              "  "
            ]
          },
          "metadata": {},
          "execution_count": 28
        }
      ],
      "source": [
        "# checando X2\n",
        "pd.DataFrame(X2, columns=df.columns[3:])"
      ],
      "id": "HWQ4oZXlGhwN"
    },
    {
      "cell_type": "code",
      "execution_count": 29,
      "metadata": {
        "id": "osqjo6LUGhwO"
      },
      "outputs": [],
      "source": [
        "# vamos definir uma array com o atributo alvo isFraud\n",
        "y = X1['isFraud'].astype('int')"
      ],
      "id": "osqjo6LUGhwO"
    },
    {
      "cell_type": "code",
      "execution_count": 30,
      "metadata": {
        "id": "FYnkXvk_GhwO",
        "outputId": "30241028-dbb2-47f6-9a43-b1ff5bf1fd6c",
        "colab": {
          "base_uri": "https://localhost:8080/"
        }
      },
      "outputs": [
        {
          "output_type": "execute_result",
          "data": {
            "text/plain": [
              "0.03122"
            ]
          },
          "metadata": {},
          "execution_count": 30
        }
      ],
      "source": [
        "# verificando se o % de casos de fraude está OK\n",
        "y.sum()/len(y)"
      ],
      "id": "FYnkXvk_GhwO"
    },
    {
      "cell_type": "code",
      "execution_count": 31,
      "metadata": {
        "id": "7JiQ6f1tGhwO",
        "outputId": "ca79e460-e7d7-403d-a7de-d4f7bef3bea7",
        "colab": {
          "base_uri": "https://localhost:8080/"
        }
      },
      "outputs": [
        {
          "output_type": "stream",
          "name": "stdout",
          "text": [
            "(50000, 3)\n",
            "(50000, 169)\n"
          ]
        }
      ],
      "source": [
        "print(X1.shape)\n",
        "print(X2.shape)"
      ],
      "id": "7JiQ6f1tGhwO"
    },
    {
      "cell_type": "markdown",
      "metadata": {
        "id": "XdlLYDQ3GhwP"
      },
      "source": [
        "#### Resumo Etapa 2B - Entendimento e Ingestão dos dados da base Kaggle\n",
        "\n",
        "- Foi gerada uma array X2 com dados padronizados com 50000 registros e 169 atributos padronizados\n",
        "- Foi gerada a array y com o atributo alvo `ìsFraud`\n",
        "- Foi gerado o dataframe X1 com os atributos que não serão padronizados `TransactioID`, `TransactioDT`, `TransactioAmt` e `ìsFraud`."
      ],
      "id": "XdlLYDQ3GhwP"
    },
    {
      "cell_type": "markdown",
      "metadata": {
        "id": "6qwjE1ZwGhwP"
      },
      "source": [
        "### Etapa 2C - Redução de Dimensões (PCA e UMAP)\n",
        "\n",
        "Esta sub etapa é composta dos seguintes passos:\n",
        "- Empregar o método `pca.explained_variance_ratio_` para determinar a quantidade de dimensões N a serem empregadas no UMAP\n",
        "- Aplicar o UMAP para gerar uma redução para 2 dimensões para ser empregada na pré-seleção de modelos\n",
        "- Aplicara o UMAP para gerar uma redução para as N dimensão (definda no passo 1) para ser empregada na análise dos modelos selecionados no passo 2\n"
      ],
      "id": "6qwjE1ZwGhwP"
    },
    {
      "cell_type": "markdown",
      "metadata": {
        "id": "F-k59WiFGhwQ"
      },
      "source": [
        "####  Empregando o método `pca.explained_variance_ratio_` para determinar a quantidade de dimensões N"
      ],
      "id": "F-k59WiFGhwQ"
    },
    {
      "cell_type": "code",
      "execution_count": 32,
      "metadata": {
        "id": "bHTx4k9AGhwQ",
        "outputId": "cf9f6c20-9e51-47b5-aa4d-9601549483c5",
        "colab": {
          "base_uri": "https://localhost:8080/"
        }
      },
      "outputs": [
        {
          "output_type": "stream",
          "name": "stdout",
          "text": [
            "CPU times: user 1.67 s, sys: 343 ms, total: 2.01 s\n",
            "Wall time: 633 ms\n"
          ]
        }
      ],
      "source": [
        "%%time\n",
        "#  Empregando o método `pca.explained_variance_ratio_` para determinar a quantidade de dimensões N\n",
        "pca = PCA(random_state=42)\n",
        "X_pca = pca.fit_transform(X2)\n",
        "ev_ratio = pca.explained_variance_ratio_"
      ],
      "id": "bHTx4k9AGhwQ"
    },
    {
      "cell_type": "code",
      "execution_count": 33,
      "metadata": {
        "id": "AaF2i_WYGhwQ",
        "outputId": "7c82139e-ea1b-4327-b66c-1415dac836d2",
        "colab": {
          "base_uri": "https://localhost:8080/"
        }
      },
      "outputs": [
        {
          "output_type": "execute_result",
          "data": {
            "text/plain": [
              "array([1.78750940e-01, 1.34459446e-01, 5.14856870e-02, 4.87225444e-02,\n",
              "       4.55285084e-02, 3.68714692e-02, 3.28765389e-02, 2.93805005e-02,\n",
              "       2.72138052e-02, 2.40790150e-02, 2.34291473e-02, 2.17860360e-02,\n",
              "       2.01656920e-02, 1.82977708e-02, 1.64904653e-02, 1.59907186e-02,\n",
              "       1.48913300e-02, 1.35800860e-02, 1.27574122e-02, 1.14679939e-02,\n",
              "       1.07094885e-02, 9.84037524e-03, 9.05511925e-03, 8.82820956e-03,\n",
              "       7.91793813e-03, 7.87795078e-03, 7.26201376e-03, 7.14424411e-03,\n",
              "       6.12907972e-03, 6.02864184e-03, 5.91633203e-03, 5.51145907e-03,\n",
              "       5.08481726e-03, 4.88467483e-03, 4.69175800e-03, 4.41180714e-03,\n",
              "       4.16336003e-03, 4.04740421e-03, 3.84006796e-03, 3.77765892e-03,\n",
              "       3.46331228e-03, 3.35964742e-03, 3.15302462e-03, 3.05584429e-03,\n",
              "       2.90328465e-03, 2.82097221e-03, 2.76983374e-03, 2.67195329e-03,\n",
              "       2.54545050e-03, 2.45359992e-03, 2.38004103e-03, 2.22111578e-03,\n",
              "       2.17693841e-03, 2.09555979e-03, 2.01910182e-03, 1.96958088e-03,\n",
              "       1.88945779e-03, 1.77027350e-03, 1.75377194e-03, 1.65226408e-03,\n",
              "       1.57538983e-03, 1.50115685e-03, 1.47503554e-03, 1.37385711e-03,\n",
              "       1.31390094e-03, 1.29879262e-03, 1.25217854e-03, 1.22473268e-03,\n",
              "       1.14314249e-03, 1.10835687e-03, 1.07420052e-03, 1.04357977e-03,\n",
              "       1.03606249e-03, 1.01833828e-03, 9.73352265e-04, 9.44505794e-04,\n",
              "       9.07833210e-04, 8.88347398e-04, 8.85499976e-04, 8.63160983e-04,\n",
              "       8.44584174e-04, 8.31457756e-04, 8.12558894e-04, 7.99587177e-04,\n",
              "       7.67831456e-04, 7.60693389e-04, 7.47029470e-04, 7.27575533e-04,\n",
              "       7.16621359e-04, 7.04896243e-04, 6.56972597e-04, 6.30391725e-04,\n",
              "       5.99281344e-04, 5.73507402e-04, 5.58572543e-04, 5.51204030e-04,\n",
              "       5.25066133e-04, 4.86912185e-04, 4.73127731e-04, 4.64501104e-04,\n",
              "       4.37129269e-04, 4.03547223e-04, 3.64538861e-04, 3.58099814e-04,\n",
              "       3.52762772e-04, 3.46501011e-04, 3.39823688e-04, 3.20606471e-04,\n",
              "       3.12876208e-04, 3.10873148e-04, 2.97925583e-04, 2.82174793e-04,\n",
              "       2.75720474e-04, 2.72497007e-04, 2.69898438e-04, 2.60011316e-04,\n",
              "       2.48403387e-04, 2.29225523e-04, 2.20822750e-04, 2.19259588e-04,\n",
              "       2.07006220e-04, 2.02100233e-04, 1.81919696e-04, 1.74881648e-04,\n",
              "       1.62641062e-04, 1.57955285e-04, 1.54253948e-04, 1.47872169e-04,\n",
              "       1.37018714e-04, 1.28777167e-04, 1.19173075e-04, 1.15193875e-04,\n",
              "       1.09655731e-04, 1.09460339e-04, 1.06267829e-04, 9.42369868e-05,\n",
              "       9.36408739e-05, 8.47019602e-05, 8.31596409e-05, 7.68147761e-05,\n",
              "       7.24350608e-05, 6.77147061e-05, 6.57018016e-05, 5.64979214e-05,\n",
              "       5.43891493e-05, 4.96156176e-05, 4.40234013e-05, 3.40654560e-05,\n",
              "       3.31752850e-05, 3.14302431e-05, 2.70483319e-05, 2.22796080e-05,\n",
              "       1.80085084e-05, 1.30735712e-05, 1.27606031e-05, 1.22019478e-05,\n",
              "       5.94882889e-06, 1.65606839e-06, 1.54709034e-06, 4.10487568e-07,\n",
              "       1.17702369e-07, 1.01792456e-07, 2.25229769e-08, 1.13118924e-08,\n",
              "       2.31976567e-09, 7.75516672e-10, 3.76101969e-10, 3.85306981e-20,\n",
              "       3.52524070e-32])"
            ]
          },
          "metadata": {},
          "execution_count": 33
        }
      ],
      "source": [
        "# Visualizado ev_ratio\n",
        "ev_ratio"
      ],
      "id": "AaF2i_WYGhwQ"
    },
    {
      "cell_type": "code",
      "execution_count": 34,
      "metadata": {
        "id": "RE0nZ66YGhwR",
        "outputId": "9cfab340-e38d-454d-bc70-7a7245506b03",
        "colab": {
          "base_uri": "https://localhost:8080/"
        }
      },
      "outputs": [
        {
          "output_type": "execute_result",
          "data": {
            "text/plain": [
              "array([0.17875094, 0.31321039, 0.36469607, 0.41341862, 0.45894713,\n",
              "       0.49581859, 0.52869513, 0.55807563, 0.58528944, 0.60936845,\n",
              "       0.6327976 , 0.65458364, 0.67474933, 0.6930471 , 0.70953757,\n",
              "       0.72552828, 0.74041961, 0.7539997 , 0.76675711, 0.77822511,\n",
              "       0.78893459, 0.79877497, 0.80783009, 0.8166583 , 0.82457624,\n",
              "       0.83245419, 0.8397162 , 0.84686045, 0.85298953, 0.85901817,\n",
              "       0.8649345 , 0.87044596, 0.87553078, 0.88041545, 0.88510721,\n",
              "       0.88951902, 0.89368238, 0.89772978, 0.90156985, 0.90534751,\n",
              "       0.90881082, 0.91217047])"
            ]
          },
          "metadata": {},
          "execution_count": 34
        }
      ],
      "source": [
        "# Verificando a soma acumulada de variância explicada\n",
        "ev_ratio.cumsum()[:42]"
      ],
      "id": "RE0nZ66YGhwR"
    },
    {
      "cell_type": "code",
      "execution_count": 35,
      "metadata": {
        "id": "h8LDFbQEGhwR",
        "outputId": "d6c1e253-1381-42a6-a0bc-e272617a664d",
        "colab": {
          "base_uri": "https://localhost:8080/",
          "height": 282
        }
      },
      "outputs": [
        {
          "output_type": "execute_result",
          "data": {
            "text/plain": [
              "<matplotlib.collections.LineCollection at 0x7fdf11e127d0>"
            ]
          },
          "metadata": {},
          "execution_count": 35
        },
        {
          "output_type": "display_data",
          "data": {
            "text/plain": [
              "<Figure size 432x288 with 1 Axes>"
            ],
            "image/png": "[encoded data removed]"
          },
          "metadata": {
            "needs_background": "light"
          }
        }
      ],
      "source": [
        "# visualizando os resultados\n",
        "plt.plot(ev_ratio.cumsum(),c='b',lw=2.0)\n",
        "plt.plot(ev_ratio.cumsum()[:42],c='r',lw=4.0)\n",
        "plt.scatter(42,ev_ratio.cumsum()[42],c='r',s=100)\n",
        "plt.hlines(ev_ratio.cumsum()[42], 0,42 , colors='k', linestyles='dotted')\n",
        "plt.vlines(42, 0,ev_ratio.cumsum()[42], colors='k', linestyles='dotted')"
      ],
      "id": "h8LDFbQEGhwR"
    },
    {
      "cell_type": "code",
      "execution_count": 36,
      "metadata": {
        "id": "D6gBvCelGhwR",
        "outputId": "649bc04a-9eb8-426f-eb43-ffdaf40a14de",
        "colab": {
          "base_uri": "https://localhost:8080/"
        }
      },
      "outputs": [
        {
          "output_type": "stream",
          "name": "stdout",
          "text": [
            "0.9153234909015912\n"
          ]
        }
      ],
      "source": [
        "# Portanto temos N = 42 e a explained variation ratio total é 0.915, porém com a escolha dos ados é aleatória pode variar.\n",
        "N = 42\n",
        "print(ev_ratio.cumsum()[42])"
      ],
      "id": "D6gBvCelGhwR"
    },
    {
      "cell_type": "markdown",
      "metadata": {
        "id": "bco71WfVGhwR"
      },
      "source": [
        "> Considerando a base de 200000 registros a razão de variância explicada por 42 variávei é de ~ 91,5%"
      ],
      "id": "bco71WfVGhwR"
    },
    {
      "cell_type": "markdown",
      "metadata": {
        "id": "oYJogx3mGhwS"
      },
      "source": [
        "#### Aplicar o UMAP para gerar uma redução para 2 dimensões para ser empregada na pré-seleção de modelos\n",
        "\n",
        "#### Como funciona a UMAP (Traduzido de [UMAP.org](https://umap-learn.readthedocs.io/en/latest/how_umap_works.html))\n",
        "\n",
        "UMAP é um algoritmo para redução de dimensão baseado em várias técnicas de aprendizado e ideias de análise de dados topológicos. Ele fornece uma estrutura muito geral para abordar o aprendizado múltiplo e a redução de dimensão, mas também pode fornecer realizações concretas específicas.  \n",
        "\n",
        "Existem fundamentos matemáticos mais profundos, mas para facilitar a leitura pelo público em geral, eles serão meramente referenciados e vinculados. Se você estiver procurando a descrição matemática, consulte o artigo UMAP.\n",
        "\n",
        "Para começar a entender o UMAP, precisaremos de um pouco de conhecimento matemático da topologia algébrica e da análise de dados topológicos. Isso fornecerá um algoritmo básico que funciona bem na teoria, mas infelizmente não tão bem na prática. \n",
        "\n",
        "O próximo passo será fazer uso de alguma geometria Riemanniana básica para trazer os dados do mundo real um pouco mais perto das suposições subjacentes do algoritmo de análise de dados topológicos. Infelizmente, isso introduzirá novas complicações, que serão resolvidas através de uma combinação de matemática profunda (cujos detalhes serão omitidos) e lógica difusa. \n",
        "\n",
        "Podemos então juntar as peças novamente e combiná-las com uma nova abordagem para encontrar uma representação de baixa dimensão mais adequada às novas estruturas de dados disponíveis. Juntando tudo isso, chegamos ao algoritmo UMAP básico."
      ],
      "id": "oYJogx3mGhwS"
    },
    {
      "cell_type": "code",
      "execution_count": 37,
      "metadata": {
        "id": "-bAXeLQ7GhwS",
        "outputId": "cb3eaa5d-8b5c-4203-acbf-094b0da0c5c4",
        "colab": {
          "base_uri": "https://localhost:8080/"
        }
      },
      "outputs": [
        {
          "output_type": "stream",
          "name": "stdout",
          "text": [
            "CPU times: user 1min 42s, sys: 394 ms, total: 1min 42s\n",
            "Wall time: 1min 34s\n"
          ]
        }
      ],
      "source": [
        "%%time\n",
        "# Vamos aplicar o UMAP para reduzir a dimensionalidade de X2 \n",
        "X_umap = umap.UMAP(n_components=2,init='random', random_state=0, low_memory=True).fit_transform(X2, y=y)"
      ],
      "id": "-bAXeLQ7GhwS"
    },
    {
      "cell_type": "code",
      "source": [
        "# Verificando o tamanho de X_umap\n",
        "X_umap.shape"
      ],
      "metadata": {
        "id": "ptwhiY6Q0czP",
        "outputId": "4f10f78a-a96e-4b03-9ae4-263f1e609291",
        "colab": {
          "base_uri": "https://localhost:8080/"
        }
      },
      "id": "ptwhiY6Q0czP",
      "execution_count": 39,
      "outputs": [
        {
          "output_type": "execute_result",
          "data": {
            "text/plain": [
              "(50000, 2)"
            ]
          },
          "metadata": {},
          "execution_count": 39
        }
      ]
    },
    {
      "cell_type": "code",
      "execution_count": 40,
      "metadata": {
        "id": "DHEZMFezGhwS",
        "outputId": "5e0c1b7b-e7b9-4b96-833d-1cd239c69485",
        "colab": {
          "base_uri": "https://localhost:8080/"
        }
      },
      "outputs": [
        {
          "output_type": "execute_result",
          "data": {
            "text/plain": [
              "(50000, 3)"
            ]
          },
          "metadata": {},
          "execution_count": 40
        }
      ],
      "source": [
        "# Agora vamos agregar a X_umap o atributo alvo isFraud\n",
        "X_umap= pd.concat([pd.DataFrame(X_umap, columns=['X0','X1']),X1['isFraud']],axis=1)\n",
        "X_umap.shape"
      ],
      "id": "DHEZMFezGhwS"
    },
    {
      "cell_type": "code",
      "execution_count": 42,
      "metadata": {
        "id": "ICIK9DOoGhwS",
        "outputId": "9282c21e-0dcc-40c7-8d36-66b4b0929929",
        "colab": {
          "base_uri": "https://localhost:8080/",
          "height": 497
        }
      },
      "outputs": [
        {
          "output_type": "display_data",
          "data": {
            "text/plain": [
              "<Figure size 576x576 with 1 Axes>"
            ],
            "image/png": "[encoded data removed]"
          },
          "metadata": {
            "needs_background": "light"
          }
        }
      ],
      "source": [
        "# Visualizando o dataset X_umap\n",
        "fig, ax = plt.subplots(figsize=(8, 8))\n",
        "X_umap[X_umap['isFraud']==1].plot(\n",
        "    kind=\"scatter\",\n",
        "    x=0,\n",
        "    y=1,\n",
        "    s=10,\n",
        "    ax=ax,\n",
        "    c='r',\n",
        "    alpha=0.95\n",
        ")\n",
        "X_umap[X_umap['isFraud']==0].plot(\n",
        "    kind=\"scatter\",\n",
        "    x=0,\n",
        "    y=1,\n",
        "    s=5,\n",
        "    ax=ax,\n",
        "    c='b',\n",
        "    alpha=0.05,\n",
        ")\n",
        "fig.savefig('/content/imagens/umap_2d.png')"
      ],
      "id": "ICIK9DOoGhwS"
    },
    {
      "cell_type": "code",
      "execution_count": 43,
      "metadata": {
        "id": "74f6LSCmGhwT"
      },
      "outputs": [],
      "source": [
        "X_umap.to_csv('/content/data/pre_processed/trans_umap_2D.csv')"
      ],
      "id": "74f6LSCmGhwT"
    },
    {
      "cell_type": "markdown",
      "metadata": {
        "id": "FoAgXaE7GhwT"
      },
      "source": [
        "#### Aplicar o UMAP para gerar uma redução para 42 dimensões, que será empregada na análises dos modelos escolhidos na etapa pré-seleção de modelos"
      ],
      "id": "FoAgXaE7GhwT"
    },
    {
      "cell_type": "code",
      "execution_count": 44,
      "metadata": {
        "id": "d0IQZcjsGhwT",
        "outputId": "6cf649ee-5fe8-4e4d-f283-964a818f9488",
        "colab": {
          "base_uri": "https://localhost:8080/"
        }
      },
      "outputs": [
        {
          "output_type": "stream",
          "name": "stdout",
          "text": [
            "CPU times: user 2min 33s, sys: 691 ms, total: 2min 33s\n",
            "Wall time: 2min 25s\n"
          ]
        }
      ],
      "source": [
        "%%time\n",
        "X_umap_mult = umap.UMAP(n_components=42,init='random', random_state=0, low_memory=True).fit_transform(X2, y=y)"
      ],
      "id": "d0IQZcjsGhwT"
    },
    {
      "cell_type": "code",
      "execution_count": 45,
      "metadata": {
        "id": "TJc6Lq-CGhwU",
        "outputId": "1e7f8779-a0c8-416b-e6b6-fc8a45267504",
        "colab": {
          "base_uri": "https://localhost:8080/"
        }
      },
      "outputs": [
        {
          "output_type": "execute_result",
          "data": {
            "text/plain": [
              "['X0', 'X1', 'X2', 'X3', 'X4']"
            ]
          },
          "metadata": {},
          "execution_count": 45
        }
      ],
      "source": [
        "# gerando Nomes para as Colunas\n",
        "cols=[('X'+str(a)) for a in range(N)]\n",
        "cols[:5]"
      ],
      "id": "TJc6Lq-CGhwU"
    },
    {
      "cell_type": "code",
      "execution_count": 46,
      "metadata": {
        "id": "Ae7UbkWXGhwU",
        "outputId": "039fb657-bc7d-4c59-b20a-e4d4ebd7c39d",
        "colab": {
          "base_uri": "https://localhost:8080/"
        }
      },
      "outputs": [
        {
          "output_type": "stream",
          "name": "stdout",
          "text": [
            "CPU times: user 1.74 s, sys: 35 ms, total: 1.78 s\n",
            "Wall time: 1.77 s\n"
          ]
        }
      ],
      "source": [
        "%%time\n",
        "# Exportando um DataFrame com X_umap_mult e y\n",
        "trans_umap_multi = pd.concat([pd.DataFrame(X_umap_mult, columns=cols),y],axis=1)\n",
        "trans_umap_multi.to_csv('/content/data/pre_processed/trans_umap_multi.csv')"
      ],
      "id": "Ae7UbkWXGhwU"
    },
    {
      "cell_type": "markdown",
      "source": [
        "### Resumo da Etapa 2\n",
        "\n",
        "- Foi feito a limpeza dos dados gerados na Etapa1\n",
        "- Foi selecionada uma amostra aleatória de 50000 registros para modelagem\n",
        "- Foi slecionado um número de atributos N = 42 que corresponde a uma razão de explicação da variação de 91,5%\n",
        "- Foram gerados dois arquivos para modelagem:\n",
        "  - Na Etapa 3 será feita uma pré-modelagem usando vários modelos e os dados com 2 componentes (`trans_umap_2D.csv`), com esssas dimensões é mais fácil de visualizar como o modelo se comporta, os modelos com melhor desempenho serão selecionados\n",
        "  - Na Etapa 4 os melhores modelos serão usados juntamente com a base de dados de 42 dimensões (`trans_umap_mult.csv`)"
      ],
      "metadata": {
        "id": "zhOM8K6FrJxt"
      },
      "id": "zhOM8K6FrJxt"
    },
    {
      "cell_type": "markdown",
      "metadata": {
        "id": "V3XqO6QiGhwU"
      },
      "source": [
        "## Etapa 3 - Pré Modelagem.\n",
        "\n",
        "Em função da limitação de memória e de tempo preferiu-se executar uma pre-seleção de modelos. Neste processo serão executados o treinamento e avaliação de 10 modelos, utilizando o conjunto de dados `X_UMAP_2D`, de forma que se tenha uma primeira avaliação de seu desempenho, os melhores modelos serão escolidos para serem **novamente treinados e avaliados** agora com o conjunto de dados `X_UMAP_Mult` na **Etapa 4**. Os modelos usados e a sua configuração foram: \n",
        "> - Etapa 3A - Decision Trees.\n",
        "    - `DecisionTreeClassifier(max_depth=7)`\n",
        "> - Etapa 3B - SVC Linear.\n",
        "    - `SVC(kernel=\"linear\", C=1.0, probability=True)`\n",
        "> - Etapa 3C - SVC RBF.\n",
        "    - `SVC(kernel=\"rbf\",gamma=0.05, C=1.0, probability=True)`\n",
        "> - Etapa 3D - Gaussina Naives Bayes.\n",
        "    - `GaussianNB()`\n",
        "> - Etapa 3E - MLP Classifier.\n",
        "    - `MLPClassifier(hidden_layer_sizes=(200,),alpha=0.0001,learning_rate_init=0.001,max_iter=100000)`\n",
        "> - Etapa 3F - KNeighborsClassifier.\n",
        "    - `KNeighborsClassifier(n_neighbors=70)`\n",
        "> - Etapa 3F - 'Analise Discriminante Quadrática.'.\n",
        "    - `QuadraticDiscriminantAnalysis()`\n",
        "> - Etapa 3G - Random Forrest.\n",
        "    - `RandomForestClassifier(n_estimators=1500, max_depth=15)`\n",
        "> - Etapa 3H - Adaboost.\n",
        "    - `AdaBoostClassifier(n_estimators=1500)`\n",
        "> - Etapa 3I - GradientBosting.\n",
        "    - `GradientBoostingClassifier(n_estimators=1500, max_depth=11)`\n",
        "> - Etapa 3I - XGBoost.\n",
        "    - `XGBClassifier(n_estimators=1000, max_depth=11, random_state=42)`\n",
        "> - Etapa 3J - Histogram Based Gradient Boost\n",
        "    - `HistGradientBoostingClassifier(max_iter=1000, learning_rate=0.01)`\n",
        "    \n",
        "Para facilitar a análise foi criada uma função **`grafico_classificador()`** que foi incorporada ao módulo `Model_Tools` que deve ser importando antes da análise e o aquivo `Models_Tools.py` **precisa estar salvo no mesmo diretório do notebook**. "
      ],
      "id": "V3XqO6QiGhwU"
    },
    {
      "cell_type": "code",
      "execution_count": 47,
      "metadata": {
        "id": "Og-MMb-7GhwV"
      },
      "outputs": [],
      "source": [
        "# Caso o xgboost ainda não esteja instalado execute o camndo abaixo deletando o #\n",
        "#! pip install xgboost"
      ],
      "id": "Og-MMb-7GhwV"
    },
    {
      "cell_type": "code",
      "execution_count": 50,
      "metadata": {
        "id": "LwGqJ_iqGhwV",
        "outputId": "7851d35b-3b99-4e55-8f7e-abf8841673ad",
        "colab": {
          "base_uri": "https://localhost:8080/"
        }
      },
      "outputs": [
        {
          "output_type": "stream",
          "name": "stdout",
          "text": [
            "CPU times: user 79 µs, sys: 0 ns, total: 79 µs\n",
            "Wall time: 82 µs\n"
          ]
        }
      ],
      "source": [
        "%%time\n",
        "\n",
        "import numpy as np\n",
        "from sklearn.preprocessing import StandardScaler\n",
        "from sklearn.metrics import plot_confusion_matrix\n",
        "from sklearn.metrics import confusion_matrix\n",
        "from sklearn.metrics import roc_curve, auc\n",
        "from sklearn.model_selection import train_test_split\n",
        "\n",
        "# algoritmos de classificação\n",
        "from sklearn.neural_network import MLPClassifier\n",
        "from sklearn.neighbors import KNeighborsClassifier\n",
        "from sklearn.svm import SVC\n",
        "from sklearn.gaussian_process import GaussianProcessClassifier\n",
        "from sklearn.gaussian_process.kernels import RBF\n",
        "from sklearn.tree import DecisionTreeClassifier\n",
        "from sklearn.ensemble import RandomForestClassifier, AdaBoostClassifier, GradientBoostingClassifier\n",
        "from sklearn.naive_bayes import GaussianNB\n",
        "from sklearn import tree\n",
        "from sklearn.discriminant_analysis import QuadraticDiscriminantAnalysis\n",
        "from xgboost import XGBClassifier\n",
        "from sklearn.experimental import enable_hist_gradient_boosting\n",
        "from sklearn.ensemble import HistGradientBoostingClassifier"
      ],
      "id": "LwGqJ_iqGhwV"
    },
    {
      "cell_type": "code",
      "execution_count": 51,
      "metadata": {
        "id": "z84_yz1qGhwV"
      },
      "outputs": [],
      "source": [
        "def grafico_classificador(X, y, test_size, modelo, nome_modelo, nome_dataset, pca=False, norm=True):\n",
        "    '''\n",
        "    Esta função processa um template de modelagem com machine learning usando recursos do scikit-learn e retorna\n",
        "    um dashboard simplificado de gráficos para compreenssão do modelo\n",
        "    Entradas:\n",
        "    X - Matriz de atributos dos dados\n",
        "    y - Vetor de targets de classificação\n",
        "    test_size - % percentagem do dataset usada para teste\n",
        "    modelo - Instância do modelo do Scikit Learn parametrizada\n",
        "    nome_modelo - string para descrever o modelo\n",
        "    nome_dataset - string para descrever o dataset\n",
        "    pca - True aplica pca de dois componentes aos dados para visualização\n",
        "    norm - True normaliza os dados\n",
        "    Saida:\n",
        "    Um gráfico com os seguintes subplots\n",
        "        - Gráfico linha 1 coluna 1 - Visualização do Gráfico 2D dos dados data set\n",
        "        - Gráfico linha 1 coluna 2 - Visualização do Gráfico 2D dos dados data set sobreposto à superfície de decisão\n",
        "        - Gráfico linha 1 coluna 3 - Matriz de Confusão\n",
        "        - Gráfico linha 2 coluna 1 - Visualização das probabilidades geradas pelo método perdictproba das Classes de Modelos\n",
        "        - Gráfico linha 2 coluna 2 - Visualização do Gráfico 2D da superfície de decisão\n",
        "        - Gráfico linha 2 coluna 3 - Curva ROC e Apresnetação da AUC - Área Under Curve \n",
        "    '''\n",
        "    \n",
        "    #Definições iniciais\n",
        "    metrics=[] # lista de Métricas\n",
        "    cmap = 'bwr' # colormap do matplotlib\n",
        "    fig, ax = plt.subplots(2, 3, figsize=(15,10))\n",
        "    suptitle = nome_modelo\n",
        "    # realizar pca se necessário\n",
        "    if pca==True:\n",
        "        pca=PCA(n_components=2)\n",
        "        pca.fit(X)\n",
        "        X = pca.transform(X)\n",
        "    # realizar normalização se necessário\n",
        "    if norm==True:\n",
        "        X = StandardScaler().fit_transform(X)\n",
        "        suptitle = nome_modelo+ ' Dados Normalizados'\n",
        "    # Definir Título do Gráfico\n",
        "    fig.suptitle(suptitle, fontsize=16)\n",
        "    # Fazer os split dos dados\n",
        "    X_train, X_test, y_train, y_test = train_test_split(X, y, test_size=test_size, random_state=42)\n",
        "    # Instanciar a Classe do Modelo\n",
        "    clf = modelo\n",
        "    # Treinamento do modelo\n",
        "    clf.fit(X_train, y_train)\n",
        "    # Calculo de Métricas\n",
        "    score = clf.score(X_test, y_test)\n",
        "    # Calculo da Superfice de Decisão do Modelo\n",
        "    h = 0.02\n",
        "    x_min, x_max = X[:, 0].min() - .5, X[:, 0].max() + .5\n",
        "    y_min, y_max = X[:, 1].min() - .5, X[:, 1].max() + .5\n",
        "    xx, yy = np.meshgrid(np.arange(x_min, x_max, h),np.arange(y_min, y_max, h))\n",
        "    if hasattr(clf, \"decision_function\"):\n",
        "        Z = clf.decision_function(np.c_[xx.ravel(), yy.ravel()])\n",
        "    else:\n",
        "        Z = clf.predict_proba(np.c_[xx.ravel(), yy.ravel()])[:, 1]\n",
        "\n",
        "    # Colocar os valores para cores dos modelos\n",
        "    Z = Z.reshape(xx.shape)\n",
        "    # Plotagem do dataset\n",
        "    ## Gráfico linha 1 coluna 1 - Visualização do Gráfico 2D dos dados data set\n",
        "    ax[0,0].scatter(X_train[:, 0], X_train[:, 1], c=y_train, cmap=cmap,edgecolors='w', s=10)\n",
        "    ax[0,0].scatter(X_test[:, 0], X_test[:, 1], c=y_test, cmap=cmap, alpha=0.6,edgecolors='w',s=10)\n",
        "    ax[0,0].set_title(nome_dataset)\n",
        "    ax[0,0].set_xlabel('X1')\n",
        "    ax[0,0].set_ylabel('X2')\n",
        "    ##- Gráfico linha 1 coluna 2 - Visualização do Gráfico 2D dos dados data set sobreposto à superfície de decisão\n",
        "    ax[0,1].contourf(xx, yy, Z, cmap=cmap, alpha=.8)\n",
        "    ax[0,1].scatter(X_train[:, 0], X_train[:, 1], c=y_train, cmap=cmap,edgecolors='w',s=10)\n",
        "    ax[0,1].scatter(X_test[:, 0], X_test[:, 1], c=y_test, cmap=cmap, alpha=0.6,edgecolors='w',s=10)\n",
        "    ax[0,1].set_title(nome_modelo+' score='+str(score))\n",
        "    ax[0,1].set_xlabel('X1')\n",
        "    ax[0,1].set_ylabel('X2')\n",
        "    \n",
        "    # previsão das probabilidades\n",
        "    y_pred = clf.fit(X_train,y_train).predict(X_test)\n",
        "    # probabilidades ordenadas\n",
        "    arr = clf.predict_proba(X)\n",
        "    P = arr[arr[:, 1].argsort()]\n",
        "    # Calculo da CURVA ROC e Métricas\n",
        "    fpr, tpr, tres = roc_curve(y_test, clf.predict_proba(X_test)[:, 1])\n",
        "    # Calulo da AUC\n",
        "    aucc = auc(fpr,tpr)\n",
        "    ##- Gráfico linha 1 coluna 3 - Matriz de Confusão\n",
        "    ax[0,2].matshow(confusion_matrix(y_test,y_pred),cmap='bwr')\n",
        "    ax[0,2].set_title('Matriz de Confusão')\n",
        "    ax[0,2].text(0, 0, confusion_matrix(y_test,y_pred)[0,0],color='w', fontsize=16, horizontalalignment='center')\n",
        "    ax[0,2].text(0, 1, confusion_matrix(y_test,y_pred)[0,1],color='w', fontsize=16, horizontalalignment='center')\n",
        "    ax[0,2].text(1, 0, confusion_matrix(y_test,y_pred)[1,0],color='w', fontsize=16, horizontalalignment='center')\n",
        "    ax[0,2].text(1, 1, confusion_matrix(y_test,y_pred)[1,1],color='w', fontsize=16, horizontalalignment='center')\n",
        "    ax[0,2].set_xticklabels(['','prev positivo','prev negativo'])\n",
        "    ax[0,2].set_yticklabels(['','real positivo','real negativo'], rotation=90, va=\"center\")\n",
        "    ## Gráfico linha 2 coluna 1 - Visualização das probabilidades geradas pelo método perdictproba das Classes de Modelos\n",
        "    ax[1,0].plot(P[:,0],'b-')\n",
        "    ax[1,0].plot(P[:,1],'r-')\n",
        "    ax[1,0].set_title(nome_modelo+' Curvas Prob.')\n",
        "    ax[1,0].set_ylabel('Prob')\n",
        "    ## - Gráfico linha 2 coluna 2 - Visualização do Gráfico 2D da superfície de decisão\n",
        "    ax[1,1].contourf(xx, yy, Z, cmap=cmap, alpha=.8)\n",
        "    ax[1,1].set_title(nome_modelo+' Superf. Dec.')\n",
        "    ax[1,1].set_xlabel('X1')\n",
        "    ax[1,1].set_ylabel('X2')\n",
        "    ## - Gráfico linha 2 coluna 3 - Curva ROC e Apresnetação da AUC - Área Under Curve\n",
        "    ax[1,2].plot(fpr,tpr,'r-')\n",
        "    ax[1,2].plot([0,1],[0,1],'b:')\n",
        "    ax[1,2].set_title('Curva ROC AUC= '+str(np.round(aucc,3)))\n",
        "    ax[1,2].set_xlabel('TFP')\n",
        "    ax[1,2].set_ylabel('TVP')\n",
        "    fig.tight_layout(pad=3.5)\n",
        "    # inserindo nome do modeo nas métricas\n",
        "    metrics.append(nome_modelo)\n",
        "    # inserindo VP nas métricas\n",
        "    metrics.append(confusion_matrix(y_test,y_pred)[0,0])\n",
        "    # inserindo VN nas métricas\n",
        "    metrics.append(confusion_matrix(y_test,y_pred)[1,1])\n",
        "    # inserindo FN nas métricas\n",
        "    metrics.append(confusion_matrix(y_test,y_pred)[0,1])\n",
        "    # inserindo FP nas métricas\n",
        "    metrics.append(confusion_matrix(y_test,y_pred)[1,0])\n",
        "    # inserindo AUC nas métricas\n",
        "    metrics.append(auc(fpr,tpr))\n",
        "    fig.savefig('/content/imagens/'+nome_modelo+'.png', dpi=fig.dpi)\n",
        "\n",
        "    return metrics"
      ],
      "id": "z84_yz1qGhwV"
    },
    {
      "cell_type": "markdown",
      "source": [
        "## Visualização dos Resultados da Etapa 3\n",
        "\n",
        "Como a execução dos códigos desta etapa pode ser um longa apresnetam- seus resultado e comentários antes do código, assim pode optar por apenas entender o processo de execução e visalizar o que foi obtido ser ter de aguardar a execução ou então executando o ajuste de modelo desejado.\n",
        "\n",
        "\n",
        "\n",
        "### **Etapa 3A - Decision Trees.**\n",
        "Usando a função `grafico_classificador` para este modelo obteve-se a seguinte visualização:\n",
        "[Veja neste link](https://github.com/DeepFluxion/F1rst/blob/main/images/Decision%20Trees.png)\n",
        "### **Etapa 3B - SVC Linear.**\n",
        "Usando a função `grafico_classificador` para este modelo obteve-se a seguinte visualização:\n",
        "[Veja neste link](https://github.com/DeepFluxion/F1rst/blob/main/images/SVC%20Linear.png)\n",
        "### **Etapa 3C - SVC RBF.**\n",
        "Usando a função `grafico_classificador` para este modelo obteve-se a seguinte visualização:\n",
        "[Veja neste link](https://github.com/DeepFluxion/F1rst/blob/main/images/SVC%20RBF.png)\n",
        "### **Etapa 3D - Gaussin Naives Bayes.**\n",
        "Usando a função `grafico_classificador` para este modelo obteve-se a seguinte visualização:\n",
        "[Veja neste link](https://github.com/DeepFluxion/F1rst/blob/main/images/Gaussian%20Naives%20Bayes.png)\n",
        "\n",
        "### **Etapa 3E - KNeighborsClassifier.**\n",
        "Usando a função `grafico_classificador` para este modelo obteve-se a seguinte visualização:\n",
        "[Veja neste link](https://github.com/DeepFluxion/F1rst/blob/main/images/KNeighborsClassifier.png)\n",
        "\n",
        "### **Etapa 3F - Analise Discriminante Quadrática**\n",
        "Usando a função `grafico_classificador` para este modelo obteve-se a seguinte visualização:\n",
        "[Veja neste link](https://github.com/DeepFluxion/F1rst/blob/main/images/Analise%20Discriminante%20Quadr%C3%A1tica..png)\n",
        "\n",
        "### **Etapa 3G - Random Forrest.**\n",
        "Usando a função `grafico_classificador` para este modelo obteve-se a seguinte visualização:\n",
        "[Veja neste link](https://github.com/DeepFluxion/F1rst/blob/main/images/Random%20Forrest.png)\n",
        "\n",
        "### **Etapa 3H - Adaboost.**\n",
        "Usando a função `grafico_classificador` para este modelo obteve-se a seguinte visualização:\n",
        "[Veja neste link](https://github.com/DeepFluxion/F1rst/blob/main/images/_Adaboost.png)\n",
        "\n",
        "### **Etapa 3I - GradientBosting.**\n",
        "Usando a função `grafico_classificador` para este modelo obteve-se a seguinte visualização:\n",
        "[Veja neste link](https://github.com/DeepFluxion/F1rst/blob/main/images/GradientBosting.png)\n",
        "### **Etapa 3I - XGBoost.**\n",
        "Usando a função `grafico_classificador` para este modelo obteve-se a seguinte visualização:\n",
        "[Veja neste link](https://github.com/DeepFluxion/F1rst/blob/main/images/XGBoost.png)\n",
        "### **Etapa 3J - Histogram Based Gradient Boost**\n",
        "Usando a função `grafico_classificador` para este modelo obteve-se a seguinte visualização:\n",
        "[Veja neste link](https://github.com/DeepFluxion/F1rst/blob/main/images/Histogram%20Based%20Gradient%20Boost.png)\n"
      ],
      "metadata": {
        "id": "Mn49Ut_BIjR_"
      },
      "id": "Mn49Ut_BIjR_"
    },
    {
      "cell_type": "code",
      "execution_count": 220,
      "metadata": {
        "id": "uJ4f16H_GhwW",
        "outputId": "e5ecd23d-6ed4-4045-a511-c9329afa8d50",
        "colab": {
          "base_uri": "https://localhost:8080/"
        }
      },
      "outputs": [
        {
          "output_type": "stream",
          "name": "stdout",
          "text": [
            "CPU times: user 26.1 ms, sys: 1 ms, total: 27.1 ms\n",
            "Wall time: 27 ms\n"
          ]
        }
      ],
      "source": [
        "%%time\n",
        "# Carregando os dados de trans_umap_2D.csv\n",
        "df=pd.read_csv('/content/data/pre_processed/trans_umap_2D.csv', index_col=0)"
      ],
      "id": "uJ4f16H_GhwW"
    },
    {
      "cell_type": "code",
      "execution_count": 221,
      "metadata": {
        "id": "c_jirojfGhwX",
        "outputId": "8965201f-947c-4cc3-cd55-2acdbc49f915",
        "colab": {
          "base_uri": "https://localhost:8080/"
        }
      },
      "outputs": [
        {
          "output_type": "stream",
          "name": "stdout",
          "text": [
            "CPU times: user 1.3 ms, sys: 0 ns, total: 1.3 ms\n",
            "Wall time: 1.31 ms\n"
          ]
        }
      ],
      "source": [
        "%%time\n",
        "# Criando as arrays a partir de trans_umap_2D.csv\n",
        "X = df.iloc[:,:2].values\n",
        "y = df.isFraud.values"
      ],
      "id": "c_jirojfGhwX"
    },
    {
      "cell_type": "code",
      "execution_count": 222,
      "metadata": {
        "id": "IT8rayW9GhwX"
      },
      "outputs": [],
      "source": [
        "modelos = (('Decision Trees', DecisionTreeClassifier(max_depth=7)),\n",
        "          ('SVC Linear',SVC(kernel=\"linear\", C=1.0, probability=True)),\n",
        "          ('SVC RBF',SVC(kernel=\"rbf\",gamma=0.05, C=1.0, probability=True)),\n",
        "          ('Gaussian Naives Bayes',GaussianNB()),\n",
        "          ('MLP Classifier',MLPClassifier(hidden_layer_sizes=(200,),alpha=0.0001,learning_rate_init=0.001,max_iter=100000)),\n",
        "          ('KNeighborsClassifier',KNeighborsClassifier(n_neighbors=70)),\n",
        "          ('Analise Discriminante Quadrática.',QuadraticDiscriminantAnalysis()),\n",
        "          ('Random Forrest',RandomForestClassifier(n_estimators=1500, max_depth=15)),\n",
        "          (' Adaboost',AdaBoostClassifier(n_estimators=1500)),\n",
        "          ('GradientBosting',GradientBoostingClassifier(n_estimators=1500, max_depth=11)),\n",
        "          ('XGBoost',XGBClassifier(n_estimators=1000, max_depth=11, random_state=42)),\n",
        "          (\"Histogram Based Gradient Boost\",HistGradientBoostingClassifier(max_iter=1000, learning_rate=0.01)))"
      ],
      "id": "IT8rayW9GhwX"
    },
    {
      "cell_type": "code",
      "execution_count": 55,
      "metadata": {
        "id": "NAO1pzx3GhwX"
      },
      "outputs": [],
      "source": [
        "mmetrics=[]"
      ],
      "id": "NAO1pzx3GhwX"
    },
    {
      "cell_type": "code",
      "execution_count": 67,
      "metadata": {
        "id": "v2tF0c87GhwX",
        "colab": {
          "base_uri": "https://localhost:8080/",
          "height": 736
        },
        "outputId": "138b7eb3-d54f-4d69-fdda-889839ff7063"
      },
      "outputs": [
        {
          "output_type": "stream",
          "name": "stdout",
          "text": [
            "CPU times: user 8min 27s, sys: 1.11 s, total: 8min 28s\n",
            "Wall time: 8min 28s\n"
          ]
        },
        {
          "output_type": "display_data",
          "data": {
            "text/plain": [
              "<Figure size 1080x720 with 6 Axes>"
            ],
            "image/png": "[encoded data removed]"
          },
          "metadata": {
            "needs_background": "light"
          }
        }
      ],
      "source": [
        "%%time\n",
        "n = 2\n",
        "metrics = grafico_classificador(X, y, test_size=0.4, modelo=modelos[n][1], \n",
        "                                             nome_modelo=modelos[n][0], \n",
        "                                             nome_dataset='IEEE Fraud Detection', \n",
        "                                             pca=False, norm=False)\n",
        "mmetrics.append(metrics)"
      ],
      "id": "v2tF0c87GhwX"
    },
    {
      "cell_type": "code",
      "execution_count": 68,
      "metadata": {
        "id": "0zgQzG9tGhwY",
        "colab": {
          "base_uri": "https://localhost:8080/"
        },
        "outputId": "498d6bca-5f04-4472-d551-b015644940c8"
      },
      "outputs": [
        {
          "output_type": "execute_result",
          "data": {
            "text/plain": [
              "[['GradientBosting', 19306, 376, 72, 246, 0.8388254954154594],\n",
              " ['Decision Trees', 19364, 218, 14, 404, 0.7842167535764196],\n",
              " ['Gaussian Naives Bayes', 19378, 0, 0, 622, 0.6796470721761908],\n",
              " ['KNeighborsClassifier', 19344, 237, 34, 385, 0.8369891652913654],\n",
              " ['Analise Discriminante Quadrática.', 19378, 0, 0, 622, 0.6724310958261748],\n",
              " ['Random Forrest', 19371, 342, 7, 280, 0.8582436691059806],\n",
              " [' Adaboost', 19367, 151, 11, 471, 0.8085006814835268],\n",
              " ['Histogram Based Gradient Boost', 19375, 312, 3, 310, 0.8521329671099158],\n",
              " ['XGBoost', 19360, 368, 18, 254, 0.8374964200128829],\n",
              " ['SVC Linear', 19378, 0, 0, 622, 0.391227546470141],\n",
              " ['SVC RBF', 19364, 138, 14, 484, 0.7456935617312568]]"
            ]
          },
          "metadata": {},
          "execution_count": 68
        }
      ],
      "source": [
        "mmetrics"
      ],
      "id": "0zgQzG9tGhwY"
    },
    {
      "cell_type": "code",
      "source": [
        "cols =  ['nome_model','VP','VN','FN','FP','AUC']"
      ],
      "metadata": {
        "id": "vaA9sPAGJ_mp"
      },
      "id": "vaA9sPAGJ_mp",
      "execution_count": 69,
      "outputs": []
    },
    {
      "cell_type": "code",
      "source": [
        "mmt = pd.DataFrame(mmetrics, columns=cols)\n",
        "mmt.set_index('nome_model',inplace=True)"
      ],
      "metadata": {
        "id": "rcYzqtdgKGEz"
      },
      "id": "rcYzqtdgKGEz",
      "execution_count": 72,
      "outputs": []
    },
    {
      "cell_type": "markdown",
      "source": [
        "## Etapa 4 -Análise dos resultados da Pré Modelagem e Seleção dos Modelos\n",
        "\n",
        "Nesta eta o objetivo é selecionar os melhores modelos com base nas métricas obtidas\n",
        ">- Etapa 4A - Matriz de Confusão: Os valores encontados na matriz de confusão são usados para avalias os modelos\n",
        "> - Etapa 4B - Curva ROC: A área sobre acurva ROC é usada para avliar o modelo.\n",
        "> - Etapa 4C - Métricas de Desempenho - As medidas de desempenho do modelo erro total, erro na  lasse positiva, erro na classe negativa, sensibilida, precisão, especificidade e a mética F1 são usadas para avliar os modelos."
      ],
      "metadata": {
        "id": "nQqr4Ej5QU8E"
      },
      "id": "nQqr4Ej5QU8E"
    },
    {
      "cell_type": "markdown",
      "source": [
        "### Etapa 4A - Matriz de Confusão: Os valores encontados na matriz de confusão são usados para avalias os modelos esses valores são:\n",
        "  - VP - Registros que _não são_ Fraudes que foram classificados corretamente pelo modelo\n",
        "  - FP - Registros que _não são_ Fraudes que foram classificados incorretamente pelo modelo\n",
        "  - VN - Registros que _são_ Fraudes que foram classificados corretamente pelo modelo\n",
        "  - FN - Registros que _são_ Fraudes que foram classificados incorretamente pelo modelo"
      ],
      "metadata": {
        "id": "ZelXx6IvRlKH"
      },
      "id": "ZelXx6IvRlKH"
    },
    {
      "cell_type": "code",
      "source": [
        "mmt['VP'].sort_values(ascending=False) # Verificando a VP dos modelos quanto maior melhor"
      ],
      "metadata": {
        "colab": {
          "base_uri": "https://localhost:8080/"
        },
        "id": "7bcky8enS9Tg",
        "outputId": "f66095ef-4d34-4bec-9297-b4f54a2d7b73"
      },
      "id": "7bcky8enS9Tg",
      "execution_count": 74,
      "outputs": [
        {
          "output_type": "execute_result",
          "data": {
            "text/plain": [
              "nome_model\n",
              "Gaussian Naives Bayes                19378\n",
              "Analise Discriminante Quadrática.    19378\n",
              "SVC Linear                           19378\n",
              "Histogram Based Gradient Boost       19375\n",
              "Random Forrest                       19371\n",
              " Adaboost                            19367\n",
              "Decision Trees                       19364\n",
              "SVC RBF                              19364\n",
              "XGBoost                              19360\n",
              "KNeighborsClassifier                 19344\n",
              "GradientBosting                      19306\n",
              "Name: VP, dtype: int64"
            ]
          },
          "metadata": {},
          "execution_count": 74
        }
      ]
    },
    {
      "cell_type": "code",
      "source": [
        "mmt['FP'].sort_values(ascending=True) # Verificando a FP dos modelos quanto menor melhor"
      ],
      "metadata": {
        "colab": {
          "base_uri": "https://localhost:8080/"
        },
        "id": "AfCm_A7vTk5d",
        "outputId": "431fb76b-c281-4143-f1aa-a6181e1384e8"
      },
      "id": "AfCm_A7vTk5d",
      "execution_count": 75,
      "outputs": [
        {
          "output_type": "execute_result",
          "data": {
            "text/plain": [
              "nome_model\n",
              "GradientBosting                      246\n",
              "XGBoost                              254\n",
              "Random Forrest                       280\n",
              "Histogram Based Gradient Boost       310\n",
              "KNeighborsClassifier                 385\n",
              "Decision Trees                       404\n",
              " Adaboost                            471\n",
              "SVC RBF                              484\n",
              "Gaussian Naives Bayes                622\n",
              "Analise Discriminante Quadrática.    622\n",
              "SVC Linear                           622\n",
              "Name: FP, dtype: int64"
            ]
          },
          "metadata": {},
          "execution_count": 75
        }
      ]
    },
    {
      "cell_type": "code",
      "source": [
        "mmt['VN'].sort_values(ascending=False) # Verificando a VN dos modelos quanto maior melhor"
      ],
      "metadata": {
        "colab": {
          "base_uri": "https://localhost:8080/"
        },
        "id": "d4ThR5dsT5k9",
        "outputId": "9d4bc454-d1b6-4610-adc3-edc21c8c8d07"
      },
      "id": "d4ThR5dsT5k9",
      "execution_count": 76,
      "outputs": [
        {
          "output_type": "execute_result",
          "data": {
            "text/plain": [
              "nome_model\n",
              "GradientBosting                      376\n",
              "XGBoost                              368\n",
              "Random Forrest                       342\n",
              "Histogram Based Gradient Boost       312\n",
              "KNeighborsClassifier                 237\n",
              "Decision Trees                       218\n",
              " Adaboost                            151\n",
              "SVC RBF                              138\n",
              "Gaussian Naives Bayes                  0\n",
              "Analise Discriminante Quadrática.      0\n",
              "SVC Linear                             0\n",
              "Name: VN, dtype: int64"
            ]
          },
          "metadata": {},
          "execution_count": 76
        }
      ]
    },
    {
      "cell_type": "code",
      "source": [
        "mmt['FN'].sort_values(ascending=True) # Verificando a FN dos modelos quanto menor melhor"
      ],
      "metadata": {
        "colab": {
          "base_uri": "https://localhost:8080/"
        },
        "id": "-ZFjtWY1UMrZ",
        "outputId": "2f88e620-ed32-4e02-d49e-bec40a31b1cf"
      },
      "id": "-ZFjtWY1UMrZ",
      "execution_count": 78,
      "outputs": [
        {
          "output_type": "execute_result",
          "data": {
            "text/plain": [
              "nome_model\n",
              "Gaussian Naives Bayes                 0\n",
              "Analise Discriminante Quadrática.     0\n",
              "SVC Linear                            0\n",
              "Histogram Based Gradient Boost        3\n",
              "Random Forrest                        7\n",
              " Adaboost                            11\n",
              "Decision Trees                       14\n",
              "SVC RBF                              14\n",
              "XGBoost                              18\n",
              "KNeighborsClassifier                 34\n",
              "GradientBosting                      72\n",
              "Name: FN, dtype: int64"
            ]
          },
          "metadata": {},
          "execution_count": 78
        }
      ]
    },
    {
      "cell_type": "markdown",
      "source": [
        "### Resumo Fase 4A\n",
        "\n",
        "- Os algoritmos **Naives Bayes, ADQ, SVC Linear** devem ser descartados pois simplesmente não conseguem encontrar exemplos negativos\n",
        "- Os algoritmos **XGBoost, Random Forrest, Gradient Boosting e HBG Boosting** foram os melhores em encontrar Exemplos Negativos \n",
        "- Também devem ser considerados os **SVC RBF, Decision Trees e Adaboost** mas seu desempenho não está entre os melhores\n",
        "\n",
        "> Considera-se que hierarquia de indicadores dos valores da Matriz de Confusão é:\n",
        "> 1. VN - Capacidade de encontrar Fraudes (quanto amior melhor)\n",
        "> 2. FP - Capacidade de não confundir Fraudes com transações genuínas (quanto menor melhor)\n",
        "> 3. FN - Capacidade de não confundir  transações genuínas com Fraudes (quanto menor melhor)"
      ],
      "metadata": {
        "id": "Ck9HeY5NUd9C"
      },
      "id": "Ck9HeY5NUd9C"
    },
    {
      "cell_type": "markdown",
      "source": [
        "## Etapa 4B - Curva ROC\n",
        "\n",
        "A área sobre acurva ROC é usada para avaliar o modelo. A curva ROC apresenta o desempnho do modelo considerando a **relação entre a Taxa de Verdadeiros Positivos (TVP) e a de Verdadeiros Negativos (TVN)** O fator que permite comparar é a área sobre a curav ou AUC (Area Under Curve) que é a integral da curva ROC."
      ],
      "metadata": {
        "id": "inVBfTAzX-ZY"
      },
      "id": "inVBfTAzX-ZY"
    },
    {
      "cell_type": "code",
      "source": [
        "mmt['AUC'].sort_values(ascending=False) # Verificando a AUC dos modelos quanto maior melhor"
      ],
      "metadata": {
        "colab": {
          "base_uri": "https://localhost:8080/"
        },
        "id": "Mx-9bHpbYeKT",
        "outputId": "34be8617-8291-47ce-cb4f-00d5b80769d7"
      },
      "id": "Mx-9bHpbYeKT",
      "execution_count": 79,
      "outputs": [
        {
          "output_type": "execute_result",
          "data": {
            "text/plain": [
              "nome_model\n",
              "Random Forrest                       0.858244\n",
              "Histogram Based Gradient Boost       0.852133\n",
              "GradientBosting                      0.838825\n",
              "XGBoost                              0.837496\n",
              "KNeighborsClassifier                 0.836989\n",
              " Adaboost                            0.808501\n",
              "Decision Trees                       0.784217\n",
              "SVC RBF                              0.745694\n",
              "Gaussian Naives Bayes                0.679647\n",
              "Analise Discriminante Quadrática.    0.672431\n",
              "SVC Linear                           0.391228\n",
              "Name: AUC, dtype: float64"
            ]
          },
          "metadata": {},
          "execution_count": 79
        }
      ]
    },
    {
      "cell_type": "markdown",
      "source": [
        "### Resumo Etapa 4B\n",
        "\n",
        "Com base no elementos até agora apurados Serão analisados os seguintes algoritmos **Random Forrest, Histogram Based Gradiente Boost, Gradiente Boosting e XGBoost**"
      ],
      "metadata": {
        "id": "_n4UKcALZo4K"
      },
      "id": "_n4UKcALZo4K"
    },
    {
      "cell_type": "markdown",
      "source": [
        "## Etapa 4C - Métricas de Desempenho\n",
        "\n",
        "As medidas de desempenho do modelo **erro total, erro na classe positiva, erro na classe negativa, sensibilida, precisão, especificidade e a mética F1** são usadas para avliar os modelos.\n",
        "\n",
        "Medidas de Erro nos Classificadores\n",
        "\n",
        "- Taxa de Erro na Classe Positiva  $erro_{+} = \\frac{FN}{VP + FN}$\n",
        "\n",
        "- Taxa de Erro na Classe Negativa  $erro_{-} = \\frac{FP}{FP + VN}$\n",
        "\n",
        "- Taxa de Erro na total  $erro = \\frac{FP+ FN}{N}$\n",
        "\n",
        "- Precisão é a proporção de exemplos positivos previstos corretamente entre os previstos como positivo pelo modelo  $prec = \\frac{VP}{VP + FP}$\n",
        "\n",
        "- Sensibilidade ou Revocação (TVP) é a taxa de acerto na classe positiva  $sens = \\frac{VP}{VP + FN}$\n",
        "\n",
        "- Especificidade (TVP) é a taxa de acerto na classe negativa  $sens = \\frac{VN}{VN + FP}$\n",
        "\n",
        "- Medida F1 é a harmônica entre Precisão e Sensibilidade   $F_{1} = \\frac{2 \\times sens \\times prec}{sens + prec}$\n"
      ],
      "metadata": {
        "id": "2qCBZNh_Kw0i"
      },
      "id": "2qCBZNh_Kw0i"
    },
    {
      "cell_type": "code",
      "source": [
        "mmt['erro+']= mmt['FN']/(mmt['VP']+mmt['FN'])\n",
        "mmt['erro-']= mmt['FP']/(mmt['FP']+mmt['VN'])\n",
        "mmt['erro']= (mmt['FP']+mmt['FN'])/len(y)\n",
        "mmt['prec']= mmt['VP']/(mmt['VP']+mmt['FP'])\n",
        "mmt['sens']= mmt['VP']/(mmt['VP']+mmt['FN'])\n",
        "mmt['esp']= mmt['VN']/(mmt['VN']+mmt['FP'])\n",
        "mmt['F1']=(2*mmt['sens']*mmt['prec'])/(mmt['sens']+mmt['prec'])\n",
        "mmt.sort_values(['esp','F1'], ascending=False)"
      ],
      "metadata": {
        "colab": {
          "base_uri": "https://localhost:8080/",
          "height": 426
        },
        "id": "3SLkIPNzYbTe",
        "outputId": "7678d47a-0e18-4505-cf63-b04a13801516"
      },
      "id": "3SLkIPNzYbTe",
      "execution_count": 87,
      "outputs": [
        {
          "output_type": "execute_result",
          "data": {
            "text/plain": [
              "                                      VP   VN  FN   FP       AUC     erro+  \\\n",
              "nome_model                                                                   \n",
              "GradientBosting                    19306  376  72  246  0.838825  0.003716   \n",
              "XGBoost                            19360  368  18  254  0.837496  0.000929   \n",
              "Random Forrest                     19371  342   7  280  0.858244  0.000361   \n",
              "Histogram Based Gradient Boost     19375  312   3  310  0.852133  0.000155   \n",
              "KNeighborsClassifier               19344  237  34  385  0.836989  0.001755   \n",
              "Decision Trees                     19364  218  14  404  0.784217  0.000722   \n",
              " Adaboost                          19367  151  11  471  0.808501  0.000568   \n",
              "SVC RBF                            19364  138  14  484  0.745694  0.000722   \n",
              "Gaussian Naives Bayes              19378    0   0  622  0.679647  0.000000   \n",
              "Analise Discriminante Quadrática.  19378    0   0  622  0.672431  0.000000   \n",
              "SVC Linear                         19378    0   0  622  0.391228  0.000000   \n",
              "\n",
              "                                      erro-     erro      prec      sens  \\\n",
              "nome_model                                                                 \n",
              "GradientBosting                    0.395498  0.00636  0.987418  0.996284   \n",
              "XGBoost                            0.408360  0.00544  0.987050  0.999071   \n",
              "Random Forrest                     0.450161  0.00574  0.985751  0.999639   \n",
              "Histogram Based Gradient Boost     0.498392  0.00626  0.984252  0.999845   \n",
              "KNeighborsClassifier               0.618971  0.00838  0.980486  0.998245   \n",
              "Decision Trees                     0.649518  0.00836  0.979563  0.999278   \n",
              " Adaboost                          0.757235  0.00964  0.976258  0.999432   \n",
              "SVC RBF                            0.778135  0.00996  0.975615  0.999278   \n",
              "Gaussian Naives Bayes              1.000000  0.01244  0.968900  1.000000   \n",
              "Analise Discriminante Quadrática.  1.000000  0.01244  0.968900  1.000000   \n",
              "SVC Linear                         1.000000  0.01244  0.968900  1.000000   \n",
              "\n",
              "                                        esp        F1  \n",
              "nome_model                                             \n",
              "GradientBosting                    0.604502  0.991831  \n",
              "XGBoost                            0.591640  0.993024  \n",
              "Random Forrest                     0.549839  0.992646  \n",
              "Histogram Based Gradient Boost     0.501608  0.991987  \n",
              "KNeighborsClassifier               0.381029  0.989286  \n",
              "Decision Trees                     0.350482  0.989322  \n",
              " Adaboost                          0.242765  0.987709  \n",
              "SVC RBF                            0.221865  0.987304  \n",
              "Gaussian Naives Bayes              0.000000  0.984204  \n",
              "Analise Discriminante Quadrática.  0.000000  0.984204  \n",
              "SVC Linear                         0.000000  0.984204  "
            ],
            "text/html": [
              "\n",
              "  <div id=\"df-480c74e1-c154-4a8c-968c-31fd14e035dd\">\n",
              "    <div class=\"colab-df-container\">\n",
              "      <div>\n",
              "<style scoped>\n",
              "    .dataframe tbody tr th:only-of-type {\n",
              "        vertical-align: middle;\n",
              "    }\n",
              "\n",
              "    .dataframe tbody tr th {\n",
              "        vertical-align: top;\n",
              "    }\n",
              "\n",
              "    .dataframe thead th {\n",
              "        text-align: right;\n",
              "    }\n",
              "</style>\n",
              "<table border=\"1\" class=\"dataframe\">\n",
              "  <thead>\n",
              "    <tr style=\"text-align: right;\">\n",
              "      <th></th>\n",
              "      <th>VP</th>\n",
              "      <th>VN</th>\n",
              "      <th>FN</th>\n",
              "      <th>FP</th>\n",
              "      <th>AUC</th>\n",
              "      <th>erro+</th>\n",
              "      <th>erro-</th>\n",
              "      <th>erro</th>\n",
              "      <th>prec</th>\n",
              "      <th>sens</th>\n",
              "      <th>esp</th>\n",
              "      <th>F1</th>\n",
              "    </tr>\n",
              "    <tr>\n",
              "      <th>nome_model</th>\n",
              "      <th></th>\n",
              "      <th></th>\n",
              "      <th></th>\n",
              "      <th></th>\n",
              "      <th></th>\n",
              "      <th></th>\n",
              "      <th></th>\n",
              "      <th></th>\n",
              "      <th></th>\n",
              "      <th></th>\n",
              "      <th></th>\n",
              "      <th></th>\n",
              "    </tr>\n",
              "  </thead>\n",
              "  <tbody>\n",
              "    <tr>\n",
              "      <th>GradientBosting</th>\n",
              "      <td>19306</td>\n",
              "      <td>376</td>\n",
              "      <td>72</td>\n",
              "      <td>246</td>\n",
              "      <td>0.838825</td>\n",
              "      <td>0.003716</td>\n",
              "      <td>0.395498</td>\n",
              "      <td>0.00636</td>\n",
              "      <td>0.987418</td>\n",
              "      <td>0.996284</td>\n",
              "      <td>0.604502</td>\n",
              "      <td>0.991831</td>\n",
              "    </tr>\n",
              "    <tr>\n",
              "      <th>XGBoost</th>\n",
              "      <td>19360</td>\n",
              "      <td>368</td>\n",
              "      <td>18</td>\n",
              "      <td>254</td>\n",
              "      <td>0.837496</td>\n",
              "      <td>0.000929</td>\n",
              "      <td>0.408360</td>\n",
              "      <td>0.00544</td>\n",
              "      <td>0.987050</td>\n",
              "      <td>0.999071</td>\n",
              "      <td>0.591640</td>\n",
              "      <td>0.993024</td>\n",
              "    </tr>\n",
              "    <tr>\n",
              "      <th>Random Forrest</th>\n",
              "      <td>19371</td>\n",
              "      <td>342</td>\n",
              "      <td>7</td>\n",
              "      <td>280</td>\n",
              "      <td>0.858244</td>\n",
              "      <td>0.000361</td>\n",
              "      <td>0.450161</td>\n",
              "      <td>0.00574</td>\n",
              "      <td>0.985751</td>\n",
              "      <td>0.999639</td>\n",
              "      <td>0.549839</td>\n",
              "      <td>0.992646</td>\n",
              "    </tr>\n",
              "    <tr>\n",
              "      <th>Histogram Based Gradient Boost</th>\n",
              "      <td>19375</td>\n",
              "      <td>312</td>\n",
              "      <td>3</td>\n",
              "      <td>310</td>\n",
              "      <td>0.852133</td>\n",
              "      <td>0.000155</td>\n",
              "      <td>0.498392</td>\n",
              "      <td>0.00626</td>\n",
              "      <td>0.984252</td>\n",
              "      <td>0.999845</td>\n",
              "      <td>0.501608</td>\n",
              "      <td>0.991987</td>\n",
              "    </tr>\n",
              "    <tr>\n",
              "      <th>KNeighborsClassifier</th>\n",
              "      <td>19344</td>\n",
              "      <td>237</td>\n",
              "      <td>34</td>\n",
              "      <td>385</td>\n",
              "      <td>0.836989</td>\n",
              "      <td>0.001755</td>\n",
              "      <td>0.618971</td>\n",
              "      <td>0.00838</td>\n",
              "      <td>0.980486</td>\n",
              "      <td>0.998245</td>\n",
              "      <td>0.381029</td>\n",
              "      <td>0.989286</td>\n",
              "    </tr>\n",
              "    <tr>\n",
              "      <th>Decision Trees</th>\n",
              "      <td>19364</td>\n",
              "      <td>218</td>\n",
              "      <td>14</td>\n",
              "      <td>404</td>\n",
              "      <td>0.784217</td>\n",
              "      <td>0.000722</td>\n",
              "      <td>0.649518</td>\n",
              "      <td>0.00836</td>\n",
              "      <td>0.979563</td>\n",
              "      <td>0.999278</td>\n",
              "      <td>0.350482</td>\n",
              "      <td>0.989322</td>\n",
              "    </tr>\n",
              "    <tr>\n",
              "      <th>Adaboost</th>\n",
              "      <td>19367</td>\n",
              "      <td>151</td>\n",
              "      <td>11</td>\n",
              "      <td>471</td>\n",
              "      <td>0.808501</td>\n",
              "      <td>0.000568</td>\n",
              "      <td>0.757235</td>\n",
              "      <td>0.00964</td>\n",
              "      <td>0.976258</td>\n",
              "      <td>0.999432</td>\n",
              "      <td>0.242765</td>\n",
              "      <td>0.987709</td>\n",
              "    </tr>\n",
              "    <tr>\n",
              "      <th>SVC RBF</th>\n",
              "      <td>19364</td>\n",
              "      <td>138</td>\n",
              "      <td>14</td>\n",
              "      <td>484</td>\n",
              "      <td>0.745694</td>\n",
              "      <td>0.000722</td>\n",
              "      <td>0.778135</td>\n",
              "      <td>0.00996</td>\n",
              "      <td>0.975615</td>\n",
              "      <td>0.999278</td>\n",
              "      <td>0.221865</td>\n",
              "      <td>0.987304</td>\n",
              "    </tr>\n",
              "    <tr>\n",
              "      <th>Gaussian Naives Bayes</th>\n",
              "      <td>19378</td>\n",
              "      <td>0</td>\n",
              "      <td>0</td>\n",
              "      <td>622</td>\n",
              "      <td>0.679647</td>\n",
              "      <td>0.000000</td>\n",
              "      <td>1.000000</td>\n",
              "      <td>0.01244</td>\n",
              "      <td>0.968900</td>\n",
              "      <td>1.000000</td>\n",
              "      <td>0.000000</td>\n",
              "      <td>0.984204</td>\n",
              "    </tr>\n",
              "    <tr>\n",
              "      <th>Analise Discriminante Quadrática.</th>\n",
              "      <td>19378</td>\n",
              "      <td>0</td>\n",
              "      <td>0</td>\n",
              "      <td>622</td>\n",
              "      <td>0.672431</td>\n",
              "      <td>0.000000</td>\n",
              "      <td>1.000000</td>\n",
              "      <td>0.01244</td>\n",
              "      <td>0.968900</td>\n",
              "      <td>1.000000</td>\n",
              "      <td>0.000000</td>\n",
              "      <td>0.984204</td>\n",
              "    </tr>\n",
              "    <tr>\n",
              "      <th>SVC Linear</th>\n",
              "      <td>19378</td>\n",
              "      <td>0</td>\n",
              "      <td>0</td>\n",
              "      <td>622</td>\n",
              "      <td>0.391228</td>\n",
              "      <td>0.000000</td>\n",
              "      <td>1.000000</td>\n",
              "      <td>0.01244</td>\n",
              "      <td>0.968900</td>\n",
              "      <td>1.000000</td>\n",
              "      <td>0.000000</td>\n",
              "      <td>0.984204</td>\n",
              "    </tr>\n",
              "  </tbody>\n",
              "</table>\n",
              "</div>\n",
              "      <button class=\"colab-df-convert\" onclick=\"convertToInteractive('df-480c74e1-c154-4a8c-968c-31fd14e035dd')\"\n",
              "              title=\"Convert this dataframe to an interactive table.\"\n",
              "              style=\"display:none;\">\n",
              "        \n",
              "  <svg xmlns=\"http://www.w3.org/2000/svg\" height=\"24px\"viewBox=\"0 0 24 24\"\n",
              "       width=\"24px\">\n",
              "    <path d=\"M0 0h24v24H0V0z\" fill=\"none\"/>\n",
              "    <path d=\"M18.56 5.44l.94 2.06.94-2.06 2.06-.94-2.06-.94-.94-2.06-.94 2.06-2.06.94zm-11 1L8.5 8.5l.94-2.06 2.06-.94-2.06-.94L8.5 2.5l-.94 2.06-2.06.94zm10 10l.94 2.06.94-2.06 2.06-.94-2.06-.94-.94-2.06-.94 2.06-2.06.94z\"/><path d=\"M17.41 7.96l-1.37-1.37c-.4-.4-.92-.59-1.43-.59-.52 0-1.04.2-1.43.59L10.3 9.45l-7.72 7.72c-.78.78-.78 2.05 0 2.83L4 21.41c.39.39.9.59 1.41.59.51 0 1.02-.2 1.41-.59l7.78-7.78 2.81-2.81c.8-.78.8-2.07 0-2.86zM5.41 20L4 18.59l7.72-7.72 1.47 1.35L5.41 20z\"/>\n",
              "  </svg>\n",
              "      </button>\n",
              "      \n",
              "  <style>\n",
              "    .colab-df-container {\n",
              "      display:flex;\n",
              "      flex-wrap:wrap;\n",
              "      gap: 12px;\n",
              "    }\n",
              "\n",
              "    .colab-df-convert {\n",
              "      background-color: #E8F0FE;\n",
              "      border: none;\n",
              "      border-radius: 50%;\n",
              "      cursor: pointer;\n",
              "      display: none;\n",
              "      fill: #1967D2;\n",
              "      height: 32px;\n",
              "      padding: 0 0 0 0;\n",
              "      width: 32px;\n",
              "    }\n",
              "\n",
              "    .colab-df-convert:hover {\n",
              "      background-color: #E2EBFA;\n",
              "      box-shadow: 0px 1px 2px rgba(60, 64, 67, 0.3), 0px 1px 3px 1px rgba(60, 64, 67, 0.15);\n",
              "      fill: #174EA6;\n",
              "    }\n",
              "\n",
              "    [theme=dark] .colab-df-convert {\n",
              "      background-color: #3B4455;\n",
              "      fill: #D2E3FC;\n",
              "    }\n",
              "\n",
              "    [theme=dark] .colab-df-convert:hover {\n",
              "      background-color: #434B5C;\n",
              "      box-shadow: 0px 1px 3px 1px rgba(0, 0, 0, 0.15);\n",
              "      filter: drop-shadow(0px 1px 2px rgba(0, 0, 0, 0.3));\n",
              "      fill: #FFFFFF;\n",
              "    }\n",
              "  </style>\n",
              "\n",
              "      <script>\n",
              "        const buttonEl =\n",
              "          document.querySelector('#df-480c74e1-c154-4a8c-968c-31fd14e035dd button.colab-df-convert');\n",
              "        buttonEl.style.display =\n",
              "          google.colab.kernel.accessAllowed ? 'block' : 'none';\n",
              "\n",
              "        async function convertToInteractive(key) {\n",
              "          const element = document.querySelector('#df-480c74e1-c154-4a8c-968c-31fd14e035dd');\n",
              "          const dataTable =\n",
              "            await google.colab.kernel.invokeFunction('convertToInteractive',\n",
              "                                                     [key], {});\n",
              "          if (!dataTable) return;\n",
              "\n",
              "          const docLinkHtml = 'Like what you see? Visit the ' +\n",
              "            '<a target=\"_blank\" href=https://colab.research.google.com/notebooks/data_table.ipynb>data table notebook</a>'\n",
              "            + ' to learn more about interactive tables.';\n",
              "          element.innerHTML = '';\n",
              "          dataTable['output_type'] = 'display_data';\n",
              "          await google.colab.output.renderOutput(dataTable, element);\n",
              "          const docLink = document.createElement('div');\n",
              "          docLink.innerHTML = docLinkHtml;\n",
              "          element.appendChild(docLink);\n",
              "        }\n",
              "      </script>\n",
              "    </div>\n",
              "  </div>\n",
              "  "
            ]
          },
          "metadata": {},
          "execution_count": 87
        }
      ]
    },
    {
      "cell_type": "code",
      "source": [
        "mmt.to_excel('/content/metrics/mmt.xlsx')"
      ],
      "metadata": {
        "id": "NrJn1ABqbZyM"
      },
      "id": "NrJn1ABqbZyM",
      "execution_count": 88,
      "outputs": []
    },
    {
      "cell_type": "markdown",
      "source": [
        "### Resumo Etapa 4C\n",
        "\n",
        "Na Fase 4B selecionou-se os seguintes algoritmos **Random Forrest, Histogram Based Gradiente Boost, Gradiente Boosting e XGBoost**\n",
        "\n",
        "Com base na análise das medidas de desemepnho verifica-se que o melhor desempenho em identificar VNs e foram os algoritmos **Random Forrest, Gradiente Boosting e XGBoost** desta lista será eliminado o algoritmo **Gradiente Boosting** pois possui um tempo de treinamento alto, por não ser otimizado.\n",
        "> Na Fase 5 serão usados **Random Forrest e XGBoost**"
      ],
      "metadata": {
        "id": "dpeJ_wbLeNQs"
      },
      "id": "dpeJ_wbLeNQs"
    },
    {
      "cell_type": "markdown",
      "source": [
        "## Resumo da Etapa 4\n",
        "\n",
        "Nesta Etapa foi realizada a pré-modelagem empregando 11 algoritmos aos dados X_umap_2D, com apenas dois componentes. Apartir dos resultados foram empregadas diferente métricas no sentido de selecionar os melhores resultados para a modelagem com a base de dados X_umap_mult, o que permite gerar modelos mais complexos e com melhores métricas. O algoritmos selecionados foram **Random Forrests** e **XGBoost** que mostraram um desempenho superior, sobre tudo nos exemplos de transações fraudulentas minimizando falsos negativos e maximizando verdadeiros negativos.\n",
        "\n"
      ],
      "metadata": {
        "id": "TU1a_GDUWYuO"
      },
      "id": "TU1a_GDUWYuO"
    },
    {
      "cell_type": "code",
      "source": [
        "del df\n",
        "gc.collect()"
      ],
      "metadata": {
        "id": "AlJQEdIMhqJa"
      },
      "id": "AlJQEdIMhqJa",
      "execution_count": null,
      "outputs": []
    },
    {
      "cell_type": "markdown",
      "source": [
        "## Etapa 5 -Modelagem com os Algoritmos Selecionados e Análise de Resultados.\n",
        "\n",
        "Nesta etapa será feita a modelgaem final, empregando os algoritmos **Random Forrest** e **XGBoost** selecionados na Etapa 4. O Fluxo do trabalho é praticamente o mesmo da Etapa 4. Os algoritmos são treinados e testados, agora com uma base diferente e as métricas coletadas para avaliação.\n",
        "Após a fase de teste os modelos saõ armazenados usando a biblioteca `joblib`, deste modo já se tem um modelo treinado sempre disponível para usar no desenvolvimento de aplicações de produção.\n",
        "Por questões de tempo _não_ se usou a **validação cruzada** e o **ajuste de hiperparâmetros**, o que poderia melhorar ainda mais estes resultados. Portanto os parâmetros usados forma os mesmos da Etapa 4.  \n",
        "\n",
        "- Etapa 5A - Random Forrest.\n",
        "- Etapa 5B - XGBoost."
      ],
      "metadata": {
        "id": "5W_0SK4SZ5AU"
      },
      "id": "5W_0SK4SZ5AU"
    },
    {
      "cell_type": "code",
      "source": [
        "%%time\n",
        "## caregamento dos dados de trans_umap_multi.csv\n",
        "df=pd.read_csv(os.path.join(os.getcwd(),'data','pre_processed','trans_umap_multi.csv'), index_col=0)"
      ],
      "metadata": {
        "colab": {
          "base_uri": "https://localhost:8080/"
        },
        "id": "A9vkxOcNba2B",
        "outputId": "0358ebed-8a56-4ee3-eaca-97c80c6deb82"
      },
      "id": "A9vkxOcNba2B",
      "execution_count": 223,
      "outputs": [
        {
          "output_type": "stream",
          "name": "stdout",
          "text": [
            "CPU times: user 243 ms, sys: 7.01 ms, total: 250 ms\n",
            "Wall time: 249 ms\n"
          ]
        }
      ]
    },
    {
      "cell_type": "code",
      "source": [
        "df.shape"
      ],
      "metadata": {
        "colab": {
          "base_uri": "https://localhost:8080/"
        },
        "id": "qW9e2Isyh2yH",
        "outputId": "66686e1f-1bdc-4d35-fe46-db4eab225cdc"
      },
      "id": "qW9e2Isyh2yH",
      "execution_count": 224,
      "outputs": [
        {
          "output_type": "execute_result",
          "data": {
            "text/plain": [
              "(50000, 43)"
            ]
          },
          "metadata": {},
          "execution_count": 224
        }
      ]
    },
    {
      "cell_type": "code",
      "source": [
        "# criação das arrays de atributos X e e alvo y\n",
        "X = df.iloc[:,:-1 ].values\n",
        "y = df.iloc[:,-1]"
      ],
      "metadata": {
        "id": "Idy3EJeQh3eP"
      },
      "id": "Idy3EJeQh3eP",
      "execution_count": 225,
      "outputs": []
    },
    {
      "cell_type": "code",
      "source": [
        "# verificando o % de transações fraudulentas\n",
        "y.sum()/y.shape[0]"
      ],
      "metadata": {
        "colab": {
          "base_uri": "https://localhost:8080/"
        },
        "id": "UQJnTjdhiNV-",
        "outputId": "2e205708-a718-40b5-9757-d8d3cabc0853"
      },
      "id": "UQJnTjdhiNV-",
      "execution_count": 226,
      "outputs": [
        {
          "output_type": "execute_result",
          "data": {
            "text/plain": [
              "0.03122"
            ]
          },
          "metadata": {},
          "execution_count": 226
        }
      ]
    },
    {
      "cell_type": "code",
      "source": [
        "# Split dos dados para treinamento e teste \n",
        "X_train, X_test, y_train, y_test = train_test_split(X, y, test_size=0.4, random_state=42)"
      ],
      "metadata": {
        "id": "TxyoYlOcifEe"
      },
      "id": "TxyoYlOcifEe",
      "execution_count": 227,
      "outputs": []
    },
    {
      "cell_type": "code",
      "source": [
        "%%time\n",
        "# treinamento da Random Forrest\n",
        "clf1 = RandomForestClassifier(n_estimators=1500, \n",
        "                             max_depth=15,\n",
        "                             min_samples_split=2, random_state=0)\n",
        "clf1 = clf1.fit(X_train, y_train)"
      ],
      "metadata": {
        "colab": {
          "base_uri": "https://localhost:8080/"
        },
        "id": "NLHWTXtvitmY",
        "outputId": "8f6bda7e-b8a6-4ff7-85ec-5cebdb07f139"
      },
      "id": "NLHWTXtvitmY",
      "execution_count": 228,
      "outputs": [
        {
          "output_type": "stream",
          "name": "stdout",
          "text": [
            "CPU times: user 5min 5s, sys: 326 ms, total: 5min 6s\n",
            "Wall time: 5min 4s\n"
          ]
        }
      ]
    },
    {
      "cell_type": "code",
      "source": [
        "# Predições da Matriz de Atributos para teste\n",
        "y_pred_rf = clf1.predict(X_test)"
      ],
      "metadata": {
        "id": "6MGJwuXXi_2m"
      },
      "id": "6MGJwuXXi_2m",
      "execution_count": 229,
      "outputs": []
    },
    {
      "cell_type": "code",
      "source": [
        "# Matriz de confusão RF\n",
        "CM1 = confusion_matrix(y_true=y_test,y_pred=y_pred_rf)\n",
        "CM1"
      ],
      "metadata": {
        "colab": {
          "base_uri": "https://localhost:8080/"
        },
        "id": "JYakIdZdkP0y",
        "outputId": "23ac7e8b-9766-4338-ca50-eea9a1e70371"
      },
      "id": "JYakIdZdkP0y",
      "execution_count": 230,
      "outputs": [
        {
          "output_type": "execute_result",
          "data": {
            "text/plain": [
              "array([[19378,     0],\n",
              "       [  230,   392]])"
            ]
          },
          "metadata": {},
          "execution_count": 230
        }
      ]
    },
    {
      "cell_type": "code",
      "source": [
        "# Criação de uma lista com VP, VN, FP e FN de RF\n",
        "cols_CM = ['VP','VN', 'FP', 'FN']\n",
        "metrics_RF = [CM1[0,0], CM1[1,1], CM1[1,0],CM1[0,1]]"
      ],
      "metadata": {
        "id": "xB4cgbvXki-m"
      },
      "id": "xB4cgbvXki-m",
      "execution_count": 231,
      "outputs": []
    },
    {
      "cell_type": "code",
      "source": [
        "# Armazanado o modelo RF com joblib\n",
        "from joblib import dump, load\n",
        "dump(clf1, '/content/models/random_forrest.joblib')"
      ],
      "metadata": {
        "colab": {
          "base_uri": "https://localhost:8080/"
        },
        "id": "0cPV76RJlL5R",
        "outputId": "b1a44d5e-c9af-4c5b-f37c-273a552475ff"
      },
      "id": "0cPV76RJlL5R",
      "execution_count": 232,
      "outputs": [
        {
          "output_type": "execute_result",
          "data": {
            "text/plain": [
              "['/content/models/random_forrest.joblib']"
            ]
          },
          "metadata": {},
          "execution_count": 232
        }
      ]
    },
    {
      "cell_type": "code",
      "source": [
        "%%time\n",
        "\n",
        "# treinamento do modelo XG\n",
        "clf2 = XGBClassifier(n_estimators=1000, \n",
        "                    max_depth=11, \n",
        "                    random_state=42)\n",
        "clf2 = clf2.fit(X_train, y_train)"
      ],
      "metadata": {
        "colab": {
          "base_uri": "https://localhost:8080/"
        },
        "id": "uoznSytMnHZ4",
        "outputId": "2cbbcfe3-ec01-4569-f39c-bbd7d6345137"
      },
      "id": "uoznSytMnHZ4",
      "execution_count": 233,
      "outputs": [
        {
          "output_type": "stream",
          "name": "stdout",
          "text": [
            "CPU times: user 3min 48s, sys: 314 ms, total: 3min 49s\n",
            "Wall time: 3min 49s\n"
          ]
        }
      ]
    },
    {
      "cell_type": "code",
      "source": [
        "# Predição Matriz de Atributos de Teste\n",
        "y_pred_xg = clf2.predict(X_test)"
      ],
      "metadata": {
        "id": "ko2hc-ybnVeL"
      },
      "id": "ko2hc-ybnVeL",
      "execution_count": 234,
      "outputs": []
    },
    {
      "cell_type": "code",
      "source": [
        "# criação da Matriz de Confusão XG\n",
        "CM2 = confusion_matrix(y_true=y_test,y_pred=y_pred_xg)\n",
        "CM2"
      ],
      "metadata": {
        "colab": {
          "base_uri": "https://localhost:8080/"
        },
        "id": "yJJ-SdbenctJ",
        "outputId": "9dfa3b7f-3a76-4519-f64b-3255845f973e"
      },
      "id": "yJJ-SdbenctJ",
      "execution_count": 235,
      "outputs": [
        {
          "output_type": "execute_result",
          "data": {
            "text/plain": [
              "array([[19359,    19],\n",
              "       [  205,   417]])"
            ]
          },
          "metadata": {},
          "execution_count": 235
        }
      ]
    },
    {
      "cell_type": "code",
      "source": [
        "# Criação de uma lista com VP, VN, FP e FN de XG \n",
        "metrics_XG = [CM2[0,0], CM2[1,1], CM2[1,0],CM2[0,1]]"
      ],
      "metadata": {
        "id": "6wIcZfWBn5Ri"
      },
      "id": "6wIcZfWBn5Ri",
      "execution_count": 236,
      "outputs": []
    },
    {
      "cell_type": "code",
      "source": [
        "# Criação do Datafrme com Metricas as Métricas da Matriz de Confusão \n",
        "mmt_etapa5 = pd.DataFrame([metrics_RF,metrics_XG], index = ['RF','XG'], columns=cols_CM)"
      ],
      "metadata": {
        "id": "I4H3SwwooDjC"
      },
      "id": "I4H3SwwooDjC",
      "execution_count": 237,
      "outputs": []
    },
    {
      "cell_type": "code",
      "source": [
        "# Calculo da Métricas de Desempenho\n",
        "mmt_etapa5['N'] = X_test.shape[0]\n",
        "mmt_etapa5['erro+']= mmt_etapa5['FN']/(mmt_etapa5['VP']+mmt_etapa5['FN'])\n",
        "mmt_etapa5['erro-']= mmt_etapa5['FP']/(mmt_etapa5['FP']+mmt_etapa5['VN'])\n",
        "mmt_etapa5['erro']= (mmt_etapa5['FP']+mmt_etapa5['FN'])/len(y)\n",
        "mmt_etapa5['prec']= mmt_etapa5['VP']/(mmt_etapa5['VP']+mmt_etapa5['FP'])\n",
        "mmt_etapa5['sens']= mmt_etapa5['VP']/(mmt_etapa5['VP']+mmt_etapa5['FN'])\n",
        "mmt_etapa5['esp']= mmt_etapa5['VN']/(mmt_etapa5['VN']+mmt_etapa5['FP'])\n",
        "mmt_etapa5['F1']=(2*mmt_etapa5['sens']*mmt_etapa5['prec'])/(mmt_etapa5['sens']+mmt_etapa5['prec'])"
      ],
      "metadata": {
        "id": "kwpzVMbFsIKC"
      },
      "id": "kwpzVMbFsIKC",
      "execution_count": 243,
      "outputs": []
    },
    {
      "cell_type": "code",
      "source": [
        "# Salvando o modelo com o pacote joblib\n",
        "from joblib import dump, load\n",
        "dump(clf2, '/content/models/xgboost.joblib')"
      ],
      "metadata": {
        "colab": {
          "base_uri": "https://localhost:8080/"
        },
        "id": "SJvhDHydp5l8",
        "outputId": "cd6bc082-6193-4038-97dd-5894ee3d4aac"
      },
      "id": "SJvhDHydp5l8",
      "execution_count": 244,
      "outputs": [
        {
          "output_type": "execute_result",
          "data": {
            "text/plain": [
              "['/content/models/xgboost.joblib']"
            ]
          },
          "metadata": {},
          "execution_count": 244
        }
      ]
    },
    {
      "cell_type": "code",
      "source": [
        "mmt_etapa5.to_excel('/content/metrics/mmt_etapa5.xlsx')"
      ],
      "metadata": {
        "id": "5GbGM7OAtH6N"
      },
      "id": "5GbGM7OAtH6N",
      "execution_count": 245,
      "outputs": []
    },
    {
      "cell_type": "code",
      "source": [
        "mmt_etapa5"
      ],
      "metadata": {
        "colab": {
          "base_uri": "https://localhost:8080/",
          "height": 112
        },
        "id": "9A_bLVobjThr",
        "outputId": "a897722b-69ae-4ef7-a75a-a560a0d453e5"
      },
      "id": "9A_bLVobjThr",
      "execution_count": 246,
      "outputs": [
        {
          "output_type": "execute_result",
          "data": {
            "text/plain": [
              "       VP   VN   FP  FN      N    erro+     erro-     erro      prec     sens  \\\n",
              "RF  19378  392  230   0  20000  0.00000  0.369775  0.00460  0.988270  1.00000   \n",
              "XG  19359  417  205  19  20000  0.00098  0.329582  0.00448  0.989522  0.99902   \n",
              "\n",
              "         esp        F1  \n",
              "RF  0.630225  0.994100  \n",
              "XG  0.670418  0.994248  "
            ],
            "text/html": [
              "\n",
              "  <div id=\"df-39f31d2e-5bd5-49a2-90fb-0946093ce670\">\n",
              "    <div class=\"colab-df-container\">\n",
              "      <div>\n",
              "<style scoped>\n",
              "    .dataframe tbody tr th:only-of-type {\n",
              "        vertical-align: middle;\n",
              "    }\n",
              "\n",
              "    .dataframe tbody tr th {\n",
              "        vertical-align: top;\n",
              "    }\n",
              "\n",
              "    .dataframe thead th {\n",
              "        text-align: right;\n",
              "    }\n",
              "</style>\n",
              "<table border=\"1\" class=\"dataframe\">\n",
              "  <thead>\n",
              "    <tr style=\"text-align: right;\">\n",
              "      <th></th>\n",
              "      <th>VP</th>\n",
              "      <th>VN</th>\n",
              "      <th>FP</th>\n",
              "      <th>FN</th>\n",
              "      <th>N</th>\n",
              "      <th>erro+</th>\n",
              "      <th>erro-</th>\n",
              "      <th>erro</th>\n",
              "      <th>prec</th>\n",
              "      <th>sens</th>\n",
              "      <th>esp</th>\n",
              "      <th>F1</th>\n",
              "    </tr>\n",
              "  </thead>\n",
              "  <tbody>\n",
              "    <tr>\n",
              "      <th>RF</th>\n",
              "      <td>19378</td>\n",
              "      <td>392</td>\n",
              "      <td>230</td>\n",
              "      <td>0</td>\n",
              "      <td>20000</td>\n",
              "      <td>0.00000</td>\n",
              "      <td>0.369775</td>\n",
              "      <td>0.00460</td>\n",
              "      <td>0.988270</td>\n",
              "      <td>1.00000</td>\n",
              "      <td>0.630225</td>\n",
              "      <td>0.994100</td>\n",
              "    </tr>\n",
              "    <tr>\n",
              "      <th>XG</th>\n",
              "      <td>19359</td>\n",
              "      <td>417</td>\n",
              "      <td>205</td>\n",
              "      <td>19</td>\n",
              "      <td>20000</td>\n",
              "      <td>0.00098</td>\n",
              "      <td>0.329582</td>\n",
              "      <td>0.00448</td>\n",
              "      <td>0.989522</td>\n",
              "      <td>0.99902</td>\n",
              "      <td>0.670418</td>\n",
              "      <td>0.994248</td>\n",
              "    </tr>\n",
              "  </tbody>\n",
              "</table>\n",
              "</div>\n",
              "      <button class=\"colab-df-convert\" onclick=\"convertToInteractive('df-39f31d2e-5bd5-49a2-90fb-0946093ce670')\"\n",
              "              title=\"Convert this dataframe to an interactive table.\"\n",
              "              style=\"display:none;\">\n",
              "        \n",
              "  <svg xmlns=\"http://www.w3.org/2000/svg\" height=\"24px\"viewBox=\"0 0 24 24\"\n",
              "       width=\"24px\">\n",
              "    <path d=\"M0 0h24v24H0V0z\" fill=\"none\"/>\n",
              "    <path d=\"M18.56 5.44l.94 2.06.94-2.06 2.06-.94-2.06-.94-.94-2.06-.94 2.06-2.06.94zm-11 1L8.5 8.5l.94-2.06 2.06-.94-2.06-.94L8.5 2.5l-.94 2.06-2.06.94zm10 10l.94 2.06.94-2.06 2.06-.94-2.06-.94-.94-2.06-.94 2.06-2.06.94z\"/><path d=\"M17.41 7.96l-1.37-1.37c-.4-.4-.92-.59-1.43-.59-.52 0-1.04.2-1.43.59L10.3 9.45l-7.72 7.72c-.78.78-.78 2.05 0 2.83L4 21.41c.39.39.9.59 1.41.59.51 0 1.02-.2 1.41-.59l7.78-7.78 2.81-2.81c.8-.78.8-2.07 0-2.86zM5.41 20L4 18.59l7.72-7.72 1.47 1.35L5.41 20z\"/>\n",
              "  </svg>\n",
              "      </button>\n",
              "      \n",
              "  <style>\n",
              "    .colab-df-container {\n",
              "      display:flex;\n",
              "      flex-wrap:wrap;\n",
              "      gap: 12px;\n",
              "    }\n",
              "\n",
              "    .colab-df-convert {\n",
              "      background-color: #E8F0FE;\n",
              "      border: none;\n",
              "      border-radius: 50%;\n",
              "      cursor: pointer;\n",
              "      display: none;\n",
              "      fill: #1967D2;\n",
              "      height: 32px;\n",
              "      padding: 0 0 0 0;\n",
              "      width: 32px;\n",
              "    }\n",
              "\n",
              "    .colab-df-convert:hover {\n",
              "      background-color: #E2EBFA;\n",
              "      box-shadow: 0px 1px 2px rgba(60, 64, 67, 0.3), 0px 1px 3px 1px rgba(60, 64, 67, 0.15);\n",
              "      fill: #174EA6;\n",
              "    }\n",
              "\n",
              "    [theme=dark] .colab-df-convert {\n",
              "      background-color: #3B4455;\n",
              "      fill: #D2E3FC;\n",
              "    }\n",
              "\n",
              "    [theme=dark] .colab-df-convert:hover {\n",
              "      background-color: #434B5C;\n",
              "      box-shadow: 0px 1px 3px 1px rgba(0, 0, 0, 0.15);\n",
              "      filter: drop-shadow(0px 1px 2px rgba(0, 0, 0, 0.3));\n",
              "      fill: #FFFFFF;\n",
              "    }\n",
              "  </style>\n",
              "\n",
              "      <script>\n",
              "        const buttonEl =\n",
              "          document.querySelector('#df-39f31d2e-5bd5-49a2-90fb-0946093ce670 button.colab-df-convert');\n",
              "        buttonEl.style.display =\n",
              "          google.colab.kernel.accessAllowed ? 'block' : 'none';\n",
              "\n",
              "        async function convertToInteractive(key) {\n",
              "          const element = document.querySelector('#df-39f31d2e-5bd5-49a2-90fb-0946093ce670');\n",
              "          const dataTable =\n",
              "            await google.colab.kernel.invokeFunction('convertToInteractive',\n",
              "                                                     [key], {});\n",
              "          if (!dataTable) return;\n",
              "\n",
              "          const docLinkHtml = 'Like what you see? Visit the ' +\n",
              "            '<a target=\"_blank\" href=https://colab.research.google.com/notebooks/data_table.ipynb>data table notebook</a>'\n",
              "            + ' to learn more about interactive tables.';\n",
              "          element.innerHTML = '';\n",
              "          dataTable['output_type'] = 'display_data';\n",
              "          await google.colab.output.renderOutput(dataTable, element);\n",
              "          const docLink = document.createElement('div');\n",
              "          docLink.innerHTML = docLinkHtml;\n",
              "          element.appendChild(docLink);\n",
              "        }\n",
              "      </script>\n",
              "    </div>\n",
              "  </div>\n",
              "  "
            ]
          },
          "metadata": {},
          "execution_count": 246
        }
      ]
    },
    {
      "cell_type": "markdown",
      "source": [
        "## Comentários e resumo da Etapa 5\n",
        "\n",
        "Os resultados finais mostram que ambos os modelos conseguiram valores muito similares, mas vale destacar:\n",
        "\n",
        "- Ramdom Forrest mostra-se menos eficiente em identificar Verdadeiros Negativos mas erra menos ao classificar transações genuídas como negativas ou seja é mais **indulgente** em seu julgamento e possui uma **$sensibilidade$** maior.\n",
        "- XG é mais eficiente em identificar Verdadeiros Negativos, mas também identifica mais Falsos negativos o que impacta em mais transações genuínas bloqueadas, ou seja é mais **severo** no seu julgamento e possui uma **$especifidade maior$**\n",
        "> ### **Numa visão de negócio seria possível otimizar o retorno do produto de dados empregando ambos os modelos, mas dando um peso maior à previsão de _XGBoost_ nas transações de _maior valor_ e de _Random Forrest_ nas transações de menor valor, onde o impacto de bloqueios é menor.**"
      ],
      "metadata": {
        "id": "9qXnN8ShjSe1"
      },
      "id": "9qXnN8ShjSe1"
    },
    {
      "cell_type": "markdown",
      "source": [
        "## Etapa 6 -Análises Adicionais.\n",
        "Nesta Etapa foram feitas análises adicionais que parecem pertnentes ao caso estudado  são elas:\n",
        "### Etapa 6A - Calibração de Probabilidades.\n",
        "\n",
        "De acordo com a documentação do `scikit_learn`:\n",
        "\n",
        "> Ao realizar a classificação, muitas vezes você deseja não apenas prever o rótulo da classe, mas também obter uma probabilidade do respectivo rótulo. Essa probabilidade lhe dá algum tipo de confiança na previsão. Alguns modelos podem fornecer estimativas ruins das probabilidades de classe e alguns até não suportam previsão de probabilidade (por exemplo, algumas instâncias de SGDClassifier). O módulo de calibração permite calibrar melhor as probabilidades de um determinado modelo ou adicionar suporte para previsão de probabilidade.[Scikit Learn](https://scikit-learn.org/stable/modules/calibration.html)\n",
        "\n",
        "> Classificadores bem calibrados são classificadores probabilísticos para os quais a saída do método predict_proba pode ser interpretada diretamente como um nível de confiança. Por exemplo, um classificador (binário) bem calibrado deve classificar as amostras de tal forma que entre as amostras para as quais deu um valor predict_proba próximo a 0,8, aproximadamente 80% realmente pertencem à classe positiva.[Scikit Learn](https://scikit-learn.org/stable/modules/calibration.html)\n",
        "\n",
        "Ainda que não tenha sido possível fazer uma análise completa deste tipo de teste, ele pode ser importante, aidna que nem seja tão discutido nas comunidade de data Science.\n",
        "\n",
        "Mesmo com essas limitações o case apresnetado n a documentação do `scikit_learn` foi adaptado para a presente situação, a fim de uma primeira análise ainda que um tanto superficial. \n",
        "\n",
        "\n",
        "### Etapa 6B - Matriz de Custos."
      ],
      "metadata": {
        "id": "0kjC6BjKm1eX"
      },
      "id": "0kjC6BjKm1eX"
    },
    {
      "cell_type": "code",
      "source": [
        "from matplotlib.gridspec import GridSpec\n",
        "\n",
        "from sklearn.calibration import CalibratedClassifierCV, CalibrationDisplay\n",
        "\n",
        "rf = RandomForestClassifier(n_estimators=1500, \n",
        "                            max_depth=15,\n",
        "                            min_samples_split=2, random_state=0)\n",
        "\n",
        "xg = XGBClassifier(n_estimators=1000, \n",
        "                    max_depth=11, \n",
        "                    random_state=42)\n",
        "\n",
        "clf_list = [\n",
        "    (rf, \"Random Forrest\"),\n",
        "    (xg, \"XGBoost\"),\n",
        "]"
      ],
      "metadata": {
        "id": "HKZ4-LQGtJ7l"
      },
      "id": "HKZ4-LQGtJ7l",
      "execution_count": 185,
      "outputs": []
    },
    {
      "cell_type": "code",
      "source": [
        "fig = plt.figure(figsize=(10, 10))\n",
        "gs = GridSpec(4, 2)\n",
        "colors = plt.cm.get_cmap(\"Dark2\")\n",
        "\n",
        "ax_calibration_curve = fig.add_subplot(gs[:2, :2])\n",
        "calibration_displays = {}\n",
        "for i, (clf, name) in enumerate(clf_list):\n",
        "    clf.fit(X_train, y_train)\n",
        "    display = CalibrationDisplay.from_estimator(\n",
        "        clf,\n",
        "        X_test,\n",
        "        y_test,\n",
        "        n_bins=10,\n",
        "        name=name,\n",
        "        ax=ax_calibration_curve,\n",
        "        color=colors(i),\n",
        "    )\n",
        "    calibration_displays[name] = display\n",
        "\n",
        "ax_calibration_curve.grid()\n",
        "ax_calibration_curve.set_title(\"Curvas de Calibração\")\n",
        "\n",
        "# Add histogram\n",
        "grid_positions = [(2, 0), (2, 1), (3, 0), (3, 1)]\n",
        "for i, (_, name) in enumerate(clf_list):\n",
        "    row, col = grid_positions[i]\n",
        "    ax = fig.add_subplot(gs[row, col])\n",
        "\n",
        "    ax.hist(\n",
        "        calibration_displays[name].y_prob,\n",
        "        range=(0, 1),\n",
        "        bins=10,\n",
        "        label=name,\n",
        "        color=colors(i),\n",
        "    )\n",
        "    ax.set(title=name, xlabel=\"Probabilidade Média Predita\", ylabel=\"Contagem\")\n",
        "\n",
        "plt.tight_layout()\n",
        "plt.show()"
      ],
      "metadata": {
        "colab": {
          "base_uri": "https://localhost:8080/",
          "height": 575
        },
        "id": "uJEQJvSStrMS",
        "outputId": "c39bc55b-ae97-4fc8-f694-9119c14ca2d2"
      },
      "id": "uJEQJvSStrMS",
      "execution_count": 186,
      "outputs": [
        {
          "output_type": "display_data",
          "data": {
            "text/plain": [
              "<Figure size 720x720 with 3 Axes>"
            ],
            "image/png": "[encoded data removed]"
          },
          "metadata": {
            "needs_background": "light"
          }
        }
      ]
    },
    {
      "cell_type": "code",
      "source": [
        "fig.savefig('/content/imagens/prob_calb.png', dpi=fig.dpi)"
      ],
      "metadata": {
        "id": "cSYAc8FQt8IG"
      },
      "id": "cSYAc8FQt8IG",
      "execution_count": 187,
      "outputs": []
    },
    {
      "cell_type": "code",
      "source": [
        "X1"
      ],
      "metadata": {
        "colab": {
          "base_uri": "https://localhost:8080/",
          "height": 423
        },
        "id": "SFHXx_Jh0Kr3",
        "outputId": "611b1c9f-722d-4e9a-ef75-8b5ef705fcb6"
      },
      "id": "SFHXx_Jh0Kr3",
      "execution_count": 188,
      "outputs": [
        {
          "output_type": "execute_result",
          "data": {
            "text/plain": [
              "       isFraud  TransactionDT  TransactionAmt  rf_pred  xg_pred   rf_prob  \\\n",
              "0            0       12103740          159.95        0        0  0.004575   \n",
              "1            0       14949413           29.00        0        0  0.010406   \n",
              "2            0        6891082          117.00        0        0  0.003737   \n",
              "3            0        9236835          171.00        0        0  0.010391   \n",
              "4            0        1970387          112.99        0        0  0.006764   \n",
              "...        ...            ...             ...      ...      ...       ...   \n",
              "49995        0       13657797          107.95        0        0  0.010951   \n",
              "49996        0       13303781          117.00        0        0  0.011289   \n",
              "49997        0        7345093           57.95        0        0  0.004260   \n",
              "49998        0        6223027           34.00        0        0  0.007492   \n",
              "49999        0       11223475           54.00        0        0  0.007812   \n",
              "\n",
              "        xg_prob  \n",
              "0      0.004575  \n",
              "1      0.010406  \n",
              "2      0.003737  \n",
              "3      0.010391  \n",
              "4      0.006764  \n",
              "...         ...  \n",
              "49995  0.010951  \n",
              "49996  0.011289  \n",
              "49997  0.004260  \n",
              "49998  0.007492  \n",
              "49999  0.007812  \n",
              "\n",
              "[50000 rows x 7 columns]"
            ],
            "text/html": [
              "\n",
              "  <div id=\"df-b1cd5e15-174a-4d8c-b1c1-c3a1d1e643b7\">\n",
              "    <div class=\"colab-df-container\">\n",
              "      <div>\n",
              "<style scoped>\n",
              "    .dataframe tbody tr th:only-of-type {\n",
              "        vertical-align: middle;\n",
              "    }\n",
              "\n",
              "    .dataframe tbody tr th {\n",
              "        vertical-align: top;\n",
              "    }\n",
              "\n",
              "    .dataframe thead th {\n",
              "        text-align: right;\n",
              "    }\n",
              "</style>\n",
              "<table border=\"1\" class=\"dataframe\">\n",
              "  <thead>\n",
              "    <tr style=\"text-align: right;\">\n",
              "      <th></th>\n",
              "      <th>isFraud</th>\n",
              "      <th>TransactionDT</th>\n",
              "      <th>TransactionAmt</th>\n",
              "      <th>rf_pred</th>\n",
              "      <th>xg_pred</th>\n",
              "      <th>rf_prob</th>\n",
              "      <th>xg_prob</th>\n",
              "    </tr>\n",
              "  </thead>\n",
              "  <tbody>\n",
              "    <tr>\n",
              "      <th>0</th>\n",
              "      <td>0</td>\n",
              "      <td>12103740</td>\n",
              "      <td>159.95</td>\n",
              "      <td>0</td>\n",
              "      <td>0</td>\n",
              "      <td>0.004575</td>\n",
              "      <td>0.004575</td>\n",
              "    </tr>\n",
              "    <tr>\n",
              "      <th>1</th>\n",
              "      <td>0</td>\n",
              "      <td>14949413</td>\n",
              "      <td>29.00</td>\n",
              "      <td>0</td>\n",
              "      <td>0</td>\n",
              "      <td>0.010406</td>\n",
              "      <td>0.010406</td>\n",
              "    </tr>\n",
              "    <tr>\n",
              "      <th>2</th>\n",
              "      <td>0</td>\n",
              "      <td>6891082</td>\n",
              "      <td>117.00</td>\n",
              "      <td>0</td>\n",
              "      <td>0</td>\n",
              "      <td>0.003737</td>\n",
              "      <td>0.003737</td>\n",
              "    </tr>\n",
              "    <tr>\n",
              "      <th>3</th>\n",
              "      <td>0</td>\n",
              "      <td>9236835</td>\n",
              "      <td>171.00</td>\n",
              "      <td>0</td>\n",
              "      <td>0</td>\n",
              "      <td>0.010391</td>\n",
              "      <td>0.010391</td>\n",
              "    </tr>\n",
              "    <tr>\n",
              "      <th>4</th>\n",
              "      <td>0</td>\n",
              "      <td>1970387</td>\n",
              "      <td>112.99</td>\n",
              "      <td>0</td>\n",
              "      <td>0</td>\n",
              "      <td>0.006764</td>\n",
              "      <td>0.006764</td>\n",
              "    </tr>\n",
              "    <tr>\n",
              "      <th>...</th>\n",
              "      <td>...</td>\n",
              "      <td>...</td>\n",
              "      <td>...</td>\n",
              "      <td>...</td>\n",
              "      <td>...</td>\n",
              "      <td>...</td>\n",
              "      <td>...</td>\n",
              "    </tr>\n",
              "    <tr>\n",
              "      <th>49995</th>\n",
              "      <td>0</td>\n",
              "      <td>13657797</td>\n",
              "      <td>107.95</td>\n",
              "      <td>0</td>\n",
              "      <td>0</td>\n",
              "      <td>0.010951</td>\n",
              "      <td>0.010951</td>\n",
              "    </tr>\n",
              "    <tr>\n",
              "      <th>49996</th>\n",
              "      <td>0</td>\n",
              "      <td>13303781</td>\n",
              "      <td>117.00</td>\n",
              "      <td>0</td>\n",
              "      <td>0</td>\n",
              "      <td>0.011289</td>\n",
              "      <td>0.011289</td>\n",
              "    </tr>\n",
              "    <tr>\n",
              "      <th>49997</th>\n",
              "      <td>0</td>\n",
              "      <td>7345093</td>\n",
              "      <td>57.95</td>\n",
              "      <td>0</td>\n",
              "      <td>0</td>\n",
              "      <td>0.004260</td>\n",
              "      <td>0.004260</td>\n",
              "    </tr>\n",
              "    <tr>\n",
              "      <th>49998</th>\n",
              "      <td>0</td>\n",
              "      <td>6223027</td>\n",
              "      <td>34.00</td>\n",
              "      <td>0</td>\n",
              "      <td>0</td>\n",
              "      <td>0.007492</td>\n",
              "      <td>0.007492</td>\n",
              "    </tr>\n",
              "    <tr>\n",
              "      <th>49999</th>\n",
              "      <td>0</td>\n",
              "      <td>11223475</td>\n",
              "      <td>54.00</td>\n",
              "      <td>0</td>\n",
              "      <td>0</td>\n",
              "      <td>0.007812</td>\n",
              "      <td>0.007812</td>\n",
              "    </tr>\n",
              "  </tbody>\n",
              "</table>\n",
              "<p>50000 rows × 7 columns</p>\n",
              "</div>\n",
              "      <button class=\"colab-df-convert\" onclick=\"convertToInteractive('df-b1cd5e15-174a-4d8c-b1c1-c3a1d1e643b7')\"\n",
              "              title=\"Convert this dataframe to an interactive table.\"\n",
              "              style=\"display:none;\">\n",
              "        \n",
              "  <svg xmlns=\"http://www.w3.org/2000/svg\" height=\"24px\"viewBox=\"0 0 24 24\"\n",
              "       width=\"24px\">\n",
              "    <path d=\"M0 0h24v24H0V0z\" fill=\"none\"/>\n",
              "    <path d=\"M18.56 5.44l.94 2.06.94-2.06 2.06-.94-2.06-.94-.94-2.06-.94 2.06-2.06.94zm-11 1L8.5 8.5l.94-2.06 2.06-.94-2.06-.94L8.5 2.5l-.94 2.06-2.06.94zm10 10l.94 2.06.94-2.06 2.06-.94-2.06-.94-.94-2.06-.94 2.06-2.06.94z\"/><path d=\"M17.41 7.96l-1.37-1.37c-.4-.4-.92-.59-1.43-.59-.52 0-1.04.2-1.43.59L10.3 9.45l-7.72 7.72c-.78.78-.78 2.05 0 2.83L4 21.41c.39.39.9.59 1.41.59.51 0 1.02-.2 1.41-.59l7.78-7.78 2.81-2.81c.8-.78.8-2.07 0-2.86zM5.41 20L4 18.59l7.72-7.72 1.47 1.35L5.41 20z\"/>\n",
              "  </svg>\n",
              "      </button>\n",
              "      \n",
              "  <style>\n",
              "    .colab-df-container {\n",
              "      display:flex;\n",
              "      flex-wrap:wrap;\n",
              "      gap: 12px;\n",
              "    }\n",
              "\n",
              "    .colab-df-convert {\n",
              "      background-color: #E8F0FE;\n",
              "      border: none;\n",
              "      border-radius: 50%;\n",
              "      cursor: pointer;\n",
              "      display: none;\n",
              "      fill: #1967D2;\n",
              "      height: 32px;\n",
              "      padding: 0 0 0 0;\n",
              "      width: 32px;\n",
              "    }\n",
              "\n",
              "    .colab-df-convert:hover {\n",
              "      background-color: #E2EBFA;\n",
              "      box-shadow: 0px 1px 2px rgba(60, 64, 67, 0.3), 0px 1px 3px 1px rgba(60, 64, 67, 0.15);\n",
              "      fill: #174EA6;\n",
              "    }\n",
              "\n",
              "    [theme=dark] .colab-df-convert {\n",
              "      background-color: #3B4455;\n",
              "      fill: #D2E3FC;\n",
              "    }\n",
              "\n",
              "    [theme=dark] .colab-df-convert:hover {\n",
              "      background-color: #434B5C;\n",
              "      box-shadow: 0px 1px 3px 1px rgba(0, 0, 0, 0.15);\n",
              "      filter: drop-shadow(0px 1px 2px rgba(0, 0, 0, 0.3));\n",
              "      fill: #FFFFFF;\n",
              "    }\n",
              "  </style>\n",
              "\n",
              "      <script>\n",
              "        const buttonEl =\n",
              "          document.querySelector('#df-b1cd5e15-174a-4d8c-b1c1-c3a1d1e643b7 button.colab-df-convert');\n",
              "        buttonEl.style.display =\n",
              "          google.colab.kernel.accessAllowed ? 'block' : 'none';\n",
              "\n",
              "        async function convertToInteractive(key) {\n",
              "          const element = document.querySelector('#df-b1cd5e15-174a-4d8c-b1c1-c3a1d1e643b7');\n",
              "          const dataTable =\n",
              "            await google.colab.kernel.invokeFunction('convertToInteractive',\n",
              "                                                     [key], {});\n",
              "          if (!dataTable) return;\n",
              "\n",
              "          const docLinkHtml = 'Like what you see? Visit the ' +\n",
              "            '<a target=\"_blank\" href=https://colab.research.google.com/notebooks/data_table.ipynb>data table notebook</a>'\n",
              "            + ' to learn more about interactive tables.';\n",
              "          element.innerHTML = '';\n",
              "          dataTable['output_type'] = 'display_data';\n",
              "          await google.colab.output.renderOutput(dataTable, element);\n",
              "          const docLink = document.createElement('div');\n",
              "          docLink.innerHTML = docLinkHtml;\n",
              "          element.appendChild(docLink);\n",
              "        }\n",
              "      </script>\n",
              "    </div>\n",
              "  </div>\n",
              "  "
            ]
          },
          "metadata": {},
          "execution_count": 188
        }
      ]
    },
    {
      "cell_type": "code",
      "source": [
        "xg= load('/content/models/xgboost.joblib')"
      ],
      "metadata": {
        "id": "iX6FABxn0MZA"
      },
      "id": "iX6FABxn0MZA",
      "execution_count": 189,
      "outputs": []
    },
    {
      "cell_type": "code",
      "source": [
        "rf = load('/content/models/random_forrest.joblib')"
      ],
      "metadata": {
        "id": "rd3yv_bp0Rgc"
      },
      "id": "rd3yv_bp0Rgc",
      "execution_count": 164,
      "outputs": []
    },
    {
      "cell_type": "code",
      "source": [
        "y_rf_pred = rf.predict(X_umap_mult)\n",
        "y_xg_pred = xg.predict(X_umap_mult)"
      ],
      "metadata": {
        "id": "ClJ0RcAx54qk"
      },
      "id": "ClJ0RcAx54qk",
      "execution_count": 190,
      "outputs": []
    },
    {
      "cell_type": "code",
      "source": [
        "y_rf_prob = rf.predict_proba(X_umap_mult)[:,1]\n",
        "y_xg_prob = xg.predict_proba(X_umap_mult)[:,1]"
      ],
      "metadata": {
        "id": "kAv3rGZ26jke"
      },
      "id": "kAv3rGZ26jke",
      "execution_count": 191,
      "outputs": []
    },
    {
      "cell_type": "code",
      "source": [
        "X1['rf_pred'] = y_rf_pred\n",
        "X1['xg_pred'] = y_xg_pred\n",
        "X1['rf_prob'] = y_rf_prob\n",
        "X1['xg_prob'] = y_xg_prob"
      ],
      "metadata": {
        "id": "Chcez17K59ad"
      },
      "id": "Chcez17K59ad",
      "execution_count": 192,
      "outputs": []
    },
    {
      "cell_type": "code",
      "source": [
        "X1"
      ],
      "metadata": {
        "colab": {
          "base_uri": "https://localhost:8080/",
          "height": 423
        },
        "id": "vsHaa-JN6BHT",
        "outputId": "1a605f0a-f48d-4fd1-a05b-b3ba20d3526c"
      },
      "id": "vsHaa-JN6BHT",
      "execution_count": 193,
      "outputs": [
        {
          "output_type": "execute_result",
          "data": {
            "text/plain": [
              "       isFraud  TransactionDT  TransactionAmt  rf_pred  xg_pred   rf_prob  \\\n",
              "0            0       12103740          159.95        0        0  0.004575   \n",
              "1            0       14949413           29.00        0        0  0.010406   \n",
              "2            0        6891082          117.00        0        0  0.003737   \n",
              "3            0        9236835          171.00        0        0  0.010391   \n",
              "4            0        1970387          112.99        0        0  0.006764   \n",
              "...        ...            ...             ...      ...      ...       ...   \n",
              "49995        0       13657797          107.95        0        0  0.010951   \n",
              "49996        0       13303781          117.00        0        0  0.011289   \n",
              "49997        0        7345093           57.95        0        0  0.004260   \n",
              "49998        0        6223027           34.00        0        0  0.007492   \n",
              "49999        0       11223475           54.00        0        0  0.007812   \n",
              "\n",
              "        xg_prob  \n",
              "0      0.000068  \n",
              "1      0.000118  \n",
              "2      0.000009  \n",
              "3      0.002314  \n",
              "4      0.001022  \n",
              "...         ...  \n",
              "49995  0.000474  \n",
              "49996  0.000236  \n",
              "49997  0.000033  \n",
              "49998  0.000154  \n",
              "49999  0.000344  \n",
              "\n",
              "[50000 rows x 7 columns]"
            ],
            "text/html": [
              "\n",
              "  <div id=\"df-e064c59a-5029-48bf-baad-f61e83906277\">\n",
              "    <div class=\"colab-df-container\">\n",
              "      <div>\n",
              "<style scoped>\n",
              "    .dataframe tbody tr th:only-of-type {\n",
              "        vertical-align: middle;\n",
              "    }\n",
              "\n",
              "    .dataframe tbody tr th {\n",
              "        vertical-align: top;\n",
              "    }\n",
              "\n",
              "    .dataframe thead th {\n",
              "        text-align: right;\n",
              "    }\n",
              "</style>\n",
              "<table border=\"1\" class=\"dataframe\">\n",
              "  <thead>\n",
              "    <tr style=\"text-align: right;\">\n",
              "      <th></th>\n",
              "      <th>isFraud</th>\n",
              "      <th>TransactionDT</th>\n",
              "      <th>TransactionAmt</th>\n",
              "      <th>rf_pred</th>\n",
              "      <th>xg_pred</th>\n",
              "      <th>rf_prob</th>\n",
              "      <th>xg_prob</th>\n",
              "    </tr>\n",
              "  </thead>\n",
              "  <tbody>\n",
              "    <tr>\n",
              "      <th>0</th>\n",
              "      <td>0</td>\n",
              "      <td>12103740</td>\n",
              "      <td>159.95</td>\n",
              "      <td>0</td>\n",
              "      <td>0</td>\n",
              "      <td>0.004575</td>\n",
              "      <td>0.000068</td>\n",
              "    </tr>\n",
              "    <tr>\n",
              "      <th>1</th>\n",
              "      <td>0</td>\n",
              "      <td>14949413</td>\n",
              "      <td>29.00</td>\n",
              "      <td>0</td>\n",
              "      <td>0</td>\n",
              "      <td>0.010406</td>\n",
              "      <td>0.000118</td>\n",
              "    </tr>\n",
              "    <tr>\n",
              "      <th>2</th>\n",
              "      <td>0</td>\n",
              "      <td>6891082</td>\n",
              "      <td>117.00</td>\n",
              "      <td>0</td>\n",
              "      <td>0</td>\n",
              "      <td>0.003737</td>\n",
              "      <td>0.000009</td>\n",
              "    </tr>\n",
              "    <tr>\n",
              "      <th>3</th>\n",
              "      <td>0</td>\n",
              "      <td>9236835</td>\n",
              "      <td>171.00</td>\n",
              "      <td>0</td>\n",
              "      <td>0</td>\n",
              "      <td>0.010391</td>\n",
              "      <td>0.002314</td>\n",
              "    </tr>\n",
              "    <tr>\n",
              "      <th>4</th>\n",
              "      <td>0</td>\n",
              "      <td>1970387</td>\n",
              "      <td>112.99</td>\n",
              "      <td>0</td>\n",
              "      <td>0</td>\n",
              "      <td>0.006764</td>\n",
              "      <td>0.001022</td>\n",
              "    </tr>\n",
              "    <tr>\n",
              "      <th>...</th>\n",
              "      <td>...</td>\n",
              "      <td>...</td>\n",
              "      <td>...</td>\n",
              "      <td>...</td>\n",
              "      <td>...</td>\n",
              "      <td>...</td>\n",
              "      <td>...</td>\n",
              "    </tr>\n",
              "    <tr>\n",
              "      <th>49995</th>\n",
              "      <td>0</td>\n",
              "      <td>13657797</td>\n",
              "      <td>107.95</td>\n",
              "      <td>0</td>\n",
              "      <td>0</td>\n",
              "      <td>0.010951</td>\n",
              "      <td>0.000474</td>\n",
              "    </tr>\n",
              "    <tr>\n",
              "      <th>49996</th>\n",
              "      <td>0</td>\n",
              "      <td>13303781</td>\n",
              "      <td>117.00</td>\n",
              "      <td>0</td>\n",
              "      <td>0</td>\n",
              "      <td>0.011289</td>\n",
              "      <td>0.000236</td>\n",
              "    </tr>\n",
              "    <tr>\n",
              "      <th>49997</th>\n",
              "      <td>0</td>\n",
              "      <td>7345093</td>\n",
              "      <td>57.95</td>\n",
              "      <td>0</td>\n",
              "      <td>0</td>\n",
              "      <td>0.004260</td>\n",
              "      <td>0.000033</td>\n",
              "    </tr>\n",
              "    <tr>\n",
              "      <th>49998</th>\n",
              "      <td>0</td>\n",
              "      <td>6223027</td>\n",
              "      <td>34.00</td>\n",
              "      <td>0</td>\n",
              "      <td>0</td>\n",
              "      <td>0.007492</td>\n",
              "      <td>0.000154</td>\n",
              "    </tr>\n",
              "    <tr>\n",
              "      <th>49999</th>\n",
              "      <td>0</td>\n",
              "      <td>11223475</td>\n",
              "      <td>54.00</td>\n",
              "      <td>0</td>\n",
              "      <td>0</td>\n",
              "      <td>0.007812</td>\n",
              "      <td>0.000344</td>\n",
              "    </tr>\n",
              "  </tbody>\n",
              "</table>\n",
              "<p>50000 rows × 7 columns</p>\n",
              "</div>\n",
              "      <button class=\"colab-df-convert\" onclick=\"convertToInteractive('df-e064c59a-5029-48bf-baad-f61e83906277')\"\n",
              "              title=\"Convert this dataframe to an interactive table.\"\n",
              "              style=\"display:none;\">\n",
              "        \n",
              "  <svg xmlns=\"http://www.w3.org/2000/svg\" height=\"24px\"viewBox=\"0 0 24 24\"\n",
              "       width=\"24px\">\n",
              "    <path d=\"M0 0h24v24H0V0z\" fill=\"none\"/>\n",
              "    <path d=\"M18.56 5.44l.94 2.06.94-2.06 2.06-.94-2.06-.94-.94-2.06-.94 2.06-2.06.94zm-11 1L8.5 8.5l.94-2.06 2.06-.94-2.06-.94L8.5 2.5l-.94 2.06-2.06.94zm10 10l.94 2.06.94-2.06 2.06-.94-2.06-.94-.94-2.06-.94 2.06-2.06.94z\"/><path d=\"M17.41 7.96l-1.37-1.37c-.4-.4-.92-.59-1.43-.59-.52 0-1.04.2-1.43.59L10.3 9.45l-7.72 7.72c-.78.78-.78 2.05 0 2.83L4 21.41c.39.39.9.59 1.41.59.51 0 1.02-.2 1.41-.59l7.78-7.78 2.81-2.81c.8-.78.8-2.07 0-2.86zM5.41 20L4 18.59l7.72-7.72 1.47 1.35L5.41 20z\"/>\n",
              "  </svg>\n",
              "      </button>\n",
              "      \n",
              "  <style>\n",
              "    .colab-df-container {\n",
              "      display:flex;\n",
              "      flex-wrap:wrap;\n",
              "      gap: 12px;\n",
              "    }\n",
              "\n",
              "    .colab-df-convert {\n",
              "      background-color: #E8F0FE;\n",
              "      border: none;\n",
              "      border-radius: 50%;\n",
              "      cursor: pointer;\n",
              "      display: none;\n",
              "      fill: #1967D2;\n",
              "      height: 32px;\n",
              "      padding: 0 0 0 0;\n",
              "      width: 32px;\n",
              "    }\n",
              "\n",
              "    .colab-df-convert:hover {\n",
              "      background-color: #E2EBFA;\n",
              "      box-shadow: 0px 1px 2px rgba(60, 64, 67, 0.3), 0px 1px 3px 1px rgba(60, 64, 67, 0.15);\n",
              "      fill: #174EA6;\n",
              "    }\n",
              "\n",
              "    [theme=dark] .colab-df-convert {\n",
              "      background-color: #3B4455;\n",
              "      fill: #D2E3FC;\n",
              "    }\n",
              "\n",
              "    [theme=dark] .colab-df-convert:hover {\n",
              "      background-color: #434B5C;\n",
              "      box-shadow: 0px 1px 3px 1px rgba(0, 0, 0, 0.15);\n",
              "      filter: drop-shadow(0px 1px 2px rgba(0, 0, 0, 0.3));\n",
              "      fill: #FFFFFF;\n",
              "    }\n",
              "  </style>\n",
              "\n",
              "      <script>\n",
              "        const buttonEl =\n",
              "          document.querySelector('#df-e064c59a-5029-48bf-baad-f61e83906277 button.colab-df-convert');\n",
              "        buttonEl.style.display =\n",
              "          google.colab.kernel.accessAllowed ? 'block' : 'none';\n",
              "\n",
              "        async function convertToInteractive(key) {\n",
              "          const element = document.querySelector('#df-e064c59a-5029-48bf-baad-f61e83906277');\n",
              "          const dataTable =\n",
              "            await google.colab.kernel.invokeFunction('convertToInteractive',\n",
              "                                                     [key], {});\n",
              "          if (!dataTable) return;\n",
              "\n",
              "          const docLinkHtml = 'Like what you see? Visit the ' +\n",
              "            '<a target=\"_blank\" href=https://colab.research.google.com/notebooks/data_table.ipynb>data table notebook</a>'\n",
              "            + ' to learn more about interactive tables.';\n",
              "          element.innerHTML = '';\n",
              "          dataTable['output_type'] = 'display_data';\n",
              "          await google.colab.output.renderOutput(dataTable, element);\n",
              "          const docLink = document.createElement('div');\n",
              "          docLink.innerHTML = docLinkHtml;\n",
              "          element.appendChild(docLink);\n",
              "        }\n",
              "      </script>\n",
              "    </div>\n",
              "  </div>\n",
              "  "
            ]
          },
          "metadata": {},
          "execution_count": 193
        }
      ]
    },
    {
      "cell_type": "code",
      "source": [
        "plt.plot(X1['isFraud'].cumsum())\n",
        "plt.plot(X1['rf_pred'].cumsum())\n",
        "plt.plot(X1['xg_pred'].cumsum())"
      ],
      "metadata": {
        "colab": {
          "base_uri": "https://localhost:8080/",
          "height": 282
        },
        "id": "sBNXddrB70kf",
        "outputId": "faff856c-8cea-4473-f92a-19c06c7ec98c"
      },
      "id": "sBNXddrB70kf",
      "execution_count": 194,
      "outputs": [
        {
          "output_type": "execute_result",
          "data": {
            "text/plain": [
              "[<matplotlib.lines.Line2D at 0x7fdf0ab5ad50>]"
            ]
          },
          "metadata": {},
          "execution_count": 194
        },
        {
          "output_type": "display_data",
          "data": {
            "text/plain": [
              "<Figure size 432x288 with 1 Axes>"
            ],
            "image/png": "[encoded data removed]"
          },
          "metadata": {
            "needs_background": "light"
          }
        }
      ]
    },
    {
      "cell_type": "code",
      "source": [
        "X1"
      ],
      "metadata": {
        "colab": {
          "base_uri": "https://localhost:8080/",
          "height": 423
        },
        "id": "sFlEVDYX8AGS",
        "outputId": "7e38cbf9-3ded-400b-840a-c39f2f0f01d2"
      },
      "id": "sFlEVDYX8AGS",
      "execution_count": 195,
      "outputs": [
        {
          "output_type": "execute_result",
          "data": {
            "text/plain": [
              "       isFraud  TransactionDT  TransactionAmt  rf_pred  xg_pred   rf_prob  \\\n",
              "0            0       12103740          159.95        0        0  0.004575   \n",
              "1            0       14949413           29.00        0        0  0.010406   \n",
              "2            0        6891082          117.00        0        0  0.003737   \n",
              "3            0        9236835          171.00        0        0  0.010391   \n",
              "4            0        1970387          112.99        0        0  0.006764   \n",
              "...        ...            ...             ...      ...      ...       ...   \n",
              "49995        0       13657797          107.95        0        0  0.010951   \n",
              "49996        0       13303781          117.00        0        0  0.011289   \n",
              "49997        0        7345093           57.95        0        0  0.004260   \n",
              "49998        0        6223027           34.00        0        0  0.007492   \n",
              "49999        0       11223475           54.00        0        0  0.007812   \n",
              "\n",
              "        xg_prob  \n",
              "0      0.000068  \n",
              "1      0.000118  \n",
              "2      0.000009  \n",
              "3      0.002314  \n",
              "4      0.001022  \n",
              "...         ...  \n",
              "49995  0.000474  \n",
              "49996  0.000236  \n",
              "49997  0.000033  \n",
              "49998  0.000154  \n",
              "49999  0.000344  \n",
              "\n",
              "[50000 rows x 7 columns]"
            ],
            "text/html": [
              "\n",
              "  <div id=\"df-0134eaf6-ce63-4089-8cc5-d6644c441dc0\">\n",
              "    <div class=\"colab-df-container\">\n",
              "      <div>\n",
              "<style scoped>\n",
              "    .dataframe tbody tr th:only-of-type {\n",
              "        vertical-align: middle;\n",
              "    }\n",
              "\n",
              "    .dataframe tbody tr th {\n",
              "        vertical-align: top;\n",
              "    }\n",
              "\n",
              "    .dataframe thead th {\n",
              "        text-align: right;\n",
              "    }\n",
              "</style>\n",
              "<table border=\"1\" class=\"dataframe\">\n",
              "  <thead>\n",
              "    <tr style=\"text-align: right;\">\n",
              "      <th></th>\n",
              "      <th>isFraud</th>\n",
              "      <th>TransactionDT</th>\n",
              "      <th>TransactionAmt</th>\n",
              "      <th>rf_pred</th>\n",
              "      <th>xg_pred</th>\n",
              "      <th>rf_prob</th>\n",
              "      <th>xg_prob</th>\n",
              "    </tr>\n",
              "  </thead>\n",
              "  <tbody>\n",
              "    <tr>\n",
              "      <th>0</th>\n",
              "      <td>0</td>\n",
              "      <td>12103740</td>\n",
              "      <td>159.95</td>\n",
              "      <td>0</td>\n",
              "      <td>0</td>\n",
              "      <td>0.004575</td>\n",
              "      <td>0.000068</td>\n",
              "    </tr>\n",
              "    <tr>\n",
              "      <th>1</th>\n",
              "      <td>0</td>\n",
              "      <td>14949413</td>\n",
              "      <td>29.00</td>\n",
              "      <td>0</td>\n",
              "      <td>0</td>\n",
              "      <td>0.010406</td>\n",
              "      <td>0.000118</td>\n",
              "    </tr>\n",
              "    <tr>\n",
              "      <th>2</th>\n",
              "      <td>0</td>\n",
              "      <td>6891082</td>\n",
              "      <td>117.00</td>\n",
              "      <td>0</td>\n",
              "      <td>0</td>\n",
              "      <td>0.003737</td>\n",
              "      <td>0.000009</td>\n",
              "    </tr>\n",
              "    <tr>\n",
              "      <th>3</th>\n",
              "      <td>0</td>\n",
              "      <td>9236835</td>\n",
              "      <td>171.00</td>\n",
              "      <td>0</td>\n",
              "      <td>0</td>\n",
              "      <td>0.010391</td>\n",
              "      <td>0.002314</td>\n",
              "    </tr>\n",
              "    <tr>\n",
              "      <th>4</th>\n",
              "      <td>0</td>\n",
              "      <td>1970387</td>\n",
              "      <td>112.99</td>\n",
              "      <td>0</td>\n",
              "      <td>0</td>\n",
              "      <td>0.006764</td>\n",
              "      <td>0.001022</td>\n",
              "    </tr>\n",
              "    <tr>\n",
              "      <th>...</th>\n",
              "      <td>...</td>\n",
              "      <td>...</td>\n",
              "      <td>...</td>\n",
              "      <td>...</td>\n",
              "      <td>...</td>\n",
              "      <td>...</td>\n",
              "      <td>...</td>\n",
              "    </tr>\n",
              "    <tr>\n",
              "      <th>49995</th>\n",
              "      <td>0</td>\n",
              "      <td>13657797</td>\n",
              "      <td>107.95</td>\n",
              "      <td>0</td>\n",
              "      <td>0</td>\n",
              "      <td>0.010951</td>\n",
              "      <td>0.000474</td>\n",
              "    </tr>\n",
              "    <tr>\n",
              "      <th>49996</th>\n",
              "      <td>0</td>\n",
              "      <td>13303781</td>\n",
              "      <td>117.00</td>\n",
              "      <td>0</td>\n",
              "      <td>0</td>\n",
              "      <td>0.011289</td>\n",
              "      <td>0.000236</td>\n",
              "    </tr>\n",
              "    <tr>\n",
              "      <th>49997</th>\n",
              "      <td>0</td>\n",
              "      <td>7345093</td>\n",
              "      <td>57.95</td>\n",
              "      <td>0</td>\n",
              "      <td>0</td>\n",
              "      <td>0.004260</td>\n",
              "      <td>0.000033</td>\n",
              "    </tr>\n",
              "    <tr>\n",
              "      <th>49998</th>\n",
              "      <td>0</td>\n",
              "      <td>6223027</td>\n",
              "      <td>34.00</td>\n",
              "      <td>0</td>\n",
              "      <td>0</td>\n",
              "      <td>0.007492</td>\n",
              "      <td>0.000154</td>\n",
              "    </tr>\n",
              "    <tr>\n",
              "      <th>49999</th>\n",
              "      <td>0</td>\n",
              "      <td>11223475</td>\n",
              "      <td>54.00</td>\n",
              "      <td>0</td>\n",
              "      <td>0</td>\n",
              "      <td>0.007812</td>\n",
              "      <td>0.000344</td>\n",
              "    </tr>\n",
              "  </tbody>\n",
              "</table>\n",
              "<p>50000 rows × 7 columns</p>\n",
              "</div>\n",
              "      <button class=\"colab-df-convert\" onclick=\"convertToInteractive('df-0134eaf6-ce63-4089-8cc5-d6644c441dc0')\"\n",
              "              title=\"Convert this dataframe to an interactive table.\"\n",
              "              style=\"display:none;\">\n",
              "        \n",
              "  <svg xmlns=\"http://www.w3.org/2000/svg\" height=\"24px\"viewBox=\"0 0 24 24\"\n",
              "       width=\"24px\">\n",
              "    <path d=\"M0 0h24v24H0V0z\" fill=\"none\"/>\n",
              "    <path d=\"M18.56 5.44l.94 2.06.94-2.06 2.06-.94-2.06-.94-.94-2.06-.94 2.06-2.06.94zm-11 1L8.5 8.5l.94-2.06 2.06-.94-2.06-.94L8.5 2.5l-.94 2.06-2.06.94zm10 10l.94 2.06.94-2.06 2.06-.94-2.06-.94-.94-2.06-.94 2.06-2.06.94z\"/><path d=\"M17.41 7.96l-1.37-1.37c-.4-.4-.92-.59-1.43-.59-.52 0-1.04.2-1.43.59L10.3 9.45l-7.72 7.72c-.78.78-.78 2.05 0 2.83L4 21.41c.39.39.9.59 1.41.59.51 0 1.02-.2 1.41-.59l7.78-7.78 2.81-2.81c.8-.78.8-2.07 0-2.86zM5.41 20L4 18.59l7.72-7.72 1.47 1.35L5.41 20z\"/>\n",
              "  </svg>\n",
              "      </button>\n",
              "      \n",
              "  <style>\n",
              "    .colab-df-container {\n",
              "      display:flex;\n",
              "      flex-wrap:wrap;\n",
              "      gap: 12px;\n",
              "    }\n",
              "\n",
              "    .colab-df-convert {\n",
              "      background-color: #E8F0FE;\n",
              "      border: none;\n",
              "      border-radius: 50%;\n",
              "      cursor: pointer;\n",
              "      display: none;\n",
              "      fill: #1967D2;\n",
              "      height: 32px;\n",
              "      padding: 0 0 0 0;\n",
              "      width: 32px;\n",
              "    }\n",
              "\n",
              "    .colab-df-convert:hover {\n",
              "      background-color: #E2EBFA;\n",
              "      box-shadow: 0px 1px 2px rgba(60, 64, 67, 0.3), 0px 1px 3px 1px rgba(60, 64, 67, 0.15);\n",
              "      fill: #174EA6;\n",
              "    }\n",
              "\n",
              "    [theme=dark] .colab-df-convert {\n",
              "      background-color: #3B4455;\n",
              "      fill: #D2E3FC;\n",
              "    }\n",
              "\n",
              "    [theme=dark] .colab-df-convert:hover {\n",
              "      background-color: #434B5C;\n",
              "      box-shadow: 0px 1px 3px 1px rgba(0, 0, 0, 0.15);\n",
              "      filter: drop-shadow(0px 1px 2px rgba(0, 0, 0, 0.3));\n",
              "      fill: #FFFFFF;\n",
              "    }\n",
              "  </style>\n",
              "\n",
              "      <script>\n",
              "        const buttonEl =\n",
              "          document.querySelector('#df-0134eaf6-ce63-4089-8cc5-d6644c441dc0 button.colab-df-convert');\n",
              "        buttonEl.style.display =\n",
              "          google.colab.kernel.accessAllowed ? 'block' : 'none';\n",
              "\n",
              "        async function convertToInteractive(key) {\n",
              "          const element = document.querySelector('#df-0134eaf6-ce63-4089-8cc5-d6644c441dc0');\n",
              "          const dataTable =\n",
              "            await google.colab.kernel.invokeFunction('convertToInteractive',\n",
              "                                                     [key], {});\n",
              "          if (!dataTable) return;\n",
              "\n",
              "          const docLinkHtml = 'Like what you see? Visit the ' +\n",
              "            '<a target=\"_blank\" href=https://colab.research.google.com/notebooks/data_table.ipynb>data table notebook</a>'\n",
              "            + ' to learn more about interactive tables.';\n",
              "          element.innerHTML = '';\n",
              "          dataTable['output_type'] = 'display_data';\n",
              "          await google.colab.output.renderOutput(dataTable, element);\n",
              "          const docLink = document.createElement('div');\n",
              "          docLink.innerHTML = docLinkHtml;\n",
              "          element.appendChild(docLink);\n",
              "        }\n",
              "      </script>\n",
              "    </div>\n",
              "  </div>\n",
              "  "
            ]
          },
          "metadata": {},
          "execution_count": 195
        }
      ]
    },
    {
      "cell_type": "code",
      "source": [
        "def matriz_custos(df, model_pred= 'rf_pred' ):\n",
        "  #  \n",
        "  C00 = df.loc[(df['isFraud']==0)&(df[model_pred]==0),'TransactionAmt'].sum()\n",
        "  C11 = df.loc[(df['isFraud']==1)&(df[model_pred]==1),'TransactionAmt'].sum()\n",
        "  C01 = df.loc[(df['isFraud']==0)&(df[model_pred]==1),'TransactionAmt'].sum()\n",
        "  C10 = df.loc[(df['isFraud']==1)&(df[model_pred]==0),'TransactionAmt'].sum()\n",
        "  cost_matrix = pd.DataFrame([[C00,C01],[C10,C11]], index = ['real genuíno','real fraude'], columns = ['pred genuíno','pred Fraud'])/df['TransactionAmt'].sum()\n",
        "  return cost_matrix"
      ],
      "metadata": {
        "id": "xXUFpKtKDA30"
      },
      "id": "xXUFpKtKDA30",
      "execution_count": 211,
      "outputs": []
    },
    {
      "cell_type": "code",
      "source": [
        "matriz_custos(X1, 'rf_pred')"
      ],
      "metadata": {
        "colab": {
          "base_uri": "https://localhost:8080/",
          "height": 112
        },
        "id": "jMJAxat_G2ne",
        "outputId": "e62a3b18-0ec9-4767-841f-72e9958baa6d"
      },
      "id": "jMJAxat_G2ne",
      "execution_count": 216,
      "outputs": [
        {
          "output_type": "execute_result",
          "data": {
            "text/plain": [
              "              pred genuíno  pred Fraud\n",
              "real genuíno      0.963559    0.000000\n",
              "real fraude       0.013227    0.023214"
            ],
            "text/html": [
              "\n",
              "  <div id=\"df-b28e7003-6d3d-4754-8a72-4f35b5411166\">\n",
              "    <div class=\"colab-df-container\">\n",
              "      <div>\n",
              "<style scoped>\n",
              "    .dataframe tbody tr th:only-of-type {\n",
              "        vertical-align: middle;\n",
              "    }\n",
              "\n",
              "    .dataframe tbody tr th {\n",
              "        vertical-align: top;\n",
              "    }\n",
              "\n",
              "    .dataframe thead th {\n",
              "        text-align: right;\n",
              "    }\n",
              "</style>\n",
              "<table border=\"1\" class=\"dataframe\">\n",
              "  <thead>\n",
              "    <tr style=\"text-align: right;\">\n",
              "      <th></th>\n",
              "      <th>pred genuíno</th>\n",
              "      <th>pred Fraud</th>\n",
              "    </tr>\n",
              "  </thead>\n",
              "  <tbody>\n",
              "    <tr>\n",
              "      <th>real genuíno</th>\n",
              "      <td>0.963559</td>\n",
              "      <td>0.000000</td>\n",
              "    </tr>\n",
              "    <tr>\n",
              "      <th>real fraude</th>\n",
              "      <td>0.013227</td>\n",
              "      <td>0.023214</td>\n",
              "    </tr>\n",
              "  </tbody>\n",
              "</table>\n",
              "</div>\n",
              "      <button class=\"colab-df-convert\" onclick=\"convertToInteractive('df-b28e7003-6d3d-4754-8a72-4f35b5411166')\"\n",
              "              title=\"Convert this dataframe to an interactive table.\"\n",
              "              style=\"display:none;\">\n",
              "        \n",
              "  <svg xmlns=\"http://www.w3.org/2000/svg\" height=\"24px\"viewBox=\"0 0 24 24\"\n",
              "       width=\"24px\">\n",
              "    <path d=\"M0 0h24v24H0V0z\" fill=\"none\"/>\n",
              "    <path d=\"M18.56 5.44l.94 2.06.94-2.06 2.06-.94-2.06-.94-.94-2.06-.94 2.06-2.06.94zm-11 1L8.5 8.5l.94-2.06 2.06-.94-2.06-.94L8.5 2.5l-.94 2.06-2.06.94zm10 10l.94 2.06.94-2.06 2.06-.94-2.06-.94-.94-2.06-.94 2.06-2.06.94z\"/><path d=\"M17.41 7.96l-1.37-1.37c-.4-.4-.92-.59-1.43-.59-.52 0-1.04.2-1.43.59L10.3 9.45l-7.72 7.72c-.78.78-.78 2.05 0 2.83L4 21.41c.39.39.9.59 1.41.59.51 0 1.02-.2 1.41-.59l7.78-7.78 2.81-2.81c.8-.78.8-2.07 0-2.86zM5.41 20L4 18.59l7.72-7.72 1.47 1.35L5.41 20z\"/>\n",
              "  </svg>\n",
              "      </button>\n",
              "      \n",
              "  <style>\n",
              "    .colab-df-container {\n",
              "      display:flex;\n",
              "      flex-wrap:wrap;\n",
              "      gap: 12px;\n",
              "    }\n",
              "\n",
              "    .colab-df-convert {\n",
              "      background-color: #E8F0FE;\n",
              "      border: none;\n",
              "      border-radius: 50%;\n",
              "      cursor: pointer;\n",
              "      display: none;\n",
              "      fill: #1967D2;\n",
              "      height: 32px;\n",
              "      padding: 0 0 0 0;\n",
              "      width: 32px;\n",
              "    }\n",
              "\n",
              "    .colab-df-convert:hover {\n",
              "      background-color: #E2EBFA;\n",
              "      box-shadow: 0px 1px 2px rgba(60, 64, 67, 0.3), 0px 1px 3px 1px rgba(60, 64, 67, 0.15);\n",
              "      fill: #174EA6;\n",
              "    }\n",
              "\n",
              "    [theme=dark] .colab-df-convert {\n",
              "      background-color: #3B4455;\n",
              "      fill: #D2E3FC;\n",
              "    }\n",
              "\n",
              "    [theme=dark] .colab-df-convert:hover {\n",
              "      background-color: #434B5C;\n",
              "      box-shadow: 0px 1px 3px 1px rgba(0, 0, 0, 0.15);\n",
              "      filter: drop-shadow(0px 1px 2px rgba(0, 0, 0, 0.3));\n",
              "      fill: #FFFFFF;\n",
              "    }\n",
              "  </style>\n",
              "\n",
              "      <script>\n",
              "        const buttonEl =\n",
              "          document.querySelector('#df-b28e7003-6d3d-4754-8a72-4f35b5411166 button.colab-df-convert');\n",
              "        buttonEl.style.display =\n",
              "          google.colab.kernel.accessAllowed ? 'block' : 'none';\n",
              "\n",
              "        async function convertToInteractive(key) {\n",
              "          const element = document.querySelector('#df-b28e7003-6d3d-4754-8a72-4f35b5411166');\n",
              "          const dataTable =\n",
              "            await google.colab.kernel.invokeFunction('convertToInteractive',\n",
              "                                                     [key], {});\n",
              "          if (!dataTable) return;\n",
              "\n",
              "          const docLinkHtml = 'Like what you see? Visit the ' +\n",
              "            '<a target=\"_blank\" href=https://colab.research.google.com/notebooks/data_table.ipynb>data table notebook</a>'\n",
              "            + ' to learn more about interactive tables.';\n",
              "          element.innerHTML = '';\n",
              "          dataTable['output_type'] = 'display_data';\n",
              "          await google.colab.output.renderOutput(dataTable, element);\n",
              "          const docLink = document.createElement('div');\n",
              "          docLink.innerHTML = docLinkHtml;\n",
              "          element.appendChild(docLink);\n",
              "        }\n",
              "      </script>\n",
              "    </div>\n",
              "  </div>\n",
              "  "
            ]
          },
          "metadata": {},
          "execution_count": 216
        }
      ]
    },
    {
      "cell_type": "code",
      "source": [
        "matriz_custos(X1, 'xg_pred')"
      ],
      "metadata": {
        "colab": {
          "base_uri": "https://localhost:8080/",
          "height": 112
        },
        "id": "NKmBZLC7Euh2",
        "outputId": "5b5ce148-1f92-4070-8955-cb848e9fbc57"
      },
      "id": "NKmBZLC7Euh2",
      "execution_count": 217,
      "outputs": [
        {
          "output_type": "execute_result",
          "data": {
            "text/plain": [
              "              pred genuíno  pred Fraud\n",
              "real genuíno      0.963049    0.000510\n",
              "real fraude       0.006079    0.030361"
            ],
            "text/html": [
              "\n",
              "  <div id=\"df-168ac3ba-290e-4038-a9b2-ac4cec378c31\">\n",
              "    <div class=\"colab-df-container\">\n",
              "      <div>\n",
              "<style scoped>\n",
              "    .dataframe tbody tr th:only-of-type {\n",
              "        vertical-align: middle;\n",
              "    }\n",
              "\n",
              "    .dataframe tbody tr th {\n",
              "        vertical-align: top;\n",
              "    }\n",
              "\n",
              "    .dataframe thead th {\n",
              "        text-align: right;\n",
              "    }\n",
              "</style>\n",
              "<table border=\"1\" class=\"dataframe\">\n",
              "  <thead>\n",
              "    <tr style=\"text-align: right;\">\n",
              "      <th></th>\n",
              "      <th>pred genuíno</th>\n",
              "      <th>pred Fraud</th>\n",
              "    </tr>\n",
              "  </thead>\n",
              "  <tbody>\n",
              "    <tr>\n",
              "      <th>real genuíno</th>\n",
              "      <td>0.963049</td>\n",
              "      <td>0.000510</td>\n",
              "    </tr>\n",
              "    <tr>\n",
              "      <th>real fraude</th>\n",
              "      <td>0.006079</td>\n",
              "      <td>0.030361</td>\n",
              "    </tr>\n",
              "  </tbody>\n",
              "</table>\n",
              "</div>\n",
              "      <button class=\"colab-df-convert\" onclick=\"convertToInteractive('df-168ac3ba-290e-4038-a9b2-ac4cec378c31')\"\n",
              "              title=\"Convert this dataframe to an interactive table.\"\n",
              "              style=\"display:none;\">\n",
              "        \n",
              "  <svg xmlns=\"http://www.w3.org/2000/svg\" height=\"24px\"viewBox=\"0 0 24 24\"\n",
              "       width=\"24px\">\n",
              "    <path d=\"M0 0h24v24H0V0z\" fill=\"none\"/>\n",
              "    <path d=\"M18.56 5.44l.94 2.06.94-2.06 2.06-.94-2.06-.94-.94-2.06-.94 2.06-2.06.94zm-11 1L8.5 8.5l.94-2.06 2.06-.94-2.06-.94L8.5 2.5l-.94 2.06-2.06.94zm10 10l.94 2.06.94-2.06 2.06-.94-2.06-.94-.94-2.06-.94 2.06-2.06.94z\"/><path d=\"M17.41 7.96l-1.37-1.37c-.4-.4-.92-.59-1.43-.59-.52 0-1.04.2-1.43.59L10.3 9.45l-7.72 7.72c-.78.78-.78 2.05 0 2.83L4 21.41c.39.39.9.59 1.41.59.51 0 1.02-.2 1.41-.59l7.78-7.78 2.81-2.81c.8-.78.8-2.07 0-2.86zM5.41 20L4 18.59l7.72-7.72 1.47 1.35L5.41 20z\"/>\n",
              "  </svg>\n",
              "      </button>\n",
              "      \n",
              "  <style>\n",
              "    .colab-df-container {\n",
              "      display:flex;\n",
              "      flex-wrap:wrap;\n",
              "      gap: 12px;\n",
              "    }\n",
              "\n",
              "    .colab-df-convert {\n",
              "      background-color: #E8F0FE;\n",
              "      border: none;\n",
              "      border-radius: 50%;\n",
              "      cursor: pointer;\n",
              "      display: none;\n",
              "      fill: #1967D2;\n",
              "      height: 32px;\n",
              "      padding: 0 0 0 0;\n",
              "      width: 32px;\n",
              "    }\n",
              "\n",
              "    .colab-df-convert:hover {\n",
              "      background-color: #E2EBFA;\n",
              "      box-shadow: 0px 1px 2px rgba(60, 64, 67, 0.3), 0px 1px 3px 1px rgba(60, 64, 67, 0.15);\n",
              "      fill: #174EA6;\n",
              "    }\n",
              "\n",
              "    [theme=dark] .colab-df-convert {\n",
              "      background-color: #3B4455;\n",
              "      fill: #D2E3FC;\n",
              "    }\n",
              "\n",
              "    [theme=dark] .colab-df-convert:hover {\n",
              "      background-color: #434B5C;\n",
              "      box-shadow: 0px 1px 3px 1px rgba(0, 0, 0, 0.15);\n",
              "      filter: drop-shadow(0px 1px 2px rgba(0, 0, 0, 0.3));\n",
              "      fill: #FFFFFF;\n",
              "    }\n",
              "  </style>\n",
              "\n",
              "      <script>\n",
              "        const buttonEl =\n",
              "          document.querySelector('#df-168ac3ba-290e-4038-a9b2-ac4cec378c31 button.colab-df-convert');\n",
              "        buttonEl.style.display =\n",
              "          google.colab.kernel.accessAllowed ? 'block' : 'none';\n",
              "\n",
              "        async function convertToInteractive(key) {\n",
              "          const element = document.querySelector('#df-168ac3ba-290e-4038-a9b2-ac4cec378c31');\n",
              "          const dataTable =\n",
              "            await google.colab.kernel.invokeFunction('convertToInteractive',\n",
              "                                                     [key], {});\n",
              "          if (!dataTable) return;\n",
              "\n",
              "          const docLinkHtml = 'Like what you see? Visit the ' +\n",
              "            '<a target=\"_blank\" href=https://colab.research.google.com/notebooks/data_table.ipynb>data table notebook</a>'\n",
              "            + ' to learn more about interactive tables.';\n",
              "          element.innerHTML = '';\n",
              "          dataTable['output_type'] = 'display_data';\n",
              "          await google.colab.output.renderOutput(dataTable, element);\n",
              "          const docLink = document.createElement('div');\n",
              "          docLink.innerHTML = docLinkHtml;\n",
              "          element.appendChild(docLink);\n",
              "        }\n",
              "      </script>\n",
              "    </div>\n",
              "  </div>\n",
              "  "
            ]
          },
          "metadata": {},
          "execution_count": 217
        }
      ]
    }
  ],
  "metadata": {
    "hide_input": false,
    "kernelspec": {
      "display_name": "Python 3",
      "language": "python",
      "name": "python3"
    },
    "language_info": {
      "codemirror_mode": {
        "name": "ipython",
        "version": 3
      },
      "file_extension": ".py",
      "mimetype": "text/x-python",
      "name": "python",
      "nbconvert_exporter": "python",
      "pygments_lexer": "ipython3",
      "version": "3.8.3"
    },
    "nbTranslate": {
      "displayLangs": [
        "*"
      ],
      "hotkey": "alt-t",
      "langInMainMenu": true,
      "sourceLang": "en",
      "targetLang": "fr",
      "useGoogleTranslate": true
    },
    "colab": {
      "name": "Teste_para_vaga_Cientista_de_Dados_Senior_Parte_1_A.ipynb",
      "provenance": [],
      "machine_shape": "hm",
      "include_colab_link": true
    },
    "accelerator": "GPU"
  },
  "nbformat": 4,
  "nbformat_minor": 5
}