{
  "cells": [
    {
      "cell_type": "markdown",
      "metadata": {
        "id": "view-in-github",
        "colab_type": "text"
      },
      "source": [
        "<a href=\"https://colab.research.google.com/github/DeepFluxion/F1rst/blob/main/notebooks/Teste_para_vaga_Cientista_de_Dados_Senior_Parte_1_A.ipynb\" target=\"_parent\"><img src=\"https://colab.research.google.com/assets/colab-badge.svg\" alt=\"Open In Colab\"/></a>"
      ]
    },
    {
      "cell_type": "markdown",
      "id": "93608093",
      "metadata": {
        "id": "93608093"
      },
      "source": [
        "## Requisitos da Parte 1 do Teste\n",
        "---\n",
        "### Parte 1: Algoritmos aplicados à base de dados de Fraudes do Kaggle.\n",
        "\n",
        "Nesta Parte 1A Foi considerado o seguinte Exemplo de Competições de Referências:\n",
        "https://www.kaggle.com/c/ieee-fraud-detection\n",
        "\n",
        "Essa parte consiste na elaboração de um Jupyter Notebook (ou outra ferramenta que lhe for mais conveniente para apresentação) com pelo menos 2 técnicas à sua escolha para resolver uma ou mais competições de Fraude contidas no Kaggle. \n",
        "\n",
        "O candidato tem a liberdade para escolha da competição que lhe for mais conveniente, bem como de unir todas as bases de dados caso queira.\n",
        "**Pacotes obrigatórios para se utilizar:** Pandas, Scikit-learn, Tensorflow (ou PyTorch).\n",
        "\n",
        "### Comentários:\n",
        "- Optou-se por uyilizar o Jupyter Notebook\n",
        "- Nesta parte 1A o desenvolvimentou focou em técnicas de Aprendizado de Máquina para classificação, empregando o pacote [Scikit-learn](https://scikit-learn.org/stable/)\n",
        "- Também empregou-se o pacote [XGBoost](https://xgboost.readthedocs.io/en/stable/) para classificação\n",
        "- Para maniputação dos dados foi usado o pacote [Pandas](https://pandas.pydata.org/)\n",
        "- Dado o grande volume de atributo recorreu-se a [Redução de Dimensionalidade](https://en.wikipedia.org/wiki/Dimensionality_reduction), tarefa na qual foi usado pacote [UMAP: Uniform Manifold Approximation and Projection for Dimension Reduction](https://umap-learn.readthedocs.io/en/latest/)]\n",
        "- Outras bibliotecas mais comuns foram empregadas\n",
        "- Foi usado o Python 3.7"
      ]
    },
    {
      "cell_type": "markdown",
      "id": "7f77ab43",
      "metadata": {
        "id": "7f77ab43"
      },
      "source": [
        "## Entendimento do Negócio - FDS (Fraud Detection Systems)\n",
        "\n",
        "### Fonte\n",
        "Para o desenvolviemnto de um projeto de Data Science é necessário, iniciar pela entendimento do problema a se resolver, estabelecer seus requisitos e desenvolver uma criação que apoia as escolhas e desenvolvimentos do projeto. Deste modo, na falta de especialistas para consulta recorreu-se a seguinte fonte:\n",
        "\n",
        "> [Reproducible Machine Learning for Credit Card Fraud Detection - Practical Handbook (2022)](https://fraud-detection-handbook.github.io/fraud-detection-handbook/Foreword.html), dos autores:  \n",
        "> * Yann-Aël Le Borgne - Machine Learning Group - Université Libre de Bruxelles, Belgium.  \n",
        "> * Wissam Siblini - Machine Learning Research - Worldline Labs   \n",
        "> * Bertrand Lebichot - Interdisciplinary Centre for Security, Reliability and Trust - Université du Luxembourg, Luxembourg \n",
        "> * Gianluca Bontempi - Machine Learning Group - Université Libre de Bruxelles, Belgium\n",
        "\n",
        "### Estrutura de um FDS\n",
        "Um sistema de detecção de fraude de cartão de crédito (FDS) é tipicamente composto por um conjunto de cinco camadas de controle [DP15, DPBC+17], conforme ilustrado na Fig. 1.\n",
        "\n",
        "![](https://fraud-detection-handbook.github.io/fraud-detection-handbook/_images/FDS.jpg)\n",
        "##### Fig. 1. Diagrama ilustrando as camadas de controle em um FDS.\n",
        "\n",
        "> O foco deste desenvolvimento é principalmente o modelo orientado a dados, que ajuda os investigadores a emitir alertas sobre as transações mais suspeitas.\n",
        "\n",
        "### Modelo orientado a dados (DDM)\n",
        "\n",
        "Essa camada é puramente orientada a dados e adota um classificador ou outro modelo estatístico para estimar a probabilidade de cada vetor de característica ser uma fraude. Essa probabilidade é usada como a pontuação de fraude associada às transações autorizadas. \n",
        "\n",
        "Assim, o modelo orientado a dados é treinado a partir de um conjunto de transações rotuladas e não pode ser interpretado ou modificado manualmente pelos investigadores. \n",
        "\n",
        "Espera-se que um modelo orientado a dados eficaz detecte padrões fraudulentos analisando simultaneamente vários componentes do vetor de recursos, possivelmente por meio de expressões não lineares. \n",
        "\n",
        "Portanto, espera-se que o DDM encontre fraudes de acordo com regras que vão além da experiência do investigador, e que não necessariamente correspondem a regras interpretáveis.\n",
        "\n",
        "> Portanto para o desenvolvimento do projeto estabeleceu-se as seguinte premissa:   \n",
        "> * Ainda que se possa empregar Apredizado de Máquina (AM) em diversas tarefas ao longa da estrutura do FDS optou-se por desenvolver um modelo para detecção de fraudes em **Transações**, portanto esse será o objeto de modelagem, ainda que com os dados disponíveis seja possível trabalhar com os usuários.\n",
        "\n",
        "### AM para detecção de fraudes em cartões de crédito (CCFD)\n",
        "\n",
        "AM para CCFD tornou-se um campo de pesquisa ativo. Isso é ilustrado por um grande número de publicações sobre o tema e suas reivindicações promissoras. Ao mesmo tempo, deve-se ter cautela na interpretação dos resultados dessas publicações. Como foi apontado em Aprendizado de máquina para detecção de fraude de cartão de crédito, o campo de AM para CCFD é relativamente novo, e não existem benchmarks reconhecidos, nem metodologias, para comparar e avaliar as técnicas propostas. Porém os autores sugerem uma metodologia básica que é apresnetada na Fig.2.\n",
        "\n",
        "![](https://fraud-detection-handbook.github.io/fraud-detection-handbook/_images/baseline_ML_workflow.png)\n",
        "#### Fig. 2. ML para CCFD: Metodologia de linha de base seguida pela maioria das abordagens propostas nas pesquisas recentes sobre o tema.\n",
        "\n",
        "\n",
        "\n",
        "\n"
      ]
    },
    {
      "cell_type": "markdown",
      "metadata": {
        "id": "7qPNZDLsGhvz"
      },
      "source": [
        "## Organização do Projeto\n",
        "O projeto foi então organizado tendo em vista atendero framework anteriormente apresentado, seguindo as etapas listadas a seguir:\n",
        "> **Etapa 1 -Entendimento e Ingestão do dados da base Kaggle.**  \n",
        "\n",
        "> **Etapa 2 -Pré processamento dos Dados.**   \n",
        "> - Etapa 2A - Eliminação dos Missing Values.\n",
        "> - Etapa 2B - Padronização.\n",
        "> - Etapa 2C - Redução de Dimensões (PCA e UMAP)\n",
        "\n",
        "> **Etapa 3 -Pré Modelagem.**   \n",
        "> - Etapa 3A - Decision Trees.\n",
        "> - Etapa 3B - SVC Linear.\n",
        "> - Etapa 3C - SVC RBF.\n",
        "> - Etapa 3D - Gaussina Naives Bayes.\n",
        "> - Etapa 3E - MLP Classifier.\n",
        "> - Etapa 3F - Random Forrest.\n",
        "> - Etapa 3G - GradientBosting.\n",
        "> - Etapa 3H - KNearestNeighbors.\n",
        "> - Etapa 3I - XGBoost.\n",
        "> - Etapa 3J - Histogram Based Gradient Boost.\n",
        "\n",
        "> **Etapa 4 -Análise dos resultados da Pré Modelagem e Seleção dos Modelos.**   \n",
        "> - Etapa 4A - Matriz de Confusão.\n",
        "> - Etapa 4B - Curva ROC.\n",
        "> - Etapa 4C - Métricas de Desempenho.\n",
        "\n",
        "> **Etapa 5 -Modelagem com os Algoritmos Selecionados e Análise de Resultados.**   \n",
        "> - Etapa 5A - Random Forrest.\n",
        "> - Etapa 5B - XGBoost.\n",
        "\n",
        "> **Etapa 6 -Análises Adicionais.**   \n",
        "> - Etapa 6A - Calibração de Probabilidades.\n",
        "> - Etapa 6B - Matriz de Custos.\n",
        "\n",
        "> **Conclusões.**\n"
      ],
      "id": "7qPNZDLsGhvz"
    },
    {
      "cell_type": "markdown",
      "id": "c0bd710d",
      "metadata": {
        "id": "c0bd710d"
      },
      "source": [
        "## Etapa 1 - Entendimento e Ingestão dos dados da base Kaggle\n",
        "\n",
        "O consjunto de dados [IEEE-CIS Fraud Detection](https://www.kaggle.com/competitions/ieee-fraud-detection) consiste em uma base de transações com cartões de crédito com 584.540 registro, cada um com 394 columnas. A atributo alvo é a coluna `isFraud` que conta com 20.663 registro com valor 1 (é Fraude)  e 563.877 com valor 0 (não é Fraude). Além disso outros atributos importantes para análise são:\n",
        "- `TransactionDT` - Data da Transação\n",
        "- `TransactionAmt` - Montante da Transação\n",
        "- `TransactionID` - ID da Transação\n",
        "\n",
        "Atributos Categóricos - Transações\n",
        "* ProductCD\n",
        "* card1 - card6\n",
        "* addr1, addr2\n",
        "* P_emaildomain\n",
        "* R_emaildomain\n",
        "* M1 - M9 \n",
        "\n",
        "Estrutura do Diretórios\n",
        "* +--Teste_1A : Armazena Notebooks e Módulos   \n",
        "    * +-- data   \n",
        "        * +-- input : dados raw extraídos do kaggle   \n",
        "        * +-- pre_processed : dados resultantes da etapa de pre processamento   \n",
        "    * +-- imagens   \n",
        "    * +-- models : arquivos de modelos salvos (deploy)    \n",
        "    * +-- metrics : arquivos de metricas   "
      ]
    },
    {
      "cell_type": "code",
      "execution_count": 1,
      "id": "412d614a",
      "metadata": {
        "id": "412d614a",
        "outputId": "9415e046-3ab0-4aa8-dc91-cf09802de2fb",
        "colab": {
          "base_uri": "https://localhost:8080/"
        }
      },
      "outputs": [
        {
          "output_type": "stream",
          "name": "stdout",
          "text": [
            "CPU times: user 272 ms, sys: 20.8 ms, total: 293 ms\n",
            "Wall time: 303 ms\n"
          ]
        }
      ],
      "source": [
        "%%time\n",
        "\n",
        "# importação das bibliotecas\n",
        "import os # manipulação de diretórios e arquivos\n",
        "import pandas as pd\n",
        "import warnings # manipulação de warnings no jupyter notebook\n",
        "import gc # limpar o lixo da memoria\n",
        "\n",
        "gc.collect() # recolhe o lixo\n",
        "warnings.filterwarnings('ignore')# ignora warnings"
      ]
    },
    {
      "cell_type": "code",
      "source": [
        "# Criando os diretórios\n",
        "dirs = ['/content/data','/content/imagens','/content/models','/content/metrics','/content/data/input','/content/data/pre_processed']\n",
        "for dir in dirs:\n",
        "  if not os.path.isdir(dir):\n",
        "    os.mkdir(dir)\n",
        "# Se estiver no Colab, apór executar este passo não esqueça de atualizar a barra aletra de arquivos"
      ],
      "metadata": {
        "id": "_w1wNkbvif1_"
      },
      "id": "_w1wNkbvif1_",
      "execution_count": 2,
      "outputs": []
    },
    {
      "cell_type": "code",
      "execution_count": 3,
      "id": "52dbe55a",
      "metadata": {
        "id": "52dbe55a",
        "outputId": "b5445170-58b0-4f61-d605-664f0ef6a968",
        "colab": {
          "base_uri": "https://localhost:8080/"
        }
      },
      "outputs": [
        {
          "output_type": "stream",
          "name": "stdout",
          "text": [
            "CPU times: user 12.6 ms, sys: 4.37 ms, total: 17 ms\n",
            "Wall time: 205 ms\n"
          ]
        }
      ],
      "source": [
        "%%time\n",
        "\n",
        "# A planilha names mapea a colunas os nomes das colunas a serem utilizadas\n",
        "\n",
        "url = 'https://raw.githubusercontent.com/DeepFluxion/F1rst/main/data/pre_processed/names.csv'\n",
        "dn = pd.read_csv(url,sep=';')\n",
        "col_number = dn.loc[dn['use']==1,'col_number'].values.tolist() # mapea a posição das colunas a serem usadas\n",
        "col_names = dn.loc[dn['use']==1,'col_name'].values.tolist() # mapea o nome das colunas a serem usadas"
      ]
    },
    {
      "cell_type": "code",
      "execution_count": 4,
      "id": "bffb79d2",
      "metadata": {
        "id": "bffb79d2",
        "outputId": "9c29f161-0ff2-4cde-d23f-390cffb6bedd",
        "colab": {
          "base_uri": "https://localhost:8080/"
        }
      },
      "outputs": [
        {
          "output_type": "stream",
          "name": "stdout",
          "text": [
            "CPU times: user 16.5 s, sys: 1.31 s, total: 17.8 s\n",
            "Wall time: 40.9 s\n"
          ]
        }
      ],
      "source": [
        "%%time\n",
        "\n",
        "# para diminuir o uso de memóri trabalhou-se a ingestão dos dados em partes de 2o000 linhas, \n",
        "# reduzindo tempo de processamento e permitindo usar o Github\n",
        "# Os dataframes foram persistidos na lista ddf\n",
        "ddf=[]\n",
        "rows =0\n",
        "url = 'https://raw.githubusercontent.com/DeepFluxion/F1rst/main/data/pre_processed/transactions_part_'\n",
        "\n",
        "for u in range(30):\n",
        "    \n",
        "    df = pd.read_csv(url+str(u)+'.csv', index_col=0)\n",
        "    ddf.append(df)"
      ]
    },
    {
      "cell_type": "code",
      "execution_count": 5,
      "id": "9c46c945",
      "metadata": {
        "id": "9c46c945",
        "outputId": "93bbeac1-fc37-44e5-f6db-41f8d90c0583",
        "colab": {
          "base_uri": "https://localhost:8080/"
        }
      },
      "outputs": [
        {
          "output_type": "stream",
          "name": "stdout",
          "text": [
            "CPU times: user 1.14 s, sys: 53.9 ms, total: 1.2 s\n",
            "Wall time: 1.19 s\n"
          ]
        }
      ],
      "source": [
        "%%time\n",
        "\n",
        "ddf[0]=ddf[0].drop(labels=0, axis=0) # elimina a primeira linha do primeiro df, que repete o cabeçalho\n",
        "# definindo o dtype das colunas\n",
        "for df in ddf:\n",
        "    df.loc[:,'isFraud'].astype('int')\n",
        "    df.loc[:,'TransactionID'].astype('int')\n",
        "    df.loc[:,'TransactionDT'].astype('int')\n",
        "    df.iloc[:,3:].astype('float')"
      ]
    },
    {
      "cell_type": "code",
      "execution_count": 6,
      "id": "5906b86b",
      "metadata": {
        "id": "5906b86b",
        "outputId": "03177bc5-3cf3-4c6f-84c2-d1a1080c6a65",
        "colab": {
          "base_uri": "https://localhost:8080/"
        }
      },
      "outputs": [
        {
          "output_type": "stream",
          "name": "stdout",
          "text": [
            "0.02590129506475324\n",
            "0.02835\n",
            "0.02565\n",
            "0.02415\n",
            "0.0218\n",
            "0.01545\n",
            "0.0372\n",
            "0.0376\n",
            "0.03875\n",
            "0.04415\n",
            "0.03965\n",
            "0.04755\n",
            "0.0403\n",
            "0.04035\n",
            "0.0359\n",
            "0.03925\n",
            "0.03015\n",
            "0.03365\n",
            "0.041\n",
            "0.04615\n",
            "0.0441\n",
            "0.031\n",
            "0.04\n",
            "0.03535\n",
            "0.03045\n",
            "0.03005\n",
            "0.0318\n",
            "0.03565\n",
            "0.03915\n",
            "0.03880087278246846\n",
            "CPU times: user 23.5 ms, sys: 2.22 ms, total: 25.7 ms\n",
            "Wall time: 22.1 ms\n"
          ]
        }
      ],
      "source": [
        "%%time\n",
        "# Vamos checar a % de positivos para Fraudes em cada df\n",
        "for df in ddf:\n",
        "    print((df.loc[:,'isFraud']==1).sum()/df.shape[0])"
      ]
    },
    {
      "cell_type": "code",
      "execution_count": 7,
      "id": "fae13239",
      "metadata": {
        "id": "fae13239",
        "outputId": "9eb1e94b-ad10-4c5b-f01f-41419ea0a13f",
        "colab": {
          "base_uri": "https://localhost:8080/"
        }
      },
      "outputs": [
        {
          "output_type": "stream",
          "name": "stdout",
          "text": [
            "CPU times: user 2.65 s, sys: 3.13 s, total: 5.78 s\n",
            "Wall time: 5.72 s\n"
          ]
        }
      ],
      "source": [
        "%%time\n",
        "# concatenar os dataframes para reduzir a ocupação da memória\n",
        "df = pd.concat(ddf,axis=0,ignore_index=True)\n",
        "df.head()\n",
        "# Deletar ddf e eliminar os dado para liberar RAM\n",
        "del ddf\n",
        "gc.collect()"
      ]
    },
    {
      "cell_type": "code",
      "source": [
        "df.shape"
      ],
      "metadata": {
        "colab": {
          "base_uri": "https://localhost:8080/"
        },
        "id": "YubWq618k5ue",
        "outputId": "a0a3bd59-7608-4453-fe93-fe6f9b210609"
      },
      "id": "YubWq618k5ue",
      "execution_count": 8,
      "outputs": [
        {
          "output_type": "execute_result",
          "data": {
            "text/plain": [
              "(590540, 372)"
            ]
          },
          "metadata": {},
          "execution_count": 8
        }
      ]
    },
    {
      "cell_type": "markdown",
      "metadata": {
        "id": "GOqkWLAmGhwA"
      },
      "source": [
        "### Resumo Etapa 1 - Entendimento e Ingestão dos dados da base Kaggle\n",
        "\n",
        "- Por limitação da memória e maio velocidade, e também pela limitação tamanho dos arquivos no Github a 25 MB, os dados foram carregados em partes e na sequência reagregados\n",
        "- Foram eliminadas as varáiveis categóricas\n",
        "    * ProductCD\n",
        "    * card1 - card6\n",
        "    * addr1, addr2\n",
        "    * P_emaildomain\n",
        "    * R_emaildomain\n",
        "    * M1 - M9 "
      ],
      "id": "GOqkWLAmGhwA"
    },
    {
      "cell_type": "markdown",
      "metadata": {
        "id": "zV2T5D3mGhwB"
      },
      "source": [
        "## Etapa 2 -Pré processamento dos Dados.\n",
        "\n",
        "Esta etapa consiste das seguintes sub etapas:   \n",
        "- **- Etapa 2A - Eliminação dos Missing Values**   \n",
        "    - Nesta subetapa sao quantificadas os tais de missing values de cada coluna, que são elimnadas a partir de um limiar de percentual (> 25%) a seguir as linhas com missing values são eliminadas   \n",
        "- **- Etapa 2B - Padronização**   \n",
        "    - nesta subetapa os dados são padronizados utilizando a classe `StandardScaler()` do `Scikit Learn`.     \n",
        "- **- Etapa 2C - Redução de Dimensões (PCA e UMAP)**     \n",
        "    - Nesta subetapa  a classe `PCA()` do `Scikit` e o pacote `UMAP` são usados para reduzir a dimiensionalidade do conjunto de dados afim de otimizar o tempo e uso de memória para fazer a pré-seleção dos modelos e também gerar uma segunda base com os atributos selecionados pela razão de variância explicada obtida pelo método `explained_variance_ratio_` da classe `PCA`. A quantidade de atributos que garantem mai de 90% de poder de explicação é usada na operação com UMAP.     \n",
        "- **- Resumo Etapa 2**\n"
      ],
      "id": "zV2T5D3mGhwB"
    },
    {
      "cell_type": "markdown",
      "metadata": {
        "id": "kMoLVNiKGhwC"
      },
      "source": [
        "### Etapa 2A - Eliminação dos Missing Values"
      ],
      "id": "kMoLVNiKGhwC"
    },
    {
      "cell_type": "code",
      "execution_count": 9,
      "id": "1760ddd2",
      "metadata": {
        "id": "1760ddd2",
        "outputId": "21076b04-2fc4-4b03-9dd8-30d8725cef91",
        "colab": {
          "base_uri": "https://localhost:8080/"
        }
      },
      "outputs": [
        {
          "output_type": "stream",
          "name": "stdout",
          "text": [
            "CPU times: user 6.88 s, sys: 160 ms, total: 7.04 s\n",
            "Wall time: 6.95 s\n"
          ]
        }
      ],
      "source": [
        "%%time\n",
        "# Quantificando os missing values em cada coluna\n",
        "na_columns = df.isna().sum()/df.shape[0]"
      ]
    },
    {
      "cell_type": "code",
      "execution_count": 10,
      "metadata": {
        "id": "XqxYvcYcGhwE",
        "outputId": "76947b25-87c8-4d35-d91a-c2814c64e5fc",
        "colab": {
          "base_uri": "https://localhost:8080/"
        }
      },
      "outputs": [
        {
          "output_type": "stream",
          "name": "stdout",
          "text": [
            "CPU times: user 3.39 ms, sys: 65 µs, total: 3.46 ms\n",
            "Wall time: 3.57 ms\n"
          ]
        },
        {
          "output_type": "execute_result",
          "data": {
            "text/plain": [
              "count    372.000000\n",
              "mean       0.415653\n",
              "std        0.362087\n",
              "min        0.000000\n",
              "25%        0.001745\n",
              "50%        0.286126\n",
              "75%        0.779134\n",
              "max        0.934099\n",
              "dtype: float64"
            ]
          },
          "metadata": {},
          "execution_count": 10
        }
      ],
      "source": [
        "%%time\n",
        "# Sumarizando os missing values em cada coluna\n",
        "na_columns.describe()"
      ],
      "id": "XqxYvcYcGhwE"
    },
    {
      "cell_type": "code",
      "execution_count": 11,
      "metadata": {
        "id": "WKQImxTYGhwE",
        "outputId": "7b0ee665-cd36-413a-a903-80650e673c8f",
        "colab": {
          "base_uri": "https://localhost:8080/"
        }
      },
      "outputs": [
        {
          "output_type": "stream",
          "name": "stdout",
          "text": [
            "CPU times: user 5.89 s, sys: 1.57 s, total: 7.47 s\n",
            "Wall time: 7.39 s\n"
          ]
        }
      ],
      "source": [
        "%%time\n",
        "# Eliminando as colunas com mais de 25% de missing values\n",
        "df.drop(na_columns[na_columns>0.25].index.tolist(),axis=1, inplace=True)"
      ],
      "id": "WKQImxTYGhwE"
    },
    {
      "cell_type": "code",
      "execution_count": 12,
      "metadata": {
        "id": "EKvaYaIaGhwF",
        "outputId": "9c18a159-4709-4754-976d-533d95bc2e7f",
        "colab": {
          "base_uri": "https://localhost:8080/"
        }
      },
      "outputs": [
        {
          "output_type": "stream",
          "name": "stdout",
          "text": [
            "CPU times: user 3.84 s, sys: 51 ms, total: 3.89 s\n",
            "Wall time: 3.85 s\n"
          ]
        }
      ],
      "source": [
        "%%time\n",
        "# Eliminado as linhas com missing values\n",
        "df.dropna(inplace=True)"
      ],
      "id": "EKvaYaIaGhwF"
    },
    {
      "cell_type": "code",
      "execution_count": 13,
      "metadata": {
        "id": "iwb4hHBdGhwG",
        "outputId": "2ca972b4-871f-46bf-bb67-174b49e5a376",
        "colab": {
          "base_uri": "https://localhost:8080/"
        }
      },
      "outputs": [
        {
          "output_type": "stream",
          "name": "stdout",
          "text": [
            "(490634, 172)\n",
            "0\n",
            "CPU times: user 3.17 s, sys: 19.8 ms, total: 3.19 s\n",
            "Wall time: 3.13 s\n"
          ]
        }
      ],
      "source": [
        "%%time\n",
        "# verificando o tamanho do dataframe resultante\n",
        "print(df.shape)\n",
        "print((df.isna().sum()).sum())"
      ],
      "id": "iwb4hHBdGhwG"
    },
    {
      "cell_type": "code",
      "execution_count": 14,
      "metadata": {
        "id": "rymXHd9-GhwH",
        "outputId": "6b88d4d0-2579-4d85-e02c-19640df4cbc5",
        "colab": {
          "base_uri": "https://localhost:8080/"
        }
      },
      "outputs": [
        {
          "output_type": "stream",
          "name": "stdout",
          "text": [
            "CPU times: user 21.6 s, sys: 476 ms, total: 22 s\n",
            "Wall time: 22 s\n"
          ]
        }
      ],
      "source": [
        "%%time\n",
        "# exportando o resultado final para um arquivo csv\n",
        "df.to_csv('/content/data/pre_processed/transactions_red.csv')\n",
        "# deletando df e limpando a RAM\n",
        "del df\n",
        "gc.collect()"
      ],
      "id": "rymXHd9-GhwH"
    },
    {
      "cell_type": "markdown",
      "metadata": {
        "id": "2RSkoEkyGhwI"
      },
      "source": [
        "#### Resumo Etapa 2A - Entendimento e Ingestão dos dados da base Kaggle\n",
        "\n",
        "- Com a eliminação dos missing values será analisada uma base de 490634 registros com 172 atributos cada (~ 83% do total de registros), o que se considera-se aceitável\n",
        "- Do ponto de vista do modelo esta operação de redução pode resultar em diminuição da informação resultando numa precisão menor\n",
        "- O recomendável seria uma avaliação do significado de cada atributo eliminado junto a um especialista, o que não está disponível\n",
        "- Do ponto de vista operacional, caso não houvesse restrição de memória, o procedimento seria mantido resultando em mais registros para análise resultando num modelo mais completo"
      ],
      "id": "2RSkoEkyGhwI"
    },
    {
      "cell_type": "markdown",
      "metadata": {
        "id": "5Ouuq7zEGhwJ"
      },
      "source": [
        "### Etapa 2B - Padronização"
      ],
      "id": "5Ouuq7zEGhwJ"
    },
    {
      "cell_type": "code",
      "execution_count": 15,
      "metadata": {
        "id": "K43L9m1-GhwJ",
        "outputId": "0850a2ca-6c2e-4c01-903a-ec86525a20bc",
        "colab": {
          "base_uri": "https://localhost:8080/"
        }
      },
      "outputs": [
        {
          "output_type": "stream",
          "name": "stdout",
          "text": [
            "Collecting umap-learn\n",
            "  Downloading umap-learn-0.5.2.tar.gz (86 kB)\n",
            "\u001b[K     |████████████████████████████████| 86 kB 3.8 MB/s \n",
            "\u001b[?25hRequirement already satisfied: numpy>=1.17 in /usr/local/lib/python3.7/dist-packages (from umap-learn) (1.21.5)\n",
            "Requirement already satisfied: scikit-learn>=0.22 in /usr/local/lib/python3.7/dist-packages (from umap-learn) (1.0.2)\n",
            "Requirement already satisfied: scipy>=1.0 in /usr/local/lib/python3.7/dist-packages (from umap-learn) (1.4.1)\n",
            "Requirement already satisfied: numba>=0.49 in /usr/local/lib/python3.7/dist-packages (from umap-learn) (0.51.2)\n",
            "Collecting pynndescent>=0.5\n",
            "  Downloading pynndescent-0.5.6.tar.gz (1.1 MB)\n",
            "\u001b[K     |████████████████████████████████| 1.1 MB 15.4 MB/s \n",
            "\u001b[?25hRequirement already satisfied: tqdm in /usr/local/lib/python3.7/dist-packages (from umap-learn) (4.63.0)\n",
            "Requirement already satisfied: llvmlite<0.35,>=0.34.0.dev0 in /usr/local/lib/python3.7/dist-packages (from numba>=0.49->umap-learn) (0.34.0)\n",
            "Requirement already satisfied: setuptools in /usr/local/lib/python3.7/dist-packages (from numba>=0.49->umap-learn) (57.4.0)\n",
            "Requirement already satisfied: joblib>=0.11 in /usr/local/lib/python3.7/dist-packages (from pynndescent>=0.5->umap-learn) (1.1.0)\n",
            "Requirement already satisfied: threadpoolctl>=2.0.0 in /usr/local/lib/python3.7/dist-packages (from scikit-learn>=0.22->umap-learn) (3.1.0)\n",
            "Building wheels for collected packages: umap-learn, pynndescent\n",
            "  Building wheel for umap-learn (setup.py) ... \u001b[?25l\u001b[?25hdone\n",
            "  Created wheel for umap-learn: filename=umap_learn-0.5.2-py3-none-any.whl size=82708 sha256=0803f6b6b48ce784d514d1b34627045486986ad2cbc7fc912a101d889601018a\n",
            "  Stored in directory: /root/.cache/pip/wheels/84/1b/c6/aaf68a748122632967cef4dffef68224eb16798b6793257d82\n",
            "  Building wheel for pynndescent (setup.py) ... \u001b[?25l\u001b[?25hdone\n",
            "  Created wheel for pynndescent: filename=pynndescent-0.5.6-py3-none-any.whl size=53943 sha256=070e6ae924ba032989d37ffafa9f90bd5b406194309c031c95a4ab86606c2fb0\n",
            "  Stored in directory: /root/.cache/pip/wheels/03/f1/56/f80d72741e400345b5a5b50ec3d929aca581bf45e0225d5c50\n",
            "Successfully built umap-learn pynndescent\n",
            "Installing collected packages: pynndescent, umap-learn\n",
            "Successfully installed pynndescent-0.5.6 umap-learn-0.5.2\n"
          ]
        }
      ],
      "source": [
        "# caso o UMAP não esteja instalado execute a linha a seguir deletando o #\n",
        "\n",
        "! pip install umap-learn"
      ],
      "id": "K43L9m1-GhwJ"
    },
    {
      "cell_type": "code",
      "execution_count": 16,
      "metadata": {
        "id": "4FTlF_mYGhwJ",
        "outputId": "0fd30d44-2614-44fb-8999-f4414ee25bbe",
        "colab": {
          "base_uri": "https://localhost:8080/"
        }
      },
      "outputs": [
        {
          "output_type": "stream",
          "name": "stdout",
          "text": [
            "CPU times: user 15.1 s, sys: 781 ms, total: 15.8 s\n",
            "Wall time: 16.8 s\n"
          ]
        }
      ],
      "source": [
        "%%time\n",
        "# importando as biblitecas\n",
        "import matplotlib.pyplot as plt\n",
        "import numpy as np\n",
        "import pandas as pd \n",
        "import seaborn as sns\n",
        "import os\n",
        "from sklearn.decomposition import PCA\n",
        "from sklearn.preprocessing import StandardScaler\n",
        "import umap"
      ],
      "id": "4FTlF_mYGhwJ"
    },
    {
      "cell_type": "code",
      "execution_count": 17,
      "metadata": {
        "id": "qH9u7NfTGhwK",
        "outputId": "622f905a-0122-40eb-b0ac-8829e86b5f06",
        "colab": {
          "base_uri": "https://localhost:8080/"
        }
      },
      "outputs": [
        {
          "output_type": "stream",
          "name": "stdout",
          "text": [
            "CPU times: user 8.9 s, sys: 11.2 s, total: 20.1 s\n",
            "Wall time: 20.2 s\n"
          ]
        }
      ],
      "source": [
        " %%time\n",
        " ## vamos carregar o dataset transactios_red e selecionar aleatoriamente 50000 registros\n",
        " df = pd.read_csv('/content/data/pre_processed/transactions_red.csv',index_col=0)\n",
        " df =df.sample(n=50000, replace=False, ignore_index=True)\n",
        " # df = df.reset_index(drop=True)"
      ],
      "id": "qH9u7NfTGhwK"
    },
    {
      "cell_type": "code",
      "execution_count": 18,
      "metadata": {
        "id": "1RmctDlGGhwK",
        "outputId": "218bd6cf-9d58-4bdd-fc45-f12e221cb87f",
        "colab": {
          "base_uri": "https://localhost:8080/",
          "height": 299
        }
      },
      "outputs": [
        {
          "output_type": "execute_result",
          "data": {
            "text/plain": [
              "   TransactionID  isFraud  TransactionDT  TransactionAmt   C1   C2   C3   C4  \\\n",
              "0        3410821        0       10718962          209.95  1.0  1.0  0.0  0.0   \n",
              "1        3384816        0       10019073           82.95  2.0  1.0  0.0  0.0   \n",
              "2        3516320        0       13919473          554.00  1.0  1.0  0.0  0.0   \n",
              "3        3556673        0       15110960          834.95  1.0  1.0  0.0  0.0   \n",
              "4        3432094        0       11316559           39.00  2.0  1.0  0.0  0.0   \n",
              "\n",
              "    C5   C6  ...        V312       V313        V314        V315  V316  V317  \\\n",
              "0  1.0  1.0  ...  107.949997  30.950001  191.850006  191.850006   0.0   0.0   \n",
              "1  1.0  1.0  ...    0.000000   0.000000    0.000000    0.000000   0.0   0.0   \n",
              "2  0.0  1.0  ...    0.000000   0.000000    0.000000    0.000000   0.0   0.0   \n",
              "3  1.0  0.0  ...    0.000000   0.000000    0.000000    0.000000   0.0   0.0   \n",
              "4  0.0  0.0  ...   39.000000   0.000000    0.000000    0.000000   0.0   0.0   \n",
              "\n",
              "   V318   V319   V320   V321  \n",
              "0   0.0    0.0    0.0    0.0  \n",
              "1   0.0    0.0    0.0    0.0  \n",
              "2   0.0  527.0  527.0  527.0  \n",
              "3   0.0    0.0    0.0    0.0  \n",
              "4   0.0    0.0    0.0    0.0  \n",
              "\n",
              "[5 rows x 172 columns]"
            ],
            "text/html": [
              "\n",
              "  <div id=\"df-59198f23-34b7-4a59-8408-716b77498e49\">\n",
              "    <div class=\"colab-df-container\">\n",
              "      <div>\n",
              "<style scoped>\n",
              "    .dataframe tbody tr th:only-of-type {\n",
              "        vertical-align: middle;\n",
              "    }\n",
              "\n",
              "    .dataframe tbody tr th {\n",
              "        vertical-align: top;\n",
              "    }\n",
              "\n",
              "    .dataframe thead th {\n",
              "        text-align: right;\n",
              "    }\n",
              "</style>\n",
              "<table border=\"1\" class=\"dataframe\">\n",
              "  <thead>\n",
              "    <tr style=\"text-align: right;\">\n",
              "      <th></th>\n",
              "      <th>TransactionID</th>\n",
              "      <th>isFraud</th>\n",
              "      <th>TransactionDT</th>\n",
              "      <th>TransactionAmt</th>\n",
              "      <th>C1</th>\n",
              "      <th>C2</th>\n",
              "      <th>C3</th>\n",
              "      <th>C4</th>\n",
              "      <th>C5</th>\n",
              "      <th>C6</th>\n",
              "      <th>...</th>\n",
              "      <th>V312</th>\n",
              "      <th>V313</th>\n",
              "      <th>V314</th>\n",
              "      <th>V315</th>\n",
              "      <th>V316</th>\n",
              "      <th>V317</th>\n",
              "      <th>V318</th>\n",
              "      <th>V319</th>\n",
              "      <th>V320</th>\n",
              "      <th>V321</th>\n",
              "    </tr>\n",
              "  </thead>\n",
              "  <tbody>\n",
              "    <tr>\n",
              "      <th>0</th>\n",
              "      <td>3410821</td>\n",
              "      <td>0</td>\n",
              "      <td>10718962</td>\n",
              "      <td>209.95</td>\n",
              "      <td>1.0</td>\n",
              "      <td>1.0</td>\n",
              "      <td>0.0</td>\n",
              "      <td>0.0</td>\n",
              "      <td>1.0</td>\n",
              "      <td>1.0</td>\n",
              "      <td>...</td>\n",
              "      <td>107.949997</td>\n",
              "      <td>30.950001</td>\n",
              "      <td>191.850006</td>\n",
              "      <td>191.850006</td>\n",
              "      <td>0.0</td>\n",
              "      <td>0.0</td>\n",
              "      <td>0.0</td>\n",
              "      <td>0.0</td>\n",
              "      <td>0.0</td>\n",
              "      <td>0.0</td>\n",
              "    </tr>\n",
              "    <tr>\n",
              "      <th>1</th>\n",
              "      <td>3384816</td>\n",
              "      <td>0</td>\n",
              "      <td>10019073</td>\n",
              "      <td>82.95</td>\n",
              "      <td>2.0</td>\n",
              "      <td>1.0</td>\n",
              "      <td>0.0</td>\n",
              "      <td>0.0</td>\n",
              "      <td>1.0</td>\n",
              "      <td>1.0</td>\n",
              "      <td>...</td>\n",
              "      <td>0.000000</td>\n",
              "      <td>0.000000</td>\n",
              "      <td>0.000000</td>\n",
              "      <td>0.000000</td>\n",
              "      <td>0.0</td>\n",
              "      <td>0.0</td>\n",
              "      <td>0.0</td>\n",
              "      <td>0.0</td>\n",
              "      <td>0.0</td>\n",
              "      <td>0.0</td>\n",
              "    </tr>\n",
              "    <tr>\n",
              "      <th>2</th>\n",
              "      <td>3516320</td>\n",
              "      <td>0</td>\n",
              "      <td>13919473</td>\n",
              "      <td>554.00</td>\n",
              "      <td>1.0</td>\n",
              "      <td>1.0</td>\n",
              "      <td>0.0</td>\n",
              "      <td>0.0</td>\n",
              "      <td>0.0</td>\n",
              "      <td>1.0</td>\n",
              "      <td>...</td>\n",
              "      <td>0.000000</td>\n",
              "      <td>0.000000</td>\n",
              "      <td>0.000000</td>\n",
              "      <td>0.000000</td>\n",
              "      <td>0.0</td>\n",
              "      <td>0.0</td>\n",
              "      <td>0.0</td>\n",
              "      <td>527.0</td>\n",
              "      <td>527.0</td>\n",
              "      <td>527.0</td>\n",
              "    </tr>\n",
              "    <tr>\n",
              "      <th>3</th>\n",
              "      <td>3556673</td>\n",
              "      <td>0</td>\n",
              "      <td>15110960</td>\n",
              "      <td>834.95</td>\n",
              "      <td>1.0</td>\n",
              "      <td>1.0</td>\n",
              "      <td>0.0</td>\n",
              "      <td>0.0</td>\n",
              "      <td>1.0</td>\n",
              "      <td>0.0</td>\n",
              "      <td>...</td>\n",
              "      <td>0.000000</td>\n",
              "      <td>0.000000</td>\n",
              "      <td>0.000000</td>\n",
              "      <td>0.000000</td>\n",
              "      <td>0.0</td>\n",
              "      <td>0.0</td>\n",
              "      <td>0.0</td>\n",
              "      <td>0.0</td>\n",
              "      <td>0.0</td>\n",
              "      <td>0.0</td>\n",
              "    </tr>\n",
              "    <tr>\n",
              "      <th>4</th>\n",
              "      <td>3432094</td>\n",
              "      <td>0</td>\n",
              "      <td>11316559</td>\n",
              "      <td>39.00</td>\n",
              "      <td>2.0</td>\n",
              "      <td>1.0</td>\n",
              "      <td>0.0</td>\n",
              "      <td>0.0</td>\n",
              "      <td>0.0</td>\n",
              "      <td>0.0</td>\n",
              "      <td>...</td>\n",
              "      <td>39.000000</td>\n",
              "      <td>0.000000</td>\n",
              "      <td>0.000000</td>\n",
              "      <td>0.000000</td>\n",
              "      <td>0.0</td>\n",
              "      <td>0.0</td>\n",
              "      <td>0.0</td>\n",
              "      <td>0.0</td>\n",
              "      <td>0.0</td>\n",
              "      <td>0.0</td>\n",
              "    </tr>\n",
              "  </tbody>\n",
              "</table>\n",
              "<p>5 rows × 172 columns</p>\n",
              "</div>\n",
              "      <button class=\"colab-df-convert\" onclick=\"convertToInteractive('df-59198f23-34b7-4a59-8408-716b77498e49')\"\n",
              "              title=\"Convert this dataframe to an interactive table.\"\n",
              "              style=\"display:none;\">\n",
              "        \n",
              "  <svg xmlns=\"http://www.w3.org/2000/svg\" height=\"24px\"viewBox=\"0 0 24 24\"\n",
              "       width=\"24px\">\n",
              "    <path d=\"M0 0h24v24H0V0z\" fill=\"none\"/>\n",
              "    <path d=\"M18.56 5.44l.94 2.06.94-2.06 2.06-.94-2.06-.94-.94-2.06-.94 2.06-2.06.94zm-11 1L8.5 8.5l.94-2.06 2.06-.94-2.06-.94L8.5 2.5l-.94 2.06-2.06.94zm10 10l.94 2.06.94-2.06 2.06-.94-2.06-.94-.94-2.06-.94 2.06-2.06.94z\"/><path d=\"M17.41 7.96l-1.37-1.37c-.4-.4-.92-.59-1.43-.59-.52 0-1.04.2-1.43.59L10.3 9.45l-7.72 7.72c-.78.78-.78 2.05 0 2.83L4 21.41c.39.39.9.59 1.41.59.51 0 1.02-.2 1.41-.59l7.78-7.78 2.81-2.81c.8-.78.8-2.07 0-2.86zM5.41 20L4 18.59l7.72-7.72 1.47 1.35L5.41 20z\"/>\n",
              "  </svg>\n",
              "      </button>\n",
              "      \n",
              "  <style>\n",
              "    .colab-df-container {\n",
              "      display:flex;\n",
              "      flex-wrap:wrap;\n",
              "      gap: 12px;\n",
              "    }\n",
              "\n",
              "    .colab-df-convert {\n",
              "      background-color: #E8F0FE;\n",
              "      border: none;\n",
              "      border-radius: 50%;\n",
              "      cursor: pointer;\n",
              "      display: none;\n",
              "      fill: #1967D2;\n",
              "      height: 32px;\n",
              "      padding: 0 0 0 0;\n",
              "      width: 32px;\n",
              "    }\n",
              "\n",
              "    .colab-df-convert:hover {\n",
              "      background-color: #E2EBFA;\n",
              "      box-shadow: 0px 1px 2px rgba(60, 64, 67, 0.3), 0px 1px 3px 1px rgba(60, 64, 67, 0.15);\n",
              "      fill: #174EA6;\n",
              "    }\n",
              "\n",
              "    [theme=dark] .colab-df-convert {\n",
              "      background-color: #3B4455;\n",
              "      fill: #D2E3FC;\n",
              "    }\n",
              "\n",
              "    [theme=dark] .colab-df-convert:hover {\n",
              "      background-color: #434B5C;\n",
              "      box-shadow: 0px 1px 3px 1px rgba(0, 0, 0, 0.15);\n",
              "      filter: drop-shadow(0px 1px 2px rgba(0, 0, 0, 0.3));\n",
              "      fill: #FFFFFF;\n",
              "    }\n",
              "  </style>\n",
              "\n",
              "      <script>\n",
              "        const buttonEl =\n",
              "          document.querySelector('#df-59198f23-34b7-4a59-8408-716b77498e49 button.colab-df-convert');\n",
              "        buttonEl.style.display =\n",
              "          google.colab.kernel.accessAllowed ? 'block' : 'none';\n",
              "\n",
              "        async function convertToInteractive(key) {\n",
              "          const element = document.querySelector('#df-59198f23-34b7-4a59-8408-716b77498e49');\n",
              "          const dataTable =\n",
              "            await google.colab.kernel.invokeFunction('convertToInteractive',\n",
              "                                                     [key], {});\n",
              "          if (!dataTable) return;\n",
              "\n",
              "          const docLinkHtml = 'Like what you see? Visit the ' +\n",
              "            '<a target=\"_blank\" href=https://colab.research.google.com/notebooks/data_table.ipynb>data table notebook</a>'\n",
              "            + ' to learn more about interactive tables.';\n",
              "          element.innerHTML = '';\n",
              "          dataTable['output_type'] = 'display_data';\n",
              "          await google.colab.output.renderOutput(dataTable, element);\n",
              "          const docLink = document.createElement('div');\n",
              "          docLink.innerHTML = docLinkHtml;\n",
              "          element.appendChild(docLink);\n",
              "        }\n",
              "      </script>\n",
              "    </div>\n",
              "  </div>\n",
              "  "
            ]
          },
          "metadata": {},
          "execution_count": 18
        }
      ],
      "source": [
        "df.head()"
      ],
      "id": "1RmctDlGGhwK"
    },
    {
      "cell_type": "code",
      "source": [
        "# Verificando o tamanho de df\n",
        "df.shape"
      ],
      "metadata": {
        "id": "mj-e-sw7wDik",
        "outputId": "e881fdb9-3673-483f-92fd-165aac97ae46",
        "colab": {
          "base_uri": "https://localhost:8080/"
        }
      },
      "id": "mj-e-sw7wDik",
      "execution_count": 19,
      "outputs": [
        {
          "output_type": "execute_result",
          "data": {
            "text/plain": [
              "(50000, 172)"
            ]
          },
          "metadata": {},
          "execution_count": 19
        }
      ]
    },
    {
      "cell_type": "code",
      "execution_count": 20,
      "metadata": {
        "id": "KuHqfeACGhwL",
        "outputId": "fff02ff2-1e5b-4498-f4bf-1736404a39f2",
        "colab": {
          "base_uri": "https://localhost:8080/"
        }
      },
      "outputs": [
        {
          "output_type": "execute_result",
          "data": {
            "text/plain": [
              "0.03102"
            ]
          },
          "metadata": {},
          "execution_count": 20
        }
      ],
      "source": [
        "# verificando o % de casos com isFraud==1\n",
        "(df['isFraud']==1).sum()/df.shape[0]"
      ],
      "id": "KuHqfeACGhwL"
    },
    {
      "cell_type": "markdown",
      "metadata": {
        "id": "rQNutBabGhwL"
      },
      "source": [
        "> Como o valor é aproximandamente igual ao percentual geral, não é necessário nos preocuparmos com eventuais viéses causados pela redução de registos"
      ],
      "id": "rQNutBabGhwL"
    },
    {
      "cell_type": "code",
      "execution_count": 21,
      "metadata": {
        "id": "n_nO534RGhwL"
      },
      "outputs": [],
      "source": [
        "# Vamos criar separar os atributos que não precisão ser normalizados e os atributos númericos que serão norammalizados\n",
        "# o atrbuto TransactionAmt fará parte dos dois consjutos\n",
        "# X1 é um dataframe pandas\n",
        "# X2 é uma array do Numpy\n",
        "X1 = df.iloc[:,1:4].reset_index(drop=True)\n",
        "X2 = StandardScaler().fit_transform(df.iloc[:,3:])"
      ],
      "id": "n_nO534RGhwL"
    },
    {
      "cell_type": "code",
      "execution_count": 22,
      "metadata": {
        "id": "M0z0uiM7GhwM",
        "outputId": "0fce3156-4898-4fd7-88ad-6396220c21f3",
        "colab": {
          "base_uri": "https://localhost:8080/",
          "height": 206
        }
      },
      "outputs": [
        {
          "output_type": "execute_result",
          "data": {
            "text/plain": [
              "   isFraud  TransactionDT  TransactionAmt\n",
              "0        0       10718962          209.95\n",
              "1        0       10019073           82.95\n",
              "2        0       13919473          554.00\n",
              "3        0       15110960          834.95\n",
              "4        0       11316559           39.00"
            ],
            "text/html": [
              "\n",
              "  <div id=\"df-64684845-c3a7-44be-95ff-85a4e72cc0b8\">\n",
              "    <div class=\"colab-df-container\">\n",
              "      <div>\n",
              "<style scoped>\n",
              "    .dataframe tbody tr th:only-of-type {\n",
              "        vertical-align: middle;\n",
              "    }\n",
              "\n",
              "    .dataframe tbody tr th {\n",
              "        vertical-align: top;\n",
              "    }\n",
              "\n",
              "    .dataframe thead th {\n",
              "        text-align: right;\n",
              "    }\n",
              "</style>\n",
              "<table border=\"1\" class=\"dataframe\">\n",
              "  <thead>\n",
              "    <tr style=\"text-align: right;\">\n",
              "      <th></th>\n",
              "      <th>isFraud</th>\n",
              "      <th>TransactionDT</th>\n",
              "      <th>TransactionAmt</th>\n",
              "    </tr>\n",
              "  </thead>\n",
              "  <tbody>\n",
              "    <tr>\n",
              "      <th>0</th>\n",
              "      <td>0</td>\n",
              "      <td>10718962</td>\n",
              "      <td>209.95</td>\n",
              "    </tr>\n",
              "    <tr>\n",
              "      <th>1</th>\n",
              "      <td>0</td>\n",
              "      <td>10019073</td>\n",
              "      <td>82.95</td>\n",
              "    </tr>\n",
              "    <tr>\n",
              "      <th>2</th>\n",
              "      <td>0</td>\n",
              "      <td>13919473</td>\n",
              "      <td>554.00</td>\n",
              "    </tr>\n",
              "    <tr>\n",
              "      <th>3</th>\n",
              "      <td>0</td>\n",
              "      <td>15110960</td>\n",
              "      <td>834.95</td>\n",
              "    </tr>\n",
              "    <tr>\n",
              "      <th>4</th>\n",
              "      <td>0</td>\n",
              "      <td>11316559</td>\n",
              "      <td>39.00</td>\n",
              "    </tr>\n",
              "  </tbody>\n",
              "</table>\n",
              "</div>\n",
              "      <button class=\"colab-df-convert\" onclick=\"convertToInteractive('df-64684845-c3a7-44be-95ff-85a4e72cc0b8')\"\n",
              "              title=\"Convert this dataframe to an interactive table.\"\n",
              "              style=\"display:none;\">\n",
              "        \n",
              "  <svg xmlns=\"http://www.w3.org/2000/svg\" height=\"24px\"viewBox=\"0 0 24 24\"\n",
              "       width=\"24px\">\n",
              "    <path d=\"M0 0h24v24H0V0z\" fill=\"none\"/>\n",
              "    <path d=\"M18.56 5.44l.94 2.06.94-2.06 2.06-.94-2.06-.94-.94-2.06-.94 2.06-2.06.94zm-11 1L8.5 8.5l.94-2.06 2.06-.94-2.06-.94L8.5 2.5l-.94 2.06-2.06.94zm10 10l.94 2.06.94-2.06 2.06-.94-2.06-.94-.94-2.06-.94 2.06-2.06.94z\"/><path d=\"M17.41 7.96l-1.37-1.37c-.4-.4-.92-.59-1.43-.59-.52 0-1.04.2-1.43.59L10.3 9.45l-7.72 7.72c-.78.78-.78 2.05 0 2.83L4 21.41c.39.39.9.59 1.41.59.51 0 1.02-.2 1.41-.59l7.78-7.78 2.81-2.81c.8-.78.8-2.07 0-2.86zM5.41 20L4 18.59l7.72-7.72 1.47 1.35L5.41 20z\"/>\n",
              "  </svg>\n",
              "      </button>\n",
              "      \n",
              "  <style>\n",
              "    .colab-df-container {\n",
              "      display:flex;\n",
              "      flex-wrap:wrap;\n",
              "      gap: 12px;\n",
              "    }\n",
              "\n",
              "    .colab-df-convert {\n",
              "      background-color: #E8F0FE;\n",
              "      border: none;\n",
              "      border-radius: 50%;\n",
              "      cursor: pointer;\n",
              "      display: none;\n",
              "      fill: #1967D2;\n",
              "      height: 32px;\n",
              "      padding: 0 0 0 0;\n",
              "      width: 32px;\n",
              "    }\n",
              "\n",
              "    .colab-df-convert:hover {\n",
              "      background-color: #E2EBFA;\n",
              "      box-shadow: 0px 1px 2px rgba(60, 64, 67, 0.3), 0px 1px 3px 1px rgba(60, 64, 67, 0.15);\n",
              "      fill: #174EA6;\n",
              "    }\n",
              "\n",
              "    [theme=dark] .colab-df-convert {\n",
              "      background-color: #3B4455;\n",
              "      fill: #D2E3FC;\n",
              "    }\n",
              "\n",
              "    [theme=dark] .colab-df-convert:hover {\n",
              "      background-color: #434B5C;\n",
              "      box-shadow: 0px 1px 3px 1px rgba(0, 0, 0, 0.15);\n",
              "      filter: drop-shadow(0px 1px 2px rgba(0, 0, 0, 0.3));\n",
              "      fill: #FFFFFF;\n",
              "    }\n",
              "  </style>\n",
              "\n",
              "      <script>\n",
              "        const buttonEl =\n",
              "          document.querySelector('#df-64684845-c3a7-44be-95ff-85a4e72cc0b8 button.colab-df-convert');\n",
              "        buttonEl.style.display =\n",
              "          google.colab.kernel.accessAllowed ? 'block' : 'none';\n",
              "\n",
              "        async function convertToInteractive(key) {\n",
              "          const element = document.querySelector('#df-64684845-c3a7-44be-95ff-85a4e72cc0b8');\n",
              "          const dataTable =\n",
              "            await google.colab.kernel.invokeFunction('convertToInteractive',\n",
              "                                                     [key], {});\n",
              "          if (!dataTable) return;\n",
              "\n",
              "          const docLinkHtml = 'Like what you see? Visit the ' +\n",
              "            '<a target=\"_blank\" href=https://colab.research.google.com/notebooks/data_table.ipynb>data table notebook</a>'\n",
              "            + ' to learn more about interactive tables.';\n",
              "          element.innerHTML = '';\n",
              "          dataTable['output_type'] = 'display_data';\n",
              "          await google.colab.output.renderOutput(dataTable, element);\n",
              "          const docLink = document.createElement('div');\n",
              "          docLink.innerHTML = docLinkHtml;\n",
              "          element.appendChild(docLink);\n",
              "        }\n",
              "      </script>\n",
              "    </div>\n",
              "  </div>\n",
              "  "
            ]
          },
          "metadata": {},
          "execution_count": 22
        }
      ],
      "source": [
        "# Visualizando X1\n",
        "X1.head()"
      ],
      "id": "M0z0uiM7GhwM"
    },
    {
      "cell_type": "code",
      "execution_count": 23,
      "metadata": {
        "id": "OLNCswnqGhwM",
        "outputId": "bd22741d-cdab-463a-87e2-5dec5f841fb1",
        "colab": {
          "base_uri": "https://localhost:8080/"
        }
      },
      "outputs": [
        {
          "output_type": "execute_result",
          "data": {
            "text/plain": [
              "array([[ 0.24749305, -0.21467622, -0.19274568, ..., -0.09612839,\n",
              "        -0.12984671, -0.10803119],\n",
              "       [-0.20365524, -0.18647344, -0.19274568, ..., -0.09612839,\n",
              "        -0.12984671, -0.10803119],\n",
              "       [ 1.46967862, -0.21467622, -0.19274568, ...,  3.87176588,\n",
              "         2.44246674,  3.02253485],\n",
              "       ...,\n",
              "       [-0.08269777, -0.21467622, -0.19274568, ..., -0.09612839,\n",
              "        -0.12984671, -0.10803119],\n",
              "       [ 0.69171425, -0.18647344, -0.16702719, ..., -0.09612839,\n",
              "        -0.12984671, -0.10803119],\n",
              "       [-0.35285389, -0.13006786, -0.1413087 , ..., -0.09612839,\n",
              "        -0.12984671, -0.10803119]])"
            ]
          },
          "metadata": {},
          "execution_count": 23
        }
      ],
      "source": [
        "# Visualizando X2\n",
        "X2"
      ],
      "id": "OLNCswnqGhwM"
    },
    {
      "cell_type": "code",
      "execution_count": 24,
      "metadata": {
        "id": "HWQ4oZXlGhwN",
        "outputId": "af78dc2b-56f4-4e9b-f820-3ce3f6b289ef",
        "colab": {
          "base_uri": "https://localhost:8080/",
          "height": 487
        }
      },
      "outputs": [
        {
          "output_type": "execute_result",
          "data": {
            "text/plain": [
              "       TransactionAmt        C1        C2        C3        C4        C5  \\\n",
              "0            0.247493 -0.214676 -0.192746 -0.019466 -0.033925 -0.196433   \n",
              "1           -0.203655 -0.186473 -0.192746 -0.019466 -0.033925 -0.196433   \n",
              "2            1.469679 -0.214676 -0.192746 -0.019466 -0.033925 -0.232972   \n",
              "3            2.467711 -0.214676 -0.192746 -0.019466 -0.033925 -0.196433   \n",
              "4           -0.359781 -0.186473 -0.192746 -0.019466 -0.033925 -0.232972   \n",
              "...               ...       ...       ...       ...       ...       ...   \n",
              "49995        0.071829 -0.214676 -0.192746 -0.019466 -0.033925 -0.232972   \n",
              "49996       -0.171506 -0.214676 -0.192746 -0.019466 -0.033925 -0.232972   \n",
              "49997       -0.082698 -0.214676 -0.192746 -0.019466 -0.033925 -0.232972   \n",
              "49998        0.691714 -0.186473 -0.167027 -0.019466 -0.033925 -0.232972   \n",
              "49999       -0.352854 -0.130068 -0.141309 -0.019466 -0.033925 -0.123357   \n",
              "\n",
              "             C6        C7       C8        C9  ...      V312      V313  \\\n",
              "0     -0.210901 -0.032866 -0.03416 -0.178711  ...  0.418081  0.082164   \n",
              "1     -0.210901 -0.032866 -0.03416 -0.235195  ... -0.272350 -0.240268   \n",
              "2     -0.210901 -0.032866 -0.03416 -0.235195  ... -0.272350 -0.240268   \n",
              "3     -0.251414 -0.032866 -0.03416 -0.235195  ... -0.272350 -0.240268   \n",
              "4     -0.251414 -0.032866 -0.03416 -0.178711  ... -0.022912 -0.240268   \n",
              "...         ...       ...      ...       ...  ...       ...       ...   \n",
              "49995 -0.210901 -0.032866 -0.03416 -0.178711  ... -0.272350  0.473354   \n",
              "49996 -0.251414 -0.032866 -0.03416 -0.235195  ... -0.272350 -0.240268   \n",
              "49997 -0.210901 -0.032866 -0.03416 -0.235195  ... -0.272350 -0.240268   \n",
              "49998 -0.089363 -0.032866 -0.03416 -0.235195  ... -0.272350 -0.240268   \n",
              "49999 -0.170389 -0.032866 -0.03416 -0.178711  ... -0.272350 -0.240268   \n",
              "\n",
              "           V314      V315      V316      V317      V318      V319      V320  \\\n",
              "0      0.808442  1.376649 -0.054724 -0.086743 -0.067053 -0.096128 -0.129847   \n",
              "1     -0.266575 -0.246864 -0.054724 -0.086743 -0.067053 -0.096128 -0.129847   \n",
              "2     -0.266575 -0.246864 -0.054724 -0.086743 -0.067053  3.871766  2.442467   \n",
              "3     -0.266575 -0.246864 -0.054724 -0.086743 -0.067053 -0.096128 -0.129847   \n",
              "4     -0.266575 -0.246864 -0.054724 -0.086743 -0.067053 -0.096128 -0.129847   \n",
              "...         ...       ...       ...       ...       ...       ...       ...   \n",
              "49995  0.117259  0.332811  0.220793  0.060871  0.123825  1.112310  0.653562   \n",
              "49996 -0.266575 -0.246864 -0.054724 -0.086743 -0.067053 -0.096128 -0.129847   \n",
              "49997 -0.266575 -0.246864 -0.054724 -0.086743 -0.067053 -0.096128 -0.129847   \n",
              "49998 -0.266575 -0.246864 -0.054724 -0.086743 -0.067053 -0.096128 -0.129847   \n",
              "49999 -0.266575 -0.246864 -0.054724 -0.086743 -0.067053 -0.096128 -0.129847   \n",
              "\n",
              "           V321  \n",
              "0     -0.108031  \n",
              "1     -0.108031  \n",
              "2      3.022535  \n",
              "3     -0.108031  \n",
              "4     -0.108031  \n",
              "...         ...  \n",
              "49995  0.845395  \n",
              "49996 -0.108031  \n",
              "49997 -0.108031  \n",
              "49998 -0.108031  \n",
              "49999 -0.108031  \n",
              "\n",
              "[50000 rows x 169 columns]"
            ],
            "text/html": [
              "\n",
              "  <div id=\"df-34114c44-bc50-4be5-ad1f-91bb6b2c4da1\">\n",
              "    <div class=\"colab-df-container\">\n",
              "      <div>\n",
              "<style scoped>\n",
              "    .dataframe tbody tr th:only-of-type {\n",
              "        vertical-align: middle;\n",
              "    }\n",
              "\n",
              "    .dataframe tbody tr th {\n",
              "        vertical-align: top;\n",
              "    }\n",
              "\n",
              "    .dataframe thead th {\n",
              "        text-align: right;\n",
              "    }\n",
              "</style>\n",
              "<table border=\"1\" class=\"dataframe\">\n",
              "  <thead>\n",
              "    <tr style=\"text-align: right;\">\n",
              "      <th></th>\n",
              "      <th>TransactionAmt</th>\n",
              "      <th>C1</th>\n",
              "      <th>C2</th>\n",
              "      <th>C3</th>\n",
              "      <th>C4</th>\n",
              "      <th>C5</th>\n",
              "      <th>C6</th>\n",
              "      <th>C7</th>\n",
              "      <th>C8</th>\n",
              "      <th>C9</th>\n",
              "      <th>...</th>\n",
              "      <th>V312</th>\n",
              "      <th>V313</th>\n",
              "      <th>V314</th>\n",
              "      <th>V315</th>\n",
              "      <th>V316</th>\n",
              "      <th>V317</th>\n",
              "      <th>V318</th>\n",
              "      <th>V319</th>\n",
              "      <th>V320</th>\n",
              "      <th>V321</th>\n",
              "    </tr>\n",
              "  </thead>\n",
              "  <tbody>\n",
              "    <tr>\n",
              "      <th>0</th>\n",
              "      <td>0.247493</td>\n",
              "      <td>-0.214676</td>\n",
              "      <td>-0.192746</td>\n",
              "      <td>-0.019466</td>\n",
              "      <td>-0.033925</td>\n",
              "      <td>-0.196433</td>\n",
              "      <td>-0.210901</td>\n",
              "      <td>-0.032866</td>\n",
              "      <td>-0.03416</td>\n",
              "      <td>-0.178711</td>\n",
              "      <td>...</td>\n",
              "      <td>0.418081</td>\n",
              "      <td>0.082164</td>\n",
              "      <td>0.808442</td>\n",
              "      <td>1.376649</td>\n",
              "      <td>-0.054724</td>\n",
              "      <td>-0.086743</td>\n",
              "      <td>-0.067053</td>\n",
              "      <td>-0.096128</td>\n",
              "      <td>-0.129847</td>\n",
              "      <td>-0.108031</td>\n",
              "    </tr>\n",
              "    <tr>\n",
              "      <th>1</th>\n",
              "      <td>-0.203655</td>\n",
              "      <td>-0.186473</td>\n",
              "      <td>-0.192746</td>\n",
              "      <td>-0.019466</td>\n",
              "      <td>-0.033925</td>\n",
              "      <td>-0.196433</td>\n",
              "      <td>-0.210901</td>\n",
              "      <td>-0.032866</td>\n",
              "      <td>-0.03416</td>\n",
              "      <td>-0.235195</td>\n",
              "      <td>...</td>\n",
              "      <td>-0.272350</td>\n",
              "      <td>-0.240268</td>\n",
              "      <td>-0.266575</td>\n",
              "      <td>-0.246864</td>\n",
              "      <td>-0.054724</td>\n",
              "      <td>-0.086743</td>\n",
              "      <td>-0.067053</td>\n",
              "      <td>-0.096128</td>\n",
              "      <td>-0.129847</td>\n",
              "      <td>-0.108031</td>\n",
              "    </tr>\n",
              "    <tr>\n",
              "      <th>2</th>\n",
              "      <td>1.469679</td>\n",
              "      <td>-0.214676</td>\n",
              "      <td>-0.192746</td>\n",
              "      <td>-0.019466</td>\n",
              "      <td>-0.033925</td>\n",
              "      <td>-0.232972</td>\n",
              "      <td>-0.210901</td>\n",
              "      <td>-0.032866</td>\n",
              "      <td>-0.03416</td>\n",
              "      <td>-0.235195</td>\n",
              "      <td>...</td>\n",
              "      <td>-0.272350</td>\n",
              "      <td>-0.240268</td>\n",
              "      <td>-0.266575</td>\n",
              "      <td>-0.246864</td>\n",
              "      <td>-0.054724</td>\n",
              "      <td>-0.086743</td>\n",
              "      <td>-0.067053</td>\n",
              "      <td>3.871766</td>\n",
              "      <td>2.442467</td>\n",
              "      <td>3.022535</td>\n",
              "    </tr>\n",
              "    <tr>\n",
              "      <th>3</th>\n",
              "      <td>2.467711</td>\n",
              "      <td>-0.214676</td>\n",
              "      <td>-0.192746</td>\n",
              "      <td>-0.019466</td>\n",
              "      <td>-0.033925</td>\n",
              "      <td>-0.196433</td>\n",
              "      <td>-0.251414</td>\n",
              "      <td>-0.032866</td>\n",
              "      <td>-0.03416</td>\n",
              "      <td>-0.235195</td>\n",
              "      <td>...</td>\n",
              "      <td>-0.272350</td>\n",
              "      <td>-0.240268</td>\n",
              "      <td>-0.266575</td>\n",
              "      <td>-0.246864</td>\n",
              "      <td>-0.054724</td>\n",
              "      <td>-0.086743</td>\n",
              "      <td>-0.067053</td>\n",
              "      <td>-0.096128</td>\n",
              "      <td>-0.129847</td>\n",
              "      <td>-0.108031</td>\n",
              "    </tr>\n",
              "    <tr>\n",
              "      <th>4</th>\n",
              "      <td>-0.359781</td>\n",
              "      <td>-0.186473</td>\n",
              "      <td>-0.192746</td>\n",
              "      <td>-0.019466</td>\n",
              "      <td>-0.033925</td>\n",
              "      <td>-0.232972</td>\n",
              "      <td>-0.251414</td>\n",
              "      <td>-0.032866</td>\n",
              "      <td>-0.03416</td>\n",
              "      <td>-0.178711</td>\n",
              "      <td>...</td>\n",
              "      <td>-0.022912</td>\n",
              "      <td>-0.240268</td>\n",
              "      <td>-0.266575</td>\n",
              "      <td>-0.246864</td>\n",
              "      <td>-0.054724</td>\n",
              "      <td>-0.086743</td>\n",
              "      <td>-0.067053</td>\n",
              "      <td>-0.096128</td>\n",
              "      <td>-0.129847</td>\n",
              "      <td>-0.108031</td>\n",
              "    </tr>\n",
              "    <tr>\n",
              "      <th>...</th>\n",
              "      <td>...</td>\n",
              "      <td>...</td>\n",
              "      <td>...</td>\n",
              "      <td>...</td>\n",
              "      <td>...</td>\n",
              "      <td>...</td>\n",
              "      <td>...</td>\n",
              "      <td>...</td>\n",
              "      <td>...</td>\n",
              "      <td>...</td>\n",
              "      <td>...</td>\n",
              "      <td>...</td>\n",
              "      <td>...</td>\n",
              "      <td>...</td>\n",
              "      <td>...</td>\n",
              "      <td>...</td>\n",
              "      <td>...</td>\n",
              "      <td>...</td>\n",
              "      <td>...</td>\n",
              "      <td>...</td>\n",
              "      <td>...</td>\n",
              "    </tr>\n",
              "    <tr>\n",
              "      <th>49995</th>\n",
              "      <td>0.071829</td>\n",
              "      <td>-0.214676</td>\n",
              "      <td>-0.192746</td>\n",
              "      <td>-0.019466</td>\n",
              "      <td>-0.033925</td>\n",
              "      <td>-0.232972</td>\n",
              "      <td>-0.210901</td>\n",
              "      <td>-0.032866</td>\n",
              "      <td>-0.03416</td>\n",
              "      <td>-0.178711</td>\n",
              "      <td>...</td>\n",
              "      <td>-0.272350</td>\n",
              "      <td>0.473354</td>\n",
              "      <td>0.117259</td>\n",
              "      <td>0.332811</td>\n",
              "      <td>0.220793</td>\n",
              "      <td>0.060871</td>\n",
              "      <td>0.123825</td>\n",
              "      <td>1.112310</td>\n",
              "      <td>0.653562</td>\n",
              "      <td>0.845395</td>\n",
              "    </tr>\n",
              "    <tr>\n",
              "      <th>49996</th>\n",
              "      <td>-0.171506</td>\n",
              "      <td>-0.214676</td>\n",
              "      <td>-0.192746</td>\n",
              "      <td>-0.019466</td>\n",
              "      <td>-0.033925</td>\n",
              "      <td>-0.232972</td>\n",
              "      <td>-0.251414</td>\n",
              "      <td>-0.032866</td>\n",
              "      <td>-0.03416</td>\n",
              "      <td>-0.235195</td>\n",
              "      <td>...</td>\n",
              "      <td>-0.272350</td>\n",
              "      <td>-0.240268</td>\n",
              "      <td>-0.266575</td>\n",
              "      <td>-0.246864</td>\n",
              "      <td>-0.054724</td>\n",
              "      <td>-0.086743</td>\n",
              "      <td>-0.067053</td>\n",
              "      <td>-0.096128</td>\n",
              "      <td>-0.129847</td>\n",
              "      <td>-0.108031</td>\n",
              "    </tr>\n",
              "    <tr>\n",
              "      <th>49997</th>\n",
              "      <td>-0.082698</td>\n",
              "      <td>-0.214676</td>\n",
              "      <td>-0.192746</td>\n",
              "      <td>-0.019466</td>\n",
              "      <td>-0.033925</td>\n",
              "      <td>-0.232972</td>\n",
              "      <td>-0.210901</td>\n",
              "      <td>-0.032866</td>\n",
              "      <td>-0.03416</td>\n",
              "      <td>-0.235195</td>\n",
              "      <td>...</td>\n",
              "      <td>-0.272350</td>\n",
              "      <td>-0.240268</td>\n",
              "      <td>-0.266575</td>\n",
              "      <td>-0.246864</td>\n",
              "      <td>-0.054724</td>\n",
              "      <td>-0.086743</td>\n",
              "      <td>-0.067053</td>\n",
              "      <td>-0.096128</td>\n",
              "      <td>-0.129847</td>\n",
              "      <td>-0.108031</td>\n",
              "    </tr>\n",
              "    <tr>\n",
              "      <th>49998</th>\n",
              "      <td>0.691714</td>\n",
              "      <td>-0.186473</td>\n",
              "      <td>-0.167027</td>\n",
              "      <td>-0.019466</td>\n",
              "      <td>-0.033925</td>\n",
              "      <td>-0.232972</td>\n",
              "      <td>-0.089363</td>\n",
              "      <td>-0.032866</td>\n",
              "      <td>-0.03416</td>\n",
              "      <td>-0.235195</td>\n",
              "      <td>...</td>\n",
              "      <td>-0.272350</td>\n",
              "      <td>-0.240268</td>\n",
              "      <td>-0.266575</td>\n",
              "      <td>-0.246864</td>\n",
              "      <td>-0.054724</td>\n",
              "      <td>-0.086743</td>\n",
              "      <td>-0.067053</td>\n",
              "      <td>-0.096128</td>\n",
              "      <td>-0.129847</td>\n",
              "      <td>-0.108031</td>\n",
              "    </tr>\n",
              "    <tr>\n",
              "      <th>49999</th>\n",
              "      <td>-0.352854</td>\n",
              "      <td>-0.130068</td>\n",
              "      <td>-0.141309</td>\n",
              "      <td>-0.019466</td>\n",
              "      <td>-0.033925</td>\n",
              "      <td>-0.123357</td>\n",
              "      <td>-0.170389</td>\n",
              "      <td>-0.032866</td>\n",
              "      <td>-0.03416</td>\n",
              "      <td>-0.178711</td>\n",
              "      <td>...</td>\n",
              "      <td>-0.272350</td>\n",
              "      <td>-0.240268</td>\n",
              "      <td>-0.266575</td>\n",
              "      <td>-0.246864</td>\n",
              "      <td>-0.054724</td>\n",
              "      <td>-0.086743</td>\n",
              "      <td>-0.067053</td>\n",
              "      <td>-0.096128</td>\n",
              "      <td>-0.129847</td>\n",
              "      <td>-0.108031</td>\n",
              "    </tr>\n",
              "  </tbody>\n",
              "</table>\n",
              "<p>50000 rows × 169 columns</p>\n",
              "</div>\n",
              "      <button class=\"colab-df-convert\" onclick=\"convertToInteractive('df-34114c44-bc50-4be5-ad1f-91bb6b2c4da1')\"\n",
              "              title=\"Convert this dataframe to an interactive table.\"\n",
              "              style=\"display:none;\">\n",
              "        \n",
              "  <svg xmlns=\"http://www.w3.org/2000/svg\" height=\"24px\"viewBox=\"0 0 24 24\"\n",
              "       width=\"24px\">\n",
              "    <path d=\"M0 0h24v24H0V0z\" fill=\"none\"/>\n",
              "    <path d=\"M18.56 5.44l.94 2.06.94-2.06 2.06-.94-2.06-.94-.94-2.06-.94 2.06-2.06.94zm-11 1L8.5 8.5l.94-2.06 2.06-.94-2.06-.94L8.5 2.5l-.94 2.06-2.06.94zm10 10l.94 2.06.94-2.06 2.06-.94-2.06-.94-.94-2.06-.94 2.06-2.06.94z\"/><path d=\"M17.41 7.96l-1.37-1.37c-.4-.4-.92-.59-1.43-.59-.52 0-1.04.2-1.43.59L10.3 9.45l-7.72 7.72c-.78.78-.78 2.05 0 2.83L4 21.41c.39.39.9.59 1.41.59.51 0 1.02-.2 1.41-.59l7.78-7.78 2.81-2.81c.8-.78.8-2.07 0-2.86zM5.41 20L4 18.59l7.72-7.72 1.47 1.35L5.41 20z\"/>\n",
              "  </svg>\n",
              "      </button>\n",
              "      \n",
              "  <style>\n",
              "    .colab-df-container {\n",
              "      display:flex;\n",
              "      flex-wrap:wrap;\n",
              "      gap: 12px;\n",
              "    }\n",
              "\n",
              "    .colab-df-convert {\n",
              "      background-color: #E8F0FE;\n",
              "      border: none;\n",
              "      border-radius: 50%;\n",
              "      cursor: pointer;\n",
              "      display: none;\n",
              "      fill: #1967D2;\n",
              "      height: 32px;\n",
              "      padding: 0 0 0 0;\n",
              "      width: 32px;\n",
              "    }\n",
              "\n",
              "    .colab-df-convert:hover {\n",
              "      background-color: #E2EBFA;\n",
              "      box-shadow: 0px 1px 2px rgba(60, 64, 67, 0.3), 0px 1px 3px 1px rgba(60, 64, 67, 0.15);\n",
              "      fill: #174EA6;\n",
              "    }\n",
              "\n",
              "    [theme=dark] .colab-df-convert {\n",
              "      background-color: #3B4455;\n",
              "      fill: #D2E3FC;\n",
              "    }\n",
              "\n",
              "    [theme=dark] .colab-df-convert:hover {\n",
              "      background-color: #434B5C;\n",
              "      box-shadow: 0px 1px 3px 1px rgba(0, 0, 0, 0.15);\n",
              "      filter: drop-shadow(0px 1px 2px rgba(0, 0, 0, 0.3));\n",
              "      fill: #FFFFFF;\n",
              "    }\n",
              "  </style>\n",
              "\n",
              "      <script>\n",
              "        const buttonEl =\n",
              "          document.querySelector('#df-34114c44-bc50-4be5-ad1f-91bb6b2c4da1 button.colab-df-convert');\n",
              "        buttonEl.style.display =\n",
              "          google.colab.kernel.accessAllowed ? 'block' : 'none';\n",
              "\n",
              "        async function convertToInteractive(key) {\n",
              "          const element = document.querySelector('#df-34114c44-bc50-4be5-ad1f-91bb6b2c4da1');\n",
              "          const dataTable =\n",
              "            await google.colab.kernel.invokeFunction('convertToInteractive',\n",
              "                                                     [key], {});\n",
              "          if (!dataTable) return;\n",
              "\n",
              "          const docLinkHtml = 'Like what you see? Visit the ' +\n",
              "            '<a target=\"_blank\" href=https://colab.research.google.com/notebooks/data_table.ipynb>data table notebook</a>'\n",
              "            + ' to learn more about interactive tables.';\n",
              "          element.innerHTML = '';\n",
              "          dataTable['output_type'] = 'display_data';\n",
              "          await google.colab.output.renderOutput(dataTable, element);\n",
              "          const docLink = document.createElement('div');\n",
              "          docLink.innerHTML = docLinkHtml;\n",
              "          element.appendChild(docLink);\n",
              "        }\n",
              "      </script>\n",
              "    </div>\n",
              "  </div>\n",
              "  "
            ]
          },
          "metadata": {},
          "execution_count": 24
        }
      ],
      "source": [
        "# checando X2\n",
        "pd.DataFrame(X2, columns=df.columns[3:])"
      ],
      "id": "HWQ4oZXlGhwN"
    },
    {
      "cell_type": "code",
      "execution_count": 25,
      "metadata": {
        "id": "osqjo6LUGhwO"
      },
      "outputs": [],
      "source": [
        "# vamos definir uma array com o atributo alvo isFraud\n",
        "y = X1['isFraud'].astype('int')"
      ],
      "id": "osqjo6LUGhwO"
    },
    {
      "cell_type": "code",
      "execution_count": 26,
      "metadata": {
        "id": "FYnkXvk_GhwO",
        "outputId": "520719a0-9d74-4089-98fa-f7a6fefb5dff",
        "colab": {
          "base_uri": "https://localhost:8080/"
        }
      },
      "outputs": [
        {
          "output_type": "execute_result",
          "data": {
            "text/plain": [
              "0.03102"
            ]
          },
          "metadata": {},
          "execution_count": 26
        }
      ],
      "source": [
        "# verificando se o % de casos de fraude está OK\n",
        "y.sum()/len(y)"
      ],
      "id": "FYnkXvk_GhwO"
    },
    {
      "cell_type": "code",
      "execution_count": 27,
      "metadata": {
        "id": "7JiQ6f1tGhwO",
        "outputId": "54c8d42e-f557-4b1b-8558-c8fcb3f84d4f",
        "colab": {
          "base_uri": "https://localhost:8080/"
        }
      },
      "outputs": [
        {
          "output_type": "stream",
          "name": "stdout",
          "text": [
            "(50000, 3)\n",
            "(50000, 169)\n"
          ]
        }
      ],
      "source": [
        "print(X1.shape)\n",
        "print(X2.shape)"
      ],
      "id": "7JiQ6f1tGhwO"
    },
    {
      "cell_type": "markdown",
      "metadata": {
        "id": "XdlLYDQ3GhwP"
      },
      "source": [
        "#### Resumo Etapa 2B - Entendimento e Ingestão dos dados da base Kaggle\n",
        "\n",
        "- Foi gerada uma array X2 com dados padronizados com 50000 registros e 169 atributos padronizados\n",
        "- Foi gerada a array y com o atributo alvo `ìsFraud`\n",
        "- Foi gerado o dataframe X1 com os atributos que não serão padronizados `TransactioID`, `TransactioDT`, `TransactioAmt` e `ìsFraud`."
      ],
      "id": "XdlLYDQ3GhwP"
    },
    {
      "cell_type": "markdown",
      "metadata": {
        "id": "6qwjE1ZwGhwP"
      },
      "source": [
        "### Etapa 2C - Redução de Dimensões (PCA e UMAP)\n",
        "\n",
        "Esta sub etapa é composta dos seguintes passos:\n",
        "- Empregar o método `pca.explained_variance_ratio_` para determinar a quantidade de dimensões N a serem empregadas no UMAP\n",
        "- Aplicar o UMAP para gerar uma redução para 2 dimensões para ser empregada na pré-seleção de modelos\n",
        "- Aplicara o UMAP para gerar uma redução para as N dimensão (definda no passo 1) para ser empregada na análise dos modelos selecionados no passo 2\n"
      ],
      "id": "6qwjE1ZwGhwP"
    },
    {
      "cell_type": "markdown",
      "metadata": {
        "id": "F-k59WiFGhwQ"
      },
      "source": [
        "####  Empregando o método `pca.explained_variance_ratio_` para determinar a quantidade de dimensões N"
      ],
      "id": "F-k59WiFGhwQ"
    },
    {
      "cell_type": "code",
      "execution_count": 28,
      "metadata": {
        "id": "bHTx4k9AGhwQ",
        "outputId": "94089907-4b4f-47f1-fe59-af0c7bbddeb8",
        "colab": {
          "base_uri": "https://localhost:8080/"
        }
      },
      "outputs": [
        {
          "output_type": "stream",
          "name": "stdout",
          "text": [
            "CPU times: user 1.55 s, sys: 856 ms, total: 2.41 s\n",
            "Wall time: 965 ms\n"
          ]
        }
      ],
      "source": [
        "%%time\n",
        "#  Empregando o método `pca.explained_variance_ratio_` para determinar a quantidade de dimensões N\n",
        "pca = PCA(random_state=42)\n",
        "X_pca = pca.fit_transform(X2)\n",
        "ev_ratio = pca.explained_variance_ratio_"
      ],
      "id": "bHTx4k9AGhwQ"
    },
    {
      "cell_type": "code",
      "execution_count": 29,
      "metadata": {
        "id": "AaF2i_WYGhwQ",
        "outputId": "4cba37c9-71cd-466b-e18d-0835da9b9d38",
        "colab": {
          "base_uri": "https://localhost:8080/"
        }
      },
      "outputs": [
        {
          "output_type": "execute_result",
          "data": {
            "text/plain": [
              "array([1.77660761e-01, 1.38079581e-01, 5.35139074e-02, 4.86582751e-02,\n",
              "       4.54187113e-02, 3.61578515e-02, 3.10495521e-02, 3.00547246e-02,\n",
              "       2.68763519e-02, 2.44292357e-02, 2.19541920e-02, 2.10609499e-02,\n",
              "       2.02285303e-02, 1.80633137e-02, 1.65232129e-02, 1.52552559e-02,\n",
              "       1.49630259e-02, 1.42617556e-02, 1.32034303e-02, 1.17746561e-02,\n",
              "       1.12292924e-02, 1.02474078e-02, 9.55892147e-03, 9.03333926e-03,\n",
              "       8.51083286e-03, 8.00413398e-03, 7.23785518e-03, 6.87203804e-03,\n",
              "       6.65779763e-03, 6.06795545e-03, 5.96648611e-03, 5.92370404e-03,\n",
              "       5.50915683e-03, 4.98089023e-03, 4.60696007e-03, 4.27360032e-03,\n",
              "       4.11463330e-03, 3.95162055e-03, 3.83476884e-03, 3.71503087e-03,\n",
              "       3.41561311e-03, 3.37150276e-03, 3.27083992e-03, 3.13099600e-03,\n",
              "       2.99130809e-03, 2.87484214e-03, 2.80317170e-03, 2.67129820e-03,\n",
              "       2.60240782e-03, 2.50087289e-03, 2.37861850e-03, 2.18961031e-03,\n",
              "       2.11763205e-03, 1.95721389e-03, 1.88760876e-03, 1.84319248e-03,\n",
              "       1.79153430e-03, 1.70176420e-03, 1.57974030e-03, 1.55351637e-03,\n",
              "       1.45100251e-03, 1.36102942e-03, 1.30466184e-03, 1.23145523e-03,\n",
              "       1.22993136e-03, 1.18753673e-03, 1.15159803e-03, 1.10016749e-03,\n",
              "       1.07816638e-03, 1.05216444e-03, 1.02716203e-03, 1.01339425e-03,\n",
              "       9.61389234e-04, 9.39982824e-04, 9.00392785e-04, 8.90337789e-04,\n",
              "       8.61938169e-04, 8.43084565e-04, 8.18572111e-04, 7.98181167e-04,\n",
              "       7.78223035e-04, 7.39320322e-04, 7.31796914e-04, 7.13214928e-04,\n",
              "       6.84473638e-04, 6.69665831e-04, 6.59808920e-04, 6.49758945e-04,\n",
              "       6.36169672e-04, 6.26977157e-04, 5.99682800e-04, 5.77533506e-04,\n",
              "       5.65064354e-04, 5.21136763e-04, 5.14129526e-04, 5.10522508e-04,\n",
              "       5.03522249e-04, 4.79891035e-04, 4.70950319e-04, 4.44123246e-04,\n",
              "       4.43712445e-04, 4.18933482e-04, 3.93086949e-04, 3.76036458e-04,\n",
              "       3.55634795e-04, 3.48187369e-04, 3.22097287e-04, 3.14186457e-04,\n",
              "       3.07817314e-04, 3.00306978e-04, 2.91030912e-04, 2.84713010e-04,\n",
              "       2.74561236e-04, 2.65607891e-04, 2.41331051e-04, 2.26906603e-04,\n",
              "       2.19144957e-04, 2.15702690e-04, 2.01101454e-04, 1.89466895e-04,\n",
              "       1.83228187e-04, 1.62653816e-04, 1.60280957e-04, 1.53642638e-04,\n",
              "       1.42939155e-04, 1.37668343e-04, 1.30370302e-04, 1.21504963e-04,\n",
              "       1.16930021e-04, 1.14448739e-04, 1.09461801e-04, 1.03644283e-04,\n",
              "       9.68413987e-05, 8.71484760e-05, 8.41680861e-05, 8.34276752e-05,\n",
              "       7.29458660e-05, 6.69771651e-05, 5.48380075e-05, 5.24860381e-05,\n",
              "       5.05960952e-05, 4.68982998e-05, 3.94027352e-05, 3.72537844e-05,\n",
              "       3.66952294e-05, 3.61928703e-05, 2.87752909e-05, 1.86173402e-05,\n",
              "       1.73935667e-05, 1.51192628e-05, 1.45578300e-05, 1.15345361e-05,\n",
              "       9.66723685e-06, 8.31580154e-06, 5.79634877e-06, 1.79924691e-06,\n",
              "       7.13435983e-07, 1.58639859e-07, 1.13568791e-07, 5.51486071e-08,\n",
              "       3.75139534e-08, 1.97226646e-08, 9.85510016e-09, 4.53251102e-09,\n",
              "       1.48890722e-09, 7.10342173e-10, 2.40173683e-10, 9.83203856e-34,\n",
              "       9.83203856e-34])"
            ]
          },
          "metadata": {},
          "execution_count": 29
        }
      ],
      "source": [
        "# Visualizado ev_ratio\n",
        "ev_ratio"
      ],
      "id": "AaF2i_WYGhwQ"
    },
    {
      "cell_type": "code",
      "execution_count": 30,
      "metadata": {
        "id": "RE0nZ66YGhwR",
        "outputId": "1cff9e49-d472-4818-a82a-9f8faf4c9643",
        "colab": {
          "base_uri": "https://localhost:8080/"
        }
      },
      "outputs": [
        {
          "output_type": "execute_result",
          "data": {
            "text/plain": [
              "array([0.17766076, 0.31574034, 0.36925425, 0.41791252, 0.46333124,\n",
              "       0.49948909, 0.53053864, 0.56059336, 0.58746972, 0.61189895,\n",
              "       0.63385314, 0.65491409, 0.67514262, 0.69320594, 0.70972915,\n",
              "       0.72498441, 0.73994743, 0.75420919, 0.76741262, 0.77918727,\n",
              "       0.79041657, 0.80066397, 0.8102229 , 0.81925624, 0.82776707,\n",
              "       0.8357712 , 0.84300906, 0.8498811 , 0.85653889, 0.86260685,\n",
              "       0.86857333, 0.87449704, 0.8800062 , 0.88498709, 0.88959405,\n",
              "       0.89386765, 0.89798228, 0.9019339 , 0.90576867, 0.9094837 ,\n",
              "       0.91289931, 0.91627082])"
            ]
          },
          "metadata": {},
          "execution_count": 30
        }
      ],
      "source": [
        "# Verificando a soma acumulada de variância explicada\n",
        "ev_ratio.cumsum()[:42]"
      ],
      "id": "RE0nZ66YGhwR"
    },
    {
      "cell_type": "code",
      "execution_count": 31,
      "metadata": {
        "id": "h8LDFbQEGhwR",
        "outputId": "226ec578-8669-439e-b84c-42399615c3b9",
        "colab": {
          "base_uri": "https://localhost:8080/",
          "height": 282
        }
      },
      "outputs": [
        {
          "output_type": "execute_result",
          "data": {
            "text/plain": [
              "<matplotlib.collections.LineCollection at 0x7f81614d92d0>"
            ]
          },
          "metadata": {},
          "execution_count": 31
        },
        {
          "output_type": "display_data",
          "data": {
            "text/plain": [
              "<Figure size 432x288 with 1 Axes>"
            ],
            "image/png": "[encoded data removed]"
          },
          "metadata": {
            "needs_background": "light"
          }
        }
      ],
      "source": [
        "# visualizando os resultados\n",
        "plt.plot(ev_ratio.cumsum(),c='b',lw=2.0)\n",
        "plt.plot(ev_ratio.cumsum()[:42],c='r',lw=4.0)\n",
        "plt.scatter(42,ev_ratio.cumsum()[42],c='r',s=100)\n",
        "plt.hlines(ev_ratio.cumsum()[42], 0,42 , colors='k', linestyles='dotted')\n",
        "plt.vlines(42, 0,ev_ratio.cumsum()[42], colors='k', linestyles='dotted')"
      ],
      "id": "h8LDFbQEGhwR"
    },
    {
      "cell_type": "code",
      "execution_count": 32,
      "metadata": {
        "id": "D6gBvCelGhwR",
        "outputId": "13adc7ba-7778-4a0c-f20e-68fb2188ed99",
        "colab": {
          "base_uri": "https://localhost:8080/"
        }
      },
      "outputs": [
        {
          "output_type": "stream",
          "name": "stdout",
          "text": [
            "0.9195416555117921\n"
          ]
        }
      ],
      "source": [
        "# Portanto temos N = 42 e a explained variation ratio total é 0.915, porém com a escolha dos ados é aleatória pode variar.\n",
        "N = 42\n",
        "print(ev_ratio.cumsum()[42])"
      ],
      "id": "D6gBvCelGhwR"
    },
    {
      "cell_type": "markdown",
      "metadata": {
        "id": "bco71WfVGhwR"
      },
      "source": [
        "> Considerando a base de 200000 registros a razão de variância explicada por 42 variávei é de ~ 91,5%"
      ],
      "id": "bco71WfVGhwR"
    },
    {
      "cell_type": "markdown",
      "metadata": {
        "id": "oYJogx3mGhwS"
      },
      "source": [
        "#### Aplicar o UMAP para gerar uma redução para 2 dimensões para ser empregada na pré-seleção de modelos\n",
        "\n",
        "#### Como funciona a UMAP (Traduzido de [UMAP.org](https://umap-learn.readthedocs.io/en/latest/how_umap_works.html))\n",
        "\n",
        "UMAP é um algoritmo para redução de dimensão baseado em várias técnicas de aprendizado e ideias de análise de dados topológicos. Ele fornece uma estrutura muito geral para abordar o aprendizado múltiplo e a redução de dimensão, mas também pode fornecer realizações concretas específicas.  \n",
        "\n",
        "Existem fundamentos matemáticos mais profundos, mas para facilitar a leitura pelo público em geral, eles serão meramente referenciados e vinculados. Se você estiver procurando a descrição matemática, consulte o artigo UMAP.\n",
        "\n",
        "Para começar a entender o UMAP, precisaremos de um pouco de conhecimento matemático da topologia algébrica e da análise de dados topológicos. Isso fornecerá um algoritmo básico que funciona bem na teoria, mas infelizmente não tão bem na prática. \n",
        "\n",
        "O próximo passo será fazer uso de alguma geometria Riemanniana básica para trazer os dados do mundo real um pouco mais perto das suposições subjacentes do algoritmo de análise de dados topológicos. Infelizmente, isso introduzirá novas complicações, que serão resolvidas através de uma combinação de matemática profunda (cujos detalhes serão omitidos) e lógica difusa. \n",
        "\n",
        "Podemos então juntar as peças novamente e combiná-las com uma nova abordagem para encontrar uma representação de baixa dimensão mais adequada às novas estruturas de dados disponíveis. Juntando tudo isso, chegamos ao algoritmo UMAP básico."
      ],
      "id": "oYJogx3mGhwS"
    },
    {
      "cell_type": "code",
      "execution_count": 33,
      "metadata": {
        "id": "-bAXeLQ7GhwS",
        "outputId": "95e7ffc3-bd84-4c84-fc17-ee90ebcab232",
        "colab": {
          "base_uri": "https://localhost:8080/"
        }
      },
      "outputs": [
        {
          "output_type": "stream",
          "name": "stdout",
          "text": [
            "CPU times: user 1min 39s, sys: 421 ms, total: 1min 40s\n",
            "Wall time: 1min 33s\n"
          ]
        }
      ],
      "source": [
        "%%time\n",
        "# Vamos aplicar o UMAP para reduzir a dimensionalidade de X2 \n",
        "X_umap = umap.UMAP(n_components=2,init='random', random_state=0, low_memory=True).fit_transform(X2, y=y)"
      ],
      "id": "-bAXeLQ7GhwS"
    },
    {
      "cell_type": "code",
      "source": [
        "# Verificando o tamanho de X_umap\n",
        "X_umap.shape"
      ],
      "metadata": {
        "id": "ptwhiY6Q0czP",
        "outputId": "8e48f0f6-b857-432e-f70e-4f21f929b475",
        "colab": {
          "base_uri": "https://localhost:8080/"
        }
      },
      "id": "ptwhiY6Q0czP",
      "execution_count": 34,
      "outputs": [
        {
          "output_type": "execute_result",
          "data": {
            "text/plain": [
              "(50000, 2)"
            ]
          },
          "metadata": {},
          "execution_count": 34
        }
      ]
    },
    {
      "cell_type": "code",
      "execution_count": 35,
      "metadata": {
        "id": "DHEZMFezGhwS",
        "outputId": "d023958c-c062-4163-e4f9-92ca511c87fc",
        "colab": {
          "base_uri": "https://localhost:8080/"
        }
      },
      "outputs": [
        {
          "output_type": "execute_result",
          "data": {
            "text/plain": [
              "(50000, 3)"
            ]
          },
          "metadata": {},
          "execution_count": 35
        }
      ],
      "source": [
        "# Agora vamos agregar a X_umap o atributo alvo isFraud\n",
        "X_umap= pd.concat([pd.DataFrame(X_umap, columns=['X0','X1']),X1['isFraud']],axis=1)\n",
        "X_umap.shape"
      ],
      "id": "DHEZMFezGhwS"
    },
    {
      "cell_type": "code",
      "execution_count": 36,
      "metadata": {
        "id": "ICIK9DOoGhwS",
        "outputId": "5bf4ad17-93d8-4f10-aee4-7019da766ca5",
        "colab": {
          "base_uri": "https://localhost:8080/",
          "height": 497
        }
      },
      "outputs": [
        {
          "output_type": "display_data",
          "data": {
            "text/plain": [
              "<Figure size 576x576 with 1 Axes>"
            ],
            "image/png": "[encoded data removed]"
          },
          "metadata": {
            "needs_background": "light"
          }
        }
      ],
      "source": [
        "# Visualizando o dataset X_umap\n",
        "fig, ax = plt.subplots(figsize=(8, 8))\n",
        "X_umap[X_umap['isFraud']==1].plot(\n",
        "    kind=\"scatter\",\n",
        "    x=0,\n",
        "    y=1,\n",
        "    s=10,\n",
        "    ax=ax,\n",
        "    c='r',\n",
        "    alpha=0.95\n",
        ")\n",
        "X_umap[X_umap['isFraud']==0].plot(\n",
        "    kind=\"scatter\",\n",
        "    x=0,\n",
        "    y=1,\n",
        "    s=5,\n",
        "    ax=ax,\n",
        "    c='b',\n",
        "    alpha=0.05,\n",
        ")\n",
        "fig.savefig('/content/imagens/umap_2d.png')"
      ],
      "id": "ICIK9DOoGhwS"
    },
    {
      "cell_type": "code",
      "execution_count": 37,
      "metadata": {
        "id": "74f6LSCmGhwT"
      },
      "outputs": [],
      "source": [
        "X_umap.to_csv('/content/data/pre_processed/trans_umap_2D.csv')"
      ],
      "id": "74f6LSCmGhwT"
    },
    {
      "cell_type": "markdown",
      "metadata": {
        "id": "FoAgXaE7GhwT"
      },
      "source": [
        "#### Aplicar o UMAP para gerar uma redução para 42 dimensões, que será empregada na análises dos modelos escolhidos na etapa pré-seleção de modelos"
      ],
      "id": "FoAgXaE7GhwT"
    },
    {
      "cell_type": "code",
      "execution_count": 38,
      "metadata": {
        "id": "d0IQZcjsGhwT",
        "outputId": "34ea2fd8-9e20-4b98-dfcb-d5e45262c59e",
        "colab": {
          "base_uri": "https://localhost:8080/"
        }
      },
      "outputs": [
        {
          "output_type": "stream",
          "name": "stdout",
          "text": [
            "CPU times: user 2min 17s, sys: 541 ms, total: 2min 17s\n",
            "Wall time: 2min 9s\n"
          ]
        }
      ],
      "source": [
        "%%time\n",
        "X_umap_mult = umap.UMAP(n_components=42,init='random', random_state=0, low_memory=True).fit_transform(X2, y=y)"
      ],
      "id": "d0IQZcjsGhwT"
    },
    {
      "cell_type": "code",
      "execution_count": 39,
      "metadata": {
        "id": "TJc6Lq-CGhwU",
        "outputId": "e2f938cc-f28c-4b89-fc0a-8cda08260c06",
        "colab": {
          "base_uri": "https://localhost:8080/"
        }
      },
      "outputs": [
        {
          "output_type": "execute_result",
          "data": {
            "text/plain": [
              "['X0', 'X1', 'X2', 'X3', 'X4']"
            ]
          },
          "metadata": {},
          "execution_count": 39
        }
      ],
      "source": [
        "# gerando Nomes para as Colunas\n",
        "cols=[('X'+str(a)) for a in range(N)]\n",
        "cols[:5]"
      ],
      "id": "TJc6Lq-CGhwU"
    },
    {
      "cell_type": "code",
      "execution_count": 40,
      "metadata": {
        "id": "Ae7UbkWXGhwU",
        "outputId": "101f937d-33ce-440c-ff0b-673b90d6a656",
        "colab": {
          "base_uri": "https://localhost:8080/"
        }
      },
      "outputs": [
        {
          "output_type": "stream",
          "name": "stdout",
          "text": [
            "CPU times: user 1.49 s, sys: 36.2 ms, total: 1.53 s\n",
            "Wall time: 1.52 s\n"
          ]
        }
      ],
      "source": [
        "%%time\n",
        "# Exportando um DataFrame com X_umap_mult e y\n",
        "trans_umap_multi = pd.concat([pd.DataFrame(X_umap_mult, columns=cols),y],axis=1)\n",
        "trans_umap_multi.to_csv('/content/data/pre_processed/trans_umap_multi.csv')"
      ],
      "id": "Ae7UbkWXGhwU"
    },
    {
      "cell_type": "markdown",
      "source": [
        "### Resumo da Etapa 2\n",
        "\n",
        "- Foi feito a limpeza dos dados gerados na Etapa1\n",
        "- Foi selecionada uma amostra aleatória de 50000 registros para modelagem\n",
        "- Foi slecionado um número de atributos N = 42 que corresponde a uma razão de explicação da variação de 91,5%\n",
        "- Foram gerados dois arquivos para modelagem:\n",
        "  - Na Etapa 3 será feita uma pré-modelagem usando vários modelos e os dados com 2 componentes (`trans_umap_2D.csv`), com esssas dimensões é mais fácil de visualizar como o modelo se comporta, os modelos com melhor desempenho serão selecionados\n",
        "  - Na Etapa 4 os melhores modelos serão usados juntamente com a base de dados de 42 dimensões (`trans_umap_mult.csv`)"
      ],
      "metadata": {
        "id": "zhOM8K6FrJxt"
      },
      "id": "zhOM8K6FrJxt"
    },
    {
      "cell_type": "markdown",
      "metadata": {
        "id": "V3XqO6QiGhwU"
      },
      "source": [
        "## Etapa 3 - Pré Modelagem.\n",
        "\n",
        "Em função da limitação de memória e de tempo preferiu-se executar uma pre-seleção de modelos. Neste processo serão executados o treinamento e avaliação de 10 modelos, utilizando o conjunto de dados `X_UMAP_2D`, de forma que se tenha uma primeira avaliação de seu desempenho, os melhores modelos serão escolidos para serem **novamente treinados e avaliados** agora com o conjunto de dados `X_UMAP_Mult` na **Etapa 4**. Os modelos usados e a sua configuração foram: \n",
        "> - Etapa 3A - Decision Trees.\n",
        "    - `DecisionTreeClassifier(max_depth=7)`\n",
        "> - Etapa 3B - SVC Linear.\n",
        "    - `SVC(kernel=\"linear\", C=1.0, probability=True)`\n",
        "> - Etapa 3C - SVC RBF.\n",
        "    - `SVC(kernel=\"rbf\",gamma=0.05, C=1.0, probability=True)`\n",
        "> - Etapa 3D - Gaussina Naives Bayes.\n",
        "    - `GaussianNB()`\n",
        "> - Etapa 3E - MLP Classifier.\n",
        "    - `MLPClassifier(hidden_layer_sizes=(200,),alpha=0.0001,learning_rate_init=0.001,max_iter=100000)`\n",
        "> - Etapa 3F - KNeighborsClassifier.\n",
        "    - `KNeighborsClassifier(n_neighbors=70)`\n",
        "> - Etapa 3F - 'Analise Discriminante Quadrática.'.\n",
        "    - `QuadraticDiscriminantAnalysis()`\n",
        "> - Etapa 3G - Random Forrest.\n",
        "    - `RandomForestClassifier(n_estimators=1500, max_depth=15)`\n",
        "> - Etapa 3H - Adaboost.\n",
        "    - `AdaBoostClassifier(n_estimators=1500)`\n",
        "> - Etapa 3I - GradientBosting.\n",
        "    - `GradientBoostingClassifier(n_estimators=1500, max_depth=11)`\n",
        "> - Etapa 3I - XGBoost.\n",
        "    - `XGBClassifier(n_estimators=1000, max_depth=11, random_state=42)`\n",
        "> - Etapa 3J - Histogram Based Gradient Boost\n",
        "    - `HistGradientBoostingClassifier(max_iter=1000, learning_rate=0.01)`\n",
        "    \n",
        "Para facilitar a análise foi criada uma função **`grafico_classificador()`** que foi incorporada ao módulo `Model_Tools` que deve ser importando antes da análise e o aquivo `Models_Tools.py` **precisa estar salvo no mesmo diretório do notebook**. "
      ],
      "id": "V3XqO6QiGhwU"
    },
    {
      "cell_type": "code",
      "execution_count": 41,
      "metadata": {
        "id": "Og-MMb-7GhwV"
      },
      "outputs": [],
      "source": [
        "# Caso o xgboost ainda não esteja instalado execute o camndo abaixo deletando o #\n",
        "#! pip install xgboost"
      ],
      "id": "Og-MMb-7GhwV"
    },
    {
      "cell_type": "code",
      "execution_count": 42,
      "metadata": {
        "id": "LwGqJ_iqGhwV",
        "outputId": "76a5c2c5-c3fe-46f3-cae3-fe6c060a478f",
        "colab": {
          "base_uri": "https://localhost:8080/"
        }
      },
      "outputs": [
        {
          "output_type": "stream",
          "name": "stdout",
          "text": [
            "CPU times: user 29.1 ms, sys: 8.36 ms, total: 37.5 ms\n",
            "Wall time: 167 ms\n"
          ]
        }
      ],
      "source": [
        "%%time\n",
        "\n",
        "import numpy as np\n",
        "from sklearn.preprocessing import StandardScaler\n",
        "from sklearn.metrics import plot_confusion_matrix\n",
        "from sklearn.metrics import confusion_matrix\n",
        "from sklearn.metrics import roc_curve, auc\n",
        "from sklearn.model_selection import train_test_split\n",
        "\n",
        "# algoritmos de classificação\n",
        "from sklearn.neural_network import MLPClassifier\n",
        "from sklearn.neighbors import KNeighborsClassifier\n",
        "from sklearn.svm import SVC\n",
        "from sklearn.gaussian_process import GaussianProcessClassifier\n",
        "from sklearn.gaussian_process.kernels import RBF\n",
        "from sklearn.tree import DecisionTreeClassifier\n",
        "from sklearn.ensemble import RandomForestClassifier, AdaBoostClassifier, GradientBoostingClassifier\n",
        "from sklearn.naive_bayes import GaussianNB\n",
        "from sklearn import tree\n",
        "from sklearn.discriminant_analysis import QuadraticDiscriminantAnalysis\n",
        "from xgboost import XGBClassifier\n",
        "from sklearn.experimental import enable_hist_gradient_boosting\n",
        "from sklearn.ensemble import HistGradientBoostingClassifier"
      ],
      "id": "LwGqJ_iqGhwV"
    },
    {
      "cell_type": "code",
      "execution_count": 43,
      "metadata": {
        "id": "z84_yz1qGhwV"
      },
      "outputs": [],
      "source": [
        "def grafico_classificador(X, y, test_size, modelo, nome_modelo, nome_dataset, pca=False, norm=True):\n",
        "    '''\n",
        "    Esta função processa um template de modelagem com machine learning usando recursos do scikit-learn e retorna\n",
        "    um dashboard simplificado de gráficos para compreenssão do modelo\n",
        "    Entradas:\n",
        "    X - Matriz de atributos dos dados\n",
        "    y - Vetor de targets de classificação\n",
        "    test_size - % percentagem do dataset usada para teste\n",
        "    modelo - Instância do modelo do Scikit Learn parametrizada\n",
        "    nome_modelo - string para descrever o modelo\n",
        "    nome_dataset - string para descrever o dataset\n",
        "    pca - True aplica pca de dois componentes aos dados para visualização\n",
        "    norm - True normaliza os dados\n",
        "    Saida:\n",
        "    Um gráfico com os seguintes subplots\n",
        "        - Gráfico linha 1 coluna 1 - Visualização do Gráfico 2D dos dados data set\n",
        "        - Gráfico linha 1 coluna 2 - Visualização do Gráfico 2D dos dados data set sobreposto à superfície de decisão\n",
        "        - Gráfico linha 1 coluna 3 - Matriz de Confusão\n",
        "        - Gráfico linha 2 coluna 1 - Visualização das probabilidades geradas pelo método perdictproba das Classes de Modelos\n",
        "        - Gráfico linha 2 coluna 2 - Visualização do Gráfico 2D da superfície de decisão\n",
        "        - Gráfico linha 2 coluna 3 - Curva ROC e Apresnetação da AUC - Área Under Curve \n",
        "    '''\n",
        "    \n",
        "    #Definições iniciais\n",
        "    metrics=[] # lista de Métricas\n",
        "    cmap = 'bwr' # colormap do matplotlib\n",
        "    fig, ax = plt.subplots(2, 3, figsize=(15,10))\n",
        "    suptitle = nome_modelo\n",
        "    # realizar pca se necessário\n",
        "    if pca==True:\n",
        "        pca=PCA(n_components=2)\n",
        "        pca.fit(X)\n",
        "        X = pca.transform(X)\n",
        "    # realizar normalização se necessário\n",
        "    if norm==True:\n",
        "        X = StandardScaler().fit_transform(X)\n",
        "        suptitle = nome_modelo+ ' Dados Normalizados'\n",
        "    # Definir Título do Gráfico\n",
        "    fig.suptitle(suptitle, fontsize=16)\n",
        "    # Fazer os split dos dados\n",
        "    X_train, X_test, y_train, y_test = train_test_split(X, y, test_size=test_size, random_state=42)\n",
        "    # Instanciar a Classe do Modelo\n",
        "    clf = modelo\n",
        "    # Treinamento do modelo\n",
        "    clf.fit(X_train, y_train)\n",
        "    # Calculo de Métricas\n",
        "    score = clf.score(X_test, y_test)\n",
        "    # Calculo da Superfice de Decisão do Modelo\n",
        "    h = 0.02\n",
        "    x_min, x_max = X[:, 0].min() - .5, X[:, 0].max() + .5\n",
        "    y_min, y_max = X[:, 1].min() - .5, X[:, 1].max() + .5\n",
        "    xx, yy = np.meshgrid(np.arange(x_min, x_max, h),np.arange(y_min, y_max, h))\n",
        "    if hasattr(clf, \"decision_function\"):\n",
        "        Z = clf.decision_function(np.c_[xx.ravel(), yy.ravel()])\n",
        "    else:\n",
        "        Z = clf.predict_proba(np.c_[xx.ravel(), yy.ravel()])[:, 1]\n",
        "\n",
        "    # Colocar os valores para cores dos modelos\n",
        "    Z = Z.reshape(xx.shape)\n",
        "    # Plotagem do dataset\n",
        "    ## Gráfico linha 1 coluna 1 - Visualização do Gráfico 2D dos dados data set\n",
        "    ax[0,0].scatter(X_train[:, 0], X_train[:, 1], c=y_train, cmap=cmap,edgecolors='w', s=10)\n",
        "    ax[0,0].scatter(X_test[:, 0], X_test[:, 1], c=y_test, cmap=cmap, alpha=0.6,edgecolors='w',s=10)\n",
        "    ax[0,0].set_title(nome_dataset)\n",
        "    ax[0,0].set_xlabel('X1')\n",
        "    ax[0,0].set_ylabel('X2')\n",
        "    ##- Gráfico linha 1 coluna 2 - Visualização do Gráfico 2D dos dados data set sobreposto à superfície de decisão\n",
        "    ax[0,1].contourf(xx, yy, Z, cmap=cmap, alpha=.8)\n",
        "    ax[0,1].scatter(X_train[:, 0], X_train[:, 1], c=y_train, cmap=cmap,edgecolors='w',s=10)\n",
        "    ax[0,1].scatter(X_test[:, 0], X_test[:, 1], c=y_test, cmap=cmap, alpha=0.6,edgecolors='w',s=10)\n",
        "    ax[0,1].set_title(nome_modelo+' score='+str(score))\n",
        "    ax[0,1].set_xlabel('X1')\n",
        "    ax[0,1].set_ylabel('X2')\n",
        "    \n",
        "    # previsão das probabilidades\n",
        "    y_pred = clf.fit(X_train,y_train).predict(X_test)\n",
        "    # probabilidades ordenadas\n",
        "    arr = clf.predict_proba(X)\n",
        "    P = arr[arr[:, 1].argsort()]\n",
        "    # Calculo da CURVA ROC e Métricas\n",
        "    fpr, tpr, tres = roc_curve(y_test, clf.predict_proba(X_test)[:, 1])\n",
        "    # Calulo da AUC\n",
        "    aucc = auc(fpr,tpr)\n",
        "    ##- Gráfico linha 1 coluna 3 - Matriz de Confusão\n",
        "    ax[0,2].matshow(confusion_matrix(y_test,y_pred),cmap='bwr')\n",
        "    ax[0,2].set_title('Matriz de Confusão')\n",
        "    ax[0,2].text(0, 0, confusion_matrix(y_test,y_pred)[0,0],color='w', fontsize=16, horizontalalignment='center')\n",
        "    ax[0,2].text(0, 1, confusion_matrix(y_test,y_pred)[0,1],color='w', fontsize=16, horizontalalignment='center')\n",
        "    ax[0,2].text(1, 0, confusion_matrix(y_test,y_pred)[1,0],color='w', fontsize=16, horizontalalignment='center')\n",
        "    ax[0,2].text(1, 1, confusion_matrix(y_test,y_pred)[1,1],color='w', fontsize=16, horizontalalignment='center')\n",
        "    ax[0,2].set_xticklabels(['','prev positivo','prev negativo'])\n",
        "    ax[0,2].set_yticklabels(['','real positivo','real negativo'], rotation=90, va=\"center\")\n",
        "    ## Gráfico linha 2 coluna 1 - Visualização das probabilidades geradas pelo método perdictproba das Classes de Modelos\n",
        "    ax[1,0].plot(P[:,0],'b-')\n",
        "    ax[1,0].plot(P[:,1],'r-')\n",
        "    ax[1,0].set_title(nome_modelo+' Curvas Prob.')\n",
        "    ax[1,0].set_ylabel('Prob')\n",
        "    ## - Gráfico linha 2 coluna 2 - Visualização do Gráfico 2D da superfície de decisão\n",
        "    ax[1,1].contourf(xx, yy, Z, cmap=cmap, alpha=.8)\n",
        "    ax[1,1].set_title(nome_modelo+' Superf. Dec.')\n",
        "    ax[1,1].set_xlabel('X1')\n",
        "    ax[1,1].set_ylabel('X2')\n",
        "    ## - Gráfico linha 2 coluna 3 - Curva ROC e Apresnetação da AUC - Área Under Curve\n",
        "    ax[1,2].plot(fpr,tpr,'r-')\n",
        "    ax[1,2].plot([0,1],[0,1],'b:')\n",
        "    ax[1,2].set_title('Curva ROC AUC= '+str(np.round(aucc,3)))\n",
        "    ax[1,2].set_xlabel('TFP')\n",
        "    ax[1,2].set_ylabel('TVP')\n",
        "    fig.tight_layout(pad=3.5)\n",
        "    # inserindo nome do modeo nas métricas\n",
        "    metrics.append(nome_modelo)\n",
        "    # inserindo VP nas métricas\n",
        "    metrics.append(confusion_matrix(y_test,y_pred)[0,0])\n",
        "    # inserindo VN nas métricas\n",
        "    metrics.append(confusion_matrix(y_test,y_pred)[1,1])\n",
        "    # inserindo FN nas métricas\n",
        "    metrics.append(confusion_matrix(y_test,y_pred)[0,1])\n",
        "    # inserindo FP nas métricas\n",
        "    metrics.append(confusion_matrix(y_test,y_pred)[1,0])\n",
        "    # inserindo AUC nas métricas\n",
        "    metrics.append(auc(fpr,tpr))\n",
        "    fig.savefig('/content/imagens/'+nome_modelo+'.png', dpi=fig.dpi)\n",
        "\n",
        "    return metrics"
      ],
      "id": "z84_yz1qGhwV"
    },
    {
      "cell_type": "markdown",
      "source": [
        "## Visualização dos Resultados da Etapa 3\n",
        "\n",
        "Como a execução dos códigos desta etapa pode ser um longa apresnetam- seus resultado e comentários antes do código, assim pode optar por apenas entender o processo de execução e visalizar o que foi obtido ser ter de aguardar a execução ou então executando o ajuste de modelo desejado.\n",
        "\n",
        "\n",
        "\n",
        "### **Etapa 3A - Decision Trees.**\n",
        "Usando a função `grafico_classificador` para este modelo obteve-se a seguinte visualização:\n",
        "[Veja neste link](https://github.com/DeepFluxion/F1rst/blob/main/images/Decision%20Trees.png)\n",
        "### **Etapa 3B - SVC Linear.**\n",
        "Usando a função `grafico_classificador` para este modelo obteve-se a seguinte visualização:\n",
        "[Veja neste link](https://github.com/DeepFluxion/F1rst/blob/main/images/SVC%20Linear.png)\n",
        "### **Etapa 3C - SVC RBF.**\n",
        "Usando a função `grafico_classificador` para este modelo obteve-se a seguinte visualização:\n",
        "[Veja neste link](https://github.com/DeepFluxion/F1rst/blob/main/images/SVC%20RBF.png)\n",
        "### **Etapa 3D - Gaussin Naives Bayes.**\n",
        "Usando a função `grafico_classificador` para este modelo obteve-se a seguinte visualização:\n",
        "[Veja neste link](https://github.com/DeepFluxion/F1rst/blob/main/images/Gaussian%20Naives%20Bayes.png)\n",
        "\n",
        "### **Etapa 3E - KNeighborsClassifier.**\n",
        "Usando a função `grafico_classificador` para este modelo obteve-se a seguinte visualização:\n",
        "[Veja neste link](https://github.com/DeepFluxion/F1rst/blob/main/images/KNeighborsClassifier.png)\n",
        "\n",
        "### **Etapa 3F - Analise Discriminante Quadrática**\n",
        "Usando a função `grafico_classificador` para este modelo obteve-se a seguinte visualização:\n",
        "[Veja neste link](https://github.com/DeepFluxion/F1rst/blob/main/images/Analise%20Discriminante%20Quadr%C3%A1tica..png)\n",
        "\n",
        "### **Etapa 3G - Random Forrest.**\n",
        "Usando a função `grafico_classificador` para este modelo obteve-se a seguinte visualização:\n",
        "[Veja neste link](https://github.com/DeepFluxion/F1rst/blob/main/images/Random%20Forrest.png)\n",
        "\n",
        "### **Etapa 3H - Adaboost.**\n",
        "Usando a função `grafico_classificador` para este modelo obteve-se a seguinte visualização:\n",
        "[Veja neste link](https://github.com/DeepFluxion/F1rst/blob/main/images/_Adaboost.png)\n",
        "\n",
        "### **Etapa 3I - GradientBosting.**\n",
        "Usando a função `grafico_classificador` para este modelo obteve-se a seguinte visualização:\n",
        "[Veja neste link](https://github.com/DeepFluxion/F1rst/blob/main/images/GradientBosting.png)\n",
        "### **Etapa 3I - XGBoost.**\n",
        "Usando a função `grafico_classificador` para este modelo obteve-se a seguinte visualização:\n",
        "[Veja neste link](https://github.com/DeepFluxion/F1rst/blob/main/images/XGBoost.png)\n",
        "### **Etapa 3J - Histogram Based Gradient Boost**\n",
        "Usando a função `grafico_classificador` para este modelo obteve-se a seguinte visualização:\n",
        "[Veja neste link](https://github.com/DeepFluxion/F1rst/blob/main/images/Histogram%20Based%20Gradient%20Boost.png)\n"
      ],
      "metadata": {
        "id": "Mn49Ut_BIjR_"
      },
      "id": "Mn49Ut_BIjR_"
    },
    {
      "cell_type": "code",
      "execution_count": 44,
      "metadata": {
        "id": "uJ4f16H_GhwW",
        "outputId": "f50513ab-d9b5-4021-dedf-86ab45396c13",
        "colab": {
          "base_uri": "https://localhost:8080/"
        }
      },
      "outputs": [
        {
          "output_type": "stream",
          "name": "stdout",
          "text": [
            "CPU times: user 25.6 ms, sys: 2.04 ms, total: 27.7 ms\n",
            "Wall time: 26.8 ms\n"
          ]
        }
      ],
      "source": [
        "%%time\n",
        "# Carregando os dados de trans_umap_2D.csv\n",
        "df=pd.read_csv('/content/data/pre_processed/trans_umap_2D.csv', index_col=0)"
      ],
      "id": "uJ4f16H_GhwW"
    },
    {
      "cell_type": "code",
      "execution_count": 45,
      "metadata": {
        "id": "c_jirojfGhwX",
        "outputId": "0213cfc6-ff57-4e90-c2d9-d3c600a9dba9",
        "colab": {
          "base_uri": "https://localhost:8080/"
        }
      },
      "outputs": [
        {
          "output_type": "stream",
          "name": "stdout",
          "text": [
            "CPU times: user 788 µs, sys: 0 ns, total: 788 µs\n",
            "Wall time: 764 µs\n"
          ]
        }
      ],
      "source": [
        "%%time\n",
        "# Criando as arrays a partir de trans_umap_2D.csv\n",
        "X = df.iloc[:,:2].values\n",
        "y = df.isFraud.values"
      ],
      "id": "c_jirojfGhwX"
    },
    {
      "cell_type": "code",
      "execution_count": 46,
      "metadata": {
        "id": "IT8rayW9GhwX"
      },
      "outputs": [],
      "source": [
        "modelos = (('Decision Trees', DecisionTreeClassifier(max_depth=7)),\n",
        "          ('SVC Linear',SVC(kernel=\"linear\", C=1.0, probability=True)),\n",
        "          ('SVC RBF',SVC(kernel=\"rbf\",gamma=0.05, C=1.0, probability=True)),\n",
        "          ('Gaussian Naives Bayes',GaussianNB()),\n",
        "          ('MLP Classifier',MLPClassifier(hidden_layer_sizes=(200,),alpha=0.0001,learning_rate_init=0.001,max_iter=100000)),\n",
        "          ('KNeighborsClassifier',KNeighborsClassifier(n_neighbors=70)),\n",
        "          ('Analise Discriminante Quadrática.',QuadraticDiscriminantAnalysis()),\n",
        "          ('Random Forrest',RandomForestClassifier(n_estimators=1500, max_depth=15)),\n",
        "          (' Adaboost',AdaBoostClassifier(n_estimators=1500)),\n",
        "          ('GradientBosting',GradientBoostingClassifier(n_estimators=1500, max_depth=11)),\n",
        "          ('XGBoost',XGBClassifier(n_estimators=1000, max_depth=11, random_state=42)),\n",
        "          (\"Histogram Based Gradient Boost\",HistGradientBoostingClassifier(max_iter=1000, learning_rate=0.01)))"
      ],
      "id": "IT8rayW9GhwX"
    },
    {
      "cell_type": "code",
      "execution_count": 47,
      "metadata": {
        "id": "NAO1pzx3GhwX"
      },
      "outputs": [],
      "source": [
        "mmetrics=[]"
      ],
      "id": "NAO1pzx3GhwX"
    },
    {
      "cell_type": "code",
      "execution_count": 48,
      "metadata": {
        "id": "v2tF0c87GhwX",
        "colab": {
          "base_uri": "https://localhost:8080/",
          "height": 499
        },
        "outputId": "2c54d073-6500-4b39-8330-c525f047932f"
      },
      "outputs": [
        {
          "output_type": "stream",
          "name": "stdout",
          "text": [
            "CPU times: user 2.9 s, sys: 567 ms, total: 3.47 s\n",
            "Wall time: 2.86 s\n"
          ]
        },
        {
          "output_type": "display_data",
          "data": {
            "text/plain": [
              "<Figure size 1080x720 with 6 Axes>"
            ],
            "image/png": "[encoded data removed]"
          },
          "metadata": {
            "needs_background": "light"
          }
        }
      ],
      "source": [
        "%%time\n",
        "n = 0\n",
        "metrics = grafico_classificador(X, y, test_size=0.4, modelo=modelos[n][1], \n",
        "                                             nome_modelo=modelos[n][0], \n",
        "                                             nome_dataset='IEEE Fraud Detection', \n",
        "                                             pca=False, norm=False)\n",
        "mmetrics.append(metrics)"
      ],
      "id": "v2tF0c87GhwX"
    },
    {
      "cell_type": "code",
      "execution_count": null,
      "metadata": {
        "id": "sCo7JOfdqsFz"
      },
      "outputs": [],
      "source": [
        "%%time\n",
        "n = 3\n",
        "metrics = grafico_classificador(X, y, test_size=0.4, modelo=modelos[n][1], \n",
        "                                             nome_modelo=modelos[n][0], \n",
        "                                             nome_dataset='IEEE Fraud Detection', \n",
        "                                             pca=False, norm=False)\n",
        "mmetrics.append(metrics)"
      ],
      "id": "sCo7JOfdqsFz"
    },
    {
      "cell_type": "code",
      "execution_count": null,
      "metadata": {
        "id": "1tVZTWycquO9"
      },
      "outputs": [],
      "source": [
        "%%time\n",
        "n = 4\n",
        "metrics = grafico_classificador(X, y, test_size=0.4, modelo=modelos[n][1], \n",
        "                                             nome_modelo=modelos[n][0], \n",
        "                                             nome_dataset='IEEE Fraud Detection', \n",
        "                                             pca=False, norm=False)\n",
        "mmetrics.append(metrics)"
      ],
      "id": "1tVZTWycquO9"
    },
    {
      "cell_type": "code",
      "execution_count": null,
      "metadata": {
        "id": "zWfyMI1Gqv8W"
      },
      "outputs": [],
      "source": [
        "%%time\n",
        "n = 5\n",
        "metrics = grafico_classificador(X, y, test_size=0.4, modelo=modelos[n][1], \n",
        "                                             nome_modelo=modelos[n][0], \n",
        "                                             nome_dataset='IEEE Fraud Detection', \n",
        "                                             pca=False, norm=False)\n",
        "mmetrics.append(metrics)"
      ],
      "id": "zWfyMI1Gqv8W"
    },
    {
      "cell_type": "code",
      "execution_count": null,
      "metadata": {
        "id": "fRKVtFhKqy9h"
      },
      "outputs": [],
      "source": [
        "%%time\n",
        "n = 6\n",
        "metrics = grafico_classificador(X, y, test_size=0.4, modelo=modelos[n][1], \n",
        "                                             nome_modelo=modelos[n][0], \n",
        "                                             nome_dataset='IEEE Fraud Detection', \n",
        "                                             pca=False, norm=False)\n",
        "mmetrics.append(metrics)"
      ],
      "id": "fRKVtFhKqy9h"
    },
    {
      "cell_type": "code",
      "execution_count": null,
      "metadata": {
        "id": "d9LEQ1qxq0T0"
      },
      "outputs": [],
      "source": [
        "%%time\n",
        "n = 7\n",
        "metrics = grafico_classificador(X, y, test_size=0.4, modelo=modelos[n][1], \n",
        "                                             nome_modelo=modelos[n][0], \n",
        "                                             nome_dataset='IEEE Fraud Detection', \n",
        "                                             pca=False, norm=False)\n",
        "mmetrics.append(metrics)"
      ],
      "id": "d9LEQ1qxq0T0"
    },
    {
      "cell_type": "code",
      "execution_count": null,
      "metadata": {
        "id": "wjI2M2Knq1Sn"
      },
      "outputs": [],
      "source": [
        "%%time\n",
        "n = 8\n",
        "metrics = grafico_classificador(X, y, test_size=0.4, modelo=modelos[n][1], \n",
        "                                             nome_modelo=modelos[n][0], \n",
        "                                             nome_dataset='IEEE Fraud Detection', \n",
        "                                             pca=False, norm=False)\n",
        "mmetrics.append(metrics)"
      ],
      "id": "wjI2M2Knq1Sn"
    },
    {
      "cell_type": "code",
      "execution_count": null,
      "metadata": {
        "id": "NaiHLvv9q2hL"
      },
      "outputs": [],
      "source": [
        "%%time\n",
        "n = 9\n",
        "metrics = grafico_classificador(X, y, test_size=0.4, modelo=modelos[n][1], \n",
        "                                             nome_modelo=modelos[n][0], \n",
        "                                             nome_dataset='IEEE Fraud Detection', \n",
        "                                             pca=False, norm=False)\n",
        "mmetrics.append(metrics)"
      ],
      "id": "NaiHLvv9q2hL"
    },
    {
      "cell_type": "code",
      "execution_count": null,
      "metadata": {
        "id": "o6nEFVOwq3dL"
      },
      "outputs": [],
      "source": [
        "%%time\n",
        "n = 10\n",
        "metrics = grafico_classificador(X, y, test_size=0.4, modelo=modelos[n][1], \n",
        "                                             nome_modelo=modelos[n][0], \n",
        "                                             nome_dataset='IEEE Fraud Detection', \n",
        "                                             pca=False, norm=False)\n",
        "mmetrics.append(metrics)"
      ],
      "id": "o6nEFVOwq3dL"
    },
    {
      "cell_type": "code",
      "execution_count": null,
      "metadata": {
        "id": "za6N2Skbq5La"
      },
      "outputs": [],
      "source": [
        "%%time\n",
        "n = 11\n",
        "metrics = grafico_classificador(X, y, test_size=0.4, modelo=modelos[n][1], \n",
        "                                             nome_modelo=modelos[n][0], \n",
        "                                             nome_dataset='IEEE Fraud Detection', \n",
        "                                             pca=False, norm=False)\n",
        "mmetrics.append(metrics)"
      ],
      "id": "za6N2Skbq5La"
    },
    {
      "cell_type": "code",
      "execution_count": null,
      "metadata": {
        "id": "0zgQzG9tGhwY"
      },
      "outputs": [],
      "source": [
        "mmetrics"
      ],
      "id": "0zgQzG9tGhwY"
    },
    {
      "cell_type": "code",
      "source": [
        "cols =  ['nome_model','VP','VN','FN','FP','AUC']"
      ],
      "metadata": {
        "id": "vaA9sPAGJ_mp"
      },
      "id": "vaA9sPAGJ_mp",
      "execution_count": null,
      "outputs": []
    },
    {
      "cell_type": "code",
      "source": [
        "mmt = pd.DataFrame(mmetrics, columns=cols)\n",
        "mmt.set_index('nome_model',inplace=True)"
      ],
      "metadata": {
        "id": "rcYzqtdgKGEz"
      },
      "id": "rcYzqtdgKGEz",
      "execution_count": null,
      "outputs": []
    },
    {
      "cell_type": "markdown",
      "source": [
        "## Etapa 4 -Análise dos resultados da Pré Modelagem e Seleção dos Modelos\n",
        "\n",
        "Nesta eta o objetivo é selecionar os melhores modelos com base nas métricas obtidas\n",
        ">- Etapa 4A - Matriz de Confusão: Os valores encontados na matriz de confusão são usados para avalias os modelos\n",
        "> - Etapa 4B - Curva ROC: A área sobre acurva ROC é usada para avliar o modelo.\n",
        "> - Etapa 4C - Métricas de Desempenho - As medidas de desempenho do modelo erro total, erro na  lasse positiva, erro na classe negativa, sensibilida, precisão, especificidade e a mética F1 são usadas para avliar os modelos."
      ],
      "metadata": {
        "id": "nQqr4Ej5QU8E"
      },
      "id": "nQqr4Ej5QU8E"
    },
    {
      "cell_type": "markdown",
      "source": [
        "### Etapa 4A - Matriz de Confusão: Os valores encontados na matriz de confusão são usados para avalias os modelos esses valores são:\n",
        "  - VP - Registros que _não são_ Fraudes que foram classificados corretamente pelo modelo\n",
        "  - FP - Registros que _não são_ Fraudes que foram classificados incorretamente pelo modelo\n",
        "  - VN - Registros que _são_ Fraudes que foram classificados corretamente pelo modelo\n",
        "  - FN - Registros que _são_ Fraudes que foram classificados incorretamente pelo modelo"
      ],
      "metadata": {
        "id": "ZelXx6IvRlKH"
      },
      "id": "ZelXx6IvRlKH"
    },
    {
      "cell_type": "code",
      "source": [
        "mmt['VP'].sort_values(ascending=False) # Verificando a VP dos modelos quanto maior melhor"
      ],
      "metadata": {
        "id": "7bcky8enS9Tg"
      },
      "id": "7bcky8enS9Tg",
      "execution_count": null,
      "outputs": []
    },
    {
      "cell_type": "code",
      "source": [
        "mmt['FP'].sort_values(ascending=True) # Verificando a FP dos modelos quanto menor melhor"
      ],
      "metadata": {
        "id": "AfCm_A7vTk5d"
      },
      "id": "AfCm_A7vTk5d",
      "execution_count": null,
      "outputs": []
    },
    {
      "cell_type": "code",
      "source": [
        "mmt['VN'].sort_values(ascending=False) # Verificando a VN dos modelos quanto maior melhor"
      ],
      "metadata": {
        "id": "d4ThR5dsT5k9"
      },
      "id": "d4ThR5dsT5k9",
      "execution_count": null,
      "outputs": []
    },
    {
      "cell_type": "code",
      "source": [
        "mmt['FN'].sort_values(ascending=True) # Verificando a FN dos modelos quanto menor melhor"
      ],
      "metadata": {
        "id": "-ZFjtWY1UMrZ"
      },
      "id": "-ZFjtWY1UMrZ",
      "execution_count": null,
      "outputs": []
    },
    {
      "cell_type": "markdown",
      "source": [
        "### Resumo Fase 4A\n",
        "\n",
        "- Os algoritmos **Naives Bayes, ADQ, SVC Linear** devem ser descartados pois simplesmente não conseguem encontrar exemplos negativos\n",
        "- Os algoritmos **XGBoost, Random Forrest, Gradient Boosting e HBG Boosting** foram os melhores em encontrar Exemplos Negativos \n",
        "- Também devem ser considerados os **SVC RBF, Decision Trees e Adaboost** mas seu desempenho não está entre os melhores\n",
        "\n",
        "> Considera-se que hierarquia de indicadores dos valores da Matriz de Confusão é:\n",
        "> 1. VN - Capacidade de encontrar Fraudes (quanto amior melhor)\n",
        "> 2. FP - Capacidade de não confundir Fraudes com transações genuínas (quanto menor melhor)\n",
        "> 3. FN - Capacidade de não confundir  transações genuínas com Fraudes (quanto menor melhor)"
      ],
      "metadata": {
        "id": "Ck9HeY5NUd9C"
      },
      "id": "Ck9HeY5NUd9C"
    },
    {
      "cell_type": "markdown",
      "source": [
        "## Etapa 4B - Curva ROC\n",
        "\n",
        "A área sobre acurva ROC é usada para avaliar o modelo. A curva ROC apresenta o desempnho do modelo considerando a **relação entre a Taxa de Verdadeiros Positivos (TVP) e a de Verdadeiros Negativos (TVN)** O fator que permite comparar é a área sobre a curav ou AUC (Area Under Curve) que é a integral da curva ROC."
      ],
      "metadata": {
        "id": "inVBfTAzX-ZY"
      },
      "id": "inVBfTAzX-ZY"
    },
    {
      "cell_type": "code",
      "source": [
        "mmt['AUC'].sort_values(ascending=False) # Verificando a AUC dos modelos quanto maior melhor"
      ],
      "metadata": {
        "id": "Mx-9bHpbYeKT"
      },
      "id": "Mx-9bHpbYeKT",
      "execution_count": null,
      "outputs": []
    },
    {
      "cell_type": "markdown",
      "source": [
        "### Resumo Etapa 4B\n",
        "\n",
        "Com base no elementos até agora apurados Serão analisados os seguintes algoritmos **Random Forrest, Histogram Based Gradiente Boost, Gradiente Boosting e XGBoost**"
      ],
      "metadata": {
        "id": "_n4UKcALZo4K"
      },
      "id": "_n4UKcALZo4K"
    },
    {
      "cell_type": "markdown",
      "source": [
        "## Etapa 4C - Métricas de Desempenho\n",
        "\n",
        "As medidas de desempenho do modelo **erro total, erro na classe positiva, erro na classe negativa, sensibilida, precisão, especificidade e a mética F1** são usadas para avliar os modelos.\n",
        "\n",
        "Medidas de Erro nos Classificadores\n",
        "\n",
        "- Taxa de Erro na Classe Positiva  $erro_{+} = \\frac{FN}{VP + FN}$\n",
        "\n",
        "- Taxa de Erro na Classe Negativa  $erro_{-} = \\frac{FP}{FP + VN}$\n",
        "\n",
        "- Taxa de Erro na total  $erro = \\frac{FP+ FN}{N}$\n",
        "\n",
        "- Precisão é a proporção de exemplos positivos previstos corretamente entre os previstos como positivo pelo modelo  $prec = \\frac{VP}{VP + FP}$\n",
        "\n",
        "- Sensibilidade ou Revocação (TVP) é a taxa de acerto na classe positiva  $sens = \\frac{VP}{VP + FN}$\n",
        "\n",
        "- Especificidade (TVP) é a taxa de acerto na classe negativa  $sens = \\frac{VN}{VN + FP}$\n",
        "\n",
        "- Medida F1 é a harmônica entre Precisão e Sensibilidade   $F_{1} = \\frac{2 \\times sens \\times prec}{sens + prec}$\n"
      ],
      "metadata": {
        "id": "2qCBZNh_Kw0i"
      },
      "id": "2qCBZNh_Kw0i"
    },
    {
      "cell_type": "code",
      "source": [
        "mmt['erro+']= mmt['FN']/(mmt['VP']+mmt['FN'])\n",
        "mmt['erro-']= mmt['FP']/(mmt['FP']+mmt['VN'])\n",
        "mmt['erro']= (mmt['FP']+mmt['FN'])/len(y)\n",
        "mmt['prec']= mmt['VP']/(mmt['VP']+mmt['FP'])\n",
        "mmt['sens']= mmt['VP']/(mmt['VP']+mmt['FN'])\n",
        "mmt['esp']= mmt['VN']/(mmt['VN']+mmt['FP'])\n",
        "mmt['F1']=(2*mmt['sens']*mmt['prec'])/(mmt['sens']+mmt['prec'])\n",
        "mmt.sort_values(['esp','F1'], ascending=False)"
      ],
      "metadata": {
        "id": "3SLkIPNzYbTe"
      },
      "id": "3SLkIPNzYbTe",
      "execution_count": null,
      "outputs": []
    },
    {
      "cell_type": "code",
      "source": [
        "mmt.to_excel('/content/metrics/mmt.xlsx')"
      ],
      "metadata": {
        "id": "NrJn1ABqbZyM"
      },
      "id": "NrJn1ABqbZyM",
      "execution_count": null,
      "outputs": []
    },
    {
      "cell_type": "markdown",
      "source": [
        "### Resumo Etapa 4C\n",
        "\n",
        "Na Fase 4B selecionou-se os seguintes algoritmos **Random Forrest, Histogram Based Gradiente Boost, Gradiente Boosting e XGBoost**\n",
        "\n",
        "Com base na análise das medidas de desemepnho verifica-se que o melhor desempenho em identificar VNs e foram os algoritmos **Random Forrest, Gradiente Boosting e XGBoost** desta lista será eliminado o algoritmo **Gradiente Boosting** pois possui um tempo de treinamento alto, por não ser otimizado.\n",
        "> Na Fase 5 serão usados **Random Forrest e XGBoost**"
      ],
      "metadata": {
        "id": "dpeJ_wbLeNQs"
      },
      "id": "dpeJ_wbLeNQs"
    },
    {
      "cell_type": "markdown",
      "source": [
        "## Resumo da Etapa 4\n",
        "\n",
        "Nesta Etapa foi realizada a pré-modelagem empregando 12 algoritmos aos dados X_umap_2D, com apenas dois componentes. Apartir dos resultados foram empregadas diferente métricas no sentido de selecionar os melhores resultados para a modelagem com a base de dados X_umap_mult, o que permite gerar modelos mais complexos e com melhores métricas. O algoritmos selecionados foram **Random Forrests** e **XGBoost** que mostraram um desempenho superior, sobre tudo nos exemplos de transações fraudulentas minimizando falsos negativos e maximizando verdadeiros negativos.\n",
        "\n"
      ],
      "metadata": {
        "id": "TU1a_GDUWYuO"
      },
      "id": "TU1a_GDUWYuO"
    },
    {
      "cell_type": "code",
      "source": [
        "del df\n",
        "gc.collect()"
      ],
      "metadata": {
        "id": "AlJQEdIMhqJa"
      },
      "id": "AlJQEdIMhqJa",
      "execution_count": null,
      "outputs": []
    },
    {
      "cell_type": "markdown",
      "source": [
        "## Etapa 5 -Modelagem com os Algoritmos Selecionados e Análise de Resultados.\n",
        "\n",
        "Nesta etapa será feita a modelgaem final, empregando os algoritmos **Random Forrest** e **XGBoost** selecionados na Etapa 4. O Fluxo do trabalho é praticamente o mesmo da Etapa 4. Os algoritmos são treinados e testados, agora com uma base diferente e as métricas coletadas para avaliação.\n",
        "Após a fase de teste os modelos saõ armazenados usando a biblioteca `joblib`, deste modo já se tem um modelo treinado sempre disponível para usar no desenvolvimento de aplicações de produção.\n",
        "Por questões de tempo _não_ se usou a **validação cruzada** e o **ajuste de hiperparâmetros**, o que poderia melhorar ainda mais estes resultados. Portanto os parâmetros usados forma os mesmos da Etapa 4.  \n",
        "\n",
        "- Etapa 5A - Random Forrest.\n",
        "- Etapa 5B - XGBoost."
      ],
      "metadata": {
        "id": "5W_0SK4SZ5AU"
      },
      "id": "5W_0SK4SZ5AU"
    },
    {
      "cell_type": "code",
      "source": [
        "%%time\n",
        "## caregamento dos dados de trans_umap_multi.csv\n",
        "df=pd.read_csv(os.path.join(os.getcwd(),'data','pre_processed','trans_umap_multi.csv'), index_col=0)"
      ],
      "metadata": {
        "id": "A9vkxOcNba2B"
      },
      "id": "A9vkxOcNba2B",
      "execution_count": null,
      "outputs": []
    },
    {
      "cell_type": "code",
      "source": [
        "df.shape"
      ],
      "metadata": {
        "id": "qW9e2Isyh2yH"
      },
      "id": "qW9e2Isyh2yH",
      "execution_count": null,
      "outputs": []
    },
    {
      "cell_type": "code",
      "source": [
        "# criação das arrays de atributos X e e alvo y\n",
        "X = df.iloc[:,:-1 ].values\n",
        "y = df.iloc[:,-1]"
      ],
      "metadata": {
        "id": "Idy3EJeQh3eP"
      },
      "id": "Idy3EJeQh3eP",
      "execution_count": null,
      "outputs": []
    },
    {
      "cell_type": "code",
      "source": [
        "# verificando o % de transações fraudulentas\n",
        "y.sum()/y.shape[0]"
      ],
      "metadata": {
        "id": "UQJnTjdhiNV-"
      },
      "id": "UQJnTjdhiNV-",
      "execution_count": null,
      "outputs": []
    },
    {
      "cell_type": "code",
      "source": [
        "# Split dos dados para treinamento e teste \n",
        "X_train, X_test, y_train, y_test = train_test_split(X, y, test_size=0.4, random_state=42)"
      ],
      "metadata": {
        "id": "TxyoYlOcifEe"
      },
      "id": "TxyoYlOcifEe",
      "execution_count": null,
      "outputs": []
    },
    {
      "cell_type": "code",
      "source": [
        "%%time\n",
        "# treinamento da Random Forrest\n",
        "clf1 = RandomForestClassifier(n_estimators=1500, \n",
        "                             max_depth=15,\n",
        "                             min_samples_split=2, random_state=0)\n",
        "clf1 = clf1.fit(X_train, y_train)"
      ],
      "metadata": {
        "id": "NLHWTXtvitmY"
      },
      "id": "NLHWTXtvitmY",
      "execution_count": null,
      "outputs": []
    },
    {
      "cell_type": "code",
      "source": [
        "# Predições da Matriz de Atributos para teste\n",
        "y_pred_rf = clf1.predict(X_test)"
      ],
      "metadata": {
        "id": "6MGJwuXXi_2m"
      },
      "id": "6MGJwuXXi_2m",
      "execution_count": null,
      "outputs": []
    },
    {
      "cell_type": "code",
      "source": [
        "# Matriz de confusão RF\n",
        "CM1 = confusion_matrix(y_true=y_test,y_pred=y_pred_rf)\n",
        "CM1"
      ],
      "metadata": {
        "id": "JYakIdZdkP0y"
      },
      "id": "JYakIdZdkP0y",
      "execution_count": null,
      "outputs": []
    },
    {
      "cell_type": "code",
      "source": [
        "# Criação de uma lista com VP, VN, FP e FN de RF\n",
        "cols_CM = ['VP','VN', 'FP', 'FN']\n",
        "metrics_RF = [CM1[0,0], CM1[1,1], CM1[1,0],CM1[0,1]]"
      ],
      "metadata": {
        "id": "xB4cgbvXki-m"
      },
      "id": "xB4cgbvXki-m",
      "execution_count": null,
      "outputs": []
    },
    {
      "cell_type": "code",
      "source": [
        "# Armazanado o modelo RF com joblib\n",
        "from joblib import dump, load\n",
        "dump(clf1, '/content/models/random_forrest.joblib')"
      ],
      "metadata": {
        "id": "0cPV76RJlL5R"
      },
      "id": "0cPV76RJlL5R",
      "execution_count": null,
      "outputs": []
    },
    {
      "cell_type": "code",
      "source": [
        "%%time\n",
        "\n",
        "# treinamento do modelo XG\n",
        "clf2 = XGBClassifier(n_estimators=1000, \n",
        "                    max_depth=11, \n",
        "                    random_state=42)\n",
        "clf2 = clf2.fit(X_train, y_train)"
      ],
      "metadata": {
        "id": "uoznSytMnHZ4"
      },
      "id": "uoznSytMnHZ4",
      "execution_count": null,
      "outputs": []
    },
    {
      "cell_type": "code",
      "source": [
        "# Predição Matriz de Atributos de Teste\n",
        "y_pred_xg = clf2.predict(X_test)"
      ],
      "metadata": {
        "id": "ko2hc-ybnVeL"
      },
      "id": "ko2hc-ybnVeL",
      "execution_count": null,
      "outputs": []
    },
    {
      "cell_type": "code",
      "source": [
        "# criação da Matriz de Confusão XG\n",
        "CM2 = confusion_matrix(y_true=y_test,y_pred=y_pred_xg)\n",
        "CM2"
      ],
      "metadata": {
        "id": "yJJ-SdbenctJ"
      },
      "id": "yJJ-SdbenctJ",
      "execution_count": null,
      "outputs": []
    },
    {
      "cell_type": "code",
      "source": [
        "# Criação de uma lista com VP, VN, FP e FN de XG \n",
        "metrics_XG = [CM2[0,0], CM2[1,1], CM2[1,0],CM2[0,1]]"
      ],
      "metadata": {
        "id": "6wIcZfWBn5Ri"
      },
      "id": "6wIcZfWBn5Ri",
      "execution_count": null,
      "outputs": []
    },
    {
      "cell_type": "code",
      "source": [
        "# Criação do Datafrme com Metricas as Métricas da Matriz de Confusão \n",
        "mmt_etapa5 = pd.DataFrame([metrics_RF,metrics_XG], index = ['RF','XG'], columns=cols_CM)"
      ],
      "metadata": {
        "id": "I4H3SwwooDjC"
      },
      "id": "I4H3SwwooDjC",
      "execution_count": null,
      "outputs": []
    },
    {
      "cell_type": "code",
      "source": [
        "# Calculo da Métricas de Desempenho\n",
        "mmt_etapa5['N'] = X_test.shape[0]\n",
        "mmt_etapa5['erro+']= mmt_etapa5['FN']/(mmt_etapa5['VP']+mmt_etapa5['FN'])\n",
        "mmt_etapa5['erro-']= mmt_etapa5['FP']/(mmt_etapa5['FP']+mmt_etapa5['VN'])\n",
        "mmt_etapa5['erro']= (mmt_etapa5['FP']+mmt_etapa5['FN'])/len(y)\n",
        "mmt_etapa5['prec']= mmt_etapa5['VP']/(mmt_etapa5['VP']+mmt_etapa5['FP'])\n",
        "mmt_etapa5['sens']= mmt_etapa5['VP']/(mmt_etapa5['VP']+mmt_etapa5['FN'])\n",
        "mmt_etapa5['esp']= mmt_etapa5['VN']/(mmt_etapa5['VN']+mmt_etapa5['FP'])\n",
        "mmt_etapa5['F1']=(2*mmt_etapa5['sens']*mmt_etapa5['prec'])/(mmt_etapa5['sens']+mmt_etapa5['prec'])"
      ],
      "metadata": {
        "id": "kwpzVMbFsIKC"
      },
      "id": "kwpzVMbFsIKC",
      "execution_count": null,
      "outputs": []
    },
    {
      "cell_type": "code",
      "source": [
        "# Salvando o modelo com o pacote joblib\n",
        "from joblib import dump, load\n",
        "dump(clf2, '/content/models/xgboost.joblib')"
      ],
      "metadata": {
        "id": "SJvhDHydp5l8"
      },
      "id": "SJvhDHydp5l8",
      "execution_count": null,
      "outputs": []
    },
    {
      "cell_type": "code",
      "source": [
        "mmt_etapa5.to_excel('/content/metrics/mmt_etapa5.xlsx')"
      ],
      "metadata": {
        "id": "5GbGM7OAtH6N"
      },
      "id": "5GbGM7OAtH6N",
      "execution_count": null,
      "outputs": []
    },
    {
      "cell_type": "code",
      "source": [
        "mmt_etapa5"
      ],
      "metadata": {
        "id": "9A_bLVobjThr"
      },
      "id": "9A_bLVobjThr",
      "execution_count": null,
      "outputs": []
    },
    {
      "cell_type": "markdown",
      "source": [
        "## Comentários e resumo da Etapa 5\n",
        "\n",
        "Os resultados finais mostram que ambos os modelos conseguiram valores muito similares, mas vale destacar:\n",
        "\n",
        "- Ramdom Forrest mostra-se menos eficiente em identificar Verdadeiros Negativos mas erra menos ao classificar transações genuídas como negativas ou seja é mais **indulgente** em seu julgamento e possui uma **$sensibilidade$** maior.\n",
        "- XG é mais eficiente em identificar Verdadeiros Negativos, mas também identifica mais Falsos negativos o que impacta em mais transações genuínas bloqueadas, ou seja é mais **severo** no seu julgamento e possui uma **$especifidade maior$**\n",
        "> ### **Numa visão de negócio seria possível otimizar o retorno do produto de dados empregando ambos os modelos, mas dando um peso maior à previsão de _XGBoost_ nas transações de _maior valor_ e de _Random Forrest_ nas transações de menor valor, onde o impacto de bloqueios é menor.**"
      ],
      "metadata": {
        "id": "9qXnN8ShjSe1"
      },
      "id": "9qXnN8ShjSe1"
    },
    {
      "cell_type": "markdown",
      "source": [
        "## Etapa 6 -Análises Adicionais.\n",
        "Nesta Etapa foram feitas análises adicionais que parecem pertnentes ao caso estudado  são elas:\n",
        "### Etapa 6A - Calibração de Probabilidades.\n",
        "\n",
        "De acordo com a documentação do `scikit_learn`:\n",
        "\n",
        "> Ao realizar a classificação, muitas vezes você deseja não apenas prever o rótulo da classe, mas também obter uma probabilidade do respectivo rótulo. Essa probabilidade lhe dá algum tipo de confiança na previsão. Alguns modelos podem fornecer estimativas ruins das probabilidades de classe e alguns até não suportam previsão de probabilidade (por exemplo, algumas instâncias de SGDClassifier). O módulo de calibração permite calibrar melhor as probabilidades de um determinado modelo ou adicionar suporte para previsão de probabilidade.[Scikit Learn](https://scikit-learn.org/stable/modules/calibration.html)\n",
        "\n",
        "> Classificadores bem calibrados são classificadores probabilísticos para os quais a saída do método predict_proba pode ser interpretada diretamente como um nível de confiança. Por exemplo, um classificador (binário) bem calibrado deve classificar as amostras de tal forma que entre as amostras para as quais deu um valor predict_proba próximo a 0,8, aproximadamente 80% realmente pertencem à classe positiva.[Scikit Learn](https://scikit-learn.org/stable/modules/calibration.html)\n",
        "\n",
        "Ainda que não tenha sido possível fazer uma análise completa deste tipo de teste, ele pode ser importante, aidna que nem seja tão discutido nas comunidade de data Science.\n",
        "\n",
        "Mesmo com essas limitações o case apresnetado n a documentação do `scikit_learn` foi adaptado para a presente situação, a fim de uma primeira análise ainda que um tanto superficial. \n",
        "\n",
        "\n",
        "### Etapa 6B - Matriz de Custos.\n",
        "\n",
        "De acordo com [Reproducible Machine Learning for Credit Card Fraud Detection - Practical Handbook (2022)](https://fraud-detection-handbook.github.io/fraud-detection-handbook/Chapter_4_PerformanceMetrics/ThresholdBased.html#cost-matrix-and-weigthed-loss) \n",
        "\n",
        "> Matriz de custos\n",
        "> Um problema de detecção de fraude é, por natureza, um problema sensível ao custo: perder uma transação fraudulenta geralmente é considerado mais caro do que gerar um alerta falso em uma transação legítima. No primeiro caso, as perdas não incluem apenas o valor da transação fraudulenta.[link para fonte](https://fraud-detection-handbook.github.io/fraud-detection-handbook/Chapter_4_PerformanceMetrics/ThresholdBased.html#cost-matrix-and-weigthed-loss)\n",
        "\n",
        "> Eles também incluem outras transações fraudulentas que podem ser realizadas usando o cartão comprometido, bem como os custos de atendimento ao cliente relacionados ao tratamento posterior do problema e a reputação da empresa como um todo. Neste último caso, o custo é reduzido para verificar a legitimidade da transação com o cliente.[link para fonte](https://fraud-detection-handbook.github.io/fraud-detection-handbook/Chapter_4_PerformanceMetrics/ThresholdBased.html#cost-matrix-and-weigthed-loss)\n",
        "\n",
        "> Em caso de detecção em tempo real, também acarreta ao cliente inconveniente relacionado ao bloqueio de seu pagamento legítimo.[link para fonte](https://fraud-detection-handbook.github.io/fraud-detection-handbook/Chapter_4_PerformanceMetrics/ThresholdBased.html#cost-matrix-and-weigthed-loss)\n",
        "\n",
        "> Uma abordagem possível para corrigir o problema apresentado acima é definir uma matriz de custos. A matriz de custos quantifica, para cada resultado na matriz de confusão, um custo associado. É uma matriz 2 * 2, cujas entradas são denotadas seguindo as notações da figura abaixo. [link para fonte](https://fraud-detection-handbook.github.io/fraud-detection-handbook/Chapter_4_PerformanceMetrics/ThresholdBased.html#cost-matrix-and-weigthed-loss)\n",
        "\n",
        "![](https://fraud-detection-handbook.github.io/fraud-detection-handbook/_images/cost_matrix.png)\n",
        "\n",
        "Foi construída uma Matriz de Custos, que possibilita uma melhor visulaização podenderam os resultado dos calssificadorea com os montantes das operações\n",
        "\n",
        "### Etapa 6C - Matriz de Probabilidades Impacto.\n",
        "\n",
        "Uma matriz de probabilidade e imapcto pssibilta visualizar todo o portfólio de transações pelo seu impacto ou seja o `transactionAmt`e o risco represnetado pela probabilidade estimada pelos classificadores."
      ],
      "metadata": {
        "id": "0kjC6BjKm1eX"
      },
      "id": "0kjC6BjKm1eX"
    },
    {
      "cell_type": "markdown",
      "source": [
        "## Etapa 6A - Calibração de Probabilidades."
      ],
      "metadata": {
        "id": "IqKvfnFvwvTM"
      },
      "id": "IqKvfnFvwvTM"
    },
    {
      "cell_type": "code",
      "source": [
        "from matplotlib.gridspec import GridSpec\n",
        "\n",
        "from sklearn.calibration import CalibratedClassifierCV, CalibrationDisplay\n",
        "\n",
        "rf = RandomForestClassifier(n_estimators=1500, \n",
        "                            max_depth=15,\n",
        "                            min_samples_split=2, random_state=0)\n",
        "\n",
        "xg = XGBClassifier(n_estimators=1000, \n",
        "                    max_depth=11, \n",
        "                    random_state=42)\n",
        "\n",
        "clf_list = [\n",
        "    (rf, \"Random Forrest\"),\n",
        "    (xg, \"XGBoost\"),\n",
        "]"
      ],
      "metadata": {
        "id": "HKZ4-LQGtJ7l"
      },
      "id": "HKZ4-LQGtJ7l",
      "execution_count": null,
      "outputs": []
    },
    {
      "cell_type": "code",
      "source": [
        "fig = plt.figure(figsize=(10, 10))\n",
        "gs = GridSpec(4, 2)\n",
        "colors = plt.cm.get_cmap(\"Dark2\")\n",
        "\n",
        "ax_calibration_curve = fig.add_subplot(gs[:2, :2])\n",
        "calibration_displays = {}\n",
        "for i, (clf, name) in enumerate(clf_list):\n",
        "    clf.fit(X_train, y_train)\n",
        "    display = CalibrationDisplay.from_estimator(\n",
        "        clf,\n",
        "        X_test,\n",
        "        y_test,\n",
        "        n_bins=10,\n",
        "        name=name,\n",
        "        ax=ax_calibration_curve,\n",
        "        color=colors(i),\n",
        "    )\n",
        "    calibration_displays[name] = display\n",
        "\n",
        "ax_calibration_curve.grid()\n",
        "ax_calibration_curve.set_title(\"Curvas de Calibração\")\n",
        "\n",
        "# Add histogram\n",
        "grid_positions = [(2, 0), (2, 1), (3, 0), (3, 1)]\n",
        "for i, (_, name) in enumerate(clf_list):\n",
        "    row, col = grid_positions[i]\n",
        "    ax = fig.add_subplot(gs[row, col])\n",
        "\n",
        "    ax.hist(\n",
        "        calibration_displays[name].y_prob,\n",
        "        range=(0, 1),\n",
        "        bins=10,\n",
        "        label=name,\n",
        "        color=colors(i),\n",
        "    )\n",
        "    ax.set(title=name, xlabel=\"Probabilidade Média Predita\", ylabel=\"Contagem\")\n",
        "\n",
        "plt.tight_layout()\n",
        "plt.show()"
      ],
      "metadata": {
        "id": "uJEQJvSStrMS"
      },
      "id": "uJEQJvSStrMS",
      "execution_count": null,
      "outputs": []
    },
    {
      "cell_type": "code",
      "source": [
        "fig.savefig('/content/imagens/prob_calb.png', dpi=fig.dpi)"
      ],
      "metadata": {
        "id": "cSYAc8FQt8IG"
      },
      "id": "cSYAc8FQt8IG",
      "execution_count": null,
      "outputs": []
    },
    {
      "cell_type": "markdown",
      "source": [
        "### Etapa 6B - Matriz de Custo."
      ],
      "metadata": {
        "id": "jkLr3ufdw0Jk"
      },
      "id": "jkLr3ufdw0Jk"
    },
    {
      "cell_type": "code",
      "source": [
        "def matriz_custos(df, model_pred= 'rf_pred' ):\n",
        "  #  \n",
        "  C00 = df.loc[(df['isFraud']==0)&(df[model_pred]==0),'TransactionAmt'].sum()\n",
        "  C11 = df.loc[(df['isFraud']==1)&(df[model_pred]==1),'TransactionAmt'].sum()\n",
        "  C01 = df.loc[(df['isFraud']==0)&(df[model_pred]==1),'TransactionAmt'].sum()\n",
        "  C10 = df.loc[(df['isFraud']==1)&(df[model_pred]==0),'TransactionAmt'].sum()\n",
        "  cost_matrix = pd.DataFrame([[C00,C01],[C10,C11]], index = ['real genuíno','real fraude'], columns = ['pred genuíno','pred Fraud'])/df['TransactionAmt'].sum()\n",
        "  return cost_matrix"
      ],
      "metadata": {
        "id": "xXUFpKtKDA30"
      },
      "id": "xXUFpKtKDA30",
      "execution_count": null,
      "outputs": []
    },
    {
      "cell_type": "code",
      "source": [
        "# Carregando os modelos com a função load do pacote joblib\n",
        "xg= load('/content/models/xgboost.joblib')\n",
        "rf = load('/content/models/random_forrest.joblib')\n",
        "# Fazendo as predições com os atributos de X_umap_mult\n",
        "y_rf_pred = rf.predict(X_umap_mult)\n",
        "y_xg_pred = xg.predict(X_umap_mult)\n",
        "# Fazendo as predições de probabilidade com os atributos de X_umap_mult\n",
        "y_rf_prob = rf.predict_proba(X_umap_mult)[:,1]\n",
        "y_xg_prob = xg.predict_proba(X_umap_mult)[:,1]\n",
        "# Agregando tudo em X1\n",
        "X1['rf_pred'] = y_rf_pred\n",
        "X1['xg_pred'] = y_xg_pred\n",
        "X1['rf_prob'] = y_rf_prob\n",
        "X1['xg_prob'] = y_xg_prob\n",
        "# Visualinado os resultados\n",
        "X1.head()"
      ],
      "metadata": {
        "id": "iX6FABxn0MZA"
      },
      "id": "iX6FABxn0MZA",
      "execution_count": null,
      "outputs": []
    },
    {
      "cell_type": "code",
      "source": [
        "matriz_custos(df=X1, 'rf_pred')"
      ],
      "metadata": {
        "id": "NKmBZLC7Euh2"
      },
      "id": "NKmBZLC7Euh2",
      "execution_count": null,
      "outputs": []
    },
    {
      "cell_type": "markdown",
      "source": [
        "Assim dos $ 6.967.860,69 em transações o classificador RF distribui da seguinte forma:\n",
        "- 96,35% do montante das transações genuínas foi processado\n",
        "- 1,33% do montante das transações fraudulentas foi processado\n",
        "- 0,0% do montante das transações genuínas foi bloqueado\n",
        "- 2,32% do montante das transações fraudulentas foi bloqueado"
      ],
      "metadata": {
        "id": "vrhYEdjKzMUU"
      },
      "id": "vrhYEdjKzMUU"
    },
    {
      "cell_type": "code",
      "source": [
        "matriz_custos(X1, 'xg_pred')"
      ],
      "metadata": {
        "id": "4jENbeItzL5R"
      },
      "id": "4jENbeItzL5R",
      "execution_count": null,
      "outputs": []
    },
    {
      "cell_type": "markdown",
      "source": [
        "Assim dos $ 6.967.860,69 em transações o classificador XG distribui da seguinte forma:\n",
        "- 96,30% do montante das transações genuínas foi processado\n",
        "- 0,6% do montante das transações fraudulentas foi processado\n",
        "- 0,05% do montante das transações genuínas foi bloqueado\n",
        "- 0,03% do montante das transações fraudulentas foi bloqueado"
      ],
      "metadata": {
        "id": "EbvD-9LU6urV"
      },
      "id": "EbvD-9LU6urV"
    },
    {
      "cell_type": "markdown",
      "source": [
        "## Avaliando os resuldados do método `.predictproba()`"
      ],
      "metadata": {
        "id": "huuxyJfUzkBk"
      },
      "id": "huuxyJfUzkBk"
    },
    {
      "cell_type": "code",
      "source": [
        "plt.figure(figsize=(12,12))\n",
        "X1['isFraud'].cumsum().plot()\n",
        "X1['xg_pred'].cumsum().plot()\n",
        "X1['rf_pred'].cumsum().plot()\n",
        "X1['xg_prob'].cumsum().plot()\n",
        "X1['rf_prob'].cumsum().plot()\n",
        "plt.legend()\n",
        "plt.grid()"
      ],
      "metadata": {
        "id": "SFHXx_Jh0Kr3"
      },
      "id": "SFHXx_Jh0Kr3",
      "execution_count": null,
      "outputs": []
    },
    {
      "cell_type": "code",
      "source": [
        "# Verificando as frações da contagem de trasações fraudulentas e os somatórios das predições e das probabilidade\n",
        "print(X1['xg_pred'].sum()/X1['isFraud'].sum())\n",
        "print(X1['rf_pred'].sum()/X1['isFraud'].sum())\n",
        "print(X1['xg_prob'].sum()/X1['isFraud'].sum())\n",
        "print(X1['rf_prob'].sum()/X1['isFraud'].sum())"
      ],
      "metadata": {
        "id": "Chcez17K59ad"
      },
      "id": "Chcez17K59ad",
      "execution_count": null,
      "outputs": []
    },
    {
      "cell_type": "code",
      "source": [
        "X1.head()"
      ],
      "metadata": {
        "id": "vsHaa-JN6BHT"
      },
      "id": "vsHaa-JN6BHT",
      "execution_count": null,
      "outputs": []
    },
    {
      "cell_type": "code",
      "source": [
        "plt.figure(figsize=(8,8))\n",
        "plt.scatter(X1['rf_prob'],X1['TransactionAmt']/X1['TransactionAmt'].max(), cmap='bwr', c=X1['isFraud'], alpha=0.2)\n",
        "plt.yscale('log')\n",
        "plt.xscale('log')\n",
        "plt.ylabel('Impacto log')\n",
        "plt.xlabel('Pobabilidade log')\n",
        "plt.title('Matriz MPILogLog')\n",
        "plt.grid()\n",
        "fig.savefig('/content/imagens/MatrizMPI_RF_log', dpi=fig.dpi)"
      ],
      "metadata": {
        "id": "sBNXddrB70kf"
      },
      "id": "sBNXddrB70kf",
      "execution_count": null,
      "outputs": []
    },
    {
      "cell_type": "code",
      "source": [
        "plt.figure(figsize=(8,8))\n",
        "plt.scatter(X1['rf_prob'],X1['TransactionAmt']/X1['TransactionAmt'].max(), cmap='bwr', c=X1['isFraud'], alpha=0.2)\n",
        "#plt.yscale('log')\n",
        "#plt.xscale('log')\n",
        "plt.ylabel('Impacto')\n",
        "plt.xlabel('Pobabilidade')\n",
        "plt.title('Matriz MPI RF')\n",
        "plt.grid()\n",
        "fig.savefig('/content/imagens/MatrizMPI_RF', dpi=fig.dpi)"
      ],
      "metadata": {
        "id": "_-8oPSkY8aq7"
      },
      "execution_count": null,
      "outputs": [],
      "id": "_-8oPSkY8aq7"
    },
    {
      "cell_type": "code",
      "source": [
        "plt.figure(figsize=(8,8))\n",
        "plt.scatter(X1['xg_prob'],X1['TransactionAmt']/X1['TransactionAmt'].max(), cmap='bwr', c=X1['isFraud'], alpha=0.2)\n",
        "#plt.yscale('log')\n",
        "#plt.xscale('log')\n",
        "plt.ylabel('Impacto')\n",
        "plt.xlabel('Pobabilidade')\n",
        "plt.title('Matriz MPI XG')\n",
        "plt.grid()\n",
        "fig.savefig('/content/imagens/MatrizMPI_XG', dpi=fig.dpi)"
      ],
      "metadata": {
        "id": "sFlEVDYX8AGS"
      },
      "id": "sFlEVDYX8AGS",
      "execution_count": null,
      "outputs": []
    },
    {
      "cell_type": "code",
      "source": [
        "plt.figure(figsize=(8,8))\n",
        "plt.scatter(X1['xg_prob'],X1['TransactionAmt']/X1['TransactionAmt'].max(), cmap='bwr', c=X1['isFraud'], alpha=0.2)\n",
        "plt.yscale('log')\n",
        "plt.xscale('log')\n",
        "plt.ylabel('Impacto')\n",
        "plt.xlabel('Pobabilidade')\n",
        "plt.title('Matriz MPI XG log log')\n",
        "plt.grid()\n",
        "fig.savefig('/content/imagens/MatrizMPI_XG Log', dpi=fig.dpi)"
      ],
      "metadata": {
        "id": "K0qfAWcY9Tf8"
      },
      "execution_count": null,
      "outputs": [],
      "id": "K0qfAWcY9Tf8"
    },
    {
      "cell_type": "code",
      "source": [
        "X1.to_excel('/content/data/pre_processed/x1.xlsx')"
      ],
      "metadata": {
        "id": "ruJd0cak_I5i"
      },
      "id": "ruJd0cak_I5i",
      "execution_count": null,
      "outputs": []
    },
    {
      "cell_type": "markdown",
      "source": [
        "## Resumo Fase 6\n",
        "\n",
        "As análises adcionais mostram-se importante, mesmo que sejam aqui avaliadas de forma superfiical há consideráveis pontos que indicam desenvolvimentos futuros:\n",
        "\n",
        "- Ainda que a calibração de probabilidade seja bem definida para dados balanceado, neste caso estudado parece que há questões que pdoerem explicar e melhorar a capacidade preditiva de probabilidades\n",
        "\n",
        "- A Matriz de Custos mostra que a distribuição com que os custos do bloqueio e liberação para processamento das transações é um tema sensível que pode ajudar a mellhorar o desmepenho das modelos, para masi profundado consultar este [link para Cost Sensitive Learning](https://fraud-detection-handbook.github.io/fraud-detection-handbook/Chapter_6_ImbalancedLearning/CostSensitive.html)"
      ],
      "metadata": {
        "id": "u_XttkhK9lsu"
      },
      "id": "u_XttkhK9lsu"
    },
    {
      "cell_type": "markdown",
      "source": [
        "# Conclusão\n",
        "\n",
        "Neste trabalho forma realizado so seguintes pontos:\n",
        "\n",
        "- Coleta, Preparação, Modelagem Preditiva e Análise de Resultados de técnicas de Machine Learning em um dataset de transações de cartões de crédito.\n",
        "- Os resultados obtidos mostram que o modelo proporciona um retorno favorável, pela acurácia no bloqueio de transações fraudulentas, pelo processamento de transações genuínas e nível tolerável de erros ao classificar transações genuínas ou fraudulentas.\n",
        "- Foram aboradas questões como avaliação dos custos e predição de probabilidade que podem ser usadas em novos desenvolvimentos.\n"
      ],
      "metadata": {
        "id": "wHKPu1vC_wl8"
      },
      "id": "wHKPu1vC_wl8"
    },
    {
      "cell_type": "code",
      "source": [
        ""
      ],
      "metadata": {
        "id": "uoncFZMEBRp-"
      },
      "id": "uoncFZMEBRp-",
      "execution_count": null,
      "outputs": []
    }
  ],
  "metadata": {
    "hide_input": false,
    "kernelspec": {
      "display_name": "Python 3",
      "language": "python",
      "name": "python3"
    },
    "language_info": {
      "codemirror_mode": {
        "name": "ipython",
        "version": 3
      },
      "file_extension": ".py",
      "mimetype": "text/x-python",
      "name": "python",
      "nbconvert_exporter": "python",
      "pygments_lexer": "ipython3",
      "version": "3.8.3"
    },
    "nbTranslate": {
      "displayLangs": [
        "*"
      ],
      "hotkey": "alt-t",
      "langInMainMenu": true,
      "sourceLang": "en",
      "targetLang": "fr",
      "useGoogleTranslate": true
    },
    "colab": {
      "name": "Teste_para_vaga_Cientista_de_Dados_Senior_Parte_1_A.ipynb",
      "provenance": [],
      "machine_shape": "hm",
      "include_colab_link": true
    },
    "accelerator": "GPU"
  },
  "nbformat": 4,
  "nbformat_minor": 5
}