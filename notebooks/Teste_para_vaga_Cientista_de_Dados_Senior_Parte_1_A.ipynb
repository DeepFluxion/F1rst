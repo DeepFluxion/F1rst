{
  "cells": [
    {
      "cell_type": "markdown",
      "metadata": {
        "id": "view-in-github",
        "colab_type": "text"
      },
      "source": [
        "<a href=\"https://colab.research.google.com/github/DeepFluxion/F1rst/blob/main/notebooks/Teste_para_vaga_Cientista_de_Dados_Senior_Parte_1_A.ipynb\" target=\"_parent\"><img src=\"https://colab.research.google.com/assets/colab-badge.svg\" alt=\"Open In Colab\"/></a>"
      ]
    },
    {
      "cell_type": "markdown",
      "id": "93608093",
      "metadata": {
        "id": "93608093"
      },
      "source": [
        "## Requisitos da Parte 1 do Teste\n",
        "---\n",
        "### Parte 1: Algoritmos aplicados à base de dados de Fraudes do Kaggle.\n",
        "\n",
        "Nesta Parte 1A Foi considerado o seguinte Exemplo de Competições de Referências:\n",
        "https://www.kaggle.com/c/ieee-fraud-detection\n",
        "\n",
        "Essa parte consiste na elaboração de um Jupyter Notebook (ou outra ferramenta que lhe for mais conveniente para apresentação) com pelo menos 2 técnicas à sua escolha para resolver uma ou mais competições de Fraude contidas no Kaggle. \n",
        "\n",
        "O candidato tem a liberdade para escolha da competição que lhe for mais conveniente, bem como de unir todas as bases de dados caso queira.\n",
        "**Pacotes obrigatórios para se utilizar:** Pandas, Scikit-learn, Tensorflow (ou PyTorch).\n",
        "\n",
        "### Comentários:\n",
        "- Optou-se por uyilizar o Jupyter Notebook\n",
        "- Nesta parte 1A o desenvolvimentou focou em técnicas de Aprendizado de Máquina para classificação, empregando o pacote [Scikit-learn](https://scikit-learn.org/stable/)\n",
        "- Também empregou-se o pacote [XGBoost](https://xgboost.readthedocs.io/en/stable/) para classificação\n",
        "- Para maniputação dos dados foi usado o pacote [Pandas](https://pandas.pydata.org/)\n",
        "- Dado o grande volume de atributo recorreu-se a [Redução de Dimensionalidade](https://en.wikipedia.org/wiki/Dimensionality_reduction), tarefa na qual foi usado pacote [UMAP: Uniform Manifold Approximation and Projection for Dimension Reduction](https://umap-learn.readthedocs.io/en/latest/)]\n",
        "- Outras bibliotecas mais comuns foram empregadas\n",
        "- Foi usado o Python 3.7"
      ]
    },
    {
      "cell_type": "markdown",
      "id": "7f77ab43",
      "metadata": {
        "id": "7f77ab43"
      },
      "source": [
        "## Entendimento do Negócio - FDS (Fraud Detection Systems)\n",
        "\n",
        "### Fonte\n",
        "Para o desenvolviemnto de um projeto de Data Science é necessário, iniciar pela entendimento do problema a se resolver, estabelecer seus requisitos e desenvolver uma criação que apoia as escolhas e desenvolvimentos do projeto. Deste modo, na falta de especialistas para consulta recorreu-se a seguinte fonte:\n",
        "\n",
        "> [Reproducible Machine Learning for Credit Card Fraud Detection - Practical Handbook (2022)](https://fraud-detection-handbook.github.io/fraud-detection-handbook/Foreword.html), dos autores:  \n",
        "> * Yann-Aël Le Borgne - Machine Learning Group - Université Libre de Bruxelles, Belgium.  \n",
        "> * Wissam Siblini - Machine Learning Research - Worldline Labs   \n",
        "> * Bertrand Lebichot - Interdisciplinary Centre for Security, Reliability and Trust - Université du Luxembourg, Luxembourg \n",
        "> * Gianluca Bontempi - Machine Learning Group - Université Libre de Bruxelles, Belgium\n",
        "\n",
        "### Estrutura de um FDS\n",
        "Um sistema de detecção de fraude de cartão de crédito (FDS) é tipicamente composto por um conjunto de cinco camadas de controle [DP15, DPBC+17], conforme ilustrado na Fig. 1.\n",
        "\n",
        "![](https://fraud-detection-handbook.github.io/fraud-detection-handbook/_images/FDS.jpg)\n",
        "##### Fig. 1. Diagrama ilustrando as camadas de controle em um FDS.\n",
        "\n",
        "> O foco deste desenvolvimento é principalmente o modelo orientado a dados, que ajuda os investigadores a emitir alertas sobre as transações mais suspeitas.\n",
        "\n",
        "### Modelo orientado a dados (DDM)\n",
        "\n",
        "Essa camada é puramente orientada a dados e adota um classificador ou outro modelo estatístico para estimar a probabilidade de cada vetor de característica ser uma fraude. Essa probabilidade é usada como a pontuação de fraude associada às transações autorizadas. \n",
        "\n",
        "Assim, o modelo orientado a dados é treinado a partir de um conjunto de transações rotuladas e não pode ser interpretado ou modificado manualmente pelos investigadores. \n",
        "\n",
        "Espera-se que um modelo orientado a dados eficaz detecte padrões fraudulentos analisando simultaneamente vários componentes do vetor de recursos, possivelmente por meio de expressões não lineares. \n",
        "\n",
        "Portanto, espera-se que o DDM encontre fraudes de acordo com regras que vão além da experiência do investigador, e que não necessariamente correspondem a regras interpretáveis.\n",
        "\n",
        "> Portanto para o desenvolvimento do projeto estabeleceu-se as seguinte premissa:   \n",
        "> * Ainda que se possa empregar Apredizado de Máquina (AM) em diversas tarefas ao longa da estrutura do FDS optou-se por desenvolver um modelo para detecção de fraudes em **Transações**, portanto esse será o objeto de modelagem, ainda que com os dados disponíveis seja possível trabalhar com os usuários.\n",
        "\n",
        "### AM para detecção de fraudes em cartões de crédito (CCFD)\n",
        "\n",
        "AM para CCFD tornou-se um campo de pesquisa ativo. Isso é ilustrado por um grande número de publicações sobre o tema e suas reivindicações promissoras. Ao mesmo tempo, deve-se ter cautela na interpretação dos resultados dessas publicações. Como foi apontado em Aprendizado de máquina para detecção de fraude de cartão de crédito, o campo de AM para CCFD é relativamente novo, e não existem benchmarks reconhecidos, nem metodologias, para comparar e avaliar as técnicas propostas. Porém os autores sugerem uma metodologia básica que é apresnetada na Fig.2.\n",
        "\n",
        "![](https://fraud-detection-handbook.github.io/fraud-detection-handbook/_images/baseline_ML_workflow.png)\n",
        "#### Fig. 2. ML para CCFD: Metodologia de linha de base seguida pela maioria das abordagens propostas nas pesquisas recentes sobre o tema.\n",
        "\n",
        "\n",
        "\n",
        "\n"
      ]
    },
    {
      "cell_type": "markdown",
      "metadata": {
        "id": "7qPNZDLsGhvz"
      },
      "source": [
        "## Organização do Projeto\n",
        "O projeto foi então organizado tendo em vista atendero framework anteriormente apresentado, seguindo as etapas listadas a seguir:\n",
        "> **Etapa 1 -Entendimento e Ingestão do dados da base Kaggle.**  \n",
        "\n",
        "> **Etapa 2 -Pré processamento dos Dados.**   \n",
        "> - Etapa 2A - Eliminação dos Missing Values.\n",
        "> - Etapa 2B - Padronização.\n",
        "> - Etapa 2C - Redução de Dimensões (PCA e UMAP)\n",
        "\n",
        "> **Etapa 3 -Pré Modelagem.**   \n",
        "> - Etapa 3A - Decision Trees.\n",
        "> - Etapa 3B - SVC Linear.\n",
        "> - Etapa 3C - SVC RBF.\n",
        "> - Etapa 3D - Gaussina Naives Bayes.\n",
        "> - Etapa 3E - MLP Classifier.\n",
        "> - Etapa 3F - Random Forrest.\n",
        "> - Etapa 3G - GradientBosting.\n",
        "> - Etapa 3H - KNearestNeighbors.\n",
        "> - Etapa 3I - XGBoost.\n",
        "> - Etapa 3J - Histogram Based Gradient Boost.\n",
        "\n",
        "> **Etapa 4 -Análise dos resultados da Pré Modelagem e Seleção dos Modelos.**   \n",
        "> - Etapa 4A - Matriz de Confusão.\n",
        "> - Etapa 4B - Curva ROC.\n",
        "> - Etapa 4C - Métricas de Desempenho.\n",
        "\n",
        "> **Etapa 5 -Modelagem com os Algoritmos Selecionados e Análise de Resultados.**   \n",
        "> - Etapa 5A - Random Forrest.\n",
        "> - Etapa 5B - XGBoost.\n",
        "\n",
        "> **Etapa 6 -Análises Adicionais.**   \n",
        "> - Etapa 6A - Calibração de Probabilidades.\n",
        "> - Etapa 6B - Matriz de Custos.\n",
        "\n",
        "> **Conclusões.**\n"
      ],
      "id": "7qPNZDLsGhvz"
    },
    {
      "cell_type": "markdown",
      "id": "c0bd710d",
      "metadata": {
        "id": "c0bd710d"
      },
      "source": [
        "## Etapa 1 - Entendimento e Ingestão dos dados da base Kaggle\n",
        "\n",
        "O consjunto de dados [IEEE-CIS Fraud Detection](https://www.kaggle.com/competitions/ieee-fraud-detection) consiste em uma base de transações com cartões de crédito com 584.540 registro, cada um com 394 columnas. A atributo alvo é a coluna `isFraud` que conta com 20.663 registro com valor 1 (é Fraude)  e 563.877 com valor 0 (não é Fraude). Além disso outros atributos importantes para análise são:\n",
        "- `TransactionDT` - Data da Transação\n",
        "- `TransactionAmt` - Montante da Transação\n",
        "- `TransactionID` - ID da Transação\n",
        "\n",
        "Atributos Categóricos - Transações\n",
        "* ProductCD\n",
        "* card1 - card6\n",
        "* addr1, addr2\n",
        "* P_emaildomain\n",
        "* R_emaildomain\n",
        "* M1 - M9 \n",
        "\n",
        "Estrutura do Diretórios\n",
        "* +--Teste_1A : Armazena Notebooks e Módulos   \n",
        "    * +-- data   \n",
        "        * +-- input : dados raw extraídos do kaggle   \n",
        "        * +-- pre_processed : dados resultantes da etapa de pre processamento   \n",
        "    * +-- imagens   \n",
        "    * +-- models : arquivos de modelos salvos (deploy)    \n",
        "    * +-- metrics : arquivos de metricas   "
      ]
    },
    {
      "cell_type": "code",
      "execution_count": 1,
      "id": "412d614a",
      "metadata": {
        "id": "412d614a",
        "outputId": "c8524371-09dd-4aaa-9957-22226d6faceb",
        "colab": {
          "base_uri": "https://localhost:8080/"
        }
      },
      "outputs": [
        {
          "output_type": "stream",
          "name": "stdout",
          "text": [
            "CPU times: user 375 ms, sys: 40.9 ms, total: 416 ms\n",
            "Wall time: 424 ms\n"
          ]
        }
      ],
      "source": [
        "%%time\n",
        "\n",
        "# importação das bibliotecas\n",
        "import os # manipulação de diretórios e arquivos\n",
        "import pandas as pd\n",
        "import warnings # manipulação de warnings no jupyter notebook\n",
        "import gc # limpar o lixo da memoria\n",
        "\n",
        "gc.collect() # recolhe o lixo\n",
        "warnings.filterwarnings('ignore')# ignora warnings"
      ]
    },
    {
      "cell_type": "code",
      "source": [
        "# Criando os diretórios\n",
        "dirs = ['/content/data','/content/imagens','/content/models','/content/metrics','/content/data/input','/content/data/pre_processed']\n",
        "for dir in dirs:\n",
        "  if not os.path.isdir(dir):\n",
        "    os.mkdir(dir)\n",
        "# Se estiver no Colab, apór executar este passo não esqueça de atualizar a barra aletra de arquivos"
      ],
      "metadata": {
        "id": "_w1wNkbvif1_"
      },
      "id": "_w1wNkbvif1_",
      "execution_count": 2,
      "outputs": []
    },
    {
      "cell_type": "code",
      "execution_count": 3,
      "id": "52dbe55a",
      "metadata": {
        "id": "52dbe55a",
        "outputId": "487917b9-47dd-419c-cfa0-12776660534e",
        "colab": {
          "base_uri": "https://localhost:8080/"
        }
      },
      "outputs": [
        {
          "output_type": "stream",
          "name": "stdout",
          "text": [
            "CPU times: user 21.6 ms, sys: 2.73 ms, total: 24.4 ms\n",
            "Wall time: 163 ms\n"
          ]
        }
      ],
      "source": [
        "%%time\n",
        "\n",
        "# A planilha names mapea a colunas os nomes das colunas a serem utilizadas\n",
        "\n",
        "url = 'https://raw.githubusercontent.com/DeepFluxion/F1rst/main/data/pre_processed/names.csv'\n",
        "dn = pd.read_csv(url,sep=';')\n",
        "col_number = dn.loc[dn['use']==1,'col_number'].values.tolist() # mapea a posição das colunas a serem usadas\n",
        "col_names = dn.loc[dn['use']==1,'col_name'].values.tolist() # mapea o nome das colunas a serem usadas"
      ]
    },
    {
      "cell_type": "code",
      "execution_count": 4,
      "id": "bffb79d2",
      "metadata": {
        "id": "bffb79d2",
        "outputId": "6df207de-fca4-4172-b213-09047cf6d042",
        "colab": {
          "base_uri": "https://localhost:8080/"
        }
      },
      "outputs": [
        {
          "output_type": "stream",
          "name": "stdout",
          "text": [
            "CPU times: user 21.9 s, sys: 1.47 s, total: 23.4 s\n",
            "Wall time: 33.8 s\n"
          ]
        }
      ],
      "source": [
        "%%time\n",
        "\n",
        "# para diminuir o uso de memóri trabalhou-se a ingestão dos dados em partes de 2o000 linhas, \n",
        "# reduzindo tempo de processamento e permitindo usar o Github\n",
        "# Os dataframes foram persistidos na lista ddf\n",
        "ddf=[]\n",
        "rows =0\n",
        "url = 'https://raw.githubusercontent.com/DeepFluxion/F1rst/main/data/pre_processed/transactions_part_'\n",
        "\n",
        "for u in range(30):\n",
        "    \n",
        "    df = pd.read_csv(url+str(u)+'.csv', index_col=0)\n",
        "    ddf.append(df)"
      ]
    },
    {
      "cell_type": "code",
      "execution_count": 5,
      "id": "9c46c945",
      "metadata": {
        "id": "9c46c945",
        "outputId": "022fc2f1-cfa5-49dc-daea-fd703a9154a0",
        "colab": {
          "base_uri": "https://localhost:8080/"
        }
      },
      "outputs": [
        {
          "output_type": "stream",
          "name": "stdout",
          "text": [
            "CPU times: user 1.22 s, sys: 53.8 ms, total: 1.27 s\n",
            "Wall time: 1.26 s\n"
          ]
        }
      ],
      "source": [
        "%%time\n",
        "\n",
        "ddf[0]=ddf[0].drop(labels=0, axis=0) # elimina a primeira linha do primeiro df, que repete o cabeçalho\n",
        "# definindo o dtype das colunas\n",
        "for df in ddf:\n",
        "    df.loc[:,'isFraud'].astype('int')\n",
        "    df.loc[:,'TransactionID'].astype('int')\n",
        "    df.loc[:,'TransactionDT'].astype('int')\n",
        "    df.iloc[:,3:].astype('float')"
      ]
    },
    {
      "cell_type": "code",
      "execution_count": 6,
      "id": "5906b86b",
      "metadata": {
        "id": "5906b86b",
        "outputId": "275101ae-6fd2-402b-fafb-0d6564ed2f7f",
        "colab": {
          "base_uri": "https://localhost:8080/"
        }
      },
      "outputs": [
        {
          "output_type": "stream",
          "name": "stdout",
          "text": [
            "0.02590129506475324\n",
            "0.02835\n",
            "0.02565\n",
            "0.02415\n",
            "0.0218\n",
            "0.01545\n",
            "0.0372\n",
            "0.0376\n",
            "0.03875\n",
            "0.04415\n",
            "0.03965\n",
            "0.04755\n",
            "0.0403\n",
            "0.04035\n",
            "0.0359\n",
            "0.03925\n",
            "0.03015\n",
            "0.03365\n",
            "0.041\n",
            "0.04615\n",
            "0.0441\n",
            "0.031\n",
            "0.04\n",
            "0.03535\n",
            "0.03045\n",
            "0.03005\n",
            "0.0318\n",
            "0.03565\n",
            "0.03915\n",
            "0.03880087278246846\n",
            "CPU times: user 29.6 ms, sys: 4.44 ms, total: 34 ms\n",
            "Wall time: 27.9 ms\n"
          ]
        }
      ],
      "source": [
        "%%time\n",
        "# Vamos checar a % de positivos para Fraudes em cada df\n",
        "for df in ddf:\n",
        "    print((df.loc[:,'isFraud']==1).sum()/df.shape[0])"
      ]
    },
    {
      "cell_type": "code",
      "execution_count": 7,
      "id": "fae13239",
      "metadata": {
        "id": "fae13239",
        "outputId": "d1eb99db-c38c-45da-97f9-42dd54f58629",
        "colab": {
          "base_uri": "https://localhost:8080/"
        }
      },
      "outputs": [
        {
          "output_type": "stream",
          "name": "stdout",
          "text": [
            "CPU times: user 2.68 s, sys: 3.39 s, total: 6.07 s\n",
            "Wall time: 6 s\n"
          ]
        }
      ],
      "source": [
        "%%time\n",
        "# concatenar os dataframes para reduzir a ocupação da memória\n",
        "df = pd.concat(ddf,axis=0,ignore_index=True)\n",
        "df.head()\n",
        "# Deletar ddf e eliminar os dado para liberar RAM\n",
        "del ddf\n",
        "gc.collect()"
      ]
    },
    {
      "cell_type": "code",
      "source": [
        "df.shape"
      ],
      "metadata": {
        "colab": {
          "base_uri": "https://localhost:8080/"
        },
        "id": "YubWq618k5ue",
        "outputId": "9157808b-7a0d-49ff-c351-262cbb1ff55b"
      },
      "id": "YubWq618k5ue",
      "execution_count": 8,
      "outputs": [
        {
          "output_type": "execute_result",
          "data": {
            "text/plain": [
              "(590540, 372)"
            ]
          },
          "metadata": {},
          "execution_count": 8
        }
      ]
    },
    {
      "cell_type": "markdown",
      "metadata": {
        "id": "GOqkWLAmGhwA"
      },
      "source": [
        "### Resumo Etapa 1 - Entendimento e Ingestão dos dados da base Kaggle\n",
        "\n",
        "- Por limitação da memória e maio velocidade, e também pela limitação tamanho dos arquivos no Github a 25 MB, os dados foram carregados em partes e na sequência reagregados\n",
        "- Foram eliminadas as varáiveis categóricas\n",
        "    * ProductCD\n",
        "    * card1 - card6\n",
        "    * addr1, addr2\n",
        "    * P_emaildomain\n",
        "    * R_emaildomain\n",
        "    * M1 - M9 "
      ],
      "id": "GOqkWLAmGhwA"
    },
    {
      "cell_type": "markdown",
      "metadata": {
        "id": "zV2T5D3mGhwB"
      },
      "source": [
        "## Etapa 2 -Pré processamento dos Dados.\n",
        "\n",
        "Esta etapa consiste das seguintes sub etapas:   \n",
        "- **- Etapa 2A - Eliminação dos Missing Values**   \n",
        "    - Nesta subetapa sao quantificadas os tais de missing values de cada coluna, que são elimnadas a partir de um limiar de percentual (> 25%) a seguir as linhas com missing values são eliminadas   \n",
        "- **- Etapa 2B - Padronização**   \n",
        "    - nesta subetapa os dados são padronizados utilizando a classe `StandardScaler()` do `Scikit Learn`.     \n",
        "- **- Etapa 2C - Redução de Dimensões (PCA e UMAP)**     \n",
        "    - Nesta subetapa  a classe `PCA()` do `Scikit` e o pacote `UMAP` são usados para reduzir a dimiensionalidade do conjunto de dados afim de otimizar o tempo e uso de memória para fazer a pré-seleção dos modelos e também gerar uma segunda base com os atributos selecionados pela razão de variância explicada obtida pelo método `explained_variance_ratio_` da classe `PCA`. A quantidade de atributos que garantem mai de 90% de poder de explicação é usada na operação com UMAP.     \n",
        "- **- Resumo Etapa 2**\n"
      ],
      "id": "zV2T5D3mGhwB"
    },
    {
      "cell_type": "markdown",
      "metadata": {
        "id": "kMoLVNiKGhwC"
      },
      "source": [
        "### Etapa 2A - Eliminação dos Missing Values"
      ],
      "id": "kMoLVNiKGhwC"
    },
    {
      "cell_type": "code",
      "execution_count": 9,
      "id": "1760ddd2",
      "metadata": {
        "id": "1760ddd2",
        "outputId": "8d7430aa-228d-4c9f-d712-c9ce1dcbc781",
        "colab": {
          "base_uri": "https://localhost:8080/"
        }
      },
      "outputs": [
        {
          "output_type": "stream",
          "name": "stdout",
          "text": [
            "CPU times: user 7.4 s, sys: 156 ms, total: 7.56 s\n",
            "Wall time: 7.43 s\n"
          ]
        }
      ],
      "source": [
        "%%time\n",
        "# Quantificando os missing values em cada coluna\n",
        "na_columns = df.isna().sum()/df.shape[0]"
      ]
    },
    {
      "cell_type": "code",
      "execution_count": 10,
      "metadata": {
        "id": "XqxYvcYcGhwE",
        "outputId": "f77ca7be-774e-431f-f224-f6f31f5928c9",
        "colab": {
          "base_uri": "https://localhost:8080/"
        }
      },
      "outputs": [
        {
          "output_type": "stream",
          "name": "stdout",
          "text": [
            "CPU times: user 3.73 ms, sys: 109 µs, total: 3.84 ms\n",
            "Wall time: 3.87 ms\n"
          ]
        },
        {
          "output_type": "execute_result",
          "data": {
            "text/plain": [
              "count    372.000000\n",
              "mean       0.415653\n",
              "std        0.362087\n",
              "min        0.000000\n",
              "25%        0.001745\n",
              "50%        0.286126\n",
              "75%        0.779134\n",
              "max        0.934099\n",
              "dtype: float64"
            ]
          },
          "metadata": {},
          "execution_count": 10
        }
      ],
      "source": [
        "%%time\n",
        "# Sumarizando os missing values em cada coluna\n",
        "na_columns.describe()"
      ],
      "id": "XqxYvcYcGhwE"
    },
    {
      "cell_type": "code",
      "execution_count": 11,
      "metadata": {
        "id": "WKQImxTYGhwE",
        "outputId": "05325f0b-9331-4552-dece-d2e82618df09",
        "colab": {
          "base_uri": "https://localhost:8080/"
        }
      },
      "outputs": [
        {
          "output_type": "stream",
          "name": "stdout",
          "text": [
            "CPU times: user 8.43 s, sys: 1.86 s, total: 10.3 s\n",
            "Wall time: 10.1 s\n"
          ]
        }
      ],
      "source": [
        "%%time\n",
        "# Eliminando as colunas com mais de 25% de missing values\n",
        "df.drop(na_columns[na_columns>0.25].index.tolist(),axis=1, inplace=True)"
      ],
      "id": "WKQImxTYGhwE"
    },
    {
      "cell_type": "code",
      "execution_count": 12,
      "metadata": {
        "id": "EKvaYaIaGhwF",
        "outputId": "5e17eeb3-321b-4e48-dfe0-600152d2aa2b",
        "colab": {
          "base_uri": "https://localhost:8080/"
        }
      },
      "outputs": [
        {
          "output_type": "stream",
          "name": "stdout",
          "text": [
            "CPU times: user 4.58 s, sys: 35.1 ms, total: 4.62 s\n",
            "Wall time: 4.65 s\n"
          ]
        }
      ],
      "source": [
        "%%time\n",
        "# Eliminado as linhas com missing values\n",
        "df.dropna(inplace=True)"
      ],
      "id": "EKvaYaIaGhwF"
    },
    {
      "cell_type": "code",
      "execution_count": 13,
      "metadata": {
        "id": "iwb4hHBdGhwG",
        "outputId": "4625eac6-98a4-4abe-b223-8b0d3f9fdd45",
        "colab": {
          "base_uri": "https://localhost:8080/"
        }
      },
      "outputs": [
        {
          "output_type": "stream",
          "name": "stdout",
          "text": [
            "(490634, 172)\n",
            "0\n",
            "CPU times: user 2.77 s, sys: 17.7 ms, total: 2.79 s\n",
            "Wall time: 2.75 s\n"
          ]
        }
      ],
      "source": [
        "%%time\n",
        "# verificando o tamanho do dataframe resultante\n",
        "print(df.shape)\n",
        "print((df.isna().sum()).sum())"
      ],
      "id": "iwb4hHBdGhwG"
    },
    {
      "cell_type": "code",
      "execution_count": 14,
      "metadata": {
        "id": "rymXHd9-GhwH",
        "outputId": "ae5e6172-6233-4267-fc92-7e6903aeacfc",
        "colab": {
          "base_uri": "https://localhost:8080/"
        }
      },
      "outputs": [
        {
          "output_type": "stream",
          "name": "stdout",
          "text": [
            "CPU times: user 25.5 s, sys: 1.02 s, total: 26.5 s\n",
            "Wall time: 26.3 s\n"
          ]
        }
      ],
      "source": [
        "%%time\n",
        "# exportando o resultado final para um arquivo csv\n",
        "df.to_csv('/content/data/pre_processed/transactions_red.csv')\n",
        "# deletando df e limpando a RAM\n",
        "del df\n",
        "gc.collect()"
      ],
      "id": "rymXHd9-GhwH"
    },
    {
      "cell_type": "markdown",
      "metadata": {
        "id": "2RSkoEkyGhwI"
      },
      "source": [
        "#### Resumo Etapa 2A - Entendimento e Ingestão dos dados da base Kaggle\n",
        "\n",
        "- Com a eliminação dos missing values será analisada uma base de 490634 registros com 172 atributos cada (~ 83% do total de registros), o que se considera-se aceitável\n",
        "- Do ponto de vista do modelo esta operação de redução pode resultar em diminuição da informação resultando numa precisão menor\n",
        "- O recomendável seria uma avaliação do significado de cada atributo eliminado junto a um especialista, o que não está disponível\n",
        "- Do ponto de vista operacional, caso não houvesse restrição de memória, o procedimento seria mantido resultando em mais registros para análise resultando num modelo mais completo"
      ],
      "id": "2RSkoEkyGhwI"
    },
    {
      "cell_type": "markdown",
      "metadata": {
        "id": "5Ouuq7zEGhwJ"
      },
      "source": [
        "### Etapa 2B - Padronização"
      ],
      "id": "5Ouuq7zEGhwJ"
    },
    {
      "cell_type": "code",
      "execution_count": 15,
      "metadata": {
        "id": "K43L9m1-GhwJ",
        "outputId": "fddb5423-b825-47a8-ab63-e9476fa3e1f8",
        "colab": {
          "base_uri": "https://localhost:8080/"
        }
      },
      "outputs": [
        {
          "output_type": "stream",
          "name": "stdout",
          "text": [
            "Collecting umap-learn\n",
            "  Downloading umap-learn-0.5.2.tar.gz (86 kB)\n",
            "\u001b[K     |████████████████████████████████| 86 kB 3.0 MB/s \n",
            "\u001b[?25hRequirement already satisfied: numpy>=1.17 in /usr/local/lib/python3.7/dist-packages (from umap-learn) (1.21.5)\n",
            "Requirement already satisfied: scikit-learn>=0.22 in /usr/local/lib/python3.7/dist-packages (from umap-learn) (1.0.2)\n",
            "Requirement already satisfied: scipy>=1.0 in /usr/local/lib/python3.7/dist-packages (from umap-learn) (1.4.1)\n",
            "Requirement already satisfied: numba>=0.49 in /usr/local/lib/python3.7/dist-packages (from umap-learn) (0.51.2)\n",
            "Collecting pynndescent>=0.5\n",
            "  Downloading pynndescent-0.5.6.tar.gz (1.1 MB)\n",
            "\u001b[K     |████████████████████████████████| 1.1 MB 32.0 MB/s \n",
            "\u001b[?25hRequirement already satisfied: tqdm in /usr/local/lib/python3.7/dist-packages (from umap-learn) (4.63.0)\n",
            "Requirement already satisfied: setuptools in /usr/local/lib/python3.7/dist-packages (from numba>=0.49->umap-learn) (57.4.0)\n",
            "Requirement already satisfied: llvmlite<0.35,>=0.34.0.dev0 in /usr/local/lib/python3.7/dist-packages (from numba>=0.49->umap-learn) (0.34.0)\n",
            "Requirement already satisfied: joblib>=0.11 in /usr/local/lib/python3.7/dist-packages (from pynndescent>=0.5->umap-learn) (1.1.0)\n",
            "Requirement already satisfied: threadpoolctl>=2.0.0 in /usr/local/lib/python3.7/dist-packages (from scikit-learn>=0.22->umap-learn) (3.1.0)\n",
            "Building wheels for collected packages: umap-learn, pynndescent\n",
            "  Building wheel for umap-learn (setup.py) ... \u001b[?25l\u001b[?25hdone\n",
            "  Created wheel for umap-learn: filename=umap_learn-0.5.2-py3-none-any.whl size=82708 sha256=15189afed531f49960b99edab435bdf794f8dd8a1cf0820f405ceba457355f96\n",
            "  Stored in directory: /root/.cache/pip/wheels/84/1b/c6/aaf68a748122632967cef4dffef68224eb16798b6793257d82\n",
            "  Building wheel for pynndescent (setup.py) ... \u001b[?25l\u001b[?25hdone\n",
            "  Created wheel for pynndescent: filename=pynndescent-0.5.6-py3-none-any.whl size=53943 sha256=cebacbbd1850914062bb0a0ce1eea4d7ef6fd22181dba6325e90354b4c67cfa8\n",
            "  Stored in directory: /root/.cache/pip/wheels/03/f1/56/f80d72741e400345b5a5b50ec3d929aca581bf45e0225d5c50\n",
            "Successfully built umap-learn pynndescent\n",
            "Installing collected packages: pynndescent, umap-learn\n",
            "Successfully installed pynndescent-0.5.6 umap-learn-0.5.2\n"
          ]
        }
      ],
      "source": [
        "# caso o UMAP não esteja instalado execute a linha a seguir deletando o #\n",
        "\n",
        "! pip install umap-learn"
      ],
      "id": "K43L9m1-GhwJ"
    },
    {
      "cell_type": "code",
      "execution_count": 16,
      "metadata": {
        "id": "4FTlF_mYGhwJ",
        "outputId": "67f8a3db-032e-43a0-bbde-cb4af433bead",
        "colab": {
          "base_uri": "https://localhost:8080/"
        }
      },
      "outputs": [
        {
          "output_type": "stream",
          "name": "stdout",
          "text": [
            "CPU times: user 18.6 s, sys: 1.11 s, total: 19.7 s\n",
            "Wall time: 20.5 s\n"
          ]
        }
      ],
      "source": [
        "%%time\n",
        "# importando as biblitecas\n",
        "import matplotlib.pyplot as plt\n",
        "import numpy as np\n",
        "import pandas as pd \n",
        "import seaborn as sns\n",
        "import os\n",
        "from sklearn.decomposition import PCA\n",
        "from sklearn.preprocessing import StandardScaler\n",
        "import umap"
      ],
      "id": "4FTlF_mYGhwJ"
    },
    {
      "cell_type": "code",
      "execution_count": 17,
      "metadata": {
        "id": "qH9u7NfTGhwK",
        "outputId": "b5ada0b2-aff1-4651-bc1a-e2863c4749c6",
        "colab": {
          "base_uri": "https://localhost:8080/"
        }
      },
      "outputs": [
        {
          "output_type": "stream",
          "name": "stdout",
          "text": [
            "CPU times: user 8.81 s, sys: 681 ms, total: 9.49 s\n",
            "Wall time: 9.55 s\n"
          ]
        }
      ],
      "source": [
        " %%time\n",
        " ## vamos carregar o dataset transactios_red e selecionar aleatoriamente 50000 registros\n",
        " df = pd.read_csv('/content/data/pre_processed/transactions_red.csv',index_col=0)\n",
        " df =df.sample(n=50000, replace=False, ignore_index=True)\n",
        " # df = df.reset_index(drop=True)"
      ],
      "id": "qH9u7NfTGhwK"
    },
    {
      "cell_type": "code",
      "execution_count": 18,
      "metadata": {
        "id": "1RmctDlGGhwK",
        "outputId": "d0f0822b-13de-4e26-ba9a-75bf36f9d644",
        "colab": {
          "base_uri": "https://localhost:8080/",
          "height": 299
        }
      },
      "outputs": [
        {
          "output_type": "execute_result",
          "data": {
            "text/plain": [
              "   TransactionID  isFraud  TransactionDT  TransactionAmt     C1     C2   C3  \\\n",
              "0        3497061        0       13363145          108.95    1.0    1.0  0.0   \n",
              "1        3034570        0        1125238           30.00  298.0  268.0  0.0   \n",
              "2        3562473        0       15287024           26.95    2.0    2.0  0.0   \n",
              "3        3373991        0        9693271           44.50    1.0    1.0  0.0   \n",
              "4        3035755        0        1172424           49.00    2.0    1.0  0.0   \n",
              "\n",
              "    C4    C5     C6  ...  V312  V313  V314  V315  V316   V317  V318  V319  \\\n",
              "0  0.0   1.0    1.0  ...   0.0   0.0   0.0   0.0   0.0    0.0   0.0   0.0   \n",
              "1  0.0  95.0  314.0  ...   0.0   0.0   0.0   0.0   0.0    0.0   0.0   0.0   \n",
              "2  0.0   1.0    2.0  ...   0.0   0.0   0.0   0.0   0.0    0.0   0.0   0.0   \n",
              "3  0.0   0.0    1.0  ...   0.0   0.0   0.0   0.0   0.0    0.0   0.0   0.0   \n",
              "4  0.0   0.0    2.0  ...   0.0   0.0   0.0   0.0   0.0  117.0   0.0   0.0   \n",
              "\n",
              "   V320  V321  \n",
              "0   0.0   0.0  \n",
              "1   0.0   0.0  \n",
              "2   0.0   0.0  \n",
              "3   0.0   0.0  \n",
              "4   0.0   0.0  \n",
              "\n",
              "[5 rows x 172 columns]"
            ],
            "text/html": [
              "\n",
              "  <div id=\"df-9242305f-b791-4b89-bee0-d980779e185d\">\n",
              "    <div class=\"colab-df-container\">\n",
              "      <div>\n",
              "<style scoped>\n",
              "    .dataframe tbody tr th:only-of-type {\n",
              "        vertical-align: middle;\n",
              "    }\n",
              "\n",
              "    .dataframe tbody tr th {\n",
              "        vertical-align: top;\n",
              "    }\n",
              "\n",
              "    .dataframe thead th {\n",
              "        text-align: right;\n",
              "    }\n",
              "</style>\n",
              "<table border=\"1\" class=\"dataframe\">\n",
              "  <thead>\n",
              "    <tr style=\"text-align: right;\">\n",
              "      <th></th>\n",
              "      <th>TransactionID</th>\n",
              "      <th>isFraud</th>\n",
              "      <th>TransactionDT</th>\n",
              "      <th>TransactionAmt</th>\n",
              "      <th>C1</th>\n",
              "      <th>C2</th>\n",
              "      <th>C3</th>\n",
              "      <th>C4</th>\n",
              "      <th>C5</th>\n",
              "      <th>C6</th>\n",
              "      <th>...</th>\n",
              "      <th>V312</th>\n",
              "      <th>V313</th>\n",
              "      <th>V314</th>\n",
              "      <th>V315</th>\n",
              "      <th>V316</th>\n",
              "      <th>V317</th>\n",
              "      <th>V318</th>\n",
              "      <th>V319</th>\n",
              "      <th>V320</th>\n",
              "      <th>V321</th>\n",
              "    </tr>\n",
              "  </thead>\n",
              "  <tbody>\n",
              "    <tr>\n",
              "      <th>0</th>\n",
              "      <td>3497061</td>\n",
              "      <td>0</td>\n",
              "      <td>13363145</td>\n",
              "      <td>108.95</td>\n",
              "      <td>1.0</td>\n",
              "      <td>1.0</td>\n",
              "      <td>0.0</td>\n",
              "      <td>0.0</td>\n",
              "      <td>1.0</td>\n",
              "      <td>1.0</td>\n",
              "      <td>...</td>\n",
              "      <td>0.0</td>\n",
              "      <td>0.0</td>\n",
              "      <td>0.0</td>\n",
              "      <td>0.0</td>\n",
              "      <td>0.0</td>\n",
              "      <td>0.0</td>\n",
              "      <td>0.0</td>\n",
              "      <td>0.0</td>\n",
              "      <td>0.0</td>\n",
              "      <td>0.0</td>\n",
              "    </tr>\n",
              "    <tr>\n",
              "      <th>1</th>\n",
              "      <td>3034570</td>\n",
              "      <td>0</td>\n",
              "      <td>1125238</td>\n",
              "      <td>30.00</td>\n",
              "      <td>298.0</td>\n",
              "      <td>268.0</td>\n",
              "      <td>0.0</td>\n",
              "      <td>0.0</td>\n",
              "      <td>95.0</td>\n",
              "      <td>314.0</td>\n",
              "      <td>...</td>\n",
              "      <td>0.0</td>\n",
              "      <td>0.0</td>\n",
              "      <td>0.0</td>\n",
              "      <td>0.0</td>\n",
              "      <td>0.0</td>\n",
              "      <td>0.0</td>\n",
              "      <td>0.0</td>\n",
              "      <td>0.0</td>\n",
              "      <td>0.0</td>\n",
              "      <td>0.0</td>\n",
              "    </tr>\n",
              "    <tr>\n",
              "      <th>2</th>\n",
              "      <td>3562473</td>\n",
              "      <td>0</td>\n",
              "      <td>15287024</td>\n",
              "      <td>26.95</td>\n",
              "      <td>2.0</td>\n",
              "      <td>2.0</td>\n",
              "      <td>0.0</td>\n",
              "      <td>0.0</td>\n",
              "      <td>1.0</td>\n",
              "      <td>2.0</td>\n",
              "      <td>...</td>\n",
              "      <td>0.0</td>\n",
              "      <td>0.0</td>\n",
              "      <td>0.0</td>\n",
              "      <td>0.0</td>\n",
              "      <td>0.0</td>\n",
              "      <td>0.0</td>\n",
              "      <td>0.0</td>\n",
              "      <td>0.0</td>\n",
              "      <td>0.0</td>\n",
              "      <td>0.0</td>\n",
              "    </tr>\n",
              "    <tr>\n",
              "      <th>3</th>\n",
              "      <td>3373991</td>\n",
              "      <td>0</td>\n",
              "      <td>9693271</td>\n",
              "      <td>44.50</td>\n",
              "      <td>1.0</td>\n",
              "      <td>1.0</td>\n",
              "      <td>0.0</td>\n",
              "      <td>0.0</td>\n",
              "      <td>0.0</td>\n",
              "      <td>1.0</td>\n",
              "      <td>...</td>\n",
              "      <td>0.0</td>\n",
              "      <td>0.0</td>\n",
              "      <td>0.0</td>\n",
              "      <td>0.0</td>\n",
              "      <td>0.0</td>\n",
              "      <td>0.0</td>\n",
              "      <td>0.0</td>\n",
              "      <td>0.0</td>\n",
              "      <td>0.0</td>\n",
              "      <td>0.0</td>\n",
              "    </tr>\n",
              "    <tr>\n",
              "      <th>4</th>\n",
              "      <td>3035755</td>\n",
              "      <td>0</td>\n",
              "      <td>1172424</td>\n",
              "      <td>49.00</td>\n",
              "      <td>2.0</td>\n",
              "      <td>1.0</td>\n",
              "      <td>0.0</td>\n",
              "      <td>0.0</td>\n",
              "      <td>0.0</td>\n",
              "      <td>2.0</td>\n",
              "      <td>...</td>\n",
              "      <td>0.0</td>\n",
              "      <td>0.0</td>\n",
              "      <td>0.0</td>\n",
              "      <td>0.0</td>\n",
              "      <td>0.0</td>\n",
              "      <td>117.0</td>\n",
              "      <td>0.0</td>\n",
              "      <td>0.0</td>\n",
              "      <td>0.0</td>\n",
              "      <td>0.0</td>\n",
              "    </tr>\n",
              "  </tbody>\n",
              "</table>\n",
              "<p>5 rows × 172 columns</p>\n",
              "</div>\n",
              "      <button class=\"colab-df-convert\" onclick=\"convertToInteractive('df-9242305f-b791-4b89-bee0-d980779e185d')\"\n",
              "              title=\"Convert this dataframe to an interactive table.\"\n",
              "              style=\"display:none;\">\n",
              "        \n",
              "  <svg xmlns=\"http://www.w3.org/2000/svg\" height=\"24px\"viewBox=\"0 0 24 24\"\n",
              "       width=\"24px\">\n",
              "    <path d=\"M0 0h24v24H0V0z\" fill=\"none\"/>\n",
              "    <path d=\"M18.56 5.44l.94 2.06.94-2.06 2.06-.94-2.06-.94-.94-2.06-.94 2.06-2.06.94zm-11 1L8.5 8.5l.94-2.06 2.06-.94-2.06-.94L8.5 2.5l-.94 2.06-2.06.94zm10 10l.94 2.06.94-2.06 2.06-.94-2.06-.94-.94-2.06-.94 2.06-2.06.94z\"/><path d=\"M17.41 7.96l-1.37-1.37c-.4-.4-.92-.59-1.43-.59-.52 0-1.04.2-1.43.59L10.3 9.45l-7.72 7.72c-.78.78-.78 2.05 0 2.83L4 21.41c.39.39.9.59 1.41.59.51 0 1.02-.2 1.41-.59l7.78-7.78 2.81-2.81c.8-.78.8-2.07 0-2.86zM5.41 20L4 18.59l7.72-7.72 1.47 1.35L5.41 20z\"/>\n",
              "  </svg>\n",
              "      </button>\n",
              "      \n",
              "  <style>\n",
              "    .colab-df-container {\n",
              "      display:flex;\n",
              "      flex-wrap:wrap;\n",
              "      gap: 12px;\n",
              "    }\n",
              "\n",
              "    .colab-df-convert {\n",
              "      background-color: #E8F0FE;\n",
              "      border: none;\n",
              "      border-radius: 50%;\n",
              "      cursor: pointer;\n",
              "      display: none;\n",
              "      fill: #1967D2;\n",
              "      height: 32px;\n",
              "      padding: 0 0 0 0;\n",
              "      width: 32px;\n",
              "    }\n",
              "\n",
              "    .colab-df-convert:hover {\n",
              "      background-color: #E2EBFA;\n",
              "      box-shadow: 0px 1px 2px rgba(60, 64, 67, 0.3), 0px 1px 3px 1px rgba(60, 64, 67, 0.15);\n",
              "      fill: #174EA6;\n",
              "    }\n",
              "\n",
              "    [theme=dark] .colab-df-convert {\n",
              "      background-color: #3B4455;\n",
              "      fill: #D2E3FC;\n",
              "    }\n",
              "\n",
              "    [theme=dark] .colab-df-convert:hover {\n",
              "      background-color: #434B5C;\n",
              "      box-shadow: 0px 1px 3px 1px rgba(0, 0, 0, 0.15);\n",
              "      filter: drop-shadow(0px 1px 2px rgba(0, 0, 0, 0.3));\n",
              "      fill: #FFFFFF;\n",
              "    }\n",
              "  </style>\n",
              "\n",
              "      <script>\n",
              "        const buttonEl =\n",
              "          document.querySelector('#df-9242305f-b791-4b89-bee0-d980779e185d button.colab-df-convert');\n",
              "        buttonEl.style.display =\n",
              "          google.colab.kernel.accessAllowed ? 'block' : 'none';\n",
              "\n",
              "        async function convertToInteractive(key) {\n",
              "          const element = document.querySelector('#df-9242305f-b791-4b89-bee0-d980779e185d');\n",
              "          const dataTable =\n",
              "            await google.colab.kernel.invokeFunction('convertToInteractive',\n",
              "                                                     [key], {});\n",
              "          if (!dataTable) return;\n",
              "\n",
              "          const docLinkHtml = 'Like what you see? Visit the ' +\n",
              "            '<a target=\"_blank\" href=https://colab.research.google.com/notebooks/data_table.ipynb>data table notebook</a>'\n",
              "            + ' to learn more about interactive tables.';\n",
              "          element.innerHTML = '';\n",
              "          dataTable['output_type'] = 'display_data';\n",
              "          await google.colab.output.renderOutput(dataTable, element);\n",
              "          const docLink = document.createElement('div');\n",
              "          docLink.innerHTML = docLinkHtml;\n",
              "          element.appendChild(docLink);\n",
              "        }\n",
              "      </script>\n",
              "    </div>\n",
              "  </div>\n",
              "  "
            ]
          },
          "metadata": {},
          "execution_count": 18
        }
      ],
      "source": [
        "df.head()"
      ],
      "id": "1RmctDlGGhwK"
    },
    {
      "cell_type": "code",
      "source": [
        "# Verificando o tamanho de df\n",
        "df.shape"
      ],
      "metadata": {
        "id": "mj-e-sw7wDik",
        "outputId": "98cc09de-8c5f-4562-99e1-544b851f95e5",
        "colab": {
          "base_uri": "https://localhost:8080/"
        }
      },
      "id": "mj-e-sw7wDik",
      "execution_count": 19,
      "outputs": [
        {
          "output_type": "execute_result",
          "data": {
            "text/plain": [
              "(50000, 172)"
            ]
          },
          "metadata": {},
          "execution_count": 19
        }
      ]
    },
    {
      "cell_type": "code",
      "execution_count": 20,
      "metadata": {
        "id": "KuHqfeACGhwL",
        "outputId": "568ab311-155a-42bd-a57e-d54d0c4bab47",
        "colab": {
          "base_uri": "https://localhost:8080/"
        }
      },
      "outputs": [
        {
          "output_type": "execute_result",
          "data": {
            "text/plain": [
              "0.0312"
            ]
          },
          "metadata": {},
          "execution_count": 20
        }
      ],
      "source": [
        "# verificando o % de casos com isFraud==1\n",
        "(df['isFraud']==1).sum()/df.shape[0]"
      ],
      "id": "KuHqfeACGhwL"
    },
    {
      "cell_type": "markdown",
      "metadata": {
        "id": "rQNutBabGhwL"
      },
      "source": [
        "> Como o valor é aproximandamente igual ao percentual geral, não é necessário nos preocuparmos com eventuais viéses causados pela redução de registos"
      ],
      "id": "rQNutBabGhwL"
    },
    {
      "cell_type": "code",
      "execution_count": 21,
      "metadata": {
        "id": "n_nO534RGhwL"
      },
      "outputs": [],
      "source": [
        "# Vamos criar separar os atributos que não precisão ser normalizados e os atributos númericos que serão norammalizados\n",
        "# o atrbuto TransactionAmt fará parte dos dois consjutos\n",
        "# X1 é um dataframe pandas\n",
        "# X2 é uma array do Numpy\n",
        "X1 = df.iloc[:,1:4].reset_index(drop=True)\n",
        "X2 = StandardScaler().fit_transform(df.iloc[:,3:])"
      ],
      "id": "n_nO534RGhwL"
    },
    {
      "cell_type": "code",
      "execution_count": 22,
      "metadata": {
        "id": "M0z0uiM7GhwM",
        "outputId": "0b44b9d7-c4f1-49fd-b407-ad822c35479d",
        "colab": {
          "base_uri": "https://localhost:8080/",
          "height": 206
        }
      },
      "outputs": [
        {
          "output_type": "execute_result",
          "data": {
            "text/plain": [
              "   isFraud  TransactionDT  TransactionAmt\n",
              "0        0       13363145          108.95\n",
              "1        0        1125238           30.00\n",
              "2        0       15287024           26.95\n",
              "3        0        9693271           44.50\n",
              "4        0        1172424           49.00"
            ],
            "text/html": [
              "\n",
              "  <div id=\"df-9860d40e-f930-4b4e-9a30-92d16dd16554\">\n",
              "    <div class=\"colab-df-container\">\n",
              "      <div>\n",
              "<style scoped>\n",
              "    .dataframe tbody tr th:only-of-type {\n",
              "        vertical-align: middle;\n",
              "    }\n",
              "\n",
              "    .dataframe tbody tr th {\n",
              "        vertical-align: top;\n",
              "    }\n",
              "\n",
              "    .dataframe thead th {\n",
              "        text-align: right;\n",
              "    }\n",
              "</style>\n",
              "<table border=\"1\" class=\"dataframe\">\n",
              "  <thead>\n",
              "    <tr style=\"text-align: right;\">\n",
              "      <th></th>\n",
              "      <th>isFraud</th>\n",
              "      <th>TransactionDT</th>\n",
              "      <th>TransactionAmt</th>\n",
              "    </tr>\n",
              "  </thead>\n",
              "  <tbody>\n",
              "    <tr>\n",
              "      <th>0</th>\n",
              "      <td>0</td>\n",
              "      <td>13363145</td>\n",
              "      <td>108.95</td>\n",
              "    </tr>\n",
              "    <tr>\n",
              "      <th>1</th>\n",
              "      <td>0</td>\n",
              "      <td>1125238</td>\n",
              "      <td>30.00</td>\n",
              "    </tr>\n",
              "    <tr>\n",
              "      <th>2</th>\n",
              "      <td>0</td>\n",
              "      <td>15287024</td>\n",
              "      <td>26.95</td>\n",
              "    </tr>\n",
              "    <tr>\n",
              "      <th>3</th>\n",
              "      <td>0</td>\n",
              "      <td>9693271</td>\n",
              "      <td>44.50</td>\n",
              "    </tr>\n",
              "    <tr>\n",
              "      <th>4</th>\n",
              "      <td>0</td>\n",
              "      <td>1172424</td>\n",
              "      <td>49.00</td>\n",
              "    </tr>\n",
              "  </tbody>\n",
              "</table>\n",
              "</div>\n",
              "      <button class=\"colab-df-convert\" onclick=\"convertToInteractive('df-9860d40e-f930-4b4e-9a30-92d16dd16554')\"\n",
              "              title=\"Convert this dataframe to an interactive table.\"\n",
              "              style=\"display:none;\">\n",
              "        \n",
              "  <svg xmlns=\"http://www.w3.org/2000/svg\" height=\"24px\"viewBox=\"0 0 24 24\"\n",
              "       width=\"24px\">\n",
              "    <path d=\"M0 0h24v24H0V0z\" fill=\"none\"/>\n",
              "    <path d=\"M18.56 5.44l.94 2.06.94-2.06 2.06-.94-2.06-.94-.94-2.06-.94 2.06-2.06.94zm-11 1L8.5 8.5l.94-2.06 2.06-.94-2.06-.94L8.5 2.5l-.94 2.06-2.06.94zm10 10l.94 2.06.94-2.06 2.06-.94-2.06-.94-.94-2.06-.94 2.06-2.06.94z\"/><path d=\"M17.41 7.96l-1.37-1.37c-.4-.4-.92-.59-1.43-.59-.52 0-1.04.2-1.43.59L10.3 9.45l-7.72 7.72c-.78.78-.78 2.05 0 2.83L4 21.41c.39.39.9.59 1.41.59.51 0 1.02-.2 1.41-.59l7.78-7.78 2.81-2.81c.8-.78.8-2.07 0-2.86zM5.41 20L4 18.59l7.72-7.72 1.47 1.35L5.41 20z\"/>\n",
              "  </svg>\n",
              "      </button>\n",
              "      \n",
              "  <style>\n",
              "    .colab-df-container {\n",
              "      display:flex;\n",
              "      flex-wrap:wrap;\n",
              "      gap: 12px;\n",
              "    }\n",
              "\n",
              "    .colab-df-convert {\n",
              "      background-color: #E8F0FE;\n",
              "      border: none;\n",
              "      border-radius: 50%;\n",
              "      cursor: pointer;\n",
              "      display: none;\n",
              "      fill: #1967D2;\n",
              "      height: 32px;\n",
              "      padding: 0 0 0 0;\n",
              "      width: 32px;\n",
              "    }\n",
              "\n",
              "    .colab-df-convert:hover {\n",
              "      background-color: #E2EBFA;\n",
              "      box-shadow: 0px 1px 2px rgba(60, 64, 67, 0.3), 0px 1px 3px 1px rgba(60, 64, 67, 0.15);\n",
              "      fill: #174EA6;\n",
              "    }\n",
              "\n",
              "    [theme=dark] .colab-df-convert {\n",
              "      background-color: #3B4455;\n",
              "      fill: #D2E3FC;\n",
              "    }\n",
              "\n",
              "    [theme=dark] .colab-df-convert:hover {\n",
              "      background-color: #434B5C;\n",
              "      box-shadow: 0px 1px 3px 1px rgba(0, 0, 0, 0.15);\n",
              "      filter: drop-shadow(0px 1px 2px rgba(0, 0, 0, 0.3));\n",
              "      fill: #FFFFFF;\n",
              "    }\n",
              "  </style>\n",
              "\n",
              "      <script>\n",
              "        const buttonEl =\n",
              "          document.querySelector('#df-9860d40e-f930-4b4e-9a30-92d16dd16554 button.colab-df-convert');\n",
              "        buttonEl.style.display =\n",
              "          google.colab.kernel.accessAllowed ? 'block' : 'none';\n",
              "\n",
              "        async function convertToInteractive(key) {\n",
              "          const element = document.querySelector('#df-9860d40e-f930-4b4e-9a30-92d16dd16554');\n",
              "          const dataTable =\n",
              "            await google.colab.kernel.invokeFunction('convertToInteractive',\n",
              "                                                     [key], {});\n",
              "          if (!dataTable) return;\n",
              "\n",
              "          const docLinkHtml = 'Like what you see? Visit the ' +\n",
              "            '<a target=\"_blank\" href=https://colab.research.google.com/notebooks/data_table.ipynb>data table notebook</a>'\n",
              "            + ' to learn more about interactive tables.';\n",
              "          element.innerHTML = '';\n",
              "          dataTable['output_type'] = 'display_data';\n",
              "          await google.colab.output.renderOutput(dataTable, element);\n",
              "          const docLink = document.createElement('div');\n",
              "          docLink.innerHTML = docLinkHtml;\n",
              "          element.appendChild(docLink);\n",
              "        }\n",
              "      </script>\n",
              "    </div>\n",
              "  </div>\n",
              "  "
            ]
          },
          "metadata": {},
          "execution_count": 22
        }
      ],
      "source": [
        "# Visualizando X1\n",
        "X1.head()"
      ],
      "id": "M0z0uiM7GhwM"
    },
    {
      "cell_type": "code",
      "execution_count": 23,
      "metadata": {
        "id": "OLNCswnqGhwM",
        "outputId": "3a089d27-ea71-4448-85fb-ae424b37e26d",
        "colab": {
          "base_uri": "https://localhost:8080/"
        }
      },
      "outputs": [
        {
          "output_type": "execute_result",
          "data": {
            "text/plain": [
              "array([[-0.1210458 , -0.24431719, -0.22875977, ..., -0.04333916,\n",
              "        -0.07640022, -0.05640287],\n",
              "       [-0.44973419,  9.27505883,  7.99356171, ..., -0.04333916,\n",
              "        -0.07640022, -0.05640287],\n",
              "       [-0.46243209, -0.21226542, -0.19796455, ..., -0.04333916,\n",
              "        -0.07640022, -0.05640287],\n",
              "       ...,\n",
              "       [-0.33365452, -0.24431719, -0.19796455, ...,  0.11570344,\n",
              "         0.06603474,  0.09698734],\n",
              "       [-0.41226496, -0.24431719, -0.22875977, ..., -0.04333916,\n",
              "        -0.07640022, -0.05640287],\n",
              "       [-0.32920818, -0.24431719, -0.19796455, ..., -0.04333916,\n",
              "        -0.07640022, -0.05640287]])"
            ]
          },
          "metadata": {},
          "execution_count": 23
        }
      ],
      "source": [
        "# Visualizando X2\n",
        "X2"
      ],
      "id": "OLNCswnqGhwM"
    },
    {
      "cell_type": "code",
      "execution_count": 24,
      "metadata": {
        "id": "HWQ4oZXlGhwN",
        "outputId": "95c9c5e0-25b2-4fcb-a89a-9ca90b2af256",
        "colab": {
          "base_uri": "https://localhost:8080/",
          "height": 487
        }
      },
      "outputs": [
        {
          "output_type": "execute_result",
          "data": {
            "text/plain": [
              "       TransactionAmt        C1        C2        C3        C4        C5  \\\n",
              "0           -0.121046 -0.244317 -0.228760 -0.011927 -0.045062 -0.199831   \n",
              "1           -0.449734  9.275059  7.993562 -0.011927 -0.045062  3.153127   \n",
              "2           -0.462432 -0.212265 -0.197965 -0.011927 -0.045062 -0.199831   \n",
              "3           -0.389367 -0.244317 -0.228760 -0.011927 -0.045062 -0.235501   \n",
              "4           -0.370632 -0.212265 -0.228760 -0.011927 -0.045062 -0.235501   \n",
              "...               ...       ...       ...       ...       ...       ...   \n",
              "49995       -0.291739 -0.212265 -0.105579 -0.011927 -0.045062 -0.092822   \n",
              "49996       -0.470263 -0.244317 -0.228760 -0.011927  0.090114 -0.235501   \n",
              "49997       -0.333655 -0.244317 -0.197965 -0.011927  0.090114 -0.235501   \n",
              "49998       -0.412265 -0.244317 -0.228760 -0.011927 -0.045062 -0.235501   \n",
              "49999       -0.329208 -0.244317 -0.197965 -0.011927 -0.045062 -0.164162   \n",
              "\n",
              "              C6        C7        C8        C9  ...      V312      V313  \\\n",
              "0      -0.235490 -0.043256 -0.044176 -0.237795  ... -0.282104 -0.223235   \n",
              "1      13.934840 -0.043256 -0.044176  9.643392  ... -0.282104 -0.223235   \n",
              "2      -0.190217 -0.043256 -0.044176 -0.182593  ... -0.282104 -0.223235   \n",
              "3      -0.235490 -0.043256 -0.044176 -0.237795  ... -0.282104 -0.223235   \n",
              "4      -0.190217 -0.043256 -0.044176 -0.182593  ... -0.282104 -0.223235   \n",
              "...          ...       ...       ...       ...  ...       ...       ...   \n",
              "49995  -0.099672 -0.043256 -0.044176 -0.237795  ... -0.282104 -0.223235   \n",
              "49996  -0.235490  0.091809 -0.044176 -0.292998  ... -0.282104 -0.223235   \n",
              "49997  -0.235490  0.091809  0.044774 -0.292998  ... -0.282104 -0.223235   \n",
              "49998  -0.235490 -0.043256 -0.044176 -0.127391  ...  0.047787 -0.223235   \n",
              "49999  -0.280763 -0.043256 -0.044176 -0.237795  ...  0.106838  0.314630   \n",
              "\n",
              "           V314      V315      V316      V317      V318      V319      V320  \\\n",
              "0     -0.255732 -0.234763 -0.072058 -0.091299 -0.095555 -0.043339 -0.076400   \n",
              "1     -0.255732 -0.234763 -0.072058 -0.091299 -0.095555 -0.043339 -0.076400   \n",
              "2     -0.255732 -0.234763 -0.072058 -0.091299 -0.095555 -0.043339 -0.076400   \n",
              "3     -0.255732 -0.234763 -0.072058 -0.091299 -0.095555 -0.043339 -0.076400   \n",
              "4     -0.255732 -0.234763 -0.072058  0.033271 -0.095555 -0.043339 -0.076400   \n",
              "...         ...       ...       ...       ...       ...       ...       ...   \n",
              "49995 -0.255732 -0.234763 -0.072058 -0.091299 -0.095555 -0.043339 -0.076400   \n",
              "49996 -0.255732 -0.234763 -0.072058 -0.091299 -0.095555 -0.043339 -0.076400   \n",
              "49997 -0.255732 -0.234763 -0.072058 -0.091299 -0.095555  0.115703  0.066035   \n",
              "49998 -0.255732 -0.234763 -0.072058 -0.091299 -0.095555 -0.043339 -0.076400   \n",
              "49999  0.056521  0.216641 -0.072058 -0.091299 -0.095555 -0.043339 -0.076400   \n",
              "\n",
              "           V321  \n",
              "0     -0.056403  \n",
              "1     -0.056403  \n",
              "2     -0.056403  \n",
              "3     -0.056403  \n",
              "4     -0.056403  \n",
              "...         ...  \n",
              "49995 -0.056403  \n",
              "49996 -0.056403  \n",
              "49997  0.096987  \n",
              "49998 -0.056403  \n",
              "49999 -0.056403  \n",
              "\n",
              "[50000 rows x 169 columns]"
            ],
            "text/html": [
              "\n",
              "  <div id=\"df-e34d022a-7734-41cf-86ea-4dd3a6598d96\">\n",
              "    <div class=\"colab-df-container\">\n",
              "      <div>\n",
              "<style scoped>\n",
              "    .dataframe tbody tr th:only-of-type {\n",
              "        vertical-align: middle;\n",
              "    }\n",
              "\n",
              "    .dataframe tbody tr th {\n",
              "        vertical-align: top;\n",
              "    }\n",
              "\n",
              "    .dataframe thead th {\n",
              "        text-align: right;\n",
              "    }\n",
              "</style>\n",
              "<table border=\"1\" class=\"dataframe\">\n",
              "  <thead>\n",
              "    <tr style=\"text-align: right;\">\n",
              "      <th></th>\n",
              "      <th>TransactionAmt</th>\n",
              "      <th>C1</th>\n",
              "      <th>C2</th>\n",
              "      <th>C3</th>\n",
              "      <th>C4</th>\n",
              "      <th>C5</th>\n",
              "      <th>C6</th>\n",
              "      <th>C7</th>\n",
              "      <th>C8</th>\n",
              "      <th>C9</th>\n",
              "      <th>...</th>\n",
              "      <th>V312</th>\n",
              "      <th>V313</th>\n",
              "      <th>V314</th>\n",
              "      <th>V315</th>\n",
              "      <th>V316</th>\n",
              "      <th>V317</th>\n",
              "      <th>V318</th>\n",
              "      <th>V319</th>\n",
              "      <th>V320</th>\n",
              "      <th>V321</th>\n",
              "    </tr>\n",
              "  </thead>\n",
              "  <tbody>\n",
              "    <tr>\n",
              "      <th>0</th>\n",
              "      <td>-0.121046</td>\n",
              "      <td>-0.244317</td>\n",
              "      <td>-0.228760</td>\n",
              "      <td>-0.011927</td>\n",
              "      <td>-0.045062</td>\n",
              "      <td>-0.199831</td>\n",
              "      <td>-0.235490</td>\n",
              "      <td>-0.043256</td>\n",
              "      <td>-0.044176</td>\n",
              "      <td>-0.237795</td>\n",
              "      <td>...</td>\n",
              "      <td>-0.282104</td>\n",
              "      <td>-0.223235</td>\n",
              "      <td>-0.255732</td>\n",
              "      <td>-0.234763</td>\n",
              "      <td>-0.072058</td>\n",
              "      <td>-0.091299</td>\n",
              "      <td>-0.095555</td>\n",
              "      <td>-0.043339</td>\n",
              "      <td>-0.076400</td>\n",
              "      <td>-0.056403</td>\n",
              "    </tr>\n",
              "    <tr>\n",
              "      <th>1</th>\n",
              "      <td>-0.449734</td>\n",
              "      <td>9.275059</td>\n",
              "      <td>7.993562</td>\n",
              "      <td>-0.011927</td>\n",
              "      <td>-0.045062</td>\n",
              "      <td>3.153127</td>\n",
              "      <td>13.934840</td>\n",
              "      <td>-0.043256</td>\n",
              "      <td>-0.044176</td>\n",
              "      <td>9.643392</td>\n",
              "      <td>...</td>\n",
              "      <td>-0.282104</td>\n",
              "      <td>-0.223235</td>\n",
              "      <td>-0.255732</td>\n",
              "      <td>-0.234763</td>\n",
              "      <td>-0.072058</td>\n",
              "      <td>-0.091299</td>\n",
              "      <td>-0.095555</td>\n",
              "      <td>-0.043339</td>\n",
              "      <td>-0.076400</td>\n",
              "      <td>-0.056403</td>\n",
              "    </tr>\n",
              "    <tr>\n",
              "      <th>2</th>\n",
              "      <td>-0.462432</td>\n",
              "      <td>-0.212265</td>\n",
              "      <td>-0.197965</td>\n",
              "      <td>-0.011927</td>\n",
              "      <td>-0.045062</td>\n",
              "      <td>-0.199831</td>\n",
              "      <td>-0.190217</td>\n",
              "      <td>-0.043256</td>\n",
              "      <td>-0.044176</td>\n",
              "      <td>-0.182593</td>\n",
              "      <td>...</td>\n",
              "      <td>-0.282104</td>\n",
              "      <td>-0.223235</td>\n",
              "      <td>-0.255732</td>\n",
              "      <td>-0.234763</td>\n",
              "      <td>-0.072058</td>\n",
              "      <td>-0.091299</td>\n",
              "      <td>-0.095555</td>\n",
              "      <td>-0.043339</td>\n",
              "      <td>-0.076400</td>\n",
              "      <td>-0.056403</td>\n",
              "    </tr>\n",
              "    <tr>\n",
              "      <th>3</th>\n",
              "      <td>-0.389367</td>\n",
              "      <td>-0.244317</td>\n",
              "      <td>-0.228760</td>\n",
              "      <td>-0.011927</td>\n",
              "      <td>-0.045062</td>\n",
              "      <td>-0.235501</td>\n",
              "      <td>-0.235490</td>\n",
              "      <td>-0.043256</td>\n",
              "      <td>-0.044176</td>\n",
              "      <td>-0.237795</td>\n",
              "      <td>...</td>\n",
              "      <td>-0.282104</td>\n",
              "      <td>-0.223235</td>\n",
              "      <td>-0.255732</td>\n",
              "      <td>-0.234763</td>\n",
              "      <td>-0.072058</td>\n",
              "      <td>-0.091299</td>\n",
              "      <td>-0.095555</td>\n",
              "      <td>-0.043339</td>\n",
              "      <td>-0.076400</td>\n",
              "      <td>-0.056403</td>\n",
              "    </tr>\n",
              "    <tr>\n",
              "      <th>4</th>\n",
              "      <td>-0.370632</td>\n",
              "      <td>-0.212265</td>\n",
              "      <td>-0.228760</td>\n",
              "      <td>-0.011927</td>\n",
              "      <td>-0.045062</td>\n",
              "      <td>-0.235501</td>\n",
              "      <td>-0.190217</td>\n",
              "      <td>-0.043256</td>\n",
              "      <td>-0.044176</td>\n",
              "      <td>-0.182593</td>\n",
              "      <td>...</td>\n",
              "      <td>-0.282104</td>\n",
              "      <td>-0.223235</td>\n",
              "      <td>-0.255732</td>\n",
              "      <td>-0.234763</td>\n",
              "      <td>-0.072058</td>\n",
              "      <td>0.033271</td>\n",
              "      <td>-0.095555</td>\n",
              "      <td>-0.043339</td>\n",
              "      <td>-0.076400</td>\n",
              "      <td>-0.056403</td>\n",
              "    </tr>\n",
              "    <tr>\n",
              "      <th>...</th>\n",
              "      <td>...</td>\n",
              "      <td>...</td>\n",
              "      <td>...</td>\n",
              "      <td>...</td>\n",
              "      <td>...</td>\n",
              "      <td>...</td>\n",
              "      <td>...</td>\n",
              "      <td>...</td>\n",
              "      <td>...</td>\n",
              "      <td>...</td>\n",
              "      <td>...</td>\n",
              "      <td>...</td>\n",
              "      <td>...</td>\n",
              "      <td>...</td>\n",
              "      <td>...</td>\n",
              "      <td>...</td>\n",
              "      <td>...</td>\n",
              "      <td>...</td>\n",
              "      <td>...</td>\n",
              "      <td>...</td>\n",
              "      <td>...</td>\n",
              "    </tr>\n",
              "    <tr>\n",
              "      <th>49995</th>\n",
              "      <td>-0.291739</td>\n",
              "      <td>-0.212265</td>\n",
              "      <td>-0.105579</td>\n",
              "      <td>-0.011927</td>\n",
              "      <td>-0.045062</td>\n",
              "      <td>-0.092822</td>\n",
              "      <td>-0.099672</td>\n",
              "      <td>-0.043256</td>\n",
              "      <td>-0.044176</td>\n",
              "      <td>-0.237795</td>\n",
              "      <td>...</td>\n",
              "      <td>-0.282104</td>\n",
              "      <td>-0.223235</td>\n",
              "      <td>-0.255732</td>\n",
              "      <td>-0.234763</td>\n",
              "      <td>-0.072058</td>\n",
              "      <td>-0.091299</td>\n",
              "      <td>-0.095555</td>\n",
              "      <td>-0.043339</td>\n",
              "      <td>-0.076400</td>\n",
              "      <td>-0.056403</td>\n",
              "    </tr>\n",
              "    <tr>\n",
              "      <th>49996</th>\n",
              "      <td>-0.470263</td>\n",
              "      <td>-0.244317</td>\n",
              "      <td>-0.228760</td>\n",
              "      <td>-0.011927</td>\n",
              "      <td>0.090114</td>\n",
              "      <td>-0.235501</td>\n",
              "      <td>-0.235490</td>\n",
              "      <td>0.091809</td>\n",
              "      <td>-0.044176</td>\n",
              "      <td>-0.292998</td>\n",
              "      <td>...</td>\n",
              "      <td>-0.282104</td>\n",
              "      <td>-0.223235</td>\n",
              "      <td>-0.255732</td>\n",
              "      <td>-0.234763</td>\n",
              "      <td>-0.072058</td>\n",
              "      <td>-0.091299</td>\n",
              "      <td>-0.095555</td>\n",
              "      <td>-0.043339</td>\n",
              "      <td>-0.076400</td>\n",
              "      <td>-0.056403</td>\n",
              "    </tr>\n",
              "    <tr>\n",
              "      <th>49997</th>\n",
              "      <td>-0.333655</td>\n",
              "      <td>-0.244317</td>\n",
              "      <td>-0.197965</td>\n",
              "      <td>-0.011927</td>\n",
              "      <td>0.090114</td>\n",
              "      <td>-0.235501</td>\n",
              "      <td>-0.235490</td>\n",
              "      <td>0.091809</td>\n",
              "      <td>0.044774</td>\n",
              "      <td>-0.292998</td>\n",
              "      <td>...</td>\n",
              "      <td>-0.282104</td>\n",
              "      <td>-0.223235</td>\n",
              "      <td>-0.255732</td>\n",
              "      <td>-0.234763</td>\n",
              "      <td>-0.072058</td>\n",
              "      <td>-0.091299</td>\n",
              "      <td>-0.095555</td>\n",
              "      <td>0.115703</td>\n",
              "      <td>0.066035</td>\n",
              "      <td>0.096987</td>\n",
              "    </tr>\n",
              "    <tr>\n",
              "      <th>49998</th>\n",
              "      <td>-0.412265</td>\n",
              "      <td>-0.244317</td>\n",
              "      <td>-0.228760</td>\n",
              "      <td>-0.011927</td>\n",
              "      <td>-0.045062</td>\n",
              "      <td>-0.235501</td>\n",
              "      <td>-0.235490</td>\n",
              "      <td>-0.043256</td>\n",
              "      <td>-0.044176</td>\n",
              "      <td>-0.127391</td>\n",
              "      <td>...</td>\n",
              "      <td>0.047787</td>\n",
              "      <td>-0.223235</td>\n",
              "      <td>-0.255732</td>\n",
              "      <td>-0.234763</td>\n",
              "      <td>-0.072058</td>\n",
              "      <td>-0.091299</td>\n",
              "      <td>-0.095555</td>\n",
              "      <td>-0.043339</td>\n",
              "      <td>-0.076400</td>\n",
              "      <td>-0.056403</td>\n",
              "    </tr>\n",
              "    <tr>\n",
              "      <th>49999</th>\n",
              "      <td>-0.329208</td>\n",
              "      <td>-0.244317</td>\n",
              "      <td>-0.197965</td>\n",
              "      <td>-0.011927</td>\n",
              "      <td>-0.045062</td>\n",
              "      <td>-0.164162</td>\n",
              "      <td>-0.280763</td>\n",
              "      <td>-0.043256</td>\n",
              "      <td>-0.044176</td>\n",
              "      <td>-0.237795</td>\n",
              "      <td>...</td>\n",
              "      <td>0.106838</td>\n",
              "      <td>0.314630</td>\n",
              "      <td>0.056521</td>\n",
              "      <td>0.216641</td>\n",
              "      <td>-0.072058</td>\n",
              "      <td>-0.091299</td>\n",
              "      <td>-0.095555</td>\n",
              "      <td>-0.043339</td>\n",
              "      <td>-0.076400</td>\n",
              "      <td>-0.056403</td>\n",
              "    </tr>\n",
              "  </tbody>\n",
              "</table>\n",
              "<p>50000 rows × 169 columns</p>\n",
              "</div>\n",
              "      <button class=\"colab-df-convert\" onclick=\"convertToInteractive('df-e34d022a-7734-41cf-86ea-4dd3a6598d96')\"\n",
              "              title=\"Convert this dataframe to an interactive table.\"\n",
              "              style=\"display:none;\">\n",
              "        \n",
              "  <svg xmlns=\"http://www.w3.org/2000/svg\" height=\"24px\"viewBox=\"0 0 24 24\"\n",
              "       width=\"24px\">\n",
              "    <path d=\"M0 0h24v24H0V0z\" fill=\"none\"/>\n",
              "    <path d=\"M18.56 5.44l.94 2.06.94-2.06 2.06-.94-2.06-.94-.94-2.06-.94 2.06-2.06.94zm-11 1L8.5 8.5l.94-2.06 2.06-.94-2.06-.94L8.5 2.5l-.94 2.06-2.06.94zm10 10l.94 2.06.94-2.06 2.06-.94-2.06-.94-.94-2.06-.94 2.06-2.06.94z\"/><path d=\"M17.41 7.96l-1.37-1.37c-.4-.4-.92-.59-1.43-.59-.52 0-1.04.2-1.43.59L10.3 9.45l-7.72 7.72c-.78.78-.78 2.05 0 2.83L4 21.41c.39.39.9.59 1.41.59.51 0 1.02-.2 1.41-.59l7.78-7.78 2.81-2.81c.8-.78.8-2.07 0-2.86zM5.41 20L4 18.59l7.72-7.72 1.47 1.35L5.41 20z\"/>\n",
              "  </svg>\n",
              "      </button>\n",
              "      \n",
              "  <style>\n",
              "    .colab-df-container {\n",
              "      display:flex;\n",
              "      flex-wrap:wrap;\n",
              "      gap: 12px;\n",
              "    }\n",
              "\n",
              "    .colab-df-convert {\n",
              "      background-color: #E8F0FE;\n",
              "      border: none;\n",
              "      border-radius: 50%;\n",
              "      cursor: pointer;\n",
              "      display: none;\n",
              "      fill: #1967D2;\n",
              "      height: 32px;\n",
              "      padding: 0 0 0 0;\n",
              "      width: 32px;\n",
              "    }\n",
              "\n",
              "    .colab-df-convert:hover {\n",
              "      background-color: #E2EBFA;\n",
              "      box-shadow: 0px 1px 2px rgba(60, 64, 67, 0.3), 0px 1px 3px 1px rgba(60, 64, 67, 0.15);\n",
              "      fill: #174EA6;\n",
              "    }\n",
              "\n",
              "    [theme=dark] .colab-df-convert {\n",
              "      background-color: #3B4455;\n",
              "      fill: #D2E3FC;\n",
              "    }\n",
              "\n",
              "    [theme=dark] .colab-df-convert:hover {\n",
              "      background-color: #434B5C;\n",
              "      box-shadow: 0px 1px 3px 1px rgba(0, 0, 0, 0.15);\n",
              "      filter: drop-shadow(0px 1px 2px rgba(0, 0, 0, 0.3));\n",
              "      fill: #FFFFFF;\n",
              "    }\n",
              "  </style>\n",
              "\n",
              "      <script>\n",
              "        const buttonEl =\n",
              "          document.querySelector('#df-e34d022a-7734-41cf-86ea-4dd3a6598d96 button.colab-df-convert');\n",
              "        buttonEl.style.display =\n",
              "          google.colab.kernel.accessAllowed ? 'block' : 'none';\n",
              "\n",
              "        async function convertToInteractive(key) {\n",
              "          const element = document.querySelector('#df-e34d022a-7734-41cf-86ea-4dd3a6598d96');\n",
              "          const dataTable =\n",
              "            await google.colab.kernel.invokeFunction('convertToInteractive',\n",
              "                                                     [key], {});\n",
              "          if (!dataTable) return;\n",
              "\n",
              "          const docLinkHtml = 'Like what you see? Visit the ' +\n",
              "            '<a target=\"_blank\" href=https://colab.research.google.com/notebooks/data_table.ipynb>data table notebook</a>'\n",
              "            + ' to learn more about interactive tables.';\n",
              "          element.innerHTML = '';\n",
              "          dataTable['output_type'] = 'display_data';\n",
              "          await google.colab.output.renderOutput(dataTable, element);\n",
              "          const docLink = document.createElement('div');\n",
              "          docLink.innerHTML = docLinkHtml;\n",
              "          element.appendChild(docLink);\n",
              "        }\n",
              "      </script>\n",
              "    </div>\n",
              "  </div>\n",
              "  "
            ]
          },
          "metadata": {},
          "execution_count": 24
        }
      ],
      "source": [
        "# checando X2\n",
        "pd.DataFrame(X2, columns=df.columns[3:])"
      ],
      "id": "HWQ4oZXlGhwN"
    },
    {
      "cell_type": "code",
      "execution_count": 25,
      "metadata": {
        "id": "osqjo6LUGhwO"
      },
      "outputs": [],
      "source": [
        "# vamos definir uma array com o atributo alvo isFraud\n",
        "y = X1['isFraud'].astype('int')"
      ],
      "id": "osqjo6LUGhwO"
    },
    {
      "cell_type": "code",
      "execution_count": 26,
      "metadata": {
        "id": "FYnkXvk_GhwO",
        "outputId": "d13b3596-9b7d-4299-93d7-b674a38f5ac3",
        "colab": {
          "base_uri": "https://localhost:8080/"
        }
      },
      "outputs": [
        {
          "output_type": "execute_result",
          "data": {
            "text/plain": [
              "0.0312"
            ]
          },
          "metadata": {},
          "execution_count": 26
        }
      ],
      "source": [
        "# verificando se o % de casos de fraude está OK\n",
        "y.sum()/len(y)"
      ],
      "id": "FYnkXvk_GhwO"
    },
    {
      "cell_type": "code",
      "execution_count": 27,
      "metadata": {
        "id": "7JiQ6f1tGhwO",
        "outputId": "5259f7b2-add6-43ef-f5a9-3e3362d7bec6",
        "colab": {
          "base_uri": "https://localhost:8080/"
        }
      },
      "outputs": [
        {
          "output_type": "stream",
          "name": "stdout",
          "text": [
            "(50000, 3)\n",
            "(50000, 169)\n"
          ]
        }
      ],
      "source": [
        "print(X1.shape)\n",
        "print(X2.shape)"
      ],
      "id": "7JiQ6f1tGhwO"
    },
    {
      "cell_type": "markdown",
      "metadata": {
        "id": "XdlLYDQ3GhwP"
      },
      "source": [
        "#### Resumo Etapa 2B - Entendimento e Ingestão dos dados da base Kaggle\n",
        "\n",
        "- Foi gerada uma array X2 com dados padronizados com 50000 registros e 169 atributos padronizados\n",
        "- Foi gerada a array y com o atributo alvo `ìsFraud`\n",
        "- Foi gerado o dataframe X1 com os atributos que não serão padronizados `TransactioID`, `TransactioDT`, `TransactioAmt` e `ìsFraud`."
      ],
      "id": "XdlLYDQ3GhwP"
    },
    {
      "cell_type": "markdown",
      "metadata": {
        "id": "6qwjE1ZwGhwP"
      },
      "source": [
        "### Etapa 2C - Redução de Dimensões (PCA e UMAP)\n",
        "\n",
        "Esta sub etapa é composta dos seguintes passos:\n",
        "- Empregar o método `pca.explained_variance_ratio_` para determinar a quantidade de dimensões N a serem empregadas no UMAP\n",
        "- Aplicar o UMAP para gerar uma redução para 2 dimensões para ser empregada na pré-seleção de modelos\n",
        "- Aplicara o UMAP para gerar uma redução para as N dimensão (definda no passo 1) para ser empregada na análise dos modelos selecionados no passo 2\n"
      ],
      "id": "6qwjE1ZwGhwP"
    },
    {
      "cell_type": "markdown",
      "metadata": {
        "id": "F-k59WiFGhwQ"
      },
      "source": [
        "####  Empregando o método `pca.explained_variance_ratio_` para determinar a quantidade de dimensões N"
      ],
      "id": "F-k59WiFGhwQ"
    },
    {
      "cell_type": "code",
      "execution_count": 28,
      "metadata": {
        "id": "bHTx4k9AGhwQ",
        "outputId": "11f23ed0-a2b0-40c8-df1a-0b3b02378c49",
        "colab": {
          "base_uri": "https://localhost:8080/"
        }
      },
      "outputs": [
        {
          "output_type": "stream",
          "name": "stdout",
          "text": [
            "CPU times: user 1.97 s, sys: 1.33 s, total: 3.3 s\n",
            "Wall time: 1.42 s\n"
          ]
        }
      ],
      "source": [
        "%%time\n",
        "#  Empregando o método `pca.explained_variance_ratio_` para determinar a quantidade de dimensões N\n",
        "pca = PCA(random_state=42)\n",
        "X_pca = pca.fit_transform(X2)\n",
        "ev_ratio = pca.explained_variance_ratio_"
      ],
      "id": "bHTx4k9AGhwQ"
    },
    {
      "cell_type": "code",
      "execution_count": 29,
      "metadata": {
        "id": "AaF2i_WYGhwQ",
        "outputId": "c2380c8e-d482-4827-ad1a-77274bb158b1",
        "colab": {
          "base_uri": "https://localhost:8080/"
        }
      },
      "outputs": [
        {
          "output_type": "execute_result",
          "data": {
            "text/plain": [
              "array([1.79970601e-01, 1.20638067e-01, 5.26643165e-02, 4.72204584e-02,\n",
              "       4.56837791e-02, 4.40399197e-02, 3.36935480e-02, 3.05337275e-02,\n",
              "       2.48982397e-02, 2.40694332e-02, 2.24508486e-02, 2.12459289e-02,\n",
              "       2.05485745e-02, 2.00719847e-02, 1.82498992e-02, 1.72358068e-02,\n",
              "       1.57559532e-02, 1.47450706e-02, 1.36228919e-02, 1.29907252e-02,\n",
              "       1.23552720e-02, 1.08837257e-02, 1.00100349e-02, 9.27639059e-03,\n",
              "       8.66655362e-03, 7.82331292e-03, 7.39995805e-03, 7.29712917e-03,\n",
              "       6.33597121e-03, 5.92989527e-03, 5.83316930e-03, 5.26635518e-03,\n",
              "       4.92945164e-03, 4.61510927e-03, 4.47501790e-03, 4.33109780e-03,\n",
              "       4.10469476e-03, 3.91449418e-03, 3.79703694e-03, 3.58525613e-03,\n",
              "       3.46527248e-03, 3.26857570e-03, 3.07771351e-03, 2.98036285e-03,\n",
              "       2.93030303e-03, 2.75957716e-03, 2.72515643e-03, 2.67557612e-03,\n",
              "       2.47479347e-03, 2.38959150e-03, 2.20986891e-03, 2.15337262e-03,\n",
              "       2.04991369e-03, 1.97901638e-03, 1.89507510e-03, 1.87531049e-03,\n",
              "       1.83417960e-03, 1.75444539e-03, 1.65925674e-03, 1.59526241e-03,\n",
              "       1.47938292e-03, 1.44953313e-03, 1.34132903e-03, 1.28674165e-03,\n",
              "       1.26842141e-03, 1.23151744e-03, 1.21792804e-03, 1.17256032e-03,\n",
              "       1.16191791e-03, 1.12757605e-03, 1.10666888e-03, 1.01258286e-03,\n",
              "       9.78888575e-04, 9.69757534e-04, 9.25876148e-04, 8.90678797e-04,\n",
              "       8.82196553e-04, 8.38595599e-04, 8.12904099e-04, 8.04378795e-04,\n",
              "       7.56085842e-04, 7.31044905e-04, 7.18377190e-04, 7.00381886e-04,\n",
              "       6.82541704e-04, 6.38730753e-04, 6.05246787e-04, 5.73769181e-04,\n",
              "       5.57257488e-04, 5.43296780e-04, 5.16328106e-04, 5.03722223e-04,\n",
              "       4.79417722e-04, 4.78303821e-04, 4.67001075e-04, 4.64409137e-04,\n",
              "       4.35821572e-04, 4.09851352e-04, 4.02198756e-04, 3.94200536e-04,\n",
              "       3.62642381e-04, 3.56269319e-04, 3.46233363e-04, 3.43783511e-04,\n",
              "       3.22035148e-04, 3.14022388e-04, 3.09504897e-04, 3.02482846e-04,\n",
              "       2.91543368e-04, 2.82363799e-04, 2.76808858e-04, 2.71661359e-04,\n",
              "       2.61083214e-04, 2.34464515e-04, 2.30315106e-04, 2.22637504e-04,\n",
              "       1.96307106e-04, 1.92141656e-04, 1.84769866e-04, 1.68376094e-04,\n",
              "       1.62169820e-04, 1.57672459e-04, 1.53000738e-04, 1.42100658e-04,\n",
              "       1.35726850e-04, 1.27483816e-04, 1.20785601e-04, 1.17310016e-04,\n",
              "       1.13725199e-04, 1.05323023e-04, 1.03207335e-04, 9.86002414e-05,\n",
              "       8.81285827e-05, 8.71431699e-05, 8.61250037e-05, 8.11848417e-05,\n",
              "       7.74429313e-05, 7.53416396e-05, 7.19094827e-05, 6.99226402e-05,\n",
              "       6.47034671e-05, 5.41285575e-05, 5.01577183e-05, 4.38158817e-05,\n",
              "       3.77363594e-05, 3.52922764e-05, 2.95735668e-05, 2.52983932e-05,\n",
              "       2.26899426e-05, 1.65761642e-05, 1.15599567e-05, 1.05192650e-05,\n",
              "       8.57285678e-06, 6.74210163e-06, 4.05246811e-06, 1.93353287e-06,\n",
              "       1.65456127e-06, 1.07219836e-06, 1.80550958e-07, 1.55471207e-07,\n",
              "       5.03344745e-08, 2.19131115e-08, 7.30943771e-09, 3.78399020e-09,\n",
              "       2.87239256e-09, 1.27007154e-09, 6.48913719e-12, 3.29315186e-20,\n",
              "       1.07873903e-33])"
            ]
          },
          "metadata": {},
          "execution_count": 29
        }
      ],
      "source": [
        "# Visualizado ev_ratio\n",
        "ev_ratio"
      ],
      "id": "AaF2i_WYGhwQ"
    },
    {
      "cell_type": "code",
      "execution_count": 30,
      "metadata": {
        "id": "RE0nZ66YGhwR",
        "outputId": "9ed0c652-1084-486f-b71e-76aecb1c2c5d",
        "colab": {
          "base_uri": "https://localhost:8080/"
        }
      },
      "outputs": [
        {
          "output_type": "execute_result",
          "data": {
            "text/plain": [
              "array([0.1799706 , 0.30060867, 0.35327298, 0.40049344, 0.44617722,\n",
              "       0.49021714, 0.52391069, 0.55444442, 0.57934266, 0.60341209,\n",
              "       0.62586294, 0.64710887, 0.66765744, 0.68772943, 0.70597933,\n",
              "       0.72321513, 0.73897109, 0.75371616, 0.76733905, 0.78032977,\n",
              "       0.79268505, 0.80356877, 0.81357881, 0.8228552 , 0.83152175,\n",
              "       0.83934506, 0.84674502, 0.85404215, 0.86037812, 0.86630802,\n",
              "       0.87214119, 0.87740754, 0.88233699, 0.8869521 , 0.89142712,\n",
              "       0.89575822, 0.89986291, 0.90377741, 0.90757444, 0.9111597 ,\n",
              "       0.91462497, 0.91789355])"
            ]
          },
          "metadata": {},
          "execution_count": 30
        }
      ],
      "source": [
        "# Verificando a soma acumulada de variância explicada\n",
        "ev_ratio.cumsum()[:42]"
      ],
      "id": "RE0nZ66YGhwR"
    },
    {
      "cell_type": "code",
      "execution_count": 31,
      "metadata": {
        "id": "h8LDFbQEGhwR",
        "outputId": "1edd4f62-1abf-4c6c-9060-3eaf1b46f703",
        "colab": {
          "base_uri": "https://localhost:8080/",
          "height": 282
        }
      },
      "outputs": [
        {
          "output_type": "execute_result",
          "data": {
            "text/plain": [
              "<matplotlib.collections.LineCollection at 0x7f680fcdad90>"
            ]
          },
          "metadata": {},
          "execution_count": 31
        },
        {
          "output_type": "display_data",
          "data": {
            "text/plain": [
              "<Figure size 432x288 with 1 Axes>"
            ],
            "image/png": "[encoded data removed]"
          },
          "metadata": {
            "needs_background": "light"
          }
        }
      ],
      "source": [
        "# visualizando os resultados\n",
        "plt.plot(ev_ratio.cumsum(),c='b',lw=2.0)\n",
        "plt.plot(ev_ratio.cumsum()[:42],c='r',lw=4.0)\n",
        "plt.scatter(42,ev_ratio.cumsum()[42],c='r',s=100)\n",
        "plt.hlines(ev_ratio.cumsum()[42], 0,42 , colors='k', linestyles='dotted')\n",
        "plt.vlines(42, 0,ev_ratio.cumsum()[42], colors='k', linestyles='dotted')"
      ],
      "id": "h8LDFbQEGhwR"
    },
    {
      "cell_type": "code",
      "execution_count": 32,
      "metadata": {
        "id": "D6gBvCelGhwR",
        "outputId": "b13e989d-7f7b-45d7-8e78-e800870e3960",
        "colab": {
          "base_uri": "https://localhost:8080/"
        }
      },
      "outputs": [
        {
          "output_type": "stream",
          "name": "stdout",
          "text": [
            "0.9209712624429751\n"
          ]
        }
      ],
      "source": [
        "# Portanto temos N = 42 e a explained variation ratio total é 0.915, porém com a escolha dos ados é aleatória pode variar.\n",
        "N = 42\n",
        "print(ev_ratio.cumsum()[42])"
      ],
      "id": "D6gBvCelGhwR"
    },
    {
      "cell_type": "markdown",
      "metadata": {
        "id": "bco71WfVGhwR"
      },
      "source": [
        "> Considerando a base de 200000 registros a razão de variância explicada por 42 variávei é de ~ 91,5%"
      ],
      "id": "bco71WfVGhwR"
    },
    {
      "cell_type": "markdown",
      "metadata": {
        "id": "oYJogx3mGhwS"
      },
      "source": [
        "#### Aplicar o UMAP para gerar uma redução para 2 dimensões para ser empregada na pré-seleção de modelos\n",
        "\n",
        "#### Como funciona a UMAP (Traduzido de [UMAP.org](https://umap-learn.readthedocs.io/en/latest/how_umap_works.html))\n",
        "\n",
        "UMAP é um algoritmo para redução de dimensão baseado em várias técnicas de aprendizado e ideias de análise de dados topológicos. Ele fornece uma estrutura muito geral para abordar o aprendizado múltiplo e a redução de dimensão, mas também pode fornecer realizações concretas específicas.  \n",
        "\n",
        "Existem fundamentos matemáticos mais profundos, mas para facilitar a leitura pelo público em geral, eles serão meramente referenciados e vinculados. Se você estiver procurando a descrição matemática, consulte o artigo UMAP.\n",
        "\n",
        "Para começar a entender o UMAP, precisaremos de um pouco de conhecimento matemático da topologia algébrica e da análise de dados topológicos. Isso fornecerá um algoritmo básico que funciona bem na teoria, mas infelizmente não tão bem na prática. \n",
        "\n",
        "O próximo passo será fazer uso de alguma geometria Riemanniana básica para trazer os dados do mundo real um pouco mais perto das suposições subjacentes do algoritmo de análise de dados topológicos. Infelizmente, isso introduzirá novas complicações, que serão resolvidas através de uma combinação de matemática profunda (cujos detalhes serão omitidos) e lógica difusa. \n",
        "\n",
        "Podemos então juntar as peças novamente e combiná-las com uma nova abordagem para encontrar uma representação de baixa dimensão mais adequada às novas estruturas de dados disponíveis. Juntando tudo isso, chegamos ao algoritmo UMAP básico."
      ],
      "id": "oYJogx3mGhwS"
    },
    {
      "cell_type": "code",
      "execution_count": 33,
      "metadata": {
        "id": "-bAXeLQ7GhwS",
        "outputId": "f0f74b2a-8699-4a33-94d4-6b92daf97773",
        "colab": {
          "base_uri": "https://localhost:8080/"
        }
      },
      "outputs": [
        {
          "output_type": "stream",
          "name": "stdout",
          "text": [
            "CPU times: user 2min, sys: 574 ms, total: 2min\n",
            "Wall time: 1min 52s\n"
          ]
        }
      ],
      "source": [
        "%%time\n",
        "# Vamos aplicar o UMAP para reduzir a dimensionalidade de X2 \n",
        "X_umap = umap.UMAP(n_components=2,init='random', random_state=0, low_memory=True).fit_transform(X2, y=y)"
      ],
      "id": "-bAXeLQ7GhwS"
    },
    {
      "cell_type": "code",
      "source": [
        "# Verificando o tamanho de X_umap\n",
        "X_umap.shape"
      ],
      "metadata": {
        "id": "ptwhiY6Q0czP",
        "outputId": "e98a41db-8e0d-4c6c-b94c-e0d230067aa6",
        "colab": {
          "base_uri": "https://localhost:8080/"
        }
      },
      "id": "ptwhiY6Q0czP",
      "execution_count": 34,
      "outputs": [
        {
          "output_type": "execute_result",
          "data": {
            "text/plain": [
              "(50000, 2)"
            ]
          },
          "metadata": {},
          "execution_count": 34
        }
      ]
    },
    {
      "cell_type": "code",
      "execution_count": 35,
      "metadata": {
        "id": "DHEZMFezGhwS",
        "outputId": "be613ce7-9fc6-46bb-d188-39ce9ee53cec",
        "colab": {
          "base_uri": "https://localhost:8080/"
        }
      },
      "outputs": [
        {
          "output_type": "execute_result",
          "data": {
            "text/plain": [
              "(50000, 3)"
            ]
          },
          "metadata": {},
          "execution_count": 35
        }
      ],
      "source": [
        "# Agora vamos agregar a X_umap o atributo alvo isFraud\n",
        "X_umap= pd.concat([pd.DataFrame(X_umap, columns=['X0','X1']),X1['isFraud']],axis=1)\n",
        "X_umap.shape"
      ],
      "id": "DHEZMFezGhwS"
    },
    {
      "cell_type": "code",
      "execution_count": 36,
      "metadata": {
        "id": "ICIK9DOoGhwS",
        "outputId": "d956c077-355f-4cfe-d3f3-9864f5577f3c",
        "colab": {
          "base_uri": "https://localhost:8080/",
          "height": 497
        }
      },
      "outputs": [
        {
          "output_type": "display_data",
          "data": {
            "text/plain": [
              "<Figure size 576x576 with 1 Axes>"
            ],
            "image/png": "[encoded data removed]"
          },
          "metadata": {
            "needs_background": "light"
          }
        }
      ],
      "source": [
        "# Visualizando o dataset X_umap\n",
        "fig, ax = plt.subplots(figsize=(8, 8))\n",
        "X_umap[X_umap['isFraud']==1].plot(\n",
        "    kind=\"scatter\",\n",
        "    x=0,\n",
        "    y=1,\n",
        "    s=10,\n",
        "    ax=ax,\n",
        "    c='r',\n",
        "    alpha=0.95\n",
        ")\n",
        "X_umap[X_umap['isFraud']==0].plot(\n",
        "    kind=\"scatter\",\n",
        "    x=0,\n",
        "    y=1,\n",
        "    s=5,\n",
        "    ax=ax,\n",
        "    c='b',\n",
        "    alpha=0.05,\n",
        ")\n",
        "fig.savefig('/content/imagens/umap_2d.png')"
      ],
      "id": "ICIK9DOoGhwS"
    },
    {
      "cell_type": "code",
      "execution_count": 37,
      "metadata": {
        "id": "74f6LSCmGhwT"
      },
      "outputs": [],
      "source": [
        "X_umap.to_csv('/content/data/pre_processed/trans_umap_2D.csv')"
      ],
      "id": "74f6LSCmGhwT"
    },
    {
      "cell_type": "markdown",
      "metadata": {
        "id": "FoAgXaE7GhwT"
      },
      "source": [
        "#### Aplicar o UMAP para gerar uma redução para 42 dimensões, que será empregada na análises dos modelos escolhidos na etapa pré-seleção de modelos"
      ],
      "id": "FoAgXaE7GhwT"
    },
    {
      "cell_type": "code",
      "execution_count": 38,
      "metadata": {
        "id": "d0IQZcjsGhwT",
        "outputId": "bec09c56-98ab-46ea-830f-c3253fa3a8a9",
        "colab": {
          "base_uri": "https://localhost:8080/"
        }
      },
      "outputs": [
        {
          "output_type": "stream",
          "name": "stdout",
          "text": [
            "CPU times: user 2min 30s, sys: 686 ms, total: 2min 31s\n",
            "Wall time: 2min 22s\n"
          ]
        }
      ],
      "source": [
        "%%time\n",
        "X_umap_mult = umap.UMAP(n_components=42,init='random', random_state=0, low_memory=True).fit_transform(X2, y=y)"
      ],
      "id": "d0IQZcjsGhwT"
    },
    {
      "cell_type": "code",
      "execution_count": 39,
      "metadata": {
        "id": "TJc6Lq-CGhwU",
        "outputId": "2b613f6e-ecfe-4ee8-a944-f969824a45e1",
        "colab": {
          "base_uri": "https://localhost:8080/"
        }
      },
      "outputs": [
        {
          "output_type": "execute_result",
          "data": {
            "text/plain": [
              "['X0', 'X1', 'X2', 'X3', 'X4']"
            ]
          },
          "metadata": {},
          "execution_count": 39
        }
      ],
      "source": [
        "# gerando Nomes para as Colunas\n",
        "cols=[('X'+str(a)) for a in range(N)]\n",
        "cols[:5]"
      ],
      "id": "TJc6Lq-CGhwU"
    },
    {
      "cell_type": "code",
      "execution_count": 40,
      "metadata": {
        "id": "Ae7UbkWXGhwU",
        "outputId": "0b4f7eda-c90c-48b5-cf76-9275a06953c4",
        "colab": {
          "base_uri": "https://localhost:8080/"
        }
      },
      "outputs": [
        {
          "output_type": "stream",
          "name": "stdout",
          "text": [
            "CPU times: user 1.66 s, sys: 36.3 ms, total: 1.69 s\n",
            "Wall time: 1.68 s\n"
          ]
        }
      ],
      "source": [
        "%%time\n",
        "# Exportando um DataFrame com X_umap_mult e y\n",
        "trans_umap_multi = pd.concat([pd.DataFrame(X_umap_mult, columns=cols),y],axis=1)\n",
        "trans_umap_multi.to_csv('/content/data/pre_processed/trans_umap_multi.csv')"
      ],
      "id": "Ae7UbkWXGhwU"
    },
    {
      "cell_type": "markdown",
      "source": [
        "### Resumo da Etapa 2\n",
        "\n",
        "- Foi feito a limpeza dos dados gerados na Etapa1\n",
        "- Foi selecionada uma amostra aleatória de 50000 registros para modelagem\n",
        "- Foi slecionado um número de atributos N = 42 que corresponde a uma razão de explicação da variação de 91,5%\n",
        "- Foram gerados dois arquivos para modelagem:\n",
        "  - Na Etapa 3 será feita uma pré-modelagem usando vários modelos e os dados com 2 componentes (`trans_umap_2D.csv`), com esssas dimensões é mais fácil de visualizar como o modelo se comporta, os modelos com melhor desempenho serão selecionados\n",
        "  - Na Etapa 4 os melhores modelos serão usados juntamente com a base de dados de 42 dimensões (`trans_umap_mult.csv`)"
      ],
      "metadata": {
        "id": "zhOM8K6FrJxt"
      },
      "id": "zhOM8K6FrJxt"
    },
    {
      "cell_type": "markdown",
      "metadata": {
        "id": "V3XqO6QiGhwU"
      },
      "source": [
        "## Etapa 3 - Pré Modelagem.\n",
        "\n",
        "Em função da limitação de memória e de tempo preferiu-se executar uma pre-seleção de modelos. Neste processo serão executados o treinamento e avaliação de 10 modelos, utilizando o conjunto de dados `X_UMAP_2D`, de forma que se tenha uma primeira avaliação de seu desempenho, os melhores modelos serão escolidos para serem **novamente treinados e avaliados** agora com o conjunto de dados `X_UMAP_Mult` na **Etapa 4**. Os modelos usados e a sua configuração foram: \n",
        "> - Etapa 3A - Decision Trees.\n",
        "    - `DecisionTreeClassifier(max_depth=7)`\n",
        "> - Etapa 3B - SVC Linear.\n",
        "    - `SVC(kernel=\"linear\", C=1.0, probability=True)`\n",
        "> - Etapa 3C - SVC RBF.\n",
        "    - `SVC(kernel=\"rbf\",gamma=0.05, C=1.0, probability=True)`\n",
        "> - Etapa 3D - Gaussina Naives Bayes.\n",
        "    - `GaussianNB()`\n",
        "> - Etapa 3E - MLP Classifier.\n",
        "    - `MLPClassifier(hidden_layer_sizes=(200,),alpha=0.0001,learning_rate_init=0.001,max_iter=100000)`\n",
        "> - Etapa 3F - KNeighborsClassifier.\n",
        "    - `KNeighborsClassifier(n_neighbors=70)`\n",
        "> - Etapa 3F - 'Analise Discriminante Quadrática.'.\n",
        "    - `QuadraticDiscriminantAnalysis()`\n",
        "> - Etapa 3G - Random Forrest.\n",
        "    - `RandomForestClassifier(n_estimators=1500, max_depth=15)`\n",
        "> - Etapa 3H - Adaboost.\n",
        "    - `AdaBoostClassifier(n_estimators=1500)`\n",
        "> - Etapa 3I - GradientBosting.\n",
        "    - `GradientBoostingClassifier(n_estimators=1500, max_depth=11)`\n",
        "> - Etapa 3I - XGBoost.\n",
        "    - `XGBClassifier(n_estimators=1000, max_depth=11, random_state=42)`\n",
        "> - Etapa 3J - Histogram Based Gradient Boost\n",
        "    - `HistGradientBoostingClassifier(max_iter=1000, learning_rate=0.01)`\n",
        "    \n",
        "Para facilitar a análise foi criada uma função **`grafico_classificador()`** que foi incorporada ao módulo `Model_Tools` que deve ser importando antes da análise e o aquivo `Models_Tools.py` **precisa estar salvo no mesmo diretório do notebook**. "
      ],
      "id": "V3XqO6QiGhwU"
    },
    {
      "cell_type": "code",
      "execution_count": 41,
      "metadata": {
        "id": "Og-MMb-7GhwV"
      },
      "outputs": [],
      "source": [
        "# Caso o xgboost ainda não esteja instalado execute o camndo abaixo deletando o #\n",
        "#! pip install xgboost"
      ],
      "id": "Og-MMb-7GhwV"
    },
    {
      "cell_type": "code",
      "execution_count": 42,
      "metadata": {
        "id": "LwGqJ_iqGhwV",
        "outputId": "017bbea1-4332-420d-8e54-1ab17b75d264",
        "colab": {
          "base_uri": "https://localhost:8080/"
        }
      },
      "outputs": [
        {
          "output_type": "stream",
          "name": "stdout",
          "text": [
            "CPU times: user 37.7 ms, sys: 5.22 ms, total: 42.9 ms\n",
            "Wall time: 170 ms\n"
          ]
        }
      ],
      "source": [
        "%%time\n",
        "\n",
        "import numpy as np\n",
        "from sklearn.preprocessing import StandardScaler\n",
        "from sklearn.metrics import plot_confusion_matrix\n",
        "from sklearn.metrics import confusion_matrix\n",
        "from sklearn.metrics import roc_curve, auc\n",
        "from sklearn.model_selection import train_test_split\n",
        "\n",
        "# algoritmos de classificação\n",
        "from sklearn.neural_network import MLPClassifier\n",
        "from sklearn.neighbors import KNeighborsClassifier\n",
        "from sklearn.svm import SVC\n",
        "from sklearn.gaussian_process import GaussianProcessClassifier\n",
        "from sklearn.gaussian_process.kernels import RBF\n",
        "from sklearn.tree import DecisionTreeClassifier\n",
        "from sklearn.ensemble import RandomForestClassifier, AdaBoostClassifier, GradientBoostingClassifier\n",
        "from sklearn.naive_bayes import GaussianNB\n",
        "from sklearn import tree\n",
        "from sklearn.discriminant_analysis import QuadraticDiscriminantAnalysis\n",
        "from xgboost import XGBClassifier\n",
        "from sklearn.experimental import enable_hist_gradient_boosting\n",
        "from sklearn.ensemble import HistGradientBoostingClassifier"
      ],
      "id": "LwGqJ_iqGhwV"
    },
    {
      "cell_type": "code",
      "execution_count": 43,
      "metadata": {
        "id": "z84_yz1qGhwV"
      },
      "outputs": [],
      "source": [
        "def grafico_classificador(X, y, test_size, modelo, nome_modelo, nome_dataset, pca=False, norm=True):\n",
        "    '''\n",
        "    Esta função processa um template de modelagem com machine learning usando recursos do scikit-learn e retorna\n",
        "    um dashboard simplificado de gráficos para compreenssão do modelo\n",
        "    Entradas:\n",
        "    X - Matriz de atributos dos dados\n",
        "    y - Vetor de targets de classificação\n",
        "    test_size - % percentagem do dataset usada para teste\n",
        "    modelo - Instância do modelo do Scikit Learn parametrizada\n",
        "    nome_modelo - string para descrever o modelo\n",
        "    nome_dataset - string para descrever o dataset\n",
        "    pca - True aplica pca de dois componentes aos dados para visualização\n",
        "    norm - True normaliza os dados\n",
        "    Saida:\n",
        "    Um gráfico com os seguintes subplots\n",
        "        - Gráfico linha 1 coluna 1 - Visualização do Gráfico 2D dos dados data set\n",
        "        - Gráfico linha 1 coluna 2 - Visualização do Gráfico 2D dos dados data set sobreposto à superfície de decisão\n",
        "        - Gráfico linha 1 coluna 3 - Matriz de Confusão\n",
        "        - Gráfico linha 2 coluna 1 - Visualização das probabilidades geradas pelo método perdictproba das Classes de Modelos\n",
        "        - Gráfico linha 2 coluna 2 - Visualização do Gráfico 2D da superfície de decisão\n",
        "        - Gráfico linha 2 coluna 3 - Curva ROC e Apresnetação da AUC - Área Under Curve \n",
        "    '''\n",
        "    \n",
        "    #Definições iniciais\n",
        "    metrics=[] # lista de Métricas\n",
        "    cmap = 'bwr' # colormap do matplotlib\n",
        "    fig, ax = plt.subplots(2, 3, figsize=(15,10))\n",
        "    suptitle = nome_modelo\n",
        "    # realizar pca se necessário\n",
        "    if pca==True:\n",
        "        pca=PCA(n_components=2)\n",
        "        pca.fit(X)\n",
        "        X = pca.transform(X)\n",
        "    # realizar normalização se necessário\n",
        "    if norm==True:\n",
        "        X = StandardScaler().fit_transform(X)\n",
        "        suptitle = nome_modelo+ ' Dados Normalizados'\n",
        "    # Definir Título do Gráfico\n",
        "    fig.suptitle(suptitle, fontsize=16)\n",
        "    # Fazer os split dos dados\n",
        "    X_train, X_test, y_train, y_test = train_test_split(X, y, test_size=test_size, random_state=42)\n",
        "    # Instanciar a Classe do Modelo\n",
        "    clf = modelo\n",
        "    # Treinamento do modelo\n",
        "    clf.fit(X_train, y_train)\n",
        "    # Calculo de Métricas\n",
        "    score = clf.score(X_test, y_test)\n",
        "    # Calculo da Superfice de Decisão do Modelo\n",
        "    h = 0.02\n",
        "    x_min, x_max = X[:, 0].min() - .5, X[:, 0].max() + .5\n",
        "    y_min, y_max = X[:, 1].min() - .5, X[:, 1].max() + .5\n",
        "    xx, yy = np.meshgrid(np.arange(x_min, x_max, h),np.arange(y_min, y_max, h))\n",
        "    if hasattr(clf, \"decision_function\"):\n",
        "        Z = clf.decision_function(np.c_[xx.ravel(), yy.ravel()])\n",
        "    else:\n",
        "        Z = clf.predict_proba(np.c_[xx.ravel(), yy.ravel()])[:, 1]\n",
        "\n",
        "    # Colocar os valores para cores dos modelos\n",
        "    Z = Z.reshape(xx.shape)\n",
        "    # Plotagem do dataset\n",
        "    ## Gráfico linha 1 coluna 1 - Visualização do Gráfico 2D dos dados data set\n",
        "    ax[0,0].scatter(X_train[:, 0], X_train[:, 1], c=y_train, cmap=cmap,edgecolors='w', s=10)\n",
        "    ax[0,0].scatter(X_test[:, 0], X_test[:, 1], c=y_test, cmap=cmap, alpha=0.6,edgecolors='w',s=10)\n",
        "    ax[0,0].set_title(nome_dataset)\n",
        "    ax[0,0].set_xlabel('X1')\n",
        "    ax[0,0].set_ylabel('X2')\n",
        "    ##- Gráfico linha 1 coluna 2 - Visualização do Gráfico 2D dos dados data set sobreposto à superfície de decisão\n",
        "    ax[0,1].contourf(xx, yy, Z, cmap=cmap, alpha=.8)\n",
        "    ax[0,1].scatter(X_train[:, 0], X_train[:, 1], c=y_train, cmap=cmap,edgecolors='w',s=10)\n",
        "    ax[0,1].scatter(X_test[:, 0], X_test[:, 1], c=y_test, cmap=cmap, alpha=0.6,edgecolors='w',s=10)\n",
        "    ax[0,1].set_title(nome_modelo+' score='+str(score))\n",
        "    ax[0,1].set_xlabel('X1')\n",
        "    ax[0,1].set_ylabel('X2')\n",
        "    \n",
        "    # previsão das probabilidades\n",
        "    y_pred = clf.fit(X_train,y_train).predict(X_test)\n",
        "    # probabilidades ordenadas\n",
        "    arr = clf.predict_proba(X)\n",
        "    P = arr[arr[:, 1].argsort()]\n",
        "    # Calculo da CURVA ROC e Métricas\n",
        "    fpr, tpr, tres = roc_curve(y_test, clf.predict_proba(X_test)[:, 1])\n",
        "    # Calulo da AUC\n",
        "    aucc = auc(fpr,tpr)\n",
        "    ##- Gráfico linha 1 coluna 3 - Matriz de Confusão\n",
        "    ax[0,2].matshow(confusion_matrix(y_test,y_pred),cmap='bwr')\n",
        "    ax[0,2].set_title('Matriz de Confusão')\n",
        "    ax[0,2].text(0, 0, confusion_matrix(y_test,y_pred)[0,0],color='w', fontsize=16, horizontalalignment='center')\n",
        "    ax[0,2].text(0, 1, confusion_matrix(y_test,y_pred)[0,1],color='w', fontsize=16, horizontalalignment='center')\n",
        "    ax[0,2].text(1, 0, confusion_matrix(y_test,y_pred)[1,0],color='w', fontsize=16, horizontalalignment='center')\n",
        "    ax[0,2].text(1, 1, confusion_matrix(y_test,y_pred)[1,1],color='w', fontsize=16, horizontalalignment='center')\n",
        "    ax[0,2].set_xticklabels(['','prev positivo','prev negativo'])\n",
        "    ax[0,2].set_yticklabels(['','real positivo','real negativo'], rotation=90, va=\"center\")\n",
        "    ## Gráfico linha 2 coluna 1 - Visualização das probabilidades geradas pelo método perdictproba das Classes de Modelos\n",
        "    ax[1,0].plot(P[:,0],'b-')\n",
        "    ax[1,0].plot(P[:,1],'r-')\n",
        "    ax[1,0].set_title(nome_modelo+' Curvas Prob.')\n",
        "    ax[1,0].set_ylabel('Prob')\n",
        "    ## - Gráfico linha 2 coluna 2 - Visualização do Gráfico 2D da superfície de decisão\n",
        "    ax[1,1].contourf(xx, yy, Z, cmap=cmap, alpha=.8)\n",
        "    ax[1,1].set_title(nome_modelo+' Superf. Dec.')\n",
        "    ax[1,1].set_xlabel('X1')\n",
        "    ax[1,1].set_ylabel('X2')\n",
        "    ## - Gráfico linha 2 coluna 3 - Curva ROC e Apresnetação da AUC - Área Under Curve\n",
        "    ax[1,2].plot(fpr,tpr,'r-')\n",
        "    ax[1,2].plot([0,1],[0,1],'b:')\n",
        "    ax[1,2].set_title('Curva ROC AUC= '+str(np.round(aucc,3)))\n",
        "    ax[1,2].set_xlabel('TFP')\n",
        "    ax[1,2].set_ylabel('TVP')\n",
        "    fig.tight_layout(pad=3.5)\n",
        "    # inserindo nome do modeo nas métricas\n",
        "    metrics.append(nome_modelo)\n",
        "    # inserindo VP nas métricas\n",
        "    metrics.append(confusion_matrix(y_test,y_pred)[0,0])\n",
        "    # inserindo VN nas métricas\n",
        "    metrics.append(confusion_matrix(y_test,y_pred)[1,1])\n",
        "    # inserindo FN nas métricas\n",
        "    metrics.append(confusion_matrix(y_test,y_pred)[0,1])\n",
        "    # inserindo FP nas métricas\n",
        "    metrics.append(confusion_matrix(y_test,y_pred)[1,0])\n",
        "    # inserindo AUC nas métricas\n",
        "    metrics.append(auc(fpr,tpr))\n",
        "    fig.savefig('/content/imagens/'+nome_modelo+'.png', dpi=fig.dpi)\n",
        "\n",
        "    return metrics"
      ],
      "id": "z84_yz1qGhwV"
    },
    {
      "cell_type": "markdown",
      "source": [
        "## Visualização dos Resultados da Etapa 3\n",
        "\n",
        "Como a execução dos códigos desta etapa pode ser um longa apresnetam- seus resultado e comentários antes do código, assim pode optar por apenas entender o processo de execução e visalizar o que foi obtido ser ter de aguardar a execução ou então executando o ajuste de modelo desejado.\n",
        "\n",
        "\n",
        "\n",
        "### **Etapa 3A - Decision Trees.**\n",
        "Usando a função `grafico_classificador` para este modelo obteve-se a seguinte visualização:\n",
        "[Veja neste link](https://github.com/DeepFluxion/F1rst/blob/main/images/Decision%20Trees.png)\n",
        "### **Etapa 3B - SVC Linear.**\n",
        "Usando a função `grafico_classificador` para este modelo obteve-se a seguinte visualização:\n",
        "[Veja neste link](https://github.com/DeepFluxion/F1rst/blob/main/images/SVC%20Linear.png)\n",
        "### **Etapa 3C - SVC RBF.**\n",
        "Usando a função `grafico_classificador` para este modelo obteve-se a seguinte visualização:\n",
        "[Veja neste link](https://github.com/DeepFluxion/F1rst/blob/main/images/SVC%20RBF.png)\n",
        "### **Etapa 3D - Gaussin Naives Bayes.**\n",
        "Usando a função `grafico_classificador` para este modelo obteve-se a seguinte visualização:\n",
        "[Veja neste link](https://github.com/DeepFluxion/F1rst/blob/main/images/Gaussian%20Naives%20Bayes.png)\n",
        "\n",
        "### **Etapa 3E - KNeighborsClassifier.**\n",
        "Usando a função `grafico_classificador` para este modelo obteve-se a seguinte visualização:\n",
        "[Veja neste link](https://github.com/DeepFluxion/F1rst/blob/main/images/KNeighborsClassifier.png)\n",
        "\n",
        "### **Etapa 3F - Analise Discriminante Quadrática**\n",
        "Usando a função `grafico_classificador` para este modelo obteve-se a seguinte visualização:\n",
        "[Veja neste link](https://github.com/DeepFluxion/F1rst/blob/main/images/Analise%20Discriminante%20Quadr%C3%A1tica..png)\n",
        "\n",
        "### **Etapa 3G - Random Forrest.**\n",
        "Usando a função `grafico_classificador` para este modelo obteve-se a seguinte visualização:\n",
        "[Veja neste link](https://github.com/DeepFluxion/F1rst/blob/main/images/Random%20Forrest.png)\n",
        "\n",
        "### **Etapa 3H - Adaboost.**\n",
        "Usando a função `grafico_classificador` para este modelo obteve-se a seguinte visualização:\n",
        "[Veja neste link](https://github.com/DeepFluxion/F1rst/blob/main/images/_Adaboost.png)\n",
        "\n",
        "### **Etapa 3I - GradientBosting.**\n",
        "Usando a função `grafico_classificador` para este modelo obteve-se a seguinte visualização:\n",
        "[Veja neste link](https://github.com/DeepFluxion/F1rst/blob/main/images/GradientBosting.png)\n",
        "### **Etapa 3I - XGBoost.**\n",
        "Usando a função `grafico_classificador` para este modelo obteve-se a seguinte visualização:\n",
        "[Veja neste link](https://github.com/DeepFluxion/F1rst/blob/main/images/XGBoost.png)\n",
        "### **Etapa 3J - Histogram Based Gradient Boost**\n",
        "Usando a função `grafico_classificador` para este modelo obteve-se a seguinte visualização:\n",
        "[Veja neste link](https://github.com/DeepFluxion/F1rst/blob/main/images/Histogram%20Based%20Gradient%20Boost.png)\n"
      ],
      "metadata": {
        "id": "Mn49Ut_BIjR_"
      },
      "id": "Mn49Ut_BIjR_"
    },
    {
      "cell_type": "code",
      "execution_count": 44,
      "metadata": {
        "id": "uJ4f16H_GhwW",
        "outputId": "19e5e114-40fe-4074-cb97-6f8aebae481b",
        "colab": {
          "base_uri": "https://localhost:8080/"
        }
      },
      "outputs": [
        {
          "output_type": "stream",
          "name": "stdout",
          "text": [
            "CPU times: user 25.9 ms, sys: 1.03 ms, total: 27 ms\n",
            "Wall time: 26 ms\n"
          ]
        }
      ],
      "source": [
        "%%time\n",
        "# Carregando os dados de trans_umap_2D.csv\n",
        "df=pd.read_csv('/content/data/pre_processed/trans_umap_2D.csv', index_col=0)"
      ],
      "id": "uJ4f16H_GhwW"
    },
    {
      "cell_type": "code",
      "execution_count": 45,
      "metadata": {
        "id": "c_jirojfGhwX",
        "outputId": "de92b137-948f-4f45-ab69-39db4f1d4dc6",
        "colab": {
          "base_uri": "https://localhost:8080/"
        }
      },
      "outputs": [
        {
          "output_type": "stream",
          "name": "stdout",
          "text": [
            "CPU times: user 837 µs, sys: 0 ns, total: 837 µs\n",
            "Wall time: 823 µs\n"
          ]
        }
      ],
      "source": [
        "%%time\n",
        "# Criando as arrays a partir de trans_umap_2D.csv\n",
        "X = df.iloc[:,:2].values\n",
        "y = df.isFraud.values"
      ],
      "id": "c_jirojfGhwX"
    },
    {
      "cell_type": "code",
      "execution_count": 46,
      "metadata": {
        "id": "IT8rayW9GhwX"
      },
      "outputs": [],
      "source": [
        "modelos = (('Decision Trees', DecisionTreeClassifier(max_depth=7)),\n",
        "          ('SVC Linear',SVC(kernel=\"linear\", C=1.0, probability=True)),\n",
        "          ('SVC RBF',SVC(kernel=\"rbf\",gamma=0.05, C=1.0, probability=True)),\n",
        "          ('Gaussian Naives Bayes',GaussianNB()),\n",
        "          ('MLP Classifier',MLPClassifier(hidden_layer_sizes=(200,),alpha=0.0001,learning_rate_init=0.001,max_iter=100000)),\n",
        "          ('KNeighborsClassifier',KNeighborsClassifier(n_neighbors=70)),\n",
        "          ('Analise Discriminante Quadrática.',QuadraticDiscriminantAnalysis()),\n",
        "          ('Random Forrest',RandomForestClassifier(n_estimators=1500, max_depth=15)),\n",
        "          (' Adaboost',AdaBoostClassifier(n_estimators=1500)),\n",
        "          ('GradientBosting',GradientBoostingClassifier(n_estimators=1500, max_depth=11)),\n",
        "          ('XGBoost',XGBClassifier(n_estimators=1000, max_depth=11, random_state=42)),\n",
        "          (\"Histogram Based Gradient Boost\",HistGradientBoostingClassifier(max_iter=1000, learning_rate=0.01)))"
      ],
      "id": "IT8rayW9GhwX"
    },
    {
      "cell_type": "code",
      "execution_count": 47,
      "metadata": {
        "id": "NAO1pzx3GhwX"
      },
      "outputs": [],
      "source": [
        "mmetrics=[]"
      ],
      "id": "NAO1pzx3GhwX"
    },
    {
      "cell_type": "code",
      "execution_count": null,
      "metadata": {
        "id": "v2tF0c87GhwX"
      },
      "outputs": [],
      "source": [
        "%%time\n",
        "n = 0\n",
        "metrics = grafico_classificador(X, y, test_size=0.4, modelo=modelos[n][1], \n",
        "                                             nome_modelo=modelos[n][0], \n",
        "                                             nome_dataset='IEEE Fraud Detection', \n",
        "                                             pca=False, norm=False)\n",
        "mmetrics.append(metrics)"
      ],
      "id": "v2tF0c87GhwX"
    },
    {
      "cell_type": "code",
      "execution_count": null,
      "metadata": {
        "id": "asIOeHL-qoDQ"
      },
      "outputs": [],
      "source": [
        "%%time\n",
        "n = 1\n",
        "metrics = grafico_classificador(X, y, test_size=0.4, modelo=modelos[n][1], \n",
        "                                             nome_modelo=modelos[n][0], \n",
        "                                             nome_dataset='IEEE Fraud Detection', \n",
        "                                             pca=False, norm=False)\n",
        "mmetrics.append(metrics)"
      ],
      "id": "asIOeHL-qoDQ"
    },
    {
      "cell_type": "code",
      "execution_count": null,
      "metadata": {
        "id": "pdeeO_Usqp8q"
      },
      "outputs": [],
      "source": [
        "%%time\n",
        "n = 2\n",
        "metrics = grafico_classificador(X, y, test_size=0.4, modelo=modelos[n][1], \n",
        "                                             nome_modelo=modelos[n][0], \n",
        "                                             nome_dataset='IEEE Fraud Detection', \n",
        "                                             pca=False, norm=False)\n",
        "mmetrics.append(metrics)"
      ],
      "id": "pdeeO_Usqp8q"
    },
    {
      "cell_type": "code",
      "execution_count": null,
      "metadata": {
        "id": "sCo7JOfdqsFz"
      },
      "outputs": [],
      "source": [
        "%%time\n",
        "n = 3\n",
        "metrics = grafico_classificador(X, y, test_size=0.4, modelo=modelos[n][1], \n",
        "                                             nome_modelo=modelos[n][0], \n",
        "                                             nome_dataset='IEEE Fraud Detection', \n",
        "                                             pca=False, norm=False)\n",
        "mmetrics.append(metrics)"
      ],
      "id": "sCo7JOfdqsFz"
    },
    {
      "cell_type": "code",
      "execution_count": null,
      "metadata": {
        "id": "1tVZTWycquO9"
      },
      "outputs": [],
      "source": [
        "%%time\n",
        "n = 4\n",
        "metrics = grafico_classificador(X, y, test_size=0.4, modelo=modelos[n][1], \n",
        "                                             nome_modelo=modelos[n][0], \n",
        "                                             nome_dataset='IEEE Fraud Detection', \n",
        "                                             pca=False, norm=False)\n",
        "mmetrics.append(metrics)"
      ],
      "id": "1tVZTWycquO9"
    },
    {
      "cell_type": "code",
      "execution_count": null,
      "metadata": {
        "id": "zWfyMI1Gqv8W"
      },
      "outputs": [],
      "source": [
        "%%time\n",
        "n = 5\n",
        "metrics = grafico_classificador(X, y, test_size=0.4, modelo=modelos[n][1], \n",
        "                                             nome_modelo=modelos[n][0], \n",
        "                                             nome_dataset='IEEE Fraud Detection', \n",
        "                                             pca=False, norm=False)\n",
        "mmetrics.append(metrics)"
      ],
      "id": "zWfyMI1Gqv8W"
    },
    {
      "cell_type": "code",
      "execution_count": null,
      "metadata": {
        "id": "fRKVtFhKqy9h"
      },
      "outputs": [],
      "source": [
        "%%time\n",
        "n = 6\n",
        "metrics = grafico_classificador(X, y, test_size=0.4, modelo=modelos[n][1], \n",
        "                                             nome_modelo=modelos[n][0], \n",
        "                                             nome_dataset='IEEE Fraud Detection', \n",
        "                                             pca=False, norm=False)\n",
        "mmetrics.append(metrics)"
      ],
      "id": "fRKVtFhKqy9h"
    },
    {
      "cell_type": "code",
      "execution_count": null,
      "metadata": {
        "id": "d9LEQ1qxq0T0"
      },
      "outputs": [],
      "source": [
        "%%time\n",
        "n = 7\n",
        "metrics = grafico_classificador(X, y, test_size=0.4, modelo=modelos[n][1], \n",
        "                                             nome_modelo=modelos[n][0], \n",
        "                                             nome_dataset='IEEE Fraud Detection', \n",
        "                                             pca=False, norm=False)\n",
        "mmetrics.append(metrics)"
      ],
      "id": "d9LEQ1qxq0T0"
    },
    {
      "cell_type": "code",
      "execution_count": null,
      "metadata": {
        "id": "wjI2M2Knq1Sn"
      },
      "outputs": [],
      "source": [
        "%%time\n",
        "n = 8\n",
        "metrics = grafico_classificador(X, y, test_size=0.4, modelo=modelos[n][1], \n",
        "                                             nome_modelo=modelos[n][0], \n",
        "                                             nome_dataset='IEEE Fraud Detection', \n",
        "                                             pca=False, norm=False)\n",
        "mmetrics.append(metrics)"
      ],
      "id": "wjI2M2Knq1Sn"
    },
    {
      "cell_type": "code",
      "execution_count": null,
      "metadata": {
        "id": "NaiHLvv9q2hL"
      },
      "outputs": [],
      "source": [
        "%%time\n",
        "n = 9\n",
        "metrics = grafico_classificador(X, y, test_size=0.4, modelo=modelos[n][1], \n",
        "                                             nome_modelo=modelos[n][0], \n",
        "                                             nome_dataset='IEEE Fraud Detection', \n",
        "                                             pca=False, norm=False)\n",
        "mmetrics.append(metrics)"
      ],
      "id": "NaiHLvv9q2hL"
    },
    {
      "cell_type": "code",
      "execution_count": null,
      "metadata": {
        "id": "o6nEFVOwq3dL"
      },
      "outputs": [],
      "source": [
        "%%time\n",
        "n = 10\n",
        "metrics = grafico_classificador(X, y, test_size=0.4, modelo=modelos[n][1], \n",
        "                                             nome_modelo=modelos[n][0], \n",
        "                                             nome_dataset='IEEE Fraud Detection', \n",
        "                                             pca=False, norm=False)\n",
        "mmetrics.append(metrics)"
      ],
      "id": "o6nEFVOwq3dL"
    },
    {
      "cell_type": "code",
      "execution_count": null,
      "metadata": {
        "id": "za6N2Skbq5La"
      },
      "outputs": [],
      "source": [
        "%%time\n",
        "n = 11\n",
        "metrics = grafico_classificador(X, y, test_size=0.4, modelo=modelos[n][1], \n",
        "                                             nome_modelo=modelos[n][0], \n",
        "                                             nome_dataset='IEEE Fraud Detection', \n",
        "                                             pca=False, norm=False)\n",
        "mmetrics.append(metrics)"
      ],
      "id": "za6N2Skbq5La"
    },
    {
      "cell_type": "code",
      "execution_count": null,
      "metadata": {
        "id": "0zgQzG9tGhwY"
      },
      "outputs": [],
      "source": [
        "mmetrics"
      ],
      "id": "0zgQzG9tGhwY"
    },
    {
      "cell_type": "code",
      "source": [
        "cols =  ['nome_model','VP','VN','FN','FP','AUC']"
      ],
      "metadata": {
        "id": "vaA9sPAGJ_mp"
      },
      "id": "vaA9sPAGJ_mp",
      "execution_count": null,
      "outputs": []
    },
    {
      "cell_type": "code",
      "source": [
        "mmt = pd.DataFrame(mmetrics, columns=cols)\n",
        "mmt.set_index('nome_model',inplace=True)"
      ],
      "metadata": {
        "id": "rcYzqtdgKGEz"
      },
      "id": "rcYzqtdgKGEz",
      "execution_count": null,
      "outputs": []
    },
    {
      "cell_type": "markdown",
      "source": [
        "## Etapa 4 -Análise dos resultados da Pré Modelagem e Seleção dos Modelos\n",
        "\n",
        "Nesta eta o objetivo é selecionar os melhores modelos com base nas métricas obtidas\n",
        ">- Etapa 4A - Matriz de Confusão: Os valores encontados na matriz de confusão são usados para avalias os modelos\n",
        "> - Etapa 4B - Curva ROC: A área sobre acurva ROC é usada para avliar o modelo.\n",
        "> - Etapa 4C - Métricas de Desempenho - As medidas de desempenho do modelo erro total, erro na  lasse positiva, erro na classe negativa, sensibilida, precisão, especificidade e a mética F1 são usadas para avliar os modelos."
      ],
      "metadata": {
        "id": "nQqr4Ej5QU8E"
      },
      "id": "nQqr4Ej5QU8E"
    },
    {
      "cell_type": "markdown",
      "source": [
        "### Etapa 4A - Matriz de Confusão: Os valores encontados na matriz de confusão são usados para avalias os modelos esses valores são:\n",
        "  - VP - Registros que _não são_ Fraudes que foram classificados corretamente pelo modelo\n",
        "  - FP - Registros que _não são_ Fraudes que foram classificados incorretamente pelo modelo\n",
        "  - VN - Registros que _são_ Fraudes que foram classificados corretamente pelo modelo\n",
        "  - FN - Registros que _são_ Fraudes que foram classificados incorretamente pelo modelo"
      ],
      "metadata": {
        "id": "ZelXx6IvRlKH"
      },
      "id": "ZelXx6IvRlKH"
    },
    {
      "cell_type": "code",
      "source": [
        "mmt['VP'].sort_values(ascending=False) # Verificando a VP dos modelos quanto maior melhor"
      ],
      "metadata": {
        "colab": {
          "base_uri": "https://localhost:8080/",
          "height": 165
        },
        "id": "7bcky8enS9Tg",
        "outputId": "d0461f46-fcd8-4935-b7ff-b9ab07e70b62"
      },
      "id": "7bcky8enS9Tg",
      "execution_count": 1,
      "outputs": [
        {
          "output_type": "error",
          "ename": "NameError",
          "evalue": "ignored",
          "traceback": [
            "\u001b[0;31m---------------------------------------------------------------------------\u001b[0m",
            "\u001b[0;31mNameError\u001b[0m                                 Traceback (most recent call last)",
            "\u001b[0;32m<ipython-input-1-5d77644543eb>\u001b[0m in \u001b[0;36m<module>\u001b[0;34m()\u001b[0m\n\u001b[0;32m----> 1\u001b[0;31m \u001b[0mmmt\u001b[0m\u001b[0;34m[\u001b[0m\u001b[0;34m'VP'\u001b[0m\u001b[0;34m]\u001b[0m\u001b[0;34m.\u001b[0m\u001b[0msort_values\u001b[0m\u001b[0;34m(\u001b[0m\u001b[0mascending\u001b[0m\u001b[0;34m=\u001b[0m\u001b[0;32mFalse\u001b[0m\u001b[0;34m)\u001b[0m \u001b[0;31m# Verificando a VP dos modelos quanto maior melhor\u001b[0m\u001b[0;34m\u001b[0m\u001b[0;34m\u001b[0m\u001b[0m\n\u001b[0m",
            "\u001b[0;31mNameError\u001b[0m: name 'mmt' is not defined"
          ]
        }
      ]
    },
    {
      "cell_type": "code",
      "source": [
        "mmt['FP'].sort_values(ascending=True) # Verificando a FP dos modelos quanto menor melhor"
      ],
      "metadata": {
        "id": "AfCm_A7vTk5d"
      },
      "id": "AfCm_A7vTk5d",
      "execution_count": null,
      "outputs": []
    },
    {
      "cell_type": "code",
      "source": [
        "mmt['VN'].sort_values(ascending=False) # Verificando a VN dos modelos quanto maior melhor"
      ],
      "metadata": {
        "id": "d4ThR5dsT5k9"
      },
      "id": "d4ThR5dsT5k9",
      "execution_count": null,
      "outputs": []
    },
    {
      "cell_type": "code",
      "source": [
        "mmt['FN'].sort_values(ascending=True) # Verificando a FN dos modelos quanto menor melhor"
      ],
      "metadata": {
        "id": "-ZFjtWY1UMrZ"
      },
      "id": "-ZFjtWY1UMrZ",
      "execution_count": null,
      "outputs": []
    },
    {
      "cell_type": "markdown",
      "source": [
        "### Resumo Fase 4A\n",
        "\n",
        "- Os algoritmos **Naives Bayes, ADQ, SVC Linear** devem ser descartados pois simplesmente não conseguem encontrar exemplos negativos\n",
        "- Os algoritmos **XGBoost, Random Forrest, Gradient Boosting e HBG Boosting** foram os melhores em encontrar Exemplos Negativos \n",
        "- Também devem ser considerados os **SVC RBF, Decision Trees e Adaboost** mas seu desempenho não está entre os melhores\n",
        "\n",
        "> Considera-se que hierarquia de indicadores dos valores da Matriz de Confusão é:\n",
        "> 1. VN - Capacidade de encontrar Fraudes (quanto amior melhor)\n",
        "> 2. FP - Capacidade de não confundir Fraudes com transações genuínas (quanto menor melhor)\n",
        "> 3. FN - Capacidade de não confundir  transações genuínas com Fraudes (quanto menor melhor)"
      ],
      "metadata": {
        "id": "Ck9HeY5NUd9C"
      },
      "id": "Ck9HeY5NUd9C"
    },
    {
      "cell_type": "markdown",
      "source": [
        "## Etapa 4B - Curva ROC\n",
        "\n",
        "A área sobre acurva ROC é usada para avaliar o modelo. A curva ROC apresenta o desempnho do modelo considerando a **relação entre a Taxa de Verdadeiros Positivos (TVP) e a de Verdadeiros Negativos (TVN)** O fator que permite comparar é a área sobre a curav ou AUC (Area Under Curve) que é a integral da curva ROC."
      ],
      "metadata": {
        "id": "inVBfTAzX-ZY"
      },
      "id": "inVBfTAzX-ZY"
    },
    {
      "cell_type": "code",
      "source": [
        "mmt['AUC'].sort_values(ascending=False) # Verificando a AUC dos modelos quanto maior melhor"
      ],
      "metadata": {
        "id": "Mx-9bHpbYeKT"
      },
      "id": "Mx-9bHpbYeKT",
      "execution_count": null,
      "outputs": []
    },
    {
      "cell_type": "markdown",
      "source": [
        "### Resumo Etapa 4B\n",
        "\n",
        "Com base no elementos até agora apurados Serão analisados os seguintes algoritmos **Random Forrest, Histogram Based Gradiente Boost, Gradiente Boosting e XGBoost**"
      ],
      "metadata": {
        "id": "_n4UKcALZo4K"
      },
      "id": "_n4UKcALZo4K"
    },
    {
      "cell_type": "markdown",
      "source": [
        "## Etapa 4C - Métricas de Desempenho\n",
        "\n",
        "As medidas de desempenho do modelo **erro total, erro na classe positiva, erro na classe negativa, sensibilida, precisão, especificidade e a mética F1** são usadas para avliar os modelos.\n",
        "\n",
        "Medidas de Erro nos Classificadores\n",
        "\n",
        "- Taxa de Erro na Classe Positiva  $erro_{+} = \\frac{FN}{VP + FN}$\n",
        "\n",
        "- Taxa de Erro na Classe Negativa  $erro_{-} = \\frac{FP}{FP + VN}$\n",
        "\n",
        "- Taxa de Erro na total  $erro = \\frac{FP+ FN}{N}$\n",
        "\n",
        "- Precisão é a proporção de exemplos positivos previstos corretamente entre os previstos como positivo pelo modelo  $prec = \\frac{VP}{VP + FP}$\n",
        "\n",
        "- Sensibilidade ou Revocação (TVP) é a taxa de acerto na classe positiva  $sens = \\frac{VP}{VP + FN}$\n",
        "\n",
        "- Especificidade (TVP) é a taxa de acerto na classe negativa  $sens = \\frac{VN}{VN + FP}$\n",
        "\n",
        "- Medida F1 é a harmônica entre Precisão e Sensibilidade   $F_{1} = \\frac{2 \\times sens \\times prec}{sens + prec}$\n"
      ],
      "metadata": {
        "id": "2qCBZNh_Kw0i"
      },
      "id": "2qCBZNh_Kw0i"
    },
    {
      "cell_type": "code",
      "source": [
        "mmt['erro+']= mmt['FN']/(mmt['VP']+mmt['FN'])\n",
        "mmt['erro-']= mmt['FP']/(mmt['FP']+mmt['VN'])\n",
        "mmt['erro']= (mmt['FP']+mmt['FN'])/len(y)\n",
        "mmt['prec']= mmt['VP']/(mmt['VP']+mmt['FP'])\n",
        "mmt['sens']= mmt['VP']/(mmt['VP']+mmt['FN'])\n",
        "mmt['esp']= mmt['VN']/(mmt['VN']+mmt['FP'])\n",
        "mmt['F1']=(2*mmt['sens']*mmt['prec'])/(mmt['sens']+mmt['prec'])\n",
        "mmt.sort_values(['esp','F1'], ascending=False)"
      ],
      "metadata": {
        "id": "3SLkIPNzYbTe"
      },
      "id": "3SLkIPNzYbTe",
      "execution_count": null,
      "outputs": []
    },
    {
      "cell_type": "code",
      "source": [
        "mmt.to_excel('/content/metrics/mmt.xlsx')"
      ],
      "metadata": {
        "id": "NrJn1ABqbZyM"
      },
      "id": "NrJn1ABqbZyM",
      "execution_count": null,
      "outputs": []
    },
    {
      "cell_type": "markdown",
      "source": [
        "### Resumo Etapa 4C\n",
        "\n",
        "Na Fase 4B selecionou-se os seguintes algoritmos **Random Forrest, Histogram Based Gradiente Boost, Gradiente Boosting e XGBoost**\n",
        "\n",
        "Com base na análise das medidas de desemepnho verifica-se que o melhor desempenho em identificar VNs e foram os algoritmos **Random Forrest, Gradiente Boosting e XGBoost** desta lista será eliminado o algoritmo **Gradiente Boosting** pois possui um tempo de treinamento alto, por não ser otimizado.\n",
        "> Na Fase 5 serão usados **Random Forrest e XGBoost**"
      ],
      "metadata": {
        "id": "dpeJ_wbLeNQs"
      },
      "id": "dpeJ_wbLeNQs"
    },
    {
      "cell_type": "markdown",
      "source": [
        "## Resumo da Etapa 4\n",
        "\n",
        "Nesta Etapa foi realizada a pré-modelagem empregando 12 algoritmos aos dados X_umap_2D, com apenas dois componentes. Apartir dos resultados foram empregadas diferente métricas no sentido de selecionar os melhores resultados para a modelagem com a base de dados X_umap_mult, o que permite gerar modelos mais complexos e com melhores métricas. O algoritmos selecionados foram **Random Forrests** e **XGBoost** que mostraram um desempenho superior, sobre tudo nos exemplos de transações fraudulentas minimizando falsos negativos e maximizando verdadeiros negativos.\n",
        "\n"
      ],
      "metadata": {
        "id": "TU1a_GDUWYuO"
      },
      "id": "TU1a_GDUWYuO"
    },
    {
      "cell_type": "code",
      "source": [
        "del df\n",
        "gc.collect()"
      ],
      "metadata": {
        "id": "AlJQEdIMhqJa"
      },
      "id": "AlJQEdIMhqJa",
      "execution_count": null,
      "outputs": []
    },
    {
      "cell_type": "markdown",
      "source": [
        "## Etapa 5 -Modelagem com os Algoritmos Selecionados e Análise de Resultados.\n",
        "\n",
        "Nesta etapa será feita a modelgaem final, empregando os algoritmos **Random Forrest** e **XGBoost** selecionados na Etapa 4. O Fluxo do trabalho é praticamente o mesmo da Etapa 4. Os algoritmos são treinados e testados, agora com uma base diferente e as métricas coletadas para avaliação.\n",
        "Após a fase de teste os modelos saõ armazenados usando a biblioteca `joblib`, deste modo já se tem um modelo treinado sempre disponível para usar no desenvolvimento de aplicações de produção.\n",
        "Por questões de tempo _não_ se usou a **validação cruzada** e o **ajuste de hiperparâmetros**, o que poderia melhorar ainda mais estes resultados. Portanto os parâmetros usados forma os mesmos da Etapa 4.  \n",
        "\n",
        "- Etapa 5A - Random Forrest.\n",
        "- Etapa 5B - XGBoost."
      ],
      "metadata": {
        "id": "5W_0SK4SZ5AU"
      },
      "id": "5W_0SK4SZ5AU"
    },
    {
      "cell_type": "code",
      "source": [
        "%%time\n",
        "## caregamento dos dados de trans_umap_multi.csv\n",
        "df=pd.read_csv(os.path.join(os.getcwd(),'data','pre_processed','trans_umap_multi.csv'), index_col=0)"
      ],
      "metadata": {
        "id": "A9vkxOcNba2B"
      },
      "id": "A9vkxOcNba2B",
      "execution_count": null,
      "outputs": []
    },
    {
      "cell_type": "code",
      "source": [
        "df.shape"
      ],
      "metadata": {
        "id": "qW9e2Isyh2yH"
      },
      "id": "qW9e2Isyh2yH",
      "execution_count": null,
      "outputs": []
    },
    {
      "cell_type": "code",
      "source": [
        "# criação das arrays de atributos X e e alvo y\n",
        "X = df.iloc[:,:-1 ].values\n",
        "y = df.iloc[:,-1]"
      ],
      "metadata": {
        "id": "Idy3EJeQh3eP"
      },
      "id": "Idy3EJeQh3eP",
      "execution_count": null,
      "outputs": []
    },
    {
      "cell_type": "code",
      "source": [
        "# verificando o % de transações fraudulentas\n",
        "y.sum()/y.shape[0]"
      ],
      "metadata": {
        "id": "UQJnTjdhiNV-"
      },
      "id": "UQJnTjdhiNV-",
      "execution_count": null,
      "outputs": []
    },
    {
      "cell_type": "code",
      "source": [
        "# Split dos dados para treinamento e teste \n",
        "X_train, X_test, y_train, y_test = train_test_split(X, y, test_size=0.4, random_state=42)"
      ],
      "metadata": {
        "id": "TxyoYlOcifEe"
      },
      "id": "TxyoYlOcifEe",
      "execution_count": null,
      "outputs": []
    },
    {
      "cell_type": "code",
      "source": [
        "%%time\n",
        "# treinamento da Random Forrest\n",
        "clf1 = RandomForestClassifier(n_estimators=1500, \n",
        "                             max_depth=15,\n",
        "                             min_samples_split=2, random_state=0)\n",
        "clf1 = clf1.fit(X_train, y_train)"
      ],
      "metadata": {
        "id": "NLHWTXtvitmY"
      },
      "id": "NLHWTXtvitmY",
      "execution_count": null,
      "outputs": []
    },
    {
      "cell_type": "code",
      "source": [
        "# Predições da Matriz de Atributos para teste\n",
        "y_pred_rf = clf1.predict(X_test)"
      ],
      "metadata": {
        "id": "6MGJwuXXi_2m"
      },
      "id": "6MGJwuXXi_2m",
      "execution_count": null,
      "outputs": []
    },
    {
      "cell_type": "code",
      "source": [
        "# Matriz de confusão RF\n",
        "CM1 = confusion_matrix(y_true=y_test,y_pred=y_pred_rf)\n",
        "CM1"
      ],
      "metadata": {
        "id": "JYakIdZdkP0y"
      },
      "id": "JYakIdZdkP0y",
      "execution_count": null,
      "outputs": []
    },
    {
      "cell_type": "code",
      "source": [
        "# Criação de uma lista com VP, VN, FP e FN de RF\n",
        "cols_CM = ['VP','VN', 'FP', 'FN']\n",
        "metrics_RF = [CM1[0,0], CM1[1,1], CM1[1,0],CM1[0,1]]"
      ],
      "metadata": {
        "id": "xB4cgbvXki-m"
      },
      "id": "xB4cgbvXki-m",
      "execution_count": null,
      "outputs": []
    },
    {
      "cell_type": "code",
      "source": [
        "# Armazanado o modelo RF com joblib\n",
        "from joblib import dump, load\n",
        "dump(clf1, '/content/models/random_forrest.joblib')"
      ],
      "metadata": {
        "id": "0cPV76RJlL5R"
      },
      "id": "0cPV76RJlL5R",
      "execution_count": null,
      "outputs": []
    },
    {
      "cell_type": "code",
      "source": [
        "%%time\n",
        "\n",
        "# treinamento do modelo XG\n",
        "clf2 = XGBClassifier(n_estimators=1000, \n",
        "                    max_depth=11, \n",
        "                    random_state=42)\n",
        "clf2 = clf2.fit(X_train, y_train)"
      ],
      "metadata": {
        "id": "uoznSytMnHZ4"
      },
      "id": "uoznSytMnHZ4",
      "execution_count": null,
      "outputs": []
    },
    {
      "cell_type": "code",
      "source": [
        "# Predição Matriz de Atributos de Teste\n",
        "y_pred_xg = clf2.predict(X_test)"
      ],
      "metadata": {
        "id": "ko2hc-ybnVeL"
      },
      "id": "ko2hc-ybnVeL",
      "execution_count": null,
      "outputs": []
    },
    {
      "cell_type": "code",
      "source": [
        "# criação da Matriz de Confusão XG\n",
        "CM2 = confusion_matrix(y_true=y_test,y_pred=y_pred_xg)\n",
        "CM2"
      ],
      "metadata": {
        "id": "yJJ-SdbenctJ"
      },
      "id": "yJJ-SdbenctJ",
      "execution_count": null,
      "outputs": []
    },
    {
      "cell_type": "code",
      "source": [
        "# Criação de uma lista com VP, VN, FP e FN de XG \n",
        "metrics_XG = [CM2[0,0], CM2[1,1], CM2[1,0],CM2[0,1]]"
      ],
      "metadata": {
        "id": "6wIcZfWBn5Ri"
      },
      "id": "6wIcZfWBn5Ri",
      "execution_count": null,
      "outputs": []
    },
    {
      "cell_type": "code",
      "source": [
        "# Criação do Datafrme com Metricas as Métricas da Matriz de Confusão \n",
        "mmt_etapa5 = pd.DataFrame([metrics_RF,metrics_XG], index = ['RF','XG'], columns=cols_CM)"
      ],
      "metadata": {
        "id": "I4H3SwwooDjC"
      },
      "id": "I4H3SwwooDjC",
      "execution_count": null,
      "outputs": []
    },
    {
      "cell_type": "code",
      "source": [
        "# Calculo da Métricas de Desempenho\n",
        "mmt_etapa5['N'] = X_test.shape[0]\n",
        "mmt_etapa5['erro+']= mmt_etapa5['FN']/(mmt_etapa5['VP']+mmt_etapa5['FN'])\n",
        "mmt_etapa5['erro-']= mmt_etapa5['FP']/(mmt_etapa5['FP']+mmt_etapa5['VN'])\n",
        "mmt_etapa5['erro']= (mmt_etapa5['FP']+mmt_etapa5['FN'])/len(y)\n",
        "mmt_etapa5['prec']= mmt_etapa5['VP']/(mmt_etapa5['VP']+mmt_etapa5['FP'])\n",
        "mmt_etapa5['sens']= mmt_etapa5['VP']/(mmt_etapa5['VP']+mmt_etapa5['FN'])\n",
        "mmt_etapa5['esp']= mmt_etapa5['VN']/(mmt_etapa5['VN']+mmt_etapa5['FP'])\n",
        "mmt_etapa5['F1']=(2*mmt_etapa5['sens']*mmt_etapa5['prec'])/(mmt_etapa5['sens']+mmt_etapa5['prec'])"
      ],
      "metadata": {
        "id": "kwpzVMbFsIKC"
      },
      "id": "kwpzVMbFsIKC",
      "execution_count": null,
      "outputs": []
    },
    {
      "cell_type": "code",
      "source": [
        "# Salvando o modelo com o pacote joblib\n",
        "from joblib import dump, load\n",
        "dump(clf2, '/content/models/xgboost.joblib')"
      ],
      "metadata": {
        "id": "SJvhDHydp5l8"
      },
      "id": "SJvhDHydp5l8",
      "execution_count": null,
      "outputs": []
    },
    {
      "cell_type": "code",
      "source": [
        "mmt_etapa5.to_excel('/content/metrics/mmt_etapa5.xlsx')"
      ],
      "metadata": {
        "id": "5GbGM7OAtH6N"
      },
      "id": "5GbGM7OAtH6N",
      "execution_count": null,
      "outputs": []
    },
    {
      "cell_type": "code",
      "source": [
        "mmt_etapa5"
      ],
      "metadata": {
        "id": "9A_bLVobjThr"
      },
      "id": "9A_bLVobjThr",
      "execution_count": null,
      "outputs": []
    },
    {
      "cell_type": "markdown",
      "source": [
        "## Comentários e resumo da Etapa 5\n",
        "\n",
        "Os resultados finais mostram que ambos os modelos conseguiram valores muito similares, mas vale destacar:\n",
        "\n",
        "- Ramdom Forrest mostra-se menos eficiente em identificar Verdadeiros Negativos mas erra menos ao classificar transações genuídas como negativas ou seja é mais **indulgente** em seu julgamento e possui uma **$sensibilidade$** maior.\n",
        "- XG é mais eficiente em identificar Verdadeiros Negativos, mas também identifica mais Falsos negativos o que impacta em mais transações genuínas bloqueadas, ou seja é mais **severo** no seu julgamento e possui uma **$especifidade maior$**\n",
        "> ### **Numa visão de negócio seria possível otimizar o retorno do produto de dados empregando ambos os modelos, mas dando um peso maior à previsão de _XGBoost_ nas transações de _maior valor_ e de _Random Forrest_ nas transações de menor valor, onde o impacto de bloqueios é menor.**"
      ],
      "metadata": {
        "id": "9qXnN8ShjSe1"
      },
      "id": "9qXnN8ShjSe1"
    },
    {
      "cell_type": "markdown",
      "source": [
        "## Etapa 6 -Análises Adicionais.\n",
        "Nesta Etapa foram feitas análises adicionais que parecem pertnentes ao caso estudado  são elas:\n",
        "### Etapa 6A - Calibração de Probabilidades.\n",
        "\n",
        "De acordo com a documentação do `scikit_learn`:\n",
        "\n",
        "> Ao realizar a classificação, muitas vezes você deseja não apenas prever o rótulo da classe, mas também obter uma probabilidade do respectivo rótulo. Essa probabilidade lhe dá algum tipo de confiança na previsão. Alguns modelos podem fornecer estimativas ruins das probabilidades de classe e alguns até não suportam previsão de probabilidade (por exemplo, algumas instâncias de SGDClassifier). O módulo de calibração permite calibrar melhor as probabilidades de um determinado modelo ou adicionar suporte para previsão de probabilidade.[Scikit Learn](https://scikit-learn.org/stable/modules/calibration.html)\n",
        "\n",
        "> Classificadores bem calibrados são classificadores probabilísticos para os quais a saída do método predict_proba pode ser interpretada diretamente como um nível de confiança. Por exemplo, um classificador (binário) bem calibrado deve classificar as amostras de tal forma que entre as amostras para as quais deu um valor predict_proba próximo a 0,8, aproximadamente 80% realmente pertencem à classe positiva.[Scikit Learn](https://scikit-learn.org/stable/modules/calibration.html)\n",
        "\n",
        "Ainda que não tenha sido possível fazer uma análise completa deste tipo de teste, ele pode ser importante, aidna que nem seja tão discutido nas comunidade de data Science.\n",
        "\n",
        "Mesmo com essas limitações o case apresnetado n a documentação do `scikit_learn` foi adaptado para a presente situação, a fim de uma primeira análise ainda que um tanto superficial. \n",
        "\n",
        "\n",
        "### Etapa 6B - Matriz de Custos.\n",
        "\n",
        "De acordo com [Reproducible Machine Learning for Credit Card Fraud Detection - Practical Handbook (2022)](https://fraud-detection-handbook.github.io/fraud-detection-handbook/Chapter_4_PerformanceMetrics/ThresholdBased.html#cost-matrix-and-weigthed-loss) \n",
        "\n",
        "> Matriz de custos\n",
        "> Um problema de detecção de fraude é, por natureza, um problema sensível ao custo: perder uma transação fraudulenta geralmente é considerado mais caro do que gerar um alerta falso em uma transação legítima. No primeiro caso, as perdas não incluem apenas o valor da transação fraudulenta.[link para fonte](https://fraud-detection-handbook.github.io/fraud-detection-handbook/Chapter_4_PerformanceMetrics/ThresholdBased.html#cost-matrix-and-weigthed-loss)\n",
        "\n",
        "> Eles também incluem outras transações fraudulentas que podem ser realizadas usando o cartão comprometido, bem como os custos de atendimento ao cliente relacionados ao tratamento posterior do problema e a reputação da empresa como um todo. Neste último caso, o custo é reduzido para verificar a legitimidade da transação com o cliente.[link para fonte](https://fraud-detection-handbook.github.io/fraud-detection-handbook/Chapter_4_PerformanceMetrics/ThresholdBased.html#cost-matrix-and-weigthed-loss)\n",
        "\n",
        "> Em caso de detecção em tempo real, também acarreta ao cliente inconveniente relacionado ao bloqueio de seu pagamento legítimo.[link para fonte](https://fraud-detection-handbook.github.io/fraud-detection-handbook/Chapter_4_PerformanceMetrics/ThresholdBased.html#cost-matrix-and-weigthed-loss)\n",
        "\n",
        "> Uma abordagem possível para corrigir o problema apresentado acima é definir uma matriz de custos. A matriz de custos quantifica, para cada resultado na matriz de confusão, um custo associado. É uma matriz 2 * 2, cujas entradas são denotadas seguindo as notações da figura abaixo. [link para fonte](https://fraud-detection-handbook.github.io/fraud-detection-handbook/Chapter_4_PerformanceMetrics/ThresholdBased.html#cost-matrix-and-weigthed-loss)\n",
        "\n",
        "![](https://fraud-detection-handbook.github.io/fraud-detection-handbook/_images/cost_matrix.png)\n",
        "\n",
        "Foi construída uma Matriz de Custos, que possibilita uma melhor visulaização podenderam os resultado dos calssificadorea com os montantes das operações\n",
        "\n",
        "### Etapa 6C - Matriz de Probabilidades Impacto.\n",
        "\n",
        "Uma matriz de probabilidade e imapcto pssibilta visualizar todo o portfólio de transações pelo seu impacto ou seja o `transactionAmt`e o risco represnetado pela probabilidade estimada pelos classificadores."
      ],
      "metadata": {
        "id": "0kjC6BjKm1eX"
      },
      "id": "0kjC6BjKm1eX"
    },
    {
      "cell_type": "markdown",
      "source": [
        "## Etapa 6A - Calibração de Probabilidades."
      ],
      "metadata": {
        "id": "IqKvfnFvwvTM"
      },
      "id": "IqKvfnFvwvTM"
    },
    {
      "cell_type": "code",
      "source": [
        "from matplotlib.gridspec import GridSpec\n",
        "\n",
        "from sklearn.calibration import CalibratedClassifierCV, CalibrationDisplay\n",
        "\n",
        "rf = RandomForestClassifier(n_estimators=1500, \n",
        "                            max_depth=15,\n",
        "                            min_samples_split=2, random_state=0)\n",
        "\n",
        "xg = XGBClassifier(n_estimators=1000, \n",
        "                    max_depth=11, \n",
        "                    random_state=42)\n",
        "\n",
        "clf_list = [\n",
        "    (rf, \"Random Forrest\"),\n",
        "    (xg, \"XGBoost\"),\n",
        "]"
      ],
      "metadata": {
        "id": "HKZ4-LQGtJ7l"
      },
      "id": "HKZ4-LQGtJ7l",
      "execution_count": null,
      "outputs": []
    },
    {
      "cell_type": "code",
      "source": [
        "fig = plt.figure(figsize=(10, 10))\n",
        "gs = GridSpec(4, 2)\n",
        "colors = plt.cm.get_cmap(\"Dark2\")\n",
        "\n",
        "ax_calibration_curve = fig.add_subplot(gs[:2, :2])\n",
        "calibration_displays = {}\n",
        "for i, (clf, name) in enumerate(clf_list):\n",
        "    clf.fit(X_train, y_train)\n",
        "    display = CalibrationDisplay.from_estimator(\n",
        "        clf,\n",
        "        X_test,\n",
        "        y_test,\n",
        "        n_bins=10,\n",
        "        name=name,\n",
        "        ax=ax_calibration_curve,\n",
        "        color=colors(i),\n",
        "    )\n",
        "    calibration_displays[name] = display\n",
        "\n",
        "ax_calibration_curve.grid()\n",
        "ax_calibration_curve.set_title(\"Curvas de Calibração\")\n",
        "\n",
        "# Add histogram\n",
        "grid_positions = [(2, 0), (2, 1), (3, 0), (3, 1)]\n",
        "for i, (_, name) in enumerate(clf_list):\n",
        "    row, col = grid_positions[i]\n",
        "    ax = fig.add_subplot(gs[row, col])\n",
        "\n",
        "    ax.hist(\n",
        "        calibration_displays[name].y_prob,\n",
        "        range=(0, 1),\n",
        "        bins=10,\n",
        "        label=name,\n",
        "        color=colors(i),\n",
        "    )\n",
        "    ax.set(title=name, xlabel=\"Probabilidade Média Predita\", ylabel=\"Contagem\")\n",
        "\n",
        "plt.tight_layout()\n",
        "plt.show()"
      ],
      "metadata": {
        "id": "uJEQJvSStrMS"
      },
      "id": "uJEQJvSStrMS",
      "execution_count": null,
      "outputs": []
    },
    {
      "cell_type": "code",
      "source": [
        "fig.savefig('/content/imagens/prob_calb.png', dpi=fig.dpi)"
      ],
      "metadata": {
        "id": "cSYAc8FQt8IG"
      },
      "id": "cSYAc8FQt8IG",
      "execution_count": null,
      "outputs": []
    },
    {
      "cell_type": "markdown",
      "source": [
        "### Etapa 6B - Matriz de Custo."
      ],
      "metadata": {
        "id": "jkLr3ufdw0Jk"
      },
      "id": "jkLr3ufdw0Jk"
    },
    {
      "cell_type": "code",
      "source": [
        "def matriz_custos(df, model_pred= 'rf_pred' ):\n",
        "  #  \n",
        "  C00 = df.loc[(df['isFraud']==0)&(df[model_pred]==0),'TransactionAmt'].sum()\n",
        "  C11 = df.loc[(df['isFraud']==1)&(df[model_pred]==1),'TransactionAmt'].sum()\n",
        "  C01 = df.loc[(df['isFraud']==0)&(df[model_pred]==1),'TransactionAmt'].sum()\n",
        "  C10 = df.loc[(df['isFraud']==1)&(df[model_pred]==0),'TransactionAmt'].sum()\n",
        "  cost_matrix = pd.DataFrame([[C00,C01],[C10,C11]], index = ['real genuíno','real fraude'], columns = ['pred genuíno','pred Fraud'])/df['TransactionAmt'].sum()\n",
        "  return cost_matrix"
      ],
      "metadata": {
        "id": "xXUFpKtKDA30"
      },
      "id": "xXUFpKtKDA30",
      "execution_count": null,
      "outputs": []
    },
    {
      "cell_type": "code",
      "source": [
        "# Carregando os modelos com a função load do pacote joblib\n",
        "xg= load('/content/models/xgboost.joblib')\n",
        "rf = load('/content/models/random_forrest.joblib')\n",
        "# Fazendo as predições com os atributos de X_umap_mult\n",
        "y_rf_pred = rf.predict(X_umap_mult)\n",
        "y_xg_pred = xg.predict(X_umap_mult)\n",
        "# Fazendo as predições de probabilidade com os atributos de X_umap_mult\n",
        "y_rf_prob = rf.predict_proba(X_umap_mult)[:,1]\n",
        "y_xg_prob = xg.predict_proba(X_umap_mult)[:,1]\n",
        "# Agregando tudo em X1\n",
        "X1['rf_pred'] = y_rf_pred\n",
        "X1['xg_pred'] = y_xg_pred\n",
        "X1['rf_prob'] = y_rf_prob\n",
        "X1['xg_prob'] = y_xg_prob\n",
        "# Visualinado os resultados\n",
        "X1.head()"
      ],
      "metadata": {
        "id": "iX6FABxn0MZA"
      },
      "id": "iX6FABxn0MZA",
      "execution_count": null,
      "outputs": []
    },
    {
      "cell_type": "code",
      "source": [
        "matriz_custos(df=X1, 'rf_pred')"
      ],
      "metadata": {
        "id": "NKmBZLC7Euh2"
      },
      "id": "NKmBZLC7Euh2",
      "execution_count": null,
      "outputs": []
    },
    {
      "cell_type": "markdown",
      "source": [
        "Assim dos $ 6.967.860,69 em transações o classificador RF distribui da seguinte forma:\n",
        "- 96,35% do montante das transações genuínas foi processado\n",
        "- 1,33% do montante das transações fraudulentas foi processado\n",
        "- 0,0% do montante das transações genuínas foi bloqueado\n",
        "- 2,32% do montante das transações fraudulentas foi bloqueado"
      ],
      "metadata": {
        "id": "vrhYEdjKzMUU"
      },
      "id": "vrhYEdjKzMUU"
    },
    {
      "cell_type": "code",
      "source": [
        "matriz_custos(X1, 'xg_pred')"
      ],
      "metadata": {
        "id": "4jENbeItzL5R"
      },
      "id": "4jENbeItzL5R",
      "execution_count": null,
      "outputs": []
    },
    {
      "cell_type": "markdown",
      "source": [
        "Assim dos $ 6.967.860,69 em transações o classificador XG distribui da seguinte forma:\n",
        "- 96,30% do montante das transações genuínas foi processado\n",
        "- 0,6% do montante das transações fraudulentas foi processado\n",
        "- 0,05% do montante das transações genuínas foi bloqueado\n",
        "- 0,03% do montante das transações fraudulentas foi bloqueado"
      ],
      "metadata": {
        "id": "EbvD-9LU6urV"
      },
      "id": "EbvD-9LU6urV"
    },
    {
      "cell_type": "markdown",
      "source": [
        "## Avaliando os resuldados do método `.predictproba()`"
      ],
      "metadata": {
        "id": "huuxyJfUzkBk"
      },
      "id": "huuxyJfUzkBk"
    },
    {
      "cell_type": "code",
      "source": [
        "plt.figure(figsize=(12,12))\n",
        "X1['isFraud'].cumsum().plot()\n",
        "X1['xg_pred'].cumsum().plot()\n",
        "X1['rf_pred'].cumsum().plot()\n",
        "X1['xg_prob'].cumsum().plot()\n",
        "X1['rf_prob'].cumsum().plot()\n",
        "plt.legend()\n",
        "plt.grid()"
      ],
      "metadata": {
        "id": "SFHXx_Jh0Kr3"
      },
      "id": "SFHXx_Jh0Kr3",
      "execution_count": null,
      "outputs": []
    },
    {
      "cell_type": "code",
      "source": [
        "# Verificando as frações da contagem de trasações fraudulentas e os somatórios das predições e das probabilidade\n",
        "print(X1['xg_pred'].sum()/X1['isFraud'].sum())\n",
        "print(X1['rf_pred'].sum()/X1['isFraud'].sum())\n",
        "print(X1['xg_prob'].sum()/X1['isFraud'].sum())\n",
        "print(X1['rf_prob'].sum()/X1['isFraud'].sum())"
      ],
      "metadata": {
        "id": "Chcez17K59ad"
      },
      "id": "Chcez17K59ad",
      "execution_count": null,
      "outputs": []
    },
    {
      "cell_type": "code",
      "source": [
        "X1.head()"
      ],
      "metadata": {
        "id": "vsHaa-JN6BHT"
      },
      "id": "vsHaa-JN6BHT",
      "execution_count": null,
      "outputs": []
    },
    {
      "cell_type": "code",
      "source": [
        "plt.figure(figsize=(8,8))\n",
        "plt.scatter(X1['rf_prob'],X1['TransactionAmt']/X1['TransactionAmt'].max(), cmap='bwr', c=X1['isFraud'], alpha=0.2)\n",
        "plt.yscale('log')\n",
        "plt.xscale('log')\n",
        "plt.ylabel('Impacto log')\n",
        "plt.xlabel('Pobabilidade log')\n",
        "plt.title('Matriz MPILogLog')\n",
        "plt.grid()\n",
        "fig.savefig('/content/imagens/MatrizMPI_RF_log', dpi=fig.dpi)"
      ],
      "metadata": {
        "id": "sBNXddrB70kf"
      },
      "id": "sBNXddrB70kf",
      "execution_count": null,
      "outputs": []
    },
    {
      "cell_type": "code",
      "source": [
        "plt.figure(figsize=(8,8))\n",
        "plt.scatter(X1['rf_prob'],X1['TransactionAmt']/X1['TransactionAmt'].max(), cmap='bwr', c=X1['isFraud'], alpha=0.2)\n",
        "#plt.yscale('log')\n",
        "#plt.xscale('log')\n",
        "plt.ylabel('Impacto')\n",
        "plt.xlabel('Pobabilidade')\n",
        "plt.title('Matriz MPI RF')\n",
        "plt.grid()\n",
        "fig.savefig('/content/imagens/MatrizMPI_RF', dpi=fig.dpi)"
      ],
      "metadata": {
        "id": "_-8oPSkY8aq7"
      },
      "execution_count": null,
      "outputs": [],
      "id": "_-8oPSkY8aq7"
    },
    {
      "cell_type": "code",
      "source": [
        "plt.figure(figsize=(8,8))\n",
        "plt.scatter(X1['xg_prob'],X1['TransactionAmt']/X1['TransactionAmt'].max(), cmap='bwr', c=X1['isFraud'], alpha=0.2)\n",
        "#plt.yscale('log')\n",
        "#plt.xscale('log')\n",
        "plt.ylabel('Impacto')\n",
        "plt.xlabel('Pobabilidade')\n",
        "plt.title('Matriz MPI XG')\n",
        "plt.grid()\n",
        "fig.savefig('/content/imagens/MatrizMPI_XG', dpi=fig.dpi)"
      ],
      "metadata": {
        "id": "sFlEVDYX8AGS"
      },
      "id": "sFlEVDYX8AGS",
      "execution_count": null,
      "outputs": []
    },
    {
      "cell_type": "code",
      "source": [
        "plt.figure(figsize=(8,8))\n",
        "plt.scatter(X1['xg_prob'],X1['TransactionAmt']/X1['TransactionAmt'].max(), cmap='bwr', c=X1['isFraud'], alpha=0.2)\n",
        "plt.yscale('log')\n",
        "plt.xscale('log')\n",
        "plt.ylabel('Impacto')\n",
        "plt.xlabel('Pobabilidade')\n",
        "plt.title('Matriz MPI XG log log')\n",
        "plt.grid()\n",
        "fig.savefig('/content/imagens/MatrizMPI_XG Log', dpi=fig.dpi)"
      ],
      "metadata": {
        "id": "K0qfAWcY9Tf8"
      },
      "execution_count": null,
      "outputs": [],
      "id": "K0qfAWcY9Tf8"
    },
    {
      "cell_type": "code",
      "source": [
        "X1.to_excel('/content/data/pre_processed/x1.xlsx')"
      ],
      "metadata": {
        "id": "ruJd0cak_I5i"
      },
      "id": "ruJd0cak_I5i",
      "execution_count": null,
      "outputs": []
    },
    {
      "cell_type": "markdown",
      "source": [
        "## Resumo Fase 6\n",
        "\n",
        "As análises adcionais mostram-se importante, mesmo que sejam aqui avaliadas de forma superfiical há consideráveis pontos que indicam desenvolvimentos futuros:\n",
        "\n",
        "- Ainda que a calibração de probabilidade seja bem definida para dados balanceado, neste caso estudado parece que há questões que pdoerem explicar e melhorar a capacidade preditiva de probabilidades\n",
        "\n",
        "- A Matriz de Custos mostra que a distribuição com que os custos do bloqueio e liberação para processamento das transações é um tema sensível que pode ajudar a mellhorar o desmepenho das modelos, para masi profundado consultar este [link para Cost Sensitive Learning](https://fraud-detection-handbook.github.io/fraud-detection-handbook/Chapter_6_ImbalancedLearning/CostSensitive.html)"
      ],
      "metadata": {
        "id": "u_XttkhK9lsu"
      },
      "id": "u_XttkhK9lsu"
    },
    {
      "cell_type": "markdown",
      "source": [
        "# Conclusão\n",
        "\n",
        "Neste trabalho forma realizado so seguintes pontos:\n",
        "\n",
        "- Coleta, Preparação, Modelagem Preditiva e Análise de Resultados de técnicas de Machine Learning em um dataset de transações de cartões de crédito.\n",
        "- Os resultados obtidos mostram que o modelo proporciona um retorno favorável, pela acurácia no bloqueio de transações fraudulentas, pelo processamento de transações genuínas e nível tolerável de erros ao classificar transações genuínas ou fraudulentas.\n",
        "- Foram aboradas questões como avaliação dos custos e predição de probabilidade que podem ser usadas em novos desenvolvimentos.\n"
      ],
      "metadata": {
        "id": "wHKPu1vC_wl8"
      },
      "id": "wHKPu1vC_wl8"
    },
    {
      "cell_type": "code",
      "source": [
        ""
      ],
      "metadata": {
        "id": "uoncFZMEBRp-"
      },
      "id": "uoncFZMEBRp-",
      "execution_count": null,
      "outputs": []
    }
  ],
  "metadata": {
    "hide_input": false,
    "kernelspec": {
      "display_name": "Python 3",
      "language": "python",
      "name": "python3"
    },
    "language_info": {
      "codemirror_mode": {
        "name": "ipython",
        "version": 3
      },
      "file_extension": ".py",
      "mimetype": "text/x-python",
      "name": "python",
      "nbconvert_exporter": "python",
      "pygments_lexer": "ipython3",
      "version": "3.8.3"
    },
    "nbTranslate": {
      "displayLangs": [
        "*"
      ],
      "hotkey": "alt-t",
      "langInMainMenu": true,
      "sourceLang": "en",
      "targetLang": "fr",
      "useGoogleTranslate": true
    },
    "colab": {
      "name": "Teste_para_vaga_Cientista_de_Dados_Senior_Parte_1_A.ipynb",
      "provenance": [],
      "machine_shape": "hm",
      "include_colab_link": true
    },
    "accelerator": "GPU"
  },
  "nbformat": 4,
  "nbformat_minor": 5
}