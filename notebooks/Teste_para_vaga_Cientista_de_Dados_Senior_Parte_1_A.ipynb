{
  "cells": [
    {
      "cell_type": "markdown",
      "metadata": {
        "id": "view-in-github",
        "colab_type": "text"
      },
      "source": [
        "<a href=\"https://colab.research.google.com/github/DeepFluxion/F1rst/blob/main/notebooks/Teste_para_vaga_Cientista_de_Dados_Senior_Parte_1_A.ipynb\" target=\"_parent\"><img src=\"https://colab.research.google.com/assets/colab-badge.svg\" alt=\"Open In Colab\"/></a>"
      ]
    },
    {
      "cell_type": "markdown",
      "id": "93608093",
      "metadata": {
        "id": "93608093"
      },
      "source": [
        "## Requisitos da Parte 1 do Teste\n",
        "---\n",
        "### Parte 1: Algoritmos aplicados à base de dados de Fraudes do Kaggle.\n",
        "\n",
        "Nesta Parte 1A Foi considerado o seguinte Exemplo de Competições de Referências:\n",
        "https://www.kaggle.com/c/ieee-fraud-detection\n",
        "\n",
        "Essa parte consiste na elaboração de um Jupyter Notebook (ou outra ferramenta que lhe for mais conveniente para apresentação) com pelo menos 2 técnicas à sua escolha para resolver uma ou mais competições de Fraude contidas no Kaggle. \n",
        "\n",
        "O candidato tem a liberdade para escolha da competição que lhe for mais conveniente, bem como de unir todas as bases de dados caso queira.\n",
        "**Pacotes obrigatórios para se utilizar:** Pandas, Scikit-learn, Tensorflow (ou PyTorch).\n",
        "\n",
        "### Comentários:\n",
        "- Optou-se por uyilizar o Jupyter Notebook\n",
        "- Nesta parte 1A o desenvolvimentou focou em técnicas de Aprendizado de Máquina para classificação, empregando o pacote [Scikit-learn](https://scikit-learn.org/stable/)\n",
        "- Também empregou-se o pacote [XGBoost](https://xgboost.readthedocs.io/en/stable/) para classificação\n",
        "- Para maniputação dos dados foi usado o pacote [Pandas](https://pandas.pydata.org/)\n",
        "- Dado o grande volume de atributo recorreu-se a [Redução de Dimensionalidade](https://en.wikipedia.org/wiki/Dimensionality_reduction), tarefa na qual foi usado pacote [UMAP: Uniform Manifold Approximation and Projection for Dimension Reduction](https://umap-learn.readthedocs.io/en/latest/)]\n",
        "- Outras bibliotecas mais comuns foram empregadas\n",
        "- Foi usado o Python 3.7"
      ]
    },
    {
      "cell_type": "markdown",
      "id": "7f77ab43",
      "metadata": {
        "id": "7f77ab43"
      },
      "source": [
        "## Entendimento do Negócio - FDS (Fraud Detection Systems)\n",
        "\n",
        "### Fonte\n",
        "Para o desenvolviemnto de um projeto de Data Science é necessário, iniciar pela entendimento do problema a se resolver, estabelecer seus requisitos e desenvolver uma criação que apoia as escolhas e desenvolvimentos do projeto. Deste modo, na falta de especialistas para consulta recorreu-se a seguinte fonte:\n",
        "\n",
        "> [Reproducible Machine Learning for Credit Card Fraud Detection - Practical Handbook (2022)](https://fraud-detection-handbook.github.io/fraud-detection-handbook/Foreword.html), dos autores:  \n",
        "> * Yann-Aël Le Borgne - Machine Learning Group - Université Libre de Bruxelles, Belgium.  \n",
        "> * Wissam Siblini - Machine Learning Research - Worldline Labs   \n",
        "> * Bertrand Lebichot - Interdisciplinary Centre for Security, Reliability and Trust - Université du Luxembourg, Luxembourg \n",
        "> * Gianluca Bontempi - Machine Learning Group - Université Libre de Bruxelles, Belgium\n",
        "\n",
        "### Estrutura de um FDS\n",
        "Um sistema de detecção de fraude de cartão de crédito (FDS) é tipicamente composto por um conjunto de cinco camadas de controle [DP15, DPBC+17], conforme ilustrado na Fig. 1.\n",
        "\n",
        "![](https://fraud-detection-handbook.github.io/fraud-detection-handbook/_images/FDS.jpg)\n",
        "##### Fig. 1. Diagrama ilustrando as camadas de controle em um FDS.\n",
        "\n",
        "> O foco deste desenvolvimento é principalmente o modelo orientado a dados, que ajuda os investigadores a emitir alertas sobre as transações mais suspeitas.\n",
        "\n",
        "### Modelo orientado a dados (DDM)\n",
        "\n",
        "Essa camada é puramente orientada a dados e adota um classificador ou outro modelo estatístico para estimar a probabilidade de cada vetor de característica ser uma fraude. Essa probabilidade é usada como a pontuação de fraude associada às transações autorizadas. \n",
        "\n",
        "Assim, o modelo orientado a dados é treinado a partir de um conjunto de transações rotuladas e não pode ser interpretado ou modificado manualmente pelos investigadores. \n",
        "\n",
        "Espera-se que um modelo orientado a dados eficaz detecte padrões fraudulentos analisando simultaneamente vários componentes do vetor de recursos, possivelmente por meio de expressões não lineares. \n",
        "\n",
        "Portanto, espera-se que o DDM encontre fraudes de acordo com regras que vão além da experiência do investigador, e que não necessariamente correspondem a regras interpretáveis.\n",
        "\n",
        "> Portanto para o desenvolvimento do projeto estabeleceu-se as seguinte premissa:   \n",
        "> * Ainda que se possa empregar Apredizado de Máquina (AM) em diversas tarefas ao longa da estrutura do FDS optou-se por desenvolver um modelo para detecção de fraudes em **Transações**, portanto esse será o objeto de modelagem, ainda que com os dados disponíveis seja possível trabalhar com os usuários.\n",
        "\n",
        "### AM para detecção de fraudes em cartões de crédito (CCFD)\n",
        "\n",
        "AM para CCFD tornou-se um campo de pesquisa ativo. Isso é ilustrado por um grande número de publicações sobre o tema e suas reivindicações promissoras. Ao mesmo tempo, deve-se ter cautela na interpretação dos resultados dessas publicações. Como foi apontado em Aprendizado de máquina para detecção de fraude de cartão de crédito, o campo de AM para CCFD é relativamente novo, e não existem benchmarks reconhecidos, nem metodologias, para comparar e avaliar as técnicas propostas. Porém os autores sugerem uma metodologia básica que é apresnetada na Fig.2.\n",
        "\n",
        "![](https://fraud-detection-handbook.github.io/fraud-detection-handbook/_images/baseline_ML_workflow.png)\n",
        "#### Fig. 2. ML para CCFD: Metodologia de linha de base seguida pela maioria das abordagens propostas nas pesquisas recentes sobre o tema.\n",
        "\n",
        "\n",
        "\n",
        "\n"
      ]
    },
    {
      "cell_type": "markdown",
      "metadata": {
        "id": "7qPNZDLsGhvz"
      },
      "source": [
        "## Organização do Projeto\n",
        "O projeto foi então organizado tendo em vista atendero framework anteriormente apresentado, seguindo as etapas listadas a seguir:\n",
        "> **Etapa 1 -Entendimento e Ingestão do dados da base Kaggle.**  \n",
        "\n",
        "> **Etapa 2 -Pré processamento dos Dados.**   \n",
        "> - Etapa 2A - Eliminação dos Missing Values.\n",
        "> - Etapa 2B - Padronização.\n",
        "> - Etapa 2C - Redução de Dimensões (PCA e UMAP)\n",
        "\n",
        "> **Etapa 3 -Pré Modelagem.**   \n",
        "> - Etapa 3A - Decision Trees.\n",
        "> - Etapa 3B - SVC Linear.\n",
        "> - Etapa 3C - SVC RBF.\n",
        "> - Etapa 3D - Gaussina Naives Bayes.\n",
        "> - Etapa 3E - MLP Classifier.\n",
        "> - Etapa 3F - Random Forrest.\n",
        "> - Etapa 3G - GradientBosting.\n",
        "> - Etapa 3H - KNearestNeighbors.\n",
        "> - Etapa 3I - XGBoost.\n",
        "> - Etapa 3J - Histogram Based Gradient Boost.\n",
        "\n",
        "> **Etapa 4 -Análise dos resultados da Pré Modelagem e Seleção dos Modelos.**   \n",
        "> - Etapa 4A - Matriz de Confusão.\n",
        "> - Etapa 4B - Curva ROC.\n",
        "> - Etapa 4C - Métricas de Desempenho.\n",
        "\n",
        "> **Etapa 5 -Modelagem com os Algoritmos Selecionados e Análise de Resultados.**   \n",
        "> - Etapa 5A - Random Forrest.\n",
        "> - Etapa 5B - XGBoost.\n",
        "\n",
        "> **Etapa 6 -Análises Adicionais.**   \n",
        "> - Etapa 6A - Matriz de Custos.\n",
        "> - Etapa 6B - Métrica _Precision top-k_.\n",
        "\n",
        "> **Conclusões.**\n"
      ],
      "id": "7qPNZDLsGhvz"
    },
    {
      "cell_type": "markdown",
      "id": "c0bd710d",
      "metadata": {
        "id": "c0bd710d"
      },
      "source": [
        "## Etapa 1 - Entendimento e Ingestão dos dados da base Kaggle\n",
        "\n",
        "O consjunto de dados [IEEE-CIS Fraud Detection](https://www.kaggle.com/competitions/ieee-fraud-detection) consiste em uma base de transações com cartões de crédito com 584.540 registro, cada um com 394 columnas. A atributo alvo é a coluna `isFraud` que conta com 20.663 registro com valor 1 (é Fraude)  e 563.877 com valor 0 (não é Fraude). Além disso outros atributos importantes para análise são:\n",
        "- `TransactionDT` - Data da Transação\n",
        "- `TransactionAmt` - Montante da Transação\n",
        "- `TransactionID` - ID da Transação\n",
        "\n",
        "Atributos Categóricos - Transações\n",
        "* ProductCD\n",
        "* card1 - card6\n",
        "* addr1, addr2\n",
        "* P_emaildomain\n",
        "* R_emaildomain\n",
        "* M1 - M9 \n",
        "\n",
        "Estrutura do Diretórios\n",
        "* +--Teste_1A : Armazena Notebooks e Módulos   \n",
        "    * +-- data   \n",
        "        * +-- input : dados raw extraídos do kaggle   \n",
        "        * +-- pre_processed : dados resultantes da etapa de pre processamento   \n",
        "    * +-- imagens   \n",
        "    * +-- models : arquivos de modelos salvos (deploy)    \n",
        "    * +-- metrics : arquivos de metricas   "
      ]
    },
    {
      "cell_type": "code",
      "execution_count": 1,
      "id": "412d614a",
      "metadata": {
        "id": "412d614a",
        "outputId": "c799e945-6994-47b0-8743-a2194209ef4b",
        "colab": {
          "base_uri": "https://localhost:8080/"
        }
      },
      "outputs": [
        {
          "output_type": "stream",
          "name": "stdout",
          "text": [
            "CPU times: user 312 ms, sys: 26.3 ms, total: 338 ms\n",
            "Wall time: 340 ms\n"
          ]
        }
      ],
      "source": [
        "%%time\n",
        "\n",
        "# importação das bibliotecas\n",
        "import os # manipulação de diretórios e arquivos\n",
        "import pandas as pd\n",
        "import warnings # manipulação de warnings no jupyter notebook\n",
        "import gc # limpar o lixo da memoria\n",
        "\n",
        "gc.collect()\n",
        "warnings.filterwarnings('ignore')# ignora warnings"
      ]
    },
    {
      "cell_type": "code",
      "execution_count": 2,
      "id": "52dbe55a",
      "metadata": {
        "id": "52dbe55a",
        "outputId": "342a6653-fc4d-4700-e473-fc31cbda8ac1",
        "colab": {
          "base_uri": "https://localhost:8080/"
        }
      },
      "outputs": [
        {
          "output_type": "stream",
          "name": "stdout",
          "text": [
            "CPU times: user 12.4 ms, sys: 3.29 ms, total: 15.7 ms\n",
            "Wall time: 296 ms\n"
          ]
        }
      ],
      "source": [
        "%%time\n",
        "\n",
        "# A planilha names mapea a colunas os nomes das colunas a serem utilizadas\n",
        "\n",
        "url = 'https://raw.githubusercontent.com/DeepFluxion/F1rst/main/data/pre_processed/names.csv'\n",
        "dn = pd.read_csv(url,sep=';')\n",
        "col_number = dn.loc[dn['use']==1,'col_number'].values.tolist() # mapea a posição das colunas a serem usadas\n",
        "col_names = dn.loc[dn['use']==1,'col_name'].values.tolist() # mapea o nome das colunas a serem usadas"
      ]
    },
    {
      "cell_type": "code",
      "execution_count": 3,
      "id": "bffb79d2",
      "metadata": {
        "id": "bffb79d2",
        "outputId": "07cf9888-dc88-44b1-82d7-e89277ccdc67",
        "colab": {
          "base_uri": "https://localhost:8080/"
        }
      },
      "outputs": [
        {
          "output_type": "stream",
          "name": "stdout",
          "text": [
            "CPU times: user 15.4 s, sys: 1.22 s, total: 16.6 s\n",
            "Wall time: 40.5 s\n"
          ]
        }
      ],
      "source": [
        "%%time\n",
        "\n",
        "# para diminuir o uso de memóri trabalhou-se a ingestão dos dados em partes de 100000 linhas, \n",
        "#reduzindo tempo de processamento\n",
        "# Os dataframes foram persistidos na lista ddf\n",
        "ddf=[]\n",
        "rows =0\n",
        "url = 'https://raw.githubusercontent.com/DeepFluxion/F1rst/main/data/pre_processed/transactions_part_'\n",
        "\n",
        "for u in range(30):\n",
        "    \n",
        "    df = pd.read_csv(url+str(u)+'.csv', index_col=0)\n",
        "    ddf.append(df)"
      ]
    },
    {
      "cell_type": "code",
      "execution_count": 4,
      "id": "9c46c945",
      "metadata": {
        "id": "9c46c945",
        "outputId": "3ecd59bb-ef0f-4cf1-af68-87bea7b4ca78",
        "colab": {
          "base_uri": "https://localhost:8080/"
        }
      },
      "outputs": [
        {
          "output_type": "stream",
          "name": "stdout",
          "text": [
            "CPU times: user 1.14 s, sys: 52.9 ms, total: 1.2 s\n",
            "Wall time: 1.19 s\n"
          ]
        }
      ],
      "source": [
        "%%time\n",
        "\n",
        "ddf[0]=ddf[0].drop(labels=0, axis=0) # elimina a primeira linha do primeiro df, que repete o cabeçalho\n",
        "# definindo o dtype das colunas\n",
        "for df in ddf:\n",
        "    df.loc[:,'isFraud'].astype('int')\n",
        "    df.loc[:,'TransactionID'].astype('int')\n",
        "    df.loc[:,'TransactionDT'].astype('int')\n",
        "    df.iloc[:,3:].astype('float')"
      ]
    },
    {
      "cell_type": "code",
      "execution_count": 5,
      "id": "5906b86b",
      "metadata": {
        "id": "5906b86b",
        "outputId": "7026b52a-9cfa-4bf6-e133-11bca13ed431",
        "colab": {
          "base_uri": "https://localhost:8080/"
        }
      },
      "outputs": [
        {
          "output_type": "stream",
          "name": "stdout",
          "text": [
            "0.02590129506475324\n",
            "0.02835\n",
            "0.02565\n",
            "0.02415\n",
            "0.0218\n",
            "0.01545\n",
            "0.0372\n",
            "0.0376\n",
            "0.03875\n",
            "0.04415\n",
            "0.03965\n",
            "0.04755\n",
            "0.0403\n",
            "0.04035\n",
            "0.0359\n",
            "0.03925\n",
            "0.03015\n",
            "0.03365\n",
            "0.041\n",
            "0.04615\n",
            "0.0441\n",
            "0.031\n",
            "0.04\n",
            "0.03535\n",
            "0.03045\n",
            "0.03005\n",
            "0.0318\n",
            "0.03565\n",
            "0.03915\n",
            "0.03880087278246846\n",
            "CPU times: user 21.1 ms, sys: 3.14 ms, total: 24.2 ms\n",
            "Wall time: 20.7 ms\n"
          ]
        }
      ],
      "source": [
        "%%time\n",
        "# Vamos checar a % de positivos para Fraudes em cada df\n",
        "for df in ddf:\n",
        "    print((df.loc[:,'isFraud']==1).sum()/df.shape[0])"
      ]
    },
    {
      "cell_type": "code",
      "execution_count": 6,
      "id": "fae13239",
      "metadata": {
        "id": "fae13239",
        "outputId": "4dd32235-6fd3-4208-f747-40cea2290a0d",
        "colab": {
          "base_uri": "https://localhost:8080/"
        }
      },
      "outputs": [
        {
          "output_type": "stream",
          "name": "stdout",
          "text": [
            "CPU times: user 2.61 s, sys: 3.19 s, total: 5.8 s\n",
            "Wall time: 5.74 s\n"
          ]
        }
      ],
      "source": [
        "%%time\n",
        "# concatenar os dataframes para reduzir a ocupação da memória\n",
        "df = pd.concat(ddf,axis=0,ignore_index=True)\n",
        "df.head()"
      ]
    },
    {
      "cell_type": "code",
      "source": [
        "# Deletar ddf e eliminar os dado para liberar RAM\n",
        "del ddf\n",
        "gc.collect()"
      ],
      "metadata": {
        "id": "HCSHGhJMOXFT",
        "outputId": "cf208ab3-8e65-488c-870d-e9fefcfb528a",
        "colab": {
          "base_uri": "https://localhost:8080/"
        }
      },
      "id": "HCSHGhJMOXFT",
      "execution_count": 7,
      "outputs": [
        {
          "output_type": "execute_result",
          "data": {
            "text/plain": [
              "151"
            ]
          },
          "metadata": {},
          "execution_count": 7
        }
      ]
    },
    {
      "cell_type": "markdown",
      "metadata": {
        "id": "GOqkWLAmGhwA"
      },
      "source": [
        "### Resumo Etapa 1 - Entendimento e Ingestão dos dados da base Kaggle\n",
        "\n",
        "- Por limitaçaõ da memória optou-se por trabalhar com uma parcela de 400.000 (~ 68% do total de registros)\n",
        "- Foram eliminadas as varáiveis categóricas\n",
        "    * ProductCD\n",
        "    * card1 - card6\n",
        "    * addr1, addr2\n",
        "    * P_emaildomain\n",
        "    * R_emaildomain\n",
        "    * M1 - M9 "
      ],
      "id": "GOqkWLAmGhwA"
    },
    {
      "cell_type": "markdown",
      "metadata": {
        "id": "zV2T5D3mGhwB"
      },
      "source": [
        "## Etapa 2 -Pré processamento dos Dados.\n",
        "\n",
        "Esta etapa consiste das seguintes sub etapas:   \n",
        "- **- Etapa 2A - Eliminação dos Missing Values**   \n",
        "    - Nesta subetapa sao quantificadas os tais de missing values de cada coluna, que são elimnadas a partir de um limiar de percentual (> 25%) a seguir as linhas com missing values são eliminadas   \n",
        "- **- Etapa 2B - Padronização**   \n",
        "    - nesta subetapa os dados são padronizados utilizando a classe `StandardScaler()` do `Scikit Learn`.     \n",
        "- **- Etapa 2C - Redução de Dimensões (PCA e UMAP)**     \n",
        "    - Nesta subetapa  a classe `PCA()` do `Scikit` e o pacote `UMAP` são usados para reduzir a dimiensionalidade do conjunto de dados afim de otimizar o tempo e uso de memória para fazer a pré-seleção dos modelos e também gerar uma segunda base com os atributos selecionados pela razão de variância explicada obtida pelo método `explained_variance_ratio_` da classe `PCA`. A quantidade de atributos que garantem mai de 90% de poder de explicação é usada na operação com UMAP.     \n",
        "- **- Resumo Etapa 2**\n"
      ],
      "id": "zV2T5D3mGhwB"
    },
    {
      "cell_type": "markdown",
      "metadata": {
        "id": "kMoLVNiKGhwC"
      },
      "source": [
        "### Etapa 2A - Eliminação dos Missing Values"
      ],
      "id": "kMoLVNiKGhwC"
    },
    {
      "cell_type": "code",
      "execution_count": 8,
      "id": "1760ddd2",
      "metadata": {
        "id": "1760ddd2",
        "outputId": "664aa7b9-e993-4a43-edb9-40bf025d06a5",
        "colab": {
          "base_uri": "https://localhost:8080/"
        }
      },
      "outputs": [
        {
          "output_type": "stream",
          "name": "stdout",
          "text": [
            "CPU times: user 6.8 s, sys: 43.5 ms, total: 6.84 s\n",
            "Wall time: 6.75 s\n"
          ]
        }
      ],
      "source": [
        "%%time\n",
        "# Quantificando os missing values em cada coluna\n",
        "na_columns = df.isna().sum()/df.shape[0]"
      ]
    },
    {
      "cell_type": "code",
      "execution_count": 9,
      "metadata": {
        "id": "XqxYvcYcGhwE",
        "outputId": "9e9e2dd4-58b0-44f8-bd7b-7c8cb58912ab",
        "colab": {
          "base_uri": "https://localhost:8080/"
        }
      },
      "outputs": [
        {
          "output_type": "stream",
          "name": "stdout",
          "text": [
            "CPU times: user 1.53 ms, sys: 1.93 ms, total: 3.46 ms\n",
            "Wall time: 3.46 ms\n"
          ]
        },
        {
          "output_type": "execute_result",
          "data": {
            "text/plain": [
              "count    372.000000\n",
              "mean       0.415653\n",
              "std        0.362087\n",
              "min        0.000000\n",
              "25%        0.001745\n",
              "50%        0.286126\n",
              "75%        0.779134\n",
              "max        0.934099\n",
              "dtype: float64"
            ]
          },
          "metadata": {},
          "execution_count": 9
        }
      ],
      "source": [
        "%%time\n",
        "# Sumarizando os missing values em cada coluna\n",
        "na_columns.describe()"
      ],
      "id": "XqxYvcYcGhwE"
    },
    {
      "cell_type": "code",
      "execution_count": 10,
      "metadata": {
        "id": "WKQImxTYGhwE",
        "outputId": "640aa32d-c77f-4de0-8526-1c7801ccf1fe",
        "colab": {
          "base_uri": "https://localhost:8080/"
        }
      },
      "outputs": [
        {
          "output_type": "stream",
          "name": "stdout",
          "text": [
            "CPU times: user 5.68 s, sys: 1.65 s, total: 7.33 s\n",
            "Wall time: 7.15 s\n"
          ]
        }
      ],
      "source": [
        "%%time\n",
        "# Eliminando as colunas com mais de 25% de missing values\n",
        "df.drop(na_columns[na_columns>0.25].index.tolist(),axis=1, inplace=True)"
      ],
      "id": "WKQImxTYGhwE"
    },
    {
      "cell_type": "code",
      "execution_count": 11,
      "metadata": {
        "id": "EKvaYaIaGhwF",
        "outputId": "6b1f2a7f-081a-43a5-a904-537ba086ce7a",
        "colab": {
          "base_uri": "https://localhost:8080/"
        }
      },
      "outputs": [
        {
          "output_type": "stream",
          "name": "stdout",
          "text": [
            "CPU times: user 3.9 s, sys: 27.4 ms, total: 3.93 s\n",
            "Wall time: 3.88 s\n"
          ]
        }
      ],
      "source": [
        "%%time\n",
        "# Eliminado as linhas com missing values\n",
        "df.dropna(inplace=True)"
      ],
      "id": "EKvaYaIaGhwF"
    },
    {
      "cell_type": "code",
      "execution_count": 12,
      "metadata": {
        "id": "iwb4hHBdGhwG",
        "outputId": "2f3a6577-f3bf-4dbe-df18-81100281e6fd",
        "colab": {
          "base_uri": "https://localhost:8080/"
        }
      },
      "outputs": [
        {
          "output_type": "stream",
          "name": "stdout",
          "text": [
            "(490634, 172)\n",
            "0\n",
            "CPU times: user 2.61 s, sys: 12.4 ms, total: 2.62 s\n",
            "Wall time: 2.58 s\n"
          ]
        }
      ],
      "source": [
        "%%time\n",
        "# verificando o tamanho do dataframe resultante\n",
        "print(df.shape)\n",
        "print((df.isna().sum()).sum())"
      ],
      "id": "iwb4hHBdGhwG"
    },
    {
      "cell_type": "code",
      "execution_count": 16,
      "metadata": {
        "id": "rymXHd9-GhwH",
        "outputId": "b073543a-e1e8-410a-b1c2-348d2107a0f3",
        "colab": {
          "base_uri": "https://localhost:8080/"
        }
      },
      "outputs": [
        {
          "output_type": "stream",
          "name": "stdout",
          "text": [
            "CPU times: user 22.1 s, sys: 502 ms, total: 22.6 s\n",
            "Wall time: 22.5 s\n"
          ]
        }
      ],
      "source": [
        "%%time\n",
        "# exportando o resultado final para um arquivo csv\n",
        "df.to_csv('/content/data/transactions_red.csv')\n",
        "# deletando df e limpando a RAM\n",
        "del df\n",
        "gc.collect()"
      ],
      "id": "rymXHd9-GhwH"
    },
    {
      "cell_type": "markdown",
      "source": [
        "Trabalhar este código para persistir os arquivos"
      ],
      "metadata": {
        "id": "EZFqR45GtqQH"
      },
      "id": "EZFqR45GtqQH"
    },
    {
      "cell_type": "markdown",
      "metadata": {
        "id": "2RSkoEkyGhwI"
      },
      "source": [
        "#### Resumo Etapa 2A - Entendimento e Ingestão dos dados da base Kaggle\n",
        "\n",
        "- Com a eliminação dos missing values será analisada uma base de 490634 registros com 172 atributos cada (~ 68% do total de registros), o que se considera-se aceitável\n",
        "- Do ponto de vista do modelo esta operação de redução pode resultar em diminuição da informação resultando numa precisão menor\n",
        "- O recomendável seria uma avaliação do significado de cada atributo eliminado junto a um especialista, o que não está disponível\n",
        "- Do ponto de vista operacional, caso não houvesse restrição de memória, o procedimento seria mantido resultando em mais registros para análise resultando num modelo mais completo"
      ],
      "id": "2RSkoEkyGhwI"
    },
    {
      "cell_type": "markdown",
      "metadata": {
        "id": "5Ouuq7zEGhwJ"
      },
      "source": [
        "### Etapa 2B - Padronização"
      ],
      "id": "5Ouuq7zEGhwJ"
    },
    {
      "cell_type": "code",
      "execution_count": 17,
      "metadata": {
        "id": "K43L9m1-GhwJ",
        "outputId": "04941c53-6de2-460c-ac9c-7b6e797c77d2",
        "colab": {
          "base_uri": "https://localhost:8080/"
        }
      },
      "outputs": [
        {
          "output_type": "stream",
          "name": "stdout",
          "text": [
            "Collecting umap-learn\n",
            "  Downloading umap-learn-0.5.2.tar.gz (86 kB)\n",
            "\u001b[K     |████████████████████████████████| 86 kB 4.3 MB/s \n",
            "\u001b[?25hRequirement already satisfied: numpy>=1.17 in /usr/local/lib/python3.7/dist-packages (from umap-learn) (1.21.5)\n",
            "Requirement already satisfied: scikit-learn>=0.22 in /usr/local/lib/python3.7/dist-packages (from umap-learn) (1.0.2)\n",
            "Requirement already satisfied: scipy>=1.0 in /usr/local/lib/python3.7/dist-packages (from umap-learn) (1.4.1)\n",
            "Requirement already satisfied: numba>=0.49 in /usr/local/lib/python3.7/dist-packages (from umap-learn) (0.51.2)\n",
            "Collecting pynndescent>=0.5\n",
            "  Downloading pynndescent-0.5.6.tar.gz (1.1 MB)\n",
            "\u001b[K     |████████████████████████████████| 1.1 MB 17.0 MB/s \n",
            "\u001b[?25hRequirement already satisfied: tqdm in /usr/local/lib/python3.7/dist-packages (from umap-learn) (4.63.0)\n",
            "Requirement already satisfied: llvmlite<0.35,>=0.34.0.dev0 in /usr/local/lib/python3.7/dist-packages (from numba>=0.49->umap-learn) (0.34.0)\n",
            "Requirement already satisfied: setuptools in /usr/local/lib/python3.7/dist-packages (from numba>=0.49->umap-learn) (57.4.0)\n",
            "Requirement already satisfied: joblib>=0.11 in /usr/local/lib/python3.7/dist-packages (from pynndescent>=0.5->umap-learn) (1.1.0)\n",
            "Requirement already satisfied: threadpoolctl>=2.0.0 in /usr/local/lib/python3.7/dist-packages (from scikit-learn>=0.22->umap-learn) (3.1.0)\n",
            "Building wheels for collected packages: umap-learn, pynndescent\n",
            "  Building wheel for umap-learn (setup.py) ... \u001b[?25l\u001b[?25hdone\n",
            "  Created wheel for umap-learn: filename=umap_learn-0.5.2-py3-none-any.whl size=82708 sha256=d24c94d3f0792eaafddf645f8488dbae5c14cf75864e7ca57192d214a0116fd4\n",
            "  Stored in directory: /root/.cache/pip/wheels/84/1b/c6/aaf68a748122632967cef4dffef68224eb16798b6793257d82\n",
            "  Building wheel for pynndescent (setup.py) ... \u001b[?25l\u001b[?25hdone\n",
            "  Created wheel for pynndescent: filename=pynndescent-0.5.6-py3-none-any.whl size=53943 sha256=624442bee57a689359d8978bba53580d303babcf46155cebf7b8a2e8e3024363\n",
            "  Stored in directory: /root/.cache/pip/wheels/03/f1/56/f80d72741e400345b5a5b50ec3d929aca581bf45e0225d5c50\n",
            "Successfully built umap-learn pynndescent\n",
            "Installing collected packages: pynndescent, umap-learn\n",
            "Successfully installed pynndescent-0.5.6 umap-learn-0.5.2\n"
          ]
        }
      ],
      "source": [
        "# caso o UMAP não esteja instalado execute a linha a seguir deletando o #\n",
        "\n",
        "! pip install umap-learn"
      ],
      "id": "K43L9m1-GhwJ"
    },
    {
      "cell_type": "code",
      "execution_count": 18,
      "metadata": {
        "id": "4FTlF_mYGhwJ",
        "outputId": "4841ca7d-6453-4070-d122-2f2b77e61632",
        "colab": {
          "base_uri": "https://localhost:8080/"
        }
      },
      "outputs": [
        {
          "output_type": "stream",
          "name": "stdout",
          "text": [
            "CPU times: user 14.8 s, sys: 701 ms, total: 15.5 s\n",
            "Wall time: 16.1 s\n"
          ]
        }
      ],
      "source": [
        "%%time\n",
        "# importando as biblitecas\n",
        "import matplotlib.pyplot as plt\n",
        "import numpy as np\n",
        "import pandas as pd \n",
        "import seaborn as sns\n",
        "import os\n",
        "from sklearn.decomposition import PCA\n",
        "from sklearn.preprocessing import StandardScaler\n",
        "import umap"
      ],
      "id": "4FTlF_mYGhwJ"
    },
    {
      "cell_type": "code",
      "execution_count": 23,
      "metadata": {
        "id": "qH9u7NfTGhwK",
        "outputId": "cfc8e87f-3144-40d9-f859-4aa7fee6762f",
        "colab": {
          "base_uri": "https://localhost:8080/"
        }
      },
      "outputs": [
        {
          "output_type": "stream",
          "name": "stdout",
          "text": [
            "CPU times: user 2.63 s, sys: 167 ms, total: 2.8 s\n",
            "Wall time: 2.79 s\n"
          ]
        }
      ],
      "source": [
        " %%time\n",
        " ## vamos carregar as 100000 primeiras linhas do dataset transactios_red\n",
        " df = pd.read_csv('/content/data/transactions_red.csv',index_col=0,nrows=200000 )\n",
        " # df = df.reset_index(drop=True)"
      ],
      "id": "qH9u7NfTGhwK"
    },
    {
      "cell_type": "code",
      "execution_count": 24,
      "metadata": {
        "id": "1RmctDlGGhwK",
        "outputId": "d7cc9e24-5747-4c91-d705-453363d486e8",
        "colab": {
          "base_uri": "https://localhost:8080/",
          "height": 299
        }
      },
      "outputs": [
        {
          "output_type": "execute_result",
          "data": {
            "text/plain": [
              "   TransactionID  isFraud  TransactionDT  TransactionAmt   C1   C2   C3   C4  \\\n",
              "0        2987000        0          86400            68.5  1.0  1.0  0.0  0.0   \n",
              "1        2987001        0          86401            29.0  1.0  1.0  0.0  0.0   \n",
              "2        2987002        0          86469            59.0  1.0  1.0  0.0  0.0   \n",
              "3        2987003        0          86499            50.0  2.0  5.0  0.0  0.0   \n",
              "5        2987005        0          86510            49.0  1.0  1.0  0.0  0.0   \n",
              "\n",
              "    C5   C6  ...   V312  V313  V314  V315  V316    V317   V318  V319  V320  \\\n",
              "0  0.0  1.0  ...    0.0   0.0   0.0   0.0   0.0   117.0    0.0   0.0   0.0   \n",
              "1  0.0  1.0  ...    0.0   0.0   0.0   0.0   0.0     0.0    0.0   0.0   0.0   \n",
              "2  0.0  1.0  ...    0.0   0.0   0.0   0.0   0.0     0.0    0.0   0.0   0.0   \n",
              "3  0.0  4.0  ...  135.0   0.0   0.0   0.0  50.0  1404.0  790.0   0.0   0.0   \n",
              "5  0.0  1.0  ...    0.0   0.0   0.0   0.0   0.0     0.0    0.0   0.0   0.0   \n",
              "\n",
              "   V321  \n",
              "0   0.0  \n",
              "1   0.0  \n",
              "2   0.0  \n",
              "3   0.0  \n",
              "5   0.0  \n",
              "\n",
              "[5 rows x 172 columns]"
            ],
            "text/html": [
              "\n",
              "  <div id=\"df-e4be5d64-36ef-4752-8c5d-dca83e040f4b\">\n",
              "    <div class=\"colab-df-container\">\n",
              "      <div>\n",
              "<style scoped>\n",
              "    .dataframe tbody tr th:only-of-type {\n",
              "        vertical-align: middle;\n",
              "    }\n",
              "\n",
              "    .dataframe tbody tr th {\n",
              "        vertical-align: top;\n",
              "    }\n",
              "\n",
              "    .dataframe thead th {\n",
              "        text-align: right;\n",
              "    }\n",
              "</style>\n",
              "<table border=\"1\" class=\"dataframe\">\n",
              "  <thead>\n",
              "    <tr style=\"text-align: right;\">\n",
              "      <th></th>\n",
              "      <th>TransactionID</th>\n",
              "      <th>isFraud</th>\n",
              "      <th>TransactionDT</th>\n",
              "      <th>TransactionAmt</th>\n",
              "      <th>C1</th>\n",
              "      <th>C2</th>\n",
              "      <th>C3</th>\n",
              "      <th>C4</th>\n",
              "      <th>C5</th>\n",
              "      <th>C6</th>\n",
              "      <th>...</th>\n",
              "      <th>V312</th>\n",
              "      <th>V313</th>\n",
              "      <th>V314</th>\n",
              "      <th>V315</th>\n",
              "      <th>V316</th>\n",
              "      <th>V317</th>\n",
              "      <th>V318</th>\n",
              "      <th>V319</th>\n",
              "      <th>V320</th>\n",
              "      <th>V321</th>\n",
              "    </tr>\n",
              "  </thead>\n",
              "  <tbody>\n",
              "    <tr>\n",
              "      <th>0</th>\n",
              "      <td>2987000</td>\n",
              "      <td>0</td>\n",
              "      <td>86400</td>\n",
              "      <td>68.5</td>\n",
              "      <td>1.0</td>\n",
              "      <td>1.0</td>\n",
              "      <td>0.0</td>\n",
              "      <td>0.0</td>\n",
              "      <td>0.0</td>\n",
              "      <td>1.0</td>\n",
              "      <td>...</td>\n",
              "      <td>0.0</td>\n",
              "      <td>0.0</td>\n",
              "      <td>0.0</td>\n",
              "      <td>0.0</td>\n",
              "      <td>0.0</td>\n",
              "      <td>117.0</td>\n",
              "      <td>0.0</td>\n",
              "      <td>0.0</td>\n",
              "      <td>0.0</td>\n",
              "      <td>0.0</td>\n",
              "    </tr>\n",
              "    <tr>\n",
              "      <th>1</th>\n",
              "      <td>2987001</td>\n",
              "      <td>0</td>\n",
              "      <td>86401</td>\n",
              "      <td>29.0</td>\n",
              "      <td>1.0</td>\n",
              "      <td>1.0</td>\n",
              "      <td>0.0</td>\n",
              "      <td>0.0</td>\n",
              "      <td>0.0</td>\n",
              "      <td>1.0</td>\n",
              "      <td>...</td>\n",
              "      <td>0.0</td>\n",
              "      <td>0.0</td>\n",
              "      <td>0.0</td>\n",
              "      <td>0.0</td>\n",
              "      <td>0.0</td>\n",
              "      <td>0.0</td>\n",
              "      <td>0.0</td>\n",
              "      <td>0.0</td>\n",
              "      <td>0.0</td>\n",
              "      <td>0.0</td>\n",
              "    </tr>\n",
              "    <tr>\n",
              "      <th>2</th>\n",
              "      <td>2987002</td>\n",
              "      <td>0</td>\n",
              "      <td>86469</td>\n",
              "      <td>59.0</td>\n",
              "      <td>1.0</td>\n",
              "      <td>1.0</td>\n",
              "      <td>0.0</td>\n",
              "      <td>0.0</td>\n",
              "      <td>0.0</td>\n",
              "      <td>1.0</td>\n",
              "      <td>...</td>\n",
              "      <td>0.0</td>\n",
              "      <td>0.0</td>\n",
              "      <td>0.0</td>\n",
              "      <td>0.0</td>\n",
              "      <td>0.0</td>\n",
              "      <td>0.0</td>\n",
              "      <td>0.0</td>\n",
              "      <td>0.0</td>\n",
              "      <td>0.0</td>\n",
              "      <td>0.0</td>\n",
              "    </tr>\n",
              "    <tr>\n",
              "      <th>3</th>\n",
              "      <td>2987003</td>\n",
              "      <td>0</td>\n",
              "      <td>86499</td>\n",
              "      <td>50.0</td>\n",
              "      <td>2.0</td>\n",
              "      <td>5.0</td>\n",
              "      <td>0.0</td>\n",
              "      <td>0.0</td>\n",
              "      <td>0.0</td>\n",
              "      <td>4.0</td>\n",
              "      <td>...</td>\n",
              "      <td>135.0</td>\n",
              "      <td>0.0</td>\n",
              "      <td>0.0</td>\n",
              "      <td>0.0</td>\n",
              "      <td>50.0</td>\n",
              "      <td>1404.0</td>\n",
              "      <td>790.0</td>\n",
              "      <td>0.0</td>\n",
              "      <td>0.0</td>\n",
              "      <td>0.0</td>\n",
              "    </tr>\n",
              "    <tr>\n",
              "      <th>5</th>\n",
              "      <td>2987005</td>\n",
              "      <td>0</td>\n",
              "      <td>86510</td>\n",
              "      <td>49.0</td>\n",
              "      <td>1.0</td>\n",
              "      <td>1.0</td>\n",
              "      <td>0.0</td>\n",
              "      <td>0.0</td>\n",
              "      <td>0.0</td>\n",
              "      <td>1.0</td>\n",
              "      <td>...</td>\n",
              "      <td>0.0</td>\n",
              "      <td>0.0</td>\n",
              "      <td>0.0</td>\n",
              "      <td>0.0</td>\n",
              "      <td>0.0</td>\n",
              "      <td>0.0</td>\n",
              "      <td>0.0</td>\n",
              "      <td>0.0</td>\n",
              "      <td>0.0</td>\n",
              "      <td>0.0</td>\n",
              "    </tr>\n",
              "  </tbody>\n",
              "</table>\n",
              "<p>5 rows × 172 columns</p>\n",
              "</div>\n",
              "      <button class=\"colab-df-convert\" onclick=\"convertToInteractive('df-e4be5d64-36ef-4752-8c5d-dca83e040f4b')\"\n",
              "              title=\"Convert this dataframe to an interactive table.\"\n",
              "              style=\"display:none;\">\n",
              "        \n",
              "  <svg xmlns=\"http://www.w3.org/2000/svg\" height=\"24px\"viewBox=\"0 0 24 24\"\n",
              "       width=\"24px\">\n",
              "    <path d=\"M0 0h24v24H0V0z\" fill=\"none\"/>\n",
              "    <path d=\"M18.56 5.44l.94 2.06.94-2.06 2.06-.94-2.06-.94-.94-2.06-.94 2.06-2.06.94zm-11 1L8.5 8.5l.94-2.06 2.06-.94-2.06-.94L8.5 2.5l-.94 2.06-2.06.94zm10 10l.94 2.06.94-2.06 2.06-.94-2.06-.94-.94-2.06-.94 2.06-2.06.94z\"/><path d=\"M17.41 7.96l-1.37-1.37c-.4-.4-.92-.59-1.43-.59-.52 0-1.04.2-1.43.59L10.3 9.45l-7.72 7.72c-.78.78-.78 2.05 0 2.83L4 21.41c.39.39.9.59 1.41.59.51 0 1.02-.2 1.41-.59l7.78-7.78 2.81-2.81c.8-.78.8-2.07 0-2.86zM5.41 20L4 18.59l7.72-7.72 1.47 1.35L5.41 20z\"/>\n",
              "  </svg>\n",
              "      </button>\n",
              "      \n",
              "  <style>\n",
              "    .colab-df-container {\n",
              "      display:flex;\n",
              "      flex-wrap:wrap;\n",
              "      gap: 12px;\n",
              "    }\n",
              "\n",
              "    .colab-df-convert {\n",
              "      background-color: #E8F0FE;\n",
              "      border: none;\n",
              "      border-radius: 50%;\n",
              "      cursor: pointer;\n",
              "      display: none;\n",
              "      fill: #1967D2;\n",
              "      height: 32px;\n",
              "      padding: 0 0 0 0;\n",
              "      width: 32px;\n",
              "    }\n",
              "\n",
              "    .colab-df-convert:hover {\n",
              "      background-color: #E2EBFA;\n",
              "      box-shadow: 0px 1px 2px rgba(60, 64, 67, 0.3), 0px 1px 3px 1px rgba(60, 64, 67, 0.15);\n",
              "      fill: #174EA6;\n",
              "    }\n",
              "\n",
              "    [theme=dark] .colab-df-convert {\n",
              "      background-color: #3B4455;\n",
              "      fill: #D2E3FC;\n",
              "    }\n",
              "\n",
              "    [theme=dark] .colab-df-convert:hover {\n",
              "      background-color: #434B5C;\n",
              "      box-shadow: 0px 1px 3px 1px rgba(0, 0, 0, 0.15);\n",
              "      filter: drop-shadow(0px 1px 2px rgba(0, 0, 0, 0.3));\n",
              "      fill: #FFFFFF;\n",
              "    }\n",
              "  </style>\n",
              "\n",
              "      <script>\n",
              "        const buttonEl =\n",
              "          document.querySelector('#df-e4be5d64-36ef-4752-8c5d-dca83e040f4b button.colab-df-convert');\n",
              "        buttonEl.style.display =\n",
              "          google.colab.kernel.accessAllowed ? 'block' : 'none';\n",
              "\n",
              "        async function convertToInteractive(key) {\n",
              "          const element = document.querySelector('#df-e4be5d64-36ef-4752-8c5d-dca83e040f4b');\n",
              "          const dataTable =\n",
              "            await google.colab.kernel.invokeFunction('convertToInteractive',\n",
              "                                                     [key], {});\n",
              "          if (!dataTable) return;\n",
              "\n",
              "          const docLinkHtml = 'Like what you see? Visit the ' +\n",
              "            '<a target=\"_blank\" href=https://colab.research.google.com/notebooks/data_table.ipynb>data table notebook</a>'\n",
              "            + ' to learn more about interactive tables.';\n",
              "          element.innerHTML = '';\n",
              "          dataTable['output_type'] = 'display_data';\n",
              "          await google.colab.output.renderOutput(dataTable, element);\n",
              "          const docLink = document.createElement('div');\n",
              "          docLink.innerHTML = docLinkHtml;\n",
              "          element.appendChild(docLink);\n",
              "        }\n",
              "      </script>\n",
              "    </div>\n",
              "  </div>\n",
              "  "
            ]
          },
          "metadata": {},
          "execution_count": 24
        }
      ],
      "source": [
        "df.head()"
      ],
      "id": "1RmctDlGGhwK"
    },
    {
      "cell_type": "code",
      "source": [
        "# Verificando o tamanho de df\n",
        "df.shape"
      ],
      "metadata": {
        "id": "mj-e-sw7wDik",
        "outputId": "1e7351d0-4247-453b-e2ce-04e35016200d",
        "colab": {
          "base_uri": "https://localhost:8080/"
        }
      },
      "id": "mj-e-sw7wDik",
      "execution_count": 25,
      "outputs": [
        {
          "output_type": "execute_result",
          "data": {
            "text/plain": [
              "(200000, 172)"
            ]
          },
          "metadata": {},
          "execution_count": 25
        }
      ]
    },
    {
      "cell_type": "code",
      "execution_count": 26,
      "metadata": {
        "id": "KuHqfeACGhwL",
        "outputId": "c948bfe8-ab86-4354-c836-ac931e5865f3",
        "colab": {
          "base_uri": "https://localhost:8080/"
        }
      },
      "outputs": [
        {
          "output_type": "execute_result",
          "data": {
            "text/plain": [
              "0.030065"
            ]
          },
          "metadata": {},
          "execution_count": 26
        }
      ],
      "source": [
        "# verificando o % de casos com isFraud==1\n",
        "(df['isFraud']==1).sum()/df.shape[0]"
      ],
      "id": "KuHqfeACGhwL"
    },
    {
      "cell_type": "markdown",
      "metadata": {
        "id": "rQNutBabGhwL"
      },
      "source": [
        "> Como o valor é aproximandamente igual ao percentual geral, não é necessário nos preocuparmos com eventuais viéses causados pela redução de registos"
      ],
      "id": "rQNutBabGhwL"
    },
    {
      "cell_type": "code",
      "execution_count": 55,
      "metadata": {
        "id": "n_nO534RGhwL"
      },
      "outputs": [],
      "source": [
        "# Vamos criar separar os atributos que não precisão ser normalizados e os atributos númericos que serão norammalizados\n",
        "# o atrbuto TransactionAmt fará parte dos dois consjutos\n",
        "# X1 é um dataframe pandas\n",
        "# X2 é uma array do Numpy\n",
        "X1 = df.iloc[:,1:4].reset_index(drop=True)\n",
        "X2 = StandardScaler().fit_transform(df.iloc[:,3:])"
      ],
      "id": "n_nO534RGhwL"
    },
    {
      "cell_type": "code",
      "execution_count": 28,
      "metadata": {
        "id": "M0z0uiM7GhwM",
        "outputId": "98aa2321-afab-4e95-c04b-cb294e21c225",
        "colab": {
          "base_uri": "https://localhost:8080/",
          "height": 206
        }
      },
      "outputs": [
        {
          "output_type": "execute_result",
          "data": {
            "text/plain": [
              "   isFraud  TransactionDT  TransactionAmt\n",
              "0        0          86400            68.5\n",
              "1        0          86401            29.0\n",
              "2        0          86469            59.0\n",
              "3        0          86499            50.0\n",
              "5        0          86510            49.0"
            ],
            "text/html": [
              "\n",
              "  <div id=\"df-b97c3b88-5f92-4fe3-8785-1cdcf56b9b04\">\n",
              "    <div class=\"colab-df-container\">\n",
              "      <div>\n",
              "<style scoped>\n",
              "    .dataframe tbody tr th:only-of-type {\n",
              "        vertical-align: middle;\n",
              "    }\n",
              "\n",
              "    .dataframe tbody tr th {\n",
              "        vertical-align: top;\n",
              "    }\n",
              "\n",
              "    .dataframe thead th {\n",
              "        text-align: right;\n",
              "    }\n",
              "</style>\n",
              "<table border=\"1\" class=\"dataframe\">\n",
              "  <thead>\n",
              "    <tr style=\"text-align: right;\">\n",
              "      <th></th>\n",
              "      <th>isFraud</th>\n",
              "      <th>TransactionDT</th>\n",
              "      <th>TransactionAmt</th>\n",
              "    </tr>\n",
              "  </thead>\n",
              "  <tbody>\n",
              "    <tr>\n",
              "      <th>0</th>\n",
              "      <td>0</td>\n",
              "      <td>86400</td>\n",
              "      <td>68.5</td>\n",
              "    </tr>\n",
              "    <tr>\n",
              "      <th>1</th>\n",
              "      <td>0</td>\n",
              "      <td>86401</td>\n",
              "      <td>29.0</td>\n",
              "    </tr>\n",
              "    <tr>\n",
              "      <th>2</th>\n",
              "      <td>0</td>\n",
              "      <td>86469</td>\n",
              "      <td>59.0</td>\n",
              "    </tr>\n",
              "    <tr>\n",
              "      <th>3</th>\n",
              "      <td>0</td>\n",
              "      <td>86499</td>\n",
              "      <td>50.0</td>\n",
              "    </tr>\n",
              "    <tr>\n",
              "      <th>5</th>\n",
              "      <td>0</td>\n",
              "      <td>86510</td>\n",
              "      <td>49.0</td>\n",
              "    </tr>\n",
              "  </tbody>\n",
              "</table>\n",
              "</div>\n",
              "      <button class=\"colab-df-convert\" onclick=\"convertToInteractive('df-b97c3b88-5f92-4fe3-8785-1cdcf56b9b04')\"\n",
              "              title=\"Convert this dataframe to an interactive table.\"\n",
              "              style=\"display:none;\">\n",
              "        \n",
              "  <svg xmlns=\"http://www.w3.org/2000/svg\" height=\"24px\"viewBox=\"0 0 24 24\"\n",
              "       width=\"24px\">\n",
              "    <path d=\"M0 0h24v24H0V0z\" fill=\"none\"/>\n",
              "    <path d=\"M18.56 5.44l.94 2.06.94-2.06 2.06-.94-2.06-.94-.94-2.06-.94 2.06-2.06.94zm-11 1L8.5 8.5l.94-2.06 2.06-.94-2.06-.94L8.5 2.5l-.94 2.06-2.06.94zm10 10l.94 2.06.94-2.06 2.06-.94-2.06-.94-.94-2.06-.94 2.06-2.06.94z\"/><path d=\"M17.41 7.96l-1.37-1.37c-.4-.4-.92-.59-1.43-.59-.52 0-1.04.2-1.43.59L10.3 9.45l-7.72 7.72c-.78.78-.78 2.05 0 2.83L4 21.41c.39.39.9.59 1.41.59.51 0 1.02-.2 1.41-.59l7.78-7.78 2.81-2.81c.8-.78.8-2.07 0-2.86zM5.41 20L4 18.59l7.72-7.72 1.47 1.35L5.41 20z\"/>\n",
              "  </svg>\n",
              "      </button>\n",
              "      \n",
              "  <style>\n",
              "    .colab-df-container {\n",
              "      display:flex;\n",
              "      flex-wrap:wrap;\n",
              "      gap: 12px;\n",
              "    }\n",
              "\n",
              "    .colab-df-convert {\n",
              "      background-color: #E8F0FE;\n",
              "      border: none;\n",
              "      border-radius: 50%;\n",
              "      cursor: pointer;\n",
              "      display: none;\n",
              "      fill: #1967D2;\n",
              "      height: 32px;\n",
              "      padding: 0 0 0 0;\n",
              "      width: 32px;\n",
              "    }\n",
              "\n",
              "    .colab-df-convert:hover {\n",
              "      background-color: #E2EBFA;\n",
              "      box-shadow: 0px 1px 2px rgba(60, 64, 67, 0.3), 0px 1px 3px 1px rgba(60, 64, 67, 0.15);\n",
              "      fill: #174EA6;\n",
              "    }\n",
              "\n",
              "    [theme=dark] .colab-df-convert {\n",
              "      background-color: #3B4455;\n",
              "      fill: #D2E3FC;\n",
              "    }\n",
              "\n",
              "    [theme=dark] .colab-df-convert:hover {\n",
              "      background-color: #434B5C;\n",
              "      box-shadow: 0px 1px 3px 1px rgba(0, 0, 0, 0.15);\n",
              "      filter: drop-shadow(0px 1px 2px rgba(0, 0, 0, 0.3));\n",
              "      fill: #FFFFFF;\n",
              "    }\n",
              "  </style>\n",
              "\n",
              "      <script>\n",
              "        const buttonEl =\n",
              "          document.querySelector('#df-b97c3b88-5f92-4fe3-8785-1cdcf56b9b04 button.colab-df-convert');\n",
              "        buttonEl.style.display =\n",
              "          google.colab.kernel.accessAllowed ? 'block' : 'none';\n",
              "\n",
              "        async function convertToInteractive(key) {\n",
              "          const element = document.querySelector('#df-b97c3b88-5f92-4fe3-8785-1cdcf56b9b04');\n",
              "          const dataTable =\n",
              "            await google.colab.kernel.invokeFunction('convertToInteractive',\n",
              "                                                     [key], {});\n",
              "          if (!dataTable) return;\n",
              "\n",
              "          const docLinkHtml = 'Like what you see? Visit the ' +\n",
              "            '<a target=\"_blank\" href=https://colab.research.google.com/notebooks/data_table.ipynb>data table notebook</a>'\n",
              "            + ' to learn more about interactive tables.';\n",
              "          element.innerHTML = '';\n",
              "          dataTable['output_type'] = 'display_data';\n",
              "          await google.colab.output.renderOutput(dataTable, element);\n",
              "          const docLink = document.createElement('div');\n",
              "          docLink.innerHTML = docLinkHtml;\n",
              "          element.appendChild(docLink);\n",
              "        }\n",
              "      </script>\n",
              "    </div>\n",
              "  </div>\n",
              "  "
            ]
          },
          "metadata": {},
          "execution_count": 28
        }
      ],
      "source": [
        "# Visualizando X1\n",
        "X1.head()"
      ],
      "id": "M0z0uiM7GhwM"
    },
    {
      "cell_type": "code",
      "execution_count": 29,
      "metadata": {
        "id": "OLNCswnqGhwM",
        "outputId": "94beb571-c72f-48fb-9e6f-1e3e94a98801",
        "colab": {
          "base_uri": "https://localhost:8080/"
        }
      },
      "outputs": [
        {
          "output_type": "execute_result",
          "data": {
            "text/plain": [
              "array([[-0.28865827, -0.20839255, -0.18489713, ..., -0.08130754,\n",
              "        -0.12088279, -0.09859182],\n",
              "       [-0.45552156, -0.20839255, -0.18489713, ..., -0.08130754,\n",
              "        -0.12088279, -0.09859182],\n",
              "       [-0.32878995, -0.20839255, -0.18489713, ..., -0.08130754,\n",
              "        -0.12088279, -0.09859182],\n",
              "       ...,\n",
              "       [ 0.14434141, -0.18209975, -0.18489713, ..., -0.08130754,\n",
              "        -0.12088279, -0.09859182],\n",
              "       [ 0.37668271, -0.02434293,  0.00820881, ..., -0.08130754,\n",
              "        -0.12088279, -0.09859182],\n",
              "       [-0.08377549, -0.20839255, -0.18489713, ..., -0.08130754,\n",
              "        -0.12088279, -0.09859182]])"
            ]
          },
          "metadata": {},
          "execution_count": 29
        }
      ],
      "source": [
        "# Visualizando X2\n",
        "X2"
      ],
      "id": "OLNCswnqGhwM"
    },
    {
      "cell_type": "code",
      "execution_count": 30,
      "metadata": {
        "id": "HWQ4oZXlGhwN",
        "outputId": "77cb1089-533f-4fe2-c7aa-632824ac2bf8",
        "colab": {
          "base_uri": "https://localhost:8080/",
          "height": 487
        }
      },
      "outputs": [
        {
          "output_type": "execute_result",
          "data": {
            "text/plain": [
              "        TransactionAmt        C1        C2        C3        C4        C5  \\\n",
              "0            -0.288658 -0.208393 -0.184897 -0.011815 -0.034052 -0.235908   \n",
              "1            -0.455522 -0.208393 -0.184897 -0.011815 -0.034052 -0.235908   \n",
              "2            -0.328790 -0.208393 -0.184897 -0.011815 -0.034052 -0.235908   \n",
              "3            -0.366809 -0.182100 -0.088344 -0.011815 -0.034052 -0.235908   \n",
              "4            -0.371034 -0.208393 -0.184897 -0.011815 -0.034052 -0.235908   \n",
              "...                ...       ...       ...       ...       ...       ...   \n",
              "199995       -0.024634 -0.155807 -0.160759 -0.011815 -0.034052 -0.235908   \n",
              "199996        0.376683 -0.182100 -0.160759 -0.011815 -0.034052 -0.235908   \n",
              "199997        0.144341 -0.182100 -0.184897 -0.011815 -0.034052 -0.235908   \n",
              "199998        0.376683 -0.024343  0.008209 -0.011815 -0.034052 -0.160588   \n",
              "199999       -0.083775 -0.208393 -0.184897 -0.011815 -0.034052 -0.235908   \n",
              "\n",
              "              C6        C7       C8        C9  ...      V312      V313  \\\n",
              "0      -0.203222 -0.033115 -0.03387 -0.226628  ... -0.201839 -0.229969   \n",
              "1      -0.203222 -0.033115 -0.03387 -0.282899  ... -0.201839 -0.229969   \n",
              "2      -0.203222 -0.033115 -0.03387 -0.226628  ... -0.201839 -0.229969   \n",
              "3      -0.090302 -0.033115 -0.03387 -0.226628  ...  0.483738 -0.229969   \n",
              "4      -0.203222 -0.033115 -0.03387 -0.226628  ... -0.201839 -0.229969   \n",
              "...          ...       ...      ...       ...  ...       ...       ...   \n",
              "199995 -0.165582 -0.033115 -0.03387 -0.170358  ... -0.201839 -0.229969   \n",
              "199996 -0.203222 -0.033115 -0.03387 -0.226628  ...  0.945867  2.178009   \n",
              "199997 -0.203222 -0.033115 -0.03387 -0.226628  ... -0.201839 -0.229969   \n",
              "199998  0.210818 -0.033115 -0.03387  0.054723  ... -0.201839 -0.229969   \n",
              "199999 -0.203222 -0.033115 -0.03387 -0.226628  ...  0.691950 -0.229969   \n",
              "\n",
              "            V314      V315      V316      V317      V318      V319      V320  \\\n",
              "0      -0.257789 -0.241651 -0.127875  0.025364 -0.127753 -0.081308 -0.120883   \n",
              "1      -0.257789 -0.241651 -0.127875 -0.129843 -0.127753 -0.081308 -0.120883   \n",
              "2      -0.257789 -0.241651 -0.127875 -0.129843 -0.127753 -0.081308 -0.120883   \n",
              "3      -0.257789 -0.241651  0.149141  1.732637  1.923867 -0.081308 -0.120883   \n",
              "4      -0.257789 -0.241651 -0.127875 -0.129843 -0.127753 -0.081308 -0.120883   \n",
              "...          ...       ...       ...       ...       ...       ...       ...   \n",
              "199995 -0.257789 -0.241651 -0.127875 -0.129843 -0.127753 -0.081308 -0.120883   \n",
              "199996  1.059276  1.739626 -0.127875 -0.129843 -0.127753  3.207779  2.227259   \n",
              "199997 -0.257789 -0.241651 -0.127875 -0.129843 -0.127753 -0.081308 -0.120883   \n",
              "199998 -0.257789 -0.241651 -0.127875 -0.129843 -0.127753 -0.081308 -0.120883   \n",
              "199999 -0.257789 -0.241651 -0.127875 -0.129843 -0.127753 -0.081308 -0.120883   \n",
              "\n",
              "            V321  \n",
              "0      -0.098592  \n",
              "1      -0.098592  \n",
              "2      -0.098592  \n",
              "3      -0.098592  \n",
              "4      -0.098592  \n",
              "...          ...  \n",
              "199995 -0.098592  \n",
              "199996  2.788630  \n",
              "199997 -0.098592  \n",
              "199998 -0.098592  \n",
              "199999 -0.098592  \n",
              "\n",
              "[200000 rows x 169 columns]"
            ],
            "text/html": [
              "\n",
              "  <div id=\"df-51252624-3b67-4650-9e7d-50512b6d2c1d\">\n",
              "    <div class=\"colab-df-container\">\n",
              "      <div>\n",
              "<style scoped>\n",
              "    .dataframe tbody tr th:only-of-type {\n",
              "        vertical-align: middle;\n",
              "    }\n",
              "\n",
              "    .dataframe tbody tr th {\n",
              "        vertical-align: top;\n",
              "    }\n",
              "\n",
              "    .dataframe thead th {\n",
              "        text-align: right;\n",
              "    }\n",
              "</style>\n",
              "<table border=\"1\" class=\"dataframe\">\n",
              "  <thead>\n",
              "    <tr style=\"text-align: right;\">\n",
              "      <th></th>\n",
              "      <th>TransactionAmt</th>\n",
              "      <th>C1</th>\n",
              "      <th>C2</th>\n",
              "      <th>C3</th>\n",
              "      <th>C4</th>\n",
              "      <th>C5</th>\n",
              "      <th>C6</th>\n",
              "      <th>C7</th>\n",
              "      <th>C8</th>\n",
              "      <th>C9</th>\n",
              "      <th>...</th>\n",
              "      <th>V312</th>\n",
              "      <th>V313</th>\n",
              "      <th>V314</th>\n",
              "      <th>V315</th>\n",
              "      <th>V316</th>\n",
              "      <th>V317</th>\n",
              "      <th>V318</th>\n",
              "      <th>V319</th>\n",
              "      <th>V320</th>\n",
              "      <th>V321</th>\n",
              "    </tr>\n",
              "  </thead>\n",
              "  <tbody>\n",
              "    <tr>\n",
              "      <th>0</th>\n",
              "      <td>-0.288658</td>\n",
              "      <td>-0.208393</td>\n",
              "      <td>-0.184897</td>\n",
              "      <td>-0.011815</td>\n",
              "      <td>-0.034052</td>\n",
              "      <td>-0.235908</td>\n",
              "      <td>-0.203222</td>\n",
              "      <td>-0.033115</td>\n",
              "      <td>-0.03387</td>\n",
              "      <td>-0.226628</td>\n",
              "      <td>...</td>\n",
              "      <td>-0.201839</td>\n",
              "      <td>-0.229969</td>\n",
              "      <td>-0.257789</td>\n",
              "      <td>-0.241651</td>\n",
              "      <td>-0.127875</td>\n",
              "      <td>0.025364</td>\n",
              "      <td>-0.127753</td>\n",
              "      <td>-0.081308</td>\n",
              "      <td>-0.120883</td>\n",
              "      <td>-0.098592</td>\n",
              "    </tr>\n",
              "    <tr>\n",
              "      <th>1</th>\n",
              "      <td>-0.455522</td>\n",
              "      <td>-0.208393</td>\n",
              "      <td>-0.184897</td>\n",
              "      <td>-0.011815</td>\n",
              "      <td>-0.034052</td>\n",
              "      <td>-0.235908</td>\n",
              "      <td>-0.203222</td>\n",
              "      <td>-0.033115</td>\n",
              "      <td>-0.03387</td>\n",
              "      <td>-0.282899</td>\n",
              "      <td>...</td>\n",
              "      <td>-0.201839</td>\n",
              "      <td>-0.229969</td>\n",
              "      <td>-0.257789</td>\n",
              "      <td>-0.241651</td>\n",
              "      <td>-0.127875</td>\n",
              "      <td>-0.129843</td>\n",
              "      <td>-0.127753</td>\n",
              "      <td>-0.081308</td>\n",
              "      <td>-0.120883</td>\n",
              "      <td>-0.098592</td>\n",
              "    </tr>\n",
              "    <tr>\n",
              "      <th>2</th>\n",
              "      <td>-0.328790</td>\n",
              "      <td>-0.208393</td>\n",
              "      <td>-0.184897</td>\n",
              "      <td>-0.011815</td>\n",
              "      <td>-0.034052</td>\n",
              "      <td>-0.235908</td>\n",
              "      <td>-0.203222</td>\n",
              "      <td>-0.033115</td>\n",
              "      <td>-0.03387</td>\n",
              "      <td>-0.226628</td>\n",
              "      <td>...</td>\n",
              "      <td>-0.201839</td>\n",
              "      <td>-0.229969</td>\n",
              "      <td>-0.257789</td>\n",
              "      <td>-0.241651</td>\n",
              "      <td>-0.127875</td>\n",
              "      <td>-0.129843</td>\n",
              "      <td>-0.127753</td>\n",
              "      <td>-0.081308</td>\n",
              "      <td>-0.120883</td>\n",
              "      <td>-0.098592</td>\n",
              "    </tr>\n",
              "    <tr>\n",
              "      <th>3</th>\n",
              "      <td>-0.366809</td>\n",
              "      <td>-0.182100</td>\n",
              "      <td>-0.088344</td>\n",
              "      <td>-0.011815</td>\n",
              "      <td>-0.034052</td>\n",
              "      <td>-0.235908</td>\n",
              "      <td>-0.090302</td>\n",
              "      <td>-0.033115</td>\n",
              "      <td>-0.03387</td>\n",
              "      <td>-0.226628</td>\n",
              "      <td>...</td>\n",
              "      <td>0.483738</td>\n",
              "      <td>-0.229969</td>\n",
              "      <td>-0.257789</td>\n",
              "      <td>-0.241651</td>\n",
              "      <td>0.149141</td>\n",
              "      <td>1.732637</td>\n",
              "      <td>1.923867</td>\n",
              "      <td>-0.081308</td>\n",
              "      <td>-0.120883</td>\n",
              "      <td>-0.098592</td>\n",
              "    </tr>\n",
              "    <tr>\n",
              "      <th>4</th>\n",
              "      <td>-0.371034</td>\n",
              "      <td>-0.208393</td>\n",
              "      <td>-0.184897</td>\n",
              "      <td>-0.011815</td>\n",
              "      <td>-0.034052</td>\n",
              "      <td>-0.235908</td>\n",
              "      <td>-0.203222</td>\n",
              "      <td>-0.033115</td>\n",
              "      <td>-0.03387</td>\n",
              "      <td>-0.226628</td>\n",
              "      <td>...</td>\n",
              "      <td>-0.201839</td>\n",
              "      <td>-0.229969</td>\n",
              "      <td>-0.257789</td>\n",
              "      <td>-0.241651</td>\n",
              "      <td>-0.127875</td>\n",
              "      <td>-0.129843</td>\n",
              "      <td>-0.127753</td>\n",
              "      <td>-0.081308</td>\n",
              "      <td>-0.120883</td>\n",
              "      <td>-0.098592</td>\n",
              "    </tr>\n",
              "    <tr>\n",
              "      <th>...</th>\n",
              "      <td>...</td>\n",
              "      <td>...</td>\n",
              "      <td>...</td>\n",
              "      <td>...</td>\n",
              "      <td>...</td>\n",
              "      <td>...</td>\n",
              "      <td>...</td>\n",
              "      <td>...</td>\n",
              "      <td>...</td>\n",
              "      <td>...</td>\n",
              "      <td>...</td>\n",
              "      <td>...</td>\n",
              "      <td>...</td>\n",
              "      <td>...</td>\n",
              "      <td>...</td>\n",
              "      <td>...</td>\n",
              "      <td>...</td>\n",
              "      <td>...</td>\n",
              "      <td>...</td>\n",
              "      <td>...</td>\n",
              "      <td>...</td>\n",
              "    </tr>\n",
              "    <tr>\n",
              "      <th>199995</th>\n",
              "      <td>-0.024634</td>\n",
              "      <td>-0.155807</td>\n",
              "      <td>-0.160759</td>\n",
              "      <td>-0.011815</td>\n",
              "      <td>-0.034052</td>\n",
              "      <td>-0.235908</td>\n",
              "      <td>-0.165582</td>\n",
              "      <td>-0.033115</td>\n",
              "      <td>-0.03387</td>\n",
              "      <td>-0.170358</td>\n",
              "      <td>...</td>\n",
              "      <td>-0.201839</td>\n",
              "      <td>-0.229969</td>\n",
              "      <td>-0.257789</td>\n",
              "      <td>-0.241651</td>\n",
              "      <td>-0.127875</td>\n",
              "      <td>-0.129843</td>\n",
              "      <td>-0.127753</td>\n",
              "      <td>-0.081308</td>\n",
              "      <td>-0.120883</td>\n",
              "      <td>-0.098592</td>\n",
              "    </tr>\n",
              "    <tr>\n",
              "      <th>199996</th>\n",
              "      <td>0.376683</td>\n",
              "      <td>-0.182100</td>\n",
              "      <td>-0.160759</td>\n",
              "      <td>-0.011815</td>\n",
              "      <td>-0.034052</td>\n",
              "      <td>-0.235908</td>\n",
              "      <td>-0.203222</td>\n",
              "      <td>-0.033115</td>\n",
              "      <td>-0.03387</td>\n",
              "      <td>-0.226628</td>\n",
              "      <td>...</td>\n",
              "      <td>0.945867</td>\n",
              "      <td>2.178009</td>\n",
              "      <td>1.059276</td>\n",
              "      <td>1.739626</td>\n",
              "      <td>-0.127875</td>\n",
              "      <td>-0.129843</td>\n",
              "      <td>-0.127753</td>\n",
              "      <td>3.207779</td>\n",
              "      <td>2.227259</td>\n",
              "      <td>2.788630</td>\n",
              "    </tr>\n",
              "    <tr>\n",
              "      <th>199997</th>\n",
              "      <td>0.144341</td>\n",
              "      <td>-0.182100</td>\n",
              "      <td>-0.184897</td>\n",
              "      <td>-0.011815</td>\n",
              "      <td>-0.034052</td>\n",
              "      <td>-0.235908</td>\n",
              "      <td>-0.203222</td>\n",
              "      <td>-0.033115</td>\n",
              "      <td>-0.03387</td>\n",
              "      <td>-0.226628</td>\n",
              "      <td>...</td>\n",
              "      <td>-0.201839</td>\n",
              "      <td>-0.229969</td>\n",
              "      <td>-0.257789</td>\n",
              "      <td>-0.241651</td>\n",
              "      <td>-0.127875</td>\n",
              "      <td>-0.129843</td>\n",
              "      <td>-0.127753</td>\n",
              "      <td>-0.081308</td>\n",
              "      <td>-0.120883</td>\n",
              "      <td>-0.098592</td>\n",
              "    </tr>\n",
              "    <tr>\n",
              "      <th>199998</th>\n",
              "      <td>0.376683</td>\n",
              "      <td>-0.024343</td>\n",
              "      <td>0.008209</td>\n",
              "      <td>-0.011815</td>\n",
              "      <td>-0.034052</td>\n",
              "      <td>-0.160588</td>\n",
              "      <td>0.210818</td>\n",
              "      <td>-0.033115</td>\n",
              "      <td>-0.03387</td>\n",
              "      <td>0.054723</td>\n",
              "      <td>...</td>\n",
              "      <td>-0.201839</td>\n",
              "      <td>-0.229969</td>\n",
              "      <td>-0.257789</td>\n",
              "      <td>-0.241651</td>\n",
              "      <td>-0.127875</td>\n",
              "      <td>-0.129843</td>\n",
              "      <td>-0.127753</td>\n",
              "      <td>-0.081308</td>\n",
              "      <td>-0.120883</td>\n",
              "      <td>-0.098592</td>\n",
              "    </tr>\n",
              "    <tr>\n",
              "      <th>199999</th>\n",
              "      <td>-0.083775</td>\n",
              "      <td>-0.208393</td>\n",
              "      <td>-0.184897</td>\n",
              "      <td>-0.011815</td>\n",
              "      <td>-0.034052</td>\n",
              "      <td>-0.235908</td>\n",
              "      <td>-0.203222</td>\n",
              "      <td>-0.033115</td>\n",
              "      <td>-0.03387</td>\n",
              "      <td>-0.226628</td>\n",
              "      <td>...</td>\n",
              "      <td>0.691950</td>\n",
              "      <td>-0.229969</td>\n",
              "      <td>-0.257789</td>\n",
              "      <td>-0.241651</td>\n",
              "      <td>-0.127875</td>\n",
              "      <td>-0.129843</td>\n",
              "      <td>-0.127753</td>\n",
              "      <td>-0.081308</td>\n",
              "      <td>-0.120883</td>\n",
              "      <td>-0.098592</td>\n",
              "    </tr>\n",
              "  </tbody>\n",
              "</table>\n",
              "<p>200000 rows × 169 columns</p>\n",
              "</div>\n",
              "      <button class=\"colab-df-convert\" onclick=\"convertToInteractive('df-51252624-3b67-4650-9e7d-50512b6d2c1d')\"\n",
              "              title=\"Convert this dataframe to an interactive table.\"\n",
              "              style=\"display:none;\">\n",
              "        \n",
              "  <svg xmlns=\"http://www.w3.org/2000/svg\" height=\"24px\"viewBox=\"0 0 24 24\"\n",
              "       width=\"24px\">\n",
              "    <path d=\"M0 0h24v24H0V0z\" fill=\"none\"/>\n",
              "    <path d=\"M18.56 5.44l.94 2.06.94-2.06 2.06-.94-2.06-.94-.94-2.06-.94 2.06-2.06.94zm-11 1L8.5 8.5l.94-2.06 2.06-.94-2.06-.94L8.5 2.5l-.94 2.06-2.06.94zm10 10l.94 2.06.94-2.06 2.06-.94-2.06-.94-.94-2.06-.94 2.06-2.06.94z\"/><path d=\"M17.41 7.96l-1.37-1.37c-.4-.4-.92-.59-1.43-.59-.52 0-1.04.2-1.43.59L10.3 9.45l-7.72 7.72c-.78.78-.78 2.05 0 2.83L4 21.41c.39.39.9.59 1.41.59.51 0 1.02-.2 1.41-.59l7.78-7.78 2.81-2.81c.8-.78.8-2.07 0-2.86zM5.41 20L4 18.59l7.72-7.72 1.47 1.35L5.41 20z\"/>\n",
              "  </svg>\n",
              "      </button>\n",
              "      \n",
              "  <style>\n",
              "    .colab-df-container {\n",
              "      display:flex;\n",
              "      flex-wrap:wrap;\n",
              "      gap: 12px;\n",
              "    }\n",
              "\n",
              "    .colab-df-convert {\n",
              "      background-color: #E8F0FE;\n",
              "      border: none;\n",
              "      border-radius: 50%;\n",
              "      cursor: pointer;\n",
              "      display: none;\n",
              "      fill: #1967D2;\n",
              "      height: 32px;\n",
              "      padding: 0 0 0 0;\n",
              "      width: 32px;\n",
              "    }\n",
              "\n",
              "    .colab-df-convert:hover {\n",
              "      background-color: #E2EBFA;\n",
              "      box-shadow: 0px 1px 2px rgba(60, 64, 67, 0.3), 0px 1px 3px 1px rgba(60, 64, 67, 0.15);\n",
              "      fill: #174EA6;\n",
              "    }\n",
              "\n",
              "    [theme=dark] .colab-df-convert {\n",
              "      background-color: #3B4455;\n",
              "      fill: #D2E3FC;\n",
              "    }\n",
              "\n",
              "    [theme=dark] .colab-df-convert:hover {\n",
              "      background-color: #434B5C;\n",
              "      box-shadow: 0px 1px 3px 1px rgba(0, 0, 0, 0.15);\n",
              "      filter: drop-shadow(0px 1px 2px rgba(0, 0, 0, 0.3));\n",
              "      fill: #FFFFFF;\n",
              "    }\n",
              "  </style>\n",
              "\n",
              "      <script>\n",
              "        const buttonEl =\n",
              "          document.querySelector('#df-51252624-3b67-4650-9e7d-50512b6d2c1d button.colab-df-convert');\n",
              "        buttonEl.style.display =\n",
              "          google.colab.kernel.accessAllowed ? 'block' : 'none';\n",
              "\n",
              "        async function convertToInteractive(key) {\n",
              "          const element = document.querySelector('#df-51252624-3b67-4650-9e7d-50512b6d2c1d');\n",
              "          const dataTable =\n",
              "            await google.colab.kernel.invokeFunction('convertToInteractive',\n",
              "                                                     [key], {});\n",
              "          if (!dataTable) return;\n",
              "\n",
              "          const docLinkHtml = 'Like what you see? Visit the ' +\n",
              "            '<a target=\"_blank\" href=https://colab.research.google.com/notebooks/data_table.ipynb>data table notebook</a>'\n",
              "            + ' to learn more about interactive tables.';\n",
              "          element.innerHTML = '';\n",
              "          dataTable['output_type'] = 'display_data';\n",
              "          await google.colab.output.renderOutput(dataTable, element);\n",
              "          const docLink = document.createElement('div');\n",
              "          docLink.innerHTML = docLinkHtml;\n",
              "          element.appendChild(docLink);\n",
              "        }\n",
              "      </script>\n",
              "    </div>\n",
              "  </div>\n",
              "  "
            ]
          },
          "metadata": {},
          "execution_count": 30
        }
      ],
      "source": [
        "# checando X2\n",
        "pd.DataFrame(X2, columns=df.columns[3:])"
      ],
      "id": "HWQ4oZXlGhwN"
    },
    {
      "cell_type": "code",
      "execution_count": 57,
      "metadata": {
        "id": "osqjo6LUGhwO"
      },
      "outputs": [],
      "source": [
        "# vamos definir uma array com o atributo alvo isFraud\n",
        "y = X1['isFraud'].astype('int')"
      ],
      "id": "osqjo6LUGhwO"
    },
    {
      "cell_type": "code",
      "execution_count": 58,
      "metadata": {
        "id": "FYnkXvk_GhwO",
        "outputId": "98dd0514-b0e6-4067-9e7f-d478fbfec148",
        "colab": {
          "base_uri": "https://localhost:8080/"
        }
      },
      "outputs": [
        {
          "output_type": "execute_result",
          "data": {
            "text/plain": [
              "0.030065"
            ]
          },
          "metadata": {},
          "execution_count": 58
        }
      ],
      "source": [
        "# verificando se o % de casos de fraude está OK\n",
        "y.sum()/len(y)"
      ],
      "id": "FYnkXvk_GhwO"
    },
    {
      "cell_type": "code",
      "execution_count": 59,
      "metadata": {
        "id": "7JiQ6f1tGhwO",
        "outputId": "6e1e962c-ba41-4373-81bc-e703232a753f",
        "colab": {
          "base_uri": "https://localhost:8080/"
        }
      },
      "outputs": [
        {
          "output_type": "stream",
          "name": "stdout",
          "text": [
            "(200000, 3)\n",
            "(200000, 169)\n"
          ]
        }
      ],
      "source": [
        "print(X1.shape)\n",
        "print(X2.shape)"
      ],
      "id": "7JiQ6f1tGhwO"
    },
    {
      "cell_type": "markdown",
      "metadata": {
        "id": "XdlLYDQ3GhwP"
      },
      "source": [
        "#### Resumo Etapa 2B - Entendimento e Ingestão dos dados da base Kaggle\n",
        "\n",
        "- Foi gerada uma array X2 com dados padronizados com 200000 registros\n",
        "- Foi gerada a array y com o atributo alvo `ìsFraud`\n",
        "- Foi gerado o dataframe X1 com os atributos que não serão padronizados `TransactioID`, `TransactioDT`, `TransactioAmt` e `ìsFraud`."
      ],
      "id": "XdlLYDQ3GhwP"
    },
    {
      "cell_type": "markdown",
      "metadata": {
        "id": "6qwjE1ZwGhwP"
      },
      "source": [
        "### Etapa 2C - Redução de Dimensões (PCA e UMAP)\n",
        "\n",
        "Esta sub etapa é composta dos seguintes passos:\n",
        "- Empregar o método `pca.explained_variance_ratio_` para determinar a quantidade de dimensões N a serem empregadas no UMAP\n",
        "- Aplicar o UMAP para gerar uma redução para 2 dimensões para ser empregada na pré-seleção de modelos\n",
        "- Aplicara o UMAP para gerar uma redução para as N dimensão (definda no passo 1) para ser empregada na análise dos modelos selecionados no passo 2\n"
      ],
      "id": "6qwjE1ZwGhwP"
    },
    {
      "cell_type": "markdown",
      "metadata": {
        "id": "F-k59WiFGhwQ"
      },
      "source": [
        "####  Empregando o método `pca.explained_variance_ratio_` para determinar a quantidade de dimensões N"
      ],
      "id": "F-k59WiFGhwQ"
    },
    {
      "cell_type": "code",
      "execution_count": 34,
      "metadata": {
        "id": "bHTx4k9AGhwQ",
        "outputId": "b76d84e5-e59e-41c0-d889-2263d42e882a",
        "colab": {
          "base_uri": "https://localhost:8080/"
        }
      },
      "outputs": [
        {
          "output_type": "stream",
          "name": "stdout",
          "text": [
            "CPU times: user 8.28 s, sys: 1.33 s, total: 9.62 s\n",
            "Wall time: 2.84 s\n"
          ]
        }
      ],
      "source": [
        "%%time\n",
        "#  Empregando o método `pca.explained_variance_ratio_` para determinar a quantidade de dimensões N\n",
        "pca = PCA(random_state=42)\n",
        "X_pca = pca.fit_transform(X2)\n",
        "ev_ratio = pca.explained_variance_ratio_"
      ],
      "id": "bHTx4k9AGhwQ"
    },
    {
      "cell_type": "code",
      "execution_count": 35,
      "metadata": {
        "id": "AaF2i_WYGhwQ",
        "outputId": "9c26558f-9aa2-4f3a-cce2-06ed1372df4c",
        "colab": {
          "base_uri": "https://localhost:8080/"
        }
      },
      "outputs": [
        {
          "output_type": "execute_result",
          "data": {
            "text/plain": [
              "array([1.81696084e-01, 9.94442965e-02, 5.44031092e-02, 4.75701843e-02,\n",
              "       4.61404502e-02, 3.87992122e-02, 3.51839420e-02, 3.12316249e-02,\n",
              "       2.70653433e-02, 2.61796824e-02, 2.33992822e-02, 2.09490005e-02,\n",
              "       1.99007764e-02, 1.94633915e-02, 1.78701888e-02, 1.63500705e-02,\n",
              "       1.56269537e-02, 1.53733152e-02, 1.47761704e-02, 1.30983577e-02,\n",
              "       1.18537902e-02, 1.02510626e-02, 1.01026970e-02, 9.78239565e-03,\n",
              "       8.99393743e-03, 8.61885463e-03, 8.35301415e-03, 7.73115211e-03,\n",
              "       6.88703366e-03, 6.68217382e-03, 6.32069403e-03, 6.11904552e-03,\n",
              "       5.94881062e-03, 5.39853479e-03, 4.85307661e-03, 4.50120695e-03,\n",
              "       4.30333888e-03, 4.20074688e-03, 4.06849817e-03, 3.90238971e-03,\n",
              "       3.80672100e-03, 3.57978420e-03, 3.39638649e-03, 3.29173443e-03,\n",
              "       3.14113793e-03, 3.06372065e-03, 2.88503649e-03, 2.79271443e-03,\n",
              "       2.68786316e-03, 2.60576940e-03, 2.58240246e-03, 2.40737399e-03,\n",
              "       2.22317871e-03, 2.17184546e-03, 2.10639153e-03, 2.01024428e-03,\n",
              "       1.94876885e-03, 1.84976450e-03, 1.79714523e-03, 1.70181358e-03,\n",
              "       1.61660536e-03, 1.58467000e-03, 1.56324892e-03, 1.52423037e-03,\n",
              "       1.44981849e-03, 1.37512941e-03, 1.33126573e-03, 1.24270054e-03,\n",
              "       1.22061294e-03, 1.19130447e-03, 1.17046013e-03, 1.15185169e-03,\n",
              "       1.05009824e-03, 1.02718128e-03, 1.00101765e-03, 9.82132534e-04,\n",
              "       9.52825574e-04, 9.26929018e-04, 8.97476892e-04, 8.25834094e-04,\n",
              "       7.99755850e-04, 7.85302149e-04, 7.61771585e-04, 7.32203440e-04,\n",
              "       7.09141145e-04, 6.93427929e-04, 6.76182419e-04, 6.66653958e-04,\n",
              "       6.60736023e-04, 6.26427760e-04, 6.10254999e-04, 5.70171315e-04,\n",
              "       5.29715492e-04, 5.17200165e-04, 5.07240759e-04, 4.86053120e-04,\n",
              "       4.80909657e-04, 4.64274388e-04, 4.34857512e-04, 4.20100520e-04,\n",
              "       4.09115718e-04, 4.04984507e-04, 3.77333834e-04, 3.62649525e-04,\n",
              "       3.53494414e-04, 3.39700607e-04, 3.00021140e-04, 2.77539003e-04,\n",
              "       2.66989273e-04, 2.60681719e-04, 2.54407175e-04, 2.50140354e-04,\n",
              "       2.37092494e-04, 2.35094145e-04, 2.27426043e-04, 2.13094381e-04,\n",
              "       2.12482815e-04, 2.07854651e-04, 2.00287484e-04, 1.95900084e-04,\n",
              "       1.90299501e-04, 1.85644681e-04, 1.70454627e-04, 1.65937145e-04,\n",
              "       1.62844381e-04, 1.60929159e-04, 1.38527058e-04, 1.27787335e-04,\n",
              "       1.16251420e-04, 1.11213795e-04, 1.03723462e-04, 9.74749562e-05,\n",
              "       9.39005817e-05, 8.34598534e-05, 7.97030423e-05, 7.09780253e-05,\n",
              "       6.94420536e-05, 6.63306890e-05, 6.42100140e-05, 5.88275611e-05,\n",
              "       4.65034981e-05, 4.48884930e-05, 4.21410933e-05, 4.19382901e-05,\n",
              "       3.63485119e-05, 3.48175452e-05, 3.46018825e-05, 2.86865400e-05,\n",
              "       2.34836128e-05, 1.82755518e-05, 1.63818123e-05, 1.49274443e-05,\n",
              "       1.29711877e-05, 1.19104243e-05, 7.56639962e-06, 4.85481151e-06,\n",
              "       4.82095396e-06, 4.29489699e-06, 2.86511808e-06, 1.34060069e-06,\n",
              "       3.68507587e-07, 2.01495249e-07, 6.57517584e-08, 3.68738093e-08,\n",
              "       1.54508210e-08, 3.04652552e-09, 1.65905531e-09, 1.81055536e-11,\n",
              "       1.02877425e-33])"
            ]
          },
          "metadata": {},
          "execution_count": 35
        }
      ],
      "source": [
        "# Visualizado ev_ratio\n",
        "ev_ratio"
      ],
      "id": "AaF2i_WYGhwQ"
    },
    {
      "cell_type": "code",
      "execution_count": 36,
      "metadata": {
        "id": "RE0nZ66YGhwR",
        "outputId": "c57dcddf-d806-4db3-b3e7-713363d04a72",
        "colab": {
          "base_uri": "https://localhost:8080/"
        }
      },
      "outputs": [
        {
          "output_type": "execute_result",
          "data": {
            "text/plain": [
              "array([0.18169608, 0.28114038, 0.33554349, 0.38311367, 0.42925412,\n",
              "       0.46805334, 0.50323728, 0.5344689 , 0.56153425, 0.58771393,\n",
              "       0.61111321, 0.63206221, 0.65196299, 0.67142638, 0.68929657,\n",
              "       0.70564664, 0.72127359, 0.73664691, 0.75142308, 0.76452144,\n",
              "       0.77637523, 0.78662629, 0.79672899, 0.80651138, 0.81550532,\n",
              "       0.82412417, 0.83247719, 0.84020834, 0.84709537, 0.85377755,\n",
              "       0.86009824, 0.86621729, 0.8721661 , 0.87756463, 0.88241771,\n",
              "       0.88691892, 0.89122225, 0.895423  , 0.8994915 , 0.90339389,\n",
              "       0.90720061, 0.91078039])"
            ]
          },
          "metadata": {},
          "execution_count": 36
        }
      ],
      "source": [
        "# Verificando a soma acumulada de variância explicada\n",
        "ev_ratio.cumsum()[:42]"
      ],
      "id": "RE0nZ66YGhwR"
    },
    {
      "cell_type": "code",
      "execution_count": 37,
      "metadata": {
        "id": "h8LDFbQEGhwR",
        "outputId": "8ee8355d-e44a-4b39-81c4-e3f0c57a5cdd",
        "colab": {
          "base_uri": "https://localhost:8080/",
          "height": 282
        }
      },
      "outputs": [
        {
          "output_type": "execute_result",
          "data": {
            "text/plain": [
              "<matplotlib.collections.LineCollection at 0x7ffb616a6bd0>"
            ]
          },
          "metadata": {},
          "execution_count": 37
        },
        {
          "output_type": "display_data",
          "data": {
            "text/plain": [
              "<Figure size 432x288 with 1 Axes>"
            ],
            "image/png": "[encoded data removed]"
          },
          "metadata": {
            "needs_background": "light"
          }
        }
      ],
      "source": [
        "# visualizando os resultados\n",
        "plt.plot(ev_ratio.cumsum(),c='b',lw=2.0)\n",
        "plt.plot(ev_ratio.cumsum()[:42],c='r',lw=4.0)\n",
        "plt.scatter(42,ev_ratio.cumsum()[42],c='r',s=100)\n",
        "plt.hlines(ev_ratio.cumsum()[42], 0,42 , colors='k', linestyles='dotted')\n",
        "plt.vlines(42, 0,ev_ratio.cumsum()[42], colors='k', linestyles='dotted')"
      ],
      "id": "h8LDFbQEGhwR"
    },
    {
      "cell_type": "code",
      "execution_count": 38,
      "metadata": {
        "id": "D6gBvCelGhwR",
        "outputId": "67d0f14d-9829-43b5-cf91-f1577f612334",
        "colab": {
          "base_uri": "https://localhost:8080/"
        }
      },
      "outputs": [
        {
          "output_type": "stream",
          "name": "stdout",
          "text": [
            "0.9141767812588967\n"
          ]
        }
      ],
      "source": [
        "# Portanto temos N = 42 e a explained variation ratio total é 0.908\n",
        "N = 42\n",
        "print(ev_ratio.cumsum()[42])"
      ],
      "id": "D6gBvCelGhwR"
    },
    {
      "cell_type": "markdown",
      "metadata": {
        "id": "bco71WfVGhwR"
      },
      "source": [
        "> Considerando a base de 200000 registros a razão de variância explicada por 42 variávei é de ~ 91%"
      ],
      "id": "bco71WfVGhwR"
    },
    {
      "cell_type": "markdown",
      "metadata": {
        "id": "oYJogx3mGhwS"
      },
      "source": [
        "#### Aplicar o UMAP para gerar uma redução para 2 dimensões para ser empregada na pré-seleção de modelos\n",
        "\n",
        "#### Como funciona a UMAP (Traduzido de [UMAP.org](https://umap-learn.readthedocs.io/en/latest/how_umap_works.html))\n",
        "\n",
        "UMAP é um algoritmo para redução de dimensão baseado em várias técnicas de aprendizado e ideias de análise de dados topológicos. Ele fornece uma estrutura muito geral para abordar o aprendizado múltiplo e a redução de dimensão, mas também pode fornecer realizações concretas específicas.  \n",
        "\n",
        "Existem fundamentos matemáticos mais profundos, mas para facilitar a leitura pelo público em geral, eles serão meramente referenciados e vinculados. Se você estiver procurando a descrição matemática, consulte o artigo UMAP.\n",
        "\n",
        "Para começar a entender o UMAP, precisaremos de um pouco de conhecimento matemático da topologia algébrica e da análise de dados topológicos. Isso fornecerá um algoritmo básico que funciona bem na teoria, mas infelizmente não tão bem na prática. \n",
        "\n",
        "O próximo passo será fazer uso de alguma geometria Riemanniana básica para trazer os dados do mundo real um pouco mais perto das suposições subjacentes do algoritmo de análise de dados topológicos. Infelizmente, isso introduzirá novas complicações, que serão resolvidas através de uma combinação de matemática profunda (cujos detalhes serão omitidos) e lógica difusa. \n",
        "\n",
        "Podemos então juntar as peças novamente e combiná-las com uma nova abordagem para encontrar uma representação de baixa dimensão mais adequada às novas estruturas de dados disponíveis. Juntando tudo isso, chegamos ao algoritmo UMAP básico."
      ],
      "id": "oYJogx3mGhwS"
    },
    {
      "cell_type": "code",
      "execution_count": 62,
      "metadata": {
        "id": "-bAXeLQ7GhwS",
        "outputId": "691b7ca4-ea76-4cf9-9052-9515485488bb",
        "colab": {
          "base_uri": "https://localhost:8080/"
        }
      },
      "outputs": [
        {
          "output_type": "stream",
          "name": "stdout",
          "text": [
            "CPU times: user 6min 12s, sys: 2.1 s, total: 6min 14s\n",
            "Wall time: 5min 36s\n"
          ]
        }
      ],
      "source": [
        "%%time\n",
        "# Vamos aplicar o UMAP para reduzir a dimensionalidade de X2 \n",
        "X_umap = umap.UMAP(n_components=2,init='random', random_state=0, low_memory=True).fit_transform(X2, y=y)"
      ],
      "id": "-bAXeLQ7GhwS"
    },
    {
      "cell_type": "code",
      "source": [
        "# Verificando o tamanho de X_umap\n",
        "X_umap.shape"
      ],
      "metadata": {
        "id": "ptwhiY6Q0czP",
        "outputId": "79fc996b-9dbd-4786-8029-972b25f03710",
        "colab": {
          "base_uri": "https://localhost:8080/"
        }
      },
      "id": "ptwhiY6Q0czP",
      "execution_count": 63,
      "outputs": [
        {
          "output_type": "execute_result",
          "data": {
            "text/plain": [
              "(200000, 2)"
            ]
          },
          "metadata": {},
          "execution_count": 63
        }
      ]
    },
    {
      "cell_type": "code",
      "execution_count": 66,
      "metadata": {
        "id": "DHEZMFezGhwS",
        "outputId": "ebb6fea8-8cff-4690-cda0-f896efce1706",
        "colab": {
          "base_uri": "https://localhost:8080/"
        }
      },
      "outputs": [
        {
          "output_type": "execute_result",
          "data": {
            "text/plain": [
              "(200000, 3)"
            ]
          },
          "metadata": {},
          "execution_count": 66
        }
      ],
      "source": [
        "# Agora vamos agregar a X_umap o atributo alvo isFraud\n",
        "X_umap= pd.concat([pd.DataFrame(X_umap, columns=['X0','X1']),X1['isFraud']],axis=1)\n",
        "X_umap.shape"
      ],
      "id": "DHEZMFezGhwS"
    },
    {
      "cell_type": "code",
      "execution_count": 67,
      "metadata": {
        "id": "ICIK9DOoGhwS",
        "outputId": "15d8c457-3bd3-47ef-a9ba-916081da1bf1",
        "colab": {
          "base_uri": "https://localhost:8080/",
          "height": 514
        }
      },
      "outputs": [
        {
          "output_type": "execute_result",
          "data": {
            "text/plain": [
              "<matplotlib.axes._subplots.AxesSubplot at 0x7ffb59176650>"
            ]
          },
          "metadata": {},
          "execution_count": 67
        },
        {
          "output_type": "display_data",
          "data": {
            "text/plain": [
              "<Figure size 576x576 with 1 Axes>"
            ],
            "image/png": "[encoded data removed]"
          },
          "metadata": {
            "needs_background": "light"
          }
        }
      ],
      "source": [
        "# Visualizando o dataset X_umap\n",
        "fig, ax = plt.subplots(figsize=(8, 8))\n",
        "X_umap[X_umap['isFraud']==1].plot(\n",
        "    kind=\"scatter\",\n",
        "    x=0,\n",
        "    y=1,\n",
        "    s=10,\n",
        "    ax=ax,\n",
        "    c='r',\n",
        "    alpha=0.95\n",
        ")\n",
        "X_umap[X_umap['isFraud']==0].plot(\n",
        "    kind=\"scatter\",\n",
        "    x=0,\n",
        "    y=1,\n",
        "    s=5,\n",
        "    ax=ax,\n",
        "    c='b',\n",
        "    alpha=0.05,\n",
        ")"
      ],
      "id": "ICIK9DOoGhwS"
    },
    {
      "cell_type": "code",
      "execution_count": 69,
      "metadata": {
        "id": "74f6LSCmGhwT"
      },
      "outputs": [],
      "source": [
        "X_umap.to_csv('/content/data/trans_umap_2D.csv')"
      ],
      "id": "74f6LSCmGhwT"
    },
    {
      "cell_type": "markdown",
      "metadata": {
        "id": "FoAgXaE7GhwT"
      },
      "source": [
        "#### Aplicar o UMAP para gerar uma redução para 42 dimensões, que será empregada na análises dos modelos escolhidos na etapa pré-seleção de modelos"
      ],
      "id": "FoAgXaE7GhwT"
    },
    {
      "cell_type": "code",
      "execution_count": 70,
      "metadata": {
        "id": "d0IQZcjsGhwT",
        "outputId": "9abcd530-07fb-47ab-c229-3f81ae674efb",
        "colab": {
          "base_uri": "https://localhost:8080/"
        }
      },
      "outputs": [
        {
          "output_type": "stream",
          "name": "stdout",
          "text": [
            "CPU times: user 11min 3s, sys: 3.86 s, total: 11min 7s\n",
            "Wall time: 10min 25s\n"
          ]
        }
      ],
      "source": [
        "%%time\n",
        "X_umap_mult = umap.UMAP(n_components=42,init='random', random_state=0, low_memory=True).fit_transform(X2, y=y)"
      ],
      "id": "d0IQZcjsGhwT"
    },
    {
      "cell_type": "code",
      "execution_count": 71,
      "metadata": {
        "id": "TJc6Lq-CGhwU",
        "outputId": "ecb52c1c-7a9e-4836-f644-e0bc986f4c55",
        "colab": {
          "base_uri": "https://localhost:8080/"
        }
      },
      "outputs": [
        {
          "output_type": "execute_result",
          "data": {
            "text/plain": [
              "['X0', 'X1', 'X2', 'X3', 'X4']"
            ]
          },
          "metadata": {},
          "execution_count": 71
        }
      ],
      "source": [
        "# gerando Nomes para as Colunas\n",
        "cols=[('X'+str(a)) for a in range(N)]\n",
        "cols[:5]"
      ],
      "id": "TJc6Lq-CGhwU"
    },
    {
      "cell_type": "code",
      "execution_count": 73,
      "metadata": {
        "id": "Ae7UbkWXGhwU",
        "outputId": "6c641d6b-8908-48e8-8323-130775d3895c",
        "colab": {
          "base_uri": "https://localhost:8080/"
        }
      },
      "outputs": [
        {
          "output_type": "stream",
          "name": "stdout",
          "text": [
            "CPU times: user 6.35 s, sys: 296 ms, total: 6.65 s\n",
            "Wall time: 6.61 s\n"
          ]
        }
      ],
      "source": [
        "%%time\n",
        "# Exportando um DataFrame com X_umap_mult e y\n",
        "trans_umap_multi = pd.concat([pd.DataFrame(X_umap_mult, columns=cols),y],axis=1)\n",
        "trans_umap_multi.to_csv('/content/data/trans_umap_multi.csv')"
      ],
      "id": "Ae7UbkWXGhwU"
    },
    {
      "cell_type": "markdown",
      "metadata": {
        "id": "V3XqO6QiGhwU"
      },
      "source": [
        "## Etapa 3 - Pré Modelagem.\n",
        "\n",
        "Em função da limitação de memória e de tempo preferiu-se executar uma pre-seleção de modelos. Neste processo serão executados o treinamento e avaliação de 10 modelos, utilizando o conjunto de dados `X_UMAP_2D`, de forma que se tenha uma primeira avaliação de seu desempenho, os melhores modelos serão escolidos para serem **novamente treinados e avaliados** agora com o conjunto de dados `X_UMAP_Mult` na **Etapa 4**. Os modelos usados e a sua configuração foram: \n",
        "> - Etapa 3A - Decision Trees.\n",
        "    - `DecisionTreeClassifier(max_depth=7)`\n",
        "> - Etapa 3B - SVC Linear.\n",
        "    - `SVC(kernel=\"linear\", C=1.0, probability=True)`\n",
        "> - Etapa 3C - SVC RBF.\n",
        "    - `SVC(kernel=\"rbf\",gamma=0.05, C=1.0, probability=True)`\n",
        "> - Etapa 3D - Gaussina Naives Bayes.\n",
        "    - `GaussianNB()`\n",
        "> - Etapa 3E - MLP Classifier.\n",
        "    - `MLPClassifier(hidden_layer_sizes=(200,),alpha=0.0001,learning_rate_init=0.001,max_iter=100000)`\n",
        "> - Etapa 3F - KNeighborsClassifier.\n",
        "    - `KNeighborsClassifier(n_neighbors=70)`\n",
        "> - Etapa 3F - 'Analise Discriminante Quadrática.'.\n",
        "    - `QuadraticDiscriminantAnalysis()`\n",
        "> - Etapa 3G - Random Forrest.\n",
        "    - `RandomForestClassifier(n_estimators=1500, max_depth=15)`\n",
        "> - Etapa 3H - Adaboost.\n",
        "    - `AdaBoostClassifier(n_estimators=1500)`\n",
        "> - Etapa 3I - GradientBosting.\n",
        "    - `GradientBoostingClassifier(n_estimators=1500, max_depth=11)`\n",
        "> - Etapa 3I - XGBoost.\n",
        "    - `XGBClassifier(n_estimators=1000, max_depth=11, random_state=42)`\n",
        "> - Etapa 3J - Histogram Based Gradient Boost\n",
        "    - `HistGradientBoostingClassifier(max_iter=1000, learning_rate=0.01)`\n",
        "    \n",
        "Para facilitar a análise foi criada uma função **`grafico_classificador()`** que foi incorporada ao módulo `Model_Tools` que deve ser importando antes da análise e o aquivo `Models_Tools.py` **precisa estar salvo no mesmo diretório do notebook**. "
      ],
      "id": "V3XqO6QiGhwU"
    },
    {
      "cell_type": "code",
      "execution_count": 74,
      "metadata": {
        "id": "Og-MMb-7GhwV"
      },
      "outputs": [],
      "source": [
        "# Caso o xgboost ainda não esteja instalado execute o camndo abaixo deletando o #\n",
        "#! pip install xgboost"
      ],
      "id": "Og-MMb-7GhwV"
    },
    {
      "cell_type": "code",
      "execution_count": 75,
      "metadata": {
        "id": "LwGqJ_iqGhwV",
        "outputId": "036876b9-a004-47a0-9ace-ecf561701b9a",
        "colab": {
          "base_uri": "https://localhost:8080/"
        }
      },
      "outputs": [
        {
          "output_type": "stream",
          "name": "stdout",
          "text": [
            "CPU times: user 27.2 ms, sys: 10 ms, total: 37.2 ms\n",
            "Wall time: 160 ms\n"
          ]
        }
      ],
      "source": [
        "%%time\n",
        "\n",
        "import numpy as np\n",
        "from sklearn.preprocessing import StandardScaler\n",
        "from sklearn.metrics import plot_confusion_matrix\n",
        "from sklearn.metrics import confusion_matrix\n",
        "from sklearn.metrics import roc_curve, auc\n",
        "from sklearn.model_selection import train_test_split\n",
        "\n",
        "# algoritmos de classificação\n",
        "from sklearn.neural_network import MLPClassifier\n",
        "from sklearn.neighbors import KNeighborsClassifier\n",
        "from sklearn.svm import SVC\n",
        "from sklearn.gaussian_process import GaussianProcessClassifier\n",
        "from sklearn.gaussian_process.kernels import RBF\n",
        "from sklearn.tree import DecisionTreeClassifier\n",
        "from sklearn.ensemble import RandomForestClassifier, AdaBoostClassifier, GradientBoostingClassifier\n",
        "from sklearn.naive_bayes import GaussianNB\n",
        "from sklearn import tree\n",
        "from sklearn.discriminant_analysis import QuadraticDiscriminantAnalysis\n",
        "from xgboost import XGBClassifier\n",
        "from sklearn.experimental import enable_hist_gradient_boosting\n",
        "from sklearn.ensemble import HistGradientBoostingClassifier"
      ],
      "id": "LwGqJ_iqGhwV"
    },
    {
      "cell_type": "code",
      "execution_count": 90,
      "metadata": {
        "id": "z84_yz1qGhwV"
      },
      "outputs": [],
      "source": [
        "def grafico_classificador(X, y, test_size, modelo, nome_modelo, nome_dataset, pca=False, norm=True):\n",
        "    '''\n",
        "    Esta função processa um template de modelagem com machine learning usando recursos do scikit-learn e retorna\n",
        "    um dashboard simplificado de gráficos para compreenssão do modelo\n",
        "    Entradas:\n",
        "    X - Matriz de atributos dos dados\n",
        "    y - Vetor de targets de classificação\n",
        "    test_size - % percentagem do dataset usada para teste\n",
        "    modelo - Instância do modelo do Scikit Learn parametrizada\n",
        "    nome_modelo - string para descrever o modelo\n",
        "    nome_dataset - string para descrever o dataset\n",
        "    pca - True aplica pca de dois componentes aos dados para visualização\n",
        "    norm - True normaliza os dados\n",
        "    Saida:\n",
        "    Um gráfico com os seguintes subplots\n",
        "        - Gráfico linha 1 coluna 1 - Visualização do Gráfico 2D dos dados data set\n",
        "        - Gráfico linha 1 coluna 2 - Visualização do Gráfico 2D dos dados data set sobreposto à superfície de decisão\n",
        "        - Gráfico linha 1 coluna 3 - Matriz de Confusão\n",
        "        - Gráfico linha 2 coluna 1 - Visualização das probabilidades geradas pelo método perdictproba das Classes de Modelos\n",
        "        - Gráfico linha 2 coluna 2 - Visualização do Gráfico 2D da superfície de decisão\n",
        "        - Gráfico linha 2 coluna 3 - Curva ROC e Apresnetação da AUC - Área Under Curve \n",
        "    '''\n",
        "    \n",
        "    #Definições iniciais\n",
        "    metrics=[] # lista de Métricas\n",
        "    cmap = 'bwr' # colormap do matplotlib\n",
        "    fig, ax = plt.subplots(2, 3, figsize=(15,10))\n",
        "    suptitle = nome_modelo\n",
        "    # realizar pca se necessário\n",
        "    if pca==True:\n",
        "        pca=PCA(n_components=2)\n",
        "        pca.fit(X)\n",
        "        X = pca.transform(X)\n",
        "    # realizar normalização se necessário\n",
        "    if norm==True:\n",
        "        X = StandardScaler().fit_transform(X)\n",
        "        suptitle = nome_modelo+ ' Dados Normalizados'\n",
        "    # Definir Título do Gráfico\n",
        "    fig.suptitle(suptitle, fontsize=16)\n",
        "    # Fazer os split dos dados\n",
        "    X_train, X_test, y_train, y_test = train_test_split(X, y, test_size=test_size, random_state=42)\n",
        "    # Instanciar a Classe do Modelo\n",
        "    clf = modelo\n",
        "    # Treinamento do modelo\n",
        "    clf.fit(X_train, y_train)\n",
        "    # Calculo de Métricas\n",
        "    score = clf.score(X_test, y_test)\n",
        "    # Calculo da Superfice de Decisão do Modelo\n",
        "    h = 0.02\n",
        "    x_min, x_max = X[:, 0].min() - .5, X[:, 0].max() + .5\n",
        "    y_min, y_max = X[:, 1].min() - .5, X[:, 1].max() + .5\n",
        "    xx, yy = np.meshgrid(np.arange(x_min, x_max, h),np.arange(y_min, y_max, h))\n",
        "    if hasattr(clf, \"decision_function\"):\n",
        "        Z = clf.decision_function(np.c_[xx.ravel(), yy.ravel()])\n",
        "    else:\n",
        "        Z = clf.predict_proba(np.c_[xx.ravel(), yy.ravel()])[:, 1]\n",
        "\n",
        "    # Colocar os valores para cores dos modelos\n",
        "    Z = Z.reshape(xx.shape)\n",
        "    # Plotagem do dataset\n",
        "    ## Gráfico linha 1 coluna 1 - Visualização do Gráfico 2D dos dados data set\n",
        "    ax[0,0].scatter(X_train[:, 0], X_train[:, 1], c=y_train, cmap=cmap,edgecolors='w', s=10)\n",
        "    ax[0,0].scatter(X_test[:, 0], X_test[:, 1], c=y_test, cmap=cmap, alpha=0.6,edgecolors='w',s=10)\n",
        "    ax[0,0].set_title(nome_dataset)\n",
        "    ax[0,0].set_xlabel('X1')\n",
        "    ax[0,0].set_ylabel('X2')\n",
        "    ##- Gráfico linha 1 coluna 2 - Visualização do Gráfico 2D dos dados data set sobreposto à superfície de decisão\n",
        "    ax[0,1].contourf(xx, yy, Z, cmap=cmap, alpha=.8)\n",
        "    ax[0,1].scatter(X_train[:, 0], X_train[:, 1], c=y_train, cmap=cmap,edgecolors='w',s=10)\n",
        "    ax[0,1].scatter(X_test[:, 0], X_test[:, 1], c=y_test, cmap=cmap, alpha=0.6,edgecolors='w',s=10)\n",
        "    ax[0,1].set_title(nome_modelo+' score='+str(score))\n",
        "    ax[0,1].set_xlabel('X1')\n",
        "    ax[0,1].set_ylabel('X2')\n",
        "    \n",
        "    # previsão das probabilidades\n",
        "    y_pred = clf.fit(X_train,y_train).predict(X_test)\n",
        "    # probabilidades ordenadas\n",
        "    arr = clf.predict_proba(X)\n",
        "    P = arr[arr[:, 1].argsort()]\n",
        "    # Calculo da CURVA ROC e Métricas\n",
        "    fpr, tpr, tres = roc_curve(y_test, clf.predict_proba(X_test)[:, 1])\n",
        "    # Calulo da AUC\n",
        "    aucc = auc(fpr,tpr)\n",
        "    ##- Gráfico linha 1 coluna 3 - Matriz de Confusão\n",
        "    ax[0,2].matshow(confusion_matrix(y_test,y_pred),cmap='bwr')\n",
        "    ax[0,2].set_title('Matriz de Confusão')\n",
        "    ax[0,2].text(0, 0, confusion_matrix(y_test,y_pred)[0,0],color='w', fontsize=16, horizontalalignment='center')\n",
        "    ax[0,2].text(0, 1, confusion_matrix(y_test,y_pred)[0,1],color='w', fontsize=16, horizontalalignment='center')\n",
        "    ax[0,2].text(1, 0, confusion_matrix(y_test,y_pred)[1,0],color='w', fontsize=16, horizontalalignment='center')\n",
        "    ax[0,2].text(1, 1, confusion_matrix(y_test,y_pred)[1,1],color='w', fontsize=16, horizontalalignment='center')\n",
        "    ax[0,2].set_xticklabels(['','prev positivo','prev negativo'])\n",
        "    ax[0,2].set_yticklabels(['','real positivo','real negativo'], rotation=90, va=\"center\")\n",
        "    ## Gráfico linha 2 coluna 1 - Visualização das probabilidades geradas pelo método perdictproba das Classes de Modelos\n",
        "    ax[1,0].plot(P[:,0],'b-')\n",
        "    ax[1,0].plot(P[:,1],'r-')\n",
        "    ax[1,0].set_title(nome_modelo+' Curvas Prob.')\n",
        "    ax[1,0].set_ylabel('Prob')\n",
        "    ## - Gráfico linha 2 coluna 2 - Visualização do Gráfico 2D da superfície de decisão\n",
        "    ax[1,1].contourf(xx, yy, Z, cmap=cmap, alpha=.8)\n",
        "    ax[1,1].set_title(nome_modelo+' Superf. Dec.')\n",
        "    ax[1,1].set_xlabel('X1')\n",
        "    ax[1,1].set_ylabel('X2')\n",
        "    ## - Gráfico linha 2 coluna 3 - Curva ROC e Apresnetação da AUC - Área Under Curve\n",
        "    ax[1,2].plot(fpr,tpr,'r-')\n",
        "    ax[1,2].plot([0,1],[0,1],'b:')\n",
        "    ax[1,2].set_title('Curva ROC AUC= '+str(np.round(aucc,3)))\n",
        "    ax[1,2].set_xlabel('TFP')\n",
        "    ax[1,2].set_ylabel('TVP')\n",
        "    fig.tight_layout(pad=3.5)\n",
        "    # inserindo VP nas métricas\n",
        "    metrics.append(nome_modelo)\n",
        "    # inserindo VP nas métricas\n",
        "    metrics.append(confusion_matrix(y_test,y_pred)[0,0])\n",
        "    # inserindo VN nas métricas\n",
        "    metrics.append(confusion_matrix(y_test,y_pred)[1,1])\n",
        "    # inserindo FN nas métricas\n",
        "    metrics.append(confusion_matrix(y_test,y_pred)[0,1])\n",
        "    # inserindo FP nas métricas\n",
        "    metrics.append(confusion_matrix(y_test,y_pred)[1,0])\n",
        "    # inserindo AUC nas métricas\n",
        "    metrics.append(auc(fpr,tpr))\n",
        "    fig.savefig('/content/imagens/'+nome_modelo+'.png', dpi=fig.dpi)\n",
        "\n",
        "    return metrics"
      ],
      "id": "z84_yz1qGhwV"
    },
    {
      "cell_type": "code",
      "execution_count": 91,
      "metadata": {
        "id": "uJ4f16H_GhwW",
        "outputId": "c913d282-d1db-4ff6-fe86-4b6a0a61a358",
        "colab": {
          "base_uri": "https://localhost:8080/"
        }
      },
      "outputs": [
        {
          "output_type": "stream",
          "name": "stdout",
          "text": [
            "CPU times: user 85.8 ms, sys: 1.95 ms, total: 87.8 ms\n",
            "Wall time: 86.9 ms\n"
          ]
        }
      ],
      "source": [
        "%%time\n",
        "# Carregando os dados de trans_umap_2D.csv\n",
        "df=pd.read_csv('/content/data/trans_umap_2D.csv', index_col=0)"
      ],
      "id": "uJ4f16H_GhwW"
    },
    {
      "cell_type": "code",
      "execution_count": 92,
      "metadata": {
        "id": "c_jirojfGhwX",
        "outputId": "8df1011e-0ebd-4ea3-b4cd-411e3e168f17",
        "colab": {
          "base_uri": "https://localhost:8080/"
        }
      },
      "outputs": [
        {
          "output_type": "stream",
          "name": "stdout",
          "text": [
            "CPU times: user 1.55 ms, sys: 82 µs, total: 1.63 ms\n",
            "Wall time: 1.63 ms\n"
          ]
        }
      ],
      "source": [
        "%%time\n",
        "# Criando as arrays a partir de trans_umap_2D.csv\n",
        "X = df.iloc[:,:2].values\n",
        "y = df.isFraud.values"
      ],
      "id": "c_jirojfGhwX"
    },
    {
      "cell_type": "code",
      "execution_count": 93,
      "metadata": {
        "id": "IT8rayW9GhwX"
      },
      "outputs": [],
      "source": [
        "modelos = (('Decision Trees', DecisionTreeClassifier(max_depth=7)),\n",
        "          ('SVC Linear',SVC(kernel=\"linear\", C=1.0, probability=True)),\n",
        "          ('SVC RBF',SVC(kernel=\"rbf\",gamma=0.05, C=1.0, probability=True)),\n",
        "          ('Gaussian Naives Bayes',GaussianNB()),\n",
        "          ('MLP Classifier',MLPClassifier(hidden_layer_sizes=(200,),alpha=0.0001,learning_rate_init=0.001,max_iter=100000)),\n",
        "          ('KNeighborsClassifier',KNeighborsClassifier(n_neighbors=70)),\n",
        "          ('Analise Discriminante Quadrática.',QuadraticDiscriminantAnalysis()),\n",
        "          ('Random Forrest',RandomForestClassifier(n_estimators=1500, max_depth=15)),\n",
        "          (' Adaboost',AdaBoostClassifier(n_estimators=1500)),\n",
        "          ('GradientBosting',GradientBoostingClassifier(n_estimators=1500, max_depth=11)),\n",
        "          ('XGBoost',XGBClassifier(n_estimators=1000, max_depth=11, random_state=42)),\n",
        "          (\"Histogram Based Gradient Boost\",HistGradientBoostingClassifier(max_iter=1000, learning_rate=0.01)))"
      ],
      "id": "IT8rayW9GhwX"
    },
    {
      "cell_type": "code",
      "execution_count": 94,
      "metadata": {
        "id": "NAO1pzx3GhwX"
      },
      "outputs": [],
      "source": [
        "mmetrics=[]"
      ],
      "id": "NAO1pzx3GhwX"
    },
    {
      "cell_type": "code",
      "execution_count": 95,
      "metadata": {
        "colab": {
          "base_uri": "https://localhost:8080/",
          "height": 736
        },
        "id": "v2tF0c87GhwX",
        "outputId": "546411ae-ed61-4ef5-ac57-072894ea71d3"
      },
      "outputs": [
        {
          "output_type": "stream",
          "name": "stdout",
          "text": [
            "CPU times: user 8.6 s, sys: 1.74 s, total: 10.3 s\n",
            "Wall time: 8.94 s\n"
          ]
        },
        {
          "output_type": "display_data",
          "data": {
            "text/plain": [
              "<Figure size 1080x720 with 6 Axes>"
            ],
            "image/png": "[encoded data removed]"
          },
          "metadata": {
            "needs_background": "light"
          }
        }
      ],
      "source": [
        "%%time\n",
        "n = 0\n",
        "metrics = grafico_classificador(X, y, test_size=0.4, modelo=modelos[n][1], \n",
        "                                             nome_modelo=modelos[n][0], \n",
        "                                             nome_dataset='IEEE Fraud Detection', \n",
        "                                             pca=False, norm=False)\n",
        "mmetrics.append(metrics)"
      ],
      "id": "v2tF0c87GhwX"
    },
    {
      "cell_type": "code",
      "execution_count": null,
      "metadata": {
        "id": "sgjv4yUVGhwY"
      },
      "outputs": [],
      "source": [
        "%%time\n",
        "\n",
        "metrics = grafico_classificador(X, y, test_size=0.4, modelo=SVC(kernel=\"linear\", C=1.0, probability=True), \n",
        "                                             nome_modelo='SVC Linear', \n",
        "                                             nome_dataset='IEEE Fraud Detection', \n",
        "                                             pca=False, norm=False)\n",
        "mmetrics.append(metrics)"
      ],
      "id": "sgjv4yUVGhwY"
    },
    {
      "cell_type": "code",
      "execution_count": null,
      "metadata": {
        "id": "0zgQzG9tGhwY"
      },
      "outputs": [],
      "source": [
        "mmetrics"
      ],
      "id": "0zgQzG9tGhwY"
    },
    {
      "cell_type": "code",
      "source": [
        "%%time\n",
        "n = 2\n",
        "metrics = grafico_classificador(X, y, test_size=0.4, modelo=modelos[n][1], \n",
        "                                             nome_modelo=modelos[n][0], \n",
        "                                             nome_dataset='IEEE Fraud Detection', \n",
        "                                             pca=False, norm=False)\n",
        "mmetrics.append(metrics)"
      ],
      "metadata": {
        "id": "WKBTYZV8CrS1"
      },
      "id": "WKBTYZV8CrS1",
      "execution_count": null,
      "outputs": []
    },
    {
      "cell_type": "code",
      "source": [
        "%%time\n",
        "n = 3\n",
        "metrics = grafico_classificador(X, y, test_size=0.4, modelo=modelos[n][1], \n",
        "                                             nome_modelo=modelos[n][0], \n",
        "                                             nome_dataset='IEEE Fraud Detection', \n",
        "                                             pca=False, norm=False)\n",
        "mmetrics.append(metrics)"
      ],
      "metadata": {
        "id": "B9FB3Td3Cy4R"
      },
      "execution_count": null,
      "outputs": [],
      "id": "B9FB3Td3Cy4R"
    },
    {
      "cell_type": "code",
      "source": [
        "%%time\n",
        "n = 4\n",
        "metrics = grafico_classificador(X, y, test_size=0.4, modelo=modelos[n][1], \n",
        "                                             nome_modelo=modelos[n][0], \n",
        "                                             nome_dataset='IEEE Fraud Detection', \n",
        "                                             pca=False, norm=False)\n",
        "mmetrics.append(metrics)"
      ],
      "metadata": {
        "id": "dAH84gOmC1Xd"
      },
      "execution_count": null,
      "outputs": [],
      "id": "dAH84gOmC1Xd"
    },
    {
      "cell_type": "code",
      "source": [
        "%%time\n",
        "n = 5\n",
        "metrics = grafico_classificador(X, y, test_size=0.4, modelo=modelos[n][1], \n",
        "                                             nome_modelo=modelos[n][0], \n",
        "                                             nome_dataset='IEEE Fraud Detection', \n",
        "                                             pca=False, norm=False)\n",
        "mmetrics.append(metrics)"
      ],
      "metadata": {
        "id": "lM-bw4IxC3aF"
      },
      "execution_count": null,
      "outputs": [],
      "id": "lM-bw4IxC3aF"
    },
    {
      "cell_type": "code",
      "source": [
        "%%time\n",
        "n = 6\n",
        "metrics = grafico_classificador(X, y, test_size=0.4, modelo=modelos[n][1], \n",
        "                                             nome_modelo=modelos[n][0], \n",
        "                                             nome_dataset='IEEE Fraud Detection', \n",
        "                                             pca=False, norm=False)\n",
        "mmetrics.append(metrics)"
      ],
      "metadata": {
        "id": "DW5umN_HC42Q"
      },
      "execution_count": null,
      "outputs": [],
      "id": "DW5umN_HC42Q"
    },
    {
      "cell_type": "code",
      "source": [
        "%%time\n",
        "n = 7\n",
        "metrics = grafico_classificador(X, y, test_size=0.4, modelo=modelos[n][1], \n",
        "                                             nome_modelo=modelos[n][0], \n",
        "                                             nome_dataset='IEEE Fraud Detection', \n",
        "                                             pca=False, norm=False)\n",
        "mmetrics.append(metrics)"
      ],
      "metadata": {
        "id": "lwVzR24wC69s"
      },
      "execution_count": null,
      "outputs": [],
      "id": "lwVzR24wC69s"
    },
    {
      "cell_type": "code",
      "source": [
        "%%time\n",
        "n = 8\n",
        "metrics = grafico_classificador(X, y, test_size=0.4, modelo=modelos[n][1], \n",
        "                                             nome_modelo=modelos[n][0], \n",
        "                                             nome_dataset='IEEE Fraud Detection', \n",
        "                                             pca=False, norm=False)\n",
        "mmetrics.append(metrics)"
      ],
      "metadata": {
        "id": "OJhOtHJZC9Lc"
      },
      "execution_count": null,
      "outputs": [],
      "id": "OJhOtHJZC9Lc"
    },
    {
      "cell_type": "code",
      "source": [
        "%%time\n",
        "n = 9\n",
        "metrics = grafico_classificador(X, y, test_size=0.4, modelo=modelos[n][1], \n",
        "                                             nome_modelo=modelos[n][0], \n",
        "                                             nome_dataset='IEEE Fraud Detection', \n",
        "                                             pca=False, norm=False)\n",
        "mmetrics.append(metrics)"
      ],
      "metadata": {
        "id": "9BaLd7PGC-uI"
      },
      "execution_count": null,
      "outputs": [],
      "id": "9BaLd7PGC-uI"
    },
    {
      "cell_type": "code",
      "source": [
        "%%time\n",
        "n = 10\n",
        "metrics = grafico_classificador(X, y, test_size=0.4, modelo=modelos[n][1], \n",
        "                                             nome_modelo=modelos[n][0], \n",
        "                                             nome_dataset='IEEE Fraud Detection', \n",
        "                                             pca=False, norm=False)\n",
        "mmetrics.append(metrics)"
      ],
      "metadata": {
        "id": "ij6a2NMYDAZH"
      },
      "execution_count": null,
      "outputs": [],
      "id": "ij6a2NMYDAZH"
    },
    {
      "cell_type": "code",
      "source": [
        "%%time\n",
        "n = 11\n",
        "metrics = grafico_classificador(X, y, test_size=0.4, modelo=modelos[n][1], \n",
        "                                             nome_modelo=modelos[n][0], \n",
        "                                             nome_dataset='IEEE Fraud Detection', \n",
        "                                             pca=False, norm=False)\n",
        "mmetrics.append(metrics)"
      ],
      "metadata": {
        "id": "b-GLue6vDIjz"
      },
      "execution_count": null,
      "outputs": [],
      "id": "b-GLue6vDIjz"
    }
  ],
  "metadata": {
    "hide_input": false,
    "kernelspec": {
      "display_name": "Python 3",
      "language": "python",
      "name": "python3"
    },
    "language_info": {
      "codemirror_mode": {
        "name": "ipython",
        "version": 3
      },
      "file_extension": ".py",
      "mimetype": "text/x-python",
      "name": "python",
      "nbconvert_exporter": "python",
      "pygments_lexer": "ipython3",
      "version": "3.8.3"
    },
    "nbTranslate": {
      "displayLangs": [
        "*"
      ],
      "hotkey": "alt-t",
      "langInMainMenu": true,
      "sourceLang": "en",
      "targetLang": "fr",
      "useGoogleTranslate": true
    },
    "colab": {
      "name": "Teste_para_vaga_Cientista_de_Dados_Senior_Parte_1_A.ipynb",
      "provenance": [],
      "machine_shape": "hm",
      "include_colab_link": true
    },
    "accelerator": "GPU"
  },
  "nbformat": 4,
  "nbformat_minor": 5
}