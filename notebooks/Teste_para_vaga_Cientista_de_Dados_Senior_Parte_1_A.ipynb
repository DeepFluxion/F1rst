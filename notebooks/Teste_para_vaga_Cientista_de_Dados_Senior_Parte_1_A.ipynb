{
  "cells": [
    {
      "cell_type": "markdown",
      "metadata": {
        "id": "view-in-github",
        "colab_type": "text"
      },
      "source": [
        "<a href=\"https://colab.research.google.com/github/DeepFluxion/F1rst/blob/main/notebooks/Teste_para_vaga_Cientista_de_Dados_Senior_Parte_1_A.ipynb\" target=\"_parent\"><img src=\"https://colab.research.google.com/assets/colab-badge.svg\" alt=\"Open In Colab\"/></a>"
      ]
    },
    {
      "cell_type": "markdown",
      "id": "93608093",
      "metadata": {
        "id": "93608093"
      },
      "source": [
        "## Requisitos da Parte 1 do Teste\n",
        "---\n",
        "### Parte 1: Algoritmos aplicados à base de dados de Fraudes do Kaggle.\n",
        "\n",
        "Nesta Parte 1A Foi considerado o seguinte Exemplo de Competições de Referências:\n",
        "https://www.kaggle.com/c/ieee-fraud-detection\n",
        "\n",
        "Essa parte consiste na elaboração de um Jupyter Notebook (ou outra ferramenta que lhe for mais conveniente para apresentação) com pelo menos 2 técnicas à sua escolha para resolver uma ou mais competições de Fraude contidas no Kaggle. \n",
        "\n",
        "O candidato tem a liberdade para escolha da competição que lhe for mais conveniente, bem como de unir todas as bases de dados caso queira.\n",
        "**Pacotes obrigatórios para se utilizar:** Pandas, Scikit-learn, Tensorflow (ou PyTorch).\n",
        "\n",
        "### Comentários:\n",
        "- Optou-se por uyilizar o Jupyter Notebook\n",
        "- Nesta parte 1A o desenvolvimentou focou em técnicas de Aprendizado de Máquina para classificação, empregando o pacote [Scikit-learn](https://scikit-learn.org/stable/)\n",
        "- Também empregou-se o pacote [XGBoost](https://xgboost.readthedocs.io/en/stable/) para classificação\n",
        "- Para maniputação dos dados foi usado o pacote [Pandas](https://pandas.pydata.org/)\n",
        "- Dado o grande volume de atributo recorreu-se a [Redução de Dimensionalidade](https://en.wikipedia.org/wiki/Dimensionality_reduction), tarefa na qual foi usado pacote [UMAP: Uniform Manifold Approximation and Projection for Dimension Reduction](https://umap-learn.readthedocs.io/en/latest/)]\n",
        "- Outras bibliotecas mais comuns foram empregadas\n",
        "- Foi usado o Python 3.7"
      ]
    },
    {
      "cell_type": "markdown",
      "id": "7f77ab43",
      "metadata": {
        "id": "7f77ab43"
      },
      "source": [
        "## Entendimento do Negócio - FDS (Fraud Detection Systems)\n",
        "\n",
        "### Fonte\n",
        "Para o desenvolviemnto de um projeto de Data Science é necessário, iniciar pela entendimento do problema a se resolver, estabelecer seus requisitos e desenvolver uma criação que apoia as escolhas e desenvolvimentos do projeto. Deste modo, na falta de especialistas para consulta recorreu-se a seguinte fonte:\n",
        "\n",
        "> [Reproducible Machine Learning for Credit Card Fraud Detection - Practical Handbook (2022)](https://fraud-detection-handbook.github.io/fraud-detection-handbook/Foreword.html), dos autores:  \n",
        "> * Yann-Aël Le Borgne - Machine Learning Group - Université Libre de Bruxelles, Belgium.  \n",
        "> * Wissam Siblini - Machine Learning Research - Worldline Labs   \n",
        "> * Bertrand Lebichot - Interdisciplinary Centre for Security, Reliability and Trust - Université du Luxembourg, Luxembourg \n",
        "> * Gianluca Bontempi - Machine Learning Group - Université Libre de Bruxelles, Belgium\n",
        "\n",
        "### Estrutura de um FDS\n",
        "Um sistema de detecção de fraude de cartão de crédito (FDS) é tipicamente composto por um conjunto de cinco camadas de controle [DP15, DPBC+17], conforme ilustrado na Fig. 1.\n",
        "\n",
        "![](https://fraud-detection-handbook.github.io/fraud-detection-handbook/_images/FDS.jpg)\n",
        "##### Fig. 1. Diagrama ilustrando as camadas de controle em um FDS.\n",
        "\n",
        "> O foco deste desenvolvimento é principalmente o modelo orientado a dados, que ajuda os investigadores a emitir alertas sobre as transações mais suspeitas.\n",
        "\n",
        "### Modelo orientado a dados (DDM)\n",
        "\n",
        "Essa camada é puramente orientada a dados e adota um classificador ou outro modelo estatístico para estimar a probabilidade de cada vetor de característica ser uma fraude. Essa probabilidade é usada como a pontuação de fraude associada às transações autorizadas. \n",
        "\n",
        "Assim, o modelo orientado a dados é treinado a partir de um conjunto de transações rotuladas e não pode ser interpretado ou modificado manualmente pelos investigadores. \n",
        "\n",
        "Espera-se que um modelo orientado a dados eficaz detecte padrões fraudulentos analisando simultaneamente vários componentes do vetor de recursos, possivelmente por meio de expressões não lineares. \n",
        "\n",
        "Portanto, espera-se que o DDM encontre fraudes de acordo com regras que vão além da experiência do investigador, e que não necessariamente correspondem a regras interpretáveis.\n",
        "\n",
        "> Portanto para o desenvolvimento do projeto estabeleceu-se as seguinte premissa:   \n",
        "> * Ainda que se possa empregar Apredizado de Máquina (AM) em diversas tarefas ao longa da estrutura do FDS optou-se por desenvolver um modelo para detecção de fraudes em **Transações**, portanto esse será o objeto de modelagem, ainda que com os dados disponíveis seja possível trabalhar com os usuários.\n",
        "\n",
        "### AM para detecção de fraudes em cartões de crédito (CCFD)\n",
        "\n",
        "AM para CCFD tornou-se um campo de pesquisa ativo. Isso é ilustrado por um grande número de publicações sobre o tema e suas reivindicações promissoras. Ao mesmo tempo, deve-se ter cautela na interpretação dos resultados dessas publicações. Como foi apontado em Aprendizado de máquina para detecção de fraude de cartão de crédito, o campo de AM para CCFD é relativamente novo, e não existem benchmarks reconhecidos, nem metodologias, para comparar e avaliar as técnicas propostas. Porém os autores sugerem uma metodologia básica que é apresnetada na Fig.2.\n",
        "\n",
        "![](https://fraud-detection-handbook.github.io/fraud-detection-handbook/_images/baseline_ML_workflow.png)\n",
        "#### Fig. 2. ML para CCFD: Metodologia de linha de base seguida pela maioria das abordagens propostas nas pesquisas recentes sobre o tema.\n",
        "\n",
        "\n",
        "\n",
        "\n"
      ]
    },
    {
      "cell_type": "markdown",
      "metadata": {
        "id": "7qPNZDLsGhvz"
      },
      "source": [
        "## Organização do Projeto\n",
        "O projeto foi então organizado tendo em vista atendero framework anteriormente apresentado, seguindo as etapas listadas a seguir:\n",
        "> **Etapa 1 -Entendimento e Ingestão do dados da base Kaggle.**  \n",
        "\n",
        "> **Etapa 2 -Pré processamento dos Dados.**   \n",
        "> - Etapa 2A - Eliminação dos Missing Values.\n",
        "> - Etapa 2B - Padronização.\n",
        "> - Etapa 2C - Redução de Dimensões (PCA e UMAP)\n",
        "\n",
        "> **Etapa 3 -Pré Modelagem.**   \n",
        "> - Etapa 3A - Decision Trees.\n",
        "> - Etapa 3B - SVC Linear.\n",
        "> - Etapa 3C - SVC RBF.\n",
        "> - Etapa 3D - Gaussina Naives Bayes.\n",
        "> - Etapa 3E - MLP Classifier.\n",
        "> - Etapa 3F - Random Forrest.\n",
        "> - Etapa 3G - GradientBosting.\n",
        "> - Etapa 3H - KNearestNeighbors.\n",
        "> - Etapa 3I - XGBoost.\n",
        "> - Etapa 3J - Histogram Based Gradient Boost.\n",
        "\n",
        "> **Etapa 4 -Análise dos resultados da Pré Modelagem e Seleção dos Modelos.**   \n",
        "> - Etapa 4A - Matriz de Confusão.\n",
        "> - Etapa 4B - Curva ROC.\n",
        "> - Etapa 4C - Métricas de Desempenho.\n",
        "\n",
        "> **Etapa 5 -Modelagem com os Algoritmos Selecionados e Análise de Resultados.**   \n",
        "> - Etapa 5A - Random Forrest.\n",
        "> - Etapa 5B - XGBoost.\n",
        "\n",
        "> **Etapa 6 -Análises Adicionais.**   \n",
        "> - Etapa 6A - Matriz de Custos.\n",
        "> - Etapa 6B - Métrica _Precision top-k_.\n",
        "\n",
        "> **Conclusões.**\n"
      ],
      "id": "7qPNZDLsGhvz"
    },
    {
      "cell_type": "markdown",
      "id": "c0bd710d",
      "metadata": {
        "id": "c0bd710d"
      },
      "source": [
        "## Etapa 1 - Entendimento e Ingestão dos dados da base Kaggle\n",
        "\n",
        "O consjunto de dados [IEEE-CIS Fraud Detection](https://www.kaggle.com/competitions/ieee-fraud-detection) consiste em uma base de transações com cartões de crédito com 584.540 registro, cada um com 394 columnas. A atributo alvo é a coluna `isFraud` que conta com 20.663 registro com valor 1 (é Fraude)  e 563.877 com valor 0 (não é Fraude). Além disso outros atributos importantes para análise são:\n",
        "- `TransactionDT` - Data da Transação\n",
        "- `TransactionAmt` - Montante da Transação\n",
        "- `TransactionID` - ID da Transação\n",
        "\n",
        "Atributos Categóricos - Transações\n",
        "* ProductCD\n",
        "* card1 - card6\n",
        "* addr1, addr2\n",
        "* P_emaildomain\n",
        "* R_emaildomain\n",
        "* M1 - M9 \n",
        "\n",
        "Estrutura do Diretórios\n",
        "* +--Teste_1A : Armazena Notebooks e Módulos   \n",
        "    * +-- data   \n",
        "        * +-- input : dados raw extraídos do kaggle   \n",
        "        * +-- pre_processed : dados resultantes da etapa de pre processamento   \n",
        "    * +-- imagens   \n",
        "    * +-- models : arquivos de modelos salvos (deploy)    \n",
        "    * +-- metrics : arquivos de metricas   "
      ]
    },
    {
      "cell_type": "code",
      "execution_count": 1,
      "id": "412d614a",
      "metadata": {
        "id": "412d614a",
        "outputId": "560d0049-c725-48ed-8ff8-1f3d591e68a8",
        "colab": {
          "base_uri": "https://localhost:8080/"
        }
      },
      "outputs": [
        {
          "output_type": "stream",
          "name": "stdout",
          "text": [
            "CPU times: user 261 ms, sys: 19.9 ms, total: 281 ms\n",
            "Wall time: 278 ms\n"
          ]
        }
      ],
      "source": [
        "%%time\n",
        "\n",
        "# importação das bibliotecas\n",
        "import os # manipulação de diretórios e arquivos\n",
        "import pandas as pd\n",
        "import warnings # manipulação de warnings no jupyter notebook\n",
        "import gc # limpar o lixo da memoria\n",
        "\n",
        "gc.collect()\n",
        "warnings.filterwarnings('ignore')# ignora warnings"
      ]
    },
    {
      "cell_type": "code",
      "execution_count": 2,
      "id": "52dbe55a",
      "metadata": {
        "id": "52dbe55a",
        "outputId": "ce29e2df-93d7-474f-b2db-bcf7fce98dc4",
        "colab": {
          "base_uri": "https://localhost:8080/"
        }
      },
      "outputs": [
        {
          "output_type": "stream",
          "name": "stdout",
          "text": [
            "CPU times: user 12.7 ms, sys: 3.95 ms, total: 16.6 ms\n",
            "Wall time: 403 ms\n"
          ]
        }
      ],
      "source": [
        "%%time\n",
        "\n",
        "# A planilha names mapea a colunas os nomes das colunas a serem utilizadas\n",
        "\n",
        "url = 'https://raw.githubusercontent.com/DeepFluxion/F1rst/main/data/pre_processed/names.csv'\n",
        "dn = pd.read_csv(url,sep=';')\n",
        "col_number = dn.loc[dn['use']==1,'col_number'].values.tolist() # mapea a posição das colunas a serem usadas\n",
        "col_names = dn.loc[dn['use']==1,'col_name'].values.tolist() # mapea o nome das colunas a serem usadas"
      ]
    },
    {
      "cell_type": "code",
      "execution_count": 3,
      "id": "bffb79d2",
      "metadata": {
        "id": "bffb79d2",
        "outputId": "f13c6462-55d1-4fd2-d818-492f9daed62c",
        "colab": {
          "base_uri": "https://localhost:8080/"
        }
      },
      "outputs": [
        {
          "output_type": "stream",
          "name": "stdout",
          "text": [
            "CPU times: user 16.3 s, sys: 1.26 s, total: 17.6 s\n",
            "Wall time: 1min 12s\n"
          ]
        }
      ],
      "source": [
        "%%time\n",
        "\n",
        "# para diminuir o uso de memóri trabalhou-se a ingestão dos dados em partes de 100000 linhas, \n",
        "#reduzindo tempo de processamento\n",
        "# Os dataframes foram persistidos na lista ddf\n",
        "ddf=[]\n",
        "rows =0\n",
        "url = 'https://raw.githubusercontent.com/DeepFluxion/F1rst/main/data/pre_processed/transactions_part_'\n",
        "\n",
        "for u in range(30):\n",
        "    \n",
        "    df = pd.read_csv(url+str(u)+'.csv', index_col=0)\n",
        "    ddf.append(df)"
      ]
    },
    {
      "cell_type": "code",
      "execution_count": 4,
      "id": "9c46c945",
      "metadata": {
        "id": "9c46c945",
        "outputId": "a7672e5e-9c6b-4f72-c0c4-4300d55e13ac",
        "colab": {
          "base_uri": "https://localhost:8080/"
        }
      },
      "outputs": [
        {
          "output_type": "stream",
          "name": "stdout",
          "text": [
            "CPU times: user 1.17 s, sys: 46.6 ms, total: 1.22 s\n",
            "Wall time: 1.21 s\n"
          ]
        }
      ],
      "source": [
        "%%time\n",
        "\n",
        "ddf[0]=ddf[0].drop(labels=0, axis=0) # elimina a primeira linha do primeiro df, que repete o cabeçalho\n",
        "# definindo o dtype das colunas\n",
        "for df in ddf:\n",
        "    df.loc[:,'isFraud'].astype('int')\n",
        "    df.loc[:,'TransactionID'].astype('int')\n",
        "    df.loc[:,'TransactionDT'].astype('int')\n",
        "    df.iloc[:,3:].astype('float')"
      ]
    },
    {
      "cell_type": "code",
      "execution_count": 5,
      "id": "5906b86b",
      "metadata": {
        "id": "5906b86b",
        "outputId": "a89c929b-cc35-455e-af4b-ea1258caf0dc",
        "colab": {
          "base_uri": "https://localhost:8080/"
        }
      },
      "outputs": [
        {
          "output_type": "stream",
          "name": "stdout",
          "text": [
            "0.02590129506475324\n",
            "0.02835\n",
            "0.02565\n",
            "0.02415\n",
            "0.0218\n",
            "0.01545\n",
            "0.0372\n",
            "0.0376\n",
            "0.03875\n",
            "0.04415\n",
            "0.03965\n",
            "0.04755\n",
            "0.0403\n",
            "0.04035\n",
            "0.0359\n",
            "0.03925\n",
            "0.03015\n",
            "0.03365\n",
            "0.041\n",
            "0.04615\n",
            "0.0441\n",
            "0.031\n",
            "0.04\n",
            "0.03535\n",
            "0.03045\n",
            "0.03005\n",
            "0.0318\n",
            "0.03565\n",
            "0.03915\n",
            "0.03880087278246846\n",
            "CPU times: user 21.2 ms, sys: 1.26 ms, total: 22.4 ms\n",
            "Wall time: 19.2 ms\n"
          ]
        }
      ],
      "source": [
        "%%time\n",
        "# Vamos checar a % de positivos para Fraudes em cada df\n",
        "for df in ddf:\n",
        "    print((df.loc[:,'isFraud']==1).sum()/df.shape[0])"
      ]
    },
    {
      "cell_type": "code",
      "execution_count": 6,
      "id": "fae13239",
      "metadata": {
        "id": "fae13239",
        "outputId": "2f4a400e-c8be-4af9-9035-72cbcf2c0a48",
        "colab": {
          "base_uri": "https://localhost:8080/"
        }
      },
      "outputs": [
        {
          "output_type": "stream",
          "name": "stdout",
          "text": [
            "CPU times: user 2.69 s, sys: 3.03 s, total: 5.72 s\n",
            "Wall time: 5.66 s\n"
          ]
        }
      ],
      "source": [
        "%%time\n",
        "# concatenar os dataframes para reduzir a ocupação da memória\n",
        "df = pd.concat(ddf,axis=0,ignore_index=True)\n",
        "df.head()"
      ]
    },
    {
      "cell_type": "code",
      "source": [
        "# Deletar ddf e eliminar os dado para liberar RAM\n",
        "del ddf\n",
        "gc.collect()"
      ],
      "metadata": {
        "id": "HCSHGhJMOXFT",
        "outputId": "0406fc6d-9597-44cd-d8ee-99e95a7f2235",
        "colab": {
          "base_uri": "https://localhost:8080/"
        }
      },
      "id": "HCSHGhJMOXFT",
      "execution_count": 7,
      "outputs": [
        {
          "output_type": "execute_result",
          "data": {
            "text/plain": [
              "99"
            ]
          },
          "metadata": {},
          "execution_count": 7
        }
      ]
    },
    {
      "cell_type": "markdown",
      "metadata": {
        "id": "GOqkWLAmGhwA"
      },
      "source": [
        "### Resumo Etapa 1 - Entendimento e Ingestão dos dados da base Kaggle\n",
        "\n",
        "- Por limitaçaõ da memória optou-se por trabalhar com uma parcela de 400.000 (~ 68% do total de registros)\n",
        "- Foram eliminadas as varáiveis categóricas\n",
        "    * ProductCD\n",
        "    * card1 - card6\n",
        "    * addr1, addr2\n",
        "    * P_emaildomain\n",
        "    * R_emaildomain\n",
        "    * M1 - M9 "
      ],
      "id": "GOqkWLAmGhwA"
    },
    {
      "cell_type": "markdown",
      "metadata": {
        "id": "zV2T5D3mGhwB"
      },
      "source": [
        "## Etapa 2 -Pré processamento dos Dados.\n",
        "\n",
        "Esta etapa consiste das seguintes sub etapas:   \n",
        "- **- Etapa 2A - Eliminação dos Missing Values**   \n",
        "    - Nesta subetapa sao quantificadas os tais de missing values de cada coluna, que são elimnadas a partir de um limiar de percentual (> 25%) a seguir as linhas com missing values são eliminadas   \n",
        "- **- Etapa 2B - Padronização**   \n",
        "    - nesta subetapa os dados são padronizados utilizando a classe `StandardScaler()` do `Scikit Learn`.     \n",
        "- **- Etapa 2C - Redução de Dimensões (PCA e UMAP)**     \n",
        "    - Nesta subetapa  a classe `PCA()` do `Scikit` e o pacote `UMAP` são usados para reduzir a dimiensionalidade do conjunto de dados afim de otimizar o tempo e uso de memória para fazer a pré-seleção dos modelos e também gerar uma segunda base com os atributos selecionados pela razão de variância explicada obtida pelo método `explained_variance_ratio_` da classe `PCA`. A quantidade de atributos que garantem mai de 90% de poder de explicação é usada na operação com UMAP.     \n",
        "- **- Resumo Etapa 2**\n"
      ],
      "id": "zV2T5D3mGhwB"
    },
    {
      "cell_type": "markdown",
      "metadata": {
        "id": "kMoLVNiKGhwC"
      },
      "source": [
        "### Etapa 2A - Eliminação dos Missing Values"
      ],
      "id": "kMoLVNiKGhwC"
    },
    {
      "cell_type": "code",
      "execution_count": 8,
      "id": "1760ddd2",
      "metadata": {
        "id": "1760ddd2",
        "outputId": "0bb18b32-ac12-4818-e176-15e6ae1a6a1f",
        "colab": {
          "base_uri": "https://localhost:8080/"
        }
      },
      "outputs": [
        {
          "output_type": "stream",
          "name": "stdout",
          "text": [
            "CPU times: user 6.87 s, sys: 39.3 ms, total: 6.91 s\n",
            "Wall time: 6.83 s\n"
          ]
        }
      ],
      "source": [
        "%%time\n",
        "# Quantificando os missing values em cada coluna\n",
        "na_columns = df.isna().sum()/df.shape[0]"
      ]
    },
    {
      "cell_type": "code",
      "execution_count": 9,
      "metadata": {
        "id": "XqxYvcYcGhwE",
        "outputId": "c1087d3f-6961-4b65-e524-6c370a6aa07d",
        "colab": {
          "base_uri": "https://localhost:8080/"
        }
      },
      "outputs": [
        {
          "output_type": "stream",
          "name": "stdout",
          "text": [
            "CPU times: user 3.44 ms, sys: 0 ns, total: 3.44 ms\n",
            "Wall time: 4.23 ms\n"
          ]
        },
        {
          "output_type": "execute_result",
          "data": {
            "text/plain": [
              "count    372.000000\n",
              "mean       0.415653\n",
              "std        0.362087\n",
              "min        0.000000\n",
              "25%        0.001745\n",
              "50%        0.286126\n",
              "75%        0.779134\n",
              "max        0.934099\n",
              "dtype: float64"
            ]
          },
          "metadata": {},
          "execution_count": 9
        }
      ],
      "source": [
        "%%time\n",
        "# Sumarizando os missing values em cada coluna\n",
        "na_columns.describe()"
      ],
      "id": "XqxYvcYcGhwE"
    },
    {
      "cell_type": "code",
      "execution_count": 10,
      "metadata": {
        "id": "WKQImxTYGhwE",
        "outputId": "16f41c75-30b2-4729-bcf5-10c2391ebe23",
        "colab": {
          "base_uri": "https://localhost:8080/"
        }
      },
      "outputs": [
        {
          "output_type": "stream",
          "name": "stdout",
          "text": [
            "CPU times: user 4.44 s, sys: 1.45 s, total: 5.88 s\n",
            "Wall time: 5.83 s\n"
          ]
        }
      ],
      "source": [
        "%%time\n",
        "# Eliminando as colunas com mais de 25% de missing values\n",
        "df.drop(na_columns[na_columns>0.25].index.tolist(),axis=1, inplace=True)"
      ],
      "id": "WKQImxTYGhwE"
    },
    {
      "cell_type": "code",
      "execution_count": 11,
      "metadata": {
        "id": "EKvaYaIaGhwF",
        "outputId": "6488c166-7309-443c-ee28-c8882e257987",
        "colab": {
          "base_uri": "https://localhost:8080/"
        }
      },
      "outputs": [
        {
          "output_type": "stream",
          "name": "stdout",
          "text": [
            "CPU times: user 3.87 s, sys: 17.5 ms, total: 3.89 s\n",
            "Wall time: 3.84 s\n"
          ]
        }
      ],
      "source": [
        "%%time\n",
        "# Eliminado as linhas com missing values\n",
        "df.dropna(inplace=True)"
      ],
      "id": "EKvaYaIaGhwF"
    },
    {
      "cell_type": "code",
      "execution_count": 12,
      "metadata": {
        "id": "iwb4hHBdGhwG",
        "outputId": "0f4378b9-fb57-4de1-d238-9ad7af7bd165",
        "colab": {
          "base_uri": "https://localhost:8080/"
        }
      },
      "outputs": [
        {
          "output_type": "stream",
          "name": "stdout",
          "text": [
            "(490634, 172)\n",
            "0\n",
            "CPU times: user 2.6 s, sys: 16.9 ms, total: 2.61 s\n",
            "Wall time: 2.58 s\n"
          ]
        }
      ],
      "source": [
        "%%time\n",
        "# verificando o tamanho do dataframe resultante\n",
        "print(df.shape)\n",
        "print((df.isna().sum()).sum())"
      ],
      "id": "iwb4hHBdGhwG"
    },
    {
      "cell_type": "code",
      "execution_count": 14,
      "metadata": {
        "id": "rymXHd9-GhwH",
        "outputId": "91a21f50-29f2-4b2d-c7e6-834aefc1d00f",
        "colab": {
          "base_uri": "https://localhost:8080/"
        }
      },
      "outputs": [
        {
          "output_type": "stream",
          "name": "stdout",
          "text": [
            "CPU times: user 22.4 s, sys: 470 ms, total: 22.8 s\n",
            "Wall time: 22.7 s\n"
          ]
        }
      ],
      "source": [
        "%%time\n",
        "# exportando o resultado final para um arquivo csv\n",
        "df.to_csv('/content/data/transactions_red.csv')\n",
        "# deletando df e limpando a RAM\n",
        "del df\n",
        "gc.collect()"
      ],
      "id": "rymXHd9-GhwH"
    },
    {
      "cell_type": "markdown",
      "source": [
        "Trabalhar este código para persistir os arquivos"
      ],
      "metadata": {
        "id": "EZFqR45GtqQH"
      },
      "id": "EZFqR45GtqQH"
    },
    {
      "cell_type": "markdown",
      "metadata": {
        "id": "2RSkoEkyGhwI"
      },
      "source": [
        "#### Resumo Etapa 2A - Entendimento e Ingestão dos dados da base Kaggle\n",
        "\n",
        "- Com a eliminação dos missing values será analisada uma base de 490634 registros com 172 atributos cada (~ 68% do total de registros), o que se considera-se aceitável\n",
        "- Do ponto de vista do modelo esta operação de redução pode resultar em diminuição da informação resultando numa precisão menor\n",
        "- O recomendável seria uma avaliação do significado de cada atributo eliminado junto a um especialista, o que não está disponível\n",
        "- Do ponto de vista operacional, caso não houvesse restrição de memória, o procedimento seria mantido resultando em mais registros para análise resultando num modelo mais completo"
      ],
      "id": "2RSkoEkyGhwI"
    },
    {
      "cell_type": "markdown",
      "metadata": {
        "id": "5Ouuq7zEGhwJ"
      },
      "source": [
        "### Etapa 2B - Padronização"
      ],
      "id": "5Ouuq7zEGhwJ"
    },
    {
      "cell_type": "code",
      "execution_count": 15,
      "metadata": {
        "id": "K43L9m1-GhwJ",
        "outputId": "ef7b8b87-7adf-4b90-dc56-271d73ad8a7f",
        "colab": {
          "base_uri": "https://localhost:8080/"
        }
      },
      "outputs": [
        {
          "output_type": "stream",
          "name": "stdout",
          "text": [
            "Collecting umap-learn\n",
            "  Downloading umap-learn-0.5.2.tar.gz (86 kB)\n",
            "\u001b[K     |████████████████████████████████| 86 kB 3.4 MB/s \n",
            "\u001b[?25hRequirement already satisfied: numpy>=1.17 in /usr/local/lib/python3.7/dist-packages (from umap-learn) (1.21.5)\n",
            "Requirement already satisfied: scikit-learn>=0.22 in /usr/local/lib/python3.7/dist-packages (from umap-learn) (1.0.2)\n",
            "Requirement already satisfied: scipy>=1.0 in /usr/local/lib/python3.7/dist-packages (from umap-learn) (1.4.1)\n",
            "Requirement already satisfied: numba>=0.49 in /usr/local/lib/python3.7/dist-packages (from umap-learn) (0.51.2)\n",
            "Collecting pynndescent>=0.5\n",
            "  Downloading pynndescent-0.5.6.tar.gz (1.1 MB)\n",
            "\u001b[K     |████████████████████████████████| 1.1 MB 21.3 MB/s \n",
            "\u001b[?25hRequirement already satisfied: tqdm in /usr/local/lib/python3.7/dist-packages (from umap-learn) (4.63.0)\n",
            "Requirement already satisfied: setuptools in /usr/local/lib/python3.7/dist-packages (from numba>=0.49->umap-learn) (57.4.0)\n",
            "Requirement already satisfied: llvmlite<0.35,>=0.34.0.dev0 in /usr/local/lib/python3.7/dist-packages (from numba>=0.49->umap-learn) (0.34.0)\n",
            "Requirement already satisfied: joblib>=0.11 in /usr/local/lib/python3.7/dist-packages (from pynndescent>=0.5->umap-learn) (1.1.0)\n",
            "Requirement already satisfied: threadpoolctl>=2.0.0 in /usr/local/lib/python3.7/dist-packages (from scikit-learn>=0.22->umap-learn) (3.1.0)\n",
            "Building wheels for collected packages: umap-learn, pynndescent\n",
            "  Building wheel for umap-learn (setup.py) ... \u001b[?25l\u001b[?25hdone\n",
            "  Created wheel for umap-learn: filename=umap_learn-0.5.2-py3-none-any.whl size=82708 sha256=260da2d25e439e16598725114c946ce0cae6664925be99487bb4a30af8eb200b\n",
            "  Stored in directory: /root/.cache/pip/wheels/84/1b/c6/aaf68a748122632967cef4dffef68224eb16798b6793257d82\n",
            "  Building wheel for pynndescent (setup.py) ... \u001b[?25l\u001b[?25hdone\n",
            "  Created wheel for pynndescent: filename=pynndescent-0.5.6-py3-none-any.whl size=53943 sha256=ca03cae0e40f10375426a3eea86b461fafd117f4f642f426b045866dcce16a63\n",
            "  Stored in directory: /root/.cache/pip/wheels/03/f1/56/f80d72741e400345b5a5b50ec3d929aca581bf45e0225d5c50\n",
            "Successfully built umap-learn pynndescent\n",
            "Installing collected packages: pynndescent, umap-learn\n",
            "Successfully installed pynndescent-0.5.6 umap-learn-0.5.2\n"
          ]
        }
      ],
      "source": [
        "# caso o UMAP não esteja instalado execute a linha a seguir deletando o #\n",
        "\n",
        "! pip install umap-learn"
      ],
      "id": "K43L9m1-GhwJ"
    },
    {
      "cell_type": "code",
      "execution_count": 16,
      "metadata": {
        "id": "4FTlF_mYGhwJ",
        "outputId": "f335dfbd-4a9b-44fe-ef84-72e3b5506383",
        "colab": {
          "base_uri": "https://localhost:8080/"
        }
      },
      "outputs": [
        {
          "output_type": "stream",
          "name": "stdout",
          "text": [
            "CPU times: user 14.6 s, sys: 744 ms, total: 15.4 s\n",
            "Wall time: 16.1 s\n"
          ]
        }
      ],
      "source": [
        "%%time\n",
        "# importando as biblitecas\n",
        "import matplotlib.pyplot as plt\n",
        "import numpy as np\n",
        "import pandas as pd \n",
        "import seaborn as sns\n",
        "import os\n",
        "from sklearn.decomposition import PCA\n",
        "from sklearn.preprocessing import StandardScaler\n",
        "import umap"
      ],
      "id": "4FTlF_mYGhwJ"
    },
    {
      "cell_type": "code",
      "execution_count": 28,
      "metadata": {
        "id": "qH9u7NfTGhwK",
        "outputId": "2e4c5b6e-9f03-4545-d630-1f642ae38b31",
        "colab": {
          "base_uri": "https://localhost:8080/"
        }
      },
      "outputs": [
        {
          "output_type": "stream",
          "name": "stdout",
          "text": [
            "CPU times: user 1.36 s, sys: 42.7 ms, total: 1.4 s\n",
            "Wall time: 1.4 s\n"
          ]
        }
      ],
      "source": [
        " %%time\n",
        " ## vamos carregar as 100000 primeiras linhas do dataset transactios_red\n",
        " df = pd.read_csv('/content/data/transactions_red.csv',index_col=0,nrows=100000 )\n",
        " # df = df.reset_index(drop=True)"
      ],
      "id": "qH9u7NfTGhwK"
    },
    {
      "cell_type": "code",
      "execution_count": 29,
      "metadata": {
        "id": "1RmctDlGGhwK",
        "outputId": "0be8bb8a-ef46-4d2a-8a3e-768df4eaca1a",
        "colab": {
          "base_uri": "https://localhost:8080/",
          "height": 299
        }
      },
      "outputs": [
        {
          "output_type": "execute_result",
          "data": {
            "text/plain": [
              "   TransactionID  isFraud  TransactionDT  TransactionAmt   C1   C2   C3   C4  \\\n",
              "0        2987000        0          86400            68.5  1.0  1.0  0.0  0.0   \n",
              "1        2987001        0          86401            29.0  1.0  1.0  0.0  0.0   \n",
              "2        2987002        0          86469            59.0  1.0  1.0  0.0  0.0   \n",
              "3        2987003        0          86499            50.0  2.0  5.0  0.0  0.0   \n",
              "5        2987005        0          86510            49.0  1.0  1.0  0.0  0.0   \n",
              "\n",
              "    C5   C6  ...   V312  V313  V314  V315  V316    V317   V318  V319  V320  \\\n",
              "0  0.0  1.0  ...    0.0   0.0   0.0   0.0   0.0   117.0    0.0   0.0   0.0   \n",
              "1  0.0  1.0  ...    0.0   0.0   0.0   0.0   0.0     0.0    0.0   0.0   0.0   \n",
              "2  0.0  1.0  ...    0.0   0.0   0.0   0.0   0.0     0.0    0.0   0.0   0.0   \n",
              "3  0.0  4.0  ...  135.0   0.0   0.0   0.0  50.0  1404.0  790.0   0.0   0.0   \n",
              "5  0.0  1.0  ...    0.0   0.0   0.0   0.0   0.0     0.0    0.0   0.0   0.0   \n",
              "\n",
              "   V321  \n",
              "0   0.0  \n",
              "1   0.0  \n",
              "2   0.0  \n",
              "3   0.0  \n",
              "5   0.0  \n",
              "\n",
              "[5 rows x 172 columns]"
            ],
            "text/html": [
              "\n",
              "  <div id=\"df-5dc7cdf3-0f56-4c92-bb90-40100b7cf072\">\n",
              "    <div class=\"colab-df-container\">\n",
              "      <div>\n",
              "<style scoped>\n",
              "    .dataframe tbody tr th:only-of-type {\n",
              "        vertical-align: middle;\n",
              "    }\n",
              "\n",
              "    .dataframe tbody tr th {\n",
              "        vertical-align: top;\n",
              "    }\n",
              "\n",
              "    .dataframe thead th {\n",
              "        text-align: right;\n",
              "    }\n",
              "</style>\n",
              "<table border=\"1\" class=\"dataframe\">\n",
              "  <thead>\n",
              "    <tr style=\"text-align: right;\">\n",
              "      <th></th>\n",
              "      <th>TransactionID</th>\n",
              "      <th>isFraud</th>\n",
              "      <th>TransactionDT</th>\n",
              "      <th>TransactionAmt</th>\n",
              "      <th>C1</th>\n",
              "      <th>C2</th>\n",
              "      <th>C3</th>\n",
              "      <th>C4</th>\n",
              "      <th>C5</th>\n",
              "      <th>C6</th>\n",
              "      <th>...</th>\n",
              "      <th>V312</th>\n",
              "      <th>V313</th>\n",
              "      <th>V314</th>\n",
              "      <th>V315</th>\n",
              "      <th>V316</th>\n",
              "      <th>V317</th>\n",
              "      <th>V318</th>\n",
              "      <th>V319</th>\n",
              "      <th>V320</th>\n",
              "      <th>V321</th>\n",
              "    </tr>\n",
              "  </thead>\n",
              "  <tbody>\n",
              "    <tr>\n",
              "      <th>0</th>\n",
              "      <td>2987000</td>\n",
              "      <td>0</td>\n",
              "      <td>86400</td>\n",
              "      <td>68.5</td>\n",
              "      <td>1.0</td>\n",
              "      <td>1.0</td>\n",
              "      <td>0.0</td>\n",
              "      <td>0.0</td>\n",
              "      <td>0.0</td>\n",
              "      <td>1.0</td>\n",
              "      <td>...</td>\n",
              "      <td>0.0</td>\n",
              "      <td>0.0</td>\n",
              "      <td>0.0</td>\n",
              "      <td>0.0</td>\n",
              "      <td>0.0</td>\n",
              "      <td>117.0</td>\n",
              "      <td>0.0</td>\n",
              "      <td>0.0</td>\n",
              "      <td>0.0</td>\n",
              "      <td>0.0</td>\n",
              "    </tr>\n",
              "    <tr>\n",
              "      <th>1</th>\n",
              "      <td>2987001</td>\n",
              "      <td>0</td>\n",
              "      <td>86401</td>\n",
              "      <td>29.0</td>\n",
              "      <td>1.0</td>\n",
              "      <td>1.0</td>\n",
              "      <td>0.0</td>\n",
              "      <td>0.0</td>\n",
              "      <td>0.0</td>\n",
              "      <td>1.0</td>\n",
              "      <td>...</td>\n",
              "      <td>0.0</td>\n",
              "      <td>0.0</td>\n",
              "      <td>0.0</td>\n",
              "      <td>0.0</td>\n",
              "      <td>0.0</td>\n",
              "      <td>0.0</td>\n",
              "      <td>0.0</td>\n",
              "      <td>0.0</td>\n",
              "      <td>0.0</td>\n",
              "      <td>0.0</td>\n",
              "    </tr>\n",
              "    <tr>\n",
              "      <th>2</th>\n",
              "      <td>2987002</td>\n",
              "      <td>0</td>\n",
              "      <td>86469</td>\n",
              "      <td>59.0</td>\n",
              "      <td>1.0</td>\n",
              "      <td>1.0</td>\n",
              "      <td>0.0</td>\n",
              "      <td>0.0</td>\n",
              "      <td>0.0</td>\n",
              "      <td>1.0</td>\n",
              "      <td>...</td>\n",
              "      <td>0.0</td>\n",
              "      <td>0.0</td>\n",
              "      <td>0.0</td>\n",
              "      <td>0.0</td>\n",
              "      <td>0.0</td>\n",
              "      <td>0.0</td>\n",
              "      <td>0.0</td>\n",
              "      <td>0.0</td>\n",
              "      <td>0.0</td>\n",
              "      <td>0.0</td>\n",
              "    </tr>\n",
              "    <tr>\n",
              "      <th>3</th>\n",
              "      <td>2987003</td>\n",
              "      <td>0</td>\n",
              "      <td>86499</td>\n",
              "      <td>50.0</td>\n",
              "      <td>2.0</td>\n",
              "      <td>5.0</td>\n",
              "      <td>0.0</td>\n",
              "      <td>0.0</td>\n",
              "      <td>0.0</td>\n",
              "      <td>4.0</td>\n",
              "      <td>...</td>\n",
              "      <td>135.0</td>\n",
              "      <td>0.0</td>\n",
              "      <td>0.0</td>\n",
              "      <td>0.0</td>\n",
              "      <td>50.0</td>\n",
              "      <td>1404.0</td>\n",
              "      <td>790.0</td>\n",
              "      <td>0.0</td>\n",
              "      <td>0.0</td>\n",
              "      <td>0.0</td>\n",
              "    </tr>\n",
              "    <tr>\n",
              "      <th>5</th>\n",
              "      <td>2987005</td>\n",
              "      <td>0</td>\n",
              "      <td>86510</td>\n",
              "      <td>49.0</td>\n",
              "      <td>1.0</td>\n",
              "      <td>1.0</td>\n",
              "      <td>0.0</td>\n",
              "      <td>0.0</td>\n",
              "      <td>0.0</td>\n",
              "      <td>1.0</td>\n",
              "      <td>...</td>\n",
              "      <td>0.0</td>\n",
              "      <td>0.0</td>\n",
              "      <td>0.0</td>\n",
              "      <td>0.0</td>\n",
              "      <td>0.0</td>\n",
              "      <td>0.0</td>\n",
              "      <td>0.0</td>\n",
              "      <td>0.0</td>\n",
              "      <td>0.0</td>\n",
              "      <td>0.0</td>\n",
              "    </tr>\n",
              "  </tbody>\n",
              "</table>\n",
              "<p>5 rows × 172 columns</p>\n",
              "</div>\n",
              "      <button class=\"colab-df-convert\" onclick=\"convertToInteractive('df-5dc7cdf3-0f56-4c92-bb90-40100b7cf072')\"\n",
              "              title=\"Convert this dataframe to an interactive table.\"\n",
              "              style=\"display:none;\">\n",
              "        \n",
              "  <svg xmlns=\"http://www.w3.org/2000/svg\" height=\"24px\"viewBox=\"0 0 24 24\"\n",
              "       width=\"24px\">\n",
              "    <path d=\"M0 0h24v24H0V0z\" fill=\"none\"/>\n",
              "    <path d=\"M18.56 5.44l.94 2.06.94-2.06 2.06-.94-2.06-.94-.94-2.06-.94 2.06-2.06.94zm-11 1L8.5 8.5l.94-2.06 2.06-.94-2.06-.94L8.5 2.5l-.94 2.06-2.06.94zm10 10l.94 2.06.94-2.06 2.06-.94-2.06-.94-.94-2.06-.94 2.06-2.06.94z\"/><path d=\"M17.41 7.96l-1.37-1.37c-.4-.4-.92-.59-1.43-.59-.52 0-1.04.2-1.43.59L10.3 9.45l-7.72 7.72c-.78.78-.78 2.05 0 2.83L4 21.41c.39.39.9.59 1.41.59.51 0 1.02-.2 1.41-.59l7.78-7.78 2.81-2.81c.8-.78.8-2.07 0-2.86zM5.41 20L4 18.59l7.72-7.72 1.47 1.35L5.41 20z\"/>\n",
              "  </svg>\n",
              "      </button>\n",
              "      \n",
              "  <style>\n",
              "    .colab-df-container {\n",
              "      display:flex;\n",
              "      flex-wrap:wrap;\n",
              "      gap: 12px;\n",
              "    }\n",
              "\n",
              "    .colab-df-convert {\n",
              "      background-color: #E8F0FE;\n",
              "      border: none;\n",
              "      border-radius: 50%;\n",
              "      cursor: pointer;\n",
              "      display: none;\n",
              "      fill: #1967D2;\n",
              "      height: 32px;\n",
              "      padding: 0 0 0 0;\n",
              "      width: 32px;\n",
              "    }\n",
              "\n",
              "    .colab-df-convert:hover {\n",
              "      background-color: #E2EBFA;\n",
              "      box-shadow: 0px 1px 2px rgba(60, 64, 67, 0.3), 0px 1px 3px 1px rgba(60, 64, 67, 0.15);\n",
              "      fill: #174EA6;\n",
              "    }\n",
              "\n",
              "    [theme=dark] .colab-df-convert {\n",
              "      background-color: #3B4455;\n",
              "      fill: #D2E3FC;\n",
              "    }\n",
              "\n",
              "    [theme=dark] .colab-df-convert:hover {\n",
              "      background-color: #434B5C;\n",
              "      box-shadow: 0px 1px 3px 1px rgba(0, 0, 0, 0.15);\n",
              "      filter: drop-shadow(0px 1px 2px rgba(0, 0, 0, 0.3));\n",
              "      fill: #FFFFFF;\n",
              "    }\n",
              "  </style>\n",
              "\n",
              "      <script>\n",
              "        const buttonEl =\n",
              "          document.querySelector('#df-5dc7cdf3-0f56-4c92-bb90-40100b7cf072 button.colab-df-convert');\n",
              "        buttonEl.style.display =\n",
              "          google.colab.kernel.accessAllowed ? 'block' : 'none';\n",
              "\n",
              "        async function convertToInteractive(key) {\n",
              "          const element = document.querySelector('#df-5dc7cdf3-0f56-4c92-bb90-40100b7cf072');\n",
              "          const dataTable =\n",
              "            await google.colab.kernel.invokeFunction('convertToInteractive',\n",
              "                                                     [key], {});\n",
              "          if (!dataTable) return;\n",
              "\n",
              "          const docLinkHtml = 'Like what you see? Visit the ' +\n",
              "            '<a target=\"_blank\" href=https://colab.research.google.com/notebooks/data_table.ipynb>data table notebook</a>'\n",
              "            + ' to learn more about interactive tables.';\n",
              "          element.innerHTML = '';\n",
              "          dataTable['output_type'] = 'display_data';\n",
              "          await google.colab.output.renderOutput(dataTable, element);\n",
              "          const docLink = document.createElement('div');\n",
              "          docLink.innerHTML = docLinkHtml;\n",
              "          element.appendChild(docLink);\n",
              "        }\n",
              "      </script>\n",
              "    </div>\n",
              "  </div>\n",
              "  "
            ]
          },
          "metadata": {},
          "execution_count": 29
        }
      ],
      "source": [
        "df.head()"
      ],
      "id": "1RmctDlGGhwK"
    },
    {
      "cell_type": "code",
      "source": [
        "# Verificando o tamanho de df\n",
        "df.shape"
      ],
      "metadata": {
        "id": "mj-e-sw7wDik",
        "outputId": "331fe5e2-7274-4b59-b0b2-173d4709b9e7",
        "colab": {
          "base_uri": "https://localhost:8080/"
        }
      },
      "id": "mj-e-sw7wDik",
      "execution_count": 30,
      "outputs": [
        {
          "output_type": "execute_result",
          "data": {
            "text/plain": [
              "(100000, 172)"
            ]
          },
          "metadata": {},
          "execution_count": 30
        }
      ]
    },
    {
      "cell_type": "code",
      "execution_count": 31,
      "metadata": {
        "id": "KuHqfeACGhwL",
        "outputId": "3b888143-4cea-461c-f094-c400333e496e",
        "colab": {
          "base_uri": "https://localhost:8080/"
        }
      },
      "outputs": [
        {
          "output_type": "execute_result",
          "data": {
            "text/plain": [
              "0.02638"
            ]
          },
          "metadata": {},
          "execution_count": 31
        }
      ],
      "source": [
        "# verificando o % de casos com isFraud==1\n",
        "(df['isFraud']==1).sum()/df.shape[0]"
      ],
      "id": "KuHqfeACGhwL"
    },
    {
      "cell_type": "markdown",
      "metadata": {
        "id": "rQNutBabGhwL"
      },
      "source": [
        "> Como o valor é aproximandamente igual ao percentual geral, não é necessário nos preocuparmos com eventuais viéses causados pela redução de registos"
      ],
      "id": "rQNutBabGhwL"
    },
    {
      "cell_type": "code",
      "execution_count": 32,
      "metadata": {
        "id": "n_nO534RGhwL"
      },
      "outputs": [],
      "source": [
        "# Vamos criar separar os atributos que não precisão ser normalizados e os atributos númericos que serão norammalizados\n",
        "# o atrbuto TransactionAmt fará parte dos dois consjutos\n",
        "# X1 é um dataframe pandas\n",
        "# X2 é uma array do Numpy\n",
        "X1 = df.iloc[:,1:4].reset_index(drop=True)\n",
        "X2 = StandardScaler().fit_transform(df.iloc[:,3:])"
      ],
      "id": "n_nO534RGhwL"
    },
    {
      "cell_type": "code",
      "execution_count": 33,
      "metadata": {
        "id": "M0z0uiM7GhwM",
        "outputId": "f1a20e16-eeb8-4b1b-d0dd-14db0c6ae5c2",
        "colab": {
          "base_uri": "https://localhost:8080/",
          "height": 206
        }
      },
      "outputs": [
        {
          "output_type": "execute_result",
          "data": {
            "text/plain": [
              "   isFraud  TransactionDT  TransactionAmt\n",
              "0        0          86400            68.5\n",
              "1        0          86401            29.0\n",
              "2        0          86469            59.0\n",
              "3        0          86499            50.0\n",
              "4        0          86510            49.0"
            ],
            "text/html": [
              "\n",
              "  <div id=\"df-cdf2136a-1ebd-4568-a615-766ed381e8e5\">\n",
              "    <div class=\"colab-df-container\">\n",
              "      <div>\n",
              "<style scoped>\n",
              "    .dataframe tbody tr th:only-of-type {\n",
              "        vertical-align: middle;\n",
              "    }\n",
              "\n",
              "    .dataframe tbody tr th {\n",
              "        vertical-align: top;\n",
              "    }\n",
              "\n",
              "    .dataframe thead th {\n",
              "        text-align: right;\n",
              "    }\n",
              "</style>\n",
              "<table border=\"1\" class=\"dataframe\">\n",
              "  <thead>\n",
              "    <tr style=\"text-align: right;\">\n",
              "      <th></th>\n",
              "      <th>isFraud</th>\n",
              "      <th>TransactionDT</th>\n",
              "      <th>TransactionAmt</th>\n",
              "    </tr>\n",
              "  </thead>\n",
              "  <tbody>\n",
              "    <tr>\n",
              "      <th>0</th>\n",
              "      <td>0</td>\n",
              "      <td>86400</td>\n",
              "      <td>68.5</td>\n",
              "    </tr>\n",
              "    <tr>\n",
              "      <th>1</th>\n",
              "      <td>0</td>\n",
              "      <td>86401</td>\n",
              "      <td>29.0</td>\n",
              "    </tr>\n",
              "    <tr>\n",
              "      <th>2</th>\n",
              "      <td>0</td>\n",
              "      <td>86469</td>\n",
              "      <td>59.0</td>\n",
              "    </tr>\n",
              "    <tr>\n",
              "      <th>3</th>\n",
              "      <td>0</td>\n",
              "      <td>86499</td>\n",
              "      <td>50.0</td>\n",
              "    </tr>\n",
              "    <tr>\n",
              "      <th>4</th>\n",
              "      <td>0</td>\n",
              "      <td>86510</td>\n",
              "      <td>49.0</td>\n",
              "    </tr>\n",
              "  </tbody>\n",
              "</table>\n",
              "</div>\n",
              "      <button class=\"colab-df-convert\" onclick=\"convertToInteractive('df-cdf2136a-1ebd-4568-a615-766ed381e8e5')\"\n",
              "              title=\"Convert this dataframe to an interactive table.\"\n",
              "              style=\"display:none;\">\n",
              "        \n",
              "  <svg xmlns=\"http://www.w3.org/2000/svg\" height=\"24px\"viewBox=\"0 0 24 24\"\n",
              "       width=\"24px\">\n",
              "    <path d=\"M0 0h24v24H0V0z\" fill=\"none\"/>\n",
              "    <path d=\"M18.56 5.44l.94 2.06.94-2.06 2.06-.94-2.06-.94-.94-2.06-.94 2.06-2.06.94zm-11 1L8.5 8.5l.94-2.06 2.06-.94-2.06-.94L8.5 2.5l-.94 2.06-2.06.94zm10 10l.94 2.06.94-2.06 2.06-.94-2.06-.94-.94-2.06-.94 2.06-2.06.94z\"/><path d=\"M17.41 7.96l-1.37-1.37c-.4-.4-.92-.59-1.43-.59-.52 0-1.04.2-1.43.59L10.3 9.45l-7.72 7.72c-.78.78-.78 2.05 0 2.83L4 21.41c.39.39.9.59 1.41.59.51 0 1.02-.2 1.41-.59l7.78-7.78 2.81-2.81c.8-.78.8-2.07 0-2.86zM5.41 20L4 18.59l7.72-7.72 1.47 1.35L5.41 20z\"/>\n",
              "  </svg>\n",
              "      </button>\n",
              "      \n",
              "  <style>\n",
              "    .colab-df-container {\n",
              "      display:flex;\n",
              "      flex-wrap:wrap;\n",
              "      gap: 12px;\n",
              "    }\n",
              "\n",
              "    .colab-df-convert {\n",
              "      background-color: #E8F0FE;\n",
              "      border: none;\n",
              "      border-radius: 50%;\n",
              "      cursor: pointer;\n",
              "      display: none;\n",
              "      fill: #1967D2;\n",
              "      height: 32px;\n",
              "      padding: 0 0 0 0;\n",
              "      width: 32px;\n",
              "    }\n",
              "\n",
              "    .colab-df-convert:hover {\n",
              "      background-color: #E2EBFA;\n",
              "      box-shadow: 0px 1px 2px rgba(60, 64, 67, 0.3), 0px 1px 3px 1px rgba(60, 64, 67, 0.15);\n",
              "      fill: #174EA6;\n",
              "    }\n",
              "\n",
              "    [theme=dark] .colab-df-convert {\n",
              "      background-color: #3B4455;\n",
              "      fill: #D2E3FC;\n",
              "    }\n",
              "\n",
              "    [theme=dark] .colab-df-convert:hover {\n",
              "      background-color: #434B5C;\n",
              "      box-shadow: 0px 1px 3px 1px rgba(0, 0, 0, 0.15);\n",
              "      filter: drop-shadow(0px 1px 2px rgba(0, 0, 0, 0.3));\n",
              "      fill: #FFFFFF;\n",
              "    }\n",
              "  </style>\n",
              "\n",
              "      <script>\n",
              "        const buttonEl =\n",
              "          document.querySelector('#df-cdf2136a-1ebd-4568-a615-766ed381e8e5 button.colab-df-convert');\n",
              "        buttonEl.style.display =\n",
              "          google.colab.kernel.accessAllowed ? 'block' : 'none';\n",
              "\n",
              "        async function convertToInteractive(key) {\n",
              "          const element = document.querySelector('#df-cdf2136a-1ebd-4568-a615-766ed381e8e5');\n",
              "          const dataTable =\n",
              "            await google.colab.kernel.invokeFunction('convertToInteractive',\n",
              "                                                     [key], {});\n",
              "          if (!dataTable) return;\n",
              "\n",
              "          const docLinkHtml = 'Like what you see? Visit the ' +\n",
              "            '<a target=\"_blank\" href=https://colab.research.google.com/notebooks/data_table.ipynb>data table notebook</a>'\n",
              "            + ' to learn more about interactive tables.';\n",
              "          element.innerHTML = '';\n",
              "          dataTable['output_type'] = 'display_data';\n",
              "          await google.colab.output.renderOutput(dataTable, element);\n",
              "          const docLink = document.createElement('div');\n",
              "          docLink.innerHTML = docLinkHtml;\n",
              "          element.appendChild(docLink);\n",
              "        }\n",
              "      </script>\n",
              "    </div>\n",
              "  </div>\n",
              "  "
            ]
          },
          "metadata": {},
          "execution_count": 33
        }
      ],
      "source": [
        "# Visualizando X1\n",
        "X1.head()"
      ],
      "id": "M0z0uiM7GhwM"
    },
    {
      "cell_type": "code",
      "execution_count": 34,
      "metadata": {
        "id": "OLNCswnqGhwM",
        "outputId": "3483d62e-87ef-425f-afac-98bb476a7886",
        "colab": {
          "base_uri": "https://localhost:8080/"
        }
      },
      "outputs": [
        {
          "output_type": "execute_result",
          "data": {
            "text/plain": [
              "array([[-0.29300185, -0.1841237 , -0.15621479, ..., -0.07943542,\n",
              "        -0.11573634, -0.09471274],\n",
              "       [-0.46814711, -0.1841237 , -0.15621479, ..., -0.07943542,\n",
              "        -0.11573634, -0.09471274],\n",
              "       [-0.3351254 , -0.1841237 , -0.15621479, ..., -0.07943542,\n",
              "        -0.11573634, -0.09471274],\n",
              "       ...,\n",
              "       [ 0.78646937, -0.1841237 , -0.1367213 , ..., -0.07943542,\n",
              "        -0.11573634, -0.09471274],\n",
              "       [-0.3351254 , -0.1841237 , -0.15621479, ..., -0.07943542,\n",
              "        -0.11573634, -0.09471274],\n",
              "       [-0.09573065, -0.1841237 , -0.15621479, ..., -0.07943542,\n",
              "        -0.11573634, -0.09471274]])"
            ]
          },
          "metadata": {},
          "execution_count": 34
        }
      ],
      "source": [
        "# Visualizando X2\n",
        "X2"
      ],
      "id": "OLNCswnqGhwM"
    },
    {
      "cell_type": "code",
      "execution_count": 35,
      "metadata": {
        "id": "HWQ4oZXlGhwN",
        "outputId": "7f4a7da8-9ef6-4ae5-c504-e875de59b952",
        "colab": {
          "base_uri": "https://localhost:8080/",
          "height": 487
        }
      },
      "outputs": [
        {
          "output_type": "execute_result",
          "data": {
            "text/plain": [
              "       TransactionAmt        C1        C2      C3        C4        C5  \\\n",
              "0           -0.293002 -0.184124 -0.156215 -0.0146 -0.036765 -0.235934   \n",
              "1           -0.468147 -0.184124 -0.156215 -0.0146 -0.036765 -0.235934   \n",
              "2           -0.335125 -0.184124 -0.156215 -0.0146 -0.036765 -0.235934   \n",
              "3           -0.375032 -0.161606 -0.078241 -0.0146 -0.036765 -0.235934   \n",
              "4           -0.379466 -0.184124 -0.156215 -0.0146 -0.036765 -0.235934   \n",
              "...               ...       ...       ...     ...       ...       ...   \n",
              "99995        0.378536 -0.184124 -0.156215 -0.0146 -0.036765 -0.197711   \n",
              "99996       -0.295441 -0.139089 -0.078241 -0.0146 -0.036765 -0.197711   \n",
              "99997        0.786469 -0.184124 -0.136721 -0.0146 -0.036765 -0.159488   \n",
              "99998       -0.335125 -0.184124 -0.156215 -0.0146 -0.036765 -0.235934   \n",
              "99999       -0.095731 -0.184124 -0.156215 -0.0146 -0.036765 -0.235934   \n",
              "\n",
              "             C6        C7        C8        C9  ...      V312      V313  \\\n",
              "0     -0.186223 -0.035117 -0.034674 -0.226376  ... -0.289661 -0.232592   \n",
              "1     -0.186223 -0.035117 -0.034674 -0.284781  ... -0.289661 -0.232592   \n",
              "2     -0.186223 -0.035117 -0.034674 -0.226376  ... -0.289661 -0.232592   \n",
              "3     -0.084662 -0.035117 -0.034674 -0.226376  ...  0.769291 -0.232592   \n",
              "4     -0.186223 -0.035117 -0.034674 -0.226376  ... -0.289661 -0.232592   \n",
              "...         ...       ...       ...       ...  ...       ...       ...   \n",
              "99995 -0.186223 -0.035117 -0.034674 -0.226376  ... -0.289661  3.251001   \n",
              "99996 -0.152370 -0.035117 -0.034674 -0.167971  ...  0.243345 -0.232592   \n",
              "99997 -0.186223 -0.035117 -0.034674 -0.226376  ... -0.289661 -0.232592   \n",
              "99998 -0.186223 -0.035117 -0.034674 -0.167971  ...  0.173141 -0.232592   \n",
              "99999 -0.186223 -0.035117 -0.034674 -0.226376  ... -0.289661 -0.232592   \n",
              "\n",
              "           V314      V315      V316      V317      V318      V319      V320  \\\n",
              "0     -0.259381 -0.245171 -0.127986  0.040284 -0.119558 -0.079435 -0.115736   \n",
              "1     -0.259381 -0.245171 -0.127986 -0.131333 -0.119558 -0.079435 -0.115736   \n",
              "2     -0.259381 -0.245171 -0.127986 -0.131333 -0.119558 -0.079435 -0.115736   \n",
              "3     -0.259381 -0.245171  0.149698  1.928066  1.875803 -0.079435 -0.115736   \n",
              "4     -0.259381 -0.245171 -0.127986 -0.131333 -0.119558 -0.079435 -0.115736   \n",
              "...         ...       ...       ...       ...       ...       ...       ...   \n",
              "99995  3.556960  2.666572 -0.127986 -0.131333 -0.119558 -0.079435 -0.115736   \n",
              "99996 -0.259381 -0.245171 -0.127986 -0.131333 -0.119558 -0.079435 -0.115736   \n",
              "99997 -0.259381 -0.245171 -0.127986 -0.131333 -0.119558 -0.079435 -0.115736   \n",
              "99998 -0.259381 -0.245171 -0.127986 -0.131333 -0.119558 -0.079435 -0.115736   \n",
              "99999 -0.259381 -0.245171 -0.127986 -0.131333 -0.119558 -0.079435 -0.115736   \n",
              "\n",
              "           V321  \n",
              "0     -0.094713  \n",
              "1     -0.094713  \n",
              "2     -0.094713  \n",
              "3     -0.094713  \n",
              "4     -0.094713  \n",
              "...         ...  \n",
              "99995 -0.094713  \n",
              "99996 -0.094713  \n",
              "99997 -0.094713  \n",
              "99998 -0.094713  \n",
              "99999 -0.094713  \n",
              "\n",
              "[100000 rows x 169 columns]"
            ],
            "text/html": [
              "\n",
              "  <div id=\"df-cbcd22ab-40bb-41a8-b16b-9ad2f5c0f35f\">\n",
              "    <div class=\"colab-df-container\">\n",
              "      <div>\n",
              "<style scoped>\n",
              "    .dataframe tbody tr th:only-of-type {\n",
              "        vertical-align: middle;\n",
              "    }\n",
              "\n",
              "    .dataframe tbody tr th {\n",
              "        vertical-align: top;\n",
              "    }\n",
              "\n",
              "    .dataframe thead th {\n",
              "        text-align: right;\n",
              "    }\n",
              "</style>\n",
              "<table border=\"1\" class=\"dataframe\">\n",
              "  <thead>\n",
              "    <tr style=\"text-align: right;\">\n",
              "      <th></th>\n",
              "      <th>TransactionAmt</th>\n",
              "      <th>C1</th>\n",
              "      <th>C2</th>\n",
              "      <th>C3</th>\n",
              "      <th>C4</th>\n",
              "      <th>C5</th>\n",
              "      <th>C6</th>\n",
              "      <th>C7</th>\n",
              "      <th>C8</th>\n",
              "      <th>C9</th>\n",
              "      <th>...</th>\n",
              "      <th>V312</th>\n",
              "      <th>V313</th>\n",
              "      <th>V314</th>\n",
              "      <th>V315</th>\n",
              "      <th>V316</th>\n",
              "      <th>V317</th>\n",
              "      <th>V318</th>\n",
              "      <th>V319</th>\n",
              "      <th>V320</th>\n",
              "      <th>V321</th>\n",
              "    </tr>\n",
              "  </thead>\n",
              "  <tbody>\n",
              "    <tr>\n",
              "      <th>0</th>\n",
              "      <td>-0.293002</td>\n",
              "      <td>-0.184124</td>\n",
              "      <td>-0.156215</td>\n",
              "      <td>-0.0146</td>\n",
              "      <td>-0.036765</td>\n",
              "      <td>-0.235934</td>\n",
              "      <td>-0.186223</td>\n",
              "      <td>-0.035117</td>\n",
              "      <td>-0.034674</td>\n",
              "      <td>-0.226376</td>\n",
              "      <td>...</td>\n",
              "      <td>-0.289661</td>\n",
              "      <td>-0.232592</td>\n",
              "      <td>-0.259381</td>\n",
              "      <td>-0.245171</td>\n",
              "      <td>-0.127986</td>\n",
              "      <td>0.040284</td>\n",
              "      <td>-0.119558</td>\n",
              "      <td>-0.079435</td>\n",
              "      <td>-0.115736</td>\n",
              "      <td>-0.094713</td>\n",
              "    </tr>\n",
              "    <tr>\n",
              "      <th>1</th>\n",
              "      <td>-0.468147</td>\n",
              "      <td>-0.184124</td>\n",
              "      <td>-0.156215</td>\n",
              "      <td>-0.0146</td>\n",
              "      <td>-0.036765</td>\n",
              "      <td>-0.235934</td>\n",
              "      <td>-0.186223</td>\n",
              "      <td>-0.035117</td>\n",
              "      <td>-0.034674</td>\n",
              "      <td>-0.284781</td>\n",
              "      <td>...</td>\n",
              "      <td>-0.289661</td>\n",
              "      <td>-0.232592</td>\n",
              "      <td>-0.259381</td>\n",
              "      <td>-0.245171</td>\n",
              "      <td>-0.127986</td>\n",
              "      <td>-0.131333</td>\n",
              "      <td>-0.119558</td>\n",
              "      <td>-0.079435</td>\n",
              "      <td>-0.115736</td>\n",
              "      <td>-0.094713</td>\n",
              "    </tr>\n",
              "    <tr>\n",
              "      <th>2</th>\n",
              "      <td>-0.335125</td>\n",
              "      <td>-0.184124</td>\n",
              "      <td>-0.156215</td>\n",
              "      <td>-0.0146</td>\n",
              "      <td>-0.036765</td>\n",
              "      <td>-0.235934</td>\n",
              "      <td>-0.186223</td>\n",
              "      <td>-0.035117</td>\n",
              "      <td>-0.034674</td>\n",
              "      <td>-0.226376</td>\n",
              "      <td>...</td>\n",
              "      <td>-0.289661</td>\n",
              "      <td>-0.232592</td>\n",
              "      <td>-0.259381</td>\n",
              "      <td>-0.245171</td>\n",
              "      <td>-0.127986</td>\n",
              "      <td>-0.131333</td>\n",
              "      <td>-0.119558</td>\n",
              "      <td>-0.079435</td>\n",
              "      <td>-0.115736</td>\n",
              "      <td>-0.094713</td>\n",
              "    </tr>\n",
              "    <tr>\n",
              "      <th>3</th>\n",
              "      <td>-0.375032</td>\n",
              "      <td>-0.161606</td>\n",
              "      <td>-0.078241</td>\n",
              "      <td>-0.0146</td>\n",
              "      <td>-0.036765</td>\n",
              "      <td>-0.235934</td>\n",
              "      <td>-0.084662</td>\n",
              "      <td>-0.035117</td>\n",
              "      <td>-0.034674</td>\n",
              "      <td>-0.226376</td>\n",
              "      <td>...</td>\n",
              "      <td>0.769291</td>\n",
              "      <td>-0.232592</td>\n",
              "      <td>-0.259381</td>\n",
              "      <td>-0.245171</td>\n",
              "      <td>0.149698</td>\n",
              "      <td>1.928066</td>\n",
              "      <td>1.875803</td>\n",
              "      <td>-0.079435</td>\n",
              "      <td>-0.115736</td>\n",
              "      <td>-0.094713</td>\n",
              "    </tr>\n",
              "    <tr>\n",
              "      <th>4</th>\n",
              "      <td>-0.379466</td>\n",
              "      <td>-0.184124</td>\n",
              "      <td>-0.156215</td>\n",
              "      <td>-0.0146</td>\n",
              "      <td>-0.036765</td>\n",
              "      <td>-0.235934</td>\n",
              "      <td>-0.186223</td>\n",
              "      <td>-0.035117</td>\n",
              "      <td>-0.034674</td>\n",
              "      <td>-0.226376</td>\n",
              "      <td>...</td>\n",
              "      <td>-0.289661</td>\n",
              "      <td>-0.232592</td>\n",
              "      <td>-0.259381</td>\n",
              "      <td>-0.245171</td>\n",
              "      <td>-0.127986</td>\n",
              "      <td>-0.131333</td>\n",
              "      <td>-0.119558</td>\n",
              "      <td>-0.079435</td>\n",
              "      <td>-0.115736</td>\n",
              "      <td>-0.094713</td>\n",
              "    </tr>\n",
              "    <tr>\n",
              "      <th>...</th>\n",
              "      <td>...</td>\n",
              "      <td>...</td>\n",
              "      <td>...</td>\n",
              "      <td>...</td>\n",
              "      <td>...</td>\n",
              "      <td>...</td>\n",
              "      <td>...</td>\n",
              "      <td>...</td>\n",
              "      <td>...</td>\n",
              "      <td>...</td>\n",
              "      <td>...</td>\n",
              "      <td>...</td>\n",
              "      <td>...</td>\n",
              "      <td>...</td>\n",
              "      <td>...</td>\n",
              "      <td>...</td>\n",
              "      <td>...</td>\n",
              "      <td>...</td>\n",
              "      <td>...</td>\n",
              "      <td>...</td>\n",
              "      <td>...</td>\n",
              "    </tr>\n",
              "    <tr>\n",
              "      <th>99995</th>\n",
              "      <td>0.378536</td>\n",
              "      <td>-0.184124</td>\n",
              "      <td>-0.156215</td>\n",
              "      <td>-0.0146</td>\n",
              "      <td>-0.036765</td>\n",
              "      <td>-0.197711</td>\n",
              "      <td>-0.186223</td>\n",
              "      <td>-0.035117</td>\n",
              "      <td>-0.034674</td>\n",
              "      <td>-0.226376</td>\n",
              "      <td>...</td>\n",
              "      <td>-0.289661</td>\n",
              "      <td>3.251001</td>\n",
              "      <td>3.556960</td>\n",
              "      <td>2.666572</td>\n",
              "      <td>-0.127986</td>\n",
              "      <td>-0.131333</td>\n",
              "      <td>-0.119558</td>\n",
              "      <td>-0.079435</td>\n",
              "      <td>-0.115736</td>\n",
              "      <td>-0.094713</td>\n",
              "    </tr>\n",
              "    <tr>\n",
              "      <th>99996</th>\n",
              "      <td>-0.295441</td>\n",
              "      <td>-0.139089</td>\n",
              "      <td>-0.078241</td>\n",
              "      <td>-0.0146</td>\n",
              "      <td>-0.036765</td>\n",
              "      <td>-0.197711</td>\n",
              "      <td>-0.152370</td>\n",
              "      <td>-0.035117</td>\n",
              "      <td>-0.034674</td>\n",
              "      <td>-0.167971</td>\n",
              "      <td>...</td>\n",
              "      <td>0.243345</td>\n",
              "      <td>-0.232592</td>\n",
              "      <td>-0.259381</td>\n",
              "      <td>-0.245171</td>\n",
              "      <td>-0.127986</td>\n",
              "      <td>-0.131333</td>\n",
              "      <td>-0.119558</td>\n",
              "      <td>-0.079435</td>\n",
              "      <td>-0.115736</td>\n",
              "      <td>-0.094713</td>\n",
              "    </tr>\n",
              "    <tr>\n",
              "      <th>99997</th>\n",
              "      <td>0.786469</td>\n",
              "      <td>-0.184124</td>\n",
              "      <td>-0.136721</td>\n",
              "      <td>-0.0146</td>\n",
              "      <td>-0.036765</td>\n",
              "      <td>-0.159488</td>\n",
              "      <td>-0.186223</td>\n",
              "      <td>-0.035117</td>\n",
              "      <td>-0.034674</td>\n",
              "      <td>-0.226376</td>\n",
              "      <td>...</td>\n",
              "      <td>-0.289661</td>\n",
              "      <td>-0.232592</td>\n",
              "      <td>-0.259381</td>\n",
              "      <td>-0.245171</td>\n",
              "      <td>-0.127986</td>\n",
              "      <td>-0.131333</td>\n",
              "      <td>-0.119558</td>\n",
              "      <td>-0.079435</td>\n",
              "      <td>-0.115736</td>\n",
              "      <td>-0.094713</td>\n",
              "    </tr>\n",
              "    <tr>\n",
              "      <th>99998</th>\n",
              "      <td>-0.335125</td>\n",
              "      <td>-0.184124</td>\n",
              "      <td>-0.156215</td>\n",
              "      <td>-0.0146</td>\n",
              "      <td>-0.036765</td>\n",
              "      <td>-0.235934</td>\n",
              "      <td>-0.186223</td>\n",
              "      <td>-0.035117</td>\n",
              "      <td>-0.034674</td>\n",
              "      <td>-0.167971</td>\n",
              "      <td>...</td>\n",
              "      <td>0.173141</td>\n",
              "      <td>-0.232592</td>\n",
              "      <td>-0.259381</td>\n",
              "      <td>-0.245171</td>\n",
              "      <td>-0.127986</td>\n",
              "      <td>-0.131333</td>\n",
              "      <td>-0.119558</td>\n",
              "      <td>-0.079435</td>\n",
              "      <td>-0.115736</td>\n",
              "      <td>-0.094713</td>\n",
              "    </tr>\n",
              "    <tr>\n",
              "      <th>99999</th>\n",
              "      <td>-0.095731</td>\n",
              "      <td>-0.184124</td>\n",
              "      <td>-0.156215</td>\n",
              "      <td>-0.0146</td>\n",
              "      <td>-0.036765</td>\n",
              "      <td>-0.235934</td>\n",
              "      <td>-0.186223</td>\n",
              "      <td>-0.035117</td>\n",
              "      <td>-0.034674</td>\n",
              "      <td>-0.226376</td>\n",
              "      <td>...</td>\n",
              "      <td>-0.289661</td>\n",
              "      <td>-0.232592</td>\n",
              "      <td>-0.259381</td>\n",
              "      <td>-0.245171</td>\n",
              "      <td>-0.127986</td>\n",
              "      <td>-0.131333</td>\n",
              "      <td>-0.119558</td>\n",
              "      <td>-0.079435</td>\n",
              "      <td>-0.115736</td>\n",
              "      <td>-0.094713</td>\n",
              "    </tr>\n",
              "  </tbody>\n",
              "</table>\n",
              "<p>100000 rows × 169 columns</p>\n",
              "</div>\n",
              "      <button class=\"colab-df-convert\" onclick=\"convertToInteractive('df-cbcd22ab-40bb-41a8-b16b-9ad2f5c0f35f')\"\n",
              "              title=\"Convert this dataframe to an interactive table.\"\n",
              "              style=\"display:none;\">\n",
              "        \n",
              "  <svg xmlns=\"http://www.w3.org/2000/svg\" height=\"24px\"viewBox=\"0 0 24 24\"\n",
              "       width=\"24px\">\n",
              "    <path d=\"M0 0h24v24H0V0z\" fill=\"none\"/>\n",
              "    <path d=\"M18.56 5.44l.94 2.06.94-2.06 2.06-.94-2.06-.94-.94-2.06-.94 2.06-2.06.94zm-11 1L8.5 8.5l.94-2.06 2.06-.94-2.06-.94L8.5 2.5l-.94 2.06-2.06.94zm10 10l.94 2.06.94-2.06 2.06-.94-2.06-.94-.94-2.06-.94 2.06-2.06.94z\"/><path d=\"M17.41 7.96l-1.37-1.37c-.4-.4-.92-.59-1.43-.59-.52 0-1.04.2-1.43.59L10.3 9.45l-7.72 7.72c-.78.78-.78 2.05 0 2.83L4 21.41c.39.39.9.59 1.41.59.51 0 1.02-.2 1.41-.59l7.78-7.78 2.81-2.81c.8-.78.8-2.07 0-2.86zM5.41 20L4 18.59l7.72-7.72 1.47 1.35L5.41 20z\"/>\n",
              "  </svg>\n",
              "      </button>\n",
              "      \n",
              "  <style>\n",
              "    .colab-df-container {\n",
              "      display:flex;\n",
              "      flex-wrap:wrap;\n",
              "      gap: 12px;\n",
              "    }\n",
              "\n",
              "    .colab-df-convert {\n",
              "      background-color: #E8F0FE;\n",
              "      border: none;\n",
              "      border-radius: 50%;\n",
              "      cursor: pointer;\n",
              "      display: none;\n",
              "      fill: #1967D2;\n",
              "      height: 32px;\n",
              "      padding: 0 0 0 0;\n",
              "      width: 32px;\n",
              "    }\n",
              "\n",
              "    .colab-df-convert:hover {\n",
              "      background-color: #E2EBFA;\n",
              "      box-shadow: 0px 1px 2px rgba(60, 64, 67, 0.3), 0px 1px 3px 1px rgba(60, 64, 67, 0.15);\n",
              "      fill: #174EA6;\n",
              "    }\n",
              "\n",
              "    [theme=dark] .colab-df-convert {\n",
              "      background-color: #3B4455;\n",
              "      fill: #D2E3FC;\n",
              "    }\n",
              "\n",
              "    [theme=dark] .colab-df-convert:hover {\n",
              "      background-color: #434B5C;\n",
              "      box-shadow: 0px 1px 3px 1px rgba(0, 0, 0, 0.15);\n",
              "      filter: drop-shadow(0px 1px 2px rgba(0, 0, 0, 0.3));\n",
              "      fill: #FFFFFF;\n",
              "    }\n",
              "  </style>\n",
              "\n",
              "      <script>\n",
              "        const buttonEl =\n",
              "          document.querySelector('#df-cbcd22ab-40bb-41a8-b16b-9ad2f5c0f35f button.colab-df-convert');\n",
              "        buttonEl.style.display =\n",
              "          google.colab.kernel.accessAllowed ? 'block' : 'none';\n",
              "\n",
              "        async function convertToInteractive(key) {\n",
              "          const element = document.querySelector('#df-cbcd22ab-40bb-41a8-b16b-9ad2f5c0f35f');\n",
              "          const dataTable =\n",
              "            await google.colab.kernel.invokeFunction('convertToInteractive',\n",
              "                                                     [key], {});\n",
              "          if (!dataTable) return;\n",
              "\n",
              "          const docLinkHtml = 'Like what you see? Visit the ' +\n",
              "            '<a target=\"_blank\" href=https://colab.research.google.com/notebooks/data_table.ipynb>data table notebook</a>'\n",
              "            + ' to learn more about interactive tables.';\n",
              "          element.innerHTML = '';\n",
              "          dataTable['output_type'] = 'display_data';\n",
              "          await google.colab.output.renderOutput(dataTable, element);\n",
              "          const docLink = document.createElement('div');\n",
              "          docLink.innerHTML = docLinkHtml;\n",
              "          element.appendChild(docLink);\n",
              "        }\n",
              "      </script>\n",
              "    </div>\n",
              "  </div>\n",
              "  "
            ]
          },
          "metadata": {},
          "execution_count": 35
        }
      ],
      "source": [
        "# checando X2\n",
        "pd.DataFrame(X2, columns=df.columns[3:])"
      ],
      "id": "HWQ4oZXlGhwN"
    },
    {
      "cell_type": "code",
      "execution_count": 36,
      "metadata": {
        "id": "osqjo6LUGhwO"
      },
      "outputs": [],
      "source": [
        "# vamos definir uma array com o atributo alvo isFraud\n",
        "y = X1['isFraud'].astype('int')"
      ],
      "id": "osqjo6LUGhwO"
    },
    {
      "cell_type": "code",
      "execution_count": 37,
      "metadata": {
        "id": "FYnkXvk_GhwO",
        "outputId": "b937797c-fb3c-4e40-dcf9-47bf96035c7d",
        "colab": {
          "base_uri": "https://localhost:8080/"
        }
      },
      "outputs": [
        {
          "output_type": "execute_result",
          "data": {
            "text/plain": [
              "0.02638"
            ]
          },
          "metadata": {},
          "execution_count": 37
        }
      ],
      "source": [
        "# verificando se o % de casos de fraude está OK\n",
        "y.sum()/len(y)"
      ],
      "id": "FYnkXvk_GhwO"
    },
    {
      "cell_type": "code",
      "execution_count": 38,
      "metadata": {
        "id": "7JiQ6f1tGhwO",
        "outputId": "cc0612d7-20fa-4749-9c48-f39eb8afbc10",
        "colab": {
          "base_uri": "https://localhost:8080/"
        }
      },
      "outputs": [
        {
          "output_type": "stream",
          "name": "stdout",
          "text": [
            "(100000, 3)\n",
            "(100000, 169)\n"
          ]
        }
      ],
      "source": [
        "print(X1.shape)\n",
        "print(X2.shape)"
      ],
      "id": "7JiQ6f1tGhwO"
    },
    {
      "cell_type": "markdown",
      "metadata": {
        "id": "XdlLYDQ3GhwP"
      },
      "source": [
        "#### Resumo Etapa 2B - Entendimento e Ingestão dos dados da base Kaggle\n",
        "\n",
        "- Foi gerada uma array X2 com dados padronizados com 200000 registros\n",
        "- Foi gerada a array y com o atributo alvo `ìsFraud`\n",
        "- Foi gerado o dataframe X1 com os atributos que não serão padronizados `TransactioID`, `TransactioDT`, `TransactioAmt` e `ìsFraud`."
      ],
      "id": "XdlLYDQ3GhwP"
    },
    {
      "cell_type": "markdown",
      "metadata": {
        "id": "6qwjE1ZwGhwP"
      },
      "source": [
        "### Etapa 2C - Redução de Dimensões (PCA e UMAP)\n",
        "\n",
        "Esta sub etapa é composta dos seguintes passos:\n",
        "- Empregar o método `pca.explained_variance_ratio_` para determinar a quantidade de dimensões N a serem empregadas no UMAP\n",
        "- Aplicar o UMAP para gerar uma redução para 2 dimensões para ser empregada na pré-seleção de modelos\n",
        "- Aplicara o UMAP para gerar uma redução para as N dimensão (definda no passo 1) para ser empregada na análise dos modelos selecionados no passo 2\n"
      ],
      "id": "6qwjE1ZwGhwP"
    },
    {
      "cell_type": "markdown",
      "metadata": {
        "id": "F-k59WiFGhwQ"
      },
      "source": [
        "####  Empregando o método `pca.explained_variance_ratio_` para determinar a quantidade de dimensões N"
      ],
      "id": "F-k59WiFGhwQ"
    },
    {
      "cell_type": "code",
      "execution_count": 39,
      "metadata": {
        "id": "bHTx4k9AGhwQ",
        "outputId": "abe4731a-6645-414d-de01-1b33e1489a60",
        "colab": {
          "base_uri": "https://localhost:8080/"
        }
      },
      "outputs": [
        {
          "output_type": "stream",
          "name": "stdout",
          "text": [
            "CPU times: user 3.7 s, sys: 764 ms, total: 4.46 s\n",
            "Wall time: 1.35 s\n"
          ]
        }
      ],
      "source": [
        "%%time\n",
        "#  Empregando o método `pca.explained_variance_ratio_` para determinar a quantidade de dimensões N\n",
        "pca = PCA(random_state=42)\n",
        "X_pca = pca.fit_transform(X2)\n",
        "ev_ratio = pca.explained_variance_ratio_"
      ],
      "id": "bHTx4k9AGhwQ"
    },
    {
      "cell_type": "code",
      "execution_count": 40,
      "metadata": {
        "id": "AaF2i_WYGhwQ",
        "outputId": "39ecb803-ad2d-4b31-d83b-dbed5f625069",
        "colab": {
          "base_uri": "https://localhost:8080/"
        }
      },
      "outputs": [
        {
          "output_type": "execute_result",
          "data": {
            "text/plain": [
              "array([1.82814956e-01, 1.03291199e-01, 5.64347766e-02, 5.10364391e-02,\n",
              "       4.87182325e-02, 3.79551062e-02, 3.21705346e-02, 3.00869166e-02,\n",
              "       2.72117455e-02, 2.64346290e-02, 2.41522971e-02, 2.03551654e-02,\n",
              "       1.85429233e-02, 1.83674124e-02, 1.71321364e-02, 1.68064863e-02,\n",
              "       1.50930446e-02, 1.43033673e-02, 1.41274374e-02, 1.34519191e-02,\n",
              "       1.11654217e-02, 1.05494932e-02, 1.02331327e-02, 9.56567391e-03,\n",
              "       8.98966885e-03, 8.66514091e-03, 7.81916652e-03, 7.29988824e-03,\n",
              "       7.08425384e-03, 6.36736120e-03, 5.96305672e-03, 5.91539103e-03,\n",
              "       5.36823364e-03, 5.01475141e-03, 4.93303039e-03, 4.58994482e-03,\n",
              "       4.35896287e-03, 4.24427676e-03, 4.16184073e-03, 3.86594222e-03,\n",
              "       3.71852595e-03, 3.69018034e-03, 3.50872668e-03, 3.35561235e-03,\n",
              "       3.20527145e-03, 2.95973737e-03, 2.83671685e-03, 2.69742264e-03,\n",
              "       2.69089054e-03, 2.56422947e-03, 2.47354809e-03, 2.40784735e-03,\n",
              "       2.34790791e-03, 2.24219762e-03, 2.14133327e-03, 2.03887602e-03,\n",
              "       1.95568691e-03, 1.92593628e-03, 1.78207203e-03, 1.71441592e-03,\n",
              "       1.68216080e-03, 1.57809786e-03, 1.56271868e-03, 1.52211238e-03,\n",
              "       1.49018436e-03, 1.42988471e-03, 1.31224116e-03, 1.22477868e-03,\n",
              "       1.19705472e-03, 1.11931546e-03, 1.08747795e-03, 1.04782726e-03,\n",
              "       1.03944301e-03, 1.01970884e-03, 9.60973965e-04, 9.21700789e-04,\n",
              "       9.05126718e-04, 8.80927532e-04, 8.19918271e-04, 8.00259175e-04,\n",
              "       7.61252679e-04, 7.40886256e-04, 6.99854214e-04, 6.96416356e-04,\n",
              "       6.81972982e-04, 6.68415159e-04, 6.49551532e-04, 6.30777862e-04,\n",
              "       6.18829709e-04, 6.07225955e-04, 5.87699633e-04, 5.56937223e-04,\n",
              "       5.38855959e-04, 5.31581779e-04, 5.05722536e-04, 4.87054107e-04,\n",
              "       4.77076491e-04, 4.67244520e-04, 4.40974100e-04, 4.14469839e-04,\n",
              "       4.07956774e-04, 3.75541731e-04, 3.40200134e-04, 3.28546211e-04,\n",
              "       3.12975376e-04, 3.04475811e-04, 2.93408876e-04, 2.77854736e-04,\n",
              "       2.67806057e-04, 2.51525189e-04, 2.46122986e-04, 2.42065027e-04,\n",
              "       2.32872927e-04, 2.20009822e-04, 2.12529524e-04, 2.05730092e-04,\n",
              "       2.00254355e-04, 1.90530196e-04, 1.83625567e-04, 1.74089583e-04,\n",
              "       1.69090314e-04, 1.62414744e-04, 1.53693807e-04, 1.43985551e-04,\n",
              "       1.40307253e-04, 1.36819891e-04, 1.32867348e-04, 1.26028644e-04,\n",
              "       1.13695056e-04, 9.89230985e-05, 9.72515358e-05, 9.10301682e-05,\n",
              "       8.96848686e-05, 8.79200799e-05, 8.24074903e-05, 7.90377688e-05,\n",
              "       6.59360157e-05, 6.00199451e-05, 5.38425402e-05, 4.48032763e-05,\n",
              "       3.94044441e-05, 3.50017997e-05, 3.24255052e-05, 3.22068797e-05,\n",
              "       3.04457148e-05, 2.96529381e-05, 2.12275765e-05, 1.95578763e-05,\n",
              "       1.89116852e-05, 1.62492510e-05, 1.26248543e-05, 1.15741464e-05,\n",
              "       8.85975359e-06, 8.13583399e-06, 7.35439890e-06, 4.43910846e-06,\n",
              "       4.30098399e-06, 4.12838097e-06, 1.60546506e-06, 4.47646827e-07,\n",
              "       2.43023034e-07, 1.01600633e-07, 1.15563342e-08, 3.90804314e-09,\n",
              "       2.89458807e-09, 1.82782974e-10, 8.89593115e-20, 3.60538929e-32,\n",
              "       1.08124246e-33])"
            ]
          },
          "metadata": {},
          "execution_count": 40
        }
      ],
      "source": [
        "# Visualizado ev_ratio\n",
        "ev_ratio"
      ],
      "id": "AaF2i_WYGhwQ"
    },
    {
      "cell_type": "code",
      "execution_count": 41,
      "metadata": {
        "id": "RE0nZ66YGhwR",
        "outputId": "70b73a37-14b5-4ce7-d961-e34603ee8692",
        "colab": {
          "base_uri": "https://localhost:8080/"
        }
      },
      "outputs": [
        {
          "output_type": "execute_result",
          "data": {
            "text/plain": [
              "array([0.18281496, 0.28610616, 0.34254093, 0.39357737, 0.4422956 ,\n",
              "       0.48025071, 0.51242124, 0.54250816, 0.56971991, 0.59615454,\n",
              "       0.62030683, 0.640662  , 0.65920492, 0.67757233, 0.69470447,\n",
              "       0.71151096, 0.726604  , 0.74090737, 0.75503481, 0.76848672,\n",
              "       0.77965215, 0.79020164, 0.80043477, 0.81000045, 0.81899011,\n",
              "       0.82765526, 0.83547442, 0.84277431, 0.84985856, 0.85622593,\n",
              "       0.86218898, 0.86810437, 0.87347261, 0.87848736, 0.88342039,\n",
              "       0.88801033, 0.8923693 , 0.89661357, 0.90077541, 0.90464136,\n",
              "       0.90835988, 0.91205006])"
            ]
          },
          "metadata": {},
          "execution_count": 41
        }
      ],
      "source": [
        "# Verificando a soma acumulada de variância explicada\n",
        "ev_ratio.cumsum()[:42]"
      ],
      "id": "RE0nZ66YGhwR"
    },
    {
      "cell_type": "code",
      "execution_count": 42,
      "metadata": {
        "id": "h8LDFbQEGhwR",
        "outputId": "0b4fa511-a15c-4b5b-9240-9a52a6440adc",
        "colab": {
          "base_uri": "https://localhost:8080/",
          "height": 282
        }
      },
      "outputs": [
        {
          "output_type": "execute_result",
          "data": {
            "text/plain": [
              "<matplotlib.collections.LineCollection at 0x7fb981bcacd0>"
            ]
          },
          "metadata": {},
          "execution_count": 42
        },
        {
          "output_type": "display_data",
          "data": {
            "text/plain": [
              "<Figure size 432x288 with 1 Axes>"
            ],
            "image/png": "[encoded data removed]"
          },
          "metadata": {
            "needs_background": "light"
          }
        }
      ],
      "source": [
        "# visualizando os resultados\n",
        "plt.plot(ev_ratio.cumsum(),c='b',lw=2.0)\n",
        "plt.plot(ev_ratio.cumsum()[:42],c='r',lw=4.0)\n",
        "plt.scatter(42,ev_ratio.cumsum()[42],c='r',s=100)\n",
        "plt.hlines(ev_ratio.cumsum()[42], 0,42 , colors='k', linestyles='dotted')\n",
        "plt.vlines(42, 0,ev_ratio.cumsum()[42], colors='k', linestyles='dotted')"
      ],
      "id": "h8LDFbQEGhwR"
    },
    {
      "cell_type": "code",
      "execution_count": 43,
      "metadata": {
        "id": "D6gBvCelGhwR",
        "outputId": "32f74b21-74ba-487f-9115-b42a7b3d8e1d",
        "colab": {
          "base_uri": "https://localhost:8080/"
        }
      },
      "outputs": [
        {
          "output_type": "stream",
          "name": "stdout",
          "text": [
            "0.9155587889339594\n"
          ]
        }
      ],
      "source": [
        "# Portanto temos N = 42 e a explained variation ratio total é 0.908\n",
        "N = 42\n",
        "print(ev_ratio.cumsum()[42])"
      ],
      "id": "D6gBvCelGhwR"
    },
    {
      "cell_type": "markdown",
      "metadata": {
        "id": "bco71WfVGhwR"
      },
      "source": [
        "> Considerando a base de 200000 registros a razão de variância explicada por 42 variávei é de ~ 91%"
      ],
      "id": "bco71WfVGhwR"
    },
    {
      "cell_type": "markdown",
      "metadata": {
        "id": "oYJogx3mGhwS"
      },
      "source": [
        "#### Aplicar o UMAP para gerar uma redução para 2 dimensões para ser empregada na pré-seleção de modelos\n",
        "\n",
        "#### Como funciona a UMAP (Traduzido de [UMAP.org](https://umap-learn.readthedocs.io/en/latest/how_umap_works.html))\n",
        "\n",
        "UMAP é um algoritmo para redução de dimensão baseado em várias técnicas de aprendizado e ideias de análise de dados topológicos. Ele fornece uma estrutura muito geral para abordar o aprendizado múltiplo e a redução de dimensão, mas também pode fornecer realizações concretas específicas.  \n",
        "\n",
        "Existem fundamentos matemáticos mais profundos, mas para facilitar a leitura pelo público em geral, eles serão meramente referenciados e vinculados. Se você estiver procurando a descrição matemática, consulte o artigo UMAP.\n",
        "\n",
        "Para começar a entender o UMAP, precisaremos de um pouco de conhecimento matemático da topologia algébrica e da análise de dados topológicos. Isso fornecerá um algoritmo básico que funciona bem na teoria, mas infelizmente não tão bem na prática. \n",
        "\n",
        "O próximo passo será fazer uso de alguma geometria Riemanniana básica para trazer os dados do mundo real um pouco mais perto das suposições subjacentes do algoritmo de análise de dados topológicos. Infelizmente, isso introduzirá novas complicações, que serão resolvidas através de uma combinação de matemática profunda (cujos detalhes serão omitidos) e lógica difusa. \n",
        "\n",
        "Podemos então juntar as peças novamente e combiná-las com uma nova abordagem para encontrar uma representação de baixa dimensão mais adequada às novas estruturas de dados disponíveis. Juntando tudo isso, chegamos ao algoritmo UMAP básico."
      ],
      "id": "oYJogx3mGhwS"
    },
    {
      "cell_type": "code",
      "execution_count": 44,
      "metadata": {
        "id": "-bAXeLQ7GhwS",
        "outputId": "9a1253ea-3219-4e52-8e4e-3b10d3f77cb3",
        "colab": {
          "base_uri": "https://localhost:8080/"
        }
      },
      "outputs": [
        {
          "output_type": "stream",
          "name": "stdout",
          "text": [
            "CPU times: user 3min 16s, sys: 1.14 s, total: 3min 17s\n",
            "Wall time: 3min\n"
          ]
        }
      ],
      "source": [
        "%%time\n",
        "# Vamos aplicar o UMAP para reduzir a dimensionalidade de X2 \n",
        "X_umap = umap.UMAP(n_components=2,init='random', random_state=0, low_memory=True).fit_transform(X2, y=y)"
      ],
      "id": "-bAXeLQ7GhwS"
    },
    {
      "cell_type": "code",
      "source": [
        "# Verificando o tamanho de X_umap\n",
        "X_umap.shape"
      ],
      "metadata": {
        "id": "ptwhiY6Q0czP",
        "outputId": "1606ca94-0d7a-4c38-fcb6-70fca6f224f1",
        "colab": {
          "base_uri": "https://localhost:8080/"
        }
      },
      "id": "ptwhiY6Q0czP",
      "execution_count": 45,
      "outputs": [
        {
          "output_type": "execute_result",
          "data": {
            "text/plain": [
              "(100000, 2)"
            ]
          },
          "metadata": {},
          "execution_count": 45
        }
      ]
    },
    {
      "cell_type": "code",
      "execution_count": 46,
      "metadata": {
        "id": "DHEZMFezGhwS",
        "outputId": "dbd066e4-4127-403c-a9b7-8bf260ed1814",
        "colab": {
          "base_uri": "https://localhost:8080/"
        }
      },
      "outputs": [
        {
          "output_type": "execute_result",
          "data": {
            "text/plain": [
              "(100000, 3)"
            ]
          },
          "metadata": {},
          "execution_count": 46
        }
      ],
      "source": [
        "# Agora vamos agregar a X_umap o atributo alvo isFraud\n",
        "X_umap= pd.concat([pd.DataFrame(X_umap, columns=['X0','X1']),X1['isFraud']],axis=1)\n",
        "X_umap.shape"
      ],
      "id": "DHEZMFezGhwS"
    },
    {
      "cell_type": "code",
      "execution_count": 47,
      "metadata": {
        "id": "ICIK9DOoGhwS",
        "outputId": "2cb44630-3b19-4d83-c3f7-bcea8a0bc0ed",
        "colab": {
          "base_uri": "https://localhost:8080/",
          "height": 514
        }
      },
      "outputs": [
        {
          "output_type": "execute_result",
          "data": {
            "text/plain": [
              "<matplotlib.axes._subplots.AxesSubplot at 0x7fb979569dd0>"
            ]
          },
          "metadata": {},
          "execution_count": 47
        },
        {
          "output_type": "display_data",
          "data": {
            "text/plain": [
              "<Figure size 576x576 with 1 Axes>"
            ],
            "image/png": "[encoded data removed]"
          },
          "metadata": {
            "needs_background": "light"
          }
        }
      ],
      "source": [
        "# Visualizando o dataset X_umap\n",
        "fig, ax = plt.subplots(figsize=(8, 8))\n",
        "X_umap[X_umap['isFraud']==1].plot(\n",
        "    kind=\"scatter\",\n",
        "    x=0,\n",
        "    y=1,\n",
        "    s=10,\n",
        "    ax=ax,\n",
        "    c='r',\n",
        "    alpha=0.95\n",
        ")\n",
        "X_umap[X_umap['isFraud']==0].plot(\n",
        "    kind=\"scatter\",\n",
        "    x=0,\n",
        "    y=1,\n",
        "    s=5,\n",
        "    ax=ax,\n",
        "    c='b',\n",
        "    alpha=0.05,\n",
        ")"
      ],
      "id": "ICIK9DOoGhwS"
    },
    {
      "cell_type": "code",
      "execution_count": 48,
      "metadata": {
        "id": "74f6LSCmGhwT"
      },
      "outputs": [],
      "source": [
        "X_umap.to_csv('/content/data/trans_umap_2D.csv')"
      ],
      "id": "74f6LSCmGhwT"
    },
    {
      "cell_type": "markdown",
      "metadata": {
        "id": "FoAgXaE7GhwT"
      },
      "source": [
        "#### Aplicar o UMAP para gerar uma redução para 42 dimensões, que será empregada na análises dos modelos escolhidos na etapa pré-seleção de modelos"
      ],
      "id": "FoAgXaE7GhwT"
    },
    {
      "cell_type": "code",
      "execution_count": 49,
      "metadata": {
        "id": "d0IQZcjsGhwT",
        "outputId": "875889ab-1c6a-4f81-e856-bca2e99e4f53",
        "colab": {
          "base_uri": "https://localhost:8080/"
        }
      },
      "outputs": [
        {
          "output_type": "stream",
          "name": "stdout",
          "text": [
            "CPU times: user 5min 14s, sys: 1.83 s, total: 5min 15s\n",
            "Wall time: 4min 57s\n"
          ]
        }
      ],
      "source": [
        "%%time\n",
        "X_umap_mult = umap.UMAP(n_components=42,init='random', random_state=0, low_memory=True).fit_transform(X2, y=y)"
      ],
      "id": "d0IQZcjsGhwT"
    },
    {
      "cell_type": "code",
      "execution_count": 50,
      "metadata": {
        "id": "TJc6Lq-CGhwU",
        "outputId": "adf38b58-8ca5-4f57-84fd-7e547c270254",
        "colab": {
          "base_uri": "https://localhost:8080/"
        }
      },
      "outputs": [
        {
          "output_type": "execute_result",
          "data": {
            "text/plain": [
              "['X0', 'X1', 'X2', 'X3', 'X4']"
            ]
          },
          "metadata": {},
          "execution_count": 50
        }
      ],
      "source": [
        "# gerando Nomes para as Colunas\n",
        "cols=[('X'+str(a)) for a in range(N)]\n",
        "cols[:5]"
      ],
      "id": "TJc6Lq-CGhwU"
    },
    {
      "cell_type": "code",
      "execution_count": 51,
      "metadata": {
        "id": "Ae7UbkWXGhwU",
        "outputId": "a00a61e7-5b83-4f79-f9a3-ccec41a16c1a",
        "colab": {
          "base_uri": "https://localhost:8080/"
        }
      },
      "outputs": [
        {
          "output_type": "stream",
          "name": "stdout",
          "text": [
            "CPU times: user 3.16 s, sys: 81.3 ms, total: 3.24 s\n",
            "Wall time: 3.23 s\n"
          ]
        }
      ],
      "source": [
        "%%time\n",
        "# Exportando um DataFrame com X_umap_mult e y\n",
        "trans_umap_multi = pd.concat([pd.DataFrame(X_umap_mult, columns=cols),y],axis=1)\n",
        "trans_umap_multi.to_csv('/content/data/trans_umap_multi.csv')"
      ],
      "id": "Ae7UbkWXGhwU"
    },
    {
      "cell_type": "markdown",
      "metadata": {
        "id": "V3XqO6QiGhwU"
      },
      "source": [
        "## Etapa 3 - Pré Modelagem.\n",
        "\n",
        "Em função da limitação de memória e de tempo preferiu-se executar uma pre-seleção de modelos. Neste processo serão executados o treinamento e avaliação de 10 modelos, utilizando o conjunto de dados `X_UMAP_2D`, de forma que se tenha uma primeira avaliação de seu desempenho, os melhores modelos serão escolidos para serem **novamente treinados e avaliados** agora com o conjunto de dados `X_UMAP_Mult` na **Etapa 4**. Os modelos usados e a sua configuração foram: \n",
        "> - Etapa 3A - Decision Trees.\n",
        "    - `DecisionTreeClassifier(max_depth=7)`\n",
        "> - Etapa 3B - SVC Linear.\n",
        "    - `SVC(kernel=\"linear\", C=1.0, probability=True)`\n",
        "> - Etapa 3C - SVC RBF.\n",
        "    - `SVC(kernel=\"rbf\",gamma=0.05, C=1.0, probability=True)`\n",
        "> - Etapa 3D - Gaussina Naives Bayes.\n",
        "    - `GaussianNB()`\n",
        "> - Etapa 3E - MLP Classifier.\n",
        "    - `MLPClassifier(hidden_layer_sizes=(200,),alpha=0.0001,learning_rate_init=0.001,max_iter=100000)`\n",
        "> - Etapa 3F - KNeighborsClassifier.\n",
        "    - `KNeighborsClassifier(n_neighbors=70)`\n",
        "> - Etapa 3F - 'Analise Discriminante Quadrática.'.\n",
        "    - `QuadraticDiscriminantAnalysis()`\n",
        "> - Etapa 3G - Random Forrest.\n",
        "    - `RandomForestClassifier(n_estimators=1500, max_depth=15)`\n",
        "> - Etapa 3H - Adaboost.\n",
        "    - `AdaBoostClassifier(n_estimators=1500)`\n",
        "> - Etapa 3I - GradientBosting.\n",
        "    - `GradientBoostingClassifier(n_estimators=1500, max_depth=11)`\n",
        "> - Etapa 3I - XGBoost.\n",
        "    - `XGBClassifier(n_estimators=1000, max_depth=11, random_state=42)`\n",
        "> - Etapa 3J - Histogram Based Gradient Boost\n",
        "    - `HistGradientBoostingClassifier(max_iter=1000, learning_rate=0.01)`\n",
        "    \n",
        "Para facilitar a análise foi criada uma função **`grafico_classificador()`** que foi incorporada ao módulo `Model_Tools` que deve ser importando antes da análise e o aquivo `Models_Tools.py` **precisa estar salvo no mesmo diretório do notebook**. "
      ],
      "id": "V3XqO6QiGhwU"
    },
    {
      "cell_type": "code",
      "execution_count": 52,
      "metadata": {
        "id": "Og-MMb-7GhwV"
      },
      "outputs": [],
      "source": [
        "# Caso o xgboost ainda não esteja instalado execute o camndo abaixo deletando o #\n",
        "#! pip install xgboost"
      ],
      "id": "Og-MMb-7GhwV"
    },
    {
      "cell_type": "code",
      "execution_count": 53,
      "metadata": {
        "id": "LwGqJ_iqGhwV",
        "outputId": "99b106d3-9e12-46b9-f9ac-8d31c15e7618",
        "colab": {
          "base_uri": "https://localhost:8080/"
        }
      },
      "outputs": [
        {
          "output_type": "stream",
          "name": "stdout",
          "text": [
            "CPU times: user 33.2 ms, sys: 4 ms, total: 37.2 ms\n",
            "Wall time: 152 ms\n"
          ]
        }
      ],
      "source": [
        "%%time\n",
        "\n",
        "import numpy as np\n",
        "from sklearn.preprocessing import StandardScaler\n",
        "from sklearn.metrics import plot_confusion_matrix\n",
        "from sklearn.metrics import confusion_matrix\n",
        "from sklearn.metrics import roc_curve, auc\n",
        "from sklearn.model_selection import train_test_split\n",
        "\n",
        "# algoritmos de classificação\n",
        "from sklearn.neural_network import MLPClassifier\n",
        "from sklearn.neighbors import KNeighborsClassifier\n",
        "from sklearn.svm import SVC\n",
        "from sklearn.gaussian_process import GaussianProcessClassifier\n",
        "from sklearn.gaussian_process.kernels import RBF\n",
        "from sklearn.tree import DecisionTreeClassifier\n",
        "from sklearn.ensemble import RandomForestClassifier, AdaBoostClassifier, GradientBoostingClassifier\n",
        "from sklearn.naive_bayes import GaussianNB\n",
        "from sklearn import tree\n",
        "from sklearn.discriminant_analysis import QuadraticDiscriminantAnalysis\n",
        "from xgboost import XGBClassifier\n",
        "from sklearn.experimental import enable_hist_gradient_boosting\n",
        "from sklearn.ensemble import HistGradientBoostingClassifier"
      ],
      "id": "LwGqJ_iqGhwV"
    },
    {
      "cell_type": "code",
      "execution_count": 54,
      "metadata": {
        "id": "z84_yz1qGhwV"
      },
      "outputs": [],
      "source": [
        "def grafico_classificador(X, y, test_size, modelo, nome_modelo, nome_dataset, pca=False, norm=True):\n",
        "    '''\n",
        "    Esta função processa um template de modelagem com machine learning usando recursos do scikit-learn e retorna\n",
        "    um dashboard simplificado de gráficos para compreenssão do modelo\n",
        "    Entradas:\n",
        "    X - Matriz de atributos dos dados\n",
        "    y - Vetor de targets de classificação\n",
        "    test_size - % percentagem do dataset usada para teste\n",
        "    modelo - Instância do modelo do Scikit Learn parametrizada\n",
        "    nome_modelo - string para descrever o modelo\n",
        "    nome_dataset - string para descrever o dataset\n",
        "    pca - True aplica pca de dois componentes aos dados para visualização\n",
        "    norm - True normaliza os dados\n",
        "    Saida:\n",
        "    Um gráfico com os seguintes subplots\n",
        "        - Gráfico linha 1 coluna 1 - Visualização do Gráfico 2D dos dados data set\n",
        "        - Gráfico linha 1 coluna 2 - Visualização do Gráfico 2D dos dados data set sobreposto à superfície de decisão\n",
        "        - Gráfico linha 1 coluna 3 - Matriz de Confusão\n",
        "        - Gráfico linha 2 coluna 1 - Visualização das probabilidades geradas pelo método perdictproba das Classes de Modelos\n",
        "        - Gráfico linha 2 coluna 2 - Visualização do Gráfico 2D da superfície de decisão\n",
        "        - Gráfico linha 2 coluna 3 - Curva ROC e Apresnetação da AUC - Área Under Curve \n",
        "    '''\n",
        "    \n",
        "    #Definições iniciais\n",
        "    metrics=[] # lista de Métricas\n",
        "    cmap = 'bwr' # colormap do matplotlib\n",
        "    fig, ax = plt.subplots(2, 3, figsize=(15,10))\n",
        "    suptitle = nome_modelo\n",
        "    # realizar pca se necessário\n",
        "    if pca==True:\n",
        "        pca=PCA(n_components=2)\n",
        "        pca.fit(X)\n",
        "        X = pca.transform(X)\n",
        "    # realizar normalização se necessário\n",
        "    if norm==True:\n",
        "        X = StandardScaler().fit_transform(X)\n",
        "        suptitle = nome_modelo+ ' Dados Normalizados'\n",
        "    # Definir Título do Gráfico\n",
        "    fig.suptitle(suptitle, fontsize=16)\n",
        "    # Fazer os split dos dados\n",
        "    X_train, X_test, y_train, y_test = train_test_split(X, y, test_size=test_size, random_state=42)\n",
        "    # Instanciar a Classe do Modelo\n",
        "    clf = modelo\n",
        "    # Treinamento do modelo\n",
        "    clf.fit(X_train, y_train)\n",
        "    # Calculo de Métricas\n",
        "    score = clf.score(X_test, y_test)\n",
        "    # Calculo da Superfice de Decisão do Modelo\n",
        "    h = 0.02\n",
        "    x_min, x_max = X[:, 0].min() - .5, X[:, 0].max() + .5\n",
        "    y_min, y_max = X[:, 1].min() - .5, X[:, 1].max() + .5\n",
        "    xx, yy = np.meshgrid(np.arange(x_min, x_max, h),np.arange(y_min, y_max, h))\n",
        "    if hasattr(clf, \"decision_function\"):\n",
        "        Z = clf.decision_function(np.c_[xx.ravel(), yy.ravel()])\n",
        "    else:\n",
        "        Z = clf.predict_proba(np.c_[xx.ravel(), yy.ravel()])[:, 1]\n",
        "\n",
        "    # Colocar os valores para cores dos modelos\n",
        "    Z = Z.reshape(xx.shape)\n",
        "    # Plotagem do dataset\n",
        "    ## Gráfico linha 1 coluna 1 - Visualização do Gráfico 2D dos dados data set\n",
        "    ax[0,0].scatter(X_train[:, 0], X_train[:, 1], c=y_train, cmap=cmap,edgecolors='w', s=10)\n",
        "    ax[0,0].scatter(X_test[:, 0], X_test[:, 1], c=y_test, cmap=cmap, alpha=0.6,edgecolors='w',s=10)\n",
        "    ax[0,0].set_title(nome_dataset)\n",
        "    ax[0,0].set_xlabel('X1')\n",
        "    ax[0,0].set_ylabel('X2')\n",
        "    ##- Gráfico linha 1 coluna 2 - Visualização do Gráfico 2D dos dados data set sobreposto à superfície de decisão\n",
        "    ax[0,1].contourf(xx, yy, Z, cmap=cmap, alpha=.8)\n",
        "    ax[0,1].scatter(X_train[:, 0], X_train[:, 1], c=y_train, cmap=cmap,edgecolors='w',s=10)\n",
        "    ax[0,1].scatter(X_test[:, 0], X_test[:, 1], c=y_test, cmap=cmap, alpha=0.6,edgecolors='w',s=10)\n",
        "    ax[0,1].set_title(nome_modelo+' score='+str(score))\n",
        "    ax[0,1].set_xlabel('X1')\n",
        "    ax[0,1].set_ylabel('X2')\n",
        "    \n",
        "    # previsão das probabilidades\n",
        "    y_pred = clf.fit(X_train,y_train).predict(X_test)\n",
        "    # probabilidades ordenadas\n",
        "    arr = clf.predict_proba(X)\n",
        "    P = arr[arr[:, 1].argsort()]\n",
        "    # Calculo da CURVA ROC e Métricas\n",
        "    fpr, tpr, tres = roc_curve(y_test, clf.predict_proba(X_test)[:, 1])\n",
        "    # Calulo da AUC\n",
        "    aucc = auc(fpr,tpr)\n",
        "    ##- Gráfico linha 1 coluna 3 - Matriz de Confusão\n",
        "    ax[0,2].matshow(confusion_matrix(y_test,y_pred),cmap='bwr')\n",
        "    ax[0,2].set_title('Matriz de Confusão')\n",
        "    ax[0,2].text(0, 0, confusion_matrix(y_test,y_pred)[0,0],color='w', fontsize=16, horizontalalignment='center')\n",
        "    ax[0,2].text(0, 1, confusion_matrix(y_test,y_pred)[0,1],color='w', fontsize=16, horizontalalignment='center')\n",
        "    ax[0,2].text(1, 0, confusion_matrix(y_test,y_pred)[1,0],color='w', fontsize=16, horizontalalignment='center')\n",
        "    ax[0,2].text(1, 1, confusion_matrix(y_test,y_pred)[1,1],color='w', fontsize=16, horizontalalignment='center')\n",
        "    ax[0,2].set_xticklabels(['','prev positivo','prev negativo'])\n",
        "    ax[0,2].set_yticklabels(['','real positivo','real negativo'], rotation=90, va=\"center\")\n",
        "    ## Gráfico linha 2 coluna 1 - Visualização das probabilidades geradas pelo método perdictproba das Classes de Modelos\n",
        "    ax[1,0].plot(P[:,0],'b-')\n",
        "    ax[1,0].plot(P[:,1],'r-')\n",
        "    ax[1,0].set_title(nome_modelo+' Curvas Prob.')\n",
        "    ax[1,0].set_ylabel('Prob')\n",
        "    ## - Gráfico linha 2 coluna 2 - Visualização do Gráfico 2D da superfície de decisão\n",
        "    ax[1,1].contourf(xx, yy, Z, cmap=cmap, alpha=.8)\n",
        "    ax[1,1].set_title(nome_modelo+' Superf. Dec.')\n",
        "    ax[1,1].set_xlabel('X1')\n",
        "    ax[1,1].set_ylabel('X2')\n",
        "    ## - Gráfico linha 2 coluna 3 - Curva ROC e Apresnetação da AUC - Área Under Curve\n",
        "    ax[1,2].plot(fpr,tpr,'r-')\n",
        "    ax[1,2].plot([0,1],[0,1],'b:')\n",
        "    ax[1,2].set_title('Curva ROC AUC= '+str(np.round(aucc,3)))\n",
        "    ax[1,2].set_xlabel('TFP')\n",
        "    ax[1,2].set_ylabel('TVP')\n",
        "    fig.tight_layout(pad=3.5)\n",
        "    # inserindo VP nas métricas\n",
        "    metrics.append(nome_modelo)\n",
        "    # inserindo VP nas métricas\n",
        "    metrics.append(confusion_matrix(y_test,y_pred)[0,0])\n",
        "    # inserindo VN nas métricas\n",
        "    metrics.append(confusion_matrix(y_test,y_pred)[1,1])\n",
        "    # inserindo FN nas métricas\n",
        "    metrics.append(confusion_matrix(y_test,y_pred)[0,1])\n",
        "    # inserindo FP nas métricas\n",
        "    metrics.append(confusion_matrix(y_test,y_pred)[1,0])\n",
        "    # inserindo AUC nas métricas\n",
        "    metrics.append(auc(fpr,tpr))\n",
        "    fig.savefig('/content/imagens/'+nome_modelo+'.png', dpi=fig.dpi)\n",
        "\n",
        "    return metrics"
      ],
      "id": "z84_yz1qGhwV"
    },
    {
      "cell_type": "code",
      "execution_count": 55,
      "metadata": {
        "id": "uJ4f16H_GhwW",
        "outputId": "5ee1a4ce-65fb-45de-d7ae-6999a645721c",
        "colab": {
          "base_uri": "https://localhost:8080/"
        }
      },
      "outputs": [
        {
          "output_type": "stream",
          "name": "stdout",
          "text": [
            "CPU times: user 46.3 ms, sys: 2.01 ms, total: 48.3 ms\n",
            "Wall time: 47.5 ms\n"
          ]
        }
      ],
      "source": [
        "%%time\n",
        "# Carregando os dados de trans_umap_2D.csv\n",
        "df=pd.read_csv('/content/data/trans_umap_2D.csv', index_col=0)"
      ],
      "id": "uJ4f16H_GhwW"
    },
    {
      "cell_type": "code",
      "execution_count": 56,
      "metadata": {
        "id": "c_jirojfGhwX",
        "outputId": "e9af5303-8d23-4142-b13d-8da7a30e437e",
        "colab": {
          "base_uri": "https://localhost:8080/"
        }
      },
      "outputs": [
        {
          "output_type": "stream",
          "name": "stdout",
          "text": [
            "CPU times: user 1.32 ms, sys: 0 ns, total: 1.32 ms\n",
            "Wall time: 1.32 ms\n"
          ]
        }
      ],
      "source": [
        "%%time\n",
        "# Criando as arrays a partir de trans_umap_2D.csv\n",
        "X = df.iloc[:,:2].values\n",
        "y = df.isFraud.values"
      ],
      "id": "c_jirojfGhwX"
    },
    {
      "cell_type": "code",
      "execution_count": 57,
      "metadata": {
        "id": "IT8rayW9GhwX"
      },
      "outputs": [],
      "source": [
        "modelos = (('Decision Trees', DecisionTreeClassifier(max_depth=7)),\n",
        "          ('SVC Linear',SVC(kernel=\"linear\", C=1.0, probability=True)),\n",
        "          ('SVC RBF',SVC(kernel=\"rbf\",gamma=0.05, C=1.0, probability=True)),\n",
        "          ('Gaussian Naives Bayes',GaussianNB()),\n",
        "          ('MLP Classifier',MLPClassifier(hidden_layer_sizes=(200,),alpha=0.0001,learning_rate_init=0.001,max_iter=100000)),\n",
        "          ('KNeighborsClassifier',KNeighborsClassifier(n_neighbors=70)),\n",
        "          ('Analise Discriminante Quadrática.',QuadraticDiscriminantAnalysis()),\n",
        "          ('Random Forrest',RandomForestClassifier(n_estimators=1500, max_depth=15)),\n",
        "          (' Adaboost',AdaBoostClassifier(n_estimators=1500)),\n",
        "          ('GradientBosting',GradientBoostingClassifier(n_estimators=1500, max_depth=11)),\n",
        "          ('XGBoost',XGBClassifier(n_estimators=1000, max_depth=11, random_state=42)),\n",
        "          (\"Histogram Based Gradient Boost\",HistGradientBoostingClassifier(max_iter=1000, learning_rate=0.01)))"
      ],
      "id": "IT8rayW9GhwX"
    },
    {
      "cell_type": "code",
      "execution_count": 58,
      "metadata": {
        "id": "NAO1pzx3GhwX"
      },
      "outputs": [],
      "source": [
        "mmetrics=[]"
      ],
      "id": "NAO1pzx3GhwX"
    },
    {
      "cell_type": "code",
      "execution_count": null,
      "metadata": {
        "id": "v2tF0c87GhwX"
      },
      "outputs": [],
      "source": [
        "%%time\n",
        "n = 1\n",
        "metrics = grafico_classificador(X, y, test_size=0.4, modelo=modelos[n][1], \n",
        "                                             nome_modelo=modelos[n][0], \n",
        "                                             nome_dataset='IEEE Fraud Detection', \n",
        "                                             pca=False, norm=False)\n",
        "mmetrics.append(metrics)"
      ],
      "id": "v2tF0c87GhwX"
    },
    {
      "cell_type": "code",
      "execution_count": null,
      "metadata": {
        "id": "0zgQzG9tGhwY"
      },
      "outputs": [],
      "source": [
        "mmetrics"
      ],
      "id": "0zgQzG9tGhwY"
    }
  ],
  "metadata": {
    "hide_input": false,
    "kernelspec": {
      "display_name": "Python 3",
      "language": "python",
      "name": "python3"
    },
    "language_info": {
      "codemirror_mode": {
        "name": "ipython",
        "version": 3
      },
      "file_extension": ".py",
      "mimetype": "text/x-python",
      "name": "python",
      "nbconvert_exporter": "python",
      "pygments_lexer": "ipython3",
      "version": "3.8.3"
    },
    "nbTranslate": {
      "displayLangs": [
        "*"
      ],
      "hotkey": "alt-t",
      "langInMainMenu": true,
      "sourceLang": "en",
      "targetLang": "fr",
      "useGoogleTranslate": true
    },
    "colab": {
      "name": "Teste_para_vaga_Cientista_de_Dados_Senior_Parte_1_A.ipynb",
      "provenance": [],
      "machine_shape": "hm",
      "include_colab_link": true
    },
    "accelerator": "GPU"
  },
  "nbformat": 4,
  "nbformat_minor": 5
}